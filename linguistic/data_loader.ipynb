{
 "cells": [
  {
   "cell_type": "code",
   "execution_count": 5,
   "metadata": {
    "collapsed": true
   },
   "outputs": [
    {
     "name": "stderr",
     "output_type": "stream",
     "text": [
      "/home/dexter/anaconda3/lib/python3.6/importlib/_bootstrap.py:219: RuntimeWarning: numpy.ufunc size changed, may indicate binary incompatibility. Expected 192 from C header, got 216 from PyObject\n",
      "  return f(*args, **kwds)\n",
      "/home/dexter/anaconda3/lib/python3.6/importlib/_bootstrap.py:219: RuntimeWarning: numpy.ufunc size changed, may indicate binary incompatibility. Expected 192 from C header, got 216 from PyObject\n",
      "  return f(*args, **kwds)\n"
     ]
    }
   ],
   "source": [
    "from torch.utils import data\n",
    "import torch\n",
    "import os\n",
    "from os import path\n",
    "import pandas as pd\n",
    "import numpy as np\n",
    "import librosa"
   ]
  },
  {
   "cell_type": "code",
   "execution_count": 3,
   "metadata": {},
   "outputs": [],
   "source": [
    "from hyperparameters import HyperParameters as hp"
   ]
  },
  {
   "cell_type": "code",
   "execution_count": 12,
   "metadata": {
    "scrolled": false
   },
   "outputs": [],
   "source": [
    "speaker_info = pd.read_csv('../data/VCTK-Corpus/speaker-info.txt', sep='\\t')"
   ]
  },
  {
   "cell_type": "code",
   "execution_count": 19,
   "metadata": {},
   "outputs": [],
   "source": [
    "file = '../data/VCTK-Corpus/speaker-info.txt'"
   ]
  },
  {
   "cell_type": "code",
   "execution_count": 29,
   "metadata": {},
   "outputs": [],
   "source": [
    "df = pd.DataFrame(columns=['ID', 'AGE', 'GENDER', 'ACCENTS', 'REGION', 'COMMENTS'])"
   ]
  },
  {
   "cell_type": "code",
   "execution_count": 48,
   "metadata": {},
   "outputs": [
    {
     "data": {
      "text/plain": [
       "['p230',\n",
       " 'p229',\n",
       " 'p234',\n",
       " 'p227',\n",
       " 'p233',\n",
       " 'p237',\n",
       " 'p225',\n",
       " 'p228',\n",
       " 'p226',\n",
       " 'p238',\n",
       " 'p239',\n",
       " 'p236',\n",
       " 'p240',\n",
       " 'p231',\n",
       " 'p232',\n",
       " 'p241']"
      ]
     },
     "execution_count": 48,
     "metadata": {},
     "output_type": "execute_result"
    }
   ],
   "source": [
    "hp.speakers"
   ]
  },
  {
   "cell_type": "code",
   "execution_count": null,
   "metadata": {},
   "outputs": [],
   "source": [
    "English    Southern  England\n",
    "p226  22  M    English    Surrey\n",
    "p227  38  M    English    Cumbria\n",
    "p228  22  F    English    Southern  England\n",
    "p229  23  F    English    Southern  England\n",
    "p230  22  F    English    Stockton-on-tees\n",
    "p231  23  F    English    Southern  England\n",
    "p232  23  M    English    Southern  England\n",
    "p233  23  F    English    Staffordshire\n",
    "p234  22  F    Scottish  West  Dumfries\n",
    "p236  23  F    English    Manchester\n",
    "p237  22  M    Scottish  Fife\n",
    "p238  22  F    NorthernIrish  Belfast\n",
    "p239  22  F    English    SW  England\n",
    "p240  21  F    English    Southern  England\n",
    "p241  21  M    Scottish  Perth"
   ]
  }
 ],
 "metadata": {
  "kernelspec": {
   "display_name": "Python 3",
   "language": "python",
   "name": "python3"
  },
  "language_info": {
   "codemirror_mode": {
    "name": "ipython",
    "version": 3
   },
   "file_extension": ".py",
   "mimetype": "text/x-python",
   "name": "python",
   "nbconvert_exporter": "python",
   "pygments_lexer": "ipython3",
   "version": "3.6.9"
  }
 },
 "nbformat": 4,
 "nbformat_minor": 2
}
