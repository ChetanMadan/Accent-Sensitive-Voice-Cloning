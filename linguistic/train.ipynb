{
 "cells": [
  {
   "cell_type": "code",
   "execution_count": 1,
   "metadata": {},
   "outputs": [],
   "source": [
    "import torch\n",
    "import librosa.display\n",
    "import librosa\n",
    "import os\n",
    "import numpy as np\n",
    "import matplotlib.pyplot as plt\n",
    "from tqdm import tqdm"
   ]
  },
  {
   "cell_type": "code",
   "execution_count": 2,
   "metadata": {},
   "outputs": [],
   "source": [
    "from torch.autograd import Variable\n",
    "import torch.nn as nn\n",
    "import torch.functional as F"
   ]
  },
  {
   "cell_type": "code",
   "execution_count": 3,
   "metadata": {},
   "outputs": [],
   "source": [
    "from hyperparameters import HyperParameters as hp"
   ]
  },
  {
   "cell_type": "code",
   "execution_count": 4,
   "metadata": {},
   "outputs": [
    {
     "data": {
      "text/plain": [
       "16"
      ]
     },
     "execution_count": 4,
     "metadata": {},
     "output_type": "execute_result"
    }
   ],
   "source": [
    "hp.num_speakers"
   ]
  },
  {
   "cell_type": "code",
   "execution_count": 5,
   "metadata": {},
   "outputs": [],
   "source": [
    "class Solver(object):\n",
    "    def __init__(self):\n",
    "        self.num_speakers = hp.num_speakers\n",
    "        self.device = torch.device('cuda' if torch.cuda.is_available() else 'cpu')\n",
    "        self.beta1 = hp.beta1\n",
    "        self.beta2 = hp.beta2\n",
    "        self.g_lr = hp.g_lr\n",
    "        self.d_lr = hp.d_lr\n",
    "        \n",
    "    def build_model(self):\n",
    "        self.D = Discriminator(num_speakers = self.num_speakers)\n",
    "        self.G = Generator(num_speakers = self.num_speakers)\n",
    "        \n",
    "        self.g_optim = torch.optim.Adam(G.parameters(), self.g_lr,\n",
    "                                       betas=[self.beta1, self.beta2])\n",
    "        self.d_optim = torch.optim.Adam(D.parameters(), self.d_lr,\n",
    "                                       betas=[self.beta1, self.beta2])\n",
    "        \n",
    "        self.G.to(self.device)\n",
    "        self.D.to(self.device)\n",
    "        \n",
    "    def"
   ]
  },
  {
   "cell_type": "code",
   "execution_count": null,
   "metadata": {},
   "outputs": [],
   "source": []
  }
 ],
 "metadata": {
  "kernelspec": {
   "display_name": "Python 3",
   "language": "python",
   "name": "python3"
  },
  "language_info": {
   "codemirror_mode": {
    "name": "ipython",
    "version": 3
   },
   "file_extension": ".py",
   "mimetype": "text/x-python",
   "name": "python",
   "nbconvert_exporter": "python",
   "pygments_lexer": "ipython3",
   "version": "3.6.9"
  }
 },
 "nbformat": 4,
 "nbformat_minor": 2
}
