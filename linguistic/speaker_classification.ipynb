{
 "cells": [
  {
   "cell_type": "code",
   "execution_count": 1,
   "metadata": {},
   "outputs": [],
   "source": [
    "import torch"
   ]
  },
  {
   "cell_type": "code",
   "execution_count": 7,
   "metadata": {},
   "outputs": [],
   "source": [
    "import matplotlib.pyplot as plt\n",
    "import librosa\n",
    "from torch import nn as nn\n",
    "from torch.functional import F\n",
    "import pandas as pd\n",
    "import os\n",
    "import numpy as np"
   ]
  },
  {
   "cell_type": "code",
   "execution_count": 10,
   "metadata": {},
   "outputs": [],
   "source": [
    "def pad_layer(inp, layer, pad_type='reflect'):\n",
    "    kernel_size = layer.kernel_size[0]\n",
    "    if kernel_size % 2 == 0:\n",
    "        pad = (kernel_size//2, kernel_size//2 - 1)\n",
    "    else:\n",
    "        pad = (kernel_size//2, kernel_size//2)\n",
    "    # padding\n",
    "    inp = F.pad(inp, \n",
    "            pad=pad,\n",
    "            mode=pad_type)\n",
    "    out = layer(inp)\n",
    "    return out"
   ]
  },
  {
   "cell_type": "code",
   "execution_count": 11,
   "metadata": {},
   "outputs": [],
   "source": [
    "def pad_layer_2d(inp, layer, pad_type='reflect'):\n",
    "    kernel_size = layer.kernel_size\n",
    "    if kernel_size[0] % 2 == 0:\n",
    "        pad_lr = [kernel_size[0]//2, kernel_size[0]//2 - 1]\n",
    "    else:\n",
    "        pad_lr = [kernel_size[0]//2, kernel_size[0]//2]\n",
    "    if kernel_size[1] % 2 == 0:\n",
    "        pad_ud = [kernel_size[1]//2, kernel_size[1]//2 - 1]\n",
    "    else:\n",
    "        pad_ud = [kernel_size[1]//2, kernel_size[1]//2]\n",
    "    pad = tuple(pad_lr + pad_ud)\n",
    "    # padding\n",
    "    inp = F.pad(inp, \n",
    "            pad=pad,\n",
    "            mode=pad_type)\n",
    "    out = layer(inp)\n",
    "    return out"
   ]
  },
  {
   "cell_type": "code",
   "execution_count": null,
   "metadata": {},
   "outputs": [],
   "source": []
  },
  {
   "cell_type": "code",
   "execution_count": 15,
   "metadata": {},
   "outputs": [],
   "source": [
    "class SpeakerEncoder(nn.Module):\n",
    "    def __init__(self, c_in, c_h, c_out,kernel_size,\n",
    "                bank_size, bank_scale, c_bank,\n",
    "                n_conv_blocks, n_dense_blocks,\n",
    "                subsample, act, dropout_rate):\n",
    "        super(SpeakerEncoder, self).__init__()\n",
    "        self.c_in = c_in\n",
    "        self.c_h = c_h\n",
    "        self.c_out = c_out\n",
    "        self.kernel_size = kernel_size\n",
    "        self.n_conv_blocks = n_conv_blocks\n",
    "        self.n_dense_blocks = n_dense_blocks\n",
    "        self.subsample = subsample\n",
    "        \n",
    "        self.conv_bank = nn.ModuleList([nn.Conv1d(c_in, c_bank, kernel_size=k) for k in range(bank_scale, bank_size+1, bank_scale)])\n",
    "        in_channels = c_bank*(bank_size//bank_size)+c_in\n",
    "        self.in_conv_layer = nn.Conv1d(in_channels, c_h, kernel_size)\n",
    "        self.first_conv_layers = nn.ModuleList([nn.Conv1d(c_h, c_h, kernel_size = kernel_size) for _ in range(n_conv_blocks)])\n",
    "        self.second_conv_layers = nn.ModuleList([nn.Conv1d(c_h, c_h, kernel_size=kernel_size, stride=sub) \n",
    "            for sub, _ in zip(subsample, range(n_conv_blocks))])\n",
    "        self.pooling = nn.AdaptiveAvgPool1d(1)\n",
    "        self.first_dense_layers = nn.ModuleList([nn.Linear(c_h, c_h) for _ in range(n_dense_blocks)])\n",
    "        self.second_dense_layers = nn.ModuleList([nn.Linear(c_h, c_h) for _ in range(n_dense_blocks)])\n",
    "        self.output_layer = nn.Linear(c_h, c_out)\n",
    "        self.dropout = nn.Dropout(p=dropout_rate)\n",
    "        \n",
    "    def conv_blocks(self, inp):\n",
    "        out = inp\n",
    "        for i in range(self.n_conv_blocks):\n",
    "            y = pad_layer(out, self.first_conv_layers[i])\n",
    "            y = self.act(y)\n",
    "            y = self.dropout(y)\n",
    "            y = pad_layer(y, self.second_conv_layers[l])\n",
    "            y = self.act(y)\n",
    "            y = self.dropout(y)\n",
    "            if self.subsample[l]>1:\n",
    "                out = F.avg_pool1d(out, kernel_size = self.subsample[l], ceil_mode = True)\n",
    "            out = y+out\n",
    "        return out\n",
    "    def dense_blocks(self, inp):\n",
    "        out = inp\n",
    "        for l in range(self.n_dense_blocks):\n",
    "            y = self.first_dense_layers[l](out)\n",
    "            y = self.act(y)\n",
    "            y = self.dropout(y)\n",
    "            y = self.second_dense_layers[l](y)\n",
    "            y = self.act(y)\n",
    "            y = self.dropout(y)\n",
    "        out = y+out\n",
    "        return out\n",
    "    \n",
    "    def forward(self, x):\n",
    "        out = conv_bank(x, self.conv_bank, act = self.act)\n",
    "        out = pad_layer(out, self.in_conv_layer)\n",
    "        out = self.act(out)\n",
    "        out = self.conv_blocks(out)\n",
    "        out = self.pooling(out).squeeze(2)\n",
    "        out = self.dense_blocks(out)\n",
    "        out = self.output_layer(out)\n",
    "        return out"
   ]
  },
  {
   "cell_type": "code",
   "execution_count": null,
   "metadata": {},
   "outputs": [],
   "source": []
  }
 ],
 "metadata": {
  "kernelspec": {
   "display_name": "Python 3",
   "language": "python",
   "name": "python3"
  },
  "language_info": {
   "codemirror_mode": {
    "name": "ipython",
    "version": 3
   },
   "file_extension": ".py",
   "mimetype": "text/x-python",
   "name": "python",
   "nbconvert_exporter": "python",
   "pygments_lexer": "ipython3",
   "version": "3.6.9"
  }
 },
 "nbformat": 4,
 "nbformat_minor": 2
}
