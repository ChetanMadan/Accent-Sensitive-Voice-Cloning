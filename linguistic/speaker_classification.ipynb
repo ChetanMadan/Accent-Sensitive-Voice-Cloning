{
 "cells": [
  {
   "cell_type": "code",
   "execution_count": 1,
   "metadata": {},
   "outputs": [],
   "source": [
    "import torch"
   ]
  },
  {
   "cell_type": "code",
   "execution_count": 2,
   "metadata": {},
   "outputs": [],
   "source": [
    "import matplotlib.pyplot as plt\n",
    "import librosa\n",
    "from torch import nn as nn\n",
    "import torch.functional as F\n",
    "import pandas as pd\n",
    "import os\n",
    "import numpy as np"
   ]
  },
  {
   "cell_type": "code",
   "execution_count": null,
   "metadata": {},
   "outputs": [],
   "source": []
  },
  {
   "cell_type": "code",
   "execution_count": 5,
   "metadata": {},
   "outputs": [],
   "source": [
    "def pad_layer(inp, layer, pad_type='reflect'):\n",
    "    kernel_size = layer.kernel_size[0]\n",
    "    if kernel_size % 2 == 0:\n",
    "        pad = (kernel_size//2, kernel_size//2 - 1)\n",
    "    else:\n",
    "        pad = (kernel_size//2, kernel_size//2)\n",
    "    # padding\n",
    "    inp = F.pad(inp, \n",
    "            pad=pad,\n",
    "            mode=pad_type)\n",
    "    out = layer(inp)\n",
    "    return out"
   ]
  },
  {
   "cell_type": "code",
   "execution_count": 6,
   "metadata": {},
   "outputs": [],
   "source": [
    "def pad_layer_2d(inp, layer, pad_type='reflect'):\n",
    "    kernel_size = layer.kernel_size\n",
    "    if kernel_size[0] % 2 == 0:\n",
    "        pad_lr = [kernel_size[0]//2, kernel_size[0]//2 - 1]\n",
    "    else:\n",
    "        pad_lr = [kernel_size[0]//2, kernel_size[0]//2]\n",
    "    if kernel_size[1] % 2 == 0:\n",
    "        pad_ud = [kernel_size[1]//2, kernel_size[1]//2 - 1]\n",
    "    else:\n",
    "        pad_ud = [kernel_size[1]//2, kernel_size[1]//2]\n",
    "    pad = tuple(pad_lr + pad_ud)\n",
    "    # padding\n",
    "    inp = F.pad(inp, \n",
    "            pad=pad,\n",
    "            mode=pad_type)\n",
    "    out = layer(inp)\n",
    "    return out"
   ]
  },
  {
   "cell_type": "code",
   "execution_count": null,
   "metadata": {},
   "outputs": [],
   "source": []
  },
  {
   "cell_type": "code",
   "execution_count": 4,
   "metadata": {},
   "outputs": [],
   "source": [
    "class SpeakerEncoder(nn.Module):\n",
    "    def __init__(self, c_in, c_h, c_out,kernel_size\n",
    "                bank_size, bank_scale, c_bank,\n",
    "                n_conv_blocks, n_dense_blocks,\n",
    "                ):\n",
    "        super(SpeakerEncoder, self).__init__()\n",
    "        self.c_in = c_in\n",
    "        self.c_h = c_h\n",
    "        self.c_out = c_out\n",
    "        self.kernel_size = kernel_size\n",
    "        self.n_conv_blocks = n_conv_blocks\n",
    "        self.n_dense_blocks = n_dense_blocks\n",
    "        self.subsample = subsample\n",
    "        \n",
    "        self.conv_bank = nn.ModuleList([nn.Conv1d(c_in, c_bank, kernel_size=k) for k in range(bank_scale, bank_size+1, bank_scale)])\n",
    "        in_channels = c_bank*(bank_size//bank_size)+c_in\n",
    "        self.in_conv_layer = nn.Conv1d()"
   ]
  },
  {
   "cell_type": "code",
   "execution_count": null,
   "metadata": {},
   "outputs": [],
   "source": []
  }
 ],
 "metadata": {
  "kernelspec": {
   "display_name": "Python 3",
   "language": "python",
   "name": "python3"
  },
  "language_info": {
   "codemirror_mode": {
    "name": "ipython",
    "version": 3
   },
   "file_extension": ".py",
   "mimetype": "text/x-python",
   "name": "python",
   "nbconvert_exporter": "python",
   "pygments_lexer": "ipython3",
   "version": "3.6.9"
  }
 },
 "nbformat": 4,
 "nbformat_minor": 2
}
