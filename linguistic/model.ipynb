{
 "cells": [
  {
   "cell_type": "code",
   "execution_count": 2,
   "metadata": {},
   "outputs": [],
   "source": [
    "import torch\n",
    "import torch.functional as F\n",
    "import torch.nn as nn"
   ]
  },
  {
   "cell_type": "code",
   "execution_count": 3,
   "metadata": {},
   "outputs": [],
   "source": [
    "import os\n",
    "import pandas as pd\n",
    "import numpy as np\n",
    "import librosa\n",
    "import wave\n",
    "import matplotlib.pyplot as plt\n",
    "from IPython.display import Audio"
   ]
  },
  {
   "cell_type": "code",
   "execution_count": null,
   "metadata": {},
   "outputs": [],
   "source": []
  },
  {
   "cell_type": "code",
   "execution_count": null,
   "metadata": {},
   "outputs": [],
   "source": []
  },
  {
   "cell_type": "code",
   "execution_count": 4,
   "metadata": {},
   "outputs": [],
   "source": [
    "class Encoder(nn.Module):\n",
    "    def __init__(self, encoder):\n",
    "        self.encoder = encoder\n",
    "    \n",
    "    def load(self, target_network):\n",
    "        self.encoder.load_state_dict(target_network.state_dict())\n",
    "\n",
    "    def __call__(self, x):\n",
    "        return self.encoder(x)"
   ]
  },
  {
   "cell_type": "code",
   "execution_count": 5,
   "metadata": {},
   "outputs": [],
   "source": [
    "class Prenet(nn.Module):\n",
    "    def __init__(self, c_in, c_h, c_out, \n",
    "            kernel_size, n_conv_blocks, \n",
    "            subsample, act, dropout_rate):\n",
    "        super(Prenet, self).__init__()\n",
    "        self.act = get_act(act)\n",
    "        self.subsample = subsample\n",
    "        self.n_conv_blocks = n_conv_blocks\n",
    "        self.in_conv_layer = nn.Conv2d(1, c_h, kernel_size=kernel_size)\n",
    "        self.first_conv_layers = nn.ModuleList([nn.Conv2d(c_h, c_h, kernel_size=kernel_size) for _ \\\n",
    "                in range(n_conv_blocks)])\n",
    "        self.second_conv_layers = nn.ModuleList([nn.Conv2d(c_h, c_h, kernel_size=kernel_size, stride=sub) \n",
    "            for sub, _ in zip(subsample, range(n_conv_blocks))])\n",
    "        output_size = c_in\n",
    "        for l, sub in zip(range(n_conv_blocks), self.subsample):\n",
    "            output_size = ceil(output_size / sub)\n",
    "        self.out_conv_layer = nn.Conv1d(c_h * output_size, c_out, kernel_size=1)\n",
    "        self.dropout_layer = nn.Dropout(p=dropout_rate)\n",
    "        self.norm_layer = nn.InstanceNorm2d(c_h, affine=False)\n",
    "\n",
    "    def forward(self, x):\n",
    "        # reshape x to 4D\n",
    "        x = x.contiguous().view(x.size(0), 1, x.size(1), x.size(2))\n",
    "        out = pad_layer_2d(x, self.in_conv_layer)\n",
    "        out = self.act(out)\n",
    "        out = self.norm_layer(out)\n",
    "        for l in range(self.n_conv_blocks):\n",
    "            y = pad_layer_2d(out, self.first_conv_layers[l])\n",
    "            y = self.act(y)\n",
    "            y = self.norm_layer(y)\n",
    "            y = self.dropout_layer(y)\n",
    "            y = pad_layer_2d(y, self.second_conv_layers[l])\n",
    "            y = self.act(y)\n",
    "            y = self.norm_layer(y)\n",
    "            y = self.dropout_layer(y)\n",
    "            if self.subsample[l] > 1:\n",
    "                out = F.avg_pool2d(out, kernel_size=self.subsample[l], ceil_mode=True)\n",
    "            out = y + out\n",
    "        out = out.contiguous().view(out.size(0), out.size(1) * out.size(2), out.size(3))\n",
    "        out = pad_layer(out, self.out_conv_layer)\n",
    "        out = self.act(out)\n",
    "        return out"
   ]
  },
  {
   "cell_type": "code",
   "execution_count": null,
   "metadata": {},
   "outputs": [],
   "source": []
  }
 ],
 "metadata": {
  "kernelspec": {
   "display_name": "Python 3",
   "language": "python",
   "name": "python3"
  },
  "language_info": {
   "codemirror_mode": {
    "name": "ipython",
    "version": 3
   },
   "file_extension": ".py",
   "mimetype": "text/x-python",
   "name": "python",
   "nbconvert_exporter": "python",
   "pygments_lexer": "ipython3",
   "version": "3.6.9"
  }
 },
 "nbformat": 4,
 "nbformat_minor": 2
}
