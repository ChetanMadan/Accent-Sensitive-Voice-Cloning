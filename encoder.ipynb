{
 "cells": [
  {
   "cell_type": "code",
   "execution_count": 1,
   "metadata": {},
   "outputs": [
    {
     "name": "stderr",
     "output_type": "stream",
     "text": [
      "/home/dexter/Desktop/projects/Voice-Cloning/hparam.py:11: YAMLLoadWarning: calling yaml.load_all() without Loader=... is deprecated, as the default Loader is unsafe. Please read https://msg.pyyaml.org/load for full details.\n",
      "  for doc in docs:\n"
     ]
    }
   ],
   "source": [
    "import os\n",
    "import glob\n",
    "import random\n",
    "import time\n",
    "from utils import mfccs_and_spec\n",
    "import torch\n",
    "from tqdm import tqdm\n",
    "from torch.utils.data import DataLoader\n",
    "from torch.utils.tensorboard import SummaryWriter\n",
    "from random import shuffle\n",
    "from hparam import hparam as hp\n",
    "from torch.functional import F\n",
    "import torch.nn as nn\n",
    "from torch.utils.data import Dataset\n",
    "from torch.autograd import Variable, Function\n",
    "import torch.optim as optim\n",
    "from data_load import TripletSpeakerDataset\n",
    "from speech_embedder_net import SpeechEmbedder, GE2ELoss, get_centroids, get_cossim"
   ]
  },
  {
   "cell_type": "code",
   "execution_count": 2,
   "metadata": {},
   "outputs": [
    {
     "name": "stderr",
     "output_type": "stream",
     "text": [
      "Using TensorFlow backend.\n"
     ]
    }
   ],
   "source": [
    "import librosa \n",
    "import librosa.display\n",
    "import IPython\n",
    "import pickle \n",
    "import numpy as np\n",
    "import scipy \n",
    "import tensorflow as tf \n",
    "from sklearn.externals import joblib\n",
    "from tensorflow.python.client import device_lib\n",
    "from keras.layers import Dense, Dropout, BatchNormalization\n",
    "from keras.models import Sequential\n",
    "from keras import backend as K\n",
    "from keras.optimizers import Adam\n",
    "from tensorflow.saved_model import simple_save"
   ]
  },
  {
   "cell_type": "code",
   "execution_count": 3,
   "metadata": {},
   "outputs": [],
   "source": [
    "from utils import mfcc_for_accent\n",
    "from data_preprocess import get_spectrogram_tisv"
   ]
  },
  {
   "cell_type": "code",
   "execution_count": 4,
   "metadata": {},
   "outputs": [],
   "source": [
    "file_name = \"/home/dexter/Desktop/projects/Mini/data/VCTK-Corpus/wav48_silence_trimmed/p225/p225_001_mic2.flac\""
   ]
  },
  {
   "cell_type": "code",
   "execution_count": 4,
   "metadata": {},
   "outputs": [],
   "source": [
    "config = tf.ConfigProto(allow_soft_placement = True,\n",
    "                        device_count = {'CPU' : 6,\n",
    "                                       'GPU' : 0})"
   ]
  },
  {
   "cell_type": "code",
   "execution_count": 5,
   "metadata": {},
   "outputs": [],
   "source": [
    "session = tf.Session(config=config)\n",
    "K.set_session(session)"
   ]
  },
  {
   "cell_type": "code",
   "execution_count": 6,
   "metadata": {},
   "outputs": [],
   "source": [
    "def make_accent_model():\n",
    "    model = Sequential()\n",
    "\n",
    "    model.add(Dense(50, input_shape = (14976,), activation = 'relu',name='input'))\n",
    "    model.add(BatchNormalization())\n",
    "    model.add(Dropout(0.2))\n",
    "\n",
    "    model.add(Dense(75, activation = 'tanh', name='h1'))\n",
    "    model.add(BatchNormalization())\n",
    "    model.add(Dropout(0.2))\n",
    "\n",
    "    model.add(Dense(100,  activation = 'tanh',name = 'h2'))\n",
    "    model.add(BatchNormalization())\n",
    "    model.add(Dropout(0.2))\n",
    "\n",
    "    model.add(Dense(100,  activation = 'tanh', name = 'h3'))\n",
    "    model.add(BatchNormalization())\n",
    "    model.add(Dropout(0.2))\n",
    "\n",
    "    model.add(Dense(100,  activation = 'tanh', name = 'h4'))\n",
    "    model.add(BatchNormalization())\n",
    "    model.add(Dropout(0.2))\n",
    "\n",
    "    model.add(Dense(100,  activation = 'tanh', name = 'h5'))\n",
    "    model.add(BatchNormalization())\n",
    "    model.add(Dropout(0.2))\n",
    "\n",
    "    model.add(Dense(100,  activation = 'tanh', name ='h6'))\n",
    "    model.add(BatchNormalization())\n",
    "\n",
    "    model.add(Dense(3,  activation = 'softmax', name = 'output'))\n",
    "    return model"
   ]
  },
  {
   "cell_type": "code",
   "execution_count": 7,
   "metadata": {},
   "outputs": [],
   "source": [
    "##Mel spectrograms and MFCCs for Indians \n",
    "def get_accent_mfccs(path):\n",
    "    x, _ = librosa.load(path)\n",
    "    x, mf = mfcc_for_accent(x)\n",
    "    mf = mf.flatten()\n",
    "    #print(type(x))\n",
    "    # l.append(librosa.feature.mfcc(x, sr=f))\n",
    "    \n",
    "    dat = np.reshape(mf, (1,mf.shape[0]))\n",
    "    return x, dat"
   ]
  },
  {
   "cell_type": "code",
   "execution_count": 8,
   "metadata": {
    "scrolled": true
   },
   "outputs": [
    {
     "name": "stdout",
     "output_type": "stream",
     "text": [
      "WARNING:tensorflow:From /home/dexter/anaconda3/lib/python3.6/site-packages/tensorflow_core/python/ops/resource_variable_ops.py:1630: calling BaseResourceVariable.__init__ (from tensorflow.python.ops.resource_variable_ops) with constraint is deprecated and will be removed in a future version.\n",
      "Instructions for updating:\n",
      "If using Keras pass *_constraint arguments to layers.\n"
     ]
    }
   ],
   "source": [
    "\n",
    "embedder_net = SpeechEmbedder().to('cuda')\n",
    "embedder_net.load_state_dict(torch.load(hp.model.model_path))\n",
    "accent_net = make_accent_model()\n",
    "accent_net.load_weights('accent_block_with_scottish.h5')\n",
    "accent_net.pop()\n",
    "\n",
    "\n",
    "#wav, sr = librosa.load(file_name)\n",
    "\n",
    "def run_speaker_encoder(mfccs, embedder_net):\n",
    "    mel_db = torch.transpose(mfccs, 1,2)\n",
    "    #mel_db = torch.from_numpy(mel_db)\n",
    "    #print(mel_db.shape)\n",
    "    out = embedder_net(mel_db.to('cuda'))\n",
    "    return out"
   ]
  },
  {
   "cell_type": "code",
   "execution_count": null,
   "metadata": {},
   "outputs": [],
   "source": []
  },
  {
   "cell_type": "code",
   "execution_count": 17,
   "metadata": {},
   "outputs": [],
   "source": [
    "def get_both_embs(path):\n",
    "        #for path in enumerate(train_dataset):\n",
    "        _, accent_mfccs = get_accent_mfccs(path)\n",
    "        speaker_mfccs = get_spectrogram_tisv(path)\n",
    "        #print(accent_mfccs.shape)\n",
    "        print(speaker_mfccs.shape)\n",
    "        speaker_mfccs = Variable(torch.from_numpy(speaker_mfccs)).to('cuda')\n",
    "        speaker_emb = run_speaker_encoder(speaker_mfccs, embedder_net)\n",
    "        #print(speaker_emb.shape)\n",
    "        accent_emb = accent_net.predict(accent_mfccs)\n",
    "        #print(accent_emb.shape)\n",
    "        return speaker_emb.cpu().detach().numpy(), accent_emb"
   ]
  },
  {
   "cell_type": "code",
   "execution_count": 18,
   "metadata": {
    "scrolled": true
   },
   "outputs": [
    {
     "ename": "NameError",
     "evalue": "name 'file_name' is not defined",
     "output_type": "error",
     "traceback": [
      "\u001b[0;31m---------------------------------------------------------------------------\u001b[0m",
      "\u001b[0;31mNameError\u001b[0m                                 Traceback (most recent call last)",
      "\u001b[0;32m<ipython-input-18-777dc7d67eb3>\u001b[0m in \u001b[0;36m<module>\u001b[0;34m\u001b[0m\n\u001b[0;32m----> 1\u001b[0;31m \u001b[0msp\u001b[0m\u001b[0;34m,\u001b[0m \u001b[0mac\u001b[0m \u001b[0;34m=\u001b[0m \u001b[0mget_both_embs\u001b[0m\u001b[0;34m(\u001b[0m\u001b[0mfile_name\u001b[0m\u001b[0;34m)\u001b[0m\u001b[0;34m\u001b[0m\u001b[0;34m\u001b[0m\u001b[0m\n\u001b[0m",
      "\u001b[0;31mNameError\u001b[0m: name 'file_name' is not defined"
     ]
    }
   ],
   "source": [
    "sp, ac = get_both_embs(file_name)"
   ]
  },
  {
   "cell_type": "code",
   "execution_count": null,
   "metadata": {},
   "outputs": [],
   "source": []
  },
  {
   "cell_type": "code",
   "execution_count": 19,
   "metadata": {},
   "outputs": [],
   "source": [
    "dataset = TripletSpeakerDataset()\n",
    "data_loader = torch.utils.data.DataLoader(dataset, drop_last=True)"
   ]
  },
  {
   "cell_type": "code",
   "execution_count": 20,
   "metadata": {},
   "outputs": [
    {
     "name": "stdout",
     "output_type": "stream",
     "text": [
      "('data/Irish/p283/p283_040_mic2.flac',) ('data/Irish/p283/p283_396_mic1.flac',) ('data/Irish/p298/p298_324_mic1.flac',) ('data/Scottish/p237/p237_290_mic2.flac',) ('p283',) ('p298',) ('p283',) ('Irish',) ('Scottish',)\n",
      "('data/American/p299/p299_110_mic1.flac',) ('data/American/p299/p299_347_mic1.flac',) ('data/American/p300/p300_313_mic1.flac',) ('data/Scottish/p284/p284_324_mic1.flac',) ('p299',) ('p300',) ('p299',) ('American',) ('Scottish',)\n",
      "('data/Scottish/p284/p284_039_mic2.flac',) ('data/Scottish/p284/p284_386_mic2.flac',) ('data/Scottish/p237/p237_202_mic1.flac',) ('data/American/p301/p301_098_mic2.flac',) ('p284',) ('p237',) ('p284',) ('Scottish',) ('American',)\n",
      "('data/Scottish/p237/p237_292_mic2.flac',) ('data/Scottish/p237/p237_191_mic2.flac',) ('data/Scottish/p249/p249_178_mic2.flac',) ('data/Irish/p245/p245_119_mic2.flac',) ('p237',) ('p249',) ('p237',) ('Scottish',) ('Irish',)\n",
      "('data/American/p299/p299_302_mic1.flac',) ('data/American/p299/p299_151_mic2.flac',) ('data/American/p300/p300_170_mic1.flac',) ('data/Irish/p295/p295_412_mic2.flac',) ('p299',) ('p300',) ('p299',) ('American',) ('Irish',)\n",
      "('data/American/p301/p301_207_mic1.flac',) ('data/American/p301/p301_196_mic1.flac',) ('data/American/p299/p299_091_mic1.flac',) ('data/Irish/p283/p283_031_mic1.flac',) ('p301',) ('p299',) ('p301',) ('American',) ('Irish',)\n",
      "('data/Indian/p376/p376_085_mic1.flac',) ('data/Indian/p376/p376_302_mic1.flac',) ('data/Indian/p248/p248_178_mic2.flac',) ('data/American/p301/p301_371_mic1.flac',) ('p376',) ('p248',) ('p376',) ('Indian',) ('American',)\n",
      "('data/Irish/p295/p295_052_mic2.flac',) ('data/Irish/p295/p295_401_mic1.flac',) ('data/Irish/p283/p283_293_mic2.flac',) ('data/Indian/p376/p376_334_mic2.flac',) ('p295',) ('p283',) ('p295',) ('Irish',) ('Indian',)\n",
      "('data/Scottish/p249/p249_134_mic1.flac',) ('data/Scottish/p249/p249_173_mic1.flac',) ('data/Scottish/p284/p284_391_mic1.flac',) ('data/Irish/p295/p295_029_mic2.flac',) ('p249',) ('p284',) ('p249',) ('Scottish',) ('Irish',)\n",
      "('data/Scottish/p284/p284_151_mic1.flac',) ('data/Scottish/p284/p284_164_mic1.flac',) ('data/Scottish/p234/p234_320_mic2.flac',) ('data/Irish/p298/p298_068_mic1.flac',) ('p284',) ('p234',) ('p284',) ('Scottish',) ('Irish',)\n",
      "('data/American/p300/p300_324_mic1.flac',) ('data/American/p300/p300_063_mic2.flac',) ('data/American/p299/p299_103_mic1.flac',) ('data/Irish/p295/p295_162_mic2.flac',) ('p300',) ('p299',) ('p300',) ('American',) ('Irish',)\n",
      "('data/Indian/p376/p376_011_mic2.flac',) ('data/Indian/p376/p376_293_mic2.flac',) ('data/Indian/p251/p251_265_mic1.flac',) ('data/American/p299/p299_209_mic1.flac',) ('p376',) ('p251',) ('p376',) ('Indian',) ('American',)\n",
      "('data/Irish/p298/p298_383_mic2.flac',) ('data/Irish/p298/p298_378_mic1.flac',) ('data/Irish/p295/p295_120_mic2.flac',) ('data/Indian/p248/p248_007_mic2.flac',) ('p298',) ('p295',) ('p298',) ('Irish',) ('Indian',)\n",
      "('data/Irish/p283/p283_079_mic1.flac',) ('data/Irish/p283/p283_285_mic1.flac',) ('data/Irish/p295/p295_108_mic2.flac',) ('data/American/p301/p301_261_mic2.flac',) ('p283',) ('p295',) ('p283',) ('Irish',) ('American',)\n",
      "('data/American/p300/p300_256_mic2.flac',) ('data/American/p300/p300_265_mic1.flac',) ('data/American/p299/p299_322_mic1.flac',) ('data/Indian/p251/p251_207_mic1.flac',) ('p300',) ('p299',) ('p300',) ('American',) ('Indian',)\n",
      "('data/American/p299/p299_304_mic1.flac',) ('data/American/p299/p299_086_mic1.flac',) ('data/American/p301/p301_163_mic2.flac',) ('data/Indian/p251/p251_232_mic1.flac',) ('p299',) ('p301',) ('p299',) ('American',) ('Indian',)\n",
      "('data/American/p301/p301_011_mic2.flac',) ('data/American/p301/p301_114_mic2.flac',) ('data/American/p300/p300_256_mic2.flac',) ('data/Indian/p248/p248_247_mic1.flac',) ('p301',) ('p300',) ('p301',) ('American',) ('Indian',)\n",
      "('data/Irish/p245/p245_137_mic1.flac',) ('data/Irish/p245/p245_234_mic2.flac',) ('data/Irish/p283/p283_303_mic1.flac',) ('data/Indian/p248/p248_372_mic1.flac',) ('p245',) ('p283',) ('p245',) ('Irish',) ('Indian',)\n",
      "('data/Scottish/p234/p234_029_mic2.flac',) ('data/Scottish/p234/p234_085_mic1.flac',) ('data/Scottish/p237/p237_226_mic1.flac',) ('data/American/p300/p300_118_mic2.flac',) ('p234',) ('p237',) ('p234',) ('Scottish',) ('American',)\n",
      "('data/Indian/p376/p376_343_mic2.flac',) ('data/Indian/p376/p376_103_mic1.flac',) ('data/Indian/p251/p251_289_mic1.flac',) ('data/American/p300/p300_249_mic1.flac',) ('p376',) ('p251',) ('p376',) ('Indian',) ('American',)\n",
      "('data/American/p301/p301_234_mic2.flac',) ('data/American/p301/p301_385_mic2.flac',) ('data/American/p300/p300_186_mic1.flac',) ('data/Scottish/p249/p249_309_mic1.flac',) ('p301',) ('p300',) ('p301',) ('American',) ('Scottish',)\n",
      "('data/Indian/p248/p248_135_mic1.flac',) ('data/Indian/p248/p248_052_mic2.flac',) ('data/Indian/p376/p376_159_mic1.flac',) ('data/American/p299/p299_098_mic1.flac',) ('p248',) ('p376',) ('p248',) ('Indian',) ('American',)\n",
      "('data/Irish/p298/p298_319_mic2.flac',) ('data/Irish/p298/p298_096_mic1.flac',) ('data/Irish/p245/p245_173_mic2.flac',) ('data/Indian/p248/p248_290_mic1.flac',) ('p298',) ('p245',) ('p298',) ('Irish',) ('Indian',)\n",
      "('data/American/p300/p300_195_mic2.flac',) ('data/American/p300/p300_058_mic1.flac',) ('data/American/p301/p301_277_mic1.flac',) ('data/Scottish/p249/p249_083_mic2.flac',) ('p300',) ('p301',) ('p300',) ('American',) ('Scottish',)\n",
      "('data/American/p299/p299_062_mic2.flac',) ('data/American/p299/p299_265_mic2.flac',) ('data/American/p301/p301_392_mic1.flac',) ('data/Indian/p376/p376_364_mic1.flac',) ('p299',) ('p301',) ('p299',) ('American',) ('Indian',)\n",
      "('data/Indian/p251/p251_348_mic1.flac',) ('data/Indian/p251/p251_220_mic1.flac',) ('data/Indian/p376/p376_013_mic2.flac',) ('data/American/p299/p299_311_mic1.flac',) ('p251',) ('p376',) ('p251',) ('Indian',) ('American',)\n",
      "('data/Indian/p376/p376_326_mic2.flac',) ('data/Indian/p376/p376_034_mic2.flac',) ('data/Indian/p248/p248_188_mic1.flac',) ('data/Scottish/p234/p234_298_mic1.flac',) ('p376',) ('p248',) ('p376',) ('Indian',) ('Scottish',)\n",
      "('data/Indian/p376/p376_244_mic1.flac',) ('data/Indian/p376/p376_089_mic1.flac',) ('data/Indian/p248/p248_317_mic1.flac',) ('data/American/p299/p299_054_mic2.flac',) ('p376',) ('p248',) ('p376',) ('Indian',) ('American',)\n",
      "('data/American/p299/p299_270_mic2.flac',) ('data/American/p299/p299_396_mic1.flac',) ('data/American/p301/p301_105_mic1.flac',) ('data/Scottish/p234/p234_072_mic2.flac',) ('p299',) ('p301',) ('p299',) ('American',) ('Scottish',)\n",
      "('data/Scottish/p284/p284_342_mic2.flac',) ('data/Scottish/p284/p284_419_mic1.flac',) ('data/Scottish/p237/p237_069_mic1.flac',) ('data/Indian/p376/p376_100_mic2.flac',) ('p284',) ('p237',) ('p284',) ('Scottish',) ('Indian',)\n",
      "('data/Indian/p376/p376_069_mic2.flac',) ('data/Indian/p376/p376_050_mic2.flac',) ('data/Indian/p251/p251_201_mic1.flac',) ('data/American/p301/p301_176_mic2.flac',) ('p376',) ('p251',) ('p376',) ('Indian',) ('American',)\n",
      "('data/Indian/p376/p376_307_mic2.flac',) ('data/Indian/p376/p376_138_mic2.flac',) ('data/Indian/p248/p248_148_mic2.flac',) ('data/Scottish/p237/p237_240_mic1.flac',) ('p376',) ('p248',) ('p376',) ('Indian',) ('Scottish',)\n",
      "('data/Indian/p248/p248_074_mic2.flac',) ('data/Indian/p248/p248_168_mic1.flac',) ('data/Indian/p251/p251_013_mic1.flac',) ('data/American/p300/p300_312_mic2.flac',) ('p248',) ('p251',) ('p248',) ('Indian',) ('American',)\n",
      "('data/Scottish/p249/p249_291_mic1.flac',) ('data/Scottish/p249/p249_092_mic2.flac',) ('data/Scottish/p234/p234_163_mic1.flac',) ('data/Indian/p376/p376_409_mic1.flac',) ('p249',) ('p234',) ('p249',) ('Scottish',) ('Indian',)\n",
      "('data/Scottish/p234/p234_019_mic2.flac',) ('data/Scottish/p234/p234_310_mic1.flac',) ('data/Scottish/p237/p237_254_mic1.flac',) ('data/Indian/p376/p376_424_mic2.flac',) ('p234',) ('p237',) ('p234',) ('Scottish',) ('Indian',)\n",
      "('data/Indian/p251/p251_260_mic1.flac',) ('data/Indian/p251/p251_064_mic1.flac',) ('data/Indian/p376/p376_080_mic2.flac',) ('data/American/p301/p301_210_mic1.flac',) ('p251',) ('p376',) ('p251',) ('Indian',) ('American',)\n",
      "('data/Scottish/p249/p249_167_mic2.flac',) ('data/Scottish/p249/p249_340_mic2.flac',) ('data/Scottish/p234/p234_280_mic2.flac',) ('data/Irish/p283/p283_358_mic2.flac',) ('p249',) ('p234',) ('p249',) ('Scottish',) ('Irish',)\n",
      "('data/Scottish/p249/p249_035_mic2.flac',) ('data/Scottish/p249/p249_066_mic2.flac',) ('data/Scottish/p237/p237_302_mic1.flac',) ('data/Indian/p376/p376_150_mic2.flac',) ('p249',) ('p237',) ('p249',) ('Scottish',) ('Indian',)\n",
      "('data/American/p299/p299_004_mic2.flac',) ('data/American/p299/p299_210_mic1.flac',) ('data/American/p301/p301_086_mic1.flac',) ('data/Indian/p251/p251_178_mic1.flac',) ('p299',) ('p301',) ('p299',) ('American',) ('Indian',)\n",
      "('data/Scottish/p249/p249_236_mic2.flac',) ('data/Scottish/p249/p249_284_mic1.flac',) ('data/Scottish/p284/p284_359_mic2.flac',) ('data/Indian/p376/p376_077_mic1.flac',) ('p249',) ('p284',) ('p249',) ('Scottish',) ('Indian',)\n",
      "('data/Irish/p283/p283_352_mic1.flac',) ('data/Irish/p283/p283_062_mic2.flac',) ('data/Irish/p298/p298_062_mic2.flac',) ('data/Indian/p248/p248_359_mic2.flac',) ('p283',) ('p298',) ('p283',) ('Irish',) ('Indian',)\n",
      "('data/Indian/p248/p248_192_mic1.flac',) ('data/Indian/p248/p248_046_mic2.flac',) ('data/Indian/p251/p251_042_mic1.flac',) ('data/Irish/p283/p283_333_mic2.flac',) ('p248',) ('p251',) ('p248',) ('Indian',) ('Irish',)\n",
      "('data/Irish/p283/p283_343_mic2.flac',) ('data/Irish/p283/p283_078_mic2.flac',) ('data/Irish/p295/p295_126_mic2.flac',) ('data/Scottish/p237/p237_316_mic1.flac',) ('p283',) ('p295',) ('p283',) ('Irish',) ('Scottish',)\n",
      "('data/Scottish/p234/p234_125_mic2.flac',) ('data/Scottish/p234/p234_099_mic1.flac',) ('data/Scottish/p284/p284_188_mic2.flac',) ('data/Indian/p376/p376_423_mic2.flac',) ('p234',) ('p284',) ('p234',) ('Scottish',) ('Indian',)\n",
      "('data/Scottish/p249/p249_099_mic1.flac',) ('data/Scottish/p249/p249_300_mic1.flac',) ('data/Scottish/p234/p234_034_mic1.flac',) ('data/Indian/p248/p248_006_mic2.flac',) ('p249',) ('p234',) ('p249',) ('Scottish',) ('Indian',)\n",
      "('data/Scottish/p237/p237_351_mic2.flac',) ('data/Scottish/p237/p237_310_mic2.flac',) ('data/Scottish/p284/p284_099_mic1.flac',) ('data/Indian/p248/p248_153_mic1.flac',) ('p237',) ('p284',) ('p237',) ('Scottish',) ('Indian',)\n",
      "('data/Indian/p376/p376_423_mic1.flac',) ('data/Indian/p376/p376_076_mic2.flac',) ('data/Indian/p248/p248_019_mic2.flac',) ('data/American/p299/p299_352_mic1.flac',) ('p376',) ('p248',) ('p376',) ('Indian',) ('American',)\n",
      "('data/Scottish/p234/p234_196_mic1.flac',) ('data/Scottish/p234/p234_152_mic1.flac',) ('data/Scottish/p237/p237_095_mic1.flac',) ('data/Irish/p298/p298_057_mic1.flac',) ('p234',) ('p237',) ('p234',) ('Scottish',) ('Irish',)\n",
      "('data/Scottish/p249/p249_072_mic1.flac',) ('data/Scottish/p249/p249_219_mic2.flac',) ('data/Scottish/p237/p237_231_mic2.flac',) ('data/American/p299/p299_103_mic1.flac',) ('p249',) ('p237',) ('p249',) ('Scottish',) ('American',)\n",
      "('data/American/p299/p299_101_mic2.flac',) ('data/American/p299/p299_022_mic2.flac',) ('data/American/p300/p300_379_mic1.flac',) ('data/Scottish/p237/p237_087_mic1.flac',) ('p299',) ('p300',) ('p299',) ('American',) ('Scottish',)\n",
      "('data/Indian/p376/p376_290_mic2.flac',) ('data/Indian/p376/p376_148_mic1.flac',) ('data/Indian/p248/p248_028_mic2.flac',) ('data/Irish/p295/p295_082_mic2.flac',) ('p376',) ('p248',) ('p376',) ('Indian',) ('Irish',)\n",
      "('data/Irish/p295/p295_373_mic1.flac',) ('data/Irish/p295/p295_131_mic2.flac',) ('data/Irish/p283/p283_118_mic1.flac',) ('data/American/p299/p299_292_mic1.flac',) ('p295',) ('p283',) ('p295',) ('Irish',) ('American',)\n",
      "('data/Scottish/p237/p237_266_mic1.flac',) ('data/Scottish/p237/p237_080_mic1.flac',) ('data/Scottish/p234/p234_305_mic2.flac',) ('data/Indian/p248/p248_011_mic2.flac',) ('p237',) ('p234',) ('p237',) ('Scottish',) ('Indian',)\n",
      "('data/Irish/p298/p298_353_mic2.flac',) ('data/Irish/p298/p298_262_mic2.flac',) ('data/Irish/p295/p295_048_mic2.flac',) ('data/Scottish/p234/p234_135_mic1.flac',) ('p298',) ('p295',) ('p298',) ('Irish',) ('Scottish',)\n",
      "('data/American/p300/p300_186_mic2.flac',) ('data/American/p300/p300_233_mic1.flac',) ('data/American/p301/p301_393_mic2.flac',) ('data/Scottish/p284/p284_151_mic1.flac',) ('p300',) ('p301',) ('p300',) ('American',) ('Scottish',)\n",
      "('data/Scottish/p237/p237_301_mic1.flac',) ('data/Scottish/p237/p237_099_mic1.flac',) ('data/Scottish/p284/p284_239_mic2.flac',) ('data/Irish/p295/p295_184_mic2.flac',) ('p237',) ('p284',) ('p237',) ('Scottish',) ('Irish',)\n",
      "('data/American/p301/p301_031_mic1.flac',) ('data/American/p301/p301_186_mic2.flac',) ('data/American/p300/p300_322_mic1.flac',) ('data/Indian/p251/p251_169_mic2.flac',) ('p301',) ('p300',) ('p301',) ('American',) ('Indian',)\n",
      "('data/Scottish/p284/p284_124_mic2.flac',) ('data/Scottish/p284/p284_010_mic2.flac',) ('data/Scottish/p249/p249_308_mic2.flac',) ('data/Indian/p248/p248_055_mic2.flac',) ('p284',) ('p249',) ('p284',) ('Scottish',) ('Indian',)\n",
      "('data/American/p301/p301_028_mic2.flac',) ('data/American/p301/p301_089_mic1.flac',) ('data/American/p300/p300_342_mic1.flac',) ('data/Scottish/p284/p284_160_mic2.flac',) ('p301',) ('p300',) ('p301',) ('American',) ('Scottish',)\n",
      "('data/Scottish/p234/p234_022_mic2.flac',) ('data/Scottish/p234/p234_254_mic2.flac',) ('data/Scottish/p249/p249_221_mic1.flac',) ('data/American/p299/p299_241_mic1.flac',) ('p234',) ('p249',) ('p234',) ('Scottish',) ('American',)\n",
      "('data/Irish/p283/p283_391_mic2.flac',) ('data/Irish/p283/p283_228_mic2.flac',) ('data/Irish/p298/p298_009_mic2.flac',) ('data/American/p300/p300_106_mic1.flac',) ('p283',) ('p298',) ('p283',) ('Irish',) ('American',)\n",
      "('data/Irish/p298/p298_384_mic1.flac',) ('data/Irish/p298/p298_237_mic1.flac',) ('data/Irish/p245/p245_065_mic2.flac',) ('data/American/p300/p300_331_mic2.flac',) ('p298',) ('p245',) ('p298',) ('Irish',) ('American',)\n",
      "('data/Indian/p251/p251_265_mic1.flac',) ('data/Indian/p251/p251_009_mic1.flac',) ('data/Indian/p248/p248_037_mic1.flac',) ('data/Irish/p245/p245_353_mic1.flac',) ('p251',) ('p248',) ('p251',) ('Indian',) ('Irish',)\n",
      "('data/Scottish/p284/p284_013_mic1.flac',) ('data/Scottish/p284/p284_114_mic2.flac',) ('data/Scottish/p249/p249_087_mic1.flac',) ('data/American/p301/p301_085_mic2.flac',) ('p284',) ('p249',) ('p284',) ('Scottish',) ('American',)\n",
      "('data/Indian/p376/p376_164_mic1.flac',) ('data/Indian/p376/p376_153_mic2.flac',) ('data/Indian/p248/p248_254_mic1.flac',) ('data/American/p300/p300_173_mic1.flac',) ('p376',) ('p248',) ('p376',) ('Indian',) ('American',)\n",
      "('data/American/p300/p300_256_mic1.flac',) ('data/American/p300/p300_293_mic1.flac',) ('data/American/p301/p301_167_mic1.flac',) ('data/Irish/p283/p283_152_mic1.flac',) ('p300',) ('p301',) ('p300',) ('American',) ('Irish',)\n",
      "('data/Indian/p251/p251_153_mic2.flac',) ('data/Indian/p251/p251_187_mic1.flac',) ('data/Indian/p376/p376_034_mic2.flac',) ('data/American/p300/p300_006_mic2.flac',) ('p251',) ('p376',) ('p251',) ('Indian',) ('American',)\n",
      "('data/Indian/p251/p251_006_mic2.flac',) ('data/Indian/p251/p251_372_mic1.flac',) ('data/Indian/p376/p376_277_mic2.flac',) ('data/Irish/p283/p283_054_mic2.flac',) ('p251',) ('p376',) ('p251',) ('Indian',) ('Irish',)\n",
      "('data/American/p300/p300_334_mic1.flac',) ('data/American/p300/p300_254_mic2.flac',) ('data/American/p299/p299_357_mic2.flac',) ('data/Irish/p295/p295_234_mic2.flac',) ('p300',) ('p299',) ('p300',) ('American',) ('Irish',)\n",
      "('data/Irish/p245/p245_306_mic1.flac',) ('data/Irish/p245/p245_133_mic1.flac',) ('data/Irish/p298/p298_243_mic1.flac',) ('data/Scottish/p249/p249_211_mic1.flac',) ('p245',) ('p298',) ('p245',) ('Irish',) ('Scottish',)\n",
      "('data/Scottish/p284/p284_255_mic2.flac',) ('data/Scottish/p284/p284_369_mic1.flac',) ('data/Scottish/p234/p234_019_mic1.flac',) ('data/Indian/p248/p248_054_mic1.flac',) ('p284',) ('p234',) ('p284',) ('Scottish',) ('Indian',)\n",
      "('data/American/p299/p299_238_mic2.flac',) ('data/American/p299/p299_090_mic1.flac',) ('data/American/p301/p301_266_mic2.flac',) ('data/Scottish/p249/p249_274_mic2.flac',) ('p299',) ('p301',) ('p299',) ('American',) ('Scottish',)\n",
      "('data/Irish/p245/p245_017_mic2.flac',) ('data/Irish/p245/p245_167_mic1.flac',) ('data/Irish/p298/p298_124_mic1.flac',) ('data/Scottish/p234/p234_210_mic2.flac',) ('p245',) ('p298',) ('p245',) ('Irish',) ('Scottish',)\n",
      "('data/Scottish/p237/p237_286_mic1.flac',) ('data/Scottish/p237/p237_302_mic2.flac',) ('data/Scottish/p284/p284_225_mic2.flac',) ('data/American/p300/p300_124_mic1.flac',) ('p237',) ('p284',) ('p237',) ('Scottish',) ('American',)\n",
      "('data/Indian/p376/p376_369_mic1.flac',) ('data/Indian/p376/p376_269_mic1.flac',) ('data/Indian/p248/p248_324_mic2.flac',) ('data/Scottish/p249/p249_263_mic1.flac',) ('p376',) ('p248',) ('p376',) ('Indian',) ('Scottish',)\n",
      "('data/Irish/p298/p298_311_mic1.flac',) ('data/Irish/p298/p298_146_mic2.flac',) ('data/Irish/p283/p283_359_mic1.flac',) ('data/Indian/p376/p376_169_mic2.flac',) ('p298',) ('p283',) ('p298',) ('Irish',) ('Indian',)\n",
      "('data/American/p300/p300_222_mic2.flac',) ('data/American/p300/p300_319_mic2.flac',) ('data/American/p299/p299_166_mic1.flac',) ('data/Scottish/p284/p284_010_mic2.flac',) ('p300',) ('p299',) ('p300',) ('American',) ('Scottish',)\n",
      "('data/Irish/p283/p283_171_mic2.flac',) ('data/Irish/p283/p283_166_mic1.flac',) ('data/Irish/p245/p245_154_mic1.flac',) ('data/Indian/p251/p251_257_mic2.flac',) ('p283',) ('p245',) ('p283',) ('Irish',) ('Indian',)\n",
      "('data/Scottish/p237/p237_334_mic2.flac',) ('data/Scottish/p237/p237_114_mic2.flac',) ('data/Scottish/p234/p234_350_mic2.flac',) ('data/Irish/p283/p283_039_mic1.flac',) ('p237',) ('p234',) ('p237',) ('Scottish',) ('Irish',)\n",
      "('data/Scottish/p234/p234_240_mic2.flac',) ('data/Scottish/p234/p234_174_mic1.flac',) ('data/Scottish/p284/p284_158_mic1.flac',) ('data/American/p300/p300_391_mic1.flac',) ('p234',) ('p284',) ('p234',) ('Scottish',) ('American',)\n",
      "('data/Scottish/p234/p234_348_mic2.flac',) ('data/Scottish/p234/p234_356_mic1.flac',) ('data/Scottish/p249/p249_010_mic1.flac',) ('data/American/p300/p300_282_mic2.flac',) ('p234',) ('p249',) ('p234',) ('Scottish',) ('American',)\n",
      "('data/Indian/p251/p251_340_mic1.flac',) ('data/Indian/p251/p251_135_mic2.flac',) ('data/Indian/p376/p376_187_mic1.flac',) ('data/Scottish/p249/p249_154_mic1.flac',) ('p251',) ('p376',) ('p251',) ('Indian',) ('Scottish',)\n",
      "('data/American/p300/p300_108_mic2.flac',) ('data/American/p300/p300_047_mic2.flac',) ('data/American/p301/p301_216_mic2.flac',) ('data/Scottish/p237/p237_074_mic1.flac',) ('p300',) ('p301',) ('p300',) ('American',) ('Scottish',)\n",
      "('data/American/p300/p300_076_mic2.flac',) ('data/American/p300/p300_352_mic2.flac',) ('data/American/p301/p301_408_mic2.flac',) ('data/Scottish/p234/p234_046_mic1.flac',) ('p300',) ('p301',) ('p300',) ('American',) ('Scottish',)\n",
      "('data/Indian/p248/p248_340_mic2.flac',) ('data/Indian/p248/p248_298_mic1.flac',) ('data/Indian/p251/p251_033_mic2.flac',) ('data/American/p301/p301_247_mic1.flac',) ('p248',) ('p251',) ('p248',) ('Indian',) ('American',)\n",
      "('data/Scottish/p249/p249_035_mic1.flac',) ('data/Scottish/p249/p249_041_mic2.flac',) ('data/Scottish/p237/p237_005_mic1.flac',) ('data/American/p299/p299_076_mic2.flac',) ('p249',) ('p237',) ('p249',) ('Scottish',) ('American',)\n",
      "('data/American/p301/p301_387_mic1.flac',) ('data/American/p301/p301_203_mic1.flac',) ('data/American/p299/p299_174_mic1.flac',) ('data/Scottish/p237/p237_130_mic1.flac',) ('p301',) ('p299',) ('p301',) ('American',) ('Scottish',)\n",
      "('data/Scottish/p237/p237_295_mic1.flac',) ('data/Scottish/p237/p237_096_mic2.flac',) ('data/Scottish/p284/p284_080_mic2.flac',) ('data/American/p299/p299_390_mic1.flac',) ('p237',) ('p284',) ('p237',) ('Scottish',) ('American',)\n",
      "('data/Indian/p251/p251_341_mic2.flac',) ('data/Indian/p251/p251_024_mic2.flac',) ('data/Indian/p248/p248_185_mic1.flac',) ('data/Irish/p283/p283_172_mic2.flac',) ('p251',) ('p248',) ('p251',) ('Indian',) ('Irish',)\n",
      "('data/Irish/p298/p298_077_mic1.flac',) ('data/Irish/p298/p298_164_mic1.flac',) ('data/Irish/p295/p295_241_mic2.flac',) ('data/Indian/p376/p376_343_mic2.flac',) ('p298',) ('p295',) ('p298',) ('Irish',) ('Indian',)\n",
      "('data/Indian/p376/p376_086_mic2.flac',) ('data/Indian/p376/p376_056_mic2.flac',) ('data/Indian/p251/p251_306_mic1.flac',) ('data/American/p299/p299_347_mic2.flac',) ('p376',) ('p251',) ('p376',) ('Indian',) ('American',)\n",
      "('data/Scottish/p284/p284_320_mic2.flac',) ('data/Scottish/p284/p284_155_mic2.flac',) ('data/Scottish/p249/p249_156_mic1.flac',) ('data/Irish/p245/p245_318_mic2.flac',) ('p284',) ('p249',) ('p284',) ('Scottish',) ('Irish',)\n",
      "('data/Scottish/p284/p284_038_mic1.flac',) ('data/Scottish/p284/p284_266_mic1.flac',) ('data/Scottish/p249/p249_349_mic1.flac',) ('data/American/p300/p300_168_mic2.flac',) ('p284',) ('p249',) ('p284',) ('Scottish',) ('American',)\n",
      "('data/Indian/p251/p251_338_mic2.flac',) ('data/Indian/p251/p251_168_mic2.flac',) ('data/Indian/p248/p248_113_mic2.flac',) ('data/Irish/p298/p298_272_mic1.flac',) ('p251',) ('p248',) ('p251',) ('Indian',) ('Irish',)\n",
      "('data/Scottish/p284/p284_171_mic1.flac',) ('data/Scottish/p284/p284_123_mic1.flac',) ('data/Scottish/p249/p249_181_mic1.flac',) ('data/Indian/p248/p248_159_mic2.flac',) ('p284',) ('p249',) ('p284',) ('Scottish',) ('Indian',)\n",
      "('data/Irish/p298/p298_222_mic2.flac',) ('data/Irish/p298/p298_055_mic1.flac',) ('data/Irish/p245/p245_220_mic2.flac',) ('data/American/p299/p299_128_mic1.flac',) ('p298',) ('p245',) ('p298',) ('Irish',) ('American',)\n",
      "('data/Irish/p295/p295_113_mic1.flac',) ('data/Irish/p295/p295_274_mic1.flac',) ('data/Irish/p298/p298_396_mic1.flac',) ('data/American/p299/p299_045_mic2.flac',) ('p295',) ('p298',) ('p295',) ('Irish',) ('American',)\n",
      "('data/Indian/p251/p251_101_mic2.flac',) ('data/Indian/p251/p251_357_mic2.flac',) ('data/Indian/p376/p376_419_mic1.flac',) ('data/Scottish/p249/p249_164_mic1.flac',) ('p251',) ('p376',) ('p251',) ('Indian',) ('Scottish',)\n",
      "('data/Irish/p298/p298_208_mic1.flac',) ('data/Irish/p298/p298_012_mic2.flac',) ('data/Irish/p245/p245_021_mic1.flac',) ('data/Indian/p251/p251_306_mic1.flac',) ('p298',) ('p245',) ('p298',) ('Irish',) ('Indian',)\n",
      "('data/Scottish/p237/p237_239_mic1.flac',) ('data/Scottish/p237/p237_238_mic2.flac',) ('data/Scottish/p249/p249_272_mic1.flac',) ('data/Irish/p245/p245_343_mic1.flac',) ('p237',) ('p249',) ('p237',) ('Scottish',) ('Irish',)\n",
      "('data/Indian/p251/p251_361_mic2.flac',) ('data/Indian/p251/p251_130_mic2.flac',) ('data/Indian/p376/p376_080_mic1.flac',) ('data/American/p301/p301_282_mic2.flac',) ('p251',) ('p376',) ('p251',) ('Indian',) ('American',)\n",
      "('data/Irish/p295/p295_010_mic1.flac',) ('data/Irish/p295/p295_084_mic2.flac',) ('data/Irish/p283/p283_150_mic2.flac',) ('data/American/p301/p301_259_mic1.flac',) ('p295',) ('p283',) ('p295',) ('Irish',) ('American',)\n",
      "('data/Scottish/p234/p234_349_mic1.flac',) ('data/Scottish/p234/p234_204_mic1.flac',) ('data/Scottish/p237/p237_196_mic1.flac',) ('data/Indian/p251/p251_165_mic2.flac',) ('p234',) ('p237',) ('p234',) ('Scottish',) ('Indian',)\n",
      "('data/Scottish/p284/p284_041_mic1.flac',) ('data/Scottish/p284/p284_419_mic2.flac',) ('data/Scottish/p237/p237_253_mic1.flac',) ('data/American/p299/p299_172_mic2.flac',) ('p284',) ('p237',) ('p284',) ('Scottish',) ('American',)\n",
      "('data/Indian/p248/p248_119_mic1.flac',) ('data/Indian/p248/p248_111_mic1.flac',) ('data/Indian/p376/p376_308_mic1.flac',) ('data/Irish/p295/p295_377_mic2.flac',) ('p248',) ('p376',) ('p248',) ('Indian',) ('Irish',)\n",
      "('data/American/p301/p301_070_mic2.flac',) ('data/American/p301/p301_198_mic2.flac',) ('data/American/p300/p300_279_mic1.flac',) ('data/Indian/p248/p248_259_mic1.flac',) ('p301',) ('p300',) ('p301',) ('American',) ('Indian',)\n",
      "('data/Scottish/p249/p249_223_mic1.flac',) ('data/Scottish/p249/p249_279_mic1.flac',) ('data/Scottish/p284/p284_046_mic2.flac',) ('data/American/p300/p300_177_mic2.flac',) ('p249',) ('p284',) ('p249',) ('Scottish',) ('American',)\n",
      "('data/Irish/p295/p295_251_mic2.flac',) ('data/Irish/p295/p295_199_mic2.flac',) ('data/Irish/p245/p245_078_mic2.flac',) ('data/Indian/p376/p376_195_mic2.flac',) ('p295',) ('p245',) ('p295',) ('Irish',) ('Indian',)\n",
      "('data/Scottish/p249/p249_288_mic1.flac',) ('data/Scottish/p249/p249_119_mic1.flac',) ('data/Scottish/p237/p237_020_mic2.flac',) ('data/American/p301/p301_037_mic2.flac',) ('p249',) ('p237',) ('p249',) ('Scottish',) ('American',)\n",
      "('data/Irish/p295/p295_171_mic2.flac',) ('data/Irish/p295/p295_289_mic2.flac',) ('data/Irish/p298/p298_095_mic1.flac',) ('data/Scottish/p249/p249_042_mic2.flac',) ('p295',) ('p298',) ('p295',) ('Irish',) ('Scottish',)\n"
     ]
    },
    {
     "name": "stdout",
     "output_type": "stream",
     "text": [
      "('data/American/p299/p299_323_mic1.flac',) ('data/American/p299/p299_081_mic1.flac',) ('data/American/p301/p301_254_mic2.flac',) ('data/Indian/p376/p376_298_mic1.flac',) ('p299',) ('p301',) ('p299',) ('American',) ('Indian',)\n",
      "('data/Scottish/p237/p237_183_mic1.flac',) ('data/Scottish/p237/p237_232_mic1.flac',) ('data/Scottish/p249/p249_048_mic1.flac',) ('data/Irish/p298/p298_155_mic2.flac',) ('p237',) ('p249',) ('p237',) ('Scottish',) ('Irish',)\n",
      "('data/Scottish/p284/p284_008_mic2.flac',) ('data/Scottish/p284/p284_077_mic2.flac',) ('data/Scottish/p234/p234_165_mic1.flac',) ('data/American/p301/p301_282_mic1.flac',) ('p284',) ('p234',) ('p284',) ('Scottish',) ('American',)\n",
      "('data/Scottish/p237/p237_077_mic2.flac',) ('data/Scottish/p237/p237_007_mic1.flac',) ('data/Scottish/p234/p234_028_mic1.flac',) ('data/American/p299/p299_071_mic2.flac',) ('p237',) ('p234',) ('p237',) ('Scottish',) ('American',)\n",
      "('data/Indian/p248/p248_235_mic2.flac',) ('data/Indian/p248/p248_070_mic2.flac',) ('data/Indian/p251/p251_232_mic1.flac',) ('data/American/p301/p301_139_mic2.flac',) ('p248',) ('p251',) ('p248',) ('Indian',) ('American',)\n",
      "('data/American/p299/p299_021_mic1.flac',) ('data/American/p299/p299_307_mic2.flac',) ('data/American/p300/p300_255_mic1.flac',) ('data/Indian/p248/p248_297_mic2.flac',) ('p299',) ('p300',) ('p299',) ('American',) ('Indian',)\n",
      "('data/Irish/p283/p283_287_mic1.flac',) ('data/Irish/p283/p283_226_mic2.flac',) ('data/Irish/p245/p245_051_mic1.flac',) ('data/American/p300/p300_242_mic1.flac',) ('p283',) ('p245',) ('p283',) ('Irish',) ('American',)\n",
      "('data/American/p300/p300_291_mic2.flac',) ('data/American/p300/p300_239_mic2.flac',) ('data/American/p301/p301_096_mic1.flac',) ('data/Indian/p376/p376_051_mic2.flac',) ('p300',) ('p301',) ('p300',) ('American',) ('Indian',)\n",
      "('data/Irish/p245/p245_310_mic2.flac',) ('data/Irish/p245/p245_324_mic2.flac',) ('data/Irish/p283/p283_178_mic1.flac',) ('data/American/p300/p300_045_mic2.flac',) ('p245',) ('p283',) ('p245',) ('Irish',) ('American',)\n",
      "('data/American/p299/p299_100_mic1.flac',) ('data/American/p299/p299_026_mic2.flac',) ('data/American/p301/p301_387_mic1.flac',) ('data/Scottish/p284/p284_343_mic2.flac',) ('p299',) ('p301',) ('p299',) ('American',) ('Scottish',)\n",
      "('data/Scottish/p284/p284_107_mic2.flac',) ('data/Scottish/p284/p284_093_mic1.flac',) ('data/Scottish/p234/p234_123_mic1.flac',) ('data/American/p299/p299_337_mic2.flac',) ('p284',) ('p234',) ('p284',) ('Scottish',) ('American',)\n",
      "('data/Irish/p298/p298_312_mic2.flac',) ('data/Irish/p298/p298_003_mic1.flac',) ('data/Irish/p245/p245_211_mic2.flac',) ('data/Scottish/p249/p249_240_mic2.flac',) ('p298',) ('p245',) ('p298',) ('Irish',) ('Scottish',)\n",
      "('data/American/p299/p299_104_mic1.flac',) ('data/American/p299/p299_160_mic2.flac',) ('data/American/p301/p301_157_mic1.flac',) ('data/Irish/p298/p298_082_mic2.flac',) ('p299',) ('p301',) ('p299',) ('American',) ('Irish',)\n",
      "('data/American/p300/p300_120_mic2.flac',) ('data/American/p300/p300_016_mic1.flac',) ('data/American/p299/p299_379_mic1.flac',) ('data/Indian/p376/p376_409_mic2.flac',) ('p300',) ('p299',) ('p300',) ('American',) ('Indian',)\n",
      "('data/Scottish/p237/p237_114_mic2.flac',) ('data/Scottish/p237/p237_170_mic1.flac',) ('data/Scottish/p234/p234_076_mic2.flac',) ('data/American/p299/p299_126_mic1.flac',) ('p237',) ('p234',) ('p237',) ('Scottish',) ('American',)\n",
      "('data/Indian/p248/p248_247_mic1.flac',) ('data/Indian/p248/p248_254_mic2.flac',) ('data/Indian/p251/p251_338_mic2.flac',) ('data/Irish/p295/p295_106_mic1.flac',) ('p248',) ('p251',) ('p248',) ('Indian',) ('Irish',)\n",
      "('data/Scottish/p234/p234_003_mic2.flac',) ('data/Scottish/p234/p234_018_mic1.flac',) ('data/Scottish/p237/p237_039_mic1.flac',) ('data/American/p301/p301_212_mic2.flac',) ('p234',) ('p237',) ('p234',) ('Scottish',) ('American',)\n",
      "('data/Irish/p298/p298_340_mic1.flac',) ('data/Irish/p298/p298_120_mic2.flac',) ('data/Irish/p295/p295_010_mic1.flac',) ('data/Indian/p248/p248_183_mic1.flac',) ('p298',) ('p295',) ('p298',) ('Irish',) ('Indian',)\n",
      "('data/Indian/p376/p376_258_mic2.flac',) ('data/Indian/p376/p376_084_mic2.flac',) ('data/Indian/p251/p251_119_mic2.flac',) ('data/American/p299/p299_347_mic2.flac',) ('p376',) ('p251',) ('p376',) ('Indian',) ('American',)\n",
      "('data/Indian/p251/p251_113_mic2.flac',) ('data/Indian/p251/p251_321_mic2.flac',) ('data/Indian/p248/p248_149_mic1.flac',) ('data/American/p299/p299_253_mic1.flac',) ('p251',) ('p248',) ('p251',) ('Indian',) ('American',)\n",
      "('data/Irish/p295/p295_096_mic2.flac',) ('data/Irish/p295/p295_015_mic1.flac',) ('data/Irish/p283/p283_130_mic2.flac',) ('data/American/p301/p301_029_mic2.flac',) ('p295',) ('p283',) ('p295',) ('Irish',) ('American',)\n",
      "('data/Scottish/p284/p284_245_mic2.flac',) ('data/Scottish/p284/p284_044_mic2.flac',) ('data/Scottish/p237/p237_150_mic1.flac',) ('data/Indian/p376/p376_145_mic2.flac',) ('p284',) ('p237',) ('p284',) ('Scottish',) ('Indian',)\n",
      "('data/Indian/p251/p251_135_mic2.flac',) ('data/Indian/p251/p251_019_mic2.flac',) ('data/Indian/p376/p376_369_mic2.flac',) ('data/Scottish/p249/p249_020_mic1.flac',) ('p251',) ('p376',) ('p251',) ('Indian',) ('Scottish',)\n",
      "('data/Indian/p376/p376_423_mic1.flac',) ('data/Indian/p376/p376_266_mic2.flac',) ('data/Indian/p248/p248_166_mic2.flac',) ('data/Irish/p298/p298_064_mic2.flac',) ('p376',) ('p248',) ('p376',) ('Indian',) ('Irish',)\n",
      "('data/Irish/p295/p295_106_mic2.flac',) ('data/Irish/p295/p295_141_mic2.flac',) ('data/Irish/p283/p283_261_mic1.flac',) ('data/American/p300/p300_350_mic1.flac',) ('p295',) ('p283',) ('p295',) ('Irish',) ('American',)\n",
      "('data/Indian/p376/p376_221_mic2.flac',) ('data/Indian/p376/p376_190_mic1.flac',) ('data/Indian/p248/p248_141_mic1.flac',) ('data/American/p300/p300_085_mic2.flac',) ('p376',) ('p248',) ('p376',) ('Indian',) ('American',)\n",
      "('data/Scottish/p249/p249_257_mic1.flac',) ('data/Scottish/p249/p249_034_mic1.flac',) ('data/Scottish/p284/p284_386_mic2.flac',) ('data/American/p299/p299_347_mic1.flac',) ('p249',) ('p284',) ('p249',) ('Scottish',) ('American',)\n",
      "('data/Indian/p248/p248_202_mic2.flac',) ('data/Indian/p248/p248_234_mic2.flac',) ('data/Indian/p251/p251_220_mic2.flac',) ('data/Scottish/p284/p284_033_mic1.flac',) ('p248',) ('p251',) ('p248',) ('Indian',) ('Scottish',)\n",
      "('data/American/p300/p300_307_mic2.flac',) ('data/American/p300/p300_165_mic2.flac',) ('data/American/p301/p301_330_mic1.flac',) ('data/Indian/p376/p376_209_mic1.flac',) ('p300',) ('p301',) ('p300',) ('American',) ('Indian',)\n",
      "('data/Scottish/p249/p249_142_mic1.flac',) ('data/Scottish/p249/p249_137_mic2.flac',) ('data/Scottish/p237/p237_178_mic1.flac',) ('data/American/p301/p301_051_mic1.flac',) ('p249',) ('p237',) ('p249',) ('Scottish',) ('American',)\n",
      "('data/Indian/p248/p248_108_mic2.flac',) ('data/Indian/p248/p248_141_mic2.flac',) ('data/Indian/p251/p251_342_mic1.flac',) ('data/American/p300/p300_123_mic2.flac',) ('p248',) ('p251',) ('p248',) ('Indian',) ('American',)\n",
      "('data/Irish/p298/p298_356_mic1.flac',) ('data/Irish/p298/p298_160_mic2.flac',) ('data/Irish/p283/p283_197_mic2.flac',) ('data/Scottish/p249/p249_048_mic2.flac',) ('p298',) ('p283',) ('p298',) ('Irish',) ('Scottish',)\n",
      "('data/American/p299/p299_209_mic2.flac',) ('data/American/p299/p299_383_mic1.flac',) ('data/American/p300/p300_067_mic2.flac',) ('data/Irish/p298/p298_367_mic2.flac',) ('p299',) ('p300',) ('p299',) ('American',) ('Irish',)\n",
      "('data/Irish/p298/p298_183_mic1.flac',) ('data/Irish/p298/p298_194_mic1.flac',) ('data/Irish/p295/p295_228_mic2.flac',) ('data/American/p300/p300_065_mic2.flac',) ('p298',) ('p295',) ('p298',) ('Irish',) ('American',)\n",
      "('data/Scottish/p249/p249_258_mic2.flac',) ('data/Scottish/p249/p249_193_mic2.flac',) ('data/Scottish/p237/p237_156_mic2.flac',) ('data/Indian/p248/p248_111_mic2.flac',) ('p249',) ('p237',) ('p249',) ('Scottish',) ('Indian',)\n",
      "('data/American/p299/p299_097_mic2.flac',) ('data/American/p299/p299_379_mic2.flac',) ('data/American/p300/p300_054_mic2.flac',) ('data/Scottish/p237/p237_018_mic1.flac',) ('p299',) ('p300',) ('p299',) ('American',) ('Scottish',)\n",
      "('data/Indian/p376/p376_415_mic2.flac',) ('data/Indian/p376/p376_242_mic2.flac',) ('data/Indian/p248/p248_136_mic1.flac',) ('data/American/p301/p301_396_mic1.flac',) ('p376',) ('p248',) ('p376',) ('Indian',) ('American',)\n",
      "('data/Scottish/p237/p237_322_mic2.flac',) ('data/Scottish/p237/p237_270_mic2.flac',) ('data/Scottish/p284/p284_341_mic2.flac',) ('data/Irish/p283/p283_319_mic1.flac',) ('p237',) ('p284',) ('p237',) ('Scottish',) ('Irish',)\n",
      "('data/Irish/p295/p295_037_mic1.flac',) ('data/Irish/p295/p295_238_mic2.flac',) ('data/Irish/p245/p245_024_mic2.flac',) ('data/American/p300/p300_137_mic1.flac',) ('p295',) ('p245',) ('p295',) ('Irish',) ('American',)\n",
      "('data/American/p300/p300_298_mic1.flac',) ('data/American/p300/p300_270_mic1.flac',) ('data/American/p301/p301_395_mic2.flac',) ('data/Scottish/p234/p234_254_mic2.flac',) ('p300',) ('p301',) ('p300',) ('American',) ('Scottish',)\n",
      "('data/Irish/p245/p245_260_mic1.flac',) ('data/Irish/p245/p245_203_mic1.flac',) ('data/Irish/p283/p283_338_mic1.flac',) ('data/American/p299/p299_015_mic1.flac',) ('p245',) ('p283',) ('p245',) ('Irish',) ('American',)\n",
      "('data/Indian/p251/p251_054_mic1.flac',) ('data/Indian/p251/p251_342_mic1.flac',) ('data/Indian/p376/p376_191_mic2.flac',) ('data/Irish/p295/p295_272_mic2.flac',) ('p251',) ('p376',) ('p251',) ('Indian',) ('Irish',)\n",
      "('data/Scottish/p237/p237_317_mic2.flac',) ('data/Scottish/p237/p237_186_mic2.flac',) ('data/Scottish/p249/p249_096_mic1.flac',) ('data/American/p299/p299_195_mic2.flac',) ('p237',) ('p249',) ('p237',) ('Scottish',) ('American',)\n",
      "('data/Irish/p298/p298_066_mic2.flac',) ('data/Irish/p298/p298_403_mic2.flac',) ('data/Irish/p245/p245_098_mic2.flac',) ('data/Indian/p251/p251_364_mic1.flac',) ('p298',) ('p245',) ('p298',) ('Irish',) ('Indian',)\n",
      "('data/Indian/p376/p376_389_mic2.flac',) ('data/Indian/p376/p376_296_mic1.flac',) ('data/Indian/p248/p248_354_mic2.flac',) ('data/American/p299/p299_367_mic1.flac',) ('p376',) ('p248',) ('p376',) ('Indian',) ('American',)\n",
      "('data/American/p300/p300_352_mic1.flac',) ('data/American/p300/p300_345_mic2.flac',) ('data/American/p301/p301_240_mic1.flac',) ('data/Indian/p251/p251_361_mic1.flac',) ('p300',) ('p301',) ('p300',) ('American',) ('Indian',)\n",
      "('data/American/p301/p301_305_mic1.flac',) ('data/American/p301/p301_054_mic2.flac',) ('data/American/p299/p299_281_mic1.flac',) ('data/Indian/p251/p251_179_mic2.flac',) ('p301',) ('p299',) ('p301',) ('American',) ('Indian',)\n",
      "('data/Indian/p251/p251_027_mic2.flac',) ('data/Indian/p251/p251_274_mic1.flac',) ('data/Indian/p376/p376_391_mic1.flac',) ('data/American/p299/p299_158_mic1.flac',) ('p251',) ('p376',) ('p251',) ('Indian',) ('American',)\n",
      "('data/Indian/p376/p376_417_mic1.flac',) ('data/Indian/p376/p376_302_mic2.flac',) ('data/Indian/p248/p248_197_mic2.flac',) ('data/American/p300/p300_390_mic1.flac',) ('p376',) ('p248',) ('p376',) ('Indian',) ('American',)\n",
      "('data/Scottish/p237/p237_145_mic1.flac',) ('data/Scottish/p237/p237_007_mic2.flac',) ('data/Scottish/p234/p234_037_mic1.flac',) ('data/Irish/p298/p298_109_mic2.flac',) ('p237',) ('p234',) ('p237',) ('Scottish',) ('Irish',)\n",
      "('data/Irish/p283/p283_168_mic2.flac',) ('data/Irish/p283/p283_019_mic1.flac',) ('data/Irish/p245/p245_066_mic2.flac',) ('data/American/p301/p301_179_mic1.flac',) ('p283',) ('p245',) ('p283',) ('Irish',) ('American',)\n",
      "('data/Irish/p283/p283_266_mic1.flac',) ('data/Irish/p283/p283_404_mic1.flac',) ('data/Irish/p298/p298_196_mic2.flac',) ('data/American/p299/p299_224_mic1.flac',) ('p283',) ('p298',) ('p283',) ('Irish',) ('American',)\n",
      "('data/Scottish/p237/p237_155_mic1.flac',) ('data/Scottish/p237/p237_085_mic1.flac',) ('data/Scottish/p234/p234_098_mic2.flac',) ('data/Indian/p248/p248_174_mic1.flac',) ('p237',) ('p234',) ('p237',) ('Scottish',) ('Indian',)\n",
      "('data/Indian/p248/p248_295_mic2.flac',) ('data/Indian/p248/p248_312_mic2.flac',) ('data/Indian/p376/p376_284_mic2.flac',) ('data/American/p300/p300_077_mic1.flac',) ('p248',) ('p376',) ('p248',) ('Indian',) ('American',)\n",
      "('data/Scottish/p234/p234_323_mic2.flac',) ('data/Scottish/p234/p234_200_mic2.flac',) ('data/Scottish/p237/p237_133_mic2.flac',) ('data/Irish/p283/p283_287_mic1.flac',) ('p234',) ('p237',) ('p234',) ('Scottish',) ('Irish',)\n",
      "('data/Indian/p248/p248_226_mic1.flac',) ('data/Indian/p248/p248_073_mic2.flac',) ('data/Indian/p376/p376_139_mic1.flac',) ('data/Irish/p283/p283_131_mic2.flac',) ('p248',) ('p376',) ('p248',) ('Indian',) ('Irish',)\n",
      "('data/American/p300/p300_144_mic1.flac',) ('data/American/p300/p300_194_mic2.flac',) ('data/American/p299/p299_395_mic1.flac',) ('data/Scottish/p249/p249_136_mic2.flac',) ('p300',) ('p299',) ('p300',) ('American',) ('Scottish',)\n",
      "('data/Scottish/p234/p234_092_mic2.flac',) ('data/Scottish/p234/p234_044_mic1.flac',) ('data/Scottish/p237/p237_234_mic2.flac',) ('data/American/p299/p299_291_mic2.flac',) ('p234',) ('p237',) ('p234',) ('Scottish',) ('American',)\n",
      "('data/American/p299/p299_241_mic1.flac',) ('data/American/p299/p299_263_mic1.flac',) ('data/American/p300/p300_172_mic2.flac',) ('data/Indian/p248/p248_362_mic2.flac',) ('p299',) ('p300',) ('p299',) ('American',) ('Indian',)\n",
      "('data/American/p301/p301_110_mic1.flac',) ('data/American/p301/p301_264_mic1.flac',) ('data/American/p299/p299_123_mic2.flac',) ('data/Scottish/p249/p249_252_mic2.flac',) ('p301',) ('p299',) ('p301',) ('American',) ('Scottish',)\n",
      "('data/American/p299/p299_272_mic1.flac',) ('data/American/p299/p299_369_mic2.flac',) ('data/American/p300/p300_001_mic2.flac',) ('data/Scottish/p234/p234_007_mic2.flac',) ('p299',) ('p300',) ('p299',) ('American',) ('Scottish',)\n",
      "('data/American/p300/p300_334_mic2.flac',) ('data/American/p300/p300_194_mic1.flac',) ('data/American/p301/p301_189_mic2.flac',) ('data/Irish/p283/p283_465_mic2.flac',) ('p300',) ('p301',) ('p300',) ('American',) ('Irish',)\n",
      "('data/Scottish/p249/p249_351_mic1.flac',) ('data/Scottish/p249/p249_252_mic2.flac',) ('data/Scottish/p284/p284_403_mic2.flac',) ('data/Irish/p298/p298_395_mic1.flac',) ('p249',) ('p284',) ('p249',) ('Scottish',) ('Irish',)\n",
      "('data/American/p300/p300_238_mic2.flac',) ('data/American/p300/p300_350_mic1.flac',) ('data/American/p301/p301_221_mic2.flac',) ('data/Scottish/p249/p249_218_mic1.flac',) ('p300',) ('p301',) ('p300',) ('American',) ('Scottish',)\n",
      "('data/American/p300/p300_210_mic1.flac',) ('data/American/p300/p300_348_mic1.flac',) ('data/American/p299/p299_160_mic2.flac',) ('data/Scottish/p284/p284_294_mic2.flac',) ('p300',) ('p299',) ('p300',) ('American',) ('Scottish',)\n",
      "('data/Indian/p376/p376_128_mic1.flac',) ('data/Indian/p376/p376_363_mic1.flac',) ('data/Indian/p251/p251_171_mic1.flac',) ('data/Irish/p295/p295_018_mic1.flac',) ('p376',) ('p251',) ('p376',) ('Indian',) ('Irish',)\n",
      "('data/Scottish/p237/p237_153_mic2.flac',) ('data/Scottish/p237/p237_127_mic1.flac',) ('data/Scottish/p234/p234_049_mic1.flac',) ('data/Irish/p295/p295_314_mic1.flac',) ('p237',) ('p234',) ('p237',) ('Scottish',) ('Irish',)\n",
      "('data/Indian/p376/p376_005_mic2.flac',) ('data/Indian/p376/p376_202_mic1.flac',) ('data/Indian/p248/p248_269_mic1.flac',) ('data/American/p300/p300_152_mic2.flac',) ('p376',) ('p248',) ('p376',) ('Indian',) ('American',)\n",
      "('data/American/p300/p300_125_mic2.flac',) ('data/American/p300/p300_007_mic1.flac',) ('data/American/p299/p299_217_mic2.flac',) ('data/Indian/p248/p248_009_mic1.flac',) ('p300',) ('p299',) ('p300',) ('American',) ('Indian',)\n",
      "('data/Scottish/p237/p237_292_mic1.flac',) ('data/Scottish/p237/p237_243_mic2.flac',) ('data/Scottish/p284/p284_329_mic2.flac',) ('data/Indian/p376/p376_419_mic2.flac',) ('p237',) ('p284',) ('p237',) ('Scottish',) ('Indian',)\n",
      "('data/Scottish/p234/p234_015_mic1.flac',) ('data/Scottish/p234/p234_188_mic2.flac',) ('data/Scottish/p237/p237_140_mic1.flac',) ('data/American/p299/p299_282_mic2.flac',) ('p234',) ('p237',) ('p234',) ('Scottish',) ('American',)\n",
      "('data/Indian/p248/p248_261_mic2.flac',) ('data/Indian/p248/p248_142_mic2.flac',) ('data/Indian/p251/p251_067_mic2.flac',) ('data/American/p299/p299_142_mic1.flac',) ('p248',) ('p251',) ('p248',) ('Indian',) ('American',)\n",
      "('data/Scottish/p249/p249_229_mic1.flac',) ('data/Scottish/p249/p249_310_mic1.flac',) ('data/Scottish/p234/p234_053_mic1.flac',) ('data/Indian/p376/p376_270_mic1.flac',) ('p249',) ('p234',) ('p249',) ('Scottish',) ('Indian',)\n",
      "('data/Indian/p251/p251_352_mic1.flac',) ('data/Indian/p251/p251_225_mic1.flac',) ('data/Indian/p376/p376_311_mic1.flac',) ('data/American/p299/p299_220_mic1.flac',) ('p251',) ('p376',) ('p251',) ('Indian',) ('American',)\n",
      "('data/Irish/p283/p283_401_mic1.flac',) ('data/Irish/p283/p283_157_mic1.flac',) ('data/Irish/p245/p245_341_mic1.flac',) ('data/Scottish/p249/p249_218_mic2.flac',) ('p283',) ('p245',) ('p283',) ('Irish',) ('Scottish',)\n",
      "('data/Irish/p283/p283_160_mic2.flac',) ('data/Irish/p283/p283_034_mic1.flac',) ('data/Irish/p245/p245_297_mic2.flac',) ('data/Scottish/p234/p234_121_mic1.flac',) ('p283',) ('p245',) ('p283',) ('Irish',) ('Scottish',)\n",
      "('data/Scottish/p237/p237_173_mic2.flac',) ('data/Scottish/p237/p237_024_mic1.flac',) ('data/Scottish/p284/p284_422_mic1.flac',) ('data/American/p300/p300_392_mic2.flac',) ('p237',) ('p284',) ('p237',) ('Scottish',) ('American',)\n",
      "('data/American/p300/p300_230_mic2.flac',) ('data/American/p300/p300_154_mic1.flac',) ('data/American/p299/p299_008_mic1.flac',) ('data/Indian/p251/p251_055_mic1.flac',) ('p300',) ('p299',) ('p300',) ('American',) ('Indian',)\n",
      "('data/Irish/p245/p245_120_mic1.flac',) ('data/Irish/p245/p245_091_mic2.flac',) ('data/Irish/p283/p283_261_mic1.flac',) ('data/Indian/p376/p376_415_mic1.flac',) ('p245',) ('p283',) ('p245',) ('Irish',) ('Indian',)\n",
      "('data/Irish/p295/p295_144_mic2.flac',) ('data/Irish/p295/p295_317_mic1.flac',) ('data/Irish/p298/p298_276_mic1.flac',) ('data/Scottish/p234/p234_048_mic2.flac',) ('p295',) ('p298',) ('p295',) ('Irish',) ('Scottish',)\n",
      "('data/Scottish/p234/p234_003_mic1.flac',) ('data/Scottish/p234/p234_304_mic1.flac',) ('data/Scottish/p237/p237_134_mic1.flac',) ('data/Irish/p283/p283_413_mic2.flac',) ('p234',) ('p237',) ('p234',) ('Scottish',) ('Irish',)\n",
      "('data/American/p300/p300_081_mic1.flac',) ('data/American/p300/p300_327_mic1.flac',) ('data/American/p299/p299_317_mic1.flac',) ('data/Irish/p283/p283_404_mic1.flac',) ('p300',) ('p299',) ('p300',) ('American',) ('Irish',)\n",
      "('data/Scottish/p237/p237_026_mic2.flac',) ('data/Scottish/p237/p237_270_mic1.flac',) ('data/Scottish/p284/p284_195_mic2.flac',) ('data/Irish/p295/p295_387_mic2.flac',) ('p237',) ('p284',) ('p237',) ('Scottish',) ('Irish',)\n",
      "('data/Irish/p245/p245_127_mic2.flac',) ('data/Irish/p245/p245_146_mic1.flac',) ('data/Irish/p295/p295_213_mic2.flac',) ('data/Scottish/p284/p284_321_mic2.flac',) ('p245',) ('p295',) ('p245',) ('Irish',) ('Scottish',)\n",
      "('data/Indian/p251/p251_218_mic2.flac',) ('data/Indian/p251/p251_255_mic1.flac',) ('data/Indian/p248/p248_090_mic1.flac',) ('data/American/p299/p299_091_mic1.flac',) ('p251',) ('p248',) ('p251',) ('Indian',) ('American',)\n",
      "('data/American/p301/p301_006_mic1.flac',) ('data/American/p301/p301_080_mic1.flac',) ('data/American/p299/p299_003_mic1.flac',) ('data/Scottish/p284/p284_244_mic1.flac',) ('p301',) ('p299',) ('p301',) ('American',) ('Scottish',)\n",
      "('data/Indian/p248/p248_060_mic1.flac',) ('data/Indian/p248/p248_224_mic1.flac',) ('data/Indian/p251/p251_310_mic1.flac',) ('data/Irish/p295/p295_406_mic2.flac',) ('p248',) ('p251',) ('p248',) ('Indian',) ('Irish',)\n",
      "('data/American/p301/p301_037_mic2.flac',) ('data/American/p301/p301_072_mic2.flac',) ('data/American/p299/p299_155_mic1.flac',) ('data/Indian/p251/p251_276_mic2.flac',) ('p301',) ('p299',) ('p301',) ('American',) ('Indian',)\n",
      "('data/Irish/p283/p283_295_mic1.flac',) ('data/Irish/p283/p283_362_mic1.flac',) ('data/Irish/p245/p245_168_mic1.flac',) ('data/Indian/p376/p376_087_mic2.flac',) ('p283',) ('p245',) ('p283',) ('Irish',) ('Indian',)\n",
      "('data/Indian/p248/p248_301_mic2.flac',) ('data/Indian/p248/p248_184_mic1.flac',) ('data/Indian/p251/p251_251_mic2.flac',) ('data/American/p301/p301_125_mic1.flac',) ('p248',) ('p251',) ('p248',) ('Indian',) ('American',)\n",
      "('data/Irish/p298/p298_056_mic1.flac',) ('data/Irish/p298/p298_250_mic1.flac',) ('data/Irish/p283/p283_185_mic2.flac',) ('data/American/p301/p301_367_mic1.flac',) ('p298',) ('p283',) ('p298',) ('Irish',) ('American',)\n",
      "('data/Indian/p251/p251_232_mic2.flac',) ('data/Indian/p251/p251_023_mic1.flac',) ('data/Indian/p376/p376_103_mic2.flac',) ('data/Scottish/p249/p249_024_mic2.flac',) ('p251',) ('p376',) ('p251',) ('Indian',) ('Scottish',)\n",
      "('data/Irish/p283/p283_151_mic1.flac',) ('data/Irish/p283/p283_266_mic1.flac',) ('data/Irish/p295/p295_215_mic2.flac',) ('data/Indian/p248/p248_328_mic1.flac',) ('p283',) ('p295',) ('p283',) ('Irish',) ('Indian',)\n",
      "('data/American/p300/p300_222_mic2.flac',) ('data/American/p300/p300_032_mic1.flac',) ('data/American/p299/p299_106_mic1.flac',) ('data/Scottish/p284/p284_226_mic1.flac',) ('p300',) ('p299',) ('p300',) ('American',) ('Scottish',)\n",
      "('data/Scottish/p249/p249_345_mic2.flac',) ('data/Scottish/p249/p249_121_mic2.flac',) ('data/Scottish/p234/p234_118_mic2.flac',) ('data/Irish/p295/p295_101_mic1.flac',) ('p249',) ('p234',) ('p249',) ('Scottish',) ('Irish',)\n",
      "('data/American/p299/p299_041_mic1.flac',) ('data/American/p299/p299_226_mic1.flac',) ('data/American/p300/p300_086_mic1.flac',) ('data/Irish/p283/p283_132_mic2.flac',) ('p299',) ('p300',) ('p299',) ('American',) ('Irish',)\n",
      "('data/American/p301/p301_116_mic1.flac',) ('data/American/p301/p301_039_mic2.flac',) ('data/American/p299/p299_083_mic1.flac',) ('data/Scottish/p234/p234_262_mic1.flac',) ('p301',) ('p299',) ('p301',) ('American',) ('Scottish',)\n",
      "('data/Indian/p251/p251_190_mic2.flac',) ('data/Indian/p251/p251_155_mic2.flac',) ('data/Indian/p248/p248_166_mic2.flac',) ('data/Scottish/p237/p237_183_mic1.flac',) ('p251',) ('p248',) ('p251',) ('Indian',) ('Scottish',)\n",
      "('data/Irish/p283/p283_049_mic2.flac',) ('data/Irish/p283/p283_397_mic1.flac',) ('data/Irish/p295/p295_322_mic2.flac',) ('data/Scottish/p249/p249_323_mic1.flac',) ('p283',) ('p295',) ('p283',) ('Irish',) ('Scottish',)\n",
      "('data/American/p299/p299_162_mic2.flac',) ('data/American/p299/p299_312_mic2.flac',) ('data/American/p300/p300_337_mic2.flac',) ('data/Irish/p298/p298_006_mic1.flac',) ('p299',) ('p300',) ('p299',) ('American',) ('Irish',)\n",
      "('data/Scottish/p249/p249_051_mic2.flac',) ('data/Scottish/p249/p249_031_mic2.flac',) ('data/Scottish/p234/p234_101_mic1.flac',) ('data/Irish/p245/p245_186_mic1.flac',) ('p249',) ('p234',) ('p249',) ('Scottish',) ('Irish',)\n",
      "('data/Indian/p251/p251_103_mic2.flac',) ('data/Indian/p251/p251_097_mic2.flac',) ('data/Indian/p376/p376_170_mic2.flac',) ('data/Irish/p245/p245_231_mic2.flac',) ('p251',) ('p376',) ('p251',) ('Indian',) ('Irish',)\n",
      "('data/Scottish/p249/p249_168_mic1.flac',) ('data/Scottish/p249/p249_133_mic2.flac',) ('data/Scottish/p234/p234_259_mic1.flac',) ('data/Indian/p376/p376_130_mic1.flac',) ('p249',) ('p234',) ('p249',) ('Scottish',) ('Indian',)\n",
      "('data/Scottish/p237/p237_107_mic2.flac',) ('data/Scottish/p237/p237_213_mic2.flac',) ('data/Scottish/p284/p284_104_mic2.flac',) ('data/American/p301/p301_191_mic2.flac',) ('p237',) ('p284',) ('p237',) ('Scottish',) ('American',)\n",
      "('data/Indian/p251/p251_289_mic1.flac',) ('data/Indian/p251/p251_046_mic2.flac',) ('data/Indian/p248/p248_244_mic2.flac',) ('data/Scottish/p234/p234_310_mic2.flac',) ('p251',) ('p248',) ('p251',) ('Indian',) ('Scottish',)\n",
      "('data/American/p301/p301_376_mic2.flac',) ('data/American/p301/p301_316_mic2.flac',) ('data/American/p299/p299_350_mic2.flac',) ('data/Indian/p376/p376_061_mic1.flac',) ('p301',) ('p299',) ('p301',) ('American',) ('Indian',)\n",
      "('data/American/p301/p301_411_mic2.flac',) ('data/American/p301/p301_059_mic2.flac',) ('data/American/p300/p300_098_mic2.flac',) ('data/Irish/p283/p283_257_mic1.flac',) ('p301',) ('p300',) ('p301',) ('American',) ('Irish',)\n",
      "('data/Irish/p283/p283_443_mic2.flac',) ('data/Irish/p283/p283_450_mic2.flac',) ('data/Irish/p298/p298_034_mic2.flac',) ('data/Indian/p376/p376_029_mic1.flac',) ('p283',) ('p298',) ('p283',) ('Irish',) ('Indian',)\n",
      "('data/Indian/p251/p251_068_mic1.flac',) ('data/Indian/p251/p251_008_mic1.flac',) ('data/Indian/p376/p376_309_mic1.flac',) ('data/American/p301/p301_367_mic1.flac',) ('p251',) ('p376',) ('p251',) ('Indian',) ('American',)\n",
      "('data/American/p299/p299_167_mic1.flac',) ('data/American/p299/p299_355_mic1.flac',) ('data/American/p301/p301_318_mic1.flac',) ('data/Scottish/p249/p249_020_mic2.flac',) ('p299',) ('p301',) ('p299',) ('American',) ('Scottish',)\n"
     ]
    },
    {
     "name": "stdout",
     "output_type": "stream",
     "text": [
      "('data/Indian/p376/p376_048_mic1.flac',) ('data/Indian/p376/p376_338_mic2.flac',) ('data/Indian/p248/p248_281_mic1.flac',) ('data/Irish/p298/p298_390_mic1.flac',) ('p376',) ('p248',) ('p376',) ('Indian',) ('Irish',)\n",
      "('data/American/p300/p300_267_mic1.flac',) ('data/American/p300/p300_337_mic1.flac',) ('data/American/p299/p299_077_mic1.flac',) ('data/Scottish/p284/p284_183_mic1.flac',) ('p300',) ('p299',) ('p300',) ('American',) ('Scottish',)\n",
      "('data/Scottish/p234/p234_081_mic1.flac',) ('data/Scottish/p234/p234_100_mic2.flac',) ('data/Scottish/p249/p249_067_mic1.flac',) ('data/Irish/p283/p283_227_mic2.flac',) ('p234',) ('p249',) ('p234',) ('Scottish',) ('Irish',)\n",
      "('data/Scottish/p284/p284_309_mic1.flac',) ('data/Scottish/p284/p284_376_mic2.flac',) ('data/Scottish/p237/p237_111_mic2.flac',) ('data/Indian/p251/p251_282_mic1.flac',) ('p284',) ('p237',) ('p284',) ('Scottish',) ('Indian',)\n",
      "('data/American/p301/p301_232_mic2.flac',) ('data/American/p301/p301_137_mic1.flac',) ('data/American/p299/p299_070_mic2.flac',) ('data/Indian/p248/p248_091_mic1.flac',) ('p301',) ('p299',) ('p301',) ('American',) ('Indian',)\n",
      "('data/Scottish/p237/p237_059_mic2.flac',) ('data/Scottish/p237/p237_021_mic1.flac',) ('data/Scottish/p249/p249_295_mic1.flac',) ('data/Irish/p295/p295_365_mic1.flac',) ('p237',) ('p249',) ('p237',) ('Scottish',) ('Irish',)\n",
      "('data/Scottish/p284/p284_128_mic1.flac',) ('data/Scottish/p284/p284_115_mic1.flac',) ('data/Scottish/p234/p234_075_mic2.flac',) ('data/Indian/p248/p248_255_mic1.flac',) ('p284',) ('p234',) ('p284',) ('Scottish',) ('Indian',)\n",
      "('data/Scottish/p249/p249_231_mic1.flac',) ('data/Scottish/p249/p249_089_mic1.flac',) ('data/Scottish/p234/p234_212_mic2.flac',) ('data/Indian/p251/p251_134_mic1.flac',) ('p249',) ('p234',) ('p249',) ('Scottish',) ('Indian',)\n",
      "('data/Irish/p283/p283_151_mic1.flac',) ('data/Irish/p283/p283_262_mic1.flac',) ('data/Irish/p245/p245_304_mic1.flac',) ('data/Indian/p251/p251_294_mic1.flac',) ('p283',) ('p245',) ('p283',) ('Irish',) ('Indian',)\n",
      "('data/Scottish/p284/p284_354_mic2.flac',) ('data/Scottish/p284/p284_073_mic2.flac',) ('data/Scottish/p234/p234_318_mic1.flac',) ('data/Irish/p298/p298_025_mic2.flac',) ('p284',) ('p234',) ('p284',) ('Scottish',) ('Irish',)\n",
      "('data/Scottish/p237/p237_186_mic2.flac',) ('data/Scottish/p237/p237_039_mic2.flac',) ('data/Scottish/p284/p284_135_mic1.flac',) ('data/Irish/p245/p245_138_mic2.flac',) ('p237',) ('p284',) ('p237',) ('Scottish',) ('Irish',)\n",
      "('data/Irish/p298/p298_321_mic2.flac',) ('data/Irish/p298/p298_027_mic2.flac',) ('data/Irish/p283/p283_173_mic1.flac',) ('data/American/p300/p300_041_mic1.flac',) ('p298',) ('p283',) ('p298',) ('Irish',) ('American',)\n",
      "('data/Indian/p251/p251_258_mic1.flac',) ('data/Indian/p251/p251_347_mic2.flac',) ('data/Indian/p376/p376_169_mic1.flac',) ('data/American/p299/p299_290_mic2.flac',) ('p251',) ('p376',) ('p251',) ('Indian',) ('American',)\n",
      "('data/Indian/p248/p248_230_mic1.flac',) ('data/Indian/p248/p248_289_mic2.flac',) ('data/Indian/p251/p251_122_mic2.flac',) ('data/Scottish/p284/p284_290_mic2.flac',) ('p248',) ('p251',) ('p248',) ('Indian',) ('Scottish',)\n",
      "('data/Irish/p245/p245_342_mic2.flac',) ('data/Irish/p245/p245_212_mic2.flac',) ('data/Irish/p283/p283_240_mic1.flac',) ('data/Indian/p248/p248_098_mic2.flac',) ('p245',) ('p283',) ('p245',) ('Irish',) ('Indian',)\n",
      "('data/Indian/p251/p251_077_mic2.flac',) ('data/Indian/p251/p251_212_mic2.flac',) ('data/Indian/p248/p248_209_mic1.flac',) ('data/Irish/p295/p295_177_mic2.flac',) ('p251',) ('p248',) ('p251',) ('Indian',) ('Irish',)\n",
      "('data/Scottish/p237/p237_166_mic2.flac',) ('data/Scottish/p237/p237_316_mic2.flac',) ('data/Scottish/p284/p284_263_mic1.flac',) ('data/American/p301/p301_016_mic2.flac',) ('p237',) ('p284',) ('p237',) ('Scottish',) ('American',)\n",
      "('data/Indian/p376/p376_082_mic1.flac',) ('data/Indian/p376/p376_044_mic2.flac',) ('data/Indian/p251/p251_255_mic2.flac',) ('data/Irish/p295/p295_191_mic2.flac',) ('p376',) ('p251',) ('p376',) ('Indian',) ('Irish',)\n",
      "('data/Irish/p295/p295_002_mic1.flac',) ('data/Irish/p295/p295_030_mic2.flac',) ('data/Irish/p283/p283_251_mic1.flac',) ('data/Scottish/p234/p234_237_mic2.flac',) ('p295',) ('p283',) ('p295',) ('Irish',) ('Scottish',)\n",
      "('data/Indian/p248/p248_301_mic1.flac',) ('data/Indian/p248/p248_189_mic1.flac',) ('data/Indian/p376/p376_143_mic2.flac',) ('data/Irish/p245/p245_348_mic1.flac',) ('p248',) ('p376',) ('p248',) ('Indian',) ('Irish',)\n",
      "('data/American/p299/p299_391_mic2.flac',) ('data/American/p299/p299_082_mic1.flac',) ('data/American/p300/p300_038_mic2.flac',) ('data/Indian/p376/p376_349_mic1.flac',) ('p299',) ('p300',) ('p299',) ('American',) ('Indian',)\n",
      "('data/Scottish/p237/p237_272_mic1.flac',) ('data/Scottish/p237/p237_304_mic2.flac',) ('data/Scottish/p249/p249_155_mic2.flac',) ('data/Irish/p298/p298_007_mic2.flac',) ('p237',) ('p249',) ('p237',) ('Scottish',) ('Irish',)\n",
      "('data/Scottish/p249/p249_207_mic2.flac',) ('data/Scottish/p249/p249_075_mic1.flac',) ('data/Scottish/p234/p234_046_mic1.flac',) ('data/Indian/p251/p251_146_mic1.flac',) ('p249',) ('p234',) ('p249',) ('Scottish',) ('Indian',)\n",
      "('data/Irish/p295/p295_050_mic2.flac',) ('data/Irish/p295/p295_337_mic1.flac',) ('data/Irish/p245/p245_283_mic1.flac',) ('data/American/p299/p299_138_mic1.flac',) ('p295',) ('p245',) ('p295',) ('Irish',) ('American',)\n",
      "('data/Scottish/p237/p237_308_mic2.flac',) ('data/Scottish/p237/p237_104_mic1.flac',) ('data/Scottish/p249/p249_067_mic2.flac',) ('data/American/p299/p299_106_mic1.flac',) ('p237',) ('p249',) ('p237',) ('Scottish',) ('American',)\n",
      "('data/Irish/p295/p295_336_mic1.flac',) ('data/Irish/p295/p295_007_mic2.flac',) ('data/Irish/p245/p245_124_mic1.flac',) ('data/Scottish/p284/p284_365_mic1.flac',) ('p295',) ('p245',) ('p295',) ('Irish',) ('Scottish',)\n",
      "('data/Scottish/p237/p237_335_mic2.flac',) ('data/Scottish/p237/p237_264_mic2.flac',) ('data/Scottish/p284/p284_235_mic2.flac',) ('data/Indian/p376/p376_002_mic1.flac',) ('p237',) ('p284',) ('p237',) ('Scottish',) ('Indian',)\n",
      "('data/Indian/p376/p376_229_mic1.flac',) ('data/Indian/p376/p376_309_mic2.flac',) ('data/Indian/p248/p248_230_mic1.flac',) ('data/American/p299/p299_294_mic2.flac',) ('p376',) ('p248',) ('p376',) ('Indian',) ('American',)\n",
      "('data/Indian/p248/p248_341_mic2.flac',) ('data/Indian/p248/p248_036_mic1.flac',) ('data/Indian/p251/p251_336_mic1.flac',) ('data/American/p299/p299_062_mic1.flac',) ('p248',) ('p251',) ('p248',) ('Indian',) ('American',)\n",
      "('data/American/p301/p301_132_mic1.flac',) ('data/American/p301/p301_333_mic1.flac',) ('data/American/p299/p299_353_mic2.flac',) ('data/Scottish/p249/p249_096_mic2.flac',) ('p301',) ('p299',) ('p301',) ('American',) ('Scottish',)\n",
      "('data/American/p301/p301_270_mic2.flac',) ('data/American/p301/p301_060_mic1.flac',) ('data/American/p300/p300_374_mic1.flac',) ('data/Indian/p251/p251_140_mic1.flac',) ('p301',) ('p300',) ('p301',) ('American',) ('Indian',)\n",
      "('data/Indian/p376/p376_053_mic2.flac',) ('data/Indian/p376/p376_115_mic1.flac',) ('data/Indian/p248/p248_327_mic1.flac',) ('data/American/p299/p299_238_mic1.flac',) ('p376',) ('p248',) ('p376',) ('Indian',) ('American',)\n",
      "('data/Irish/p295/p295_119_mic2.flac',) ('data/Irish/p295/p295_269_mic1.flac',) ('data/Irish/p298/p298_269_mic2.flac',) ('data/Scottish/p284/p284_395_mic2.flac',) ('p295',) ('p298',) ('p295',) ('Irish',) ('Scottish',)\n",
      "('data/Indian/p248/p248_363_mic2.flac',) ('data/Indian/p248/p248_029_mic2.flac',) ('data/Indian/p251/p251_196_mic2.flac',) ('data/American/p300/p300_161_mic1.flac',) ('p248',) ('p251',) ('p248',) ('Indian',) ('American',)\n",
      "('data/Scottish/p249/p249_046_mic2.flac',) ('data/Scottish/p249/p249_031_mic2.flac',) ('data/Scottish/p234/p234_170_mic2.flac',) ('data/Irish/p298/p298_355_mic1.flac',) ('p249',) ('p234',) ('p249',) ('Scottish',) ('Irish',)\n",
      "('data/Irish/p298/p298_275_mic2.flac',) ('data/Irish/p298/p298_236_mic2.flac',) ('data/Irish/p283/p283_440_mic2.flac',) ('data/Scottish/p249/p249_056_mic2.flac',) ('p298',) ('p283',) ('p298',) ('Irish',) ('Scottish',)\n",
      "('data/American/p301/p301_270_mic2.flac',) ('data/American/p301/p301_214_mic2.flac',) ('data/American/p300/p300_245_mic2.flac',) ('data/Indian/p376/p376_293_mic2.flac',) ('p301',) ('p300',) ('p301',) ('American',) ('Indian',)\n",
      "('data/American/p300/p300_153_mic2.flac',) ('data/American/p300/p300_235_mic1.flac',) ('data/American/p299/p299_099_mic1.flac',) ('data/Scottish/p237/p237_272_mic1.flac',) ('p300',) ('p299',) ('p300',) ('American',) ('Scottish',)\n",
      "('data/Irish/p245/p245_008_mic2.flac',) ('data/Irish/p245/p245_068_mic2.flac',) ('data/Irish/p298/p298_250_mic2.flac',) ('data/Scottish/p249/p249_203_mic2.flac',) ('p245',) ('p298',) ('p245',) ('Irish',) ('Scottish',)\n",
      "('data/Irish/p283/p283_133_mic2.flac',) ('data/Irish/p283/p283_462_mic2.flac',) ('data/Irish/p295/p295_164_mic1.flac',) ('data/American/p299/p299_070_mic1.flac',) ('p283',) ('p295',) ('p283',) ('Irish',) ('American',)\n",
      "('data/American/p299/p299_337_mic2.flac',) ('data/American/p299/p299_085_mic2.flac',) ('data/American/p301/p301_239_mic2.flac',) ('data/Indian/p248/p248_325_mic2.flac',) ('p299',) ('p301',) ('p299',) ('American',) ('Indian',)\n",
      "('data/Indian/p248/p248_247_mic1.flac',) ('data/Indian/p248/p248_291_mic1.flac',) ('data/Indian/p376/p376_368_mic2.flac',) ('data/American/p299/p299_242_mic1.flac',) ('p248',) ('p376',) ('p248',) ('Indian',) ('American',)\n",
      "('data/Scottish/p284/p284_165_mic2.flac',) ('data/Scottish/p284/p284_227_mic2.flac',) ('data/Scottish/p234/p234_302_mic2.flac',) ('data/Irish/p283/p283_448_mic1.flac',) ('p284',) ('p234',) ('p284',) ('Scottish',) ('Irish',)\n",
      "('data/Indian/p251/p251_024_mic2.flac',) ('data/Indian/p251/p251_240_mic1.flac',) ('data/Indian/p248/p248_243_mic1.flac',) ('data/Irish/p295/p295_116_mic1.flac',) ('p251',) ('p248',) ('p251',) ('Indian',) ('Irish',)\n",
      "('data/American/p301/p301_204_mic1.flac',) ('data/American/p301/p301_300_mic1.flac',) ('data/American/p299/p299_146_mic1.flac',) ('data/Indian/p251/p251_202_mic2.flac',) ('p301',) ('p299',) ('p301',) ('American',) ('Indian',)\n",
      "('data/American/p300/p300_103_mic2.flac',) ('data/American/p300/p300_120_mic1.flac',) ('data/American/p301/p301_054_mic2.flac',) ('data/Scottish/p234/p234_297_mic1.flac',) ('p300',) ('p301',) ('p300',) ('American',) ('Scottish',)\n",
      "('data/American/p299/p299_052_mic1.flac',) ('data/American/p299/p299_018_mic1.flac',) ('data/American/p300/p300_270_mic1.flac',) ('data/Indian/p376/p376_122_mic1.flac',) ('p299',) ('p300',) ('p299',) ('American',) ('Indian',)\n",
      "('data/Indian/p376/p376_054_mic2.flac',) ('data/Indian/p376/p376_377_mic2.flac',) ('data/Indian/p248/p248_284_mic1.flac',) ('data/Irish/p295/p295_013_mic2.flac',) ('p376',) ('p248',) ('p376',) ('Indian',) ('Irish',)\n",
      "('data/Scottish/p237/p237_204_mic2.flac',) ('data/Scottish/p237/p237_279_mic2.flac',) ('data/Scottish/p284/p284_006_mic2.flac',) ('data/Irish/p283/p283_317_mic1.flac',) ('p237',) ('p284',) ('p237',) ('Scottish',) ('Irish',)\n",
      "('data/Scottish/p284/p284_087_mic1.flac',) ('data/Scottish/p284/p284_057_mic1.flac',) ('data/Scottish/p249/p249_132_mic2.flac',) ('data/Indian/p376/p376_317_mic1.flac',) ('p284',) ('p249',) ('p284',) ('Scottish',) ('Indian',)\n",
      "('data/Irish/p283/p283_100_mic2.flac',) ('data/Irish/p283/p283_465_mic1.flac',) ('data/Irish/p295/p295_016_mic2.flac',) ('data/Indian/p251/p251_028_mic1.flac',) ('p283',) ('p295',) ('p283',) ('Irish',) ('Indian',)\n",
      "('data/Scottish/p284/p284_260_mic2.flac',) ('data/Scottish/p284/p284_411_mic2.flac',) ('data/Scottish/p237/p237_078_mic2.flac',) ('data/American/p300/p300_193_mic1.flac',) ('p284',) ('p237',) ('p284',) ('Scottish',) ('American',)\n",
      "('data/Indian/p248/p248_349_mic2.flac',) ('data/Indian/p248/p248_043_mic1.flac',) ('data/Indian/p251/p251_362_mic1.flac',) ('data/American/p299/p299_378_mic1.flac',) ('p248',) ('p251',) ('p248',) ('Indian',) ('American',)\n",
      "('data/Irish/p295/p295_411_mic1.flac',) ('data/Irish/p295/p295_422_mic2.flac',) ('data/Irish/p283/p283_126_mic1.flac',) ('data/American/p301/p301_145_mic2.flac',) ('p295',) ('p283',) ('p295',) ('Irish',) ('American',)\n",
      "('data/American/p301/p301_006_mic2.flac',) ('data/American/p301/p301_266_mic1.flac',) ('data/American/p299/p299_400_mic1.flac',) ('data/Scottish/p234/p234_241_mic2.flac',) ('p301',) ('p299',) ('p301',) ('American',) ('Scottish',)\n",
      "('data/American/p301/p301_405_mic1.flac',) ('data/American/p301/p301_019_mic2.flac',) ('data/American/p299/p299_355_mic1.flac',) ('data/Scottish/p237/p237_044_mic1.flac',) ('p301',) ('p299',) ('p301',) ('American',) ('Scottish',)\n",
      "('data/Irish/p298/p298_138_mic2.flac',) ('data/Irish/p298/p298_151_mic2.flac',) ('data/Irish/p245/p245_286_mic1.flac',) ('data/Indian/p251/p251_093_mic2.flac',) ('p298',) ('p245',) ('p298',) ('Irish',) ('Indian',)\n",
      "('data/Scottish/p284/p284_159_mic2.flac',) ('data/Scottish/p284/p284_350_mic1.flac',) ('data/Scottish/p237/p237_032_mic2.flac',) ('data/American/p301/p301_398_mic2.flac',) ('p284',) ('p237',) ('p284',) ('Scottish',) ('American',)\n",
      "('data/Scottish/p249/p249_254_mic2.flac',) ('data/Scottish/p249/p249_239_mic2.flac',) ('data/Scottish/p234/p234_263_mic1.flac',) ('data/Indian/p376/p376_416_mic2.flac',) ('p249',) ('p234',) ('p249',) ('Scottish',) ('Indian',)\n",
      "('data/Scottish/p249/p249_267_mic1.flac',) ('data/Scottish/p249/p249_114_mic2.flac',) ('data/Scottish/p284/p284_299_mic1.flac',) ('data/Irish/p295/p295_058_mic1.flac',) ('p249',) ('p284',) ('p249',) ('Scottish',) ('Irish',)\n",
      "('data/Irish/p298/p298_072_mic2.flac',) ('data/Irish/p298/p298_225_mic2.flac',) ('data/Irish/p295/p295_190_mic2.flac',) ('data/Scottish/p284/p284_034_mic2.flac',) ('p298',) ('p295',) ('p298',) ('Irish',) ('Scottish',)\n",
      "('data/Scottish/p234/p234_219_mic2.flac',) ('data/Scottish/p234/p234_348_mic2.flac',) ('data/Scottish/p284/p284_316_mic1.flac',) ('data/Indian/p251/p251_302_mic1.flac',) ('p234',) ('p284',) ('p234',) ('Scottish',) ('Indian',)\n",
      "('data/Scottish/p234/p234_320_mic1.flac',) ('data/Scottish/p234/p234_199_mic1.flac',) ('data/Scottish/p249/p249_240_mic2.flac',) ('data/Irish/p245/p245_005_mic2.flac',) ('p234',) ('p249',) ('p234',) ('Scottish',) ('Irish',)\n",
      "('data/American/p301/p301_119_mic2.flac',) ('data/American/p301/p301_180_mic1.flac',) ('data/American/p299/p299_071_mic2.flac',) ('data/Irish/p283/p283_416_mic2.flac',) ('p301',) ('p299',) ('p301',) ('American',) ('Irish',)\n",
      "('data/Indian/p248/p248_004_mic1.flac',) ('data/Indian/p248/p248_102_mic2.flac',) ('data/Indian/p376/p376_312_mic1.flac',) ('data/American/p299/p299_023_mic2.flac',) ('p248',) ('p376',) ('p248',) ('Indian',) ('American',)\n",
      "('data/American/p301/p301_144_mic2.flac',) ('data/American/p301/p301_107_mic2.flac',) ('data/American/p300/p300_049_mic1.flac',) ('data/Scottish/p284/p284_223_mic2.flac',) ('p301',) ('p300',) ('p301',) ('American',) ('Scottish',)\n",
      "('data/Indian/p248/p248_086_mic2.flac',) ('data/Indian/p248/p248_081_mic2.flac',) ('data/Indian/p251/p251_120_mic1.flac',) ('data/Irish/p245/p245_148_mic1.flac',) ('p248',) ('p251',) ('p248',) ('Indian',) ('Irish',)\n",
      "('data/American/p301/p301_180_mic1.flac',) ('data/American/p301/p301_030_mic1.flac',) ('data/American/p300/p300_019_mic2.flac',) ('data/Scottish/p284/p284_348_mic1.flac',) ('p301',) ('p300',) ('p301',) ('American',) ('Scottish',)\n",
      "('data/American/p300/p300_191_mic1.flac',) ('data/American/p300/p300_246_mic1.flac',) ('data/American/p301/p301_113_mic2.flac',) ('data/Indian/p376/p376_297_mic2.flac',) ('p300',) ('p301',) ('p300',) ('American',) ('Indian',)\n",
      "('data/Indian/p248/p248_170_mic2.flac',) ('data/Indian/p248/p248_227_mic1.flac',) ('data/Indian/p376/p376_380_mic2.flac',) ('data/Scottish/p234/p234_163_mic2.flac',) ('p248',) ('p376',) ('p248',) ('Indian',) ('Scottish',)\n",
      "('data/Indian/p251/p251_189_mic1.flac',) ('data/Indian/p251/p251_016_mic1.flac',) ('data/Indian/p376/p376_282_mic2.flac',) ('data/Scottish/p249/p249_011_mic1.flac',) ('p251',) ('p376',) ('p251',) ('Indian',) ('Scottish',)\n",
      "('data/American/p300/p300_336_mic2.flac',) ('data/American/p300/p300_184_mic2.flac',) ('data/American/p299/p299_093_mic1.flac',) ('data/Irish/p298/p298_387_mic1.flac',) ('p300',) ('p299',) ('p300',) ('American',) ('Irish',)\n",
      "('data/American/p299/p299_254_mic1.flac',) ('data/American/p299/p299_286_mic1.flac',) ('data/American/p301/p301_103_mic2.flac',) ('data/Irish/p295/p295_281_mic1.flac',) ('p299',) ('p301',) ('p299',) ('American',) ('Irish',)\n",
      "('data/American/p301/p301_007_mic2.flac',) ('data/American/p301/p301_152_mic2.flac',) ('data/American/p299/p299_178_mic1.flac',) ('data/Irish/p283/p283_432_mic2.flac',) ('p301',) ('p299',) ('p301',) ('American',) ('Irish',)\n",
      "('data/American/p301/p301_269_mic1.flac',) ('data/American/p301/p301_316_mic2.flac',) ('data/American/p299/p299_399_mic2.flac',) ('data/Indian/p248/p248_141_mic2.flac',) ('p301',) ('p299',) ('p301',) ('American',) ('Indian',)\n",
      "('data/Scottish/p237/p237_210_mic1.flac',) ('data/Scottish/p237/p237_283_mic1.flac',) ('data/Scottish/p234/p234_246_mic2.flac',) ('data/American/p299/p299_287_mic1.flac',) ('p237',) ('p234',) ('p237',) ('Scottish',) ('American',)\n",
      "('data/American/p300/p300_165_mic1.flac',) ('data/American/p300/p300_181_mic1.flac',) ('data/American/p299/p299_204_mic2.flac',) ('data/Scottish/p249/p249_204_mic2.flac',) ('p300',) ('p299',) ('p300',) ('American',) ('Scottish',)\n",
      "('data/Irish/p295/p295_112_mic1.flac',) ('data/Irish/p295/p295_123_mic1.flac',) ('data/Irish/p283/p283_170_mic2.flac',) ('data/Scottish/p249/p249_073_mic2.flac',) ('p295',) ('p283',) ('p295',) ('Irish',) ('Scottish',)\n",
      "('data/Irish/p298/p298_292_mic1.flac',) ('data/Irish/p298/p298_279_mic2.flac',) ('data/Irish/p283/p283_382_mic2.flac',) ('data/American/p301/p301_166_mic2.flac',) ('p298',) ('p283',) ('p298',) ('Irish',) ('American',)\n",
      "('data/Indian/p248/p248_085_mic2.flac',) ('data/Indian/p248/p248_069_mic1.flac',) ('data/Indian/p376/p376_207_mic1.flac',) ('data/Irish/p298/p298_229_mic2.flac',) ('p248',) ('p376',) ('p248',) ('Indian',) ('Irish',)\n",
      "('data/Scottish/p234/p234_271_mic1.flac',) ('data/Scottish/p234/p234_335_mic2.flac',) ('data/Scottish/p284/p284_341_mic1.flac',) ('data/Indian/p251/p251_319_mic2.flac',) ('p234',) ('p284',) ('p234',) ('Scottish',) ('Indian',)\n",
      "('data/Irish/p298/p298_081_mic1.flac',) ('data/Irish/p298/p298_321_mic2.flac',) ('data/Irish/p283/p283_095_mic2.flac',) ('data/American/p301/p301_116_mic2.flac',) ('p298',) ('p283',) ('p298',) ('Irish',) ('American',)\n",
      "('data/Irish/p283/p283_417_mic2.flac',) ('data/Irish/p283/p283_046_mic1.flac',) ('data/Irish/p298/p298_149_mic1.flac',) ('data/Indian/p251/p251_189_mic1.flac',) ('p283',) ('p298',) ('p283',) ('Irish',) ('Indian',)\n",
      "('data/Indian/p251/p251_046_mic1.flac',) ('data/Indian/p251/p251_069_mic2.flac',) ('data/Indian/p248/p248_237_mic1.flac',) ('data/Irish/p245/p245_308_mic1.flac',) ('p251',) ('p248',) ('p251',) ('Indian',) ('Irish',)\n",
      "('data/Scottish/p284/p284_121_mic1.flac',) ('data/Scottish/p284/p284_364_mic1.flac',) ('data/Scottish/p249/p249_120_mic1.flac',) ('data/American/p299/p299_347_mic1.flac',) ('p284',) ('p249',) ('p284',) ('Scottish',) ('American',)\n",
      "('data/Irish/p283/p283_034_mic1.flac',) ('data/Irish/p283/p283_291_mic2.flac',) ('data/Irish/p295/p295_209_mic2.flac',) ('data/Indian/p251/p251_028_mic1.flac',) ('p283',) ('p295',) ('p283',) ('Irish',) ('Indian',)\n",
      "('data/Irish/p245/p245_219_mic2.flac',) ('data/Irish/p245/p245_102_mic1.flac',) ('data/Irish/p295/p295_185_mic2.flac',) ('data/American/p299/p299_283_mic1.flac',) ('p245',) ('p295',) ('p245',) ('Irish',) ('American',)\n",
      "('data/American/p300/p300_020_mic2.flac',) ('data/American/p300/p300_078_mic2.flac',) ('data/American/p299/p299_212_mic1.flac',) ('data/Irish/p245/p245_259_mic1.flac',) ('p300',) ('p299',) ('p300',) ('American',) ('Irish',)\n",
      "('data/Irish/p298/p298_003_mic1.flac',) ('data/Irish/p298/p298_325_mic1.flac',) ('data/Irish/p295/p295_287_mic2.flac',) ('data/Indian/p248/p248_155_mic1.flac',) ('p298',) ('p295',) ('p298',) ('Irish',) ('Indian',)\n",
      "('data/Irish/p295/p295_292_mic2.flac',) ('data/Irish/p295/p295_054_mic1.flac',) ('data/Irish/p298/p298_296_mic1.flac',) ('data/Indian/p251/p251_002_mic1.flac',) ('p295',) ('p298',) ('p295',) ('Irish',) ('Indian',)\n",
      "('data/Scottish/p234/p234_074_mic2.flac',) ('data/Scottish/p234/p234_160_mic2.flac',) ('data/Scottish/p237/p237_060_mic2.flac',) ('data/American/p300/p300_147_mic1.flac',) ('p234',) ('p237',) ('p234',) ('Scottish',) ('American',)\n",
      "('data/Indian/p248/p248_198_mic2.flac',) ('data/Indian/p248/p248_141_mic2.flac',) ('data/Indian/p376/p376_162_mic2.flac',) ('data/Irish/p295/p295_032_mic1.flac',) ('p248',) ('p376',) ('p248',) ('Indian',) ('Irish',)\n",
      "('data/Indian/p376/p376_337_mic1.flac',) ('data/Indian/p376/p376_230_mic2.flac',) ('data/Indian/p251/p251_213_mic1.flac',) ('data/American/p300/p300_319_mic2.flac',) ('p376',) ('p251',) ('p376',) ('Indian',) ('American',)\n",
      "('data/Irish/p245/p245_283_mic2.flac',) ('data/Irish/p245/p245_018_mic2.flac',) ('data/Irish/p283/p283_258_mic2.flac',) ('data/Indian/p248/p248_053_mic1.flac',) ('p245',) ('p283',) ('p245',) ('Irish',) ('Indian',)\n",
      "('data/American/p301/p301_366_mic2.flac',) ('data/American/p301/p301_032_mic1.flac',) ('data/American/p300/p300_182_mic2.flac',) ('data/Indian/p251/p251_030_mic2.flac',) ('p301',) ('p300',) ('p301',) ('American',) ('Indian',)\n",
      "('data/American/p299/p299_215_mic2.flac',) ('data/American/p299/p299_142_mic2.flac',) ('data/American/p301/p301_063_mic2.flac',) ('data/Indian/p376/p376_093_mic2.flac',) ('p299',) ('p301',) ('p299',) ('American',) ('Indian',)\n",
      "('data/American/p299/p299_016_mic1.flac',) ('data/American/p299/p299_075_mic1.flac',) ('data/American/p300/p300_005_mic1.flac',) ('data/Scottish/p284/p284_275_mic2.flac',) ('p299',) ('p300',) ('p299',) ('American',) ('Scottish',)\n",
      "('data/Indian/p251/p251_043_mic2.flac',) ('data/Indian/p251/p251_130_mic1.flac',) ('data/Indian/p376/p376_016_mic1.flac',) ('data/Irish/p295/p295_176_mic2.flac',) ('p251',) ('p376',) ('p251',) ('Indian',) ('Irish',)\n",
      "('data/Indian/p376/p376_081_mic1.flac',) ('data/Indian/p376/p376_056_mic2.flac',) ('data/Indian/p251/p251_111_mic2.flac',) ('data/American/p300/p300_125_mic2.flac',) ('p376',) ('p251',) ('p376',) ('Indian',) ('American',)\n",
      "('data/Indian/p376/p376_422_mic2.flac',) ('data/Indian/p376/p376_341_mic2.flac',) ('data/Indian/p248/p248_071_mic1.flac',) ('data/Irish/p245/p245_168_mic2.flac',) ('p376',) ('p248',) ('p376',) ('Indian',) ('Irish',)\n",
      "('data/Indian/p248/p248_142_mic1.flac',) ('data/Indian/p248/p248_254_mic2.flac',) ('data/Indian/p251/p251_289_mic2.flac',) ('data/Scottish/p234/p234_177_mic1.flac',) ('p248',) ('p251',) ('p248',) ('Indian',) ('Scottish',)\n",
      "('data/Irish/p245/p245_027_mic1.flac',) ('data/Irish/p245/p245_215_mic1.flac',) ('data/Irish/p295/p295_177_mic2.flac',) ('data/American/p299/p299_045_mic2.flac',) ('p245',) ('p295',) ('p245',) ('Irish',) ('American',)\n",
      "('data/American/p300/p300_138_mic2.flac',) ('data/American/p300/p300_172_mic2.flac',) ('data/American/p299/p299_307_mic2.flac',) ('data/Scottish/p249/p249_074_mic1.flac',) ('p300',) ('p299',) ('p300',) ('American',) ('Scottish',)\n",
      "('data/Irish/p298/p298_357_mic1.flac',) ('data/Irish/p298/p298_351_mic1.flac',) ('data/Irish/p245/p245_039_mic2.flac',) ('data/American/p301/p301_379_mic2.flac',) ('p298',) ('p245',) ('p298',) ('Irish',) ('American',)\n",
      "('data/Scottish/p234/p234_279_mic1.flac',) ('data/Scottish/p234/p234_111_mic2.flac',) ('data/Scottish/p237/p237_202_mic2.flac',) ('data/American/p301/p301_128_mic1.flac',) ('p234',) ('p237',) ('p234',) ('Scottish',) ('American',)\n",
      "('data/American/p299/p299_006_mic1.flac',) ('data/American/p299/p299_352_mic1.flac',) ('data/American/p300/p300_058_mic1.flac',) ('data/Scottish/p237/p237_314_mic1.flac',) ('p299',) ('p300',) ('p299',) ('American',) ('Scottish',)\n",
      "('data/Indian/p376/p376_318_mic2.flac',) ('data/Indian/p376/p376_202_mic2.flac',) ('data/Indian/p251/p251_271_mic1.flac',) ('data/Scottish/p234/p234_060_mic2.flac',) ('p376',) ('p251',) ('p376',) ('Indian',) ('Scottish',)\n",
      "('data/American/p300/p300_062_mic1.flac',) ('data/American/p300/p300_008_mic1.flac',) ('data/American/p301/p301_305_mic2.flac',) ('data/Irish/p295/p295_131_mic2.flac',) ('p300',) ('p301',) ('p300',) ('American',) ('Irish',)\n",
      "('data/American/p299/p299_091_mic2.flac',) ('data/American/p299/p299_356_mic1.flac',) ('data/American/p301/p301_109_mic1.flac',) ('data/Indian/p248/p248_260_mic2.flac',) ('p299',) ('p301',) ('p299',) ('American',) ('Indian',)\n",
      "('data/Irish/p245/p245_092_mic1.flac',) ('data/Irish/p245/p245_201_mic2.flac',) ('data/Irish/p283/p283_445_mic1.flac',) ('data/American/p299/p299_293_mic1.flac',) ('p245',) ('p283',) ('p245',) ('Irish',) ('American',)\n",
      "('data/Scottish/p284/p284_036_mic1.flac',) ('data/Scottish/p284/p284_031_mic1.flac',) ('data/Scottish/p249/p249_265_mic2.flac',) ('data/Irish/p245/p245_185_mic2.flac',) ('p284',) ('p249',) ('p284',) ('Scottish',) ('Irish',)\n",
      "('data/American/p299/p299_050_mic2.flac',) ('data/American/p299/p299_145_mic2.flac',) ('data/American/p300/p300_188_mic2.flac',) ('data/Indian/p248/p248_225_mic1.flac',) ('p299',) ('p300',) ('p299',) ('American',) ('Indian',)\n",
      "('data/Scottish/p249/p249_080_mic1.flac',) ('data/Scottish/p249/p249_117_mic2.flac',) ('data/Scottish/p234/p234_147_mic1.flac',) ('data/Indian/p248/p248_303_mic1.flac',) ('p249',) ('p234',) ('p249',) ('Scottish',) ('Indian',)\n",
      "('data/Irish/p245/p245_175_mic1.flac',) ('data/Irish/p245/p245_067_mic1.flac',) ('data/Irish/p295/p295_137_mic2.flac',) ('data/Scottish/p249/p249_275_mic1.flac',) ('p245',) ('p295',) ('p245',) ('Irish',) ('Scottish',)\n",
      "('data/Scottish/p234/p234_052_mic1.flac',) ('data/Scottish/p234/p234_101_mic1.flac',) ('data/Scottish/p284/p284_044_mic2.flac',) ('data/Irish/p283/p283_358_mic2.flac',) ('p234',) ('p284',) ('p234',) ('Scottish',) ('Irish',)\n"
     ]
    },
    {
     "name": "stdout",
     "output_type": "stream",
     "text": [
      "('data/Indian/p248/p248_059_mic2.flac',) ('data/Indian/p248/p248_371_mic1.flac',) ('data/Indian/p376/p376_140_mic2.flac',) ('data/Irish/p283/p283_389_mic1.flac',) ('p248',) ('p376',) ('p248',) ('Indian',) ('Irish',)\n",
      "('data/Irish/p298/p298_172_mic1.flac',) ('data/Irish/p298/p298_293_mic2.flac',) ('data/Irish/p245/p245_248_mic2.flac',) ('data/Indian/p251/p251_292_mic2.flac',) ('p298',) ('p245',) ('p298',) ('Irish',) ('Indian',)\n",
      "('data/Indian/p251/p251_069_mic1.flac',) ('data/Indian/p251/p251_128_mic1.flac',) ('data/Indian/p376/p376_221_mic1.flac',) ('data/American/p301/p301_380_mic1.flac',) ('p251',) ('p376',) ('p251',) ('Indian',) ('American',)\n",
      "('data/American/p301/p301_301_mic1.flac',) ('data/American/p301/p301_282_mic1.flac',) ('data/American/p300/p300_063_mic1.flac',) ('data/Indian/p376/p376_397_mic1.flac',) ('p301',) ('p300',) ('p301',) ('American',) ('Indian',)\n",
      "('data/American/p299/p299_321_mic1.flac',) ('data/American/p299/p299_304_mic2.flac',) ('data/American/p300/p300_083_mic2.flac',) ('data/Irish/p295/p295_236_mic2.flac',) ('p299',) ('p300',) ('p299',) ('American',) ('Irish',)\n",
      "('data/Indian/p251/p251_091_mic1.flac',) ('data/Indian/p251/p251_258_mic1.flac',) ('data/Indian/p248/p248_226_mic1.flac',) ('data/American/p299/p299_202_mic2.flac',) ('p251',) ('p248',) ('p251',) ('Indian',) ('American',)\n",
      "('data/Indian/p376/p376_344_mic2.flac',) ('data/Indian/p376/p376_288_mic1.flac',) ('data/Indian/p248/p248_149_mic2.flac',) ('data/Scottish/p237/p237_298_mic1.flac',) ('p376',) ('p248',) ('p376',) ('Indian',) ('Scottish',)\n",
      "('data/Indian/p376/p376_248_mic1.flac',) ('data/Indian/p376/p376_066_mic1.flac',) ('data/Indian/p251/p251_268_mic2.flac',) ('data/American/p299/p299_170_mic2.flac',) ('p376',) ('p251',) ('p376',) ('Indian',) ('American',)\n",
      "('data/Indian/p251/p251_043_mic1.flac',) ('data/Indian/p251/p251_041_mic2.flac',) ('data/Indian/p248/p248_082_mic1.flac',) ('data/Irish/p245/p245_321_mic2.flac',) ('p251',) ('p248',) ('p251',) ('Indian',) ('Irish',)\n",
      "('data/Irish/p245/p245_175_mic1.flac',) ('data/Irish/p245/p245_274_mic2.flac',) ('data/Irish/p295/p295_370_mic1.flac',) ('data/American/p301/p301_037_mic1.flac',) ('p245',) ('p295',) ('p245',) ('Irish',) ('American',)\n",
      "('data/American/p299/p299_151_mic2.flac',) ('data/American/p299/p299_024_mic1.flac',) ('data/American/p301/p301_298_mic1.flac',) ('data/Indian/p248/p248_127_mic2.flac',) ('p299',) ('p301',) ('p299',) ('American',) ('Indian',)\n",
      "('data/Irish/p283/p283_085_mic1.flac',) ('data/Irish/p283/p283_081_mic2.flac',) ('data/Irish/p245/p245_077_mic1.flac',) ('data/Indian/p248/p248_010_mic1.flac',) ('p283',) ('p245',) ('p283',) ('Irish',) ('Indian',)\n",
      "('data/American/p300/p300_247_mic2.flac',) ('data/American/p300/p300_285_mic2.flac',) ('data/American/p301/p301_055_mic2.flac',) ('data/Irish/p245/p245_225_mic2.flac',) ('p300',) ('p301',) ('p300',) ('American',) ('Irish',)\n",
      "('data/Indian/p251/p251_298_mic1.flac',) ('data/Indian/p251/p251_170_mic2.flac',) ('data/Indian/p376/p376_003_mic1.flac',) ('data/Scottish/p234/p234_241_mic1.flac',) ('p251',) ('p376',) ('p251',) ('Indian',) ('Scottish',)\n",
      "('data/Indian/p376/p376_280_mic1.flac',) ('data/Indian/p376/p376_037_mic1.flac',) ('data/Indian/p248/p248_206_mic2.flac',) ('data/American/p301/p301_180_mic2.flac',) ('p376',) ('p248',) ('p376',) ('Indian',) ('American',)\n",
      "('data/American/p299/p299_083_mic1.flac',) ('data/American/p299/p299_051_mic2.flac',) ('data/American/p300/p300_370_mic1.flac',) ('data/Indian/p376/p376_081_mic2.flac',) ('p299',) ('p300',) ('p299',) ('American',) ('Indian',)\n",
      "('data/Scottish/p284/p284_404_mic2.flac',) ('data/Scottish/p284/p284_128_mic2.flac',) ('data/Scottish/p234/p234_116_mic1.flac',) ('data/Indian/p251/p251_243_mic2.flac',) ('p284',) ('p234',) ('p284',) ('Scottish',) ('Indian',)\n",
      "('data/Indian/p376/p376_160_mic2.flac',) ('data/Indian/p376/p376_186_mic1.flac',) ('data/Indian/p251/p251_269_mic2.flac',) ('data/Irish/p283/p283_336_mic2.flac',) ('p376',) ('p251',) ('p376',) ('Indian',) ('Irish',)\n",
      "('data/Irish/p245/p245_007_mic1.flac',) ('data/Irish/p245/p245_221_mic1.flac',) ('data/Irish/p298/p298_392_mic2.flac',) ('data/American/p299/p299_067_mic1.flac',) ('p245',) ('p298',) ('p245',) ('Irish',) ('American',)\n",
      "('data/Indian/p248/p248_181_mic1.flac',) ('data/Indian/p248/p248_281_mic1.flac',) ('data/Indian/p251/p251_308_mic2.flac',) ('data/American/p299/p299_235_mic2.flac',) ('p248',) ('p251',) ('p248',) ('Indian',) ('American',)\n",
      "('data/Irish/p245/p245_094_mic2.flac',) ('data/Irish/p245/p245_080_mic2.flac',) ('data/Irish/p298/p298_002_mic1.flac',) ('data/Indian/p251/p251_191_mic1.flac',) ('p245',) ('p298',) ('p245',) ('Irish',) ('Indian',)\n",
      "('data/Irish/p245/p245_215_mic1.flac',) ('data/Irish/p245/p245_004_mic1.flac',) ('data/Irish/p298/p298_122_mic2.flac',) ('data/Scottish/p284/p284_118_mic1.flac',) ('p245',) ('p298',) ('p245',) ('Irish',) ('Scottish',)\n",
      "('data/Irish/p295/p295_090_mic2.flac',) ('data/Irish/p295/p295_052_mic2.flac',) ('data/Irish/p245/p245_127_mic1.flac',) ('data/American/p299/p299_229_mic1.flac',) ('p295',) ('p245',) ('p295',) ('Irish',) ('American',)\n",
      "('data/Indian/p248/p248_203_mic2.flac',) ('data/Indian/p248/p248_135_mic1.flac',) ('data/Indian/p251/p251_273_mic1.flac',) ('data/Irish/p245/p245_087_mic1.flac',) ('p248',) ('p251',) ('p248',) ('Indian',) ('Irish',)\n",
      "('data/Irish/p283/p283_140_mic2.flac',) ('data/Irish/p283/p283_184_mic1.flac',) ('data/Irish/p245/p245_095_mic1.flac',) ('data/American/p300/p300_009_mic1.flac',) ('p283',) ('p245',) ('p283',) ('Irish',) ('American',)\n",
      "('data/Scottish/p237/p237_211_mic1.flac',) ('data/Scottish/p237/p237_292_mic1.flac',) ('data/Scottish/p234/p234_359_mic2.flac',) ('data/American/p301/p301_087_mic1.flac',) ('p237',) ('p234',) ('p237',) ('Scottish',) ('American',)\n",
      "('data/American/p301/p301_010_mic2.flac',) ('data/American/p301/p301_206_mic2.flac',) ('data/American/p300/p300_302_mic1.flac',) ('data/Indian/p376/p376_109_mic1.flac',) ('p301',) ('p300',) ('p301',) ('American',) ('Indian',)\n",
      "('data/Irish/p295/p295_416_mic1.flac',) ('data/Irish/p295/p295_235_mic1.flac',) ('data/Irish/p283/p283_022_mic1.flac',) ('data/Scottish/p237/p237_214_mic1.flac',) ('p295',) ('p283',) ('p295',) ('Irish',) ('Scottish',)\n",
      "('data/Irish/p295/p295_127_mic2.flac',) ('data/Irish/p295/p295_033_mic1.flac',) ('data/Irish/p283/p283_156_mic2.flac',) ('data/Scottish/p237/p237_174_mic2.flac',) ('p295',) ('p283',) ('p295',) ('Irish',) ('Scottish',)\n",
      "('data/Indian/p248/p248_169_mic1.flac',) ('data/Indian/p248/p248_218_mic2.flac',) ('data/Indian/p376/p376_064_mic2.flac',) ('data/American/p300/p300_356_mic2.flac',) ('p248',) ('p376',) ('p248',) ('Indian',) ('American',)\n",
      "('data/American/p300/p300_291_mic1.flac',) ('data/American/p300/p300_128_mic2.flac',) ('data/American/p299/p299_152_mic1.flac',) ('data/Indian/p251/p251_287_mic1.flac',) ('p300',) ('p299',) ('p300',) ('American',) ('Indian',)\n",
      "('data/Irish/p283/p283_164_mic1.flac',) ('data/Irish/p283/p283_056_mic2.flac',) ('data/Irish/p298/p298_136_mic1.flac',) ('data/Scottish/p234/p234_253_mic1.flac',) ('p283',) ('p298',) ('p283',) ('Irish',) ('Scottish',)\n",
      "('data/Irish/p245/p245_266_mic2.flac',) ('data/Irish/p245/p245_240_mic1.flac',) ('data/Irish/p298/p298_194_mic2.flac',) ('data/American/p301/p301_366_mic1.flac',) ('p245',) ('p298',) ('p245',) ('Irish',) ('American',)\n",
      "('data/Irish/p298/p298_366_mic2.flac',) ('data/Irish/p298/p298_051_mic1.flac',) ('data/Irish/p283/p283_072_mic2.flac',) ('data/American/p300/p300_021_mic1.flac',) ('p298',) ('p283',) ('p298',) ('Irish',) ('American',)\n",
      "('data/American/p299/p299_226_mic1.flac',) ('data/American/p299/p299_138_mic2.flac',) ('data/American/p300/p300_329_mic1.flac',) ('data/Irish/p295/p295_121_mic2.flac',) ('p299',) ('p300',) ('p299',) ('American',) ('Irish',)\n",
      "('data/Irish/p298/p298_052_mic1.flac',) ('data/Irish/p298/p298_158_mic2.flac',) ('data/Irish/p283/p283_162_mic2.flac',) ('data/American/p299/p299_286_mic1.flac',) ('p298',) ('p283',) ('p298',) ('Irish',) ('American',)\n",
      "('data/Irish/p295/p295_149_mic2.flac',) ('data/Irish/p295/p295_005_mic1.flac',) ('data/Irish/p283/p283_259_mic2.flac',) ('data/Indian/p251/p251_131_mic1.flac',) ('p295',) ('p283',) ('p295',) ('Irish',) ('Indian',)\n",
      "('data/Scottish/p249/p249_239_mic1.flac',) ('data/Scottish/p249/p249_066_mic2.flac',) ('data/Scottish/p234/p234_022_mic2.flac',) ('data/Irish/p295/p295_178_mic2.flac',) ('p249',) ('p234',) ('p249',) ('Scottish',) ('Irish',)\n",
      "('data/Indian/p376/p376_240_mic1.flac',) ('data/Indian/p376/p376_119_mic1.flac',) ('data/Indian/p251/p251_212_mic1.flac',) ('data/Irish/p283/p283_391_mic2.flac',) ('p376',) ('p251',) ('p376',) ('Indian',) ('Irish',)\n",
      "('data/Irish/p295/p295_026_mic1.flac',) ('data/Irish/p295/p295_394_mic1.flac',) ('data/Irish/p298/p298_126_mic2.flac',) ('data/Indian/p376/p376_255_mic1.flac',) ('p295',) ('p298',) ('p295',) ('Irish',) ('Indian',)\n",
      "('data/Scottish/p249/p249_181_mic2.flac',) ('data/Scottish/p249/p249_120_mic1.flac',) ('data/Scottish/p234/p234_224_mic2.flac',) ('data/Indian/p376/p376_317_mic1.flac',) ('p249',) ('p234',) ('p249',) ('Scottish',) ('Indian',)\n",
      "('data/Scottish/p284/p284_397_mic1.flac',) ('data/Scottish/p284/p284_424_mic1.flac',) ('data/Scottish/p237/p237_006_mic1.flac',) ('data/American/p299/p299_042_mic2.flac',) ('p284',) ('p237',) ('p284',) ('Scottish',) ('American',)\n",
      "('data/American/p301/p301_139_mic2.flac',) ('data/American/p301/p301_178_mic2.flac',) ('data/American/p299/p299_107_mic1.flac',) ('data/Indian/p251/p251_095_mic2.flac',) ('p301',) ('p299',) ('p301',) ('American',) ('Indian',)\n",
      "('data/American/p299/p299_288_mic2.flac',) ('data/American/p299/p299_011_mic1.flac',) ('data/American/p300/p300_016_mic1.flac',) ('data/Indian/p248/p248_076_mic1.flac',) ('p299',) ('p300',) ('p299',) ('American',) ('Indian',)\n",
      "('data/American/p301/p301_085_mic2.flac',) ('data/American/p301/p301_230_mic1.flac',) ('data/American/p300/p300_314_mic2.flac',) ('data/Irish/p283/p283_471_mic1.flac',) ('p301',) ('p300',) ('p301',) ('American',) ('Irish',)\n",
      "('data/Irish/p245/p245_137_mic2.flac',) ('data/Irish/p245/p245_125_mic1.flac',) ('data/Irish/p298/p298_377_mic1.flac',) ('data/Indian/p251/p251_175_mic2.flac',) ('p245',) ('p298',) ('p245',) ('Irish',) ('Indian',)\n",
      "('data/Scottish/p249/p249_186_mic2.flac',) ('data/Scottish/p249/p249_128_mic1.flac',) ('data/Scottish/p237/p237_013_mic2.flac',) ('data/American/p300/p300_039_mic1.flac',) ('p249',) ('p237',) ('p249',) ('Scottish',) ('American',)\n",
      "('data/Scottish/p234/p234_290_mic2.flac',) ('data/Scottish/p234/p234_287_mic1.flac',) ('data/Scottish/p237/p237_132_mic2.flac',) ('data/Irish/p283/p283_001_mic1.flac',) ('p234',) ('p237',) ('p234',) ('Scottish',) ('Irish',)\n",
      "('data/Irish/p245/p245_045_mic1.flac',) ('data/Irish/p245/p245_181_mic2.flac',) ('data/Irish/p283/p283_121_mic2.flac',) ('data/American/p299/p299_068_mic2.flac',) ('p245',) ('p283',) ('p245',) ('Irish',) ('American',)\n",
      "('data/Scottish/p249/p249_034_mic2.flac',) ('data/Scottish/p249/p249_226_mic1.flac',) ('data/Scottish/p237/p237_230_mic1.flac',) ('data/Irish/p245/p245_053_mic1.flac',) ('p249',) ('p237',) ('p249',) ('Scottish',) ('Irish',)\n",
      "('data/Indian/p376/p376_258_mic1.flac',) ('data/Indian/p376/p376_108_mic1.flac',) ('data/Indian/p248/p248_287_mic2.flac',) ('data/Scottish/p234/p234_201_mic1.flac',) ('p376',) ('p248',) ('p376',) ('Indian',) ('Scottish',)\n",
      "('data/American/p301/p301_005_mic2.flac',) ('data/American/p301/p301_271_mic2.flac',) ('data/American/p299/p299_335_mic2.flac',) ('data/Irish/p245/p245_102_mic1.flac',) ('p301',) ('p299',) ('p301',) ('American',) ('Irish',)\n",
      "('data/American/p299/p299_156_mic2.flac',) ('data/American/p299/p299_058_mic1.flac',) ('data/American/p301/p301_251_mic2.flac',) ('data/Irish/p283/p283_461_mic2.flac',) ('p299',) ('p301',) ('p299',) ('American',) ('Irish',)\n",
      "('data/Irish/p283/p283_186_mic1.flac',) ('data/Irish/p283/p283_037_mic1.flac',) ('data/Irish/p295/p295_212_mic2.flac',) ('data/Scottish/p237/p237_280_mic1.flac',) ('p283',) ('p295',) ('p283',) ('Irish',) ('Scottish',)\n",
      "('data/American/p300/p300_118_mic1.flac',) ('data/American/p300/p300_100_mic1.flac',) ('data/American/p299/p299_176_mic1.flac',) ('data/Scottish/p237/p237_021_mic2.flac',) ('p300',) ('p299',) ('p300',) ('American',) ('Scottish',)\n",
      "('data/Indian/p376/p376_396_mic2.flac',) ('data/Indian/p376/p376_344_mic2.flac',) ('data/Indian/p248/p248_001_mic2.flac',) ('data/Scottish/p237/p237_264_mic2.flac',) ('p376',) ('p248',) ('p376',) ('Indian',) ('Scottish',)\n",
      "('data/Indian/p248/p248_119_mic1.flac',) ('data/Indian/p248/p248_164_mic2.flac',) ('data/Indian/p376/p376_149_mic2.flac',) ('data/American/p301/p301_348_mic1.flac',) ('p248',) ('p376',) ('p248',) ('Indian',) ('American',)\n",
      "('data/Irish/p295/p295_125_mic2.flac',) ('data/Irish/p295/p295_194_mic2.flac',) ('data/Irish/p245/p245_194_mic1.flac',) ('data/Indian/p376/p376_277_mic1.flac',) ('p295',) ('p245',) ('p295',) ('Irish',) ('Indian',)\n",
      "('data/American/p299/p299_189_mic1.flac',) ('data/American/p299/p299_097_mic2.flac',) ('data/American/p300/p300_011_mic2.flac',) ('data/Irish/p298/p298_017_mic2.flac',) ('p299',) ('p300',) ('p299',) ('American',) ('Irish',)\n",
      "('data/Irish/p298/p298_102_mic2.flac',) ('data/Irish/p298/p298_155_mic1.flac',) ('data/Irish/p283/p283_034_mic2.flac',) ('data/Indian/p376/p376_278_mic2.flac',) ('p298',) ('p283',) ('p298',) ('Irish',) ('Indian',)\n",
      "('data/Indian/p248/p248_255_mic2.flac',) ('data/Indian/p248/p248_198_mic1.flac',) ('data/Indian/p251/p251_338_mic1.flac',) ('data/Irish/p283/p283_030_mic1.flac',) ('p248',) ('p251',) ('p248',) ('Indian',) ('Irish',)\n",
      "('data/Irish/p295/p295_349_mic1.flac',) ('data/Irish/p295/p295_239_mic1.flac',) ('data/Irish/p298/p298_145_mic2.flac',) ('data/American/p301/p301_080_mic2.flac',) ('p295',) ('p298',) ('p295',) ('Irish',) ('American',)\n",
      "('data/American/p299/p299_005_mic2.flac',) ('data/American/p299/p299_198_mic2.flac',) ('data/American/p300/p300_130_mic1.flac',) ('data/Indian/p251/p251_248_mic1.flac',) ('p299',) ('p300',) ('p299',) ('American',) ('Indian',)\n",
      "('data/Indian/p248/p248_266_mic2.flac',) ('data/Indian/p248/p248_303_mic1.flac',) ('data/Indian/p376/p376_408_mic1.flac',) ('data/Irish/p298/p298_017_mic2.flac',) ('p248',) ('p376',) ('p248',) ('Indian',) ('Irish',)\n",
      "('data/Irish/p298/p298_090_mic1.flac',) ('data/Irish/p298/p298_270_mic2.flac',) ('data/Irish/p295/p295_415_mic1.flac',) ('data/American/p299/p299_231_mic2.flac',) ('p298',) ('p295',) ('p298',) ('Irish',) ('American',)\n",
      "('data/Indian/p251/p251_351_mic2.flac',) ('data/Indian/p251/p251_362_mic2.flac',) ('data/Indian/p248/p248_286_mic2.flac',) ('data/Irish/p295/p295_151_mic1.flac',) ('p251',) ('p248',) ('p251',) ('Indian',) ('Irish',)\n",
      "('data/Scottish/p284/p284_110_mic2.flac',) ('data/Scottish/p284/p284_216_mic2.flac',) ('data/Scottish/p237/p237_049_mic1.flac',) ('data/Irish/p295/p295_018_mic2.flac',) ('p284',) ('p237',) ('p284',) ('Scottish',) ('Irish',)\n",
      "('data/Scottish/p284/p284_299_mic2.flac',) ('data/Scottish/p284/p284_400_mic2.flac',) ('data/Scottish/p234/p234_066_mic1.flac',) ('data/Indian/p251/p251_336_mic2.flac',) ('p284',) ('p234',) ('p284',) ('Scottish',) ('Indian',)\n",
      "('data/Irish/p298/p298_162_mic2.flac',) ('data/Irish/p298/p298_186_mic1.flac',) ('data/Irish/p283/p283_244_mic2.flac',) ('data/Indian/p376/p376_142_mic1.flac',) ('p298',) ('p283',) ('p298',) ('Irish',) ('Indian',)\n",
      "('data/Irish/p245/p245_335_mic2.flac',) ('data/Irish/p245/p245_267_mic2.flac',) ('data/Irish/p295/p295_283_mic2.flac',) ('data/Indian/p376/p376_033_mic2.flac',) ('p245',) ('p295',) ('p245',) ('Irish',) ('Indian',)\n",
      "('data/American/p301/p301_024_mic2.flac',) ('data/American/p301/p301_018_mic2.flac',) ('data/American/p300/p300_023_mic2.flac',) ('data/Indian/p376/p376_050_mic2.flac',) ('p301',) ('p300',) ('p301',) ('American',) ('Indian',)\n",
      "('data/Irish/p283/p283_080_mic1.flac',) ('data/Irish/p283/p283_366_mic2.flac',) ('data/Irish/p298/p298_025_mic1.flac',) ('data/Scottish/p249/p249_208_mic1.flac',) ('p283',) ('p298',) ('p283',) ('Irish',) ('Scottish',)\n",
      "('data/Scottish/p237/p237_027_mic2.flac',) ('data/Scottish/p237/p237_117_mic1.flac',) ('data/Scottish/p249/p249_300_mic1.flac',) ('data/Irish/p283/p283_320_mic1.flac',) ('p237',) ('p249',) ('p237',) ('Scottish',) ('Irish',)\n",
      "('data/American/p300/p300_260_mic2.flac',) ('data/American/p300/p300_287_mic2.flac',) ('data/American/p301/p301_036_mic1.flac',) ('data/Scottish/p249/p249_243_mic1.flac',) ('p300',) ('p301',) ('p300',) ('American',) ('Scottish',)\n",
      "('data/American/p299/p299_067_mic1.flac',) ('data/American/p299/p299_281_mic2.flac',) ('data/American/p300/p300_029_mic2.flac',) ('data/Scottish/p284/p284_053_mic2.flac',) ('p299',) ('p300',) ('p299',) ('American',) ('Scottish',)\n",
      "('data/Scottish/p234/p234_088_mic1.flac',) ('data/Scottish/p234/p234_337_mic1.flac',) ('data/Scottish/p249/p249_059_mic2.flac',) ('data/Irish/p245/p245_129_mic2.flac',) ('p234',) ('p249',) ('p234',) ('Scottish',) ('Irish',)\n",
      "('data/Irish/p245/p245_130_mic1.flac',) ('data/Irish/p245/p245_212_mic2.flac',) ('data/Irish/p283/p283_146_mic1.flac',) ('data/Indian/p376/p376_349_mic2.flac',) ('p245',) ('p283',) ('p245',) ('Irish',) ('Indian',)\n",
      "('data/American/p300/p300_046_mic2.flac',) ('data/American/p300/p300_031_mic2.flac',) ('data/American/p301/p301_401_mic1.flac',) ('data/Indian/p251/p251_098_mic2.flac',) ('p300',) ('p301',) ('p300',) ('American',) ('Indian',)\n",
      "('data/Scottish/p234/p234_289_mic1.flac',) ('data/Scottish/p234/p234_061_mic1.flac',) ('data/Scottish/p249/p249_244_mic1.flac',) ('data/American/p300/p300_211_mic2.flac',) ('p234',) ('p249',) ('p234',) ('Scottish',) ('American',)\n",
      "('data/Indian/p251/p251_202_mic1.flac',) ('data/Indian/p251/p251_011_mic2.flac',) ('data/Indian/p376/p376_245_mic2.flac',) ('data/American/p300/p300_005_mic2.flac',) ('p251',) ('p376',) ('p251',) ('Indian',) ('American',)\n",
      "('data/Scottish/p237/p237_301_mic2.flac',) ('data/Scottish/p237/p237_334_mic2.flac',) ('data/Scottish/p249/p249_073_mic2.flac',) ('data/Indian/p376/p376_313_mic1.flac',) ('p237',) ('p249',) ('p237',) ('Scottish',) ('Indian',)\n",
      "('data/Indian/p251/p251_201_mic2.flac',) ('data/Indian/p251/p251_207_mic2.flac',) ('data/Indian/p248/p248_235_mic2.flac',) ('data/Scottish/p249/p249_238_mic1.flac',) ('p251',) ('p248',) ('p251',) ('Indian',) ('Scottish',)\n",
      "('data/American/p301/p301_231_mic2.flac',) ('data/American/p301/p301_369_mic2.flac',) ('data/American/p300/p300_101_mic1.flac',) ('data/Indian/p248/p248_163_mic1.flac',) ('p301',) ('p300',) ('p301',) ('American',) ('Indian',)\n",
      "('data/Indian/p376/p376_029_mic1.flac',) ('data/Indian/p376/p376_420_mic1.flac',) ('data/Indian/p251/p251_283_mic1.flac',) ('data/Irish/p283/p283_205_mic1.flac',) ('p376',) ('p251',) ('p376',) ('Indian',) ('Irish',)\n",
      "('data/Scottish/p234/p234_320_mic1.flac',) ('data/Scottish/p234/p234_291_mic1.flac',) ('data/Scottish/p237/p237_159_mic1.flac',) ('data/Irish/p245/p245_094_mic2.flac',) ('p234',) ('p237',) ('p234',) ('Scottish',) ('Irish',)\n",
      "('data/Irish/p283/p283_442_mic2.flac',) ('data/Irish/p283/p283_127_mic2.flac',) ('data/Irish/p245/p245_252_mic2.flac',) ('data/Indian/p248/p248_041_mic2.flac',) ('p283',) ('p245',) ('p283',) ('Irish',) ('Indian',)\n",
      "('data/Indian/p376/p376_241_mic2.flac',) ('data/Indian/p376/p376_252_mic2.flac',) ('data/Indian/p248/p248_236_mic1.flac',) ('data/Scottish/p234/p234_168_mic2.flac',) ('p376',) ('p248',) ('p376',) ('Indian',) ('Scottish',)\n",
      "('data/Indian/p376/p376_008_mic1.flac',) ('data/Indian/p376/p376_058_mic1.flac',) ('data/Indian/p248/p248_334_mic1.flac',) ('data/American/p301/p301_050_mic2.flac',) ('p376',) ('p248',) ('p376',) ('Indian',) ('American',)\n",
      "('data/American/p300/p300_054_mic2.flac',) ('data/American/p300/p300_366_mic1.flac',) ('data/American/p301/p301_359_mic2.flac',) ('data/Indian/p248/p248_276_mic2.flac',) ('p300',) ('p301',) ('p300',) ('American',) ('Indian',)\n",
      "('data/American/p300/p300_316_mic2.flac',) ('data/American/p300/p300_142_mic2.flac',) ('data/American/p299/p299_175_mic1.flac',) ('data/Scottish/p234/p234_240_mic2.flac',) ('p300',) ('p299',) ('p300',) ('American',) ('Scottish',)\n",
      "('data/Scottish/p249/p249_331_mic2.flac',) ('data/Scottish/p249/p249_219_mic1.flac',) ('data/Scottish/p284/p284_168_mic1.flac',) ('data/Indian/p248/p248_212_mic2.flac',) ('p249',) ('p284',) ('p249',) ('Scottish',) ('Indian',)\n",
      "('data/American/p301/p301_317_mic1.flac',) ('data/American/p301/p301_320_mic1.flac',) ('data/American/p300/p300_186_mic2.flac',) ('data/Indian/p376/p376_383_mic1.flac',) ('p301',) ('p300',) ('p301',) ('American',) ('Indian',)\n",
      "('data/American/p301/p301_170_mic2.flac',) ('data/American/p301/p301_169_mic2.flac',) ('data/American/p300/p300_070_mic1.flac',) ('data/Scottish/p249/p249_315_mic1.flac',) ('p301',) ('p300',) ('p301',) ('American',) ('Scottish',)\n",
      "('data/Irish/p245/p245_308_mic2.flac',) ('data/Irish/p245/p245_262_mic2.flac',) ('data/Irish/p295/p295_096_mic1.flac',) ('data/Scottish/p284/p284_242_mic1.flac',) ('p245',) ('p295',) ('p245',) ('Irish',) ('Scottish',)\n",
      "('data/Irish/p298/p298_288_mic1.flac',) ('data/Irish/p298/p298_149_mic1.flac',) ('data/Irish/p283/p283_270_mic2.flac',) ('data/Scottish/p284/p284_037_mic1.flac',) ('p298',) ('p283',) ('p298',) ('Irish',) ('Scottish',)\n",
      "('data/Indian/p376/p376_190_mic2.flac',) ('data/Indian/p376/p376_076_mic2.flac',) ('data/Indian/p248/p248_161_mic1.flac',) ('data/American/p300/p300_260_mic2.flac',) ('p376',) ('p248',) ('p376',) ('Indian',) ('American',)\n",
      "('data/Irish/p298/p298_314_mic1.flac',) ('data/Irish/p298/p298_152_mic2.flac',) ('data/Irish/p245/p245_270_mic1.flac',) ('data/Scottish/p249/p249_317_mic1.flac',) ('p298',) ('p245',) ('p298',) ('Irish',) ('Scottish',)\n",
      "('data/Irish/p295/p295_066_mic2.flac',) ('data/Irish/p295/p295_242_mic2.flac',) ('data/Irish/p298/p298_025_mic2.flac',) ('data/Indian/p248/p248_044_mic2.flac',) ('p295',) ('p298',) ('p295',) ('Irish',) ('Indian',)\n",
      "('data/Scottish/p237/p237_300_mic2.flac',) ('data/Scottish/p237/p237_148_mic1.flac',) ('data/Scottish/p249/p249_236_mic1.flac',) ('data/Indian/p251/p251_106_mic1.flac',) ('p237',) ('p249',) ('p237',) ('Scottish',) ('Indian',)\n",
      "('data/American/p300/p300_052_mic1.flac',) ('data/American/p300/p300_123_mic1.flac',) ('data/American/p299/p299_183_mic1.flac',) ('data/Scottish/p237/p237_138_mic2.flac',) ('p300',) ('p299',) ('p300',) ('American',) ('Scottish',)\n",
      "('data/American/p299/p299_079_mic1.flac',) ('data/American/p299/p299_010_mic1.flac',) ('data/American/p301/p301_370_mic2.flac',) ('data/Indian/p248/p248_341_mic1.flac',) ('p299',) ('p301',) ('p299',) ('American',) ('Indian',)\n",
      "('data/Irish/p295/p295_365_mic2.flac',) ('data/Irish/p295/p295_190_mic1.flac',) ('data/Irish/p298/p298_194_mic2.flac',) ('data/Indian/p248/p248_350_mic1.flac',) ('p295',) ('p298',) ('p295',) ('Irish',) ('Indian',)\n",
      "('data/Scottish/p234/p234_223_mic2.flac',) ('data/Scottish/p234/p234_023_mic1.flac',) ('data/Scottish/p237/p237_251_mic1.flac',) ('data/Indian/p376/p376_180_mic1.flac',) ('p234',) ('p237',) ('p234',) ('Scottish',) ('Indian',)\n",
      "('data/Scottish/p284/p284_339_mic2.flac',) ('data/Scottish/p284/p284_291_mic2.flac',) ('data/Scottish/p234/p234_093_mic2.flac',) ('data/American/p299/p299_144_mic2.flac',) ('p284',) ('p234',) ('p284',) ('Scottish',) ('American',)\n",
      "('data/Irish/p295/p295_161_mic2.flac',) ('data/Irish/p295/p295_368_mic2.flac',) ('data/Irish/p245/p245_211_mic1.flac',) ('data/American/p300/p300_014_mic2.flac',) ('p295',) ('p245',) ('p295',) ('Irish',) ('American',)\n",
      "('data/Scottish/p234/p234_360_mic2.flac',) ('data/Scottish/p234/p234_331_mic1.flac',) ('data/Scottish/p249/p249_332_mic2.flac',) ('data/Irish/p245/p245_156_mic1.flac',) ('p234',) ('p249',) ('p234',) ('Scottish',) ('Irish',)\n",
      "('data/American/p299/p299_277_mic2.flac',) ('data/American/p299/p299_128_mic2.flac',) ('data/American/p301/p301_106_mic2.flac',) ('data/Irish/p295/p295_140_mic1.flac',) ('p299',) ('p301',) ('p299',) ('American',) ('Irish',)\n",
      "('data/Scottish/p234/p234_198_mic1.flac',) ('data/Scottish/p234/p234_042_mic1.flac',) ('data/Scottish/p249/p249_140_mic1.flac',) ('data/American/p299/p299_057_mic2.flac',) ('p234',) ('p249',) ('p234',) ('Scottish',) ('American',)\n",
      "('data/Irish/p245/p245_168_mic1.flac',) ('data/Irish/p245/p245_253_mic1.flac',) ('data/Irish/p283/p283_330_mic2.flac',) ('data/American/p301/p301_318_mic2.flac',) ('p245',) ('p283',) ('p245',) ('Irish',) ('American',)\n",
      "('data/American/p299/p299_219_mic2.flac',) ('data/American/p299/p299_278_mic2.flac',) ('data/American/p301/p301_272_mic1.flac',) ('data/Irish/p283/p283_426_mic1.flac',) ('p299',) ('p301',) ('p299',) ('American',) ('Irish',)\n",
      "('data/Scottish/p234/p234_176_mic1.flac',) ('data/Scottish/p234/p234_047_mic2.flac',) ('data/Scottish/p237/p237_009_mic2.flac',) ('data/Irish/p245/p245_098_mic2.flac',) ('p234',) ('p237',) ('p234',) ('Scottish',) ('Irish',)\n"
     ]
    },
    {
     "name": "stdout",
     "output_type": "stream",
     "text": [
      "('data/Indian/p248/p248_061_mic2.flac',) ('data/Indian/p248/p248_342_mic2.flac',) ('data/Indian/p251/p251_189_mic2.flac',) ('data/Irish/p283/p283_410_mic1.flac',) ('p248',) ('p251',) ('p248',) ('Indian',) ('Irish',)\n",
      "('data/Scottish/p284/p284_154_mic2.flac',) ('data/Scottish/p284/p284_349_mic1.flac',) ('data/Scottish/p237/p237_011_mic2.flac',) ('data/American/p299/p299_317_mic1.flac',) ('p284',) ('p237',) ('p284',) ('Scottish',) ('American',)\n",
      "('data/Irish/p245/p245_051_mic2.flac',) ('data/Irish/p245/p245_306_mic2.flac',) ('data/Irish/p298/p298_312_mic1.flac',) ('data/Indian/p248/p248_220_mic1.flac',) ('p245',) ('p298',) ('p245',) ('Irish',) ('Indian',)\n",
      "('data/Scottish/p249/p249_280_mic1.flac',) ('data/Scottish/p249/p249_070_mic2.flac',) ('data/Scottish/p237/p237_235_mic2.flac',) ('data/Irish/p298/p298_400_mic2.flac',) ('p249',) ('p237',) ('p249',) ('Scottish',) ('Irish',)\n",
      "('data/Indian/p251/p251_058_mic2.flac',) ('data/Indian/p251/p251_309_mic1.flac',) ('data/Indian/p248/p248_164_mic1.flac',) ('data/Irish/p298/p298_384_mic2.flac',) ('p251',) ('p248',) ('p251',) ('Indian',) ('Irish',)\n",
      "('data/Scottish/p234/p234_184_mic2.flac',) ('data/Scottish/p234/p234_311_mic1.flac',) ('data/Scottish/p237/p237_339_mic2.flac',) ('data/Irish/p295/p295_284_mic2.flac',) ('p234',) ('p237',) ('p234',) ('Scottish',) ('Irish',)\n",
      "('data/Irish/p245/p245_138_mic2.flac',) ('data/Irish/p245/p245_289_mic1.flac',) ('data/Irish/p283/p283_393_mic2.flac',) ('data/Indian/p248/p248_109_mic2.flac',) ('p245',) ('p283',) ('p245',) ('Irish',) ('Indian',)\n",
      "('data/Scottish/p284/p284_307_mic1.flac',) ('data/Scottish/p284/p284_268_mic1.flac',) ('data/Scottish/p237/p237_108_mic1.flac',) ('data/American/p299/p299_142_mic1.flac',) ('p284',) ('p237',) ('p284',) ('Scottish',) ('American',)\n",
      "('data/Scottish/p234/p234_123_mic1.flac',) ('data/Scottish/p234/p234_353_mic1.flac',) ('data/Scottish/p284/p284_157_mic1.flac',) ('data/American/p299/p299_376_mic2.flac',) ('p234',) ('p284',) ('p234',) ('Scottish',) ('American',)\n",
      "('data/American/p301/p301_217_mic2.flac',) ('data/American/p301/p301_386_mic2.flac',) ('data/American/p300/p300_153_mic2.flac',) ('data/Indian/p248/p248_129_mic1.flac',) ('p301',) ('p300',) ('p301',) ('American',) ('Indian',)\n",
      "('data/Indian/p248/p248_329_mic2.flac',) ('data/Indian/p248/p248_062_mic2.flac',) ('data/Indian/p376/p376_003_mic1.flac',) ('data/Irish/p298/p298_203_mic1.flac',) ('p248',) ('p376',) ('p248',) ('Indian',) ('Irish',)\n",
      "('data/Irish/p245/p245_331_mic2.flac',) ('data/Irish/p245/p245_059_mic2.flac',) ('data/Irish/p298/p298_127_mic1.flac',) ('data/American/p301/p301_155_mic1.flac',) ('p245',) ('p298',) ('p245',) ('Irish',) ('American',)\n",
      "('data/American/p300/p300_270_mic1.flac',) ('data/American/p300/p300_207_mic2.flac',) ('data/American/p299/p299_279_mic1.flac',) ('data/Irish/p295/p295_291_mic2.flac',) ('p300',) ('p299',) ('p300',) ('American',) ('Irish',)\n",
      "('data/Indian/p251/p251_049_mic1.flac',) ('data/Indian/p251/p251_104_mic1.flac',) ('data/Indian/p376/p376_389_mic1.flac',) ('data/Scottish/p249/p249_046_mic1.flac',) ('p251',) ('p376',) ('p251',) ('Indian',) ('Scottish',)\n",
      "('data/Indian/p376/p376_242_mic2.flac',) ('data/Indian/p376/p376_417_mic2.flac',) ('data/Indian/p251/p251_203_mic2.flac',) ('data/American/p300/p300_162_mic2.flac',) ('p376',) ('p251',) ('p376',) ('Indian',) ('American',)\n",
      "('data/American/p299/p299_304_mic1.flac',) ('data/American/p299/p299_164_mic2.flac',) ('data/American/p300/p300_047_mic2.flac',) ('data/Irish/p245/p245_320_mic2.flac',) ('p299',) ('p300',) ('p299',) ('American',) ('Irish',)\n",
      "('data/Indian/p376/p376_374_mic2.flac',) ('data/Indian/p376/p376_249_mic2.flac',) ('data/Indian/p248/p248_304_mic1.flac',) ('data/Scottish/p249/p249_155_mic1.flac',) ('p376',) ('p248',) ('p376',) ('Indian',) ('Scottish',)\n",
      "('data/Scottish/p234/p234_269_mic1.flac',) ('data/Scottish/p234/p234_013_mic1.flac',) ('data/Scottish/p237/p237_298_mic2.flac',) ('data/Irish/p283/p283_258_mic2.flac',) ('p234',) ('p237',) ('p234',) ('Scottish',) ('Irish',)\n",
      "('data/Irish/p245/p245_211_mic1.flac',) ('data/Irish/p245/p245_096_mic1.flac',) ('data/Irish/p295/p295_389_mic1.flac',) ('data/American/p300/p300_073_mic2.flac',) ('p245',) ('p295',) ('p245',) ('Irish',) ('American',)\n",
      "('data/Scottish/p237/p237_332_mic1.flac',) ('data/Scottish/p237/p237_181_mic2.flac',) ('data/Scottish/p284/p284_197_mic1.flac',) ('data/Irish/p298/p298_370_mic1.flac',) ('p237',) ('p284',) ('p237',) ('Scottish',) ('Irish',)\n",
      "('data/Irish/p283/p283_239_mic2.flac',) ('data/Irish/p283/p283_228_mic2.flac',) ('data/Irish/p295/p295_099_mic2.flac',) ('data/American/p300/p300_030_mic2.flac',) ('p283',) ('p295',) ('p283',) ('Irish',) ('American',)\n",
      "('data/Scottish/p234/p234_234_mic2.flac',) ('data/Scottish/p234/p234_329_mic2.flac',) ('data/Scottish/p237/p237_325_mic1.flac',) ('data/Irish/p295/p295_127_mic1.flac',) ('p234',) ('p237',) ('p234',) ('Scottish',) ('Irish',)\n",
      "('data/American/p300/p300_156_mic2.flac',) ('data/American/p300/p300_315_mic2.flac',) ('data/American/p299/p299_060_mic2.flac',) ('data/Irish/p295/p295_286_mic2.flac',) ('p300',) ('p299',) ('p300',) ('American',) ('Irish',)\n",
      "('data/American/p300/p300_301_mic1.flac',) ('data/American/p300/p300_315_mic1.flac',) ('data/American/p301/p301_359_mic2.flac',) ('data/Irish/p245/p245_061_mic2.flac',) ('p300',) ('p301',) ('p300',) ('American',) ('Irish',)\n",
      "('data/Indian/p251/p251_338_mic2.flac',) ('data/Indian/p251/p251_150_mic2.flac',) ('data/Indian/p248/p248_008_mic1.flac',) ('data/Irish/p245/p245_131_mic1.flac',) ('p251',) ('p248',) ('p251',) ('Indian',) ('Irish',)\n",
      "('data/Irish/p283/p283_312_mic2.flac',) ('data/Irish/p283/p283_426_mic1.flac',) ('data/Irish/p295/p295_356_mic2.flac',) ('data/Indian/p376/p376_211_mic1.flac',) ('p283',) ('p295',) ('p283',) ('Irish',) ('Indian',)\n",
      "('data/Scottish/p249/p249_209_mic2.flac',) ('data/Scottish/p249/p249_082_mic1.flac',) ('data/Scottish/p234/p234_273_mic1.flac',) ('data/American/p301/p301_252_mic1.flac',) ('p249',) ('p234',) ('p249',) ('Scottish',) ('American',)\n",
      "('data/Scottish/p237/p237_088_mic1.flac',) ('data/Scottish/p237/p237_020_mic1.flac',) ('data/Scottish/p284/p284_210_mic2.flac',) ('data/American/p301/p301_268_mic1.flac',) ('p237',) ('p284',) ('p237',) ('Scottish',) ('American',)\n",
      "('data/Scottish/p284/p284_395_mic2.flac',) ('data/Scottish/p284/p284_131_mic1.flac',) ('data/Scottish/p234/p234_032_mic2.flac',) ('data/American/p299/p299_062_mic1.flac',) ('p284',) ('p234',) ('p284',) ('Scottish',) ('American',)\n",
      "('data/Indian/p248/p248_022_mic2.flac',) ('data/Indian/p248/p248_317_mic1.flac',) ('data/Indian/p376/p376_177_mic2.flac',) ('data/Scottish/p234/p234_292_mic1.flac',) ('p248',) ('p376',) ('p248',) ('Indian',) ('Scottish',)\n",
      "('data/Indian/p248/p248_324_mic2.flac',) ('data/Indian/p248/p248_160_mic2.flac',) ('data/Indian/p251/p251_158_mic2.flac',) ('data/Irish/p295/p295_263_mic1.flac',) ('p248',) ('p251',) ('p248',) ('Indian',) ('Irish',)\n",
      "('data/Indian/p251/p251_326_mic1.flac',) ('data/Indian/p251/p251_038_mic1.flac',) ('data/Indian/p376/p376_305_mic2.flac',) ('data/American/p299/p299_254_mic2.flac',) ('p251',) ('p376',) ('p251',) ('Indian',) ('American',)\n",
      "('data/American/p300/p300_216_mic2.flac',) ('data/American/p300/p300_267_mic1.flac',) ('data/American/p301/p301_311_mic1.flac',) ('data/Scottish/p234/p234_245_mic1.flac',) ('p300',) ('p301',) ('p300',) ('American',) ('Scottish',)\n",
      "('data/American/p300/p300_380_mic1.flac',) ('data/American/p300/p300_024_mic1.flac',) ('data/American/p301/p301_315_mic1.flac',) ('data/Scottish/p284/p284_048_mic2.flac',) ('p300',) ('p301',) ('p300',) ('American',) ('Scottish',)\n",
      "('data/Scottish/p234/p234_007_mic1.flac',) ('data/Scottish/p234/p234_156_mic1.flac',) ('data/Scottish/p284/p284_295_mic2.flac',) ('data/Indian/p248/p248_187_mic1.flac',) ('p234',) ('p284',) ('p234',) ('Scottish',) ('Indian',)\n",
      "('data/American/p299/p299_028_mic1.flac',) ('data/American/p299/p299_068_mic1.flac',) ('data/American/p301/p301_046_mic2.flac',) ('data/Scottish/p249/p249_248_mic2.flac',) ('p299',) ('p301',) ('p299',) ('American',) ('Scottish',)\n",
      "('data/American/p299/p299_118_mic1.flac',) ('data/American/p299/p299_132_mic2.flac',) ('data/American/p301/p301_350_mic2.flac',) ('data/Scottish/p284/p284_372_mic2.flac',) ('p299',) ('p301',) ('p299',) ('American',) ('Scottish',)\n",
      "('data/American/p301/p301_020_mic2.flac',) ('data/American/p301/p301_346_mic1.flac',) ('data/American/p300/p300_272_mic2.flac',) ('data/Scottish/p234/p234_023_mic2.flac',) ('p301',) ('p300',) ('p301',) ('American',) ('Scottish',)\n",
      "('data/Indian/p248/p248_361_mic1.flac',) ('data/Indian/p248/p248_040_mic2.flac',) ('data/Indian/p376/p376_194_mic2.flac',) ('data/Scottish/p284/p284_128_mic2.flac',) ('p248',) ('p376',) ('p248',) ('Indian',) ('Scottish',)\n",
      "('data/Irish/p245/p245_217_mic2.flac',) ('data/Irish/p245/p245_335_mic1.flac',) ('data/Irish/p283/p283_349_mic1.flac',) ('data/American/p299/p299_346_mic1.flac',) ('p245',) ('p283',) ('p245',) ('Irish',) ('American',)\n",
      "('data/Irish/p283/p283_197_mic2.flac',) ('data/Irish/p283/p283_199_mic2.flac',) ('data/Irish/p298/p298_013_mic1.flac',) ('data/Indian/p251/p251_201_mic2.flac',) ('p283',) ('p298',) ('p283',) ('Irish',) ('Indian',)\n",
      "('data/Scottish/p237/p237_232_mic1.flac',) ('data/Scottish/p237/p237_275_mic2.flac',) ('data/Scottish/p284/p284_153_mic1.flac',) ('data/Indian/p376/p376_195_mic1.flac',) ('p237',) ('p284',) ('p237',) ('Scottish',) ('Indian',)\n",
      "('data/American/p300/p300_225_mic1.flac',) ('data/American/p300/p300_235_mic2.flac',) ('data/American/p301/p301_089_mic1.flac',) ('data/Scottish/p234/p234_354_mic2.flac',) ('p300',) ('p301',) ('p300',) ('American',) ('Scottish',)\n",
      "('data/Indian/p251/p251_223_mic1.flac',) ('data/Indian/p251/p251_323_mic2.flac',) ('data/Indian/p248/p248_295_mic2.flac',) ('data/Scottish/p249/p249_022_mic1.flac',) ('p251',) ('p248',) ('p251',) ('Indian',) ('Scottish',)\n",
      "('data/Scottish/p237/p237_274_mic2.flac',) ('data/Scottish/p237/p237_068_mic1.flac',) ('data/Scottish/p234/p234_243_mic2.flac',) ('data/Irish/p283/p283_471_mic2.flac',) ('p237',) ('p234',) ('p237',) ('Scottish',) ('Irish',)\n",
      "('data/American/p299/p299_339_mic2.flac',) ('data/American/p299/p299_364_mic2.flac',) ('data/American/p300/p300_212_mic2.flac',) ('data/Irish/p283/p283_270_mic1.flac',) ('p299',) ('p300',) ('p299',) ('American',) ('Irish',)\n",
      "('data/Indian/p251/p251_198_mic2.flac',) ('data/Indian/p251/p251_115_mic1.flac',) ('data/Indian/p248/p248_271_mic2.flac',) ('data/Scottish/p234/p234_139_mic2.flac',) ('p251',) ('p248',) ('p251',) ('Indian',) ('Scottish',)\n",
      "('data/American/p299/p299_050_mic2.flac',) ('data/American/p299/p299_021_mic2.flac',) ('data/American/p301/p301_282_mic2.flac',) ('data/Irish/p298/p298_175_mic2.flac',) ('p299',) ('p301',) ('p299',) ('American',) ('Irish',)\n",
      "('data/Scottish/p284/p284_319_mic1.flac',) ('data/Scottish/p284/p284_175_mic1.flac',) ('data/Scottish/p249/p249_298_mic2.flac',) ('data/Irish/p283/p283_317_mic1.flac',) ('p284',) ('p249',) ('p284',) ('Scottish',) ('Irish',)\n",
      "('data/Scottish/p237/p237_009_mic1.flac',) ('data/Scottish/p237/p237_334_mic1.flac',) ('data/Scottish/p249/p249_125_mic1.flac',) ('data/Irish/p245/p245_194_mic1.flac',) ('p237',) ('p249',) ('p237',) ('Scottish',) ('Irish',)\n",
      "('data/Indian/p251/p251_208_mic1.flac',) ('data/Indian/p251/p251_162_mic1.flac',) ('data/Indian/p376/p376_310_mic2.flac',) ('data/American/p301/p301_268_mic1.flac',) ('p251',) ('p376',) ('p251',) ('Indian',) ('American',)\n",
      "('data/Scottish/p249/p249_037_mic2.flac',) ('data/Scottish/p249/p249_320_mic1.flac',) ('data/Scottish/p237/p237_327_mic2.flac',) ('data/Indian/p251/p251_357_mic1.flac',) ('p249',) ('p237',) ('p249',) ('Scottish',) ('Indian',)\n",
      "('data/Scottish/p249/p249_301_mic1.flac',) ('data/Scottish/p249/p249_159_mic2.flac',) ('data/Scottish/p237/p237_292_mic2.flac',) ('data/Indian/p248/p248_370_mic2.flac',) ('p249',) ('p237',) ('p249',) ('Scottish',) ('Indian',)\n",
      "('data/American/p299/p299_187_mic2.flac',) ('data/American/p299/p299_110_mic2.flac',) ('data/American/p300/p300_370_mic2.flac',) ('data/Indian/p251/p251_167_mic1.flac',) ('p299',) ('p300',) ('p299',) ('American',) ('Indian',)\n",
      "('data/Indian/p248/p248_193_mic1.flac',) ('data/Indian/p248/p248_226_mic2.flac',) ('data/Indian/p251/p251_107_mic2.flac',) ('data/American/p299/p299_192_mic1.flac',) ('p248',) ('p251',) ('p248',) ('Indian',) ('American',)\n",
      "('data/Indian/p248/p248_001_mic1.flac',) ('data/Indian/p248/p248_082_mic1.flac',) ('data/Indian/p376/p376_196_mic1.flac',) ('data/Scottish/p284/p284_120_mic2.flac',) ('p248',) ('p376',) ('p248',) ('Indian',) ('Scottish',)\n",
      "('data/Indian/p376/p376_039_mic1.flac',) ('data/Indian/p376/p376_239_mic2.flac',) ('data/Indian/p248/p248_162_mic2.flac',) ('data/Irish/p283/p283_299_mic2.flac',) ('p376',) ('p248',) ('p376',) ('Indian',) ('Irish',)\n",
      "('data/Indian/p376/p376_194_mic2.flac',) ('data/Indian/p376/p376_048_mic1.flac',) ('data/Indian/p251/p251_005_mic2.flac',) ('data/Irish/p295/p295_192_mic1.flac',) ('p376',) ('p251',) ('p376',) ('Indian',) ('Irish',)\n",
      "('data/Indian/p248/p248_179_mic1.flac',) ('data/Indian/p248/p248_242_mic1.flac',) ('data/Indian/p376/p376_204_mic2.flac',) ('data/Scottish/p249/p249_258_mic1.flac',) ('p248',) ('p376',) ('p248',) ('Indian',) ('Scottish',)\n",
      "('data/Irish/p295/p295_052_mic1.flac',) ('data/Irish/p295/p295_241_mic2.flac',) ('data/Irish/p298/p298_019_mic1.flac',) ('data/Scottish/p234/p234_235_mic2.flac',) ('p295',) ('p298',) ('p295',) ('Irish',) ('Scottish',)\n",
      "('data/Scottish/p237/p237_121_mic2.flac',) ('data/Scottish/p237/p237_029_mic1.flac',) ('data/Scottish/p284/p284_056_mic1.flac',) ('data/American/p299/p299_404_mic1.flac',) ('p237',) ('p284',) ('p237',) ('Scottish',) ('American',)\n",
      "('data/Indian/p376/p376_211_mic1.flac',) ('data/Indian/p376/p376_308_mic1.flac',) ('data/Indian/p251/p251_092_mic1.flac',) ('data/Irish/p245/p245_320_mic2.flac',) ('p376',) ('p251',) ('p376',) ('Indian',) ('Irish',)\n",
      "('data/Indian/p251/p251_049_mic2.flac',) ('data/Indian/p251/p251_145_mic2.flac',) ('data/Indian/p248/p248_060_mic2.flac',) ('data/American/p300/p300_001_mic2.flac',) ('p251',) ('p248',) ('p251',) ('Indian',) ('American',)\n",
      "('data/Scottish/p284/p284_024_mic2.flac',) ('data/Scottish/p284/p284_183_mic2.flac',) ('data/Scottish/p249/p249_128_mic1.flac',) ('data/American/p300/p300_108_mic1.flac',) ('p284',) ('p249',) ('p284',) ('Scottish',) ('American',)\n",
      "('data/Indian/p251/p251_039_mic2.flac',) ('data/Indian/p251/p251_286_mic1.flac',) ('data/Indian/p248/p248_068_mic2.flac',) ('data/American/p299/p299_339_mic2.flac',) ('p251',) ('p248',) ('p251',) ('Indian',) ('American',)\n",
      "('data/American/p299/p299_216_mic2.flac',) ('data/American/p299/p299_404_mic1.flac',) ('data/American/p300/p300_235_mic1.flac',) ('data/Indian/p376/p376_331_mic1.flac',) ('p299',) ('p300',) ('p299',) ('American',) ('Indian',)\n",
      "('data/Irish/p298/p298_003_mic2.flac',) ('data/Irish/p298/p298_397_mic1.flac',) ('data/Irish/p283/p283_404_mic1.flac',) ('data/Indian/p376/p376_064_mic1.flac',) ('p298',) ('p283',) ('p298',) ('Irish',) ('Indian',)\n",
      "('data/American/p300/p300_331_mic2.flac',) ('data/American/p300/p300_206_mic2.flac',) ('data/American/p301/p301_315_mic2.flac',) ('data/Irish/p245/p245_069_mic1.flac',) ('p300',) ('p301',) ('p300',) ('American',) ('Irish',)\n",
      "('data/American/p301/p301_280_mic1.flac',) ('data/American/p301/p301_339_mic2.flac',) ('data/American/p299/p299_070_mic2.flac',) ('data/Indian/p248/p248_216_mic2.flac',) ('p301',) ('p299',) ('p301',) ('American',) ('Indian',)\n",
      "('data/Scottish/p249/p249_284_mic1.flac',) ('data/Scottish/p249/p249_285_mic1.flac',) ('data/Scottish/p284/p284_399_mic1.flac',) ('data/Irish/p298/p298_202_mic2.flac',) ('p249',) ('p284',) ('p249',) ('Scottish',) ('Irish',)\n",
      "('data/American/p301/p301_070_mic2.flac',) ('data/American/p301/p301_223_mic2.flac',) ('data/American/p300/p300_250_mic1.flac',) ('data/Scottish/p237/p237_240_mic1.flac',) ('p301',) ('p300',) ('p301',) ('American',) ('Scottish',)\n",
      "('data/Irish/p295/p295_209_mic1.flac',) ('data/Irish/p295/p295_015_mic2.flac',) ('data/Irish/p283/p283_464_mic2.flac',) ('data/Scottish/p284/p284_363_mic1.flac',) ('p295',) ('p283',) ('p295',) ('Irish',) ('Scottish',)\n",
      "('data/Scottish/p234/p234_057_mic1.flac',) ('data/Scottish/p234/p234_291_mic1.flac',) ('data/Scottish/p237/p237_006_mic1.flac',) ('data/Irish/p298/p298_100_mic1.flac',) ('p234',) ('p237',) ('p234',) ('Scottish',) ('Irish',)\n",
      "('data/Irish/p283/p283_447_mic1.flac',) ('data/Irish/p283/p283_175_mic2.flac',) ('data/Irish/p245/p245_150_mic2.flac',) ('data/Indian/p376/p376_356_mic1.flac',) ('p283',) ('p245',) ('p283',) ('Irish',) ('Indian',)\n",
      "('data/Irish/p283/p283_383_mic2.flac',) ('data/Irish/p283/p283_326_mic1.flac',) ('data/Irish/p245/p245_282_mic2.flac',) ('data/Scottish/p284/p284_212_mic1.flac',) ('p283',) ('p245',) ('p283',) ('Irish',) ('Scottish',)\n",
      "('data/Scottish/p234/p234_243_mic2.flac',) ('data/Scottish/p234/p234_354_mic1.flac',) ('data/Scottish/p237/p237_138_mic2.flac',) ('data/Indian/p248/p248_366_mic2.flac',) ('p234',) ('p237',) ('p234',) ('Scottish',) ('Indian',)\n",
      "('data/Irish/p295/p295_352_mic2.flac',) ('data/Irish/p295/p295_113_mic1.flac',) ('data/Irish/p245/p245_353_mic1.flac',) ('data/Indian/p251/p251_003_mic1.flac',) ('p295',) ('p245',) ('p295',) ('Irish',) ('Indian',)\n",
      "('data/Indian/p251/p251_319_mic1.flac',) ('data/Indian/p251/p251_301_mic2.flac',) ('data/Indian/p248/p248_248_mic1.flac',) ('data/Scottish/p284/p284_010_mic2.flac',) ('p251',) ('p248',) ('p251',) ('Indian',) ('Scottish',)\n",
      "('data/American/p300/p300_229_mic1.flac',) ('data/American/p300/p300_031_mic1.flac',) ('data/American/p301/p301_091_mic1.flac',) ('data/Irish/p283/p283_248_mic1.flac',) ('p300',) ('p301',) ('p300',) ('American',) ('Irish',)\n",
      "('data/Irish/p298/p298_349_mic1.flac',) ('data/Irish/p298/p298_328_mic2.flac',) ('data/Irish/p283/p283_048_mic1.flac',) ('data/Indian/p248/p248_033_mic2.flac',) ('p298',) ('p283',) ('p298',) ('Irish',) ('Indian',)\n",
      "('data/American/p299/p299_154_mic1.flac',) ('data/American/p299/p299_339_mic1.flac',) ('data/American/p300/p300_382_mic1.flac',) ('data/Scottish/p284/p284_209_mic2.flac',) ('p299',) ('p300',) ('p299',) ('American',) ('Scottish',)\n",
      "('data/American/p300/p300_153_mic2.flac',) ('data/American/p300/p300_389_mic1.flac',) ('data/American/p301/p301_355_mic2.flac',) ('data/Indian/p251/p251_018_mic2.flac',) ('p300',) ('p301',) ('p300',) ('American',) ('Indian',)\n",
      "('data/American/p300/p300_233_mic2.flac',) ('data/American/p300/p300_308_mic1.flac',) ('data/American/p301/p301_288_mic2.flac',) ('data/Indian/p376/p376_275_mic2.flac',) ('p300',) ('p301',) ('p300',) ('American',) ('Indian',)\n",
      "('data/Irish/p283/p283_273_mic2.flac',) ('data/Irish/p283/p283_244_mic2.flac',) ('data/Irish/p298/p298_172_mic2.flac',) ('data/Scottish/p284/p284_307_mic1.flac',) ('p283',) ('p298',) ('p283',) ('Irish',) ('Scottish',)\n",
      "('data/American/p299/p299_351_mic1.flac',) ('data/American/p299/p299_296_mic2.flac',) ('data/American/p301/p301_359_mic2.flac',) ('data/Irish/p245/p245_031_mic2.flac',) ('p299',) ('p301',) ('p299',) ('American',) ('Irish',)\n",
      "('data/American/p301/p301_255_mic1.flac',) ('data/American/p301/p301_235_mic1.flac',) ('data/American/p299/p299_272_mic2.flac',) ('data/Indian/p251/p251_068_mic2.flac',) ('p301',) ('p299',) ('p301',) ('American',) ('Indian',)\n",
      "('data/Scottish/p234/p234_334_mic2.flac',) ('data/Scottish/p234/p234_355_mic1.flac',) ('data/Scottish/p249/p249_305_mic1.flac',) ('data/American/p299/p299_124_mic1.flac',) ('p234',) ('p249',) ('p234',) ('Scottish',) ('American',)\n",
      "('data/Indian/p376/p376_113_mic2.flac',) ('data/Indian/p376/p376_290_mic1.flac',) ('data/Indian/p248/p248_111_mic2.flac',) ('data/American/p300/p300_207_mic2.flac',) ('p376',) ('p248',) ('p376',) ('Indian',) ('American',)\n",
      "('data/Indian/p248/p248_300_mic1.flac',) ('data/Indian/p248/p248_179_mic2.flac',) ('data/Indian/p376/p376_397_mic2.flac',) ('data/American/p301/p301_176_mic2.flac',) ('p248',) ('p376',) ('p248',) ('Indian',) ('American',)\n",
      "('data/Irish/p283/p283_359_mic2.flac',) ('data/Irish/p283/p283_150_mic1.flac',) ('data/Irish/p295/p295_360_mic1.flac',) ('data/Scottish/p249/p249_005_mic2.flac',) ('p283',) ('p295',) ('p283',) ('Irish',) ('Scottish',)\n",
      "('data/Irish/p245/p245_325_mic2.flac',) ('data/Irish/p245/p245_202_mic1.flac',) ('data/Irish/p298/p298_370_mic1.flac',) ('data/Scottish/p249/p249_125_mic1.flac',) ('p245',) ('p298',) ('p245',) ('Irish',) ('Scottish',)\n",
      "('data/Irish/p283/p283_462_mic2.flac',) ('data/Irish/p283/p283_160_mic1.flac',) ('data/Irish/p295/p295_028_mic2.flac',) ('data/Indian/p251/p251_090_mic1.flac',) ('p283',) ('p295',) ('p283',) ('Irish',) ('Indian',)\n",
      "('data/Scottish/p237/p237_010_mic2.flac',) ('data/Scottish/p237/p237_090_mic2.flac',) ('data/Scottish/p284/p284_057_mic1.flac',) ('data/Indian/p248/p248_153_mic1.flac',) ('p237',) ('p284',) ('p237',) ('Scottish',) ('Indian',)\n",
      "('data/Indian/p251/p251_089_mic2.flac',) ('data/Indian/p251/p251_287_mic2.flac',) ('data/Indian/p248/p248_247_mic2.flac',) ('data/Irish/p295/p295_160_mic2.flac',) ('p251',) ('p248',) ('p251',) ('Indian',) ('Irish',)\n",
      "('data/Irish/p283/p283_091_mic2.flac',) ('data/Irish/p283/p283_249_mic2.flac',) ('data/Irish/p245/p245_305_mic2.flac',) ('data/American/p300/p300_340_mic2.flac',) ('p283',) ('p245',) ('p283',) ('Irish',) ('American',)\n",
      "('data/American/p299/p299_274_mic2.flac',) ('data/American/p299/p299_153_mic1.flac',) ('data/American/p300/p300_139_mic1.flac',) ('data/Scottish/p249/p249_295_mic1.flac',) ('p299',) ('p300',) ('p299',) ('American',) ('Scottish',)\n",
      "('data/Irish/p295/p295_038_mic2.flac',) ('data/Irish/p295/p295_242_mic1.flac',) ('data/Irish/p283/p283_285_mic2.flac',) ('data/American/p299/p299_282_mic1.flac',) ('p295',) ('p283',) ('p295',) ('Irish',) ('American',)\n",
      "('data/American/p299/p299_087_mic2.flac',) ('data/American/p299/p299_081_mic2.flac',) ('data/American/p300/p300_316_mic2.flac',) ('data/Irish/p245/p245_193_mic1.flac',) ('p299',) ('p300',) ('p299',) ('American',) ('Irish',)\n",
      "('data/American/p299/p299_365_mic1.flac',) ('data/American/p299/p299_371_mic2.flac',) ('data/American/p300/p300_293_mic1.flac',) ('data/Irish/p283/p283_067_mic2.flac',) ('p299',) ('p300',) ('p299',) ('American',) ('Irish',)\n",
      "('data/Indian/p376/p376_111_mic1.flac',) ('data/Indian/p376/p376_051_mic1.flac',) ('data/Indian/p251/p251_027_mic2.flac',) ('data/Scottish/p237/p237_167_mic1.flac',) ('p376',) ('p251',) ('p376',) ('Indian',) ('Scottish',)\n",
      "('data/American/p300/p300_022_mic2.flac',) ('data/American/p300/p300_099_mic2.flac',) ('data/American/p301/p301_005_mic1.flac',) ('data/Irish/p295/p295_375_mic1.flac',) ('p300',) ('p301',) ('p300',) ('American',) ('Irish',)\n",
      "('data/Scottish/p234/p234_354_mic1.flac',) ('data/Scottish/p234/p234_032_mic2.flac',) ('data/Scottish/p284/p284_035_mic1.flac',) ('data/Indian/p251/p251_114_mic1.flac',) ('p234',) ('p284',) ('p234',) ('Scottish',) ('Indian',)\n",
      "('data/American/p300/p300_394_mic2.flac',) ('data/American/p300/p300_074_mic2.flac',) ('data/American/p301/p301_364_mic1.flac',) ('data/Scottish/p237/p237_215_mic2.flac',) ('p300',) ('p301',) ('p300',) ('American',) ('Scottish',)\n",
      "('data/Irish/p245/p245_319_mic2.flac',) ('data/Irish/p245/p245_160_mic1.flac',) ('data/Irish/p295/p295_232_mic1.flac',) ('data/American/p299/p299_182_mic1.flac',) ('p245',) ('p295',) ('p245',) ('Irish',) ('American',)\n",
      "('data/Irish/p245/p245_007_mic1.flac',) ('data/Irish/p245/p245_272_mic1.flac',) ('data/Irish/p298/p298_241_mic1.flac',) ('data/American/p301/p301_258_mic2.flac',) ('p245',) ('p298',) ('p245',) ('Irish',) ('American',)\n",
      "('data/Indian/p251/p251_248_mic2.flac',) ('data/Indian/p251/p251_017_mic1.flac',) ('data/Indian/p376/p376_311_mic1.flac',) ('data/Irish/p283/p283_195_mic2.flac',) ('p251',) ('p376',) ('p251',) ('Indian',) ('Irish',)\n",
      "('data/Indian/p376/p376_271_mic2.flac',) ('data/Indian/p376/p376_167_mic2.flac',) ('data/Indian/p248/p248_157_mic2.flac',) ('data/Scottish/p284/p284_376_mic2.flac',) ('p376',) ('p248',) ('p376',) ('Indian',) ('Scottish',)\n",
      "('data/Indian/p251/p251_077_mic1.flac',) ('data/Indian/p251/p251_267_mic2.flac',) ('data/Indian/p248/p248_094_mic2.flac',) ('data/Scottish/p234/p234_289_mic1.flac',) ('p251',) ('p248',) ('p251',) ('Indian',) ('Scottish',)\n",
      "('data/Scottish/p237/p237_061_mic1.flac',) ('data/Scottish/p237/p237_302_mic2.flac',) ('data/Scottish/p234/p234_330_mic2.flac',) ('data/American/p300/p300_121_mic1.flac',) ('p237',) ('p234',) ('p237',) ('Scottish',) ('American',)\n",
      "('data/Irish/p295/p295_043_mic2.flac',) ('data/Irish/p295/p295_096_mic1.flac',) ('data/Irish/p298/p298_256_mic1.flac',) ('data/Scottish/p284/p284_171_mic2.flac',) ('p295',) ('p298',) ('p295',) ('Irish',) ('Scottish',)\n"
     ]
    },
    {
     "name": "stdout",
     "output_type": "stream",
     "text": [
      "('data/American/p300/p300_120_mic1.flac',) ('data/American/p300/p300_134_mic2.flac',) ('data/American/p301/p301_178_mic1.flac',) ('data/Scottish/p237/p237_264_mic2.flac',) ('p300',) ('p301',) ('p300',) ('American',) ('Scottish',)\n",
      "('data/Scottish/p249/p249_018_mic2.flac',) ('data/Scottish/p249/p249_238_mic2.flac',) ('data/Scottish/p234/p234_133_mic2.flac',) ('data/American/p301/p301_021_mic2.flac',) ('p249',) ('p234',) ('p249',) ('Scottish',) ('American',)\n",
      "('data/American/p299/p299_042_mic2.flac',) ('data/American/p299/p299_013_mic2.flac',) ('data/American/p300/p300_165_mic1.flac',) ('data/Indian/p248/p248_152_mic2.flac',) ('p299',) ('p300',) ('p299',) ('American',) ('Indian',)\n",
      "('data/Indian/p248/p248_257_mic2.flac',) ('data/Indian/p248/p248_268_mic1.flac',) ('data/Indian/p251/p251_295_mic2.flac',) ('data/American/p300/p300_350_mic2.flac',) ('p248',) ('p251',) ('p248',) ('Indian',) ('American',)\n",
      "('data/Irish/p298/p298_075_mic2.flac',) ('data/Irish/p298/p298_001_mic1.flac',) ('data/Irish/p295/p295_308_mic2.flac',) ('data/Scottish/p234/p234_023_mic2.flac',) ('p298',) ('p295',) ('p298',) ('Irish',) ('Scottish',)\n",
      "('data/Indian/p248/p248_045_mic1.flac',) ('data/Indian/p248/p248_227_mic2.flac',) ('data/Indian/p251/p251_255_mic2.flac',) ('data/Scottish/p237/p237_155_mic1.flac',) ('p248',) ('p251',) ('p248',) ('Indian',) ('Scottish',)\n",
      "('data/American/p300/p300_332_mic2.flac',) ('data/American/p300/p300_345_mic2.flac',) ('data/American/p301/p301_115_mic1.flac',) ('data/Scottish/p234/p234_333_mic2.flac',) ('p300',) ('p301',) ('p300',) ('American',) ('Scottish',)\n",
      "('data/Scottish/p237/p237_205_mic2.flac',) ('data/Scottish/p237/p237_252_mic1.flac',) ('data/Scottish/p284/p284_004_mic1.flac',) ('data/Irish/p245/p245_118_mic1.flac',) ('p237',) ('p284',) ('p237',) ('Scottish',) ('Irish',)\n",
      "('data/Scottish/p234/p234_070_mic1.flac',) ('data/Scottish/p234/p234_235_mic1.flac',) ('data/Scottish/p249/p249_222_mic1.flac',) ('data/American/p301/p301_259_mic1.flac',) ('p234',) ('p249',) ('p234',) ('Scottish',) ('American',)\n",
      "('data/Indian/p248/p248_154_mic2.flac',) ('data/Indian/p248/p248_225_mic1.flac',) ('data/Indian/p376/p376_107_mic1.flac',) ('data/Irish/p295/p295_128_mic1.flac',) ('p248',) ('p376',) ('p248',) ('Indian',) ('Irish',)\n",
      "('data/Irish/p295/p295_268_mic1.flac',) ('data/Irish/p295/p295_123_mic1.flac',) ('data/Irish/p283/p283_311_mic1.flac',) ('data/Scottish/p234/p234_046_mic2.flac',) ('p295',) ('p283',) ('p295',) ('Irish',) ('Scottish',)\n",
      "('data/American/p301/p301_258_mic2.flac',) ('data/American/p301/p301_340_mic1.flac',) ('data/American/p300/p300_349_mic1.flac',) ('data/Irish/p283/p283_333_mic1.flac',) ('p301',) ('p300',) ('p301',) ('American',) ('Irish',)\n",
      "('data/Indian/p248/p248_323_mic2.flac',) ('data/Indian/p248/p248_102_mic1.flac',) ('data/Indian/p376/p376_225_mic1.flac',) ('data/Irish/p298/p298_032_mic1.flac',) ('p248',) ('p376',) ('p248',) ('Indian',) ('Irish',)\n",
      "('data/American/p299/p299_215_mic2.flac',) ('data/American/p299/p299_144_mic1.flac',) ('data/American/p301/p301_271_mic1.flac',) ('data/Irish/p295/p295_018_mic2.flac',) ('p299',) ('p301',) ('p299',) ('American',) ('Irish',)\n",
      "('data/American/p301/p301_279_mic2.flac',) ('data/American/p301/p301_222_mic1.flac',) ('data/American/p299/p299_325_mic1.flac',) ('data/Indian/p376/p376_106_mic1.flac',) ('p301',) ('p299',) ('p301',) ('American',) ('Indian',)\n",
      "('data/American/p300/p300_086_mic2.flac',) ('data/American/p300/p300_030_mic1.flac',) ('data/American/p299/p299_087_mic2.flac',) ('data/Scottish/p234/p234_260_mic2.flac',) ('p300',) ('p299',) ('p300',) ('American',) ('Scottish',)\n",
      "('data/Irish/p298/p298_195_mic2.flac',) ('data/Irish/p298/p298_224_mic1.flac',) ('data/Irish/p295/p295_015_mic1.flac',) ('data/American/p299/p299_160_mic1.flac',) ('p298',) ('p295',) ('p298',) ('Irish',) ('American',)\n",
      "('data/Indian/p251/p251_001_mic2.flac',) ('data/Indian/p251/p251_109_mic2.flac',) ('data/Indian/p376/p376_108_mic1.flac',) ('data/Scottish/p249/p249_213_mic1.flac',) ('p251',) ('p376',) ('p251',) ('Indian',) ('Scottish',)\n",
      "('data/Scottish/p284/p284_389_mic1.flac',) ('data/Scottish/p284/p284_006_mic2.flac',) ('data/Scottish/p234/p234_137_mic1.flac',) ('data/Indian/p251/p251_204_mic2.flac',) ('p284',) ('p234',) ('p284',) ('Scottish',) ('Indian',)\n",
      "('data/Indian/p248/p248_164_mic1.flac',) ('data/Indian/p248/p248_362_mic1.flac',) ('data/Indian/p376/p376_180_mic2.flac',) ('data/Irish/p295/p295_140_mic2.flac',) ('p248',) ('p376',) ('p248',) ('Indian',) ('Irish',)\n",
      "('data/Scottish/p234/p234_141_mic1.flac',) ('data/Scottish/p234/p234_288_mic1.flac',) ('data/Scottish/p284/p284_104_mic2.flac',) ('data/Indian/p251/p251_173_mic2.flac',) ('p234',) ('p284',) ('p234',) ('Scottish',) ('Indian',)\n",
      "('data/Irish/p245/p245_028_mic2.flac',) ('data/Irish/p245/p245_020_mic2.flac',) ('data/Irish/p295/p295_421_mic2.flac',) ('data/American/p300/p300_013_mic1.flac',) ('p245',) ('p295',) ('p245',) ('Irish',) ('American',)\n",
      "('data/Indian/p251/p251_103_mic2.flac',) ('data/Indian/p251/p251_273_mic2.flac',) ('data/Indian/p376/p376_184_mic2.flac',) ('data/Irish/p298/p298_400_mic2.flac',) ('p251',) ('p376',) ('p251',) ('Indian',) ('Irish',)\n",
      "('data/Scottish/p249/p249_143_mic1.flac',) ('data/Scottish/p249/p249_177_mic1.flac',) ('data/Scottish/p284/p284_072_mic1.flac',) ('data/American/p301/p301_213_mic2.flac',) ('p249',) ('p284',) ('p249',) ('Scottish',) ('American',)\n",
      "('data/American/p299/p299_206_mic1.flac',) ('data/American/p299/p299_366_mic1.flac',) ('data/American/p301/p301_095_mic1.flac',) ('data/Indian/p251/p251_090_mic2.flac',) ('p299',) ('p301',) ('p299',) ('American',) ('Indian',)\n",
      "('data/American/p301/p301_146_mic1.flac',) ('data/American/p301/p301_020_mic2.flac',) ('data/American/p299/p299_082_mic2.flac',) ('data/Scottish/p234/p234_329_mic1.flac',) ('p301',) ('p299',) ('p301',) ('American',) ('Scottish',)\n",
      "('data/Scottish/p237/p237_275_mic2.flac',) ('data/Scottish/p237/p237_278_mic2.flac',) ('data/Scottish/p284/p284_129_mic1.flac',) ('data/Indian/p376/p376_162_mic2.flac',) ('p237',) ('p284',) ('p237',) ('Scottish',) ('Indian',)\n",
      "('data/Indian/p376/p376_164_mic2.flac',) ('data/Indian/p376/p376_188_mic2.flac',) ('data/Indian/p248/p248_053_mic1.flac',) ('data/American/p300/p300_166_mic2.flac',) ('p376',) ('p248',) ('p376',) ('Indian',) ('American',)\n",
      "('data/Scottish/p284/p284_115_mic2.flac',) ('data/Scottish/p284/p284_059_mic2.flac',) ('data/Scottish/p249/p249_214_mic2.flac',) ('data/Irish/p295/p295_236_mic1.flac',) ('p284',) ('p249',) ('p284',) ('Scottish',) ('Irish',)\n",
      "('data/American/p300/p300_269_mic1.flac',) ('data/American/p300/p300_153_mic1.flac',) ('data/American/p299/p299_155_mic2.flac',) ('data/Scottish/p237/p237_270_mic1.flac',) ('p300',) ('p299',) ('p300',) ('American',) ('Scottish',)\n",
      "('data/American/p301/p301_028_mic2.flac',) ('data/American/p301/p301_053_mic2.flac',) ('data/American/p299/p299_025_mic1.flac',) ('data/Indian/p251/p251_355_mic2.flac',) ('p301',) ('p299',) ('p301',) ('American',) ('Indian',)\n",
      "('data/Indian/p248/p248_170_mic1.flac',) ('data/Indian/p248/p248_111_mic2.flac',) ('data/Indian/p376/p376_306_mic2.flac',) ('data/American/p299/p299_118_mic2.flac',) ('p248',) ('p376',) ('p248',) ('Indian',) ('American',)\n",
      "('data/Indian/p376/p376_101_mic1.flac',) ('data/Indian/p376/p376_086_mic2.flac',) ('data/Indian/p251/p251_150_mic1.flac',) ('data/Irish/p298/p298_104_mic2.flac',) ('p376',) ('p251',) ('p376',) ('Indian',) ('Irish',)\n",
      "('data/Irish/p283/p283_202_mic2.flac',) ('data/Irish/p283/p283_461_mic2.flac',) ('data/Irish/p245/p245_129_mic2.flac',) ('data/Scottish/p284/p284_234_mic2.flac',) ('p283',) ('p245',) ('p283',) ('Irish',) ('Scottish',)\n",
      "('data/American/p299/p299_368_mic1.flac',) ('data/American/p299/p299_056_mic2.flac',) ('data/American/p300/p300_125_mic2.flac',) ('data/Scottish/p284/p284_269_mic1.flac',) ('p299',) ('p300',) ('p299',) ('American',) ('Scottish',)\n",
      "('data/Scottish/p234/p234_009_mic2.flac',) ('data/Scottish/p234/p234_350_mic2.flac',) ('data/Scottish/p249/p249_071_mic1.flac',) ('data/American/p299/p299_212_mic1.flac',) ('p234',) ('p249',) ('p234',) ('Scottish',) ('American',)\n",
      "('data/Irish/p298/p298_054_mic2.flac',) ('data/Irish/p298/p298_125_mic1.flac',) ('data/Irish/p295/p295_182_mic1.flac',) ('data/Scottish/p284/p284_029_mic1.flac',) ('p298',) ('p295',) ('p298',) ('Irish',) ('Scottish',)\n",
      "('data/Indian/p251/p251_284_mic2.flac',) ('data/Indian/p251/p251_294_mic1.flac',) ('data/Indian/p376/p376_045_mic1.flac',) ('data/American/p301/p301_216_mic2.flac',) ('p251',) ('p376',) ('p251',) ('Indian',) ('American',)\n",
      "('data/American/p300/p300_222_mic1.flac',) ('data/American/p300/p300_105_mic1.flac',) ('data/American/p299/p299_340_mic2.flac',) ('data/Scottish/p237/p237_131_mic2.flac',) ('p300',) ('p299',) ('p300',) ('American',) ('Scottish',)\n",
      "('data/Indian/p248/p248_253_mic2.flac',) ('data/Indian/p248/p248_062_mic1.flac',) ('data/Indian/p251/p251_069_mic2.flac',) ('data/Scottish/p237/p237_063_mic2.flac',) ('p248',) ('p251',) ('p248',) ('Indian',) ('Scottish',)\n",
      "('data/Scottish/p237/p237_157_mic2.flac',) ('data/Scottish/p237/p237_090_mic1.flac',) ('data/Scottish/p284/p284_334_mic1.flac',) ('data/Irish/p295/p295_153_mic2.flac',) ('p237',) ('p284',) ('p237',) ('Scottish',) ('Irish',)\n",
      "('data/Scottish/p237/p237_251_mic2.flac',) ('data/Scottish/p237/p237_335_mic2.flac',) ('data/Scottish/p284/p284_211_mic1.flac',) ('data/American/p300/p300_182_mic2.flac',) ('p237',) ('p284',) ('p237',) ('Scottish',) ('American',)\n",
      "('data/American/p299/p299_119_mic1.flac',) ('data/American/p299/p299_231_mic1.flac',) ('data/American/p300/p300_134_mic2.flac',) ('data/Scottish/p284/p284_001_mic1.flac',) ('p299',) ('p300',) ('p299',) ('American',) ('Scottish',)\n",
      "('data/Irish/p245/p245_127_mic2.flac',) ('data/Irish/p245/p245_355_mic2.flac',) ('data/Irish/p298/p298_315_mic1.flac',) ('data/Scottish/p234/p234_143_mic2.flac',) ('p245',) ('p298',) ('p245',) ('Irish',) ('Scottish',)\n",
      "('data/American/p301/p301_240_mic1.flac',) ('data/American/p301/p301_369_mic2.flac',) ('data/American/p300/p300_358_mic2.flac',) ('data/Indian/p251/p251_183_mic1.flac',) ('p301',) ('p300',) ('p301',) ('American',) ('Indian',)\n",
      "('data/American/p300/p300_327_mic2.flac',) ('data/American/p300/p300_027_mic2.flac',) ('data/American/p301/p301_148_mic1.flac',) ('data/Indian/p248/p248_296_mic1.flac',) ('p300',) ('p301',) ('p300',) ('American',) ('Indian',)\n",
      "('data/Scottish/p284/p284_406_mic2.flac',) ('data/Scottish/p284/p284_224_mic1.flac',) ('data/Scottish/p249/p249_275_mic2.flac',) ('data/Indian/p376/p376_318_mic1.flac',) ('p284',) ('p249',) ('p284',) ('Scottish',) ('Indian',)\n",
      "('data/American/p299/p299_340_mic1.flac',) ('data/American/p299/p299_191_mic2.flac',) ('data/American/p300/p300_082_mic2.flac',) ('data/Irish/p298/p298_393_mic2.flac',) ('p299',) ('p300',) ('p299',) ('American',) ('Irish',)\n",
      "('data/Irish/p245/p245_055_mic1.flac',) ('data/Irish/p245/p245_253_mic2.flac',) ('data/Irish/p295/p295_205_mic2.flac',) ('data/Indian/p376/p376_089_mic1.flac',) ('p245',) ('p295',) ('p245',) ('Irish',) ('Indian',)\n",
      "('data/Scottish/p237/p237_310_mic2.flac',) ('data/Scottish/p237/p237_230_mic1.flac',) ('data/Scottish/p249/p249_188_mic1.flac',) ('data/American/p300/p300_069_mic2.flac',) ('p237',) ('p249',) ('p237',) ('Scottish',) ('American',)\n",
      "('data/Scottish/p234/p234_349_mic2.flac',) ('data/Scottish/p234/p234_020_mic2.flac',) ('data/Scottish/p249/p249_232_mic1.flac',) ('data/Indian/p376/p376_078_mic2.flac',) ('p234',) ('p249',) ('p234',) ('Scottish',) ('Indian',)\n",
      "('data/Irish/p245/p245_105_mic1.flac',) ('data/Irish/p245/p245_168_mic1.flac',) ('data/Irish/p298/p298_253_mic2.flac',) ('data/Indian/p376/p376_023_mic2.flac',) ('p245',) ('p298',) ('p245',) ('Irish',) ('Indian',)\n",
      "('data/Irish/p298/p298_128_mic2.flac',) ('data/Irish/p298/p298_153_mic2.flac',) ('data/Irish/p283/p283_072_mic2.flac',) ('data/Indian/p248/p248_346_mic2.flac',) ('p298',) ('p283',) ('p298',) ('Irish',) ('Indian',)\n",
      "('data/American/p299/p299_187_mic1.flac',) ('data/American/p299/p299_156_mic2.flac',) ('data/American/p301/p301_271_mic2.flac',) ('data/Irish/p295/p295_185_mic1.flac',) ('p299',) ('p301',) ('p299',) ('American',) ('Irish',)\n",
      "('data/Scottish/p237/p237_193_mic2.flac',) ('data/Scottish/p237/p237_247_mic2.flac',) ('data/Scottish/p284/p284_306_mic2.flac',) ('data/Irish/p245/p245_077_mic1.flac',) ('p237',) ('p284',) ('p237',) ('Scottish',) ('Irish',)\n",
      "('data/American/p301/p301_299_mic1.flac',) ('data/American/p301/p301_148_mic1.flac',) ('data/American/p300/p300_270_mic2.flac',) ('data/Scottish/p237/p237_252_mic1.flac',) ('p301',) ('p300',) ('p301',) ('American',) ('Scottish',)\n",
      "('data/Indian/p251/p251_019_mic1.flac',) ('data/Indian/p251/p251_041_mic1.flac',) ('data/Indian/p376/p376_390_mic2.flac',) ('data/Irish/p245/p245_086_mic2.flac',) ('p251',) ('p376',) ('p251',) ('Indian',) ('Irish',)\n",
      "('data/Scottish/p284/p284_401_mic1.flac',) ('data/Scottish/p284/p284_209_mic1.flac',) ('data/Scottish/p237/p237_102_mic1.flac',) ('data/Indian/p248/p248_010_mic2.flac',) ('p284',) ('p237',) ('p284',) ('Scottish',) ('Indian',)\n",
      "('data/Indian/p376/p376_028_mic1.flac',) ('data/Indian/p376/p376_025_mic2.flac',) ('data/Indian/p248/p248_264_mic2.flac',) ('data/American/p299/p299_005_mic2.flac',) ('p376',) ('p248',) ('p376',) ('Indian',) ('American',)\n",
      "('data/Irish/p298/p298_068_mic2.flac',) ('data/Irish/p298/p298_136_mic1.flac',) ('data/Irish/p295/p295_080_mic1.flac',) ('data/American/p300/p300_127_mic1.flac',) ('p298',) ('p295',) ('p298',) ('Irish',) ('American',)\n",
      "('data/Indian/p376/p376_340_mic2.flac',) ('data/Indian/p376/p376_009_mic1.flac',) ('data/Indian/p251/p251_339_mic1.flac',) ('data/Irish/p298/p298_071_mic1.flac',) ('p376',) ('p251',) ('p376',) ('Indian',) ('Irish',)\n",
      "('data/Irish/p245/p245_050_mic2.flac',) ('data/Irish/p245/p245_059_mic2.flac',) ('data/Irish/p298/p298_232_mic2.flac',) ('data/Indian/p376/p376_329_mic1.flac',) ('p245',) ('p298',) ('p245',) ('Irish',) ('Indian',)\n",
      "('data/Indian/p376/p376_019_mic1.flac',) ('data/Indian/p376/p376_252_mic1.flac',) ('data/Indian/p248/p248_145_mic1.flac',) ('data/Irish/p295/p295_411_mic1.flac',) ('p376',) ('p248',) ('p376',) ('Indian',) ('Irish',)\n",
      "('data/American/p299/p299_136_mic1.flac',) ('data/American/p299/p299_198_mic2.flac',) ('data/American/p301/p301_358_mic1.flac',) ('data/Scottish/p234/p234_131_mic1.flac',) ('p299',) ('p301',) ('p299',) ('American',) ('Scottish',)\n",
      "('data/Scottish/p237/p237_080_mic1.flac',) ('data/Scottish/p237/p237_009_mic1.flac',) ('data/Scottish/p234/p234_013_mic2.flac',) ('data/Irish/p283/p283_083_mic1.flac',) ('p237',) ('p234',) ('p237',) ('Scottish',) ('Irish',)\n",
      "('data/Scottish/p284/p284_061_mic2.flac',) ('data/Scottish/p284/p284_079_mic2.flac',) ('data/Scottish/p237/p237_223_mic1.flac',) ('data/American/p300/p300_016_mic2.flac',) ('p284',) ('p237',) ('p284',) ('Scottish',) ('American',)\n",
      "('data/Scottish/p237/p237_162_mic1.flac',) ('data/Scottish/p237/p237_230_mic2.flac',) ('data/Scottish/p284/p284_217_mic1.flac',) ('data/American/p299/p299_012_mic1.flac',) ('p237',) ('p284',) ('p237',) ('Scottish',) ('American',)\n",
      "('data/American/p301/p301_236_mic2.flac',) ('data/American/p301/p301_191_mic1.flac',) ('data/American/p299/p299_034_mic1.flac',) ('data/Indian/p248/p248_321_mic1.flac',) ('p301',) ('p299',) ('p301',) ('American',) ('Indian',)\n",
      "('data/Indian/p376/p376_087_mic2.flac',) ('data/Indian/p376/p376_217_mic1.flac',) ('data/Indian/p251/p251_373_mic2.flac',) ('data/Scottish/p284/p284_077_mic2.flac',) ('p376',) ('p251',) ('p376',) ('Indian',) ('Scottish',)\n",
      "('data/Irish/p298/p298_111_mic2.flac',) ('data/Irish/p298/p298_290_mic1.flac',) ('data/Irish/p245/p245_012_mic1.flac',) ('data/Indian/p248/p248_162_mic1.flac',) ('p298',) ('p245',) ('p298',) ('Irish',) ('Indian',)\n",
      "('data/Irish/p295/p295_243_mic2.flac',) ('data/Irish/p295/p295_131_mic2.flac',) ('data/Irish/p298/p298_049_mic2.flac',) ('data/Indian/p376/p376_397_mic1.flac',) ('p295',) ('p298',) ('p295',) ('Irish',) ('Indian',)\n",
      "('data/Scottish/p237/p237_241_mic1.flac',) ('data/Scottish/p237/p237_064_mic1.flac',) ('data/Scottish/p284/p284_019_mic2.flac',) ('data/American/p299/p299_095_mic1.flac',) ('p237',) ('p284',) ('p237',) ('Scottish',) ('American',)\n",
      "('data/Indian/p251/p251_341_mic1.flac',) ('data/Indian/p251/p251_283_mic1.flac',) ('data/Indian/p376/p376_220_mic2.flac',) ('data/Irish/p298/p298_341_mic1.flac',) ('p251',) ('p376',) ('p251',) ('Indian',) ('Irish',)\n",
      "('data/Scottish/p249/p249_256_mic2.flac',) ('data/Scottish/p249/p249_167_mic2.flac',) ('data/Scottish/p234/p234_261_mic1.flac',) ('data/American/p300/p300_021_mic1.flac',) ('p249',) ('p234',) ('p249',) ('Scottish',) ('American',)\n",
      "('data/Scottish/p234/p234_059_mic1.flac',) ('data/Scottish/p234/p234_152_mic1.flac',) ('data/Scottish/p237/p237_066_mic1.flac',) ('data/Indian/p376/p376_237_mic1.flac',) ('p234',) ('p237',) ('p234',) ('Scottish',) ('Indian',)\n",
      "('data/Irish/p283/p283_225_mic1.flac',) ('data/Irish/p283/p283_204_mic2.flac',) ('data/Irish/p298/p298_272_mic2.flac',) ('data/American/p299/p299_375_mic1.flac',) ('p283',) ('p298',) ('p283',) ('Irish',) ('American',)\n",
      "('data/Indian/p248/p248_297_mic2.flac',) ('data/Indian/p248/p248_216_mic1.flac',) ('data/Indian/p376/p376_007_mic2.flac',) ('data/Scottish/p249/p249_021_mic1.flac',) ('p248',) ('p376',) ('p248',) ('Indian',) ('Scottish',)\n",
      "('data/American/p299/p299_404_mic1.flac',) ('data/American/p299/p299_330_mic2.flac',) ('data/American/p301/p301_305_mic2.flac',) ('data/Irish/p295/p295_122_mic1.flac',) ('p299',) ('p301',) ('p299',) ('American',) ('Irish',)\n",
      "('data/American/p301/p301_299_mic1.flac',) ('data/American/p301/p301_295_mic1.flac',) ('data/American/p299/p299_144_mic1.flac',) ('data/Irish/p298/p298_397_mic2.flac',) ('p301',) ('p299',) ('p301',) ('American',) ('Irish',)\n",
      "('data/Irish/p298/p298_005_mic1.flac',) ('data/Irish/p298/p298_369_mic1.flac',) ('data/Irish/p295/p295_410_mic1.flac',) ('data/Scottish/p249/p249_240_mic1.flac',) ('p298',) ('p295',) ('p298',) ('Irish',) ('Scottish',)\n",
      "('data/American/p301/p301_262_mic1.flac',) ('data/American/p301/p301_205_mic2.flac',) ('data/American/p300/p300_060_mic2.flac',) ('data/Irish/p283/p283_040_mic1.flac',) ('p301',) ('p300',) ('p301',) ('American',) ('Irish',)\n",
      "('data/Indian/p251/p251_223_mic2.flac',) ('data/Indian/p251/p251_080_mic1.flac',) ('data/Indian/p248/p248_199_mic2.flac',) ('data/American/p300/p300_387_mic2.flac',) ('p251',) ('p248',) ('p251',) ('Indian',) ('American',)\n",
      "('data/Scottish/p237/p237_333_mic2.flac',) ('data/Scottish/p237/p237_198_mic1.flac',) ('data/Scottish/p249/p249_139_mic1.flac',) ('data/Indian/p376/p376_387_mic1.flac',) ('p237',) ('p249',) ('p237',) ('Scottish',) ('Indian',)\n",
      "('data/Scottish/p237/p237_014_mic2.flac',) ('data/Scottish/p237/p237_105_mic2.flac',) ('data/Scottish/p284/p284_005_mic1.flac',) ('data/Indian/p376/p376_052_mic2.flac',) ('p237',) ('p284',) ('p237',) ('Scottish',) ('Indian',)\n",
      "('data/Irish/p245/p245_047_mic2.flac',) ('data/Irish/p245/p245_026_mic1.flac',) ('data/Irish/p298/p298_083_mic2.flac',) ('data/Indian/p248/p248_175_mic1.flac',) ('p245',) ('p298',) ('p245',) ('Irish',) ('Indian',)\n",
      "('data/American/p300/p300_179_mic2.flac',) ('data/American/p300/p300_348_mic1.flac',) ('data/American/p299/p299_130_mic2.flac',) ('data/Scottish/p249/p249_226_mic1.flac',) ('p300',) ('p299',) ('p300',) ('American',) ('Scottish',)\n",
      "('data/Scottish/p249/p249_129_mic2.flac',) ('data/Scottish/p249/p249_162_mic2.flac',) ('data/Scottish/p237/p237_345_mic1.flac',) ('data/Irish/p245/p245_274_mic1.flac',) ('p249',) ('p237',) ('p249',) ('Scottish',) ('Irish',)\n",
      "('data/Indian/p248/p248_186_mic2.flac',) ('data/Indian/p248/p248_299_mic2.flac',) ('data/Indian/p251/p251_196_mic1.flac',) ('data/American/p299/p299_255_mic1.flac',) ('p248',) ('p251',) ('p248',) ('Indian',) ('American',)\n",
      "('data/Indian/p251/p251_054_mic1.flac',) ('data/Indian/p251/p251_024_mic1.flac',) ('data/Indian/p376/p376_138_mic1.flac',) ('data/Irish/p283/p283_419_mic1.flac',) ('p251',) ('p376',) ('p251',) ('Indian',) ('Irish',)\n",
      "('data/American/p300/p300_148_mic2.flac',) ('data/American/p300/p300_234_mic1.flac',) ('data/American/p301/p301_232_mic2.flac',) ('data/Scottish/p234/p234_025_mic2.flac',) ('p300',) ('p301',) ('p300',) ('American',) ('Scottish',)\n",
      "('data/Irish/p283/p283_400_mic2.flac',) ('data/Irish/p283/p283_313_mic1.flac',) ('data/Irish/p245/p245_144_mic2.flac',) ('data/Scottish/p234/p234_124_mic1.flac',) ('p283',) ('p245',) ('p283',) ('Irish',) ('Scottish',)\n",
      "('data/American/p301/p301_153_mic1.flac',) ('data/American/p301/p301_197_mic1.flac',) ('data/American/p299/p299_020_mic2.flac',) ('data/Irish/p295/p295_085_mic1.flac',) ('p301',) ('p299',) ('p301',) ('American',) ('Irish',)\n",
      "('data/Indian/p376/p376_261_mic2.flac',) ('data/Indian/p376/p376_354_mic1.flac',) ('data/Indian/p251/p251_280_mic2.flac',) ('data/American/p301/p301_022_mic2.flac',) ('p376',) ('p251',) ('p376',) ('Indian',) ('American',)\n",
      "('data/Indian/p248/p248_275_mic1.flac',) ('data/Indian/p248/p248_041_mic2.flac',) ('data/Indian/p376/p376_255_mic1.flac',) ('data/American/p301/p301_069_mic2.flac',) ('p248',) ('p376',) ('p248',) ('Indian',) ('American',)\n",
      "('data/American/p299/p299_149_mic2.flac',) ('data/American/p299/p299_176_mic1.flac',) ('data/American/p300/p300_051_mic1.flac',) ('data/Indian/p251/p251_193_mic1.flac',) ('p299',) ('p300',) ('p299',) ('American',) ('Indian',)\n",
      "('data/Indian/p248/p248_034_mic1.flac',) ('data/Indian/p248/p248_355_mic2.flac',) ('data/Indian/p376/p376_424_mic1.flac',) ('data/Scottish/p249/p249_011_mic1.flac',) ('p248',) ('p376',) ('p248',) ('Indian',) ('Scottish',)\n",
      "('data/Irish/p245/p245_069_mic1.flac',) ('data/Irish/p245/p245_302_mic2.flac',) ('data/Irish/p298/p298_351_mic2.flac',) ('data/Scottish/p234/p234_114_mic2.flac',) ('p245',) ('p298',) ('p245',) ('Irish',) ('Scottish',)\n",
      "('data/Irish/p283/p283_287_mic1.flac',) ('data/Irish/p283/p283_154_mic1.flac',) ('data/Irish/p245/p245_151_mic2.flac',) ('data/American/p299/p299_030_mic1.flac',) ('p283',) ('p245',) ('p283',) ('Irish',) ('American',)\n",
      "('data/Scottish/p237/p237_155_mic1.flac',) ('data/Scottish/p237/p237_220_mic2.flac',) ('data/Scottish/p234/p234_152_mic2.flac',) ('data/Irish/p283/p283_318_mic1.flac',) ('p237',) ('p234',) ('p237',) ('Scottish',) ('Irish',)\n",
      "('data/Indian/p251/p251_029_mic1.flac',) ('data/Indian/p251/p251_048_mic1.flac',) ('data/Indian/p376/p376_068_mic2.flac',) ('data/Irish/p283/p283_346_mic2.flac',) ('p251',) ('p376',) ('p251',) ('Indian',) ('Irish',)\n",
      "('data/Scottish/p237/p237_205_mic2.flac',) ('data/Scottish/p237/p237_089_mic2.flac',) ('data/Scottish/p284/p284_079_mic2.flac',) ('data/Irish/p283/p283_174_mic1.flac',) ('p237',) ('p284',) ('p237',) ('Scottish',) ('Irish',)\n",
      "('data/Scottish/p237/p237_148_mic2.flac',) ('data/Scottish/p237/p237_300_mic2.flac',) ('data/Scottish/p249/p249_097_mic2.flac',) ('data/American/p300/p300_348_mic1.flac',) ('p237',) ('p249',) ('p237',) ('Scottish',) ('American',)\n",
      "('data/American/p299/p299_024_mic1.flac',) ('data/American/p299/p299_312_mic2.flac',) ('data/American/p301/p301_174_mic1.flac',) ('data/Scottish/p234/p234_047_mic1.flac',) ('p299',) ('p301',) ('p299',) ('American',) ('Scottish',)\n",
      "('data/Indian/p376/p376_277_mic1.flac',) ('data/Indian/p376/p376_104_mic2.flac',) ('data/Indian/p251/p251_300_mic2.flac',) ('data/Irish/p245/p245_149_mic2.flac',) ('p376',) ('p251',) ('p376',) ('Indian',) ('Irish',)\n",
      "('data/Scottish/p234/p234_212_mic1.flac',) ('data/Scottish/p234/p234_292_mic1.flac',) ('data/Scottish/p249/p249_118_mic1.flac',) ('data/American/p301/p301_391_mic1.flac',) ('p234',) ('p249',) ('p234',) ('Scottish',) ('American',)\n",
      "('data/Irish/p295/p295_406_mic2.flac',) ('data/Irish/p295/p295_346_mic2.flac',) ('data/Irish/p283/p283_157_mic1.flac',) ('data/American/p299/p299_362_mic1.flac',) ('p295',) ('p283',) ('p295',) ('Irish',) ('American',)\n",
      "('data/Indian/p251/p251_269_mic1.flac',) ('data/Indian/p251/p251_301_mic2.flac',) ('data/Indian/p248/p248_249_mic2.flac',) ('data/American/p300/p300_134_mic1.flac',) ('p251',) ('p248',) ('p251',) ('Indian',) ('American',)\n",
      "('data/Irish/p245/p245_251_mic2.flac',) ('data/Irish/p245/p245_214_mic2.flac',) ('data/Irish/p283/p283_154_mic1.flac',) ('data/American/p301/p301_194_mic2.flac',) ('p245',) ('p283',) ('p245',) ('Irish',) ('American',)\n",
      "('data/American/p299/p299_061_mic2.flac',) ('data/American/p299/p299_377_mic2.flac',) ('data/American/p301/p301_204_mic1.flac',) ('data/Irish/p245/p245_260_mic1.flac',) ('p299',) ('p301',) ('p299',) ('American',) ('Irish',)\n",
      "('data/American/p300/p300_228_mic2.flac',) ('data/American/p300/p300_200_mic2.flac',) ('data/American/p299/p299_308_mic2.flac',) ('data/Irish/p245/p245_330_mic2.flac',) ('p300',) ('p299',) ('p300',) ('American',) ('Irish',)\n",
      "('data/Scottish/p284/p284_379_mic1.flac',) ('data/Scottish/p284/p284_373_mic2.flac',) ('data/Scottish/p249/p249_345_mic1.flac',) ('data/American/p299/p299_156_mic1.flac',) ('p284',) ('p249',) ('p284',) ('Scottish',) ('American',)\n",
      "('data/Irish/p245/p245_295_mic1.flac',) ('data/Irish/p245/p245_190_mic2.flac',) ('data/Irish/p298/p298_005_mic2.flac',) ('data/American/p300/p300_112_mic2.flac',) ('p245',) ('p298',) ('p245',) ('Irish',) ('American',)\n",
      "('data/Indian/p376/p376_152_mic1.flac',) ('data/Indian/p376/p376_267_mic1.flac',) ('data/Indian/p251/p251_244_mic2.flac',) ('data/American/p301/p301_398_mic2.flac',) ('p376',) ('p251',) ('p376',) ('Indian',) ('American',)\n",
      "('data/Irish/p283/p283_125_mic2.flac',) ('data/Irish/p283/p283_215_mic1.flac',) ('data/Irish/p245/p245_014_mic1.flac',) ('data/Indian/p376/p376_179_mic2.flac',) ('p283',) ('p245',) ('p283',) ('Irish',) ('Indian',)\n",
      "('data/American/p299/p299_131_mic2.flac',) ('data/American/p299/p299_166_mic1.flac',) ('data/American/p300/p300_333_mic2.flac',) ('data/Scottish/p234/p234_246_mic1.flac',) ('p299',) ('p300',) ('p299',) ('American',) ('Scottish',)\n"
     ]
    },
    {
     "name": "stdout",
     "output_type": "stream",
     "text": [
      "('data/Scottish/p237/p237_289_mic1.flac',) ('data/Scottish/p237/p237_044_mic1.flac',) ('data/Scottish/p284/p284_161_mic2.flac',) ('data/American/p299/p299_308_mic1.flac',) ('p237',) ('p284',) ('p237',) ('Scottish',) ('American',)\n",
      "('data/Scottish/p284/p284_140_mic2.flac',) ('data/Scottish/p284/p284_379_mic2.flac',) ('data/Scottish/p234/p234_338_mic2.flac',) ('data/Indian/p251/p251_273_mic1.flac',) ('p284',) ('p234',) ('p284',) ('Scottish',) ('Indian',)\n",
      "('data/Irish/p298/p298_293_mic1.flac',) ('data/Irish/p298/p298_331_mic2.flac',) ('data/Irish/p295/p295_211_mic2.flac',) ('data/Scottish/p249/p249_043_mic2.flac',) ('p298',) ('p295',) ('p298',) ('Irish',) ('Scottish',)\n",
      "('data/Scottish/p234/p234_016_mic1.flac',) ('data/Scottish/p234/p234_054_mic2.flac',) ('data/Scottish/p284/p284_352_mic2.flac',) ('data/American/p301/p301_350_mic1.flac',) ('p234',) ('p284',) ('p234',) ('Scottish',) ('American',)\n",
      "('data/American/p301/p301_144_mic1.flac',) ('data/American/p301/p301_291_mic1.flac',) ('data/American/p300/p300_149_mic2.flac',) ('data/Indian/p376/p376_158_mic1.flac',) ('p301',) ('p300',) ('p301',) ('American',) ('Indian',)\n",
      "('data/Irish/p298/p298_338_mic2.flac',) ('data/Irish/p298/p298_208_mic2.flac',) ('data/Irish/p245/p245_168_mic1.flac',) ('data/Indian/p251/p251_230_mic2.flac',) ('p298',) ('p245',) ('p298',) ('Irish',) ('Indian',)\n",
      "('data/Scottish/p237/p237_091_mic1.flac',) ('data/Scottish/p237/p237_208_mic2.flac',) ('data/Scottish/p234/p234_163_mic1.flac',) ('data/Indian/p248/p248_123_mic2.flac',) ('p237',) ('p234',) ('p237',) ('Scottish',) ('Indian',)\n",
      "('data/Indian/p248/p248_193_mic2.flac',) ('data/Indian/p248/p248_176_mic2.flac',) ('data/Indian/p251/p251_360_mic1.flac',) ('data/Scottish/p234/p234_047_mic1.flac',) ('p248',) ('p251',) ('p248',) ('Indian',) ('Scottish',)\n",
      "('data/Irish/p295/p295_340_mic2.flac',) ('data/Irish/p295/p295_326_mic2.flac',) ('data/Irish/p245/p245_285_mic1.flac',) ('data/American/p301/p301_092_mic1.flac',) ('p295',) ('p245',) ('p295',) ('Irish',) ('American',)\n",
      "('data/Indian/p251/p251_100_mic1.flac',) ('data/Indian/p251/p251_152_mic2.flac',) ('data/Indian/p248/p248_161_mic1.flac',) ('data/Irish/p245/p245_114_mic2.flac',) ('p251',) ('p248',) ('p251',) ('Indian',) ('Irish',)\n",
      "('data/Irish/p298/p298_083_mic2.flac',) ('data/Irish/p298/p298_375_mic1.flac',) ('data/Irish/p283/p283_021_mic2.flac',) ('data/Indian/p248/p248_367_mic1.flac',) ('p298',) ('p283',) ('p298',) ('Irish',) ('Indian',)\n",
      "('data/American/p300/p300_158_mic2.flac',) ('data/American/p300/p300_096_mic1.flac',) ('data/American/p299/p299_114_mic1.flac',) ('data/Irish/p298/p298_057_mic1.flac',) ('p300',) ('p299',) ('p300',) ('American',) ('Irish',)\n",
      "('data/American/p299/p299_344_mic1.flac',) ('data/American/p299/p299_248_mic1.flac',) ('data/American/p300/p300_349_mic2.flac',) ('data/Indian/p251/p251_321_mic1.flac',) ('p299',) ('p300',) ('p299',) ('American',) ('Indian',)\n",
      "('data/Irish/p245/p245_273_mic2.flac',) ('data/Irish/p245/p245_220_mic1.flac',) ('data/Irish/p283/p283_252_mic2.flac',) ('data/Scottish/p284/p284_014_mic1.flac',) ('p245',) ('p283',) ('p245',) ('Irish',) ('Scottish',)\n",
      "('data/American/p301/p301_126_mic1.flac',) ('data/American/p301/p301_006_mic2.flac',) ('data/American/p300/p300_212_mic1.flac',) ('data/Irish/p298/p298_306_mic2.flac',) ('p301',) ('p300',) ('p301',) ('American',) ('Irish',)\n",
      "('data/Indian/p251/p251_121_mic1.flac',) ('data/Indian/p251/p251_110_mic1.flac',) ('data/Indian/p376/p376_383_mic2.flac',) ('data/Scottish/p237/p237_099_mic2.flac',) ('p251',) ('p376',) ('p251',) ('Indian',) ('Scottish',)\n",
      "('data/Irish/p283/p283_147_mic1.flac',) ('data/Irish/p283/p283_363_mic2.flac',) ('data/Irish/p298/p298_362_mic2.flac',) ('data/Indian/p376/p376_051_mic1.flac',) ('p283',) ('p298',) ('p283',) ('Irish',) ('Indian',)\n",
      "('data/Indian/p248/p248_361_mic1.flac',) ('data/Indian/p248/p248_032_mic1.flac',) ('data/Indian/p376/p376_323_mic1.flac',) ('data/American/p301/p301_283_mic2.flac',) ('p248',) ('p376',) ('p248',) ('Indian',) ('American',)\n",
      "('data/American/p301/p301_406_mic2.flac',) ('data/American/p301/p301_266_mic1.flac',) ('data/American/p300/p300_245_mic1.flac',) ('data/Scottish/p234/p234_205_mic1.flac',) ('p301',) ('p300',) ('p301',) ('American',) ('Scottish',)\n",
      "('data/Indian/p248/p248_122_mic1.flac',) ('data/Indian/p248/p248_325_mic2.flac',) ('data/Indian/p251/p251_185_mic2.flac',) ('data/Scottish/p249/p249_153_mic2.flac',) ('p248',) ('p251',) ('p248',) ('Indian',) ('Scottish',)\n",
      "('data/Indian/p376/p376_170_mic2.flac',) ('data/Indian/p376/p376_023_mic1.flac',) ('data/Indian/p248/p248_298_mic1.flac',) ('data/American/p300/p300_158_mic2.flac',) ('p376',) ('p248',) ('p376',) ('Indian',) ('American',)\n",
      "('data/Irish/p298/p298_280_mic2.flac',) ('data/Irish/p298/p298_242_mic1.flac',) ('data/Irish/p283/p283_082_mic1.flac',) ('data/Scottish/p234/p234_344_mic1.flac',) ('p298',) ('p283',) ('p298',) ('Irish',) ('Scottish',)\n",
      "('data/Irish/p245/p245_095_mic1.flac',) ('data/Irish/p245/p245_005_mic1.flac',) ('data/Irish/p283/p283_389_mic1.flac',) ('data/Indian/p251/p251_236_mic1.flac',) ('p245',) ('p283',) ('p245',) ('Irish',) ('Indian',)\n",
      "('data/Indian/p248/p248_251_mic2.flac',) ('data/Indian/p248/p248_359_mic1.flac',) ('data/Indian/p376/p376_398_mic1.flac',) ('data/Scottish/p249/p249_019_mic1.flac',) ('p248',) ('p376',) ('p248',) ('Indian',) ('Scottish',)\n",
      "('data/American/p299/p299_362_mic2.flac',) ('data/American/p299/p299_215_mic2.flac',) ('data/American/p300/p300_325_mic2.flac',) ('data/Indian/p376/p376_330_mic2.flac',) ('p299',) ('p300',) ('p299',) ('American',) ('Indian',)\n",
      "('data/Indian/p251/p251_337_mic1.flac',) ('data/Indian/p251/p251_102_mic2.flac',) ('data/Indian/p376/p376_320_mic2.flac',) ('data/Irish/p298/p298_018_mic1.flac',) ('p251',) ('p376',) ('p251',) ('Indian',) ('Irish',)\n",
      "('data/Irish/p245/p245_154_mic2.flac',) ('data/Irish/p245/p245_296_mic1.flac',) ('data/Irish/p295/p295_040_mic1.flac',) ('data/Indian/p376/p376_244_mic1.flac',) ('p245',) ('p295',) ('p245',) ('Irish',) ('Indian',)\n",
      "('data/Irish/p283/p283_350_mic2.flac',) ('data/Irish/p283/p283_324_mic1.flac',) ('data/Irish/p245/p245_187_mic1.flac',) ('data/Indian/p248/p248_190_mic2.flac',) ('p283',) ('p245',) ('p283',) ('Irish',) ('Indian',)\n",
      "('data/Indian/p248/p248_127_mic2.flac',) ('data/Indian/p248/p248_057_mic1.flac',) ('data/Indian/p376/p376_084_mic1.flac',) ('data/American/p300/p300_326_mic2.flac',) ('p248',) ('p376',) ('p248',) ('Indian',) ('American',)\n",
      "('data/Irish/p295/p295_385_mic2.flac',) ('data/Irish/p295/p295_360_mic1.flac',) ('data/Irish/p298/p298_370_mic2.flac',) ('data/Indian/p251/p251_076_mic1.flac',) ('p295',) ('p298',) ('p295',) ('Irish',) ('Indian',)\n",
      "('data/American/p299/p299_320_mic1.flac',) ('data/American/p299/p299_110_mic1.flac',) ('data/American/p301/p301_201_mic2.flac',) ('data/Irish/p245/p245_083_mic2.flac',) ('p299',) ('p301',) ('p299',) ('American',) ('Irish',)\n",
      "('data/American/p301/p301_037_mic1.flac',) ('data/American/p301/p301_075_mic2.flac',) ('data/American/p299/p299_387_mic2.flac',) ('data/Indian/p248/p248_363_mic2.flac',) ('p301',) ('p299',) ('p301',) ('American',) ('Indian',)\n",
      "('data/Irish/p283/p283_449_mic2.flac',) ('data/Irish/p283/p283_461_mic1.flac',) ('data/Irish/p245/p245_157_mic1.flac',) ('data/Indian/p376/p376_400_mic1.flac',) ('p283',) ('p245',) ('p283',) ('Irish',) ('Indian',)\n",
      "('data/Scottish/p284/p284_329_mic1.flac',) ('data/Scottish/p284/p284_089_mic1.flac',) ('data/Scottish/p237/p237_074_mic2.flac',) ('data/Indian/p376/p376_244_mic2.flac',) ('p284',) ('p237',) ('p284',) ('Scottish',) ('Indian',)\n",
      "('data/American/p299/p299_398_mic2.flac',) ('data/American/p299/p299_367_mic1.flac',) ('data/American/p300/p300_139_mic1.flac',) ('data/Irish/p295/p295_332_mic1.flac',) ('p299',) ('p300',) ('p299',) ('American',) ('Irish',)\n",
      "('data/American/p299/p299_371_mic2.flac',) ('data/American/p299/p299_227_mic1.flac',) ('data/American/p300/p300_215_mic1.flac',) ('data/Indian/p248/p248_338_mic2.flac',) ('p299',) ('p300',) ('p299',) ('American',) ('Indian',)\n",
      "('data/Irish/p283/p283_129_mic1.flac',) ('data/Irish/p283/p283_012_mic2.flac',) ('data/Irish/p295/p295_346_mic2.flac',) ('data/Scottish/p249/p249_010_mic2.flac',) ('p283',) ('p295',) ('p283',) ('Irish',) ('Scottish',)\n",
      "('data/American/p301/p301_238_mic1.flac',) ('data/American/p301/p301_012_mic1.flac',) ('data/American/p300/p300_051_mic1.flac',) ('data/Indian/p251/p251_290_mic2.flac',) ('p301',) ('p300',) ('p301',) ('American',) ('Indian',)\n",
      "('data/Irish/p298/p298_246_mic1.flac',) ('data/Irish/p298/p298_281_mic1.flac',) ('data/Irish/p295/p295_105_mic2.flac',) ('data/Indian/p248/p248_292_mic1.flac',) ('p298',) ('p295',) ('p298',) ('Irish',) ('Indian',)\n",
      "('data/Irish/p298/p298_208_mic1.flac',) ('data/Irish/p298/p298_282_mic1.flac',) ('data/Irish/p283/p283_186_mic2.flac',) ('data/Indian/p248/p248_129_mic1.flac',) ('p298',) ('p283',) ('p298',) ('Irish',) ('Indian',)\n",
      "('data/Scottish/p234/p234_153_mic1.flac',) ('data/Scottish/p234/p234_039_mic1.flac',) ('data/Scottish/p249/p249_173_mic1.flac',) ('data/Irish/p283/p283_404_mic1.flac',) ('p234',) ('p249',) ('p234',) ('Scottish',) ('Irish',)\n",
      "('data/Scottish/p237/p237_188_mic1.flac',) ('data/Scottish/p237/p237_083_mic1.flac',) ('data/Scottish/p234/p234_355_mic1.flac',) ('data/Irish/p298/p298_306_mic2.flac',) ('p237',) ('p234',) ('p237',) ('Scottish',) ('Irish',)\n",
      "('data/Indian/p248/p248_227_mic1.flac',) ('data/Indian/p248/p248_010_mic1.flac',) ('data/Indian/p376/p376_026_mic2.flac',) ('data/Irish/p295/p295_341_mic1.flac',) ('p248',) ('p376',) ('p248',) ('Indian',) ('Irish',)\n",
      "('data/American/p301/p301_030_mic2.flac',) ('data/American/p301/p301_406_mic1.flac',) ('data/American/p300/p300_046_mic2.flac',) ('data/Indian/p251/p251_167_mic2.flac',) ('p301',) ('p300',) ('p301',) ('American',) ('Indian',)\n",
      "('data/Indian/p251/p251_198_mic2.flac',) ('data/Indian/p251/p251_220_mic1.flac',) ('data/Indian/p248/p248_133_mic2.flac',) ('data/Irish/p283/p283_217_mic2.flac',) ('p251',) ('p248',) ('p251',) ('Indian',) ('Irish',)\n",
      "('data/Irish/p298/p298_177_mic1.flac',) ('data/Irish/p298/p298_325_mic1.flac',) ('data/Irish/p245/p245_238_mic2.flac',) ('data/Scottish/p237/p237_045_mic2.flac',) ('p298',) ('p245',) ('p298',) ('Irish',) ('Scottish',)\n",
      "('data/Indian/p251/p251_165_mic2.flac',) ('data/Indian/p251/p251_017_mic1.flac',) ('data/Indian/p376/p376_177_mic2.flac',) ('data/Scottish/p237/p237_227_mic1.flac',) ('p251',) ('p376',) ('p251',) ('Indian',) ('Scottish',)\n",
      "('data/Indian/p251/p251_005_mic2.flac',) ('data/Indian/p251/p251_337_mic2.flac',) ('data/Indian/p376/p376_086_mic1.flac',) ('data/American/p299/p299_197_mic1.flac',) ('p251',) ('p376',) ('p251',) ('Indian',) ('American',)\n",
      "('data/Scottish/p284/p284_072_mic2.flac',) ('data/Scottish/p284/p284_103_mic1.flac',) ('data/Scottish/p234/p234_189_mic1.flac',) ('data/Indian/p248/p248_010_mic2.flac',) ('p284',) ('p234',) ('p284',) ('Scottish',) ('Indian',)\n",
      "('data/Scottish/p237/p237_160_mic2.flac',) ('data/Scottish/p237/p237_275_mic1.flac',) ('data/Scottish/p234/p234_210_mic2.flac',) ('data/Irish/p295/p295_148_mic1.flac',) ('p237',) ('p234',) ('p237',) ('Scottish',) ('Irish',)\n",
      "('data/Indian/p251/p251_003_mic1.flac',) ('data/Indian/p251/p251_057_mic2.flac',) ('data/Indian/p248/p248_129_mic1.flac',) ('data/Scottish/p249/p249_011_mic2.flac',) ('p251',) ('p248',) ('p251',) ('Indian',) ('Scottish',)\n",
      "('data/Scottish/p234/p234_328_mic2.flac',) ('data/Scottish/p234/p234_331_mic1.flac',) ('data/Scottish/p249/p249_106_mic2.flac',) ('data/American/p300/p300_354_mic2.flac',) ('p234',) ('p249',) ('p234',) ('Scottish',) ('American',)\n",
      "('data/American/p301/p301_368_mic2.flac',) ('data/American/p301/p301_278_mic1.flac',) ('data/American/p300/p300_388_mic1.flac',) ('data/Indian/p251/p251_156_mic2.flac',) ('p301',) ('p300',) ('p301',) ('American',) ('Indian',)\n",
      "('data/Irish/p283/p283_285_mic1.flac',) ('data/Irish/p283/p283_195_mic1.flac',) ('data/Irish/p295/p295_416_mic1.flac',) ('data/Indian/p376/p376_122_mic1.flac',) ('p283',) ('p295',) ('p283',) ('Irish',) ('Indian',)\n",
      "('data/Indian/p376/p376_175_mic2.flac',) ('data/Indian/p376/p376_198_mic1.flac',) ('data/Indian/p251/p251_161_mic2.flac',) ('data/American/p301/p301_249_mic2.flac',) ('p376',) ('p251',) ('p376',) ('Indian',) ('American',)\n",
      "('data/American/p299/p299_198_mic1.flac',) ('data/American/p299/p299_367_mic2.flac',) ('data/American/p301/p301_263_mic1.flac',) ('data/Scottish/p237/p237_069_mic2.flac',) ('p299',) ('p301',) ('p299',) ('American',) ('Scottish',)\n",
      "('data/Indian/p376/p376_038_mic1.flac',) ('data/Indian/p376/p376_392_mic1.flac',) ('data/Indian/p251/p251_110_mic2.flac',) ('data/American/p301/p301_150_mic2.flac',) ('p376',) ('p251',) ('p376',) ('Indian',) ('American',)\n",
      "('data/Irish/p298/p298_296_mic2.flac',) ('data/Irish/p298/p298_305_mic1.flac',) ('data/Irish/p295/p295_312_mic2.flac',) ('data/Indian/p251/p251_208_mic1.flac',) ('p298',) ('p295',) ('p298',) ('Irish',) ('Indian',)\n",
      "('data/American/p301/p301_133_mic1.flac',) ('data/American/p301/p301_041_mic1.flac',) ('data/American/p299/p299_254_mic1.flac',) ('data/Irish/p295/p295_025_mic1.flac',) ('p301',) ('p299',) ('p301',) ('American',) ('Irish',)\n",
      "('data/Scottish/p284/p284_416_mic2.flac',) ('data/Scottish/p284/p284_058_mic2.flac',) ('data/Scottish/p237/p237_123_mic2.flac',) ('data/American/p301/p301_134_mic1.flac',) ('p284',) ('p237',) ('p284',) ('Scottish',) ('American',)\n",
      "('data/American/p300/p300_302_mic1.flac',) ('data/American/p300/p300_289_mic1.flac',) ('data/American/p299/p299_327_mic1.flac',) ('data/Scottish/p237/p237_229_mic2.flac',) ('p300',) ('p299',) ('p300',) ('American',) ('Scottish',)\n",
      "('data/Indian/p248/p248_152_mic1.flac',) ('data/Indian/p248/p248_221_mic2.flac',) ('data/Indian/p376/p376_424_mic1.flac',) ('data/Irish/p245/p245_201_mic1.flac',) ('p248',) ('p376',) ('p248',) ('Indian',) ('Irish',)\n",
      "('data/Irish/p298/p298_353_mic2.flac',) ('data/Irish/p298/p298_205_mic2.flac',) ('data/Irish/p295/p295_215_mic2.flac',) ('data/American/p300/p300_162_mic1.flac',) ('p298',) ('p295',) ('p298',) ('Irish',) ('American',)\n",
      "('data/Indian/p248/p248_254_mic1.flac',) ('data/Indian/p248/p248_007_mic1.flac',) ('data/Indian/p376/p376_109_mic1.flac',) ('data/Scottish/p284/p284_319_mic1.flac',) ('p248',) ('p376',) ('p248',) ('Indian',) ('Scottish',)\n",
      "('data/Scottish/p237/p237_043_mic2.flac',) ('data/Scottish/p237/p237_347_mic2.flac',) ('data/Scottish/p234/p234_137_mic1.flac',) ('data/Indian/p251/p251_035_mic1.flac',) ('p237',) ('p234',) ('p237',) ('Scottish',) ('Indian',)\n",
      "('data/Scottish/p284/p284_203_mic1.flac',) ('data/Scottish/p284/p284_422_mic1.flac',) ('data/Scottish/p234/p234_232_mic2.flac',) ('data/Indian/p251/p251_341_mic2.flac',) ('p284',) ('p234',) ('p284',) ('Scottish',) ('Indian',)\n",
      "('data/Irish/p298/p298_231_mic2.flac',) ('data/Irish/p298/p298_156_mic1.flac',) ('data/Irish/p245/p245_249_mic2.flac',) ('data/American/p300/p300_356_mic2.flac',) ('p298',) ('p245',) ('p298',) ('Irish',) ('American',)\n",
      "('data/Irish/p283/p283_281_mic1.flac',) ('data/Irish/p283/p283_260_mic1.flac',) ('data/Irish/p245/p245_357_mic2.flac',) ('data/American/p300/p300_022_mic1.flac',) ('p283',) ('p245',) ('p283',) ('Irish',) ('American',)\n",
      "('data/Irish/p283/p283_058_mic2.flac',) ('data/Irish/p283/p283_424_mic2.flac',) ('data/Irish/p298/p298_387_mic1.flac',) ('data/American/p300/p300_122_mic1.flac',) ('p283',) ('p298',) ('p283',) ('Irish',) ('American',)\n",
      "('data/Indian/p376/p376_405_mic2.flac',) ('data/Indian/p376/p376_224_mic2.flac',) ('data/Indian/p248/p248_041_mic2.flac',) ('data/American/p301/p301_383_mic1.flac',) ('p376',) ('p248',) ('p376',) ('Indian',) ('American',)\n",
      "('data/American/p300/p300_382_mic1.flac',) ('data/American/p300/p300_188_mic2.flac',) ('data/American/p301/p301_265_mic1.flac',) ('data/Scottish/p237/p237_337_mic2.flac',) ('p300',) ('p301',) ('p300',) ('American',) ('Scottish',)\n",
      "('data/Indian/p376/p376_050_mic2.flac',) ('data/Indian/p376/p376_318_mic1.flac',) ('data/Indian/p251/p251_215_mic2.flac',) ('data/American/p300/p300_073_mic2.flac',) ('p376',) ('p251',) ('p376',) ('Indian',) ('American',)\n",
      "('data/American/p300/p300_247_mic2.flac',) ('data/American/p300/p300_315_mic2.flac',) ('data/American/p301/p301_194_mic2.flac',) ('data/Indian/p248/p248_187_mic1.flac',) ('p300',) ('p301',) ('p300',) ('American',) ('Indian',)\n",
      "('data/Scottish/p284/p284_341_mic1.flac',) ('data/Scottish/p284/p284_215_mic1.flac',) ('data/Scottish/p234/p234_054_mic1.flac',) ('data/Indian/p376/p376_137_mic1.flac',) ('p284',) ('p234',) ('p284',) ('Scottish',) ('Indian',)\n",
      "('data/Scottish/p237/p237_103_mic1.flac',) ('data/Scottish/p237/p237_311_mic2.flac',) ('data/Scottish/p284/p284_032_mic1.flac',) ('data/Irish/p298/p298_246_mic1.flac',) ('p237',) ('p284',) ('p237',) ('Scottish',) ('Irish',)\n",
      "('data/Indian/p248/p248_153_mic1.flac',) ('data/Indian/p248/p248_211_mic2.flac',) ('data/Indian/p376/p376_143_mic1.flac',) ('data/Scottish/p237/p237_125_mic2.flac',) ('p248',) ('p376',) ('p248',) ('Indian',) ('Scottish',)\n",
      "('data/Irish/p298/p298_062_mic1.flac',) ('data/Irish/p298/p298_397_mic2.flac',) ('data/Irish/p245/p245_185_mic2.flac',) ('data/American/p300/p300_184_mic1.flac',) ('p298',) ('p245',) ('p298',) ('Irish',) ('American',)\n",
      "('data/Indian/p376/p376_400_mic1.flac',) ('data/Indian/p376/p376_305_mic2.flac',) ('data/Indian/p251/p251_140_mic2.flac',) ('data/Irish/p283/p283_101_mic1.flac',) ('p376',) ('p251',) ('p376',) ('Indian',) ('Irish',)\n",
      "('data/Irish/p245/p245_327_mic2.flac',) ('data/Irish/p245/p245_093_mic2.flac',) ('data/Irish/p298/p298_227_mic2.flac',) ('data/American/p301/p301_385_mic2.flac',) ('p245',) ('p298',) ('p245',) ('Irish',) ('American',)\n",
      "('data/American/p299/p299_147_mic1.flac',) ('data/American/p299/p299_004_mic1.flac',) ('data/American/p301/p301_190_mic1.flac',) ('data/Scottish/p237/p237_311_mic2.flac',) ('p299',) ('p301',) ('p299',) ('American',) ('Scottish',)\n",
      "('data/Scottish/p249/p249_090_mic2.flac',) ('data/Scottish/p249/p249_193_mic1.flac',) ('data/Scottish/p284/p284_192_mic1.flac',) ('data/American/p301/p301_282_mic1.flac',) ('p249',) ('p284',) ('p249',) ('Scottish',) ('American',)\n",
      "('data/American/p299/p299_264_mic1.flac',) ('data/American/p299/p299_047_mic2.flac',) ('data/American/p300/p300_242_mic2.flac',) ('data/Indian/p248/p248_335_mic1.flac',) ('p299',) ('p300',) ('p299',) ('American',) ('Indian',)\n",
      "('data/Scottish/p249/p249_120_mic1.flac',) ('data/Scottish/p249/p249_150_mic2.flac',) ('data/Scottish/p284/p284_339_mic1.flac',) ('data/Irish/p283/p283_085_mic1.flac',) ('p249',) ('p284',) ('p249',) ('Scottish',) ('Irish',)\n",
      "('data/American/p301/p301_104_mic1.flac',) ('data/American/p301/p301_224_mic2.flac',) ('data/American/p300/p300_211_mic1.flac',) ('data/Scottish/p237/p237_338_mic2.flac',) ('p301',) ('p300',) ('p301',) ('American',) ('Scottish',)\n",
      "('data/American/p299/p299_052_mic2.flac',) ('data/American/p299/p299_047_mic2.flac',) ('data/American/p301/p301_134_mic2.flac',) ('data/Indian/p248/p248_205_mic2.flac',) ('p299',) ('p301',) ('p299',) ('American',) ('Indian',)\n",
      "('data/Irish/p295/p295_150_mic2.flac',) ('data/Irish/p295/p295_141_mic1.flac',) ('data/Irish/p245/p245_156_mic1.flac',) ('data/American/p301/p301_383_mic2.flac',) ('p295',) ('p245',) ('p295',) ('Irish',) ('American',)\n",
      "('data/Irish/p298/p298_388_mic1.flac',) ('data/Irish/p298/p298_052_mic1.flac',) ('data/Irish/p245/p245_045_mic2.flac',) ('data/Indian/p251/p251_112_mic1.flac',) ('p298',) ('p245',) ('p298',) ('Irish',) ('Indian',)\n",
      "('data/Indian/p376/p376_359_mic2.flac',) ('data/Indian/p376/p376_338_mic1.flac',) ('data/Indian/p251/p251_318_mic1.flac',) ('data/Scottish/p237/p237_323_mic1.flac',) ('p376',) ('p251',) ('p376',) ('Indian',) ('Scottish',)\n",
      "('data/Irish/p298/p298_082_mic1.flac',) ('data/Irish/p298/p298_030_mic1.flac',) ('data/Irish/p283/p283_350_mic1.flac',) ('data/American/p300/p300_184_mic1.flac',) ('p298',) ('p283',) ('p298',) ('Irish',) ('American',)\n",
      "('data/Irish/p295/p295_099_mic1.flac',) ('data/Irish/p295/p295_065_mic1.flac',) ('data/Irish/p245/p245_219_mic2.flac',) ('data/Scottish/p249/p249_087_mic1.flac',) ('p295',) ('p245',) ('p295',) ('Irish',) ('Scottish',)\n",
      "('data/Scottish/p234/p234_025_mic1.flac',) ('data/Scottish/p234/p234_229_mic1.flac',) ('data/Scottish/p284/p284_294_mic1.flac',) ('data/Irish/p295/p295_323_mic2.flac',) ('p234',) ('p284',) ('p234',) ('Scottish',) ('Irish',)\n",
      "('data/American/p300/p300_112_mic1.flac',) ('data/American/p300/p300_087_mic2.flac',) ('data/American/p299/p299_399_mic1.flac',) ('data/Irish/p283/p283_132_mic1.flac',) ('p300',) ('p299',) ('p300',) ('American',) ('Irish',)\n",
      "('data/American/p299/p299_197_mic1.flac',) ('data/American/p299/p299_028_mic1.flac',) ('data/American/p301/p301_052_mic1.flac',) ('data/Irish/p283/p283_277_mic2.flac',) ('p299',) ('p301',) ('p299',) ('American',) ('Irish',)\n",
      "('data/Indian/p248/p248_100_mic2.flac',) ('data/Indian/p248/p248_116_mic1.flac',) ('data/Indian/p251/p251_092_mic2.flac',) ('data/American/p299/p299_076_mic1.flac',) ('p248',) ('p251',) ('p248',) ('Indian',) ('American',)\n",
      "('data/American/p300/p300_224_mic1.flac',) ('data/American/p300/p300_104_mic2.flac',) ('data/American/p301/p301_150_mic2.flac',) ('data/Indian/p248/p248_163_mic1.flac',) ('p300',) ('p301',) ('p300',) ('American',) ('Indian',)\n",
      "('data/Indian/p376/p376_330_mic1.flac',) ('data/Indian/p376/p376_142_mic2.flac',) ('data/Indian/p248/p248_009_mic2.flac',) ('data/Scottish/p237/p237_003_mic2.flac',) ('p376',) ('p248',) ('p376',) ('Indian',) ('Scottish',)\n",
      "('data/American/p301/p301_292_mic2.flac',) ('data/American/p301/p301_378_mic2.flac',) ('data/American/p300/p300_182_mic1.flac',) ('data/Scottish/p284/p284_082_mic2.flac',) ('p301',) ('p300',) ('p301',) ('American',) ('Scottish',)\n",
      "('data/American/p299/p299_400_mic1.flac',) ('data/American/p299/p299_364_mic2.flac',) ('data/American/p301/p301_044_mic1.flac',) ('data/Scottish/p234/p234_352_mic2.flac',) ('p299',) ('p301',) ('p299',) ('American',) ('Scottish',)\n",
      "('data/Irish/p295/p295_372_mic2.flac',) ('data/Irish/p295/p295_371_mic1.flac',) ('data/Irish/p298/p298_286_mic1.flac',) ('data/Indian/p251/p251_020_mic1.flac',) ('p295',) ('p298',) ('p295',) ('Irish',) ('Indian',)\n",
      "('data/American/p300/p300_189_mic2.flac',) ('data/American/p300/p300_350_mic2.flac',) ('data/American/p299/p299_376_mic1.flac',) ('data/Indian/p248/p248_216_mic1.flac',) ('p300',) ('p299',) ('p300',) ('American',) ('Indian',)\n",
      "('data/Indian/p251/p251_241_mic1.flac',) ('data/Indian/p251/p251_024_mic2.flac',) ('data/Indian/p248/p248_109_mic1.flac',) ('data/Irish/p295/p295_254_mic2.flac',) ('p251',) ('p248',) ('p251',) ('Indian',) ('Irish',)\n",
      "('data/Irish/p298/p298_245_mic1.flac',) ('data/Irish/p298/p298_012_mic2.flac',) ('data/Irish/p295/p295_090_mic1.flac',) ('data/American/p301/p301_278_mic1.flac',) ('p298',) ('p295',) ('p298',) ('Irish',) ('American',)\n",
      "('data/Scottish/p234/p234_204_mic2.flac',) ('data/Scottish/p234/p234_068_mic2.flac',) ('data/Scottish/p237/p237_017_mic1.flac',) ('data/Indian/p251/p251_333_mic1.flac',) ('p234',) ('p237',) ('p234',) ('Scottish',) ('Indian',)\n",
      "('data/Indian/p248/p248_308_mic2.flac',) ('data/Indian/p248/p248_026_mic1.flac',) ('data/Indian/p251/p251_006_mic2.flac',) ('data/Irish/p283/p283_242_mic1.flac',) ('p248',) ('p251',) ('p248',) ('Indian',) ('Irish',)\n",
      "('data/American/p300/p300_014_mic1.flac',) ('data/American/p300/p300_192_mic1.flac',) ('data/American/p299/p299_285_mic1.flac',) ('data/Indian/p376/p376_386_mic1.flac',) ('p300',) ('p299',) ('p300',) ('American',) ('Indian',)\n",
      "('data/Indian/p248/p248_114_mic1.flac',) ('data/Indian/p248/p248_254_mic1.flac',) ('data/Indian/p251/p251_348_mic1.flac',) ('data/Irish/p295/p295_322_mic1.flac',) ('p248',) ('p251',) ('p248',) ('Indian',) ('Irish',)\n",
      "('data/American/p301/p301_345_mic1.flac',) ('data/American/p301/p301_109_mic1.flac',) ('data/American/p300/p300_282_mic2.flac',) ('data/Irish/p295/p295_312_mic2.flac',) ('p301',) ('p300',) ('p301',) ('American',) ('Irish',)\n",
      "('data/Irish/p283/p283_025_mic2.flac',) ('data/Irish/p283/p283_406_mic2.flac',) ('data/Irish/p298/p298_201_mic1.flac',) ('data/American/p299/p299_354_mic1.flac',) ('p283',) ('p298',) ('p283',) ('Irish',) ('American',)\n",
      "('data/Scottish/p284/p284_081_mic1.flac',) ('data/Scottish/p284/p284_233_mic2.flac',) ('data/Scottish/p237/p237_037_mic2.flac',) ('data/Indian/p376/p376_353_mic1.flac',) ('p284',) ('p237',) ('p284',) ('Scottish',) ('Indian',)\n",
      "('data/Indian/p248/p248_362_mic2.flac',) ('data/Indian/p248/p248_261_mic1.flac',) ('data/Indian/p376/p376_272_mic2.flac',) ('data/Irish/p295/p295_013_mic1.flac',) ('p248',) ('p376',) ('p248',) ('Indian',) ('Irish',)\n",
      "('data/American/p300/p300_115_mic2.flac',) ('data/American/p300/p300_283_mic1.flac',) ('data/American/p299/p299_356_mic1.flac',) ('data/Scottish/p237/p237_090_mic2.flac',) ('p300',) ('p299',) ('p300',) ('American',) ('Scottish',)\n",
      "('data/American/p300/p300_251_mic1.flac',) ('data/American/p300/p300_363_mic1.flac',) ('data/American/p301/p301_359_mic1.flac',) ('data/Indian/p251/p251_021_mic2.flac',) ('p300',) ('p301',) ('p300',) ('American',) ('Indian',)\n"
     ]
    },
    {
     "name": "stdout",
     "output_type": "stream",
     "text": [
      "('data/Indian/p251/p251_006_mic2.flac',) ('data/Indian/p251/p251_367_mic2.flac',) ('data/Indian/p376/p376_315_mic2.flac',) ('data/Scottish/p284/p284_372_mic1.flac',) ('p251',) ('p376',) ('p251',) ('Indian',) ('Scottish',)\n",
      "('data/Indian/p248/p248_224_mic2.flac',) ('data/Indian/p248/p248_365_mic1.flac',) ('data/Indian/p376/p376_032_mic1.flac',) ('data/American/p300/p300_316_mic2.flac',) ('p248',) ('p376',) ('p248',) ('Indian',) ('American',)\n",
      "('data/Irish/p245/p245_240_mic2.flac',) ('data/Irish/p245/p245_046_mic2.flac',) ('data/Irish/p283/p283_158_mic2.flac',) ('data/Scottish/p237/p237_179_mic2.flac',) ('p245',) ('p283',) ('p245',) ('Irish',) ('Scottish',)\n",
      "('data/American/p300/p300_324_mic2.flac',) ('data/American/p300/p300_200_mic2.flac',) ('data/American/p299/p299_403_mic2.flac',) ('data/Irish/p283/p283_269_mic2.flac',) ('p300',) ('p299',) ('p300',) ('American',) ('Irish',)\n",
      "('data/Scottish/p237/p237_103_mic1.flac',) ('data/Scottish/p237/p237_096_mic2.flac',) ('data/Scottish/p284/p284_030_mic1.flac',) ('data/Irish/p245/p245_208_mic2.flac',) ('p237',) ('p284',) ('p237',) ('Scottish',) ('Irish',)\n",
      "('data/American/p301/p301_390_mic2.flac',) ('data/American/p301/p301_387_mic2.flac',) ('data/American/p299/p299_198_mic2.flac',) ('data/Irish/p295/p295_209_mic1.flac',) ('p301',) ('p299',) ('p301',) ('American',) ('Irish',)\n",
      "('data/Scottish/p237/p237_234_mic2.flac',) ('data/Scottish/p237/p237_230_mic2.flac',) ('data/Scottish/p284/p284_247_mic1.flac',) ('data/Indian/p248/p248_151_mic1.flac',) ('p237',) ('p284',) ('p237',) ('Scottish',) ('Indian',)\n",
      "('data/Irish/p283/p283_015_mic1.flac',) ('data/Irish/p283/p283_254_mic1.flac',) ('data/Irish/p245/p245_051_mic2.flac',) ('data/Indian/p248/p248_046_mic2.flac',) ('p283',) ('p245',) ('p283',) ('Irish',) ('Indian',)\n",
      "('data/Scottish/p237/p237_263_mic1.flac',) ('data/Scottish/p237/p237_067_mic2.flac',) ('data/Scottish/p234/p234_008_mic1.flac',) ('data/Indian/p376/p376_213_mic2.flac',) ('p237',) ('p234',) ('p237',) ('Scottish',) ('Indian',)\n",
      "('data/Irish/p295/p295_401_mic1.flac',) ('data/Irish/p295/p295_221_mic1.flac',) ('data/Irish/p283/p283_283_mic1.flac',) ('data/Scottish/p237/p237_032_mic1.flac',) ('p295',) ('p283',) ('p295',) ('Irish',) ('Scottish',)\n",
      "('data/Irish/p283/p283_361_mic1.flac',) ('data/Irish/p283/p283_217_mic1.flac',) ('data/Irish/p245/p245_254_mic1.flac',) ('data/American/p299/p299_133_mic2.flac',) ('p283',) ('p245',) ('p283',) ('Irish',) ('American',)\n",
      "('data/Irish/p298/p298_230_mic2.flac',) ('data/Irish/p298/p298_046_mic2.flac',) ('data/Irish/p245/p245_061_mic2.flac',) ('data/Scottish/p249/p249_232_mic1.flac',) ('p298',) ('p245',) ('p298',) ('Irish',) ('Scottish',)\n",
      "('data/Indian/p248/p248_267_mic2.flac',) ('data/Indian/p248/p248_282_mic1.flac',) ('data/Indian/p376/p376_344_mic2.flac',) ('data/Scottish/p284/p284_259_mic1.flac',) ('p248',) ('p376',) ('p248',) ('Indian',) ('Scottish',)\n",
      "('data/Irish/p295/p295_171_mic2.flac',) ('data/Irish/p295/p295_178_mic1.flac',) ('data/Irish/p245/p245_283_mic1.flac',) ('data/Scottish/p234/p234_062_mic1.flac',) ('p295',) ('p245',) ('p295',) ('Irish',) ('Scottish',)\n",
      "('data/Scottish/p249/p249_216_mic2.flac',) ('data/Scottish/p249/p249_220_mic1.flac',) ('data/Scottish/p237/p237_279_mic2.flac',) ('data/Indian/p376/p376_146_mic2.flac',) ('p249',) ('p237',) ('p249',) ('Scottish',) ('Indian',)\n",
      "('data/Irish/p295/p295_157_mic2.flac',) ('data/Irish/p295/p295_234_mic2.flac',) ('data/Irish/p298/p298_371_mic1.flac',) ('data/Indian/p251/p251_263_mic2.flac',) ('p295',) ('p298',) ('p295',) ('Irish',) ('Indian',)\n",
      "('data/Scottish/p237/p237_250_mic1.flac',) ('data/Scottish/p237/p237_313_mic1.flac',) ('data/Scottish/p234/p234_165_mic1.flac',) ('data/American/p299/p299_350_mic1.flac',) ('p237',) ('p234',) ('p237',) ('Scottish',) ('American',)\n",
      "('data/American/p300/p300_367_mic1.flac',) ('data/American/p300/p300_054_mic2.flac',) ('data/American/p301/p301_096_mic2.flac',) ('data/Irish/p283/p283_338_mic1.flac',) ('p300',) ('p301',) ('p300',) ('American',) ('Irish',)\n",
      "('data/American/p299/p299_198_mic2.flac',) ('data/American/p299/p299_247_mic1.flac',) ('data/American/p300/p300_161_mic1.flac',) ('data/Indian/p248/p248_034_mic2.flac',) ('p299',) ('p300',) ('p299',) ('American',) ('Indian',)\n",
      "('data/American/p299/p299_244_mic1.flac',) ('data/American/p299/p299_148_mic2.flac',) ('data/American/p300/p300_274_mic2.flac',) ('data/Indian/p251/p251_241_mic1.flac',) ('p299',) ('p300',) ('p299',) ('American',) ('Indian',)\n",
      "('data/American/p300/p300_236_mic2.flac',) ('data/American/p300/p300_144_mic2.flac',) ('data/American/p301/p301_178_mic2.flac',) ('data/Irish/p295/p295_229_mic1.flac',) ('p300',) ('p301',) ('p300',) ('American',) ('Irish',)\n",
      "('data/American/p299/p299_020_mic2.flac',) ('data/American/p299/p299_399_mic1.flac',) ('data/American/p301/p301_241_mic1.flac',) ('data/Irish/p283/p283_339_mic1.flac',) ('p299',) ('p301',) ('p299',) ('American',) ('Irish',)\n",
      "('data/Indian/p248/p248_293_mic1.flac',) ('data/Indian/p248/p248_089_mic1.flac',) ('data/Indian/p251/p251_125_mic2.flac',) ('data/Scottish/p234/p234_245_mic2.flac',) ('p248',) ('p251',) ('p248',) ('Indian',) ('Scottish',)\n",
      "('data/Indian/p248/p248_330_mic2.flac',) ('data/Indian/p248/p248_241_mic1.flac',) ('data/Indian/p376/p376_330_mic2.flac',) ('data/American/p300/p300_061_mic1.flac',) ('p248',) ('p376',) ('p248',) ('Indian',) ('American',)\n",
      "('data/Indian/p376/p376_053_mic2.flac',) ('data/Indian/p376/p376_152_mic2.flac',) ('data/Indian/p251/p251_012_mic1.flac',) ('data/Scottish/p284/p284_049_mic1.flac',) ('p376',) ('p251',) ('p376',) ('Indian',) ('Scottish',)\n",
      "('data/Scottish/p284/p284_004_mic1.flac',) ('data/Scottish/p284/p284_064_mic1.flac',) ('data/Scottish/p237/p237_267_mic2.flac',) ('data/Irish/p283/p283_019_mic2.flac',) ('p284',) ('p237',) ('p284',) ('Scottish',) ('Irish',)\n",
      "('data/Scottish/p234/p234_335_mic2.flac',) ('data/Scottish/p234/p234_088_mic2.flac',) ('data/Scottish/p237/p237_070_mic2.flac',) ('data/Indian/p248/p248_296_mic1.flac',) ('p234',) ('p237',) ('p234',) ('Scottish',) ('Indian',)\n",
      "('data/Indian/p248/p248_197_mic2.flac',) ('data/Indian/p248/p248_313_mic2.flac',) ('data/Indian/p251/p251_287_mic1.flac',) ('data/American/p300/p300_059_mic1.flac',) ('p248',) ('p251',) ('p248',) ('Indian',) ('American',)\n",
      "('data/Scottish/p249/p249_275_mic1.flac',) ('data/Scottish/p249/p249_143_mic2.flac',) ('data/Scottish/p237/p237_310_mic1.flac',) ('data/American/p301/p301_310_mic2.flac',) ('p249',) ('p237',) ('p249',) ('Scottish',) ('American',)\n",
      "('data/Scottish/p249/p249_269_mic2.flac',) ('data/Scottish/p249/p249_114_mic2.flac',) ('data/Scottish/p284/p284_003_mic1.flac',) ('data/Irish/p298/p298_347_mic2.flac',) ('p249',) ('p284',) ('p249',) ('Scottish',) ('Irish',)\n",
      "('data/Scottish/p284/p284_089_mic2.flac',) ('data/Scottish/p284/p284_061_mic2.flac',) ('data/Scottish/p237/p237_268_mic1.flac',) ('data/Indian/p248/p248_192_mic1.flac',) ('p284',) ('p237',) ('p284',) ('Scottish',) ('Indian',)\n",
      "('data/American/p300/p300_378_mic2.flac',) ('data/American/p300/p300_254_mic2.flac',) ('data/American/p299/p299_128_mic1.flac',) ('data/Irish/p298/p298_343_mic1.flac',) ('p300',) ('p299',) ('p300',) ('American',) ('Irish',)\n",
      "('data/Indian/p376/p376_231_mic1.flac',) ('data/Indian/p376/p376_150_mic1.flac',) ('data/Indian/p251/p251_174_mic1.flac',) ('data/Irish/p283/p283_288_mic1.flac',) ('p376',) ('p251',) ('p376',) ('Indian',) ('Irish',)\n",
      "('data/Indian/p248/p248_222_mic1.flac',) ('data/Indian/p248/p248_061_mic1.flac',) ('data/Indian/p376/p376_061_mic1.flac',) ('data/Irish/p295/p295_369_mic2.flac',) ('p248',) ('p376',) ('p248',) ('Indian',) ('Irish',)\n",
      "('data/Indian/p248/p248_265_mic2.flac',) ('data/Indian/p248/p248_135_mic1.flac',) ('data/Indian/p251/p251_289_mic1.flac',) ('data/Scottish/p249/p249_230_mic1.flac',) ('p248',) ('p251',) ('p248',) ('Indian',) ('Scottish',)\n",
      "('data/Irish/p295/p295_378_mic2.flac',) ('data/Irish/p295/p295_048_mic2.flac',) ('data/Irish/p298/p298_013_mic1.flac',) ('data/Indian/p248/p248_352_mic2.flac',) ('p295',) ('p298',) ('p295',) ('Irish',) ('Indian',)\n",
      "('data/Scottish/p284/p284_069_mic1.flac',) ('data/Scottish/p284/p284_231_mic1.flac',) ('data/Scottish/p249/p249_260_mic1.flac',) ('data/Irish/p295/p295_120_mic1.flac',) ('p284',) ('p249',) ('p284',) ('Scottish',) ('Irish',)\n",
      "('data/Scottish/p284/p284_138_mic2.flac',) ('data/Scottish/p284/p284_378_mic2.flac',) ('data/Scottish/p249/p249_160_mic2.flac',) ('data/Indian/p248/p248_086_mic1.flac',) ('p284',) ('p249',) ('p284',) ('Scottish',) ('Indian',)\n",
      "('data/Irish/p295/p295_325_mic2.flac',) ('data/Irish/p295/p295_330_mic2.flac',) ('data/Irish/p245/p245_306_mic2.flac',) ('data/Indian/p251/p251_052_mic1.flac',) ('p295',) ('p245',) ('p295',) ('Irish',) ('Indian',)\n",
      "('data/American/p300/p300_246_mic2.flac',) ('data/American/p300/p300_274_mic2.flac',) ('data/American/p299/p299_035_mic2.flac',) ('data/Scottish/p249/p249_145_mic2.flac',) ('p300',) ('p299',) ('p300',) ('American',) ('Scottish',)\n",
      "('data/Irish/p298/p298_163_mic1.flac',) ('data/Irish/p298/p298_218_mic2.flac',) ('data/Irish/p283/p283_116_mic2.flac',) ('data/Indian/p248/p248_092_mic2.flac',) ('p298',) ('p283',) ('p298',) ('Irish',) ('Indian',)\n",
      "('data/Scottish/p234/p234_113_mic2.flac',) ('data/Scottish/p234/p234_140_mic1.flac',) ('data/Scottish/p284/p284_377_mic1.flac',) ('data/Irish/p298/p298_147_mic2.flac',) ('p234',) ('p284',) ('p234',) ('Scottish',) ('Irish',)\n",
      "('data/Indian/p251/p251_340_mic1.flac',) ('data/Indian/p251/p251_179_mic2.flac',) ('data/Indian/p376/p376_186_mic1.flac',) ('data/Scottish/p234/p234_005_mic2.flac',) ('p251',) ('p376',) ('p251',) ('Indian',) ('Scottish',)\n",
      "('data/Irish/p298/p298_021_mic1.flac',) ('data/Irish/p298/p298_337_mic1.flac',) ('data/Irish/p295/p295_397_mic2.flac',) ('data/American/p299/p299_370_mic1.flac',) ('p298',) ('p295',) ('p298',) ('Irish',) ('American',)\n",
      "('data/Indian/p251/p251_025_mic2.flac',) ('data/Indian/p251/p251_201_mic2.flac',) ('data/Indian/p248/p248_166_mic1.flac',) ('data/American/p301/p301_141_mic1.flac',) ('p251',) ('p248',) ('p251',) ('Indian',) ('American',)\n",
      "('data/Indian/p376/p376_020_mic2.flac',) ('data/Indian/p376/p376_267_mic2.flac',) ('data/Indian/p251/p251_005_mic1.flac',) ('data/Irish/p295/p295_120_mic1.flac',) ('p376',) ('p251',) ('p376',) ('Indian',) ('Irish',)\n",
      "('data/Scottish/p249/p249_093_mic2.flac',) ('data/Scottish/p249/p249_237_mic2.flac',) ('data/Scottish/p237/p237_300_mic2.flac',) ('data/Indian/p248/p248_198_mic2.flac',) ('p249',) ('p237',) ('p249',) ('Scottish',) ('Indian',)\n",
      "('data/Indian/p376/p376_085_mic2.flac',) ('data/Indian/p376/p376_260_mic1.flac',) ('data/Indian/p251/p251_124_mic1.flac',) ('data/American/p299/p299_098_mic1.flac',) ('p376',) ('p251',) ('p376',) ('Indian',) ('American',)\n",
      "('data/Indian/p376/p376_185_mic2.flac',) ('data/Indian/p376/p376_044_mic1.flac',) ('data/Indian/p248/p248_001_mic2.flac',) ('data/American/p300/p300_089_mic2.flac',) ('p376',) ('p248',) ('p376',) ('Indian',) ('American',)\n",
      "('data/Irish/p245/p245_043_mic2.flac',) ('data/Irish/p245/p245_179_mic2.flac',) ('data/Irish/p295/p295_159_mic1.flac',) ('data/American/p299/p299_195_mic1.flac',) ('p245',) ('p295',) ('p245',) ('Irish',) ('American',)\n",
      "('data/Indian/p248/p248_373_mic2.flac',) ('data/Indian/p248/p248_203_mic2.flac',) ('data/Indian/p251/p251_216_mic2.flac',) ('data/Scottish/p249/p249_082_mic1.flac',) ('p248',) ('p251',) ('p248',) ('Indian',) ('Scottish',)\n",
      "('data/Irish/p298/p298_160_mic2.flac',) ('data/Irish/p298/p298_171_mic2.flac',) ('data/Irish/p295/p295_142_mic2.flac',) ('data/American/p299/p299_133_mic2.flac',) ('p298',) ('p295',) ('p298',) ('Irish',) ('American',)\n",
      "('data/Irish/p283/p283_188_mic1.flac',) ('data/Irish/p283/p283_001_mic1.flac',) ('data/Irish/p295/p295_421_mic1.flac',) ('data/Indian/p376/p376_416_mic2.flac',) ('p283',) ('p295',) ('p283',) ('Irish',) ('Indian',)\n",
      "('data/American/p300/p300_284_mic2.flac',) ('data/American/p300/p300_149_mic2.flac',) ('data/American/p299/p299_077_mic1.flac',) ('data/Scottish/p234/p234_313_mic1.flac',) ('p300',) ('p299',) ('p300',) ('American',) ('Scottish',)\n",
      "('data/American/p301/p301_077_mic1.flac',) ('data/American/p301/p301_382_mic1.flac',) ('data/American/p299/p299_140_mic1.flac',) ('data/Scottish/p284/p284_275_mic2.flac',) ('p301',) ('p299',) ('p301',) ('American',) ('Scottish',)\n",
      "('data/Indian/p248/p248_256_mic1.flac',) ('data/Indian/p248/p248_154_mic2.flac',) ('data/Indian/p376/p376_054_mic1.flac',) ('data/Irish/p295/p295_169_mic2.flac',) ('p248',) ('p376',) ('p248',) ('Indian',) ('Irish',)\n",
      "('data/Irish/p295/p295_188_mic2.flac',) ('data/Irish/p295/p295_328_mic1.flac',) ('data/Irish/p283/p283_240_mic1.flac',) ('data/Scottish/p249/p249_198_mic2.flac',) ('p295',) ('p283',) ('p295',) ('Irish',) ('Scottish',)\n",
      "('data/Scottish/p237/p237_045_mic1.flac',) ('data/Scottish/p237/p237_051_mic1.flac',) ('data/Scottish/p234/p234_250_mic2.flac',) ('data/American/p300/p300_391_mic1.flac',) ('p237',) ('p234',) ('p237',) ('Scottish',) ('American',)\n",
      "('data/Scottish/p234/p234_323_mic1.flac',) ('data/Scottish/p234/p234_027_mic2.flac',) ('data/Scottish/p249/p249_160_mic2.flac',) ('data/Irish/p298/p298_238_mic2.flac',) ('p234',) ('p249',) ('p234',) ('Scottish',) ('Irish',)\n",
      "('data/Indian/p251/p251_362_mic2.flac',) ('data/Indian/p251/p251_356_mic1.flac',) ('data/Indian/p376/p376_270_mic2.flac',) ('data/American/p301/p301_239_mic1.flac',) ('p251',) ('p376',) ('p251',) ('Indian',) ('American',)\n",
      "('data/American/p300/p300_156_mic2.flac',) ('data/American/p300/p300_084_mic1.flac',) ('data/American/p299/p299_392_mic2.flac',) ('data/Indian/p376/p376_075_mic2.flac',) ('p300',) ('p299',) ('p300',) ('American',) ('Indian',)\n",
      "('data/American/p300/p300_339_mic1.flac',) ('data/American/p300/p300_085_mic1.flac',) ('data/American/p299/p299_011_mic1.flac',) ('data/Scottish/p234/p234_305_mic2.flac',) ('p300',) ('p299',) ('p300',) ('American',) ('Scottish',)\n",
      "('data/American/p300/p300_275_mic1.flac',) ('data/American/p300/p300_313_mic1.flac',) ('data/American/p301/p301_035_mic1.flac',) ('data/Indian/p248/p248_277_mic2.flac',) ('p300',) ('p301',) ('p300',) ('American',) ('Indian',)\n",
      "('data/American/p299/p299_049_mic1.flac',) ('data/American/p299/p299_158_mic2.flac',) ('data/American/p301/p301_043_mic2.flac',) ('data/Irish/p245/p245_343_mic2.flac',) ('p299',) ('p301',) ('p299',) ('American',) ('Irish',)\n",
      "('data/American/p300/p300_315_mic2.flac',) ('data/American/p300/p300_059_mic2.flac',) ('data/American/p299/p299_241_mic2.flac',) ('data/Irish/p283/p283_227_mic2.flac',) ('p300',) ('p299',) ('p300',) ('American',) ('Irish',)\n",
      "('data/Irish/p283/p283_418_mic2.flac',) ('data/Irish/p283/p283_254_mic1.flac',) ('data/Irish/p298/p298_351_mic1.flac',) ('data/Indian/p251/p251_301_mic1.flac',) ('p283',) ('p298',) ('p283',) ('Irish',) ('Indian',)\n",
      "('data/Indian/p376/p376_354_mic1.flac',) ('data/Indian/p376/p376_133_mic1.flac',) ('data/Indian/p248/p248_160_mic1.flac',) ('data/Irish/p283/p283_026_mic2.flac',) ('p376',) ('p248',) ('p376',) ('Indian',) ('Irish',)\n",
      "('data/Scottish/p249/p249_240_mic1.flac',) ('data/Scottish/p249/p249_107_mic2.flac',) ('data/Scottish/p284/p284_343_mic1.flac',) ('data/American/p300/p300_169_mic1.flac',) ('p249',) ('p284',) ('p249',) ('Scottish',) ('American',)\n",
      "('data/Indian/p376/p376_162_mic2.flac',) ('data/Indian/p376/p376_200_mic1.flac',) ('data/Indian/p248/p248_226_mic1.flac',) ('data/Irish/p295/p295_345_mic1.flac',) ('p376',) ('p248',) ('p376',) ('Indian',) ('Irish',)\n",
      "('data/American/p299/p299_220_mic2.flac',) ('data/American/p299/p299_068_mic2.flac',) ('data/American/p301/p301_003_mic1.flac',) ('data/Indian/p248/p248_364_mic2.flac',) ('p299',) ('p301',) ('p299',) ('American',) ('Indian',)\n",
      "('data/Scottish/p249/p249_165_mic2.flac',) ('data/Scottish/p249/p249_138_mic2.flac',) ('data/Scottish/p284/p284_294_mic2.flac',) ('data/Irish/p298/p298_269_mic1.flac',) ('p249',) ('p284',) ('p249',) ('Scottish',) ('Irish',)\n",
      "('data/Indian/p251/p251_316_mic1.flac',) ('data/Indian/p251/p251_144_mic1.flac',) ('data/Indian/p248/p248_323_mic2.flac',) ('data/Scottish/p234/p234_361_mic2.flac',) ('p251',) ('p248',) ('p251',) ('Indian',) ('Scottish',)\n",
      "('data/Irish/p283/p283_067_mic2.flac',) ('data/Irish/p283/p283_082_mic1.flac',) ('data/Irish/p298/p298_165_mic1.flac',) ('data/Indian/p376/p376_179_mic1.flac',) ('p283',) ('p298',) ('p283',) ('Irish',) ('Indian',)\n",
      "('data/Irish/p295/p295_092_mic2.flac',) ('data/Irish/p295/p295_121_mic2.flac',) ('data/Irish/p245/p245_047_mic2.flac',) ('data/American/p301/p301_186_mic2.flac',) ('p295',) ('p245',) ('p295',) ('Irish',) ('American',)\n",
      "('data/Indian/p251/p251_030_mic2.flac',) ('data/Indian/p251/p251_170_mic2.flac',) ('data/Indian/p376/p376_195_mic2.flac',) ('data/Irish/p298/p298_042_mic1.flac',) ('p251',) ('p376',) ('p251',) ('Indian',) ('Irish',)\n",
      "('data/Irish/p295/p295_222_mic1.flac',) ('data/Irish/p295/p295_380_mic2.flac',) ('data/Irish/p298/p298_338_mic1.flac',) ('data/Indian/p251/p251_022_mic1.flac',) ('p295',) ('p298',) ('p295',) ('Irish',) ('Indian',)\n",
      "('data/American/p300/p300_017_mic1.flac',) ('data/American/p300/p300_332_mic1.flac',) ('data/American/p301/p301_262_mic2.flac',) ('data/Irish/p245/p245_229_mic1.flac',) ('p300',) ('p301',) ('p300',) ('American',) ('Irish',)\n",
      "('data/American/p300/p300_314_mic2.flac',) ('data/American/p300/p300_237_mic1.flac',) ('data/American/p301/p301_216_mic1.flac',) ('data/Indian/p251/p251_218_mic1.flac',) ('p300',) ('p301',) ('p300',) ('American',) ('Indian',)\n",
      "('data/Indian/p251/p251_019_mic1.flac',) ('data/Indian/p251/p251_207_mic1.flac',) ('data/Indian/p248/p248_112_mic2.flac',) ('data/Irish/p245/p245_232_mic1.flac',) ('p251',) ('p248',) ('p251',) ('Indian',) ('Irish',)\n",
      "('data/Scottish/p237/p237_107_mic1.flac',) ('data/Scottish/p237/p237_210_mic2.flac',) ('data/Scottish/p284/p284_267_mic1.flac',) ('data/Indian/p376/p376_258_mic2.flac',) ('p237',) ('p284',) ('p237',) ('Scottish',) ('Indian',)\n",
      "('data/Irish/p295/p295_263_mic2.flac',) ('data/Irish/p295/p295_318_mic1.flac',) ('data/Irish/p283/p283_178_mic1.flac',) ('data/American/p300/p300_261_mic1.flac',) ('p295',) ('p283',) ('p295',) ('Irish',) ('American',)\n",
      "('data/Irish/p245/p245_241_mic1.flac',) ('data/Irish/p245/p245_332_mic2.flac',) ('data/Irish/p283/p283_406_mic1.flac',) ('data/Indian/p248/p248_045_mic1.flac',) ('p245',) ('p283',) ('p245',) ('Irish',) ('Indian',)\n",
      "('data/Indian/p376/p376_077_mic2.flac',) ('data/Indian/p376/p376_382_mic2.flac',) ('data/Indian/p251/p251_094_mic1.flac',) ('data/Irish/p295/p295_124_mic1.flac',) ('p376',) ('p251',) ('p376',) ('Indian',) ('Irish',)\n",
      "('data/American/p299/p299_384_mic2.flac',) ('data/American/p299/p299_346_mic1.flac',) ('data/American/p301/p301_224_mic1.flac',) ('data/Scottish/p284/p284_075_mic1.flac',) ('p299',) ('p301',) ('p299',) ('American',) ('Scottish',)\n",
      "('data/Scottish/p237/p237_191_mic2.flac',) ('data/Scottish/p237/p237_034_mic1.flac',) ('data/Scottish/p249/p249_271_mic2.flac',) ('data/American/p301/p301_088_mic1.flac',) ('p237',) ('p249',) ('p237',) ('Scottish',) ('American',)\n",
      "('data/Scottish/p284/p284_101_mic2.flac',) ('data/Scottish/p284/p284_328_mic1.flac',) ('data/Scottish/p237/p237_316_mic1.flac',) ('data/American/p299/p299_147_mic1.flac',) ('p284',) ('p237',) ('p284',) ('Scottish',) ('American',)\n",
      "('data/Indian/p248/p248_221_mic1.flac',) ('data/Indian/p248/p248_315_mic2.flac',) ('data/Indian/p376/p376_350_mic1.flac',) ('data/Irish/p245/p245_246_mic1.flac',) ('p248',) ('p376',) ('p248',) ('Indian',) ('Irish',)\n",
      "('data/American/p300/p300_085_mic2.flac',) ('data/American/p300/p300_312_mic2.flac',) ('data/American/p299/p299_308_mic1.flac',) ('data/Irish/p298/p298_224_mic1.flac',) ('p300',) ('p299',) ('p300',) ('American',) ('Irish',)\n",
      "('data/American/p301/p301_345_mic2.flac',) ('data/American/p301/p301_140_mic1.flac',) ('data/American/p300/p300_068_mic1.flac',) ('data/Scottish/p234/p234_026_mic1.flac',) ('p301',) ('p300',) ('p301',) ('American',) ('Scottish',)\n",
      "('data/American/p300/p300_311_mic1.flac',) ('data/American/p300/p300_023_mic1.flac',) ('data/American/p299/p299_039_mic2.flac',) ('data/Irish/p298/p298_271_mic2.flac',) ('p300',) ('p299',) ('p300',) ('American',) ('Irish',)\n",
      "('data/Irish/p295/p295_139_mic1.flac',) ('data/Irish/p295/p295_118_mic2.flac',) ('data/Irish/p298/p298_329_mic2.flac',) ('data/Scottish/p234/p234_019_mic1.flac',) ('p295',) ('p298',) ('p295',) ('Irish',) ('Scottish',)\n",
      "('data/Indian/p248/p248_235_mic2.flac',) ('data/Indian/p248/p248_153_mic1.flac',) ('data/Indian/p376/p376_197_mic2.flac',) ('data/Scottish/p237/p237_169_mic1.flac',) ('p248',) ('p376',) ('p248',) ('Indian',) ('Scottish',)\n",
      "('data/American/p300/p300_144_mic2.flac',) ('data/American/p300/p300_366_mic2.flac',) ('data/American/p301/p301_320_mic1.flac',) ('data/Indian/p251/p251_094_mic1.flac',) ('p300',) ('p301',) ('p300',) ('American',) ('Indian',)\n",
      "('data/American/p299/p299_120_mic1.flac',) ('data/American/p299/p299_046_mic2.flac',) ('data/American/p300/p300_027_mic2.flac',) ('data/Scottish/p234/p234_243_mic2.flac',) ('p299',) ('p300',) ('p299',) ('American',) ('Scottish',)\n",
      "('data/Irish/p245/p245_313_mic1.flac',) ('data/Irish/p245/p245_326_mic1.flac',) ('data/Irish/p298/p298_078_mic1.flac',) ('data/American/p299/p299_070_mic2.flac',) ('p245',) ('p298',) ('p245',) ('Irish',) ('American',)\n",
      "('data/Indian/p251/p251_302_mic2.flac',) ('data/Indian/p251/p251_169_mic1.flac',) ('data/Indian/p376/p376_251_mic2.flac',) ('data/Irish/p245/p245_020_mic1.flac',) ('p251',) ('p376',) ('p251',) ('Indian',) ('Irish',)\n",
      "('data/Scottish/p237/p237_154_mic2.flac',) ('data/Scottish/p237/p237_300_mic2.flac',) ('data/Scottish/p249/p249_127_mic1.flac',) ('data/Irish/p298/p298_225_mic2.flac',) ('p237',) ('p249',) ('p237',) ('Scottish',) ('Irish',)\n",
      "('data/Indian/p376/p376_179_mic2.flac',) ('data/Indian/p376/p376_338_mic1.flac',) ('data/Indian/p251/p251_017_mic2.flac',) ('data/Scottish/p249/p249_263_mic2.flac',) ('p376',) ('p251',) ('p376',) ('Indian',) ('Scottish',)\n",
      "('data/Indian/p251/p251_201_mic2.flac',) ('data/Indian/p251/p251_061_mic2.flac',) ('data/Indian/p248/p248_077_mic2.flac',) ('data/Scottish/p237/p237_234_mic1.flac',) ('p251',) ('p248',) ('p251',) ('Indian',) ('Scottish',)\n",
      "('data/American/p301/p301_286_mic2.flac',) ('data/American/p301/p301_092_mic1.flac',) ('data/American/p300/p300_137_mic2.flac',) ('data/Scottish/p237/p237_137_mic2.flac',) ('p301',) ('p300',) ('p301',) ('American',) ('Scottish',)\n",
      "('data/American/p300/p300_119_mic1.flac',) ('data/American/p300/p300_100_mic2.flac',) ('data/American/p301/p301_067_mic1.flac',) ('data/Scottish/p284/p284_278_mic1.flac',) ('p300',) ('p301',) ('p300',) ('American',) ('Scottish',)\n",
      "('data/American/p301/p301_049_mic1.flac',) ('data/American/p301/p301_347_mic1.flac',) ('data/American/p300/p300_032_mic2.flac',) ('data/Irish/p295/p295_050_mic1.flac',) ('p301',) ('p300',) ('p301',) ('American',) ('Irish',)\n",
      "('data/Scottish/p284/p284_023_mic1.flac',) ('data/Scottish/p284/p284_080_mic2.flac',) ('data/Scottish/p237/p237_178_mic1.flac',) ('data/American/p300/p300_297_mic1.flac',) ('p284',) ('p237',) ('p284',) ('Scottish',) ('American',)\n",
      "('data/Indian/p376/p376_017_mic2.flac',) ('data/Indian/p376/p376_171_mic2.flac',) ('data/Indian/p251/p251_104_mic1.flac',) ('data/American/p300/p300_323_mic2.flac',) ('p376',) ('p251',) ('p376',) ('Indian',) ('American',)\n",
      "('data/Scottish/p284/p284_271_mic2.flac',) ('data/Scottish/p284/p284_211_mic2.flac',) ('data/Scottish/p234/p234_354_mic1.flac',) ('data/American/p299/p299_018_mic2.flac',) ('p284',) ('p234',) ('p284',) ('Scottish',) ('American',)\n",
      "('data/Scottish/p237/p237_063_mic1.flac',) ('data/Scottish/p237/p237_172_mic2.flac',) ('data/Scottish/p234/p234_080_mic1.flac',) ('data/American/p299/p299_203_mic2.flac',) ('p237',) ('p234',) ('p237',) ('Scottish',) ('American',)\n",
      "('data/Indian/p251/p251_247_mic1.flac',) ('data/Indian/p251/p251_298_mic2.flac',) ('data/Indian/p376/p376_130_mic2.flac',) ('data/Scottish/p284/p284_218_mic1.flac',) ('p251',) ('p376',) ('p251',) ('Indian',) ('Scottish',)\n",
      "('data/Irish/p245/p245_358_mic2.flac',) ('data/Irish/p245/p245_079_mic2.flac',) ('data/Irish/p298/p298_396_mic1.flac',) ('data/Scottish/p284/p284_061_mic1.flac',) ('p245',) ('p298',) ('p245',) ('Irish',) ('Scottish',)\n",
      "('data/Scottish/p249/p249_137_mic2.flac',) ('data/Scottish/p249/p249_157_mic1.flac',) ('data/Scottish/p237/p237_211_mic1.flac',) ('data/American/p299/p299_226_mic2.flac',) ('p249',) ('p237',) ('p249',) ('Scottish',) ('American',)\n",
      "('data/Scottish/p234/p234_250_mic1.flac',) ('data/Scottish/p234/p234_352_mic1.flac',) ('data/Scottish/p284/p284_333_mic1.flac',) ('data/Indian/p251/p251_314_mic1.flac',) ('p234',) ('p284',) ('p234',) ('Scottish',) ('Indian',)\n",
      "('data/Scottish/p284/p284_051_mic1.flac',) ('data/Scottish/p284/p284_163_mic1.flac',) ('data/Scottish/p249/p249_216_mic1.flac',) ('data/American/p300/p300_135_mic1.flac',) ('p284',) ('p249',) ('p284',) ('Scottish',) ('American',)\n"
     ]
    },
    {
     "name": "stdout",
     "output_type": "stream",
     "text": [
      "('data/Irish/p295/p295_351_mic2.flac',) ('data/Irish/p295/p295_067_mic2.flac',) ('data/Irish/p298/p298_057_mic2.flac',) ('data/Indian/p376/p376_118_mic2.flac',) ('p295',) ('p298',) ('p295',) ('Irish',) ('Indian',)\n",
      "('data/Indian/p251/p251_018_mic2.flac',) ('data/Indian/p251/p251_038_mic1.flac',) ('data/Indian/p376/p376_353_mic1.flac',) ('data/American/p301/p301_410_mic1.flac',) ('p251',) ('p376',) ('p251',) ('Indian',) ('American',)\n",
      "('data/American/p299/p299_275_mic2.flac',) ('data/American/p299/p299_070_mic2.flac',) ('data/American/p301/p301_256_mic1.flac',) ('data/Irish/p298/p298_154_mic2.flac',) ('p299',) ('p301',) ('p299',) ('American',) ('Irish',)\n",
      "('data/American/p299/p299_027_mic2.flac',) ('data/American/p299/p299_322_mic2.flac',) ('data/American/p300/p300_179_mic1.flac',) ('data/Irish/p283/p283_401_mic1.flac',) ('p299',) ('p300',) ('p299',) ('American',) ('Irish',)\n",
      "('data/Scottish/p284/p284_197_mic2.flac',) ('data/Scottish/p284/p284_155_mic2.flac',) ('data/Scottish/p237/p237_313_mic2.flac',) ('data/Irish/p298/p298_347_mic2.flac',) ('p284',) ('p237',) ('p284',) ('Scottish',) ('Irish',)\n",
      "('data/American/p300/p300_277_mic1.flac',) ('data/American/p300/p300_308_mic1.flac',) ('data/American/p299/p299_094_mic1.flac',) ('data/Scottish/p249/p249_252_mic2.flac',) ('p300',) ('p299',) ('p300',) ('American',) ('Scottish',)\n",
      "('data/Indian/p251/p251_009_mic2.flac',) ('data/Indian/p251/p251_125_mic2.flac',) ('data/Indian/p376/p376_297_mic1.flac',) ('data/Scottish/p234/p234_189_mic1.flac',) ('p251',) ('p376',) ('p251',) ('Indian',) ('Scottish',)\n",
      "('data/American/p301/p301_342_mic2.flac',) ('data/American/p301/p301_304_mic2.flac',) ('data/American/p299/p299_015_mic2.flac',) ('data/Irish/p298/p298_350_mic1.flac',) ('p301',) ('p299',) ('p301',) ('American',) ('Irish',)\n",
      "('data/Irish/p245/p245_138_mic1.flac',) ('data/Irish/p245/p245_214_mic2.flac',) ('data/Irish/p298/p298_209_mic1.flac',) ('data/Indian/p251/p251_263_mic1.flac',) ('p245',) ('p298',) ('p245',) ('Irish',) ('Indian',)\n",
      "('data/Indian/p248/p248_090_mic2.flac',) ('data/Indian/p248/p248_187_mic2.flac',) ('data/Indian/p251/p251_177_mic1.flac',) ('data/American/p300/p300_042_mic1.flac',) ('p248',) ('p251',) ('p248',) ('Indian',) ('American',)\n",
      "('data/American/p299/p299_180_mic1.flac',) ('data/American/p299/p299_194_mic2.flac',) ('data/American/p301/p301_012_mic1.flac',) ('data/Indian/p248/p248_069_mic2.flac',) ('p299',) ('p301',) ('p299',) ('American',) ('Indian',)\n",
      "('data/Indian/p248/p248_007_mic1.flac',) ('data/Indian/p248/p248_313_mic2.flac',) ('data/Indian/p376/p376_353_mic1.flac',) ('data/Scottish/p249/p249_351_mic1.flac',) ('p248',) ('p376',) ('p248',) ('Indian',) ('Scottish',)\n",
      "('data/American/p300/p300_021_mic2.flac',) ('data/American/p300/p300_344_mic2.flac',) ('data/American/p301/p301_133_mic2.flac',) ('data/Indian/p376/p376_154_mic1.flac',) ('p300',) ('p301',) ('p300',) ('American',) ('Indian',)\n",
      "('data/Irish/p298/p298_365_mic2.flac',) ('data/Irish/p298/p298_349_mic2.flac',) ('data/Irish/p245/p245_282_mic2.flac',) ('data/Indian/p248/p248_366_mic1.flac',) ('p298',) ('p245',) ('p298',) ('Irish',) ('Indian',)\n",
      "('data/Irish/p298/p298_090_mic1.flac',) ('data/Irish/p298/p298_193_mic2.flac',) ('data/Irish/p295/p295_301_mic2.flac',) ('data/Scottish/p249/p249_043_mic2.flac',) ('p298',) ('p295',) ('p298',) ('Irish',) ('Scottish',)\n",
      "('data/Scottish/p284/p284_366_mic1.flac',) ('data/Scottish/p284/p284_356_mic2.flac',) ('data/Scottish/p249/p249_255_mic1.flac',) ('data/American/p300/p300_160_mic1.flac',) ('p284',) ('p249',) ('p284',) ('Scottish',) ('American',)\n",
      "('data/American/p301/p301_079_mic1.flac',) ('data/American/p301/p301_223_mic2.flac',) ('data/American/p300/p300_221_mic2.flac',) ('data/Irish/p295/p295_045_mic2.flac',) ('p301',) ('p300',) ('p301',) ('American',) ('Irish',)\n",
      "('data/Indian/p251/p251_078_mic1.flac',) ('data/Indian/p251/p251_152_mic2.flac',) ('data/Indian/p248/p248_251_mic2.flac',) ('data/Irish/p245/p245_030_mic2.flac',) ('p251',) ('p248',) ('p251',) ('Indian',) ('Irish',)\n",
      "('data/Scottish/p249/p249_067_mic2.flac',) ('data/Scottish/p249/p249_210_mic2.flac',) ('data/Scottish/p237/p237_235_mic1.flac',) ('data/Indian/p376/p376_283_mic1.flac',) ('p249',) ('p237',) ('p249',) ('Scottish',) ('Indian',)\n",
      "('data/American/p300/p300_126_mic2.flac',) ('data/American/p300/p300_019_mic1.flac',) ('data/American/p299/p299_068_mic1.flac',) ('data/Scottish/p284/p284_230_mic1.flac',) ('p300',) ('p299',) ('p300',) ('American',) ('Scottish',)\n",
      "('data/Scottish/p237/p237_256_mic1.flac',) ('data/Scottish/p237/p237_274_mic2.flac',) ('data/Scottish/p284/p284_357_mic2.flac',) ('data/American/p299/p299_020_mic2.flac',) ('p237',) ('p284',) ('p237',) ('Scottish',) ('American',)\n",
      "('data/Indian/p248/p248_039_mic2.flac',) ('data/Indian/p248/p248_344_mic1.flac',) ('data/Indian/p251/p251_091_mic2.flac',) ('data/Scottish/p249/p249_016_mic1.flac',) ('p248',) ('p251',) ('p248',) ('Indian',) ('Scottish',)\n",
      "('data/Scottish/p237/p237_242_mic1.flac',) ('data/Scottish/p237/p237_330_mic1.flac',) ('data/Scottish/p249/p249_106_mic2.flac',) ('data/American/p300/p300_088_mic2.flac',) ('p237',) ('p249',) ('p237',) ('Scottish',) ('American',)\n",
      "('data/Indian/p376/p376_110_mic1.flac',) ('data/Indian/p376/p376_137_mic2.flac',) ('data/Indian/p251/p251_141_mic1.flac',) ('data/American/p300/p300_076_mic1.flac',) ('p376',) ('p251',) ('p376',) ('Indian',) ('American',)\n",
      "('data/American/p300/p300_114_mic2.flac',) ('data/American/p300/p300_329_mic1.flac',) ('data/American/p299/p299_003_mic2.flac',) ('data/Scottish/p249/p249_279_mic2.flac',) ('p300',) ('p299',) ('p300',) ('American',) ('Scottish',)\n",
      "('data/Indian/p251/p251_007_mic1.flac',) ('data/Indian/p251/p251_032_mic1.flac',) ('data/Indian/p248/p248_017_mic2.flac',) ('data/Scottish/p234/p234_097_mic1.flac',) ('p251',) ('p248',) ('p251',) ('Indian',) ('Scottish',)\n",
      "('data/American/p300/p300_364_mic2.flac',) ('data/American/p300/p300_244_mic1.flac',) ('data/American/p299/p299_188_mic1.flac',) ('data/Indian/p251/p251_315_mic1.flac',) ('p300',) ('p299',) ('p300',) ('American',) ('Indian',)\n",
      "('data/Indian/p248/p248_317_mic2.flac',) ('data/Indian/p248/p248_112_mic1.flac',) ('data/Indian/p376/p376_043_mic2.flac',) ('data/American/p299/p299_044_mic1.flac',) ('p248',) ('p376',) ('p248',) ('Indian',) ('American',)\n",
      "('data/Irish/p298/p298_030_mic1.flac',) ('data/Irish/p298/p298_187_mic1.flac',) ('data/Irish/p295/p295_239_mic2.flac',) ('data/Indian/p248/p248_267_mic1.flac',) ('p298',) ('p295',) ('p298',) ('Irish',) ('Indian',)\n",
      "('data/American/p299/p299_063_mic2.flac',) ('data/American/p299/p299_251_mic2.flac',) ('data/American/p300/p300_034_mic1.flac',) ('data/Indian/p251/p251_010_mic1.flac',) ('p299',) ('p300',) ('p299',) ('American',) ('Indian',)\n",
      "('data/Scottish/p249/p249_279_mic2.flac',) ('data/Scottish/p249/p249_017_mic2.flac',) ('data/Scottish/p237/p237_330_mic2.flac',) ('data/Irish/p245/p245_299_mic1.flac',) ('p249',) ('p237',) ('p249',) ('Scottish',) ('Irish',)\n",
      "('data/Irish/p298/p298_249_mic2.flac',) ('data/Irish/p298/p298_112_mic1.flac',) ('data/Irish/p245/p245_108_mic1.flac',) ('data/American/p300/p300_211_mic1.flac',) ('p298',) ('p245',) ('p298',) ('Irish',) ('American',)\n",
      "('data/Irish/p295/p295_169_mic2.flac',) ('data/Irish/p295/p295_300_mic1.flac',) ('data/Irish/p298/p298_066_mic1.flac',) ('data/American/p300/p300_378_mic2.flac',) ('p295',) ('p298',) ('p295',) ('Irish',) ('American',)\n",
      "('data/American/p301/p301_161_mic2.flac',) ('data/American/p301/p301_030_mic1.flac',) ('data/American/p299/p299_322_mic1.flac',) ('data/Irish/p283/p283_471_mic2.flac',) ('p301',) ('p299',) ('p301',) ('American',) ('Irish',)\n",
      "('data/Indian/p251/p251_074_mic2.flac',) ('data/Indian/p251/p251_082_mic2.flac',) ('data/Indian/p376/p376_193_mic2.flac',) ('data/Irish/p295/p295_157_mic1.flac',) ('p251',) ('p376',) ('p251',) ('Indian',) ('Irish',)\n",
      "('data/American/p301/p301_035_mic2.flac',) ('data/American/p301/p301_280_mic2.flac',) ('data/American/p299/p299_138_mic2.flac',) ('data/Indian/p376/p376_421_mic2.flac',) ('p301',) ('p299',) ('p301',) ('American',) ('Indian',)\n",
      "('data/Irish/p298/p298_092_mic1.flac',) ('data/Irish/p298/p298_144_mic2.flac',) ('data/Irish/p295/p295_233_mic2.flac',) ('data/American/p299/p299_191_mic1.flac',) ('p298',) ('p295',) ('p298',) ('Irish',) ('American',)\n",
      "('data/American/p301/p301_250_mic2.flac',) ('data/American/p301/p301_312_mic2.flac',) ('data/American/p299/p299_369_mic2.flac',) ('data/Scottish/p234/p234_072_mic2.flac',) ('p301',) ('p299',) ('p301',) ('American',) ('Scottish',)\n",
      "('data/Indian/p376/p376_248_mic1.flac',) ('data/Indian/p376/p376_325_mic2.flac',) ('data/Indian/p251/p251_253_mic2.flac',) ('data/Irish/p283/p283_054_mic1.flac',) ('p376',) ('p251',) ('p376',) ('Indian',) ('Irish',)\n",
      "('data/Irish/p295/p295_172_mic1.flac',) ('data/Irish/p295/p295_088_mic2.flac',) ('data/Irish/p245/p245_138_mic2.flac',) ('data/American/p299/p299_350_mic2.flac',) ('p295',) ('p245',) ('p295',) ('Irish',) ('American',)\n",
      "('data/Indian/p251/p251_013_mic2.flac',) ('data/Indian/p251/p251_047_mic2.flac',) ('data/Indian/p248/p248_359_mic2.flac',) ('data/Scottish/p249/p249_008_mic1.flac',) ('p251',) ('p248',) ('p251',) ('Indian',) ('Scottish',)\n",
      "('data/Indian/p376/p376_253_mic2.flac',) ('data/Indian/p376/p376_129_mic2.flac',) ('data/Indian/p251/p251_327_mic1.flac',) ('data/Irish/p298/p298_392_mic2.flac',) ('p376',) ('p251',) ('p376',) ('Indian',) ('Irish',)\n",
      "('data/Indian/p248/p248_138_mic2.flac',) ('data/Indian/p248/p248_119_mic2.flac',) ('data/Indian/p376/p376_292_mic1.flac',) ('data/American/p301/p301_322_mic1.flac',) ('p248',) ('p376',) ('p248',) ('Indian',) ('American',)\n",
      "('data/American/p301/p301_354_mic2.flac',) ('data/American/p301/p301_141_mic1.flac',) ('data/American/p299/p299_314_mic2.flac',) ('data/Scottish/p234/p234_129_mic2.flac',) ('p301',) ('p299',) ('p301',) ('American',) ('Scottish',)\n",
      "('data/American/p300/p300_054_mic2.flac',) ('data/American/p300/p300_012_mic2.flac',) ('data/American/p299/p299_334_mic2.flac',) ('data/Indian/p248/p248_087_mic2.flac',) ('p300',) ('p299',) ('p300',) ('American',) ('Indian',)\n",
      "('data/Scottish/p234/p234_028_mic2.flac',) ('data/Scottish/p234/p234_163_mic2.flac',) ('data/Scottish/p237/p237_106_mic1.flac',) ('data/Indian/p376/p376_192_mic1.flac',) ('p234',) ('p237',) ('p234',) ('Scottish',) ('Indian',)\n",
      "('data/Indian/p376/p376_174_mic2.flac',) ('data/Indian/p376/p376_175_mic2.flac',) ('data/Indian/p248/p248_004_mic2.flac',) ('data/American/p301/p301_058_mic2.flac',) ('p376',) ('p248',) ('p376',) ('Indian',) ('American',)\n",
      "('data/Irish/p245/p245_135_mic2.flac',) ('data/Irish/p245/p245_144_mic1.flac',) ('data/Irish/p298/p298_102_mic1.flac',) ('data/Indian/p248/p248_178_mic1.flac',) ('p245',) ('p298',) ('p245',) ('Irish',) ('Indian',)\n",
      "('data/Scottish/p249/p249_294_mic1.flac',) ('data/Scottish/p249/p249_216_mic1.flac',) ('data/Scottish/p234/p234_188_mic2.flac',) ('data/Indian/p248/p248_226_mic2.flac',) ('p249',) ('p234',) ('p249',) ('Scottish',) ('Indian',)\n",
      "('data/Indian/p376/p376_139_mic1.flac',) ('data/Indian/p376/p376_175_mic2.flac',) ('data/Indian/p248/p248_303_mic1.flac',) ('data/Scottish/p249/p249_309_mic1.flac',) ('p376',) ('p248',) ('p376',) ('Indian',) ('Scottish',)\n",
      "('data/Indian/p376/p376_041_mic2.flac',) ('data/Indian/p376/p376_029_mic2.flac',) ('data/Indian/p248/p248_042_mic2.flac',) ('data/Irish/p298/p298_336_mic2.flac',) ('p376',) ('p248',) ('p376',) ('Indian',) ('Irish',)\n",
      "('data/Irish/p295/p295_046_mic2.flac',) ('data/Irish/p295/p295_413_mic2.flac',) ('data/Irish/p245/p245_027_mic1.flac',) ('data/Scottish/p237/p237_012_mic1.flac',) ('p295',) ('p245',) ('p295',) ('Irish',) ('Scottish',)\n",
      "('data/American/p299/p299_296_mic2.flac',) ('data/American/p299/p299_125_mic1.flac',) ('data/American/p301/p301_309_mic2.flac',) ('data/Indian/p248/p248_291_mic1.flac',) ('p299',) ('p301',) ('p299',) ('American',) ('Indian',)\n",
      "('data/American/p301/p301_406_mic2.flac',) ('data/American/p301/p301_227_mic1.flac',) ('data/American/p300/p300_245_mic1.flac',) ('data/Scottish/p237/p237_339_mic1.flac',) ('p301',) ('p300',) ('p301',) ('American',) ('Scottish',)\n",
      "('data/Indian/p376/p376_108_mic1.flac',) ('data/Indian/p376/p376_380_mic1.flac',) ('data/Indian/p248/p248_205_mic2.flac',) ('data/Irish/p245/p245_163_mic1.flac',) ('p376',) ('p248',) ('p376',) ('Indian',) ('Irish',)\n",
      "('data/Irish/p283/p283_239_mic1.flac',) ('data/Irish/p283/p283_039_mic2.flac',) ('data/Irish/p295/p295_179_mic2.flac',) ('data/Indian/p251/p251_239_mic2.flac',) ('p283',) ('p295',) ('p283',) ('Irish',) ('Indian',)\n",
      "('data/American/p300/p300_104_mic2.flac',) ('data/American/p300/p300_236_mic1.flac',) ('data/American/p299/p299_191_mic1.flac',) ('data/Scottish/p284/p284_126_mic2.flac',) ('p300',) ('p299',) ('p300',) ('American',) ('Scottish',)\n",
      "('data/Indian/p251/p251_240_mic2.flac',) ('data/Indian/p251/p251_041_mic2.flac',) ('data/Indian/p248/p248_036_mic1.flac',) ('data/American/p299/p299_337_mic2.flac',) ('p251',) ('p248',) ('p251',) ('Indian',) ('American',)\n",
      "('data/American/p299/p299_262_mic2.flac',) ('data/American/p299/p299_150_mic1.flac',) ('data/American/p301/p301_126_mic2.flac',) ('data/Irish/p283/p283_362_mic1.flac',) ('p299',) ('p301',) ('p299',) ('American',) ('Irish',)\n",
      "('data/American/p300/p300_029_mic2.flac',) ('data/American/p300/p300_151_mic2.flac',) ('data/American/p299/p299_056_mic1.flac',) ('data/Irish/p298/p298_057_mic1.flac',) ('p300',) ('p299',) ('p300',) ('American',) ('Irish',)\n",
      "('data/American/p300/p300_389_mic2.flac',) ('data/American/p300/p300_199_mic1.flac',) ('data/American/p301/p301_131_mic2.flac',) ('data/Scottish/p284/p284_074_mic2.flac',) ('p300',) ('p301',) ('p300',) ('American',) ('Scottish',)\n",
      "('data/Indian/p248/p248_282_mic2.flac',) ('data/Indian/p248/p248_175_mic1.flac',) ('data/Indian/p376/p376_075_mic1.flac',) ('data/Irish/p295/p295_378_mic2.flac',) ('p248',) ('p376',) ('p248',) ('Indian',) ('Irish',)\n",
      "('data/Irish/p245/p245_356_mic1.flac',) ('data/Irish/p245/p245_227_mic2.flac',) ('data/Irish/p283/p283_073_mic2.flac',) ('data/Indian/p251/p251_374_mic2.flac',) ('p245',) ('p283',) ('p245',) ('Irish',) ('Indian',)\n",
      "('data/Indian/p376/p376_183_mic2.flac',) ('data/Indian/p376/p376_363_mic2.flac',) ('data/Indian/p251/p251_304_mic1.flac',) ('data/Scottish/p249/p249_094_mic1.flac',) ('p376',) ('p251',) ('p376',) ('Indian',) ('Scottish',)\n",
      "('data/Irish/p295/p295_300_mic1.flac',) ('data/Irish/p295/p295_416_mic1.flac',) ('data/Irish/p298/p298_091_mic1.flac',) ('data/Indian/p376/p376_125_mic2.flac',) ('p295',) ('p298',) ('p295',) ('Irish',) ('Indian',)\n",
      "('data/Indian/p376/p376_233_mic2.flac',) ('data/Indian/p376/p376_289_mic2.flac',) ('data/Indian/p251/p251_285_mic1.flac',) ('data/American/p300/p300_274_mic1.flac',) ('p376',) ('p251',) ('p376',) ('Indian',) ('American',)\n",
      "('data/Indian/p251/p251_130_mic2.flac',) ('data/Indian/p251/p251_185_mic1.flac',) ('data/Indian/p376/p376_149_mic2.flac',) ('data/American/p300/p300_193_mic1.flac',) ('p251',) ('p376',) ('p251',) ('Indian',) ('American',)\n",
      "('data/Irish/p298/p298_303_mic1.flac',) ('data/Irish/p298/p298_065_mic2.flac',) ('data/Irish/p283/p283_469_mic1.flac',) ('data/Scottish/p249/p249_076_mic1.flac',) ('p298',) ('p283',) ('p298',) ('Irish',) ('Scottish',)\n",
      "('data/Indian/p251/p251_073_mic2.flac',) ('data/Indian/p251/p251_172_mic2.flac',) ('data/Indian/p376/p376_070_mic1.flac',) ('data/Scottish/p249/p249_002_mic1.flac',) ('p251',) ('p376',) ('p251',) ('Indian',) ('Scottish',)\n",
      "('data/Indian/p248/p248_277_mic2.flac',) ('data/Indian/p248/p248_203_mic2.flac',) ('data/Indian/p376/p376_277_mic1.flac',) ('data/Irish/p295/p295_265_mic2.flac',) ('p248',) ('p376',) ('p248',) ('Indian',) ('Irish',)\n",
      "('data/Scottish/p284/p284_120_mic1.flac',) ('data/Scottish/p284/p284_132_mic2.flac',) ('data/Scottish/p237/p237_287_mic1.flac',) ('data/Indian/p376/p376_262_mic1.flac',) ('p284',) ('p237',) ('p284',) ('Scottish',) ('Indian',)\n",
      "('data/Scottish/p249/p249_010_mic1.flac',) ('data/Scottish/p249/p249_137_mic2.flac',) ('data/Scottish/p284/p284_042_mic2.flac',) ('data/American/p300/p300_033_mic1.flac',) ('p249',) ('p284',) ('p249',) ('Scottish',) ('American',)\n",
      "('data/Indian/p376/p376_052_mic1.flac',) ('data/Indian/p376/p376_189_mic2.flac',) ('data/Indian/p251/p251_045_mic1.flac',) ('data/American/p301/p301_058_mic2.flac',) ('p376',) ('p251',) ('p376',) ('Indian',) ('American',)\n",
      "('data/Indian/p251/p251_226_mic2.flac',) ('data/Indian/p251/p251_109_mic1.flac',) ('data/Indian/p376/p376_081_mic1.flac',) ('data/American/p299/p299_347_mic1.flac',) ('p251',) ('p376',) ('p251',) ('Indian',) ('American',)\n",
      "('data/Indian/p376/p376_261_mic1.flac',) ('data/Indian/p376/p376_118_mic2.flac',) ('data/Indian/p251/p251_166_mic1.flac',) ('data/American/p301/p301_292_mic2.flac',) ('p376',) ('p251',) ('p376',) ('Indian',) ('American',)\n",
      "('data/Indian/p248/p248_354_mic2.flac',) ('data/Indian/p248/p248_037_mic1.flac',) ('data/Indian/p251/p251_159_mic2.flac',) ('data/Irish/p298/p298_043_mic2.flac',) ('p248',) ('p251',) ('p248',) ('Indian',) ('Irish',)\n",
      "('data/American/p301/p301_119_mic2.flac',) ('data/American/p301/p301_088_mic1.flac',) ('data/American/p299/p299_228_mic2.flac',) ('data/Scottish/p234/p234_185_mic2.flac',) ('p301',) ('p299',) ('p301',) ('American',) ('Scottish',)\n",
      "('data/Irish/p245/p245_299_mic1.flac',) ('data/Irish/p245/p245_051_mic2.flac',) ('data/Irish/p283/p283_309_mic1.flac',) ('data/Indian/p248/p248_212_mic2.flac',) ('p245',) ('p283',) ('p245',) ('Irish',) ('Indian',)\n",
      "('data/Scottish/p249/p249_161_mic1.flac',) ('data/Scottish/p249/p249_226_mic1.flac',) ('data/Scottish/p237/p237_331_mic1.flac',) ('data/Indian/p248/p248_292_mic1.flac',) ('p249',) ('p237',) ('p249',) ('Scottish',) ('Indian',)\n",
      "('data/Scottish/p237/p237_213_mic2.flac',) ('data/Scottish/p237/p237_156_mic2.flac',) ('data/Scottish/p284/p284_359_mic1.flac',) ('data/Irish/p298/p298_362_mic1.flac',) ('p237',) ('p284',) ('p237',) ('Scottish',) ('Irish',)\n",
      "('data/American/p301/p301_126_mic2.flac',) ('data/American/p301/p301_353_mic2.flac',) ('data/American/p300/p300_174_mic2.flac',) ('data/Irish/p283/p283_078_mic1.flac',) ('p301',) ('p300',) ('p301',) ('American',) ('Irish',)\n",
      "('data/American/p301/p301_399_mic1.flac',) ('data/American/p301/p301_280_mic2.flac',) ('data/American/p299/p299_101_mic2.flac',) ('data/Irish/p295/p295_419_mic2.flac',) ('p301',) ('p299',) ('p301',) ('American',) ('Irish',)\n",
      "('data/American/p299/p299_013_mic1.flac',) ('data/American/p299/p299_212_mic1.flac',) ('data/American/p301/p301_094_mic1.flac',) ('data/Scottish/p237/p237_183_mic2.flac',) ('p299',) ('p301',) ('p299',) ('American',) ('Scottish',)\n",
      "('data/Indian/p376/p376_383_mic2.flac',) ('data/Indian/p376/p376_291_mic2.flac',) ('data/Indian/p251/p251_182_mic2.flac',) ('data/Irish/p295/p295_168_mic2.flac',) ('p376',) ('p251',) ('p376',) ('Indian',) ('Irish',)\n",
      "('data/Irish/p245/p245_072_mic1.flac',) ('data/Irish/p245/p245_315_mic1.flac',) ('data/Irish/p298/p298_121_mic1.flac',) ('data/Scottish/p249/p249_343_mic2.flac',) ('p245',) ('p298',) ('p245',) ('Irish',) ('Scottish',)\n",
      "('data/Indian/p251/p251_137_mic2.flac',) ('data/Indian/p251/p251_308_mic2.flac',) ('data/Indian/p248/p248_110_mic2.flac',) ('data/Scottish/p284/p284_270_mic1.flac',) ('p251',) ('p248',) ('p251',) ('Indian',) ('Scottish',)\n",
      "('data/Scottish/p284/p284_169_mic1.flac',) ('data/Scottish/p284/p284_037_mic2.flac',) ('data/Scottish/p234/p234_337_mic1.flac',) ('data/Irish/p298/p298_375_mic1.flac',) ('p284',) ('p234',) ('p284',) ('Scottish',) ('Irish',)\n",
      "('data/Scottish/p249/p249_043_mic2.flac',) ('data/Scottish/p249/p249_123_mic1.flac',) ('data/Scottish/p234/p234_053_mic1.flac',) ('data/Irish/p245/p245_316_mic2.flac',) ('p249',) ('p234',) ('p249',) ('Scottish',) ('Irish',)\n",
      "('data/American/p299/p299_206_mic1.flac',) ('data/American/p299/p299_067_mic1.flac',) ('data/American/p300/p300_347_mic1.flac',) ('data/Scottish/p237/p237_065_mic1.flac',) ('p299',) ('p300',) ('p299',) ('American',) ('Scottish',)\n",
      "('data/Scottish/p284/p284_084_mic1.flac',) ('data/Scottish/p284/p284_136_mic1.flac',) ('data/Scottish/p249/p249_056_mic2.flac',) ('data/Indian/p376/p376_142_mic1.flac',) ('p284',) ('p249',) ('p284',) ('Scottish',) ('Indian',)\n",
      "('data/American/p299/p299_159_mic2.flac',) ('data/American/p299/p299_321_mic1.flac',) ('data/American/p300/p300_145_mic1.flac',) ('data/Indian/p248/p248_029_mic2.flac',) ('p299',) ('p300',) ('p299',) ('American',) ('Indian',)\n",
      "('data/Indian/p251/p251_259_mic2.flac',) ('data/Indian/p251/p251_346_mic1.flac',) ('data/Indian/p376/p376_120_mic1.flac',) ('data/Scottish/p234/p234_167_mic1.flac',) ('p251',) ('p376',) ('p251',) ('Indian',) ('Scottish',)\n",
      "('data/American/p300/p300_098_mic1.flac',) ('data/American/p300/p300_280_mic1.flac',) ('data/American/p301/p301_287_mic2.flac',) ('data/Irish/p298/p298_214_mic1.flac',) ('p300',) ('p301',) ('p300',) ('American',) ('Irish',)\n",
      "('data/Indian/p251/p251_308_mic2.flac',) ('data/Indian/p251/p251_003_mic2.flac',) ('data/Indian/p248/p248_032_mic2.flac',) ('data/American/p300/p300_286_mic2.flac',) ('p251',) ('p248',) ('p251',) ('Indian',) ('American',)\n",
      "('data/Indian/p376/p376_097_mic2.flac',) ('data/Indian/p376/p376_344_mic1.flac',) ('data/Indian/p251/p251_263_mic1.flac',) ('data/Scottish/p249/p249_084_mic2.flac',) ('p376',) ('p251',) ('p376',) ('Indian',) ('Scottish',)\n",
      "('data/American/p301/p301_205_mic2.flac',) ('data/American/p301/p301_258_mic2.flac',) ('data/American/p299/p299_124_mic1.flac',) ('data/Scottish/p249/p249_067_mic2.flac',) ('p301',) ('p299',) ('p301',) ('American',) ('Scottish',)\n",
      "('data/Indian/p251/p251_219_mic2.flac',) ('data/Indian/p251/p251_026_mic2.flac',) ('data/Indian/p248/p248_186_mic2.flac',) ('data/Scottish/p234/p234_064_mic1.flac',) ('p251',) ('p248',) ('p251',) ('Indian',) ('Scottish',)\n",
      "('data/American/p299/p299_117_mic2.flac',) ('data/American/p299/p299_192_mic2.flac',) ('data/American/p300/p300_159_mic1.flac',) ('data/Scottish/p237/p237_124_mic2.flac',) ('p299',) ('p300',) ('p299',) ('American',) ('Scottish',)\n",
      "('data/Indian/p248/p248_131_mic2.flac',) ('data/Indian/p248/p248_135_mic1.flac',) ('data/Indian/p251/p251_192_mic2.flac',) ('data/Irish/p295/p295_052_mic2.flac',) ('p248',) ('p251',) ('p248',) ('Indian',) ('Irish',)\n",
      "('data/Indian/p251/p251_042_mic1.flac',) ('data/Indian/p251/p251_045_mic1.flac',) ('data/Indian/p376/p376_368_mic2.flac',) ('data/Irish/p283/p283_104_mic2.flac',) ('p251',) ('p376',) ('p251',) ('Indian',) ('Irish',)\n",
      "('data/Indian/p248/p248_354_mic1.flac',) ('data/Indian/p248/p248_209_mic2.flac',) ('data/Indian/p251/p251_318_mic1.flac',) ('data/American/p301/p301_173_mic2.flac',) ('p248',) ('p251',) ('p248',) ('Indian',) ('American',)\n",
      "('data/American/p301/p301_096_mic1.flac',) ('data/American/p301/p301_039_mic1.flac',) ('data/American/p299/p299_390_mic1.flac',) ('data/Scottish/p237/p237_207_mic1.flac',) ('p301',) ('p299',) ('p301',) ('American',) ('Scottish',)\n",
      "('data/American/p301/p301_224_mic2.flac',) ('data/American/p301/p301_166_mic2.flac',) ('data/American/p299/p299_133_mic1.flac',) ('data/Scottish/p249/p249_125_mic1.flac',) ('p301',) ('p299',) ('p301',) ('American',) ('Scottish',)\n",
      "('data/Irish/p283/p283_296_mic2.flac',) ('data/Irish/p283/p283_425_mic2.flac',) ('data/Irish/p298/p298_118_mic1.flac',) ('data/American/p301/p301_157_mic2.flac',) ('p283',) ('p298',) ('p283',) ('Irish',) ('American',)\n",
      "('data/Indian/p251/p251_150_mic2.flac',) ('data/Indian/p251/p251_079_mic2.flac',) ('data/Indian/p376/p376_230_mic1.flac',) ('data/American/p299/p299_105_mic1.flac',) ('p251',) ('p376',) ('p251',) ('Indian',) ('American',)\n",
      "('data/Scottish/p249/p249_272_mic1.flac',) ('data/Scottish/p249/p249_138_mic2.flac',) ('data/Scottish/p237/p237_288_mic2.flac',) ('data/Irish/p283/p283_302_mic1.flac',) ('p249',) ('p237',) ('p249',) ('Scottish',) ('Irish',)\n",
      "('data/Indian/p251/p251_168_mic2.flac',) ('data/Indian/p251/p251_182_mic1.flac',) ('data/Indian/p248/p248_020_mic2.flac',) ('data/Scottish/p237/p237_050_mic1.flac',) ('p251',) ('p248',) ('p251',) ('Indian',) ('Scottish',)\n",
      "('data/American/p301/p301_124_mic2.flac',) ('data/American/p301/p301_378_mic2.flac',) ('data/American/p300/p300_153_mic1.flac',) ('data/Scottish/p249/p249_343_mic1.flac',) ('p301',) ('p300',) ('p301',) ('American',) ('Scottish',)\n",
      "('data/Irish/p295/p295_102_mic1.flac',) ('data/Irish/p295/p295_270_mic1.flac',) ('data/Irish/p245/p245_347_mic1.flac',) ('data/American/p301/p301_338_mic2.flac',) ('p295',) ('p245',) ('p295',) ('Irish',) ('American',)\n",
      "('data/Indian/p248/p248_148_mic1.flac',) ('data/Indian/p248/p248_176_mic1.flac',) ('data/Indian/p251/p251_066_mic2.flac',) ('data/Irish/p298/p298_354_mic1.flac',) ('p248',) ('p251',) ('p248',) ('Indian',) ('Irish',)\n",
      "('data/Irish/p245/p245_260_mic2.flac',) ('data/Irish/p245/p245_020_mic2.flac',) ('data/Irish/p298/p298_383_mic2.flac',) ('data/Scottish/p284/p284_063_mic1.flac',) ('p245',) ('p298',) ('p245',) ('Irish',) ('Scottish',)\n",
      "('data/Irish/p295/p295_011_mic1.flac',) ('data/Irish/p295/p295_083_mic2.flac',) ('data/Irish/p283/p283_344_mic2.flac',) ('data/American/p300/p300_202_mic1.flac',) ('p295',) ('p283',) ('p295',) ('Irish',) ('American',)\n",
      "('data/Scottish/p249/p249_145_mic1.flac',) ('data/Scottish/p249/p249_220_mic1.flac',) ('data/Scottish/p234/p234_341_mic2.flac',) ('data/Irish/p295/p295_347_mic2.flac',) ('p249',) ('p234',) ('p249',) ('Scottish',) ('Irish',)\n",
      "('data/American/p301/p301_406_mic2.flac',) ('data/American/p301/p301_382_mic2.flac',) ('data/American/p299/p299_027_mic1.flac',) ('data/Indian/p248/p248_163_mic2.flac',) ('p301',) ('p299',) ('p301',) ('American',) ('Indian',)\n"
     ]
    },
    {
     "name": "stdout",
     "output_type": "stream",
     "text": [
      "('data/Irish/p283/p283_121_mic1.flac',) ('data/Irish/p283/p283_207_mic2.flac',) ('data/Irish/p298/p298_338_mic2.flac',) ('data/Indian/p248/p248_006_mic2.flac',) ('p283',) ('p298',) ('p283',) ('Irish',) ('Indian',)\n",
      "('data/Irish/p295/p295_111_mic1.flac',) ('data/Irish/p295/p295_276_mic1.flac',) ('data/Irish/p298/p298_155_mic1.flac',) ('data/American/p301/p301_062_mic2.flac',) ('p295',) ('p298',) ('p295',) ('Irish',) ('American',)\n",
      "('data/Irish/p295/p295_323_mic1.flac',) ('data/Irish/p295/p295_126_mic1.flac',) ('data/Irish/p245/p245_244_mic2.flac',) ('data/Indian/p248/p248_125_mic1.flac',) ('p295',) ('p245',) ('p295',) ('Irish',) ('Indian',)\n",
      "('data/American/p301/p301_315_mic2.flac',) ('data/American/p301/p301_394_mic2.flac',) ('data/American/p299/p299_130_mic2.flac',) ('data/Scottish/p284/p284_406_mic2.flac',) ('p301',) ('p299',) ('p301',) ('American',) ('Scottish',)\n",
      "('data/Irish/p283/p283_338_mic1.flac',) ('data/Irish/p283/p283_040_mic1.flac',) ('data/Irish/p245/p245_202_mic2.flac',) ('data/Indian/p376/p376_369_mic1.flac',) ('p283',) ('p245',) ('p283',) ('Irish',) ('Indian',)\n",
      "('data/American/p299/p299_150_mic2.flac',) ('data/American/p299/p299_182_mic2.flac',) ('data/American/p300/p300_156_mic1.flac',) ('data/Indian/p376/p376_357_mic1.flac',) ('p299',) ('p300',) ('p299',) ('American',) ('Indian',)\n",
      "('data/Scottish/p249/p249_208_mic1.flac',) ('data/Scottish/p249/p249_164_mic1.flac',) ('data/Scottish/p237/p237_343_mic1.flac',) ('data/Indian/p251/p251_004_mic1.flac',) ('p249',) ('p237',) ('p249',) ('Scottish',) ('Indian',)\n",
      "('data/American/p300/p300_042_mic2.flac',) ('data/American/p300/p300_095_mic1.flac',) ('data/American/p299/p299_245_mic1.flac',) ('data/Scottish/p237/p237_177_mic2.flac',) ('p300',) ('p299',) ('p300',) ('American',) ('Scottish',)\n",
      "('data/American/p300/p300_350_mic1.flac',) ('data/American/p300/p300_272_mic2.flac',) ('data/American/p301/p301_239_mic2.flac',) ('data/Scottish/p284/p284_055_mic2.flac',) ('p300',) ('p301',) ('p300',) ('American',) ('Scottish',)\n",
      "('data/American/p299/p299_223_mic2.flac',) ('data/American/p299/p299_031_mic1.flac',) ('data/American/p301/p301_242_mic2.flac',) ('data/Irish/p245/p245_115_mic1.flac',) ('p299',) ('p301',) ('p299',) ('American',) ('Irish',)\n",
      "('data/Indian/p251/p251_009_mic2.flac',) ('data/Indian/p251/p251_290_mic2.flac',) ('data/Indian/p376/p376_253_mic1.flac',) ('data/American/p301/p301_024_mic2.flac',) ('p251',) ('p376',) ('p251',) ('Indian',) ('American',)\n",
      "('data/Scottish/p284/p284_290_mic2.flac',) ('data/Scottish/p284/p284_117_mic2.flac',) ('data/Scottish/p237/p237_234_mic1.flac',) ('data/Irish/p245/p245_050_mic2.flac',) ('p284',) ('p237',) ('p284',) ('Scottish',) ('Irish',)\n",
      "('data/American/p300/p300_124_mic1.flac',) ('data/American/p300/p300_335_mic2.flac',) ('data/American/p299/p299_330_mic1.flac',) ('data/Indian/p251/p251_151_mic2.flac',) ('p300',) ('p299',) ('p300',) ('American',) ('Indian',)\n",
      "('data/Irish/p295/p295_225_mic1.flac',) ('data/Irish/p295/p295_289_mic1.flac',) ('data/Irish/p245/p245_299_mic1.flac',) ('data/Scottish/p284/p284_303_mic1.flac',) ('p295',) ('p245',) ('p295',) ('Irish',) ('Scottish',)\n",
      "('data/Indian/p376/p376_199_mic1.flac',) ('data/Indian/p376/p376_373_mic1.flac',) ('data/Indian/p251/p251_248_mic2.flac',) ('data/American/p301/p301_044_mic2.flac',) ('p376',) ('p251',) ('p376',) ('Indian',) ('American',)\n",
      "('data/Scottish/p234/p234_241_mic2.flac',) ('data/Scottish/p234/p234_178_mic1.flac',) ('data/Scottish/p284/p284_350_mic1.flac',) ('data/American/p299/p299_399_mic2.flac',) ('p234',) ('p284',) ('p234',) ('Scottish',) ('American',)\n",
      "('data/Scottish/p234/p234_128_mic1.flac',) ('data/Scottish/p234/p234_270_mic1.flac',) ('data/Scottish/p284/p284_344_mic1.flac',) ('data/Indian/p376/p376_397_mic1.flac',) ('p234',) ('p284',) ('p234',) ('Scottish',) ('Indian',)\n",
      "('data/Irish/p295/p295_173_mic1.flac',) ('data/Irish/p295/p295_250_mic1.flac',) ('data/Irish/p245/p245_258_mic2.flac',) ('data/Indian/p251/p251_241_mic1.flac',) ('p295',) ('p245',) ('p295',) ('Irish',) ('Indian',)\n",
      "('data/Indian/p251/p251_223_mic2.flac',) ('data/Indian/p251/p251_217_mic1.flac',) ('data/Indian/p248/p248_145_mic1.flac',) ('data/American/p299/p299_091_mic1.flac',) ('p251',) ('p248',) ('p251',) ('Indian',) ('American',)\n",
      "('data/Scottish/p237/p237_298_mic1.flac',) ('data/Scottish/p237/p237_176_mic2.flac',) ('data/Scottish/p284/p284_088_mic2.flac',) ('data/Indian/p251/p251_143_mic1.flac',) ('p237',) ('p284',) ('p237',) ('Scottish',) ('Indian',)\n",
      "('data/Scottish/p237/p237_254_mic1.flac',) ('data/Scottish/p237/p237_033_mic2.flac',) ('data/Scottish/p234/p234_131_mic2.flac',) ('data/American/p299/p299_362_mic2.flac',) ('p237',) ('p234',) ('p237',) ('Scottish',) ('American',)\n",
      "('data/Scottish/p249/p249_140_mic1.flac',) ('data/Scottish/p249/p249_188_mic1.flac',) ('data/Scottish/p284/p284_246_mic1.flac',) ('data/Indian/p251/p251_024_mic1.flac',) ('p249',) ('p284',) ('p249',) ('Scottish',) ('Indian',)\n",
      "('data/Indian/p248/p248_259_mic2.flac',) ('data/Indian/p248/p248_184_mic1.flac',) ('data/Indian/p376/p376_257_mic2.flac',) ('data/Irish/p283/p283_279_mic1.flac',) ('p248',) ('p376',) ('p248',) ('Indian',) ('Irish',)\n",
      "('data/Scottish/p284/p284_280_mic1.flac',) ('data/Scottish/p284/p284_412_mic2.flac',) ('data/Scottish/p249/p249_009_mic1.flac',) ('data/American/p300/p300_119_mic2.flac',) ('p284',) ('p249',) ('p284',) ('Scottish',) ('American',)\n",
      "('data/Indian/p251/p251_228_mic2.flac',) ('data/Indian/p251/p251_102_mic1.flac',) ('data/Indian/p248/p248_066_mic1.flac',) ('data/Scottish/p237/p237_016_mic2.flac',) ('p251',) ('p248',) ('p251',) ('Indian',) ('Scottish',)\n",
      "('data/Indian/p376/p376_357_mic1.flac',) ('data/Indian/p376/p376_050_mic2.flac',) ('data/Indian/p248/p248_306_mic2.flac',) ('data/Irish/p298/p298_260_mic2.flac',) ('p376',) ('p248',) ('p376',) ('Indian',) ('Irish',)\n",
      "('data/Scottish/p249/p249_317_mic1.flac',) ('data/Scottish/p249/p249_010_mic2.flac',) ('data/Scottish/p234/p234_289_mic1.flac',) ('data/American/p299/p299_106_mic1.flac',) ('p249',) ('p234',) ('p249',) ('Scottish',) ('American',)\n",
      "('data/Indian/p248/p248_114_mic1.flac',) ('data/Indian/p248/p248_241_mic2.flac',) ('data/Indian/p251/p251_092_mic2.flac',) ('data/Irish/p295/p295_308_mic2.flac',) ('p248',) ('p251',) ('p248',) ('Indian',) ('Irish',)\n",
      "('data/Indian/p251/p251_233_mic1.flac',) ('data/Indian/p251/p251_330_mic2.flac',) ('data/Indian/p376/p376_334_mic2.flac',) ('data/Scottish/p284/p284_129_mic2.flac',) ('p251',) ('p376',) ('p251',) ('Indian',) ('Scottish',)\n",
      "('data/American/p299/p299_207_mic2.flac',) ('data/American/p299/p299_189_mic1.flac',) ('data/American/p300/p300_150_mic2.flac',) ('data/Indian/p248/p248_115_mic2.flac',) ('p299',) ('p300',) ('p299',) ('American',) ('Indian',)\n",
      "('data/Irish/p295/p295_175_mic1.flac',) ('data/Irish/p295/p295_068_mic2.flac',) ('data/Irish/p283/p283_193_mic1.flac',) ('data/Scottish/p234/p234_261_mic2.flac',) ('p295',) ('p283',) ('p295',) ('Irish',) ('Scottish',)\n",
      "('data/Indian/p248/p248_309_mic2.flac',) ('data/Indian/p248/p248_293_mic2.flac',) ('data/Indian/p376/p376_350_mic2.flac',) ('data/Irish/p298/p298_354_mic1.flac',) ('p248',) ('p376',) ('p248',) ('Indian',) ('Irish',)\n",
      "('data/American/p299/p299_042_mic1.flac',) ('data/American/p299/p299_109_mic1.flac',) ('data/American/p301/p301_179_mic2.flac',) ('data/Scottish/p234/p234_329_mic2.flac',) ('p299',) ('p301',) ('p299',) ('American',) ('Scottish',)\n",
      "('data/American/p299/p299_370_mic2.flac',) ('data/American/p299/p299_330_mic1.flac',) ('data/American/p300/p300_095_mic2.flac',) ('data/Indian/p376/p376_203_mic1.flac',) ('p299',) ('p300',) ('p299',) ('American',) ('Indian',)\n",
      "('data/American/p301/p301_327_mic1.flac',) ('data/American/p301/p301_026_mic2.flac',) ('data/American/p299/p299_186_mic1.flac',) ('data/Irish/p295/p295_203_mic1.flac',) ('p301',) ('p299',) ('p301',) ('American',) ('Irish',)\n",
      "('data/Irish/p245/p245_293_mic1.flac',) ('data/Irish/p245/p245_219_mic1.flac',) ('data/Irish/p283/p283_267_mic2.flac',) ('data/American/p300/p300_156_mic2.flac',) ('p245',) ('p283',) ('p245',) ('Irish',) ('American',)\n",
      "('data/Irish/p245/p245_357_mic1.flac',) ('data/Irish/p245/p245_107_mic2.flac',) ('data/Irish/p295/p295_265_mic2.flac',) ('data/Indian/p251/p251_219_mic1.flac',) ('p245',) ('p295',) ('p245',) ('Irish',) ('Indian',)\n",
      "('data/Indian/p376/p376_100_mic2.flac',) ('data/Indian/p376/p376_129_mic2.flac',) ('data/Indian/p248/p248_046_mic2.flac',) ('data/American/p301/p301_259_mic1.flac',) ('p376',) ('p248',) ('p376',) ('Indian',) ('American',)\n",
      "('data/American/p299/p299_186_mic2.flac',) ('data/American/p299/p299_068_mic2.flac',) ('data/American/p301/p301_060_mic2.flac',) ('data/Irish/p295/p295_164_mic2.flac',) ('p299',) ('p301',) ('p299',) ('American',) ('Irish',)\n",
      "('data/Indian/p376/p376_367_mic1.flac',) ('data/Indian/p376/p376_273_mic2.flac',) ('data/Indian/p251/p251_300_mic2.flac',) ('data/American/p299/p299_280_mic2.flac',) ('p376',) ('p251',) ('p376',) ('Indian',) ('American',)\n",
      "('data/American/p300/p300_350_mic1.flac',) ('data/American/p300/p300_085_mic2.flac',) ('data/American/p299/p299_088_mic1.flac',) ('data/Irish/p245/p245_327_mic1.flac',) ('p300',) ('p299',) ('p300',) ('American',) ('Irish',)\n",
      "('data/Indian/p376/p376_127_mic2.flac',) ('data/Indian/p376/p376_280_mic1.flac',) ('data/Indian/p248/p248_189_mic1.flac',) ('data/Scottish/p237/p237_190_mic2.flac',) ('p376',) ('p248',) ('p376',) ('Indian',) ('Scottish',)\n",
      "('data/Scottish/p237/p237_083_mic1.flac',) ('data/Scottish/p237/p237_242_mic1.flac',) ('data/Scottish/p249/p249_113_mic1.flac',) ('data/Indian/p376/p376_344_mic2.flac',) ('p237',) ('p249',) ('p237',) ('Scottish',) ('Indian',)\n",
      "('data/Indian/p248/p248_203_mic2.flac',) ('data/Indian/p248/p248_367_mic2.flac',) ('data/Indian/p251/p251_044_mic2.flac',) ('data/American/p300/p300_261_mic1.flac',) ('p248',) ('p251',) ('p248',) ('Indian',) ('American',)\n",
      "('data/Irish/p245/p245_198_mic1.flac',) ('data/Irish/p245/p245_116_mic2.flac',) ('data/Irish/p298/p298_022_mic2.flac',) ('data/Indian/p248/p248_172_mic1.flac',) ('p245',) ('p298',) ('p245',) ('Irish',) ('Indian',)\n",
      "('data/Indian/p376/p376_398_mic1.flac',) ('data/Indian/p376/p376_295_mic1.flac',) ('data/Indian/p251/p251_125_mic2.flac',) ('data/American/p301/p301_220_mic2.flac',) ('p376',) ('p251',) ('p376',) ('Indian',) ('American',)\n",
      "('data/American/p299/p299_326_mic2.flac',) ('data/American/p299/p299_051_mic2.flac',) ('data/American/p300/p300_180_mic1.flac',) ('data/Scottish/p234/p234_020_mic2.flac',) ('p299',) ('p300',) ('p299',) ('American',) ('Scottish',)\n",
      "('data/Irish/p245/p245_240_mic1.flac',) ('data/Irish/p245/p245_205_mic1.flac',) ('data/Irish/p298/p298_176_mic1.flac',) ('data/Scottish/p249/p249_089_mic1.flac',) ('p245',) ('p298',) ('p245',) ('Irish',) ('Scottish',)\n",
      "('data/Indian/p248/p248_123_mic2.flac',) ('data/Indian/p248/p248_088_mic2.flac',) ('data/Indian/p376/p376_401_mic2.flac',) ('data/Scottish/p237/p237_008_mic2.flac',) ('p248',) ('p376',) ('p248',) ('Indian',) ('Scottish',)\n",
      "('data/Scottish/p237/p237_017_mic1.flac',) ('data/Scottish/p237/p237_157_mic1.flac',) ('data/Scottish/p284/p284_287_mic1.flac',) ('data/Irish/p283/p283_304_mic1.flac',) ('p237',) ('p284',) ('p237',) ('Scottish',) ('Irish',)\n",
      "('data/Indian/p248/p248_181_mic2.flac',) ('data/Indian/p248/p248_240_mic1.flac',) ('data/Indian/p251/p251_254_mic2.flac',) ('data/Irish/p298/p298_150_mic1.flac',) ('p248',) ('p251',) ('p248',) ('Indian',) ('Irish',)\n",
      "('data/American/p301/p301_006_mic1.flac',) ('data/American/p301/p301_245_mic2.flac',) ('data/American/p299/p299_141_mic2.flac',) ('data/Indian/p248/p248_271_mic2.flac',) ('p301',) ('p299',) ('p301',) ('American',) ('Indian',)\n",
      "('data/American/p301/p301_047_mic2.flac',) ('data/American/p301/p301_255_mic2.flac',) ('data/American/p299/p299_075_mic1.flac',) ('data/Irish/p245/p245_023_mic1.flac',) ('p301',) ('p299',) ('p301',) ('American',) ('Irish',)\n",
      "('data/Irish/p295/p295_420_mic1.flac',) ('data/Irish/p295/p295_349_mic2.flac',) ('data/Irish/p283/p283_047_mic2.flac',) ('data/Indian/p251/p251_082_mic1.flac',) ('p295',) ('p283',) ('p295',) ('Irish',) ('Indian',)\n",
      "('data/Indian/p248/p248_214_mic2.flac',) ('data/Indian/p248/p248_318_mic1.flac',) ('data/Indian/p376/p376_323_mic2.flac',) ('data/Irish/p283/p283_399_mic2.flac',) ('p248',) ('p376',) ('p248',) ('Indian',) ('Irish',)\n",
      "('data/American/p300/p300_016_mic1.flac',) ('data/American/p300/p300_350_mic1.flac',) ('data/American/p301/p301_348_mic1.flac',) ('data/Irish/p298/p298_304_mic2.flac',) ('p300',) ('p301',) ('p300',) ('American',) ('Irish',)\n",
      "('data/Indian/p376/p376_388_mic1.flac',) ('data/Indian/p376/p376_128_mic1.flac',) ('data/Indian/p251/p251_274_mic2.flac',) ('data/Irish/p295/p295_111_mic1.flac',) ('p376',) ('p251',) ('p376',) ('Indian',) ('Irish',)\n",
      "('data/Scottish/p234/p234_338_mic1.flac',) ('data/Scottish/p234/p234_336_mic2.flac',) ('data/Scottish/p249/p249_336_mic1.flac',) ('data/American/p300/p300_036_mic1.flac',) ('p234',) ('p249',) ('p234',) ('Scottish',) ('American',)\n",
      "('data/American/p301/p301_281_mic1.flac',) ('data/American/p301/p301_023_mic1.flac',) ('data/American/p299/p299_192_mic1.flac',) ('data/Scottish/p234/p234_289_mic1.flac',) ('p301',) ('p299',) ('p301',) ('American',) ('Scottish',)\n",
      "('data/Indian/p251/p251_312_mic2.flac',) ('data/Indian/p251/p251_089_mic2.flac',) ('data/Indian/p376/p376_235_mic1.flac',) ('data/American/p300/p300_098_mic1.flac',) ('p251',) ('p376',) ('p251',) ('Indian',) ('American',)\n",
      "('data/American/p300/p300_078_mic1.flac',) ('data/American/p300/p300_098_mic2.flac',) ('data/American/p299/p299_071_mic1.flac',) ('data/Indian/p248/p248_335_mic2.flac',) ('p300',) ('p299',) ('p300',) ('American',) ('Indian',)\n",
      "('data/Irish/p298/p298_307_mic2.flac',) ('data/Irish/p298/p298_133_mic2.flac',) ('data/Irish/p245/p245_180_mic2.flac',) ('data/Scottish/p234/p234_027_mic1.flac',) ('p298',) ('p245',) ('p298',) ('Irish',) ('Scottish',)\n",
      "('data/Irish/p295/p295_241_mic1.flac',) ('data/Irish/p295/p295_246_mic1.flac',) ('data/Irish/p283/p283_163_mic2.flac',) ('data/Scottish/p237/p237_167_mic2.flac',) ('p295',) ('p283',) ('p295',) ('Irish',) ('Scottish',)\n",
      "('data/Indian/p251/p251_197_mic2.flac',) ('data/Indian/p251/p251_015_mic1.flac',) ('data/Indian/p376/p376_163_mic2.flac',) ('data/Scottish/p284/p284_097_mic1.flac',) ('p251',) ('p376',) ('p251',) ('Indian',) ('Scottish',)\n",
      "('data/Scottish/p237/p237_179_mic2.flac',) ('data/Scottish/p237/p237_256_mic2.flac',) ('data/Scottish/p234/p234_268_mic1.flac',) ('data/Irish/p295/p295_057_mic2.flac',) ('p237',) ('p234',) ('p237',) ('Scottish',) ('Irish',)\n",
      "('data/American/p299/p299_112_mic1.flac',) ('data/American/p299/p299_356_mic2.flac',) ('data/American/p301/p301_332_mic1.flac',) ('data/Irish/p245/p245_165_mic2.flac',) ('p299',) ('p301',) ('p299',) ('American',) ('Irish',)\n",
      "('data/American/p301/p301_298_mic1.flac',) ('data/American/p301/p301_104_mic2.flac',) ('data/American/p299/p299_387_mic2.flac',) ('data/Irish/p245/p245_139_mic1.flac',) ('p301',) ('p299',) ('p301',) ('American',) ('Irish',)\n",
      "('data/Scottish/p237/p237_107_mic2.flac',) ('data/Scottish/p237/p237_003_mic2.flac',) ('data/Scottish/p249/p249_249_mic2.flac',) ('data/Irish/p245/p245_020_mic2.flac',) ('p237',) ('p249',) ('p237',) ('Scottish',) ('Irish',)\n",
      "('data/Indian/p251/p251_201_mic2.flac',) ('data/Indian/p251/p251_273_mic1.flac',) ('data/Indian/p376/p376_179_mic2.flac',) ('data/Irish/p283/p283_237_mic1.flac',) ('p251',) ('p376',) ('p251',) ('Indian',) ('Irish',)\n",
      "('data/Indian/p376/p376_111_mic1.flac',) ('data/Indian/p376/p376_034_mic1.flac',) ('data/Indian/p251/p251_173_mic2.flac',) ('data/American/p300/p300_108_mic2.flac',) ('p376',) ('p251',) ('p376',) ('Indian',) ('American',)\n",
      "('data/American/p300/p300_223_mic1.flac',) ('data/American/p300/p300_319_mic1.flac',) ('data/American/p301/p301_254_mic1.flac',) ('data/Irish/p295/p295_174_mic2.flac',) ('p300',) ('p301',) ('p300',) ('American',) ('Irish',)\n",
      "('data/Scottish/p284/p284_209_mic1.flac',) ('data/Scottish/p284/p284_369_mic2.flac',) ('data/Scottish/p249/p249_137_mic1.flac',) ('data/Irish/p245/p245_062_mic1.flac',) ('p284',) ('p249',) ('p284',) ('Scottish',) ('Irish',)\n",
      "('data/Scottish/p284/p284_242_mic2.flac',) ('data/Scottish/p284/p284_076_mic1.flac',) ('data/Scottish/p237/p237_159_mic1.flac',) ('data/American/p300/p300_003_mic1.flac',) ('p284',) ('p237',) ('p284',) ('Scottish',) ('American',)\n",
      "('data/Indian/p251/p251_025_mic2.flac',) ('data/Indian/p251/p251_334_mic1.flac',) ('data/Indian/p248/p248_010_mic2.flac',) ('data/American/p301/p301_384_mic1.flac',) ('p251',) ('p248',) ('p251',) ('Indian',) ('American',)\n",
      "('data/Indian/p248/p248_267_mic1.flac',) ('data/Indian/p248/p248_235_mic2.flac',) ('data/Indian/p376/p376_061_mic1.flac',) ('data/American/p299/p299_357_mic1.flac',) ('p248',) ('p376',) ('p248',) ('Indian',) ('American',)\n",
      "('data/Irish/p295/p295_269_mic1.flac',) ('data/Irish/p295/p295_320_mic1.flac',) ('data/Irish/p298/p298_124_mic2.flac',) ('data/American/p299/p299_020_mic2.flac',) ('p295',) ('p298',) ('p295',) ('Irish',) ('American',)\n",
      "('data/Indian/p251/p251_071_mic2.flac',) ('data/Indian/p251/p251_046_mic2.flac',) ('data/Indian/p248/p248_104_mic2.flac',) ('data/American/p299/p299_018_mic1.flac',) ('p251',) ('p248',) ('p251',) ('Indian',) ('American',)\n",
      "('data/American/p301/p301_174_mic2.flac',) ('data/American/p301/p301_079_mic1.flac',) ('data/American/p300/p300_233_mic2.flac',) ('data/Irish/p283/p283_330_mic2.flac',) ('p301',) ('p300',) ('p301',) ('American',) ('Irish',)\n",
      "('data/Irish/p295/p295_352_mic1.flac',) ('data/Irish/p295/p295_118_mic2.flac',) ('data/Irish/p298/p298_035_mic2.flac',) ('data/Scottish/p237/p237_025_mic1.flac',) ('p295',) ('p298',) ('p295',) ('Irish',) ('Scottish',)\n",
      "('data/Indian/p251/p251_320_mic2.flac',) ('data/Indian/p251/p251_349_mic1.flac',) ('data/Indian/p376/p376_288_mic2.flac',) ('data/Irish/p245/p245_335_mic1.flac',) ('p251',) ('p376',) ('p251',) ('Indian',) ('Irish',)\n",
      "('data/American/p299/p299_151_mic1.flac',) ('data/American/p299/p299_278_mic2.flac',) ('data/American/p300/p300_147_mic2.flac',) ('data/Irish/p283/p283_088_mic1.flac',) ('p299',) ('p300',) ('p299',) ('American',) ('Irish',)\n",
      "('data/Scottish/p234/p234_151_mic2.flac',) ('data/Scottish/p234/p234_178_mic1.flac',) ('data/Scottish/p249/p249_308_mic1.flac',) ('data/American/p301/p301_030_mic1.flac',) ('p234',) ('p249',) ('p234',) ('Scottish',) ('American',)\n",
      "('data/Irish/p245/p245_055_mic1.flac',) ('data/Irish/p245/p245_087_mic1.flac',) ('data/Irish/p283/p283_373_mic2.flac',) ('data/American/p299/p299_249_mic1.flac',) ('p245',) ('p283',) ('p245',) ('Irish',) ('American',)\n",
      "('data/Scottish/p249/p249_161_mic1.flac',) ('data/Scottish/p249/p249_071_mic2.flac',) ('data/Scottish/p234/p234_357_mic2.flac',) ('data/Irish/p298/p298_080_mic2.flac',) ('p249',) ('p234',) ('p249',) ('Scottish',) ('Irish',)\n",
      "('data/Indian/p248/p248_066_mic1.flac',) ('data/Indian/p248/p248_232_mic1.flac',) ('data/Indian/p251/p251_082_mic1.flac',) ('data/Scottish/p234/p234_208_mic2.flac',) ('p248',) ('p251',) ('p248',) ('Indian',) ('Scottish',)\n",
      "('data/Irish/p298/p298_289_mic2.flac',) ('data/Irish/p298/p298_024_mic2.flac',) ('data/Irish/p283/p283_147_mic1.flac',) ('data/Indian/p376/p376_026_mic2.flac',) ('p298',) ('p283',) ('p298',) ('Irish',) ('Indian',)\n",
      "('data/Indian/p251/p251_061_mic1.flac',) ('data/Indian/p251/p251_071_mic1.flac',) ('data/Indian/p248/p248_336_mic2.flac',) ('data/American/p299/p299_254_mic1.flac',) ('p251',) ('p248',) ('p251',) ('Indian',) ('American',)\n",
      "('data/American/p299/p299_271_mic2.flac',) ('data/American/p299/p299_166_mic2.flac',) ('data/American/p300/p300_072_mic1.flac',) ('data/Indian/p251/p251_319_mic1.flac',) ('p299',) ('p300',) ('p299',) ('American',) ('Indian',)\n",
      "('data/American/p300/p300_159_mic1.flac',) ('data/American/p300/p300_260_mic2.flac',) ('data/American/p301/p301_145_mic2.flac',) ('data/Scottish/p249/p249_081_mic2.flac',) ('p300',) ('p301',) ('p300',) ('American',) ('Scottish',)\n",
      "('data/American/p301/p301_352_mic2.flac',) ('data/American/p301/p301_364_mic1.flac',) ('data/American/p300/p300_044_mic1.flac',) ('data/Indian/p251/p251_306_mic2.flac',) ('p301',) ('p300',) ('p301',) ('American',) ('Indian',)\n",
      "('data/Scottish/p249/p249_137_mic1.flac',) ('data/Scottish/p249/p249_147_mic2.flac',) ('data/Scottish/p284/p284_055_mic2.flac',) ('data/Indian/p248/p248_319_mic2.flac',) ('p249',) ('p284',) ('p249',) ('Scottish',) ('Indian',)\n",
      "('data/Irish/p245/p245_316_mic2.flac',) ('data/Irish/p245/p245_021_mic2.flac',) ('data/Irish/p295/p295_343_mic1.flac',) ('data/American/p301/p301_405_mic2.flac',) ('p245',) ('p295',) ('p245',) ('Irish',) ('American',)\n",
      "('data/Scottish/p284/p284_411_mic2.flac',) ('data/Scottish/p284/p284_147_mic1.flac',) ('data/Scottish/p237/p237_344_mic1.flac',) ('data/Indian/p376/p376_342_mic1.flac',) ('p284',) ('p237',) ('p284',) ('Scottish',) ('Indian',)\n",
      "('data/Indian/p248/p248_265_mic1.flac',) ('data/Indian/p248/p248_213_mic1.flac',) ('data/Indian/p376/p376_304_mic2.flac',) ('data/American/p300/p300_125_mic2.flac',) ('p248',) ('p376',) ('p248',) ('Indian',) ('American',)\n",
      "('data/Indian/p376/p376_204_mic2.flac',) ('data/Indian/p376/p376_056_mic1.flac',) ('data/Indian/p248/p248_162_mic2.flac',) ('data/Scottish/p237/p237_263_mic1.flac',) ('p376',) ('p248',) ('p376',) ('Indian',) ('Scottish',)\n",
      "('data/Irish/p283/p283_466_mic2.flac',) ('data/Irish/p283/p283_135_mic1.flac',) ('data/Irish/p298/p298_200_mic2.flac',) ('data/Scottish/p249/p249_076_mic2.flac',) ('p283',) ('p298',) ('p283',) ('Irish',) ('Scottish',)\n",
      "('data/American/p299/p299_352_mic2.flac',) ('data/American/p299/p299_402_mic1.flac',) ('data/American/p300/p300_398_mic1.flac',) ('data/Irish/p298/p298_250_mic1.flac',) ('p299',) ('p300',) ('p299',) ('American',) ('Irish',)\n",
      "('data/Scottish/p237/p237_227_mic2.flac',) ('data/Scottish/p237/p237_220_mic2.flac',) ('data/Scottish/p249/p249_137_mic1.flac',) ('data/American/p300/p300_385_mic1.flac',) ('p237',) ('p249',) ('p237',) ('Scottish',) ('American',)\n",
      "('data/American/p299/p299_007_mic2.flac',) ('data/American/p299/p299_143_mic2.flac',) ('data/American/p300/p300_013_mic2.flac',) ('data/Scottish/p234/p234_340_mic1.flac',) ('p299',) ('p300',) ('p299',) ('American',) ('Scottish',)\n",
      "('data/Irish/p245/p245_295_mic2.flac',) ('data/Irish/p245/p245_131_mic2.flac',) ('data/Irish/p295/p295_332_mic2.flac',) ('data/Scottish/p237/p237_048_mic2.flac',) ('p245',) ('p295',) ('p245',) ('Irish',) ('Scottish',)\n",
      "('data/Scottish/p284/p284_226_mic2.flac',) ('data/Scottish/p284/p284_303_mic1.flac',) ('data/Scottish/p249/p249_007_mic1.flac',) ('data/American/p299/p299_212_mic2.flac',) ('p284',) ('p249',) ('p284',) ('Scottish',) ('American',)\n",
      "('data/Irish/p295/p295_208_mic1.flac',) ('data/Irish/p295/p295_122_mic1.flac',) ('data/Irish/p245/p245_069_mic1.flac',) ('data/Indian/p376/p376_216_mic1.flac',) ('p295',) ('p245',) ('p295',) ('Irish',) ('Indian',)\n",
      "('data/American/p300/p300_344_mic1.flac',) ('data/American/p300/p300_145_mic2.flac',) ('data/American/p301/p301_079_mic2.flac',) ('data/Scottish/p234/p234_238_mic1.flac',) ('p300',) ('p301',) ('p300',) ('American',) ('Scottish',)\n",
      "('data/Indian/p251/p251_164_mic2.flac',) ('data/Indian/p251/p251_233_mic2.flac',) ('data/Indian/p376/p376_094_mic1.flac',) ('data/American/p300/p300_289_mic1.flac',) ('p251',) ('p376',) ('p251',) ('Indian',) ('American',)\n",
      "('data/Scottish/p284/p284_098_mic1.flac',) ('data/Scottish/p284/p284_149_mic1.flac',) ('data/Scottish/p249/p249_031_mic2.flac',) ('data/American/p299/p299_368_mic2.flac',) ('p284',) ('p249',) ('p284',) ('Scottish',) ('American',)\n",
      "('data/Indian/p376/p376_234_mic1.flac',) ('data/Indian/p376/p376_120_mic1.flac',) ('data/Indian/p248/p248_007_mic1.flac',) ('data/American/p299/p299_299_mic2.flac',) ('p376',) ('p248',) ('p376',) ('Indian',) ('American',)\n",
      "('data/American/p300/p300_222_mic2.flac',) ('data/American/p300/p300_226_mic1.flac',) ('data/American/p299/p299_304_mic2.flac',) ('data/Irish/p283/p283_285_mic1.flac',) ('p300',) ('p299',) ('p300',) ('American',) ('Irish',)\n",
      "('data/Scottish/p284/p284_098_mic1.flac',) ('data/Scottish/p284/p284_233_mic1.flac',) ('data/Scottish/p237/p237_274_mic2.flac',) ('data/Indian/p248/p248_012_mic2.flac',) ('p284',) ('p237',) ('p284',) ('Scottish',) ('Indian',)\n",
      "('data/American/p301/p301_084_mic2.flac',) ('data/American/p301/p301_074_mic1.flac',) ('data/American/p300/p300_065_mic1.flac',) ('data/Indian/p251/p251_291_mic1.flac',) ('p301',) ('p300',) ('p301',) ('American',) ('Indian',)\n",
      "('data/Irish/p283/p283_335_mic1.flac',) ('data/Irish/p283/p283_013_mic1.flac',) ('data/Irish/p298/p298_170_mic1.flac',) ('data/American/p300/p300_036_mic1.flac',) ('p283',) ('p298',) ('p283',) ('Irish',) ('American',)\n",
      "('data/Indian/p376/p376_356_mic2.flac',) ('data/Indian/p376/p376_374_mic2.flac',) ('data/Indian/p248/p248_027_mic2.flac',) ('data/Irish/p295/p295_145_mic2.flac',) ('p376',) ('p248',) ('p376',) ('Indian',) ('Irish',)\n",
      "('data/American/p300/p300_084_mic2.flac',) ('data/American/p300/p300_272_mic1.flac',) ('data/American/p301/p301_246_mic1.flac',) ('data/Irish/p283/p283_109_mic1.flac',) ('p300',) ('p301',) ('p300',) ('American',) ('Irish',)\n",
      "('data/Irish/p283/p283_132_mic1.flac',) ('data/Irish/p283/p283_068_mic1.flac',) ('data/Irish/p245/p245_111_mic2.flac',) ('data/Scottish/p237/p237_119_mic2.flac',) ('p283',) ('p245',) ('p283',) ('Irish',) ('Scottish',)\n",
      "('data/American/p299/p299_120_mic1.flac',) ('data/American/p299/p299_022_mic2.flac',) ('data/American/p301/p301_144_mic2.flac',) ('data/Irish/p245/p245_193_mic2.flac',) ('p299',) ('p301',) ('p299',) ('American',) ('Irish',)\n"
     ]
    },
    {
     "name": "stdout",
     "output_type": "stream",
     "text": [
      "('data/Scottish/p237/p237_244_mic1.flac',) ('data/Scottish/p237/p237_061_mic2.flac',) ('data/Scottish/p284/p284_412_mic1.flac',) ('data/American/p299/p299_210_mic1.flac',) ('p237',) ('p284',) ('p237',) ('Scottish',) ('American',)\n",
      "('data/Indian/p251/p251_241_mic1.flac',) ('data/Indian/p251/p251_233_mic1.flac',) ('data/Indian/p376/p376_247_mic1.flac',) ('data/Irish/p283/p283_254_mic2.flac',) ('p251',) ('p376',) ('p251',) ('Indian',) ('Irish',)\n",
      "('data/American/p299/p299_062_mic1.flac',) ('data/American/p299/p299_019_mic2.flac',) ('data/American/p301/p301_221_mic2.flac',) ('data/Scottish/p249/p249_046_mic1.flac',) ('p299',) ('p301',) ('p299',) ('American',) ('Scottish',)\n",
      "('data/American/p299/p299_013_mic2.flac',) ('data/American/p299/p299_389_mic2.flac',) ('data/American/p301/p301_234_mic2.flac',) ('data/Indian/p251/p251_239_mic2.flac',) ('p299',) ('p301',) ('p299',) ('American',) ('Indian',)\n",
      "('data/Irish/p283/p283_442_mic1.flac',) ('data/Irish/p283/p283_035_mic1.flac',) ('data/Irish/p298/p298_236_mic1.flac',) ('data/Scottish/p234/p234_020_mic1.flac',) ('p283',) ('p298',) ('p283',) ('Irish',) ('Scottish',)\n",
      "('data/Indian/p376/p376_263_mic1.flac',) ('data/Indian/p376/p376_096_mic2.flac',) ('data/Indian/p251/p251_262_mic1.flac',) ('data/Scottish/p237/p237_037_mic1.flac',) ('p376',) ('p251',) ('p376',) ('Indian',) ('Scottish',)\n",
      "('data/Indian/p376/p376_008_mic1.flac',) ('data/Indian/p376/p376_350_mic2.flac',) ('data/Indian/p248/p248_006_mic2.flac',) ('data/American/p299/p299_306_mic2.flac',) ('p376',) ('p248',) ('p376',) ('Indian',) ('American',)\n",
      "('data/Scottish/p237/p237_315_mic1.flac',) ('data/Scottish/p237/p237_196_mic1.flac',) ('data/Scottish/p249/p249_052_mic1.flac',) ('data/Indian/p251/p251_270_mic2.flac',) ('p237',) ('p249',) ('p237',) ('Scottish',) ('Indian',)\n",
      "('data/Scottish/p249/p249_287_mic1.flac',) ('data/Scottish/p249/p249_199_mic1.flac',) ('data/Scottish/p237/p237_114_mic1.flac',) ('data/American/p300/p300_263_mic1.flac',) ('p249',) ('p237',) ('p249',) ('Scottish',) ('American',)\n",
      "('data/Irish/p295/p295_025_mic1.flac',) ('data/Irish/p295/p295_104_mic2.flac',) ('data/Irish/p283/p283_301_mic1.flac',) ('data/American/p300/p300_376_mic2.flac',) ('p295',) ('p283',) ('p295',) ('Irish',) ('American',)\n",
      "('data/Indian/p248/p248_176_mic1.flac',) ('data/Indian/p248/p248_264_mic2.flac',) ('data/Indian/p376/p376_381_mic1.flac',) ('data/Scottish/p284/p284_004_mic1.flac',) ('p248',) ('p376',) ('p248',) ('Indian',) ('Scottish',)\n",
      "('data/Scottish/p284/p284_367_mic2.flac',) ('data/Scottish/p284/p284_350_mic2.flac',) ('data/Scottish/p249/p249_102_mic1.flac',) ('data/American/p301/p301_106_mic1.flac',) ('p284',) ('p249',) ('p284',) ('Scottish',) ('American',)\n",
      "('data/American/p301/p301_207_mic1.flac',) ('data/American/p301/p301_145_mic2.flac',) ('data/American/p299/p299_218_mic2.flac',) ('data/Indian/p251/p251_062_mic2.flac',) ('p301',) ('p299',) ('p301',) ('American',) ('Indian',)\n",
      "('data/American/p299/p299_350_mic2.flac',) ('data/American/p299/p299_030_mic1.flac',) ('data/American/p301/p301_409_mic1.flac',) ('data/Irish/p283/p283_268_mic2.flac',) ('p299',) ('p301',) ('p299',) ('American',) ('Irish',)\n",
      "('data/Indian/p251/p251_010_mic1.flac',) ('data/Indian/p251/p251_254_mic2.flac',) ('data/Indian/p248/p248_290_mic2.flac',) ('data/American/p300/p300_013_mic2.flac',) ('p251',) ('p248',) ('p251',) ('Indian',) ('American',)\n",
      "('data/Irish/p298/p298_022_mic1.flac',) ('data/Irish/p298/p298_107_mic1.flac',) ('data/Irish/p283/p283_058_mic1.flac',) ('data/American/p301/p301_012_mic1.flac',) ('p298',) ('p283',) ('p298',) ('Irish',) ('American',)\n",
      "('data/American/p301/p301_388_mic2.flac',) ('data/American/p301/p301_266_mic1.flac',) ('data/American/p299/p299_074_mic2.flac',) ('data/Scottish/p237/p237_313_mic1.flac',) ('p301',) ('p299',) ('p301',) ('American',) ('Scottish',)\n",
      "('data/Scottish/p234/p234_190_mic1.flac',) ('data/Scottish/p234/p234_108_mic2.flac',) ('data/Scottish/p237/p237_154_mic1.flac',) ('data/Irish/p245/p245_167_mic2.flac',) ('p234',) ('p237',) ('p234',) ('Scottish',) ('Irish',)\n",
      "('data/American/p300/p300_344_mic1.flac',) ('data/American/p300/p300_255_mic1.flac',) ('data/American/p301/p301_203_mic2.flac',) ('data/Indian/p251/p251_140_mic1.flac',) ('p300',) ('p301',) ('p300',) ('American',) ('Indian',)\n",
      "('data/American/p301/p301_143_mic1.flac',) ('data/American/p301/p301_152_mic2.flac',) ('data/American/p299/p299_091_mic1.flac',) ('data/Scottish/p234/p234_065_mic2.flac',) ('p301',) ('p299',) ('p301',) ('American',) ('Scottish',)\n",
      "('data/Irish/p298/p298_250_mic1.flac',) ('data/Irish/p298/p298_344_mic2.flac',) ('data/Irish/p283/p283_078_mic2.flac',) ('data/Indian/p251/p251_003_mic2.flac',) ('p298',) ('p283',) ('p298',) ('Irish',) ('Indian',)\n",
      "('data/American/p300/p300_086_mic1.flac',) ('data/American/p300/p300_135_mic2.flac',) ('data/American/p299/p299_219_mic1.flac',) ('data/Irish/p298/p298_134_mic1.flac',) ('p300',) ('p299',) ('p300',) ('American',) ('Irish',)\n",
      "('data/Irish/p295/p295_089_mic1.flac',) ('data/Irish/p295/p295_274_mic2.flac',) ('data/Irish/p245/p245_295_mic2.flac',) ('data/Scottish/p284/p284_345_mic2.flac',) ('p295',) ('p245',) ('p295',) ('Irish',) ('Scottish',)\n",
      "('data/Scottish/p249/p249_262_mic2.flac',) ('data/Scottish/p249/p249_260_mic2.flac',) ('data/Scottish/p237/p237_047_mic1.flac',) ('data/Irish/p298/p298_403_mic1.flac',) ('p249',) ('p237',) ('p249',) ('Scottish',) ('Irish',)\n",
      "('data/Scottish/p234/p234_157_mic2.flac',) ('data/Scottish/p234/p234_009_mic1.flac',) ('data/Scottish/p249/p249_290_mic1.flac',) ('data/Irish/p295/p295_294_mic2.flac',) ('p234',) ('p249',) ('p234',) ('Scottish',) ('Irish',)\n",
      "('data/American/p300/p300_013_mic1.flac',) ('data/American/p300/p300_342_mic2.flac',) ('data/American/p301/p301_221_mic2.flac',) ('data/Scottish/p237/p237_125_mic2.flac',) ('p300',) ('p301',) ('p300',) ('American',) ('Scottish',)\n",
      "('data/Scottish/p234/p234_280_mic1.flac',) ('data/Scottish/p234/p234_214_mic2.flac',) ('data/Scottish/p237/p237_120_mic2.flac',) ('data/American/p301/p301_105_mic1.flac',) ('p234',) ('p237',) ('p234',) ('Scottish',) ('American',)\n",
      "('data/Scottish/p284/p284_332_mic2.flac',) ('data/Scottish/p284/p284_007_mic2.flac',) ('data/Scottish/p234/p234_068_mic2.flac',) ('data/Indian/p376/p376_412_mic2.flac',) ('p284',) ('p234',) ('p284',) ('Scottish',) ('Indian',)\n",
      "('data/American/p301/p301_382_mic2.flac',) ('data/American/p301/p301_365_mic2.flac',) ('data/American/p299/p299_192_mic2.flac',) ('data/Irish/p245/p245_119_mic1.flac',) ('p301',) ('p299',) ('p301',) ('American',) ('Irish',)\n",
      "('data/Scottish/p284/p284_325_mic2.flac',) ('data/Scottish/p284/p284_240_mic2.flac',) ('data/Scottish/p234/p234_288_mic2.flac',) ('data/Irish/p295/p295_189_mic1.flac',) ('p284',) ('p234',) ('p284',) ('Scottish',) ('Irish',)\n",
      "('data/Indian/p248/p248_095_mic1.flac',) ('data/Indian/p248/p248_012_mic2.flac',) ('data/Indian/p251/p251_208_mic2.flac',) ('data/American/p301/p301_279_mic2.flac',) ('p248',) ('p251',) ('p248',) ('Indian',) ('American',)\n",
      "('data/Indian/p376/p376_245_mic2.flac',) ('data/Indian/p376/p376_296_mic1.flac',) ('data/Indian/p248/p248_318_mic2.flac',) ('data/Scottish/p234/p234_036_mic1.flac',) ('p376',) ('p248',) ('p376',) ('Indian',) ('Scottish',)\n",
      "('data/American/p301/p301_197_mic2.flac',) ('data/American/p301/p301_335_mic2.flac',) ('data/American/p299/p299_045_mic1.flac',) ('data/Indian/p251/p251_322_mic1.flac',) ('p301',) ('p299',) ('p301',) ('American',) ('Indian',)\n",
      "('data/Irish/p283/p283_470_mic2.flac',) ('data/Irish/p283/p283_229_mic1.flac',) ('data/Irish/p295/p295_250_mic2.flac',) ('data/American/p299/p299_310_mic1.flac',) ('p283',) ('p295',) ('p283',) ('Irish',) ('American',)\n",
      "('data/Indian/p248/p248_115_mic2.flac',) ('data/Indian/p248/p248_066_mic1.flac',) ('data/Indian/p251/p251_064_mic2.flac',) ('data/Irish/p298/p298_231_mic2.flac',) ('p248',) ('p251',) ('p248',) ('Indian',) ('Irish',)\n",
      "('data/Scottish/p284/p284_378_mic1.flac',) ('data/Scottish/p284/p284_413_mic2.flac',) ('data/Scottish/p249/p249_165_mic2.flac',) ('data/Irish/p298/p298_315_mic1.flac',) ('p284',) ('p249',) ('p284',) ('Scottish',) ('Irish',)\n",
      "('data/Scottish/p234/p234_285_mic1.flac',) ('data/Scottish/p234/p234_133_mic1.flac',) ('data/Scottish/p237/p237_032_mic2.flac',) ('data/American/p300/p300_248_mic1.flac',) ('p234',) ('p237',) ('p234',) ('Scottish',) ('American',)\n",
      "('data/Scottish/p284/p284_246_mic1.flac',) ('data/Scottish/p284/p284_376_mic2.flac',) ('data/Scottish/p237/p237_076_mic2.flac',) ('data/Irish/p283/p283_286_mic2.flac',) ('p284',) ('p237',) ('p284',) ('Scottish',) ('Irish',)\n",
      "('data/Scottish/p284/p284_371_mic2.flac',) ('data/Scottish/p284/p284_331_mic1.flac',) ('data/Scottish/p234/p234_217_mic1.flac',) ('data/Irish/p283/p283_113_mic1.flac',) ('p284',) ('p234',) ('p284',) ('Scottish',) ('Irish',)\n",
      "('data/Scottish/p237/p237_238_mic2.flac',) ('data/Scottish/p237/p237_075_mic1.flac',) ('data/Scottish/p284/p284_015_mic1.flac',) ('data/American/p300/p300_382_mic2.flac',) ('p237',) ('p284',) ('p237',) ('Scottish',) ('American',)\n",
      "('data/American/p301/p301_236_mic2.flac',) ('data/American/p301/p301_209_mic2.flac',) ('data/American/p299/p299_330_mic2.flac',) ('data/Indian/p376/p376_306_mic2.flac',) ('p301',) ('p299',) ('p301',) ('American',) ('Indian',)\n",
      "('data/Irish/p295/p295_392_mic2.flac',) ('data/Irish/p295/p295_038_mic1.flac',) ('data/Irish/p298/p298_033_mic1.flac',) ('data/Scottish/p237/p237_061_mic2.flac',) ('p295',) ('p298',) ('p295',) ('Irish',) ('Scottish',)\n",
      "('data/Irish/p298/p298_332_mic1.flac',) ('data/Irish/p298/p298_335_mic2.flac',) ('data/Irish/p245/p245_049_mic1.flac',) ('data/American/p301/p301_043_mic2.flac',) ('p298',) ('p245',) ('p298',) ('Irish',) ('American',)\n",
      "('data/Irish/p245/p245_066_mic1.flac',) ('data/Irish/p245/p245_298_mic1.flac',) ('data/Irish/p298/p298_140_mic2.flac',) ('data/American/p300/p300_374_mic1.flac',) ('p245',) ('p298',) ('p245',) ('Irish',) ('American',)\n",
      "('data/Indian/p248/p248_011_mic1.flac',) ('data/Indian/p248/p248_280_mic2.flac',) ('data/Indian/p376/p376_226_mic1.flac',) ('data/Scottish/p234/p234_228_mic1.flac',) ('p248',) ('p376',) ('p248',) ('Indian',) ('Scottish',)\n",
      "('data/Indian/p251/p251_050_mic1.flac',) ('data/Indian/p251/p251_147_mic1.flac',) ('data/Indian/p376/p376_403_mic2.flac',) ('data/American/p299/p299_284_mic2.flac',) ('p251',) ('p376',) ('p251',) ('Indian',) ('American',)\n",
      "('data/Irish/p298/p298_071_mic2.flac',) ('data/Irish/p298/p298_249_mic2.flac',) ('data/Irish/p283/p283_022_mic2.flac',) ('data/Indian/p376/p376_322_mic2.flac',) ('p298',) ('p283',) ('p298',) ('Irish',) ('Indian',)\n",
      "('data/Indian/p248/p248_154_mic1.flac',) ('data/Indian/p248/p248_343_mic1.flac',) ('data/Indian/p251/p251_233_mic1.flac',) ('data/American/p300/p300_043_mic1.flac',) ('p248',) ('p251',) ('p248',) ('Indian',) ('American',)\n",
      "('data/American/p300/p300_347_mic2.flac',) ('data/American/p300/p300_249_mic2.flac',) ('data/American/p299/p299_054_mic2.flac',) ('data/Scottish/p284/p284_303_mic1.flac',) ('p300',) ('p299',) ('p300',) ('American',) ('Scottish',)\n",
      "('data/Irish/p298/p298_316_mic2.flac',) ('data/Irish/p298/p298_067_mic1.flac',) ('data/Irish/p283/p283_280_mic1.flac',) ('data/American/p301/p301_262_mic2.flac',) ('p298',) ('p283',) ('p298',) ('Irish',) ('American',)\n",
      "('data/Scottish/p249/p249_188_mic1.flac',) ('data/Scottish/p249/p249_141_mic2.flac',) ('data/Scottish/p234/p234_164_mic2.flac',) ('data/Indian/p248/p248_171_mic1.flac',) ('p249',) ('p234',) ('p249',) ('Scottish',) ('Indian',)\n",
      "('data/Irish/p245/p245_064_mic2.flac',) ('data/Irish/p245/p245_142_mic2.flac',) ('data/Irish/p283/p283_083_mic1.flac',) ('data/Scottish/p234/p234_178_mic2.flac',) ('p245',) ('p283',) ('p245',) ('Irish',) ('Scottish',)\n",
      "('data/Irish/p295/p295_218_mic1.flac',) ('data/Irish/p295/p295_191_mic1.flac',) ('data/Irish/p245/p245_150_mic2.flac',) ('data/Scottish/p284/p284_230_mic1.flac',) ('p295',) ('p245',) ('p295',) ('Irish',) ('Scottish',)\n",
      "('data/Irish/p295/p295_127_mic2.flac',) ('data/Irish/p295/p295_032_mic1.flac',) ('data/Irish/p245/p245_180_mic2.flac',) ('data/Scottish/p234/p234_304_mic1.flac',) ('p295',) ('p245',) ('p295',) ('Irish',) ('Scottish',)\n",
      "('data/Indian/p251/p251_222_mic1.flac',) ('data/Indian/p251/p251_111_mic2.flac',) ('data/Indian/p376/p376_043_mic1.flac',) ('data/Scottish/p284/p284_415_mic1.flac',) ('p251',) ('p376',) ('p251',) ('Indian',) ('Scottish',)\n",
      "('data/Indian/p248/p248_137_mic1.flac',) ('data/Indian/p248/p248_038_mic2.flac',) ('data/Indian/p376/p376_202_mic1.flac',) ('data/Irish/p298/p298_300_mic1.flac',) ('p248',) ('p376',) ('p248',) ('Indian',) ('Irish',)\n",
      "('data/American/p301/p301_248_mic1.flac',) ('data/American/p301/p301_333_mic1.flac',) ('data/American/p299/p299_216_mic1.flac',) ('data/Indian/p248/p248_080_mic2.flac',) ('p301',) ('p299',) ('p301',) ('American',) ('Indian',)\n",
      "('data/Indian/p251/p251_310_mic1.flac',) ('data/Indian/p251/p251_175_mic2.flac',) ('data/Indian/p376/p376_056_mic1.flac',) ('data/Irish/p245/p245_336_mic1.flac',) ('p251',) ('p376',) ('p251',) ('Indian',) ('Irish',)\n",
      "('data/Scottish/p237/p237_009_mic1.flac',) ('data/Scottish/p237/p237_339_mic2.flac',) ('data/Scottish/p284/p284_408_mic2.flac',) ('data/American/p301/p301_203_mic1.flac',) ('p237',) ('p284',) ('p237',) ('Scottish',) ('American',)\n",
      "('data/Indian/p248/p248_081_mic1.flac',) ('data/Indian/p248/p248_196_mic1.flac',) ('data/Indian/p376/p376_299_mic1.flac',) ('data/American/p299/p299_229_mic2.flac',) ('p248',) ('p376',) ('p248',) ('Indian',) ('American',)\n",
      "('data/Scottish/p284/p284_313_mic2.flac',) ('data/Scottish/p284/p284_108_mic2.flac',) ('data/Scottish/p237/p237_046_mic2.flac',) ('data/American/p300/p300_117_mic2.flac',) ('p284',) ('p237',) ('p284',) ('Scottish',) ('American',)\n",
      "('data/Indian/p248/p248_312_mic1.flac',) ('data/Indian/p248/p248_002_mic1.flac',) ('data/Indian/p376/p376_081_mic1.flac',) ('data/American/p301/p301_043_mic2.flac',) ('p248',) ('p376',) ('p248',) ('Indian',) ('American',)\n",
      "('data/Irish/p298/p298_068_mic1.flac',) ('data/Irish/p298/p298_020_mic1.flac',) ('data/Irish/p245/p245_234_mic2.flac',) ('data/Indian/p376/p376_022_mic2.flac',) ('p298',) ('p245',) ('p298',) ('Irish',) ('Indian',)\n",
      "('data/Scottish/p237/p237_265_mic2.flac',) ('data/Scottish/p237/p237_130_mic2.flac',) ('data/Scottish/p249/p249_007_mic1.flac',) ('data/Irish/p295/p295_351_mic1.flac',) ('p237',) ('p249',) ('p237',) ('Scottish',) ('Irish',)\n",
      "('data/Scottish/p234/p234_012_mic1.flac',) ('data/Scottish/p234/p234_209_mic2.flac',) ('data/Scottish/p284/p284_223_mic1.flac',) ('data/Indian/p248/p248_178_mic1.flac',) ('p234',) ('p284',) ('p234',) ('Scottish',) ('Indian',)\n",
      "('data/Indian/p251/p251_204_mic2.flac',) ('data/Indian/p251/p251_122_mic1.flac',) ('data/Indian/p376/p376_110_mic2.flac',) ('data/Irish/p298/p298_032_mic2.flac',) ('p251',) ('p376',) ('p251',) ('Indian',) ('Irish',)\n",
      "('data/Indian/p251/p251_230_mic2.flac',) ('data/Indian/p251/p251_153_mic2.flac',) ('data/Indian/p376/p376_337_mic1.flac',) ('data/American/p301/p301_162_mic1.flac',) ('p251',) ('p376',) ('p251',) ('Indian',) ('American',)\n",
      "('data/American/p301/p301_220_mic2.flac',) ('data/American/p301/p301_299_mic2.flac',) ('data/American/p300/p300_068_mic2.flac',) ('data/Scottish/p237/p237_140_mic2.flac',) ('p301',) ('p300',) ('p301',) ('American',) ('Scottish',)\n",
      "('data/Indian/p248/p248_117_mic2.flac',) ('data/Indian/p248/p248_155_mic2.flac',) ('data/Indian/p251/p251_344_mic1.flac',) ('data/American/p299/p299_122_mic1.flac',) ('p248',) ('p251',) ('p248',) ('Indian',) ('American',)\n",
      "('data/Scottish/p249/p249_315_mic2.flac',) ('data/Scottish/p249/p249_322_mic2.flac',) ('data/Scottish/p234/p234_134_mic1.flac',) ('data/American/p299/p299_256_mic1.flac',) ('p249',) ('p234',) ('p249',) ('Scottish',) ('American',)\n",
      "('data/American/p300/p300_053_mic1.flac',) ('data/American/p300/p300_181_mic1.flac',) ('data/American/p299/p299_260_mic1.flac',) ('data/Scottish/p237/p237_117_mic2.flac',) ('p300',) ('p299',) ('p300',) ('American',) ('Scottish',)\n",
      "('data/American/p301/p301_410_mic2.flac',) ('data/American/p301/p301_252_mic1.flac',) ('data/American/p300/p300_223_mic2.flac',) ('data/Irish/p245/p245_131_mic2.flac',) ('p301',) ('p300',) ('p301',) ('American',) ('Irish',)\n",
      "('data/Scottish/p249/p249_274_mic2.flac',) ('data/Scottish/p249/p249_301_mic2.flac',) ('data/Scottish/p237/p237_254_mic2.flac',) ('data/American/p301/p301_313_mic1.flac',) ('p249',) ('p237',) ('p249',) ('Scottish',) ('American',)\n",
      "('data/Scottish/p284/p284_229_mic1.flac',) ('data/Scottish/p284/p284_422_mic1.flac',) ('data/Scottish/p234/p234_025_mic1.flac',) ('data/American/p299/p299_397_mic1.flac',) ('p284',) ('p234',) ('p284',) ('Scottish',) ('American',)\n",
      "('data/American/p300/p300_211_mic1.flac',) ('data/American/p300/p300_394_mic1.flac',) ('data/American/p299/p299_390_mic2.flac',) ('data/Indian/p376/p376_423_mic1.flac',) ('p300',) ('p299',) ('p300',) ('American',) ('Indian',)\n",
      "('data/Indian/p251/p251_035_mic1.flac',) ('data/Indian/p251/p251_098_mic2.flac',) ('data/Indian/p376/p376_049_mic1.flac',) ('data/American/p300/p300_021_mic2.flac',) ('p251',) ('p376',) ('p251',) ('Indian',) ('American',)\n",
      "('data/American/p301/p301_139_mic1.flac',) ('data/American/p301/p301_042_mic1.flac',) ('data/American/p300/p300_053_mic1.flac',) ('data/Irish/p298/p298_273_mic2.flac',) ('p301',) ('p300',) ('p301',) ('American',) ('Irish',)\n",
      "('data/Irish/p283/p283_418_mic2.flac',) ('data/Irish/p283/p283_037_mic1.flac',) ('data/Irish/p295/p295_015_mic1.flac',) ('data/Scottish/p249/p249_293_mic2.flac',) ('p283',) ('p295',) ('p283',) ('Irish',) ('Scottish',)\n",
      "('data/Indian/p376/p376_104_mic2.flac',) ('data/Indian/p376/p376_026_mic2.flac',) ('data/Indian/p251/p251_291_mic1.flac',) ('data/American/p299/p299_331_mic1.flac',) ('p376',) ('p251',) ('p376',) ('Indian',) ('American',)\n",
      "('data/Scottish/p237/p237_079_mic1.flac',) ('data/Scottish/p237/p237_139_mic2.flac',) ('data/Scottish/p284/p284_346_mic1.flac',) ('data/American/p300/p300_280_mic1.flac',) ('p237',) ('p284',) ('p237',) ('Scottish',) ('American',)\n",
      "('data/Scottish/p234/p234_135_mic1.flac',) ('data/Scottish/p234/p234_088_mic2.flac',) ('data/Scottish/p284/p284_266_mic1.flac',) ('data/Indian/p248/p248_135_mic1.flac',) ('p234',) ('p284',) ('p234',) ('Scottish',) ('Indian',)\n",
      "('data/Scottish/p237/p237_251_mic1.flac',) ('data/Scottish/p237/p237_345_mic2.flac',) ('data/Scottish/p234/p234_296_mic1.flac',) ('data/Irish/p245/p245_008_mic1.flac',) ('p237',) ('p234',) ('p237',) ('Scottish',) ('Irish',)\n",
      "('data/Indian/p248/p248_158_mic2.flac',) ('data/Indian/p248/p248_226_mic2.flac',) ('data/Indian/p251/p251_036_mic1.flac',) ('data/Irish/p245/p245_356_mic2.flac',) ('p248',) ('p251',) ('p248',) ('Indian',) ('Irish',)\n",
      "('data/Indian/p251/p251_222_mic1.flac',) ('data/Indian/p251/p251_315_mic1.flac',) ('data/Indian/p248/p248_234_mic1.flac',) ('data/American/p301/p301_092_mic2.flac',) ('p251',) ('p248',) ('p251',) ('Indian',) ('American',)\n",
      "('data/Irish/p245/p245_332_mic1.flac',) ('data/Irish/p245/p245_152_mic1.flac',) ('data/Irish/p283/p283_011_mic2.flac',) ('data/Indian/p248/p248_337_mic2.flac',) ('p245',) ('p283',) ('p245',) ('Irish',) ('Indian',)\n",
      "('data/Indian/p251/p251_291_mic2.flac',) ('data/Indian/p251/p251_110_mic1.flac',) ('data/Indian/p376/p376_283_mic2.flac',) ('data/Irish/p295/p295_174_mic2.flac',) ('p251',) ('p376',) ('p251',) ('Indian',) ('Irish',)\n",
      "('data/Indian/p251/p251_220_mic1.flac',) ('data/Indian/p251/p251_195_mic2.flac',) ('data/Indian/p376/p376_312_mic2.flac',) ('data/American/p301/p301_273_mic1.flac',) ('p251',) ('p376',) ('p251',) ('Indian',) ('American',)\n",
      "('data/Indian/p251/p251_335_mic2.flac',) ('data/Indian/p251/p251_299_mic1.flac',) ('data/Indian/p248/p248_308_mic1.flac',) ('data/Irish/p245/p245_084_mic1.flac',) ('p251',) ('p248',) ('p251',) ('Indian',) ('Irish',)\n",
      "('data/Scottish/p249/p249_004_mic2.flac',) ('data/Scottish/p249/p249_349_mic1.flac',) ('data/Scottish/p234/p234_160_mic1.flac',) ('data/American/p299/p299_318_mic2.flac',) ('p249',) ('p234',) ('p249',) ('Scottish',) ('American',)\n",
      "('data/Indian/p376/p376_076_mic1.flac',) ('data/Indian/p376/p376_040_mic1.flac',) ('data/Indian/p251/p251_349_mic2.flac',) ('data/American/p300/p300_290_mic2.flac',) ('p376',) ('p251',) ('p376',) ('Indian',) ('American',)\n",
      "('data/Scottish/p249/p249_060_mic1.flac',) ('data/Scottish/p249/p249_263_mic1.flac',) ('data/Scottish/p237/p237_023_mic2.flac',) ('data/Indian/p376/p376_397_mic1.flac',) ('p249',) ('p237',) ('p249',) ('Scottish',) ('Indian',)\n",
      "('data/Indian/p248/p248_151_mic2.flac',) ('data/Indian/p248/p248_268_mic1.flac',) ('data/Indian/p251/p251_005_mic2.flac',) ('data/Irish/p245/p245_165_mic2.flac',) ('p248',) ('p251',) ('p248',) ('Indian',) ('Irish',)\n",
      "('data/Scottish/p237/p237_126_mic1.flac',) ('data/Scottish/p237/p237_238_mic2.flac',) ('data/Scottish/p234/p234_187_mic2.flac',) ('data/Irish/p295/p295_412_mic2.flac',) ('p237',) ('p234',) ('p237',) ('Scottish',) ('Irish',)\n",
      "('data/Scottish/p237/p237_172_mic2.flac',) ('data/Scottish/p237/p237_242_mic1.flac',) ('data/Scottish/p249/p249_047_mic1.flac',) ('data/American/p299/p299_054_mic2.flac',) ('p237',) ('p249',) ('p237',) ('Scottish',) ('American',)\n",
      "('data/Scottish/p249/p249_182_mic1.flac',) ('data/Scottish/p249/p249_105_mic1.flac',) ('data/Scottish/p234/p234_304_mic1.flac',) ('data/Indian/p248/p248_250_mic2.flac',) ('p249',) ('p234',) ('p249',) ('Scottish',) ('Indian',)\n",
      "('data/Irish/p283/p283_119_mic2.flac',) ('data/Irish/p283/p283_196_mic2.flac',) ('data/Irish/p245/p245_085_mic1.flac',) ('data/Indian/p251/p251_292_mic2.flac',) ('p283',) ('p245',) ('p283',) ('Irish',) ('Indian',)\n",
      "('data/Indian/p251/p251_091_mic1.flac',) ('data/Indian/p251/p251_367_mic1.flac',) ('data/Indian/p376/p376_159_mic2.flac',) ('data/American/p300/p300_074_mic1.flac',) ('p251',) ('p376',) ('p251',) ('Indian',) ('American',)\n",
      "('data/Scottish/p284/p284_410_mic1.flac',) ('data/Scottish/p284/p284_175_mic1.flac',) ('data/Scottish/p234/p234_197_mic1.flac',) ('data/Irish/p295/p295_315_mic1.flac',) ('p284',) ('p234',) ('p284',) ('Scottish',) ('Irish',)\n",
      "('data/Indian/p248/p248_027_mic1.flac',) ('data/Indian/p248/p248_176_mic2.flac',) ('data/Indian/p251/p251_356_mic2.flac',) ('data/Irish/p283/p283_058_mic1.flac',) ('p248',) ('p251',) ('p248',) ('Indian',) ('Irish',)\n",
      "('data/American/p301/p301_201_mic2.flac',) ('data/American/p301/p301_009_mic2.flac',) ('data/American/p300/p300_056_mic2.flac',) ('data/Irish/p283/p283_079_mic2.flac',) ('p301',) ('p300',) ('p301',) ('American',) ('Irish',)\n",
      "('data/Scottish/p237/p237_186_mic2.flac',) ('data/Scottish/p237/p237_285_mic2.flac',) ('data/Scottish/p234/p234_031_mic1.flac',) ('data/American/p300/p300_286_mic1.flac',) ('p237',) ('p234',) ('p237',) ('Scottish',) ('American',)\n",
      "('data/Scottish/p249/p249_109_mic1.flac',) ('data/Scottish/p249/p249_309_mic2.flac',) ('data/Scottish/p284/p284_217_mic2.flac',) ('data/Irish/p245/p245_284_mic1.flac',) ('p249',) ('p284',) ('p249',) ('Scottish',) ('Irish',)\n",
      "('data/Irish/p245/p245_041_mic1.flac',) ('data/Irish/p245/p245_012_mic1.flac',) ('data/Irish/p298/p298_139_mic2.flac',) ('data/Scottish/p237/p237_339_mic2.flac',) ('p245',) ('p298',) ('p245',) ('Irish',) ('Scottish',)\n",
      "('data/Irish/p295/p295_255_mic1.flac',) ('data/Irish/p295/p295_227_mic2.flac',) ('data/Irish/p298/p298_343_mic1.flac',) ('data/American/p299/p299_233_mic2.flac',) ('p295',) ('p298',) ('p295',) ('Irish',) ('American',)\n",
      "('data/Irish/p245/p245_220_mic2.flac',) ('data/Irish/p245/p245_058_mic1.flac',) ('data/Irish/p283/p283_023_mic1.flac',) ('data/American/p301/p301_103_mic2.flac',) ('p245',) ('p283',) ('p245',) ('Irish',) ('American',)\n",
      "('data/Indian/p376/p376_395_mic2.flac',) ('data/Indian/p376/p376_116_mic2.flac',) ('data/Indian/p248/p248_350_mic1.flac',) ('data/American/p301/p301_192_mic2.flac',) ('p376',) ('p248',) ('p376',) ('Indian',) ('American',)\n",
      "('data/Irish/p298/p298_364_mic2.flac',) ('data/Irish/p298/p298_310_mic1.flac',) ('data/Irish/p295/p295_366_mic1.flac',) ('data/Scottish/p237/p237_201_mic2.flac',) ('p298',) ('p295',) ('p298',) ('Irish',) ('Scottish',)\n",
      "('data/Scottish/p234/p234_282_mic1.flac',) ('data/Scottish/p234/p234_038_mic2.flac',) ('data/Scottish/p237/p237_136_mic2.flac',) ('data/Irish/p245/p245_004_mic1.flac',) ('p234',) ('p237',) ('p234',) ('Scottish',) ('Irish',)\n",
      "('data/Indian/p248/p248_360_mic2.flac',) ('data/Indian/p248/p248_156_mic2.flac',) ('data/Indian/p376/p376_035_mic2.flac',) ('data/American/p301/p301_248_mic1.flac',) ('p248',) ('p376',) ('p248',) ('Indian',) ('American',)\n",
      "('data/Irish/p245/p245_028_mic1.flac',) ('data/Irish/p245/p245_084_mic1.flac',) ('data/Irish/p295/p295_050_mic2.flac',) ('data/Indian/p248/p248_154_mic2.flac',) ('p245',) ('p295',) ('p245',) ('Irish',) ('Indian',)\n",
      "('data/Irish/p295/p295_269_mic1.flac',) ('data/Irish/p295/p295_304_mic2.flac',) ('data/Irish/p298/p298_075_mic2.flac',) ('data/American/p300/p300_269_mic1.flac',) ('p295',) ('p298',) ('p295',) ('Irish',) ('American',)\n",
      "('data/Scottish/p237/p237_173_mic2.flac',) ('data/Scottish/p237/p237_031_mic1.flac',) ('data/Scottish/p284/p284_177_mic1.flac',) ('data/Indian/p376/p376_095_mic1.flac',) ('p237',) ('p284',) ('p237',) ('Scottish',) ('Indian',)\n",
      "('data/Scottish/p284/p284_039_mic2.flac',) ('data/Scottish/p284/p284_390_mic1.flac',) ('data/Scottish/p249/p249_318_mic1.flac',) ('data/Irish/p295/p295_390_mic1.flac',) ('p284',) ('p249',) ('p284',) ('Scottish',) ('Irish',)\n",
      "('data/Irish/p245/p245_287_mic2.flac',) ('data/Irish/p245/p245_079_mic1.flac',) ('data/Irish/p298/p298_019_mic2.flac',) ('data/Indian/p248/p248_248_mic1.flac',) ('p245',) ('p298',) ('p245',) ('Irish',) ('Indian',)\n",
      "('data/Irish/p295/p295_388_mic1.flac',) ('data/Irish/p295/p295_253_mic1.flac',) ('data/Irish/p245/p245_240_mic1.flac',) ('data/Indian/p376/p376_423_mic2.flac',) ('p295',) ('p245',) ('p295',) ('Irish',) ('Indian',)\n"
     ]
    },
    {
     "name": "stdout",
     "output_type": "stream",
     "text": [
      "('data/Scottish/p237/p237_232_mic1.flac',) ('data/Scottish/p237/p237_198_mic1.flac',) ('data/Scottish/p249/p249_143_mic2.flac',) ('data/Irish/p283/p283_206_mic2.flac',) ('p237',) ('p249',) ('p237',) ('Scottish',) ('Irish',)\n",
      "('data/Indian/p376/p376_286_mic1.flac',) ('data/Indian/p376/p376_343_mic2.flac',) ('data/Indian/p248/p248_122_mic2.flac',) ('data/American/p301/p301_406_mic2.flac',) ('p376',) ('p248',) ('p376',) ('Indian',) ('American',)\n",
      "('data/Scottish/p234/p234_139_mic2.flac',) ('data/Scottish/p234/p234_017_mic2.flac',) ('data/Scottish/p249/p249_317_mic2.flac',) ('data/Indian/p376/p376_204_mic1.flac',) ('p234',) ('p249',) ('p234',) ('Scottish',) ('Indian',)\n",
      "('data/Irish/p283/p283_466_mic1.flac',) ('data/Irish/p283/p283_331_mic1.flac',) ('data/Irish/p245/p245_113_mic2.flac',) ('data/Scottish/p249/p249_212_mic2.flac',) ('p283',) ('p245',) ('p283',) ('Irish',) ('Scottish',)\n",
      "('data/Indian/p248/p248_279_mic2.flac',) ('data/Indian/p248/p248_334_mic1.flac',) ('data/Indian/p251/p251_241_mic1.flac',) ('data/American/p300/p300_045_mic2.flac',) ('p248',) ('p251',) ('p248',) ('Indian',) ('American',)\n",
      "('data/American/p301/p301_230_mic2.flac',) ('data/American/p301/p301_105_mic1.flac',) ('data/American/p299/p299_033_mic2.flac',) ('data/Indian/p248/p248_163_mic2.flac',) ('p301',) ('p299',) ('p301',) ('American',) ('Indian',)\n",
      "('data/Indian/p251/p251_069_mic2.flac',) ('data/Indian/p251/p251_190_mic2.flac',) ('data/Indian/p376/p376_307_mic1.flac',) ('data/Scottish/p249/p249_124_mic1.flac',) ('p251',) ('p376',) ('p251',) ('Indian',) ('Scottish',)\n",
      "('data/Irish/p295/p295_157_mic1.flac',) ('data/Irish/p295/p295_275_mic2.flac',) ('data/Irish/p298/p298_293_mic2.flac',) ('data/Scottish/p284/p284_332_mic2.flac',) ('p295',) ('p298',) ('p295',) ('Irish',) ('Scottish',)\n",
      "('data/Irish/p283/p283_035_mic1.flac',) ('data/Irish/p283/p283_233_mic1.flac',) ('data/Irish/p295/p295_065_mic2.flac',) ('data/American/p299/p299_242_mic2.flac',) ('p283',) ('p295',) ('p283',) ('Irish',) ('American',)\n",
      "('data/American/p300/p300_002_mic1.flac',) ('data/American/p300/p300_341_mic2.flac',) ('data/American/p301/p301_131_mic2.flac',) ('data/Irish/p245/p245_355_mic1.flac',) ('p300',) ('p301',) ('p300',) ('American',) ('Irish',)\n",
      "('data/American/p301/p301_060_mic2.flac',) ('data/American/p301/p301_386_mic1.flac',) ('data/American/p299/p299_086_mic1.flac',) ('data/Irish/p283/p283_349_mic1.flac',) ('p301',) ('p299',) ('p301',) ('American',) ('Irish',)\n",
      "('data/American/p300/p300_200_mic1.flac',) ('data/American/p300/p300_283_mic2.flac',) ('data/American/p301/p301_065_mic2.flac',) ('data/Indian/p251/p251_132_mic2.flac',) ('p300',) ('p301',) ('p300',) ('American',) ('Indian',)\n",
      "('data/American/p300/p300_050_mic1.flac',) ('data/American/p300/p300_081_mic1.flac',) ('data/American/p301/p301_041_mic1.flac',) ('data/Scottish/p249/p249_105_mic1.flac',) ('p300',) ('p301',) ('p300',) ('American',) ('Scottish',)\n",
      "('data/Irish/p283/p283_424_mic1.flac',) ('data/Irish/p283/p283_395_mic2.flac',) ('data/Irish/p245/p245_088_mic1.flac',) ('data/Indian/p376/p376_093_mic2.flac',) ('p283',) ('p245',) ('p283',) ('Irish',) ('Indian',)\n",
      "('data/Indian/p251/p251_343_mic2.flac',) ('data/Indian/p251/p251_160_mic1.flac',) ('data/Indian/p248/p248_369_mic2.flac',) ('data/Scottish/p284/p284_079_mic1.flac',) ('p251',) ('p248',) ('p251',) ('Indian',) ('Scottish',)\n",
      "('data/American/p299/p299_340_mic2.flac',) ('data/American/p299/p299_360_mic1.flac',) ('data/American/p300/p300_234_mic2.flac',) ('data/Scottish/p234/p234_286_mic2.flac',) ('p299',) ('p300',) ('p299',) ('American',) ('Scottish',)\n",
      "('data/Irish/p283/p283_263_mic2.flac',) ('data/Irish/p283/p283_312_mic2.flac',) ('data/Irish/p298/p298_228_mic1.flac',) ('data/American/p299/p299_381_mic2.flac',) ('p283',) ('p298',) ('p283',) ('Irish',) ('American',)\n",
      "('data/American/p299/p299_287_mic2.flac',) ('data/American/p299/p299_390_mic1.flac',) ('data/American/p300/p300_294_mic1.flac',) ('data/Scottish/p234/p234_284_mic2.flac',) ('p299',) ('p300',) ('p299',) ('American',) ('Scottish',)\n",
      "('data/Scottish/p234/p234_358_mic2.flac',) ('data/Scottish/p234/p234_061_mic1.flac',) ('data/Scottish/p249/p249_107_mic1.flac',) ('data/Indian/p248/p248_103_mic2.flac',) ('p234',) ('p249',) ('p234',) ('Scottish',) ('Indian',)\n",
      "('data/American/p301/p301_085_mic2.flac',) ('data/American/p301/p301_351_mic2.flac',) ('data/American/p299/p299_216_mic2.flac',) ('data/Indian/p251/p251_287_mic1.flac',) ('p301',) ('p299',) ('p301',) ('American',) ('Indian',)\n",
      "('data/Scottish/p237/p237_083_mic1.flac',) ('data/Scottish/p237/p237_053_mic1.flac',) ('data/Scottish/p284/p284_360_mic1.flac',) ('data/Irish/p298/p298_075_mic1.flac',) ('p237',) ('p284',) ('p237',) ('Scottish',) ('Irish',)\n",
      "('data/Irish/p295/p295_325_mic1.flac',) ('data/Irish/p295/p295_084_mic1.flac',) ('data/Irish/p283/p283_425_mic2.flac',) ('data/Indian/p248/p248_201_mic2.flac',) ('p295',) ('p283',) ('p295',) ('Irish',) ('Indian',)\n",
      "('data/Scottish/p237/p237_211_mic2.flac',) ('data/Scottish/p237/p237_255_mic1.flac',) ('data/Scottish/p249/p249_262_mic2.flac',) ('data/Indian/p251/p251_314_mic2.flac',) ('p237',) ('p249',) ('p237',) ('Scottish',) ('Indian',)\n",
      "('data/Indian/p251/p251_139_mic2.flac',) ('data/Indian/p251/p251_061_mic1.flac',) ('data/Indian/p376/p376_263_mic1.flac',) ('data/American/p299/p299_213_mic2.flac',) ('p251',) ('p376',) ('p251',) ('Indian',) ('American',)\n",
      "('data/Scottish/p249/p249_059_mic1.flac',) ('data/Scottish/p249/p249_201_mic1.flac',) ('data/Scottish/p234/p234_193_mic2.flac',) ('data/Irish/p245/p245_338_mic2.flac',) ('p249',) ('p234',) ('p249',) ('Scottish',) ('Irish',)\n",
      "('data/Indian/p251/p251_192_mic1.flac',) ('data/Indian/p251/p251_129_mic1.flac',) ('data/Indian/p376/p376_271_mic2.flac',) ('data/Scottish/p237/p237_246_mic2.flac',) ('p251',) ('p376',) ('p251',) ('Indian',) ('Scottish',)\n",
      "('data/Irish/p283/p283_021_mic1.flac',) ('data/Irish/p283/p283_107_mic2.flac',) ('data/Irish/p245/p245_345_mic1.flac',) ('data/Scottish/p249/p249_270_mic2.flac',) ('p283',) ('p245',) ('p283',) ('Irish',) ('Scottish',)\n",
      "('data/American/p300/p300_180_mic1.flac',) ('data/American/p300/p300_366_mic2.flac',) ('data/American/p299/p299_375_mic2.flac',) ('data/Indian/p376/p376_115_mic1.flac',) ('p300',) ('p299',) ('p300',) ('American',) ('Indian',)\n",
      "('data/American/p301/p301_014_mic2.flac',) ('data/American/p301/p301_158_mic1.flac',) ('data/American/p299/p299_266_mic2.flac',) ('data/Scottish/p249/p249_286_mic1.flac',) ('p301',) ('p299',) ('p301',) ('American',) ('Scottish',)\n",
      "('data/Irish/p298/p298_172_mic2.flac',) ('data/Irish/p298/p298_138_mic2.flac',) ('data/Irish/p295/p295_341_mic1.flac',) ('data/Indian/p251/p251_212_mic1.flac',) ('p298',) ('p295',) ('p298',) ('Irish',) ('Indian',)\n",
      "('data/Irish/p298/p298_404_mic2.flac',) ('data/Irish/p298/p298_228_mic2.flac',) ('data/Irish/p245/p245_222_mic2.flac',) ('data/Scottish/p249/p249_071_mic1.flac',) ('p298',) ('p245',) ('p298',) ('Irish',) ('Scottish',)\n",
      "('data/Scottish/p249/p249_171_mic1.flac',) ('data/Scottish/p249/p249_066_mic2.flac',) ('data/Scottish/p237/p237_108_mic2.flac',) ('data/Irish/p298/p298_260_mic2.flac',) ('p249',) ('p237',) ('p249',) ('Scottish',) ('Irish',)\n",
      "('data/Indian/p251/p251_047_mic1.flac',) ('data/Indian/p251/p251_043_mic1.flac',) ('data/Indian/p376/p376_288_mic1.flac',) ('data/Scottish/p249/p249_138_mic1.flac',) ('p251',) ('p376',) ('p251',) ('Indian',) ('Scottish',)\n",
      "('data/Scottish/p237/p237_341_mic2.flac',) ('data/Scottish/p237/p237_065_mic1.flac',) ('data/Scottish/p284/p284_155_mic2.flac',) ('data/American/p300/p300_114_mic1.flac',) ('p237',) ('p284',) ('p237',) ('Scottish',) ('American',)\n",
      "('data/Scottish/p237/p237_128_mic1.flac',) ('data/Scottish/p237/p237_348_mic1.flac',) ('data/Scottish/p284/p284_068_mic1.flac',) ('data/American/p300/p300_083_mic1.flac',) ('p237',) ('p284',) ('p237',) ('Scottish',) ('American',)\n",
      "('data/Irish/p283/p283_304_mic1.flac',) ('data/Irish/p283/p283_259_mic1.flac',) ('data/Irish/p298/p298_208_mic1.flac',) ('data/Indian/p251/p251_008_mic2.flac',) ('p283',) ('p298',) ('p283',) ('Irish',) ('Indian',)\n",
      "('data/Indian/p251/p251_165_mic1.flac',) ('data/Indian/p251/p251_248_mic1.flac',) ('data/Indian/p376/p376_094_mic2.flac',) ('data/American/p299/p299_029_mic2.flac',) ('p251',) ('p376',) ('p251',) ('Indian',) ('American',)\n",
      "('data/Irish/p298/p298_170_mic2.flac',) ('data/Irish/p298/p298_092_mic2.flac',) ('data/Irish/p245/p245_176_mic2.flac',) ('data/Indian/p248/p248_103_mic1.flac',) ('p298',) ('p245',) ('p298',) ('Irish',) ('Indian',)\n",
      "('data/American/p300/p300_077_mic1.flac',) ('data/American/p300/p300_373_mic2.flac',) ('data/American/p301/p301_265_mic1.flac',) ('data/Indian/p251/p251_032_mic1.flac',) ('p300',) ('p301',) ('p300',) ('American',) ('Indian',)\n",
      "('data/Indian/p248/p248_139_mic2.flac',) ('data/Indian/p248/p248_270_mic1.flac',) ('data/Indian/p376/p376_296_mic2.flac',) ('data/American/p300/p300_101_mic1.flac',) ('p248',) ('p376',) ('p248',) ('Indian',) ('American',)\n",
      "('data/Scottish/p284/p284_397_mic1.flac',) ('data/Scottish/p284/p284_102_mic1.flac',) ('data/Scottish/p234/p234_032_mic2.flac',) ('data/American/p301/p301_041_mic2.flac',) ('p284',) ('p234',) ('p284',) ('Scottish',) ('American',)\n",
      "('data/Indian/p376/p376_215_mic2.flac',) ('data/Indian/p376/p376_187_mic2.flac',) ('data/Indian/p248/p248_028_mic1.flac',) ('data/Irish/p283/p283_218_mic1.flac',) ('p376',) ('p248',) ('p376',) ('Indian',) ('Irish',)\n",
      "('data/Indian/p248/p248_335_mic1.flac',) ('data/Indian/p248/p248_237_mic1.flac',) ('data/Indian/p251/p251_066_mic2.flac',) ('data/American/p299/p299_149_mic2.flac',) ('p248',) ('p251',) ('p248',) ('Indian',) ('American',)\n",
      "('data/Irish/p283/p283_243_mic2.flac',) ('data/Irish/p283/p283_234_mic1.flac',) ('data/Irish/p298/p298_362_mic2.flac',) ('data/Scottish/p237/p237_081_mic2.flac',) ('p283',) ('p298',) ('p283',) ('Irish',) ('Scottish',)\n",
      "('data/Irish/p283/p283_236_mic2.flac',) ('data/Irish/p283/p283_060_mic2.flac',) ('data/Irish/p295/p295_032_mic2.flac',) ('data/Scottish/p237/p237_340_mic1.flac',) ('p283',) ('p295',) ('p283',) ('Irish',) ('Scottish',)\n",
      "('data/American/p300/p300_243_mic1.flac',) ('data/American/p300/p300_006_mic2.flac',) ('data/American/p299/p299_330_mic1.flac',) ('data/Indian/p248/p248_112_mic1.flac',) ('p300',) ('p299',) ('p300',) ('American',) ('Indian',)\n",
      "('data/Scottish/p284/p284_349_mic2.flac',) ('data/Scottish/p284/p284_145_mic2.flac',) ('data/Scottish/p237/p237_141_mic2.flac',) ('data/Irish/p245/p245_177_mic1.flac',) ('p284',) ('p237',) ('p284',) ('Scottish',) ('Irish',)\n",
      "('data/Scottish/p237/p237_141_mic2.flac',) ('data/Scottish/p237/p237_193_mic1.flac',) ('data/Scottish/p234/p234_030_mic1.flac',) ('data/American/p301/p301_164_mic1.flac',) ('p237',) ('p234',) ('p237',) ('Scottish',) ('American',)\n",
      "('data/Irish/p295/p295_263_mic1.flac',) ('data/Irish/p295/p295_364_mic2.flac',) ('data/Irish/p298/p298_372_mic1.flac',) ('data/Scottish/p234/p234_043_mic2.flac',) ('p295',) ('p298',) ('p295',) ('Irish',) ('Scottish',)\n",
      "('data/Irish/p283/p283_392_mic2.flac',) ('data/Irish/p283/p283_093_mic1.flac',) ('data/Irish/p245/p245_062_mic2.flac',) ('data/American/p300/p300_058_mic1.flac',) ('p283',) ('p245',) ('p283',) ('Irish',) ('American',)\n",
      "('data/Indian/p251/p251_024_mic1.flac',) ('data/Indian/p251/p251_017_mic1.flac',) ('data/Indian/p248/p248_365_mic2.flac',) ('data/Irish/p245/p245_033_mic1.flac',) ('p251',) ('p248',) ('p251',) ('Indian',) ('Irish',)\n",
      "('data/Indian/p251/p251_300_mic2.flac',) ('data/Indian/p251/p251_248_mic1.flac',) ('data/Indian/p376/p376_213_mic2.flac',) ('data/American/p301/p301_248_mic2.flac',) ('p251',) ('p376',) ('p251',) ('Indian',) ('American',)\n",
      "('data/Indian/p251/p251_087_mic2.flac',) ('data/Indian/p251/p251_119_mic2.flac',) ('data/Indian/p248/p248_366_mic1.flac',) ('data/American/p301/p301_088_mic1.flac',) ('p251',) ('p248',) ('p251',) ('Indian',) ('American',)\n",
      "('data/American/p300/p300_333_mic2.flac',) ('data/American/p300/p300_057_mic1.flac',) ('data/American/p301/p301_135_mic1.flac',) ('data/Indian/p251/p251_293_mic2.flac',) ('p300',) ('p301',) ('p300',) ('American',) ('Indian',)\n",
      "('data/American/p301/p301_223_mic2.flac',) ('data/American/p301/p301_255_mic2.flac',) ('data/American/p299/p299_312_mic2.flac',) ('data/Irish/p298/p298_202_mic2.flac',) ('p301',) ('p299',) ('p301',) ('American',) ('Irish',)\n",
      "('data/Indian/p376/p376_172_mic1.flac',) ('data/Indian/p376/p376_006_mic1.flac',) ('data/Indian/p251/p251_136_mic2.flac',) ('data/American/p299/p299_259_mic2.flac',) ('p376',) ('p251',) ('p376',) ('Indian',) ('American',)\n",
      "('data/Irish/p283/p283_273_mic1.flac',) ('data/Irish/p283/p283_167_mic2.flac',) ('data/Irish/p298/p298_320_mic1.flac',) ('data/Scottish/p284/p284_358_mic1.flac',) ('p283',) ('p298',) ('p283',) ('Irish',) ('Scottish',)\n",
      "('data/Irish/p298/p298_001_mic1.flac',) ('data/Irish/p298/p298_069_mic1.flac',) ('data/Irish/p283/p283_349_mic2.flac',) ('data/American/p300/p300_032_mic2.flac',) ('p298',) ('p283',) ('p298',) ('Irish',) ('American',)\n",
      "('data/Irish/p245/p245_233_mic2.flac',) ('data/Irish/p245/p245_048_mic2.flac',) ('data/Irish/p283/p283_300_mic1.flac',) ('data/Scottish/p237/p237_219_mic2.flac',) ('p245',) ('p283',) ('p245',) ('Irish',) ('Scottish',)\n",
      "('data/American/p301/p301_067_mic1.flac',) ('data/American/p301/p301_082_mic2.flac',) ('data/American/p300/p300_290_mic2.flac',) ('data/Indian/p376/p376_293_mic1.flac',) ('p301',) ('p300',) ('p301',) ('American',) ('Indian',)\n",
      "('data/Scottish/p249/p249_115_mic2.flac',) ('data/Scottish/p249/p249_181_mic1.flac',) ('data/Scottish/p284/p284_139_mic2.flac',) ('data/Irish/p283/p283_248_mic2.flac',) ('p249',) ('p284',) ('p249',) ('Scottish',) ('Irish',)\n",
      "('data/American/p300/p300_312_mic2.flac',) ('data/American/p300/p300_063_mic2.flac',) ('data/American/p301/p301_247_mic1.flac',) ('data/Indian/p376/p376_262_mic1.flac',) ('p300',) ('p301',) ('p300',) ('American',) ('Indian',)\n",
      "('data/Irish/p295/p295_239_mic1.flac',) ('data/Irish/p295/p295_391_mic2.flac',) ('data/Irish/p298/p298_239_mic2.flac',) ('data/Indian/p248/p248_262_mic1.flac',) ('p295',) ('p298',) ('p295',) ('Irish',) ('Indian',)\n",
      "('data/American/p300/p300_038_mic1.flac',) ('data/American/p300/p300_335_mic2.flac',) ('data/American/p299/p299_403_mic2.flac',) ('data/Scottish/p249/p249_107_mic2.flac',) ('p300',) ('p299',) ('p300',) ('American',) ('Scottish',)\n",
      "('data/American/p301/p301_066_mic1.flac',) ('data/American/p301/p301_355_mic2.flac',) ('data/American/p300/p300_037_mic1.flac',) ('data/Irish/p298/p298_298_mic2.flac',) ('p301',) ('p300',) ('p301',) ('American',) ('Irish',)\n",
      "('data/American/p299/p299_400_mic1.flac',) ('data/American/p299/p299_343_mic1.flac',) ('data/American/p301/p301_250_mic1.flac',) ('data/Indian/p251/p251_188_mic2.flac',) ('p299',) ('p301',) ('p299',) ('American',) ('Indian',)\n",
      "('data/Irish/p295/p295_368_mic1.flac',) ('data/Irish/p295/p295_089_mic1.flac',) ('data/Irish/p283/p283_399_mic2.flac',) ('data/Scottish/p237/p237_052_mic2.flac',) ('p295',) ('p283',) ('p295',) ('Irish',) ('Scottish',)\n",
      "('data/Irish/p283/p283_289_mic1.flac',) ('data/Irish/p283/p283_397_mic1.flac',) ('data/Irish/p298/p298_033_mic2.flac',) ('data/American/p301/p301_047_mic1.flac',) ('p283',) ('p298',) ('p283',) ('Irish',) ('American',)\n",
      "('data/Irish/p283/p283_274_mic2.flac',) ('data/Irish/p283/p283_291_mic2.flac',) ('data/Irish/p298/p298_075_mic1.flac',) ('data/Indian/p251/p251_337_mic1.flac',) ('p283',) ('p298',) ('p283',) ('Irish',) ('Indian',)\n",
      "('data/Scottish/p234/p234_129_mic1.flac',) ('data/Scottish/p234/p234_124_mic1.flac',) ('data/Scottish/p284/p284_076_mic2.flac',) ('data/Indian/p251/p251_195_mic1.flac',) ('p234',) ('p284',) ('p234',) ('Scottish',) ('Indian',)\n",
      "('data/Irish/p283/p283_109_mic2.flac',) ('data/Irish/p283/p283_405_mic1.flac',) ('data/Irish/p245/p245_319_mic2.flac',) ('data/Indian/p251/p251_137_mic1.flac',) ('p283',) ('p245',) ('p283',) ('Irish',) ('Indian',)\n",
      "('data/Indian/p376/p376_229_mic2.flac',) ('data/Indian/p376/p376_049_mic1.flac',) ('data/Indian/p248/p248_178_mic2.flac',) ('data/American/p301/p301_229_mic1.flac',) ('p376',) ('p248',) ('p376',) ('Indian',) ('American',)\n",
      "('data/Irish/p298/p298_224_mic1.flac',) ('data/Irish/p298/p298_141_mic2.flac',) ('data/Irish/p283/p283_060_mic1.flac',) ('data/American/p299/p299_204_mic2.flac',) ('p298',) ('p283',) ('p298',) ('Irish',) ('American',)\n",
      "('data/American/p300/p300_209_mic2.flac',) ('data/American/p300/p300_026_mic2.flac',) ('data/American/p299/p299_172_mic1.flac',) ('data/Scottish/p249/p249_252_mic2.flac',) ('p300',) ('p299',) ('p300',) ('American',) ('Scottish',)\n",
      "('data/Scottish/p234/p234_247_mic1.flac',) ('data/Scottish/p234/p234_177_mic2.flac',) ('data/Scottish/p249/p249_192_mic1.flac',) ('data/Indian/p248/p248_260_mic1.flac',) ('p234',) ('p249',) ('p234',) ('Scottish',) ('Indian',)\n",
      "('data/American/p301/p301_273_mic2.flac',) ('data/American/p301/p301_333_mic1.flac',) ('data/American/p300/p300_166_mic1.flac',) ('data/Irish/p283/p283_232_mic2.flac',) ('p301',) ('p300',) ('p301',) ('American',) ('Irish',)\n",
      "('data/Scottish/p237/p237_283_mic2.flac',) ('data/Scottish/p237/p237_159_mic1.flac',) ('data/Scottish/p284/p284_214_mic2.flac',) ('data/Irish/p298/p298_105_mic2.flac',) ('p237',) ('p284',) ('p237',) ('Scottish',) ('Irish',)\n",
      "('data/Irish/p283/p283_126_mic1.flac',) ('data/Irish/p283/p283_253_mic1.flac',) ('data/Irish/p245/p245_265_mic1.flac',) ('data/American/p299/p299_128_mic2.flac',) ('p283',) ('p245',) ('p283',) ('Irish',) ('American',)\n",
      "('data/Scottish/p284/p284_211_mic1.flac',) ('data/Scottish/p284/p284_124_mic2.flac',) ('data/Scottish/p249/p249_270_mic2.flac',) ('data/Indian/p248/p248_163_mic1.flac',) ('p284',) ('p249',) ('p284',) ('Scottish',) ('Indian',)\n",
      "('data/Indian/p376/p376_272_mic1.flac',) ('data/Indian/p376/p376_095_mic2.flac',) ('data/Indian/p251/p251_089_mic1.flac',) ('data/Scottish/p234/p234_320_mic2.flac',) ('p376',) ('p251',) ('p376',) ('Indian',) ('Scottish',)\n",
      "('data/Scottish/p237/p237_042_mic1.flac',) ('data/Scottish/p237/p237_125_mic2.flac',) ('data/Scottish/p249/p249_121_mic1.flac',) ('data/Indian/p248/p248_169_mic1.flac',) ('p237',) ('p249',) ('p237',) ('Scottish',) ('Indian',)\n",
      "('data/Scottish/p234/p234_153_mic2.flac',) ('data/Scottish/p234/p234_155_mic2.flac',) ('data/Scottish/p237/p237_119_mic1.flac',) ('data/American/p299/p299_308_mic1.flac',) ('p234',) ('p237',) ('p234',) ('Scottish',) ('American',)\n",
      "('data/Scottish/p284/p284_110_mic1.flac',) ('data/Scottish/p284/p284_317_mic1.flac',) ('data/Scottish/p249/p249_314_mic1.flac',) ('data/American/p299/p299_311_mic1.flac',) ('p284',) ('p249',) ('p284',) ('Scottish',) ('American',)\n",
      "('data/Scottish/p237/p237_257_mic1.flac',) ('data/Scottish/p237/p237_246_mic1.flac',) ('data/Scottish/p234/p234_094_mic1.flac',) ('data/Indian/p251/p251_070_mic1.flac',) ('p237',) ('p234',) ('p237',) ('Scottish',) ('Indian',)\n",
      "('data/Irish/p298/p298_169_mic2.flac',) ('data/Irish/p298/p298_145_mic1.flac',) ('data/Irish/p283/p283_186_mic1.flac',) ('data/Scottish/p237/p237_054_mic1.flac',) ('p298',) ('p283',) ('p298',) ('Irish',) ('Scottish',)\n",
      "('data/Scottish/p249/p249_280_mic1.flac',) ('data/Scottish/p249/p249_279_mic1.flac',) ('data/Scottish/p284/p284_302_mic2.flac',) ('data/American/p299/p299_324_mic2.flac',) ('p249',) ('p284',) ('p249',) ('Scottish',) ('American',)\n",
      "('data/Indian/p376/p376_071_mic1.flac',) ('data/Indian/p376/p376_424_mic2.flac',) ('data/Indian/p248/p248_179_mic2.flac',) ('data/American/p299/p299_072_mic2.flac',) ('p376',) ('p248',) ('p376',) ('Indian',) ('American',)\n",
      "('data/Irish/p245/p245_251_mic2.flac',) ('data/Irish/p245/p245_056_mic2.flac',) ('data/Irish/p298/p298_308_mic2.flac',) ('data/American/p300/p300_390_mic2.flac',) ('p245',) ('p298',) ('p245',) ('Irish',) ('American',)\n",
      "('data/American/p301/p301_151_mic2.flac',) ('data/American/p301/p301_185_mic1.flac',) ('data/American/p300/p300_387_mic1.flac',) ('data/Irish/p283/p283_092_mic1.flac',) ('p301',) ('p300',) ('p301',) ('American',) ('Irish',)\n",
      "('data/Indian/p248/p248_068_mic2.flac',) ('data/Indian/p248/p248_104_mic1.flac',) ('data/Indian/p251/p251_273_mic2.flac',) ('data/American/p300/p300_036_mic1.flac',) ('p248',) ('p251',) ('p248',) ('Indian',) ('American',)\n",
      "('data/Scottish/p237/p237_126_mic1.flac',) ('data/Scottish/p237/p237_012_mic2.flac',) ('data/Scottish/p249/p249_138_mic2.flac',) ('data/American/p301/p301_164_mic2.flac',) ('p237',) ('p249',) ('p237',) ('Scottish',) ('American',)\n",
      "('data/Indian/p248/p248_152_mic1.flac',) ('data/Indian/p248/p248_013_mic1.flac',) ('data/Indian/p251/p251_301_mic1.flac',) ('data/Irish/p245/p245_325_mic1.flac',) ('p248',) ('p251',) ('p248',) ('Indian',) ('Irish',)\n",
      "('data/Scottish/p234/p234_310_mic1.flac',) ('data/Scottish/p234/p234_001_mic2.flac',) ('data/Scottish/p237/p237_196_mic2.flac',) ('data/American/p301/p301_281_mic1.flac',) ('p234',) ('p237',) ('p234',) ('Scottish',) ('American',)\n",
      "('data/Irish/p283/p283_254_mic2.flac',) ('data/Irish/p283/p283_141_mic2.flac',) ('data/Irish/p298/p298_194_mic1.flac',) ('data/Indian/p251/p251_217_mic1.flac',) ('p283',) ('p298',) ('p283',) ('Irish',) ('Indian',)\n",
      "('data/Irish/p245/p245_291_mic2.flac',) ('data/Irish/p245/p245_301_mic1.flac',) ('data/Irish/p295/p295_063_mic2.flac',) ('data/Indian/p251/p251_155_mic1.flac',) ('p245',) ('p295',) ('p245',) ('Irish',) ('Indian',)\n",
      "('data/Scottish/p284/p284_262_mic1.flac',) ('data/Scottish/p284/p284_230_mic2.flac',) ('data/Scottish/p249/p249_266_mic2.flac',) ('data/Indian/p376/p376_263_mic2.flac',) ('p284',) ('p249',) ('p284',) ('Scottish',) ('Indian',)\n",
      "('data/Indian/p376/p376_255_mic1.flac',) ('data/Indian/p376/p376_140_mic1.flac',) ('data/Indian/p251/p251_021_mic2.flac',) ('data/Scottish/p234/p234_334_mic1.flac',) ('p376',) ('p251',) ('p376',) ('Indian',) ('Scottish',)\n",
      "('data/Scottish/p284/p284_131_mic1.flac',) ('data/Scottish/p284/p284_132_mic2.flac',) ('data/Scottish/p237/p237_268_mic2.flac',) ('data/Irish/p283/p283_403_mic2.flac',) ('p284',) ('p237',) ('p284',) ('Scottish',) ('Irish',)\n",
      "('data/Irish/p298/p298_135_mic2.flac',) ('data/Irish/p298/p298_072_mic2.flac',) ('data/Irish/p245/p245_215_mic2.flac',) ('data/Indian/p248/p248_119_mic1.flac',) ('p298',) ('p245',) ('p298',) ('Irish',) ('Indian',)\n",
      "('data/Scottish/p237/p237_193_mic1.flac',) ('data/Scottish/p237/p237_059_mic2.flac',) ('data/Scottish/p234/p234_203_mic1.flac',) ('data/American/p300/p300_134_mic1.flac',) ('p237',) ('p234',) ('p237',) ('Scottish',) ('American',)\n",
      "('data/Scottish/p234/p234_268_mic2.flac',) ('data/Scottish/p234/p234_056_mic2.flac',) ('data/Scottish/p284/p284_380_mic2.flac',) ('data/Irish/p298/p298_026_mic1.flac',) ('p234',) ('p284',) ('p234',) ('Scottish',) ('Irish',)\n",
      "('data/American/p300/p300_052_mic2.flac',) ('data/American/p300/p300_182_mic2.flac',) ('data/American/p299/p299_162_mic2.flac',) ('data/Indian/p376/p376_271_mic1.flac',) ('p300',) ('p299',) ('p300',) ('American',) ('Indian',)\n",
      "('data/American/p299/p299_348_mic1.flac',) ('data/American/p299/p299_268_mic1.flac',) ('data/American/p301/p301_390_mic2.flac',) ('data/Scottish/p234/p234_344_mic2.flac',) ('p299',) ('p301',) ('p299',) ('American',) ('Scottish',)\n",
      "('data/Indian/p248/p248_061_mic2.flac',) ('data/Indian/p248/p248_005_mic2.flac',) ('data/Indian/p376/p376_341_mic1.flac',) ('data/Scottish/p234/p234_193_mic1.flac',) ('p248',) ('p376',) ('p248',) ('Indian',) ('Scottish',)\n",
      "('data/American/p299/p299_350_mic2.flac',) ('data/American/p299/p299_350_mic1.flac',) ('data/American/p301/p301_332_mic2.flac',) ('data/Indian/p376/p376_113_mic1.flac',) ('p299',) ('p301',) ('p299',) ('American',) ('Indian',)\n",
      "('data/American/p301/p301_377_mic2.flac',) ('data/American/p301/p301_379_mic1.flac',) ('data/American/p300/p300_199_mic1.flac',) ('data/Indian/p248/p248_306_mic1.flac',) ('p301',) ('p300',) ('p301',) ('American',) ('Indian',)\n",
      "('data/Indian/p376/p376_051_mic2.flac',) ('data/Indian/p376/p376_053_mic1.flac',) ('data/Indian/p248/p248_115_mic1.flac',) ('data/Irish/p298/p298_012_mic2.flac',) ('p376',) ('p248',) ('p376',) ('Indian',) ('Irish',)\n",
      "('data/Indian/p376/p376_072_mic2.flac',) ('data/Indian/p376/p376_382_mic1.flac',) ('data/Indian/p248/p248_119_mic2.flac',) ('data/Scottish/p284/p284_176_mic2.flac',) ('p376',) ('p248',) ('p376',) ('Indian',) ('Scottish',)\n",
      "('data/Irish/p295/p295_130_mic2.flac',) ('data/Irish/p295/p295_235_mic2.flac',) ('data/Irish/p245/p245_272_mic2.flac',) ('data/Scottish/p284/p284_157_mic1.flac',) ('p295',) ('p245',) ('p295',) ('Irish',) ('Scottish',)\n",
      "('data/Scottish/p237/p237_240_mic1.flac',) ('data/Scottish/p237/p237_029_mic1.flac',) ('data/Scottish/p249/p249_186_mic2.flac',) ('data/Indian/p251/p251_227_mic2.flac',) ('p237',) ('p249',) ('p237',) ('Scottish',) ('Indian',)\n",
      "('data/Indian/p248/p248_009_mic1.flac',) ('data/Indian/p248/p248_236_mic1.flac',) ('data/Indian/p251/p251_090_mic1.flac',) ('data/Scottish/p249/p249_270_mic2.flac',) ('p248',) ('p251',) ('p248',) ('Indian',) ('Scottish',)\n",
      "('data/Indian/p248/p248_306_mic1.flac',) ('data/Indian/p248/p248_029_mic1.flac',) ('data/Indian/p251/p251_048_mic2.flac',) ('data/Irish/p295/p295_272_mic1.flac',) ('p248',) ('p251',) ('p248',) ('Indian',) ('Irish',)\n",
      "('data/Indian/p251/p251_058_mic2.flac',) ('data/Indian/p251/p251_351_mic2.flac',) ('data/Indian/p376/p376_075_mic2.flac',) ('data/American/p301/p301_239_mic1.flac',) ('p251',) ('p376',) ('p251',) ('Indian',) ('American',)\n"
     ]
    },
    {
     "name": "stdout",
     "output_type": "stream",
     "text": [
      "('data/Scottish/p234/p234_214_mic2.flac',) ('data/Scottish/p234/p234_126_mic1.flac',) ('data/Scottish/p237/p237_002_mic2.flac',) ('data/Irish/p283/p283_193_mic1.flac',) ('p234',) ('p237',) ('p234',) ('Scottish',) ('Irish',)\n",
      "('data/Scottish/p237/p237_097_mic2.flac',) ('data/Scottish/p237/p237_119_mic1.flac',) ('data/Scottish/p249/p249_187_mic2.flac',) ('data/Indian/p376/p376_013_mic1.flac',) ('p237',) ('p249',) ('p237',) ('Scottish',) ('Indian',)\n",
      "('data/American/p299/p299_375_mic1.flac',) ('data/American/p299/p299_285_mic2.flac',) ('data/American/p301/p301_166_mic1.flac',) ('data/Indian/p376/p376_278_mic1.flac',) ('p299',) ('p301',) ('p299',) ('American',) ('Indian',)\n",
      "('data/Indian/p251/p251_171_mic2.flac',) ('data/Indian/p251/p251_109_mic2.flac',) ('data/Indian/p248/p248_111_mic1.flac',) ('data/Scottish/p237/p237_311_mic1.flac',) ('p251',) ('p248',) ('p251',) ('Indian',) ('Scottish',)\n",
      "('data/Irish/p295/p295_169_mic1.flac',) ('data/Irish/p295/p295_407_mic2.flac',) ('data/Irish/p298/p298_085_mic1.flac',) ('data/American/p301/p301_324_mic1.flac',) ('p295',) ('p298',) ('p295',) ('Irish',) ('American',)\n",
      "('data/American/p299/p299_209_mic1.flac',) ('data/American/p299/p299_400_mic1.flac',) ('data/American/p300/p300_346_mic2.flac',) ('data/Scottish/p249/p249_173_mic2.flac',) ('p299',) ('p300',) ('p299',) ('American',) ('Scottish',)\n",
      "('data/Scottish/p234/p234_308_mic1.flac',) ('data/Scottish/p234/p234_314_mic1.flac',) ('data/Scottish/p284/p284_029_mic2.flac',) ('data/Indian/p251/p251_079_mic2.flac',) ('p234',) ('p284',) ('p234',) ('Scottish',) ('Indian',)\n",
      "('data/American/p301/p301_329_mic1.flac',) ('data/American/p301/p301_355_mic1.flac',) ('data/American/p300/p300_043_mic2.flac',) ('data/Irish/p245/p245_095_mic2.flac',) ('p301',) ('p300',) ('p301',) ('American',) ('Irish',)\n",
      "('data/Scottish/p284/p284_188_mic1.flac',) ('data/Scottish/p284/p284_090_mic2.flac',) ('data/Scottish/p234/p234_189_mic2.flac',) ('data/Indian/p376/p376_053_mic1.flac',) ('p284',) ('p234',) ('p284',) ('Scottish',) ('Indian',)\n",
      "('data/Indian/p251/p251_127_mic2.flac',) ('data/Indian/p251/p251_344_mic1.flac',) ('data/Indian/p376/p376_163_mic1.flac',) ('data/Irish/p245/p245_260_mic2.flac',) ('p251',) ('p376',) ('p251',) ('Indian',) ('Irish',)\n",
      "('data/Scottish/p284/p284_124_mic2.flac',) ('data/Scottish/p284/p284_058_mic2.flac',) ('data/Scottish/p237/p237_313_mic2.flac',) ('data/Irish/p283/p283_213_mic1.flac',) ('p284',) ('p237',) ('p284',) ('Scottish',) ('Irish',)\n",
      "('data/Irish/p283/p283_081_mic1.flac',) ('data/Irish/p283/p283_165_mic2.flac',) ('data/Irish/p298/p298_289_mic1.flac',) ('data/Scottish/p237/p237_085_mic1.flac',) ('p283',) ('p298',) ('p283',) ('Irish',) ('Scottish',)\n",
      "('data/American/p300/p300_148_mic2.flac',) ('data/American/p300/p300_322_mic1.flac',) ('data/American/p301/p301_195_mic1.flac',) ('data/Irish/p298/p298_205_mic1.flac',) ('p300',) ('p301',) ('p300',) ('American',) ('Irish',)\n",
      "('data/Scottish/p237/p237_109_mic1.flac',) ('data/Scottish/p237/p237_007_mic1.flac',) ('data/Scottish/p284/p284_420_mic2.flac',) ('data/Indian/p248/p248_088_mic1.flac',) ('p237',) ('p284',) ('p237',) ('Scottish',) ('Indian',)\n",
      "('data/American/p300/p300_375_mic2.flac',) ('data/American/p300/p300_212_mic1.flac',) ('data/American/p299/p299_391_mic2.flac',) ('data/Irish/p283/p283_261_mic2.flac',) ('p300',) ('p299',) ('p300',) ('American',) ('Irish',)\n",
      "('data/Indian/p376/p376_030_mic2.flac',) ('data/Indian/p376/p376_225_mic2.flac',) ('data/Indian/p248/p248_006_mic1.flac',) ('data/Scottish/p234/p234_086_mic1.flac',) ('p376',) ('p248',) ('p376',) ('Indian',) ('Scottish',)\n",
      "('data/Indian/p251/p251_324_mic2.flac',) ('data/Indian/p251/p251_141_mic2.flac',) ('data/Indian/p248/p248_035_mic1.flac',) ('data/Irish/p283/p283_159_mic2.flac',) ('p251',) ('p248',) ('p251',) ('Indian',) ('Irish',)\n",
      "('data/Indian/p251/p251_128_mic1.flac',) ('data/Indian/p251/p251_012_mic2.flac',) ('data/Indian/p248/p248_022_mic2.flac',) ('data/Irish/p295/p295_143_mic1.flac',) ('p251',) ('p248',) ('p251',) ('Indian',) ('Irish',)\n",
      "('data/Irish/p245/p245_291_mic1.flac',) ('data/Irish/p245/p245_225_mic2.flac',) ('data/Irish/p298/p298_112_mic1.flac',) ('data/Scottish/p284/p284_139_mic2.flac',) ('p245',) ('p298',) ('p245',) ('Irish',) ('Scottish',)\n",
      "('data/Scottish/p237/p237_288_mic2.flac',) ('data/Scottish/p237/p237_173_mic1.flac',) ('data/Scottish/p284/p284_369_mic1.flac',) ('data/Irish/p283/p283_185_mic2.flac',) ('p237',) ('p284',) ('p237',) ('Scottish',) ('Irish',)\n",
      "('data/Irish/p295/p295_017_mic2.flac',) ('data/Irish/p295/p295_046_mic2.flac',) ('data/Irish/p283/p283_381_mic2.flac',) ('data/Indian/p248/p248_126_mic1.flac',) ('p295',) ('p283',) ('p295',) ('Irish',) ('Indian',)\n",
      "('data/Scottish/p249/p249_232_mic2.flac',) ('data/Scottish/p249/p249_262_mic2.flac',) ('data/Scottish/p237/p237_335_mic1.flac',) ('data/Irish/p295/p295_263_mic2.flac',) ('p249',) ('p237',) ('p249',) ('Scottish',) ('Irish',)\n",
      "('data/Irish/p295/p295_207_mic2.flac',) ('data/Irish/p295/p295_367_mic2.flac',) ('data/Irish/p298/p298_323_mic1.flac',) ('data/Scottish/p249/p249_340_mic1.flac',) ('p295',) ('p298',) ('p295',) ('Irish',) ('Scottish',)\n",
      "('data/Scottish/p234/p234_137_mic2.flac',) ('data/Scottish/p234/p234_084_mic1.flac',) ('data/Scottish/p249/p249_232_mic1.flac',) ('data/Indian/p251/p251_207_mic1.flac',) ('p234',) ('p249',) ('p234',) ('Scottish',) ('Indian',)\n",
      "('data/Indian/p376/p376_264_mic1.flac',) ('data/Indian/p376/p376_289_mic2.flac',) ('data/Indian/p248/p248_227_mic1.flac',) ('data/Irish/p245/p245_295_mic1.flac',) ('p376',) ('p248',) ('p376',) ('Indian',) ('Irish',)\n",
      "('data/American/p299/p299_080_mic1.flac',) ('data/American/p299/p299_245_mic1.flac',) ('data/American/p301/p301_290_mic1.flac',) ('data/Irish/p283/p283_014_mic2.flac',) ('p299',) ('p301',) ('p299',) ('American',) ('Irish',)\n",
      "('data/Indian/p251/p251_138_mic1.flac',) ('data/Indian/p251/p251_093_mic2.flac',) ('data/Indian/p248/p248_283_mic2.flac',) ('data/Irish/p298/p298_087_mic2.flac',) ('p251',) ('p248',) ('p251',) ('Indian',) ('Irish',)\n",
      "('data/Indian/p251/p251_291_mic1.flac',) ('data/Indian/p251/p251_310_mic1.flac',) ('data/Indian/p376/p376_010_mic2.flac',) ('data/American/p300/p300_181_mic2.flac',) ('p251',) ('p376',) ('p251',) ('Indian',) ('American',)\n",
      "('data/Irish/p283/p283_058_mic2.flac',) ('data/Irish/p283/p283_375_mic2.flac',) ('data/Irish/p245/p245_033_mic2.flac',) ('data/Indian/p376/p376_357_mic1.flac',) ('p283',) ('p245',) ('p283',) ('Irish',) ('Indian',)\n",
      "('data/Indian/p376/p376_280_mic1.flac',) ('data/Indian/p376/p376_016_mic1.flac',) ('data/Indian/p251/p251_145_mic2.flac',) ('data/Scottish/p234/p234_111_mic1.flac',) ('p376',) ('p251',) ('p376',) ('Indian',) ('Scottish',)\n",
      "('data/American/p301/p301_018_mic1.flac',) ('data/American/p301/p301_038_mic2.flac',) ('data/American/p300/p300_195_mic2.flac',) ('data/Scottish/p249/p249_220_mic1.flac',) ('p301',) ('p300',) ('p301',) ('American',) ('Scottish',)\n",
      "('data/Scottish/p284/p284_364_mic1.flac',) ('data/Scottish/p284/p284_016_mic1.flac',) ('data/Scottish/p237/p237_343_mic2.flac',) ('data/Irish/p245/p245_268_mic1.flac',) ('p284',) ('p237',) ('p284',) ('Scottish',) ('Irish',)\n",
      "('data/Scottish/p249/p249_020_mic2.flac',) ('data/Scottish/p249/p249_146_mic2.flac',) ('data/Scottish/p284/p284_171_mic1.flac',) ('data/American/p301/p301_228_mic2.flac',) ('p249',) ('p284',) ('p249',) ('Scottish',) ('American',)\n",
      "('data/Irish/p245/p245_344_mic1.flac',) ('data/Irish/p245/p245_030_mic1.flac',) ('data/Irish/p295/p295_255_mic2.flac',) ('data/Scottish/p249/p249_031_mic2.flac',) ('p245',) ('p295',) ('p245',) ('Irish',) ('Scottish',)\n",
      "('data/Indian/p248/p248_001_mic1.flac',) ('data/Indian/p248/p248_343_mic1.flac',) ('data/Indian/p376/p376_064_mic1.flac',) ('data/Scottish/p234/p234_188_mic1.flac',) ('p248',) ('p376',) ('p248',) ('Indian',) ('Scottish',)\n",
      "('data/Indian/p248/p248_083_mic1.flac',) ('data/Indian/p248/p248_206_mic2.flac',) ('data/Indian/p376/p376_006_mic1.flac',) ('data/Irish/p283/p283_076_mic2.flac',) ('p248',) ('p376',) ('p248',) ('Indian',) ('Irish',)\n",
      "('data/American/p299/p299_169_mic1.flac',) ('data/American/p299/p299_365_mic1.flac',) ('data/American/p300/p300_355_mic1.flac',) ('data/Irish/p245/p245_264_mic2.flac',) ('p299',) ('p300',) ('p299',) ('American',) ('Irish',)\n",
      "('data/American/p299/p299_340_mic1.flac',) ('data/American/p299/p299_064_mic2.flac',) ('data/American/p301/p301_357_mic1.flac',) ('data/Scottish/p284/p284_257_mic1.flac',) ('p299',) ('p301',) ('p299',) ('American',) ('Scottish',)\n",
      "('data/Scottish/p234/p234_232_mic1.flac',) ('data/Scottish/p234/p234_080_mic1.flac',) ('data/Scottish/p284/p284_026_mic1.flac',) ('data/Irish/p245/p245_110_mic2.flac',) ('p234',) ('p284',) ('p234',) ('Scottish',) ('Irish',)\n",
      "('data/Irish/p283/p283_416_mic2.flac',) ('data/Irish/p283/p283_305_mic2.flac',) ('data/Irish/p298/p298_112_mic2.flac',) ('data/American/p300/p300_025_mic1.flac',) ('p283',) ('p298',) ('p283',) ('Irish',) ('American',)\n",
      "('data/Indian/p251/p251_136_mic2.flac',) ('data/Indian/p251/p251_016_mic1.flac',) ('data/Indian/p376/p376_014_mic1.flac',) ('data/American/p301/p301_117_mic1.flac',) ('p251',) ('p376',) ('p251',) ('Indian',) ('American',)\n",
      "('data/Irish/p295/p295_355_mic2.flac',) ('data/Irish/p295/p295_239_mic1.flac',) ('data/Irish/p245/p245_172_mic1.flac',) ('data/Scottish/p284/p284_021_mic2.flac',) ('p295',) ('p245',) ('p295',) ('Irish',) ('Scottish',)\n",
      "('data/American/p299/p299_318_mic2.flac',) ('data/American/p299/p299_234_mic2.flac',) ('data/American/p301/p301_041_mic2.flac',) ('data/Indian/p251/p251_063_mic2.flac',) ('p299',) ('p301',) ('p299',) ('American',) ('Indian',)\n",
      "('data/Indian/p248/p248_252_mic2.flac',) ('data/Indian/p248/p248_051_mic1.flac',) ('data/Indian/p376/p376_310_mic1.flac',) ('data/American/p300/p300_374_mic2.flac',) ('p248',) ('p376',) ('p248',) ('Indian',) ('American',)\n",
      "('data/American/p301/p301_004_mic2.flac',) ('data/American/p301/p301_184_mic2.flac',) ('data/American/p299/p299_005_mic1.flac',) ('data/Irish/p295/p295_408_mic1.flac',) ('p301',) ('p299',) ('p301',) ('American',) ('Irish',)\n",
      "('data/American/p301/p301_409_mic1.flac',) ('data/American/p301/p301_188_mic1.flac',) ('data/American/p299/p299_074_mic1.flac',) ('data/Irish/p245/p245_299_mic2.flac',) ('p301',) ('p299',) ('p301',) ('American',) ('Irish',)\n",
      "('data/Scottish/p284/p284_352_mic2.flac',) ('data/Scottish/p284/p284_037_mic2.flac',) ('data/Scottish/p237/p237_278_mic1.flac',) ('data/Indian/p248/p248_150_mic1.flac',) ('p284',) ('p237',) ('p284',) ('Scottish',) ('Indian',)\n",
      "('data/American/p301/p301_117_mic2.flac',) ('data/American/p301/p301_273_mic1.flac',) ('data/American/p299/p299_191_mic1.flac',) ('data/Irish/p245/p245_231_mic1.flac',) ('p301',) ('p299',) ('p301',) ('American',) ('Irish',)\n",
      "('data/Scottish/p249/p249_068_mic2.flac',) ('data/Scottish/p249/p249_317_mic2.flac',) ('data/Scottish/p284/p284_329_mic2.flac',) ('data/American/p301/p301_145_mic2.flac',) ('p249',) ('p284',) ('p249',) ('Scottish',) ('American',)\n",
      "('data/Indian/p251/p251_210_mic2.flac',) ('data/Indian/p251/p251_200_mic1.flac',) ('data/Indian/p248/p248_106_mic2.flac',) ('data/Irish/p298/p298_103_mic2.flac',) ('p251',) ('p248',) ('p251',) ('Indian',) ('Irish',)\n",
      "('data/Irish/p283/p283_171_mic2.flac',) ('data/Irish/p283/p283_098_mic2.flac',) ('data/Irish/p295/p295_240_mic2.flac',) ('data/Indian/p248/p248_314_mic1.flac',) ('p283',) ('p295',) ('p283',) ('Irish',) ('Indian',)\n",
      "('data/American/p300/p300_289_mic1.flac',) ('data/American/p300/p300_053_mic1.flac',) ('data/American/p301/p301_389_mic1.flac',) ('data/Scottish/p284/p284_128_mic2.flac',) ('p300',) ('p301',) ('p300',) ('American',) ('Scottish',)\n",
      "('data/American/p300/p300_049_mic2.flac',) ('data/American/p300/p300_245_mic1.flac',) ('data/American/p301/p301_390_mic2.flac',) ('data/Indian/p251/p251_345_mic1.flac',) ('p300',) ('p301',) ('p300',) ('American',) ('Indian',)\n",
      "('data/Indian/p248/p248_322_mic1.flac',) ('data/Indian/p248/p248_186_mic1.flac',) ('data/Indian/p251/p251_360_mic1.flac',) ('data/American/p300/p300_140_mic1.flac',) ('p248',) ('p251',) ('p248',) ('Indian',) ('American',)\n",
      "('data/Irish/p298/p298_140_mic1.flac',) ('data/Irish/p298/p298_118_mic2.flac',) ('data/Irish/p245/p245_220_mic1.flac',) ('data/American/p300/p300_039_mic1.flac',) ('p298',) ('p245',) ('p298',) ('Irish',) ('American',)\n",
      "('data/Indian/p248/p248_164_mic1.flac',) ('data/Indian/p248/p248_370_mic1.flac',) ('data/Indian/p376/p376_345_mic2.flac',) ('data/American/p299/p299_014_mic2.flac',) ('p248',) ('p376',) ('p248',) ('Indian',) ('American',)\n",
      "('data/Indian/p251/p251_226_mic1.flac',) ('data/Indian/p251/p251_315_mic2.flac',) ('data/Indian/p248/p248_041_mic2.flac',) ('data/Irish/p245/p245_199_mic1.flac',) ('p251',) ('p248',) ('p251',) ('Indian',) ('Irish',)\n",
      "('data/American/p301/p301_055_mic1.flac',) ('data/American/p301/p301_271_mic1.flac',) ('data/American/p299/p299_361_mic2.flac',) ('data/Scottish/p237/p237_225_mic1.flac',) ('p301',) ('p299',) ('p301',) ('American',) ('Scottish',)\n",
      "('data/Indian/p248/p248_164_mic1.flac',) ('data/Indian/p248/p248_027_mic2.flac',) ('data/Indian/p376/p376_219_mic2.flac',) ('data/Scottish/p284/p284_144_mic2.flac',) ('p248',) ('p376',) ('p248',) ('Indian',) ('Scottish',)\n",
      "('data/American/p301/p301_103_mic1.flac',) ('data/American/p301/p301_258_mic2.flac',) ('data/American/p299/p299_340_mic1.flac',) ('data/Indian/p251/p251_333_mic1.flac',) ('p301',) ('p299',) ('p301',) ('American',) ('Indian',)\n",
      "('data/Scottish/p249/p249_039_mic2.flac',) ('data/Scottish/p249/p249_254_mic2.flac',) ('data/Scottish/p234/p234_278_mic1.flac',) ('data/Irish/p295/p295_226_mic2.flac',) ('p249',) ('p234',) ('p249',) ('Scottish',) ('Irish',)\n",
      "('data/American/p300/p300_060_mic2.flac',) ('data/American/p300/p300_239_mic1.flac',) ('data/American/p299/p299_236_mic1.flac',) ('data/Indian/p251/p251_242_mic1.flac',) ('p300',) ('p299',) ('p300',) ('American',) ('Indian',)\n",
      "('data/Irish/p298/p298_093_mic1.flac',) ('data/Irish/p298/p298_316_mic2.flac',) ('data/Irish/p245/p245_165_mic1.flac',) ('data/Scottish/p249/p249_117_mic2.flac',) ('p298',) ('p245',) ('p298',) ('Irish',) ('Scottish',)\n",
      "('data/Scottish/p237/p237_191_mic2.flac',) ('data/Scottish/p237/p237_348_mic1.flac',) ('data/Scottish/p234/p234_333_mic2.flac',) ('data/Indian/p376/p376_165_mic2.flac',) ('p237',) ('p234',) ('p237',) ('Scottish',) ('Indian',)\n",
      "('data/American/p300/p300_293_mic2.flac',) ('data/American/p300/p300_150_mic1.flac',) ('data/American/p301/p301_367_mic2.flac',) ('data/Indian/p248/p248_067_mic2.flac',) ('p300',) ('p301',) ('p300',) ('American',) ('Indian',)\n",
      "('data/Scottish/p249/p249_147_mic2.flac',) ('data/Scottish/p249/p249_285_mic1.flac',) ('data/Scottish/p234/p234_323_mic2.flac',) ('data/American/p299/p299_059_mic1.flac',) ('p249',) ('p234',) ('p249',) ('Scottish',) ('American',)\n",
      "('data/Indian/p376/p376_373_mic1.flac',) ('data/Indian/p376/p376_021_mic1.flac',) ('data/Indian/p248/p248_155_mic1.flac',) ('data/Scottish/p234/p234_120_mic1.flac',) ('p376',) ('p248',) ('p376',) ('Indian',) ('Scottish',)\n",
      "('data/Scottish/p237/p237_351_mic1.flac',) ('data/Scottish/p237/p237_054_mic1.flac',) ('data/Scottish/p249/p249_344_mic2.flac',) ('data/Indian/p248/p248_065_mic2.flac',) ('p237',) ('p249',) ('p237',) ('Scottish',) ('Indian',)\n",
      "('data/Indian/p248/p248_080_mic2.flac',) ('data/Indian/p248/p248_295_mic1.flac',) ('data/Indian/p251/p251_352_mic2.flac',) ('data/Scottish/p237/p237_101_mic1.flac',) ('p248',) ('p251',) ('p248',) ('Indian',) ('Scottish',)\n",
      "('data/Indian/p376/p376_420_mic1.flac',) ('data/Indian/p376/p376_312_mic2.flac',) ('data/Indian/p251/p251_053_mic1.flac',) ('data/Scottish/p284/p284_165_mic2.flac',) ('p376',) ('p251',) ('p376',) ('Indian',) ('Scottish',)\n",
      "('data/Indian/p248/p248_105_mic2.flac',) ('data/Indian/p248/p248_228_mic2.flac',) ('data/Indian/p376/p376_103_mic2.flac',) ('data/Scottish/p234/p234_295_mic2.flac',) ('p248',) ('p376',) ('p248',) ('Indian',) ('Scottish',)\n",
      "('data/Scottish/p234/p234_327_mic1.flac',) ('data/Scottish/p234/p234_305_mic1.flac',) ('data/Scottish/p249/p249_042_mic2.flac',) ('data/Irish/p298/p298_007_mic1.flac',) ('p234',) ('p249',) ('p234',) ('Scottish',) ('Irish',)\n",
      "('data/Scottish/p234/p234_043_mic2.flac',) ('data/Scottish/p234/p234_108_mic1.flac',) ('data/Scottish/p249/p249_284_mic2.flac',) ('data/Irish/p298/p298_382_mic1.flac',) ('p234',) ('p249',) ('p234',) ('Scottish',) ('Irish',)\n",
      "('data/American/p301/p301_206_mic1.flac',) ('data/American/p301/p301_285_mic1.flac',) ('data/American/p299/p299_356_mic1.flac',) ('data/Scottish/p284/p284_402_mic1.flac',) ('p301',) ('p299',) ('p301',) ('American',) ('Scottish',)\n",
      "('data/Scottish/p284/p284_186_mic2.flac',) ('data/Scottish/p284/p284_345_mic1.flac',) ('data/Scottish/p234/p234_117_mic1.flac',) ('data/Irish/p283/p283_328_mic1.flac',) ('p284',) ('p234',) ('p284',) ('Scottish',) ('Irish',)\n",
      "('data/Indian/p248/p248_285_mic1.flac',) ('data/Indian/p248/p248_232_mic2.flac',) ('data/Indian/p376/p376_128_mic1.flac',) ('data/Scottish/p234/p234_288_mic2.flac',) ('p248',) ('p376',) ('p248',) ('Indian',) ('Scottish',)\n",
      "('data/Indian/p251/p251_136_mic2.flac',) ('data/Indian/p251/p251_093_mic1.flac',) ('data/Indian/p376/p376_191_mic1.flac',) ('data/American/p300/p300_047_mic1.flac',) ('p251',) ('p376',) ('p251',) ('Indian',) ('American',)\n",
      "('data/Scottish/p234/p234_276_mic1.flac',) ('data/Scottish/p234/p234_352_mic2.flac',) ('data/Scottish/p249/p249_196_mic1.flac',) ('data/American/p299/p299_242_mic1.flac',) ('p234',) ('p249',) ('p234',) ('Scottish',) ('American',)\n",
      "('data/Scottish/p237/p237_071_mic1.flac',) ('data/Scottish/p237/p237_148_mic1.flac',) ('data/Scottish/p284/p284_027_mic2.flac',) ('data/Irish/p298/p298_232_mic2.flac',) ('p237',) ('p284',) ('p237',) ('Scottish',) ('Irish',)\n",
      "('data/Scottish/p249/p249_225_mic2.flac',) ('data/Scottish/p249/p249_278_mic2.flac',) ('data/Scottish/p284/p284_295_mic1.flac',) ('data/Indian/p248/p248_183_mic1.flac',) ('p249',) ('p284',) ('p249',) ('Scottish',) ('Indian',)\n",
      "('data/Irish/p295/p295_421_mic1.flac',) ('data/Irish/p295/p295_115_mic1.flac',) ('data/Irish/p283/p283_026_mic2.flac',) ('data/Indian/p248/p248_077_mic1.flac',) ('p295',) ('p283',) ('p295',) ('Irish',) ('Indian',)\n",
      "('data/Indian/p248/p248_007_mic1.flac',) ('data/Indian/p248/p248_288_mic2.flac',) ('data/Indian/p376/p376_414_mic1.flac',) ('data/Scottish/p284/p284_417_mic1.flac',) ('p248',) ('p376',) ('p248',) ('Indian',) ('Scottish',)\n",
      "('data/Irish/p245/p245_171_mic1.flac',) ('data/Irish/p245/p245_167_mic2.flac',) ('data/Irish/p298/p298_172_mic2.flac',) ('data/Indian/p248/p248_290_mic1.flac',) ('p245',) ('p298',) ('p245',) ('Irish',) ('Indian',)\n",
      "('data/Indian/p248/p248_366_mic1.flac',) ('data/Indian/p248/p248_227_mic1.flac',) ('data/Indian/p376/p376_395_mic2.flac',) ('data/American/p299/p299_127_mic2.flac',) ('p248',) ('p376',) ('p248',) ('Indian',) ('American',)\n",
      "('data/Scottish/p249/p249_253_mic1.flac',) ('data/Scottish/p249/p249_024_mic2.flac',) ('data/Scottish/p237/p237_165_mic1.flac',) ('data/Indian/p248/p248_231_mic1.flac',) ('p249',) ('p237',) ('p249',) ('Scottish',) ('Indian',)\n",
      "('data/Irish/p295/p295_296_mic1.flac',) ('data/Irish/p295/p295_199_mic2.flac',) ('data/Irish/p283/p283_121_mic1.flac',) ('data/Scottish/p284/p284_241_mic1.flac',) ('p295',) ('p283',) ('p295',) ('Irish',) ('Scottish',)\n",
      "('data/American/p301/p301_267_mic2.flac',) ('data/American/p301/p301_135_mic1.flac',) ('data/American/p299/p299_048_mic1.flac',) ('data/Indian/p248/p248_067_mic2.flac',) ('p301',) ('p299',) ('p301',) ('American',) ('Indian',)\n",
      "('data/American/p299/p299_264_mic1.flac',) ('data/American/p299/p299_195_mic2.flac',) ('data/American/p300/p300_145_mic1.flac',) ('data/Scottish/p234/p234_186_mic2.flac',) ('p299',) ('p300',) ('p299',) ('American',) ('Scottish',)\n",
      "('data/Irish/p295/p295_314_mic2.flac',) ('data/Irish/p295/p295_083_mic1.flac',) ('data/Irish/p245/p245_267_mic1.flac',) ('data/American/p299/p299_097_mic1.flac',) ('p295',) ('p245',) ('p295',) ('Irish',) ('American',)\n",
      "('data/American/p301/p301_230_mic1.flac',) ('data/American/p301/p301_390_mic1.flac',) ('data/American/p299/p299_362_mic2.flac',) ('data/Irish/p298/p298_239_mic2.flac',) ('p301',) ('p299',) ('p301',) ('American',) ('Irish',)\n",
      "('data/Irish/p298/p298_213_mic2.flac',) ('data/Irish/p298/p298_169_mic2.flac',) ('data/Irish/p283/p283_469_mic2.flac',) ('data/Indian/p251/p251_143_mic1.flac',) ('p298',) ('p283',) ('p298',) ('Irish',) ('Indian',)\n",
      "('data/Scottish/p249/p249_063_mic1.flac',) ('data/Scottish/p249/p249_259_mic1.flac',) ('data/Scottish/p237/p237_232_mic2.flac',) ('data/American/p300/p300_130_mic1.flac',) ('p249',) ('p237',) ('p249',) ('Scottish',) ('American',)\n",
      "('data/Indian/p376/p376_299_mic2.flac',) ('data/Indian/p376/p376_282_mic1.flac',) ('data/Indian/p248/p248_103_mic2.flac',) ('data/American/p301/p301_355_mic1.flac',) ('p376',) ('p248',) ('p376',) ('Indian',) ('American',)\n",
      "('data/Indian/p248/p248_281_mic2.flac',) ('data/Indian/p248/p248_357_mic1.flac',) ('data/Indian/p376/p376_048_mic2.flac',) ('data/Scottish/p284/p284_329_mic2.flac',) ('p248',) ('p376',) ('p248',) ('Indian',) ('Scottish',)\n",
      "('data/Indian/p248/p248_210_mic1.flac',) ('data/Indian/p248/p248_164_mic2.flac',) ('data/Indian/p251/p251_038_mic1.flac',) ('data/American/p300/p300_223_mic1.flac',) ('p248',) ('p251',) ('p248',) ('Indian',) ('American',)\n",
      "('data/Indian/p376/p376_356_mic2.flac',) ('data/Indian/p376/p376_245_mic1.flac',) ('data/Indian/p248/p248_202_mic1.flac',) ('data/Scottish/p234/p234_106_mic1.flac',) ('p376',) ('p248',) ('p376',) ('Indian',) ('Scottish',)\n",
      "('data/Scottish/p237/p237_140_mic1.flac',) ('data/Scottish/p237/p237_097_mic2.flac',) ('data/Scottish/p234/p234_146_mic2.flac',) ('data/Irish/p245/p245_140_mic2.flac',) ('p237',) ('p234',) ('p237',) ('Scottish',) ('Irish',)\n",
      "('data/American/p301/p301_073_mic1.flac',) ('data/American/p301/p301_182_mic1.flac',) ('data/American/p299/p299_385_mic1.flac',) ('data/Indian/p376/p376_106_mic2.flac',) ('p301',) ('p299',) ('p301',) ('American',) ('Indian',)\n",
      "('data/Indian/p248/p248_204_mic1.flac',) ('data/Indian/p248/p248_297_mic1.flac',) ('data/Indian/p251/p251_092_mic1.flac',) ('data/American/p301/p301_230_mic1.flac',) ('p248',) ('p251',) ('p248',) ('Indian',) ('American',)\n",
      "('data/Indian/p248/p248_122_mic2.flac',) ('data/Indian/p248/p248_132_mic2.flac',) ('data/Indian/p376/p376_164_mic1.flac',) ('data/Irish/p298/p298_213_mic2.flac',) ('p248',) ('p376',) ('p248',) ('Indian',) ('Irish',)\n",
      "('data/American/p301/p301_093_mic2.flac',) ('data/American/p301/p301_176_mic1.flac',) ('data/American/p300/p300_337_mic1.flac',) ('data/Irish/p283/p283_187_mic1.flac',) ('p301',) ('p300',) ('p301',) ('American',) ('Irish',)\n",
      "('data/Scottish/p249/p249_041_mic2.flac',) ('data/Scottish/p249/p249_182_mic1.flac',) ('data/Scottish/p284/p284_159_mic1.flac',) ('data/Irish/p283/p283_113_mic1.flac',) ('p249',) ('p284',) ('p249',) ('Scottish',) ('Irish',)\n",
      "('data/Indian/p376/p376_173_mic1.flac',) ('data/Indian/p376/p376_273_mic1.flac',) ('data/Indian/p248/p248_186_mic1.flac',) ('data/Irish/p283/p283_026_mic2.flac',) ('p376',) ('p248',) ('p376',) ('Indian',) ('Irish',)\n",
      "('data/Irish/p298/p298_278_mic1.flac',) ('data/Irish/p298/p298_047_mic2.flac',) ('data/Irish/p283/p283_147_mic2.flac',) ('data/Indian/p251/p251_045_mic2.flac',) ('p298',) ('p283',) ('p298',) ('Irish',) ('Indian',)\n",
      "('data/Indian/p376/p376_040_mic1.flac',) ('data/Indian/p376/p376_047_mic1.flac',) ('data/Indian/p251/p251_140_mic2.flac',) ('data/Scottish/p284/p284_381_mic2.flac',) ('p376',) ('p251',) ('p376',) ('Indian',) ('Scottish',)\n",
      "('data/Indian/p251/p251_341_mic2.flac',) ('data/Indian/p251/p251_222_mic1.flac',) ('data/Indian/p248/p248_245_mic2.flac',) ('data/Irish/p295/p295_089_mic1.flac',) ('p251',) ('p248',) ('p251',) ('Indian',) ('Irish',)\n",
      "('data/Scottish/p284/p284_029_mic1.flac',) ('data/Scottish/p284/p284_158_mic1.flac',) ('data/Scottish/p234/p234_110_mic1.flac',) ('data/American/p300/p300_016_mic1.flac',) ('p284',) ('p234',) ('p284',) ('Scottish',) ('American',)\n",
      "('data/Scottish/p234/p234_196_mic1.flac',) ('data/Scottish/p234/p234_065_mic1.flac',) ('data/Scottish/p237/p237_294_mic2.flac',) ('data/Irish/p295/p295_142_mic1.flac',) ('p234',) ('p237',) ('p234',) ('Scottish',) ('Irish',)\n",
      "('data/Scottish/p234/p234_073_mic1.flac',) ('data/Scottish/p234/p234_197_mic2.flac',) ('data/Scottish/p237/p237_102_mic1.flac',) ('data/Indian/p376/p376_052_mic1.flac',) ('p234',) ('p237',) ('p234',) ('Scottish',) ('Indian',)\n",
      "('data/Scottish/p237/p237_003_mic1.flac',) ('data/Scottish/p237/p237_129_mic2.flac',) ('data/Scottish/p284/p284_387_mic1.flac',) ('data/Indian/p248/p248_006_mic2.flac',) ('p237',) ('p284',) ('p237',) ('Scottish',) ('Indian',)\n",
      "('data/American/p301/p301_397_mic1.flac',) ('data/American/p301/p301_042_mic1.flac',) ('data/American/p300/p300_022_mic2.flac',) ('data/Scottish/p284/p284_356_mic2.flac',) ('p301',) ('p300',) ('p301',) ('American',) ('Scottish',)\n",
      "('data/Indian/p251/p251_034_mic1.flac',) ('data/Indian/p251/p251_194_mic2.flac',) ('data/Indian/p248/p248_364_mic2.flac',) ('data/American/p301/p301_178_mic2.flac',) ('p251',) ('p248',) ('p251',) ('Indian',) ('American',)\n",
      "('data/Indian/p376/p376_018_mic1.flac',) ('data/Indian/p376/p376_013_mic2.flac',) ('data/Indian/p248/p248_355_mic1.flac',) ('data/American/p301/p301_397_mic2.flac',) ('p376',) ('p248',) ('p376',) ('Indian',) ('American',)\n",
      "('data/Indian/p251/p251_137_mic1.flac',) ('data/Indian/p251/p251_352_mic2.flac',) ('data/Indian/p376/p376_234_mic2.flac',) ('data/Scottish/p237/p237_049_mic2.flac',) ('p251',) ('p376',) ('p251',) ('Indian',) ('Scottish',)\n",
      "('data/Scottish/p237/p237_173_mic1.flac',) ('data/Scottish/p237/p237_207_mic1.flac',) ('data/Scottish/p249/p249_057_mic2.flac',) ('data/Irish/p298/p298_112_mic2.flac',) ('p237',) ('p249',) ('p237',) ('Scottish',) ('Irish',)\n"
     ]
    },
    {
     "name": "stdout",
     "output_type": "stream",
     "text": [
      "('data/Scottish/p284/p284_027_mic2.flac',) ('data/Scottish/p284/p284_038_mic2.flac',) ('data/Scottish/p237/p237_135_mic2.flac',) ('data/Indian/p248/p248_324_mic1.flac',) ('p284',) ('p237',) ('p284',) ('Scottish',) ('Indian',)\n",
      "('data/American/p300/p300_092_mic2.flac',) ('data/American/p300/p300_310_mic2.flac',) ('data/American/p299/p299_270_mic1.flac',) ('data/Scottish/p234/p234_006_mic2.flac',) ('p300',) ('p299',) ('p300',) ('American',) ('Scottish',)\n",
      "('data/Indian/p248/p248_161_mic1.flac',) ('data/Indian/p248/p248_238_mic2.flac',) ('data/Indian/p376/p376_363_mic2.flac',) ('data/Irish/p298/p298_369_mic2.flac',) ('p248',) ('p376',) ('p248',) ('Indian',) ('Irish',)\n",
      "('data/American/p299/p299_387_mic2.flac',) ('data/American/p299/p299_074_mic2.flac',) ('data/American/p300/p300_177_mic1.flac',) ('data/Scottish/p234/p234_326_mic2.flac',) ('p299',) ('p300',) ('p299',) ('American',) ('Scottish',)\n",
      "('data/Scottish/p284/p284_014_mic2.flac',) ('data/Scottish/p284/p284_408_mic1.flac',) ('data/Scottish/p237/p237_100_mic2.flac',) ('data/Indian/p376/p376_387_mic2.flac',) ('p284',) ('p237',) ('p284',) ('Scottish',) ('Indian',)\n",
      "('data/Scottish/p237/p237_023_mic1.flac',) ('data/Scottish/p237/p237_331_mic2.flac',) ('data/Scottish/p234/p234_259_mic1.flac',) ('data/American/p299/p299_220_mic2.flac',) ('p237',) ('p234',) ('p237',) ('Scottish',) ('American',)\n",
      "('data/Scottish/p284/p284_218_mic2.flac',) ('data/Scottish/p284/p284_277_mic2.flac',) ('data/Scottish/p249/p249_035_mic1.flac',) ('data/Irish/p295/p295_312_mic1.flac',) ('p284',) ('p249',) ('p284',) ('Scottish',) ('Irish',)\n",
      "('data/Scottish/p249/p249_095_mic1.flac',) ('data/Scottish/p249/p249_343_mic1.flac',) ('data/Scottish/p234/p234_240_mic1.flac',) ('data/Indian/p376/p376_403_mic1.flac',) ('p249',) ('p234',) ('p249',) ('Scottish',) ('Indian',)\n",
      "('data/Scottish/p237/p237_089_mic2.flac',) ('data/Scottish/p237/p237_237_mic2.flac',) ('data/Scottish/p234/p234_304_mic2.flac',) ('data/Indian/p251/p251_134_mic1.flac',) ('p237',) ('p234',) ('p237',) ('Scottish',) ('Indian',)\n",
      "('data/Indian/p251/p251_369_mic1.flac',) ('data/Indian/p251/p251_241_mic1.flac',) ('data/Indian/p248/p248_237_mic1.flac',) ('data/Irish/p245/p245_239_mic1.flac',) ('p251',) ('p248',) ('p251',) ('Indian',) ('Irish',)\n",
      "('data/Indian/p376/p376_064_mic1.flac',) ('data/Indian/p376/p376_113_mic2.flac',) ('data/Indian/p248/p248_347_mic1.flac',) ('data/American/p299/p299_198_mic1.flac',) ('p376',) ('p248',) ('p376',) ('Indian',) ('American',)\n",
      "('data/Scottish/p234/p234_157_mic2.flac',) ('data/Scottish/p234/p234_322_mic1.flac',) ('data/Scottish/p249/p249_030_mic2.flac',) ('data/American/p301/p301_338_mic1.flac',) ('p234',) ('p249',) ('p234',) ('Scottish',) ('American',)\n",
      "('data/American/p299/p299_128_mic1.flac',) ('data/American/p299/p299_197_mic1.flac',) ('data/American/p300/p300_160_mic2.flac',) ('data/Irish/p283/p283_032_mic2.flac',) ('p299',) ('p300',) ('p299',) ('American',) ('Irish',)\n",
      "('data/American/p300/p300_036_mic2.flac',) ('data/American/p300/p300_041_mic1.flac',) ('data/American/p301/p301_221_mic2.flac',) ('data/Indian/p248/p248_282_mic2.flac',) ('p300',) ('p301',) ('p300',) ('American',) ('Indian',)\n",
      "('data/Scottish/p249/p249_121_mic1.flac',) ('data/Scottish/p249/p249_245_mic1.flac',) ('data/Scottish/p234/p234_058_mic1.flac',) ('data/Indian/p376/p376_294_mic2.flac',) ('p249',) ('p234',) ('p249',) ('Scottish',) ('Indian',)\n",
      "('data/American/p301/p301_084_mic1.flac',) ('data/American/p301/p301_388_mic2.flac',) ('data/American/p299/p299_013_mic1.flac',) ('data/Indian/p248/p248_213_mic2.flac',) ('p301',) ('p299',) ('p301',) ('American',) ('Indian',)\n",
      "('data/Indian/p251/p251_239_mic2.flac',) ('data/Indian/p251/p251_215_mic1.flac',) ('data/Indian/p248/p248_270_mic2.flac',) ('data/Scottish/p237/p237_228_mic2.flac',) ('p251',) ('p248',) ('p251',) ('Indian',) ('Scottish',)\n",
      "('data/Indian/p248/p248_092_mic2.flac',) ('data/Indian/p248/p248_024_mic1.flac',) ('data/Indian/p376/p376_212_mic1.flac',) ('data/Irish/p245/p245_068_mic2.flac',) ('p248',) ('p376',) ('p248',) ('Indian',) ('Irish',)\n",
      "('data/Irish/p245/p245_310_mic1.flac',) ('data/Irish/p245/p245_156_mic2.flac',) ('data/Irish/p283/p283_091_mic1.flac',) ('data/American/p301/p301_216_mic2.flac',) ('p245',) ('p283',) ('p245',) ('Irish',) ('American',)\n",
      "('data/Scottish/p234/p234_005_mic2.flac',) ('data/Scottish/p234/p234_069_mic2.flac',) ('data/Scottish/p237/p237_304_mic2.flac',) ('data/American/p299/p299_348_mic2.flac',) ('p234',) ('p237',) ('p234',) ('Scottish',) ('American',)\n",
      "('data/Scottish/p237/p237_315_mic1.flac',) ('data/Scottish/p237/p237_157_mic1.flac',) ('data/Scottish/p249/p249_071_mic1.flac',) ('data/Irish/p245/p245_128_mic1.flac',) ('p237',) ('p249',) ('p237',) ('Scottish',) ('Irish',)\n",
      "('data/Scottish/p249/p249_063_mic1.flac',) ('data/Scottish/p249/p249_148_mic2.flac',) ('data/Scottish/p237/p237_208_mic1.flac',) ('data/Indian/p251/p251_148_mic1.flac',) ('p249',) ('p237',) ('p249',) ('Scottish',) ('Indian',)\n",
      "('data/American/p300/p300_125_mic1.flac',) ('data/American/p300/p300_201_mic2.flac',) ('data/American/p299/p299_354_mic2.flac',) ('data/Scottish/p234/p234_068_mic2.flac',) ('p300',) ('p299',) ('p300',) ('American',) ('Scottish',)\n",
      "('data/American/p299/p299_400_mic2.flac',) ('data/American/p299/p299_230_mic2.flac',) ('data/American/p301/p301_045_mic2.flac',) ('data/Irish/p283/p283_275_mic2.flac',) ('p299',) ('p301',) ('p299',) ('American',) ('Irish',)\n",
      "('data/Irish/p245/p245_123_mic1.flac',) ('data/Irish/p245/p245_139_mic1.flac',) ('data/Irish/p298/p298_098_mic2.flac',) ('data/Scottish/p234/p234_002_mic2.flac',) ('p245',) ('p298',) ('p245',) ('Irish',) ('Scottish',)\n",
      "('data/Scottish/p284/p284_023_mic2.flac',) ('data/Scottish/p284/p284_068_mic1.flac',) ('data/Scottish/p249/p249_043_mic2.flac',) ('data/Indian/p248/p248_169_mic2.flac',) ('p284',) ('p249',) ('p284',) ('Scottish',) ('Indian',)\n",
      "('data/Scottish/p284/p284_107_mic2.flac',) ('data/Scottish/p284/p284_374_mic2.flac',) ('data/Scottish/p249/p249_305_mic2.flac',) ('data/Irish/p298/p298_118_mic2.flac',) ('p284',) ('p249',) ('p284',) ('Scottish',) ('Irish',)\n",
      "('data/Indian/p376/p376_418_mic2.flac',) ('data/Indian/p376/p376_074_mic2.flac',) ('data/Indian/p248/p248_229_mic2.flac',) ('data/Scottish/p234/p234_287_mic2.flac',) ('p376',) ('p248',) ('p376',) ('Indian',) ('Scottish',)\n",
      "('data/Scottish/p249/p249_144_mic2.flac',) ('data/Scottish/p249/p249_132_mic1.flac',) ('data/Scottish/p237/p237_087_mic2.flac',) ('data/Indian/p251/p251_151_mic2.flac',) ('p249',) ('p237',) ('p249',) ('Scottish',) ('Indian',)\n",
      "('data/Irish/p295/p295_311_mic2.flac',) ('data/Irish/p295/p295_181_mic1.flac',) ('data/Irish/p245/p245_058_mic2.flac',) ('data/Indian/p248/p248_310_mic1.flac',) ('p295',) ('p245',) ('p295',) ('Irish',) ('Indian',)\n",
      "('data/Scottish/p284/p284_232_mic1.flac',) ('data/Scottish/p284/p284_363_mic2.flac',) ('data/Scottish/p234/p234_217_mic1.flac',) ('data/Indian/p251/p251_220_mic1.flac',) ('p284',) ('p234',) ('p284',) ('Scottish',) ('Indian',)\n",
      "('data/American/p299/p299_219_mic1.flac',) ('data/American/p299/p299_125_mic2.flac',) ('data/American/p300/p300_174_mic2.flac',) ('data/Scottish/p284/p284_201_mic2.flac',) ('p299',) ('p300',) ('p299',) ('American',) ('Scottish',)\n",
      "('data/Scottish/p234/p234_245_mic1.flac',) ('data/Scottish/p234/p234_178_mic1.flac',) ('data/Scottish/p249/p249_326_mic1.flac',) ('data/Indian/p376/p376_227_mic2.flac',) ('p234',) ('p249',) ('p234',) ('Scottish',) ('Indian',)\n",
      "('data/American/p300/p300_067_mic1.flac',) ('data/American/p300/p300_213_mic2.flac',) ('data/American/p299/p299_267_mic2.flac',) ('data/Scottish/p237/p237_170_mic1.flac',) ('p300',) ('p299',) ('p300',) ('American',) ('Scottish',)\n",
      "('data/American/p301/p301_143_mic1.flac',) ('data/American/p301/p301_305_mic2.flac',) ('data/American/p300/p300_019_mic1.flac',) ('data/Indian/p376/p376_073_mic2.flac',) ('p301',) ('p300',) ('p301',) ('American',) ('Indian',)\n",
      "('data/Indian/p251/p251_243_mic1.flac',) ('data/Indian/p251/p251_372_mic2.flac',) ('data/Indian/p376/p376_080_mic1.flac',) ('data/Scottish/p234/p234_121_mic1.flac',) ('p251',) ('p376',) ('p251',) ('Indian',) ('Scottish',)\n",
      "('data/American/p299/p299_382_mic2.flac',) ('data/American/p299/p299_207_mic1.flac',) ('data/American/p301/p301_116_mic1.flac',) ('data/Irish/p245/p245_058_mic1.flac',) ('p299',) ('p301',) ('p299',) ('American',) ('Irish',)\n",
      "('data/Indian/p248/p248_180_mic2.flac',) ('data/Indian/p248/p248_043_mic2.flac',) ('data/Indian/p376/p376_143_mic1.flac',) ('data/Irish/p283/p283_401_mic1.flac',) ('p248',) ('p376',) ('p248',) ('Indian',) ('Irish',)\n",
      "('data/Indian/p376/p376_183_mic1.flac',) ('data/Indian/p376/p376_003_mic2.flac',) ('data/Indian/p251/p251_099_mic1.flac',) ('data/American/p299/p299_026_mic1.flac',) ('p376',) ('p251',) ('p376',) ('Indian',) ('American',)\n",
      "('data/Irish/p295/p295_352_mic1.flac',) ('data/Irish/p295/p295_187_mic1.flac',) ('data/Irish/p245/p245_314_mic2.flac',) ('data/Scottish/p284/p284_095_mic1.flac',) ('p295',) ('p245',) ('p295',) ('Irish',) ('Scottish',)\n",
      "('data/American/p300/p300_287_mic1.flac',) ('data/American/p300/p300_225_mic1.flac',) ('data/American/p301/p301_137_mic2.flac',) ('data/Scottish/p284/p284_189_mic1.flac',) ('p300',) ('p301',) ('p300',) ('American',) ('Scottish',)\n",
      "('data/Indian/p251/p251_201_mic1.flac',) ('data/Indian/p251/p251_005_mic1.flac',) ('data/Indian/p376/p376_143_mic2.flac',) ('data/American/p299/p299_321_mic2.flac',) ('p251',) ('p376',) ('p251',) ('Indian',) ('American',)\n",
      "('data/Indian/p251/p251_053_mic1.flac',) ('data/Indian/p251/p251_182_mic2.flac',) ('data/Indian/p248/p248_153_mic1.flac',) ('data/Scottish/p249/p249_088_mic1.flac',) ('p251',) ('p248',) ('p251',) ('Indian',) ('Scottish',)\n",
      "('data/Indian/p251/p251_128_mic1.flac',) ('data/Indian/p251/p251_344_mic2.flac',) ('data/Indian/p248/p248_082_mic2.flac',) ('data/Irish/p245/p245_053_mic2.flac',) ('p251',) ('p248',) ('p251',) ('Indian',) ('Irish',)\n",
      "('data/American/p299/p299_178_mic2.flac',) ('data/American/p299/p299_078_mic2.flac',) ('data/American/p300/p300_019_mic1.flac',) ('data/Scottish/p237/p237_339_mic2.flac',) ('p299',) ('p300',) ('p299',) ('American',) ('Scottish',)\n",
      "('data/American/p299/p299_196_mic2.flac',) ('data/American/p299/p299_173_mic1.flac',) ('data/American/p301/p301_376_mic1.flac',) ('data/Scottish/p284/p284_317_mic1.flac',) ('p299',) ('p301',) ('p299',) ('American',) ('Scottish',)\n",
      "('data/American/p300/p300_191_mic2.flac',) ('data/American/p300/p300_106_mic2.flac',) ('data/American/p301/p301_249_mic2.flac',) ('data/Irish/p283/p283_219_mic1.flac',) ('p300',) ('p301',) ('p300',) ('American',) ('Irish',)\n",
      "('data/Irish/p283/p283_107_mic1.flac',) ('data/Irish/p283/p283_326_mic2.flac',) ('data/Irish/p295/p295_034_mic1.flac',) ('data/American/p301/p301_129_mic1.flac',) ('p283',) ('p295',) ('p283',) ('Irish',) ('American',)\n",
      "('data/American/p300/p300_078_mic2.flac',) ('data/American/p300/p300_217_mic1.flac',) ('data/American/p301/p301_172_mic2.flac',) ('data/Indian/p376/p376_206_mic1.flac',) ('p300',) ('p301',) ('p300',) ('American',) ('Indian',)\n",
      "('data/American/p301/p301_261_mic2.flac',) ('data/American/p301/p301_316_mic1.flac',) ('data/American/p299/p299_293_mic2.flac',) ('data/Indian/p251/p251_112_mic2.flac',) ('p301',) ('p299',) ('p301',) ('American',) ('Indian',)\n",
      "('data/American/p301/p301_274_mic1.flac',) ('data/American/p301/p301_391_mic1.flac',) ('data/American/p299/p299_123_mic1.flac',) ('data/Scottish/p284/p284_255_mic2.flac',) ('p301',) ('p299',) ('p301',) ('American',) ('Scottish',)\n",
      "('data/Irish/p245/p245_133_mic2.flac',) ('data/Irish/p245/p245_340_mic2.flac',) ('data/Irish/p283/p283_084_mic1.flac',) ('data/Scottish/p249/p249_331_mic2.flac',) ('p245',) ('p283',) ('p245',) ('Irish',) ('Scottish',)\n",
      "('data/American/p301/p301_213_mic1.flac',) ('data/American/p301/p301_242_mic1.flac',) ('data/American/p300/p300_261_mic2.flac',) ('data/Scottish/p249/p249_018_mic2.flac',) ('p301',) ('p300',) ('p301',) ('American',) ('Scottish',)\n",
      "('data/American/p299/p299_198_mic1.flac',) ('data/American/p299/p299_392_mic1.flac',) ('data/American/p300/p300_386_mic1.flac',) ('data/Scottish/p234/p234_181_mic2.flac',) ('p299',) ('p300',) ('p299',) ('American',) ('Scottish',)\n",
      "('data/Indian/p248/p248_148_mic2.flac',) ('data/Indian/p248/p248_063_mic1.flac',) ('data/Indian/p376/p376_326_mic2.flac',) ('data/Irish/p295/p295_074_mic1.flac',) ('p248',) ('p376',) ('p248',) ('Indian',) ('Irish',)\n",
      "('data/American/p300/p300_076_mic1.flac',) ('data/American/p300/p300_248_mic1.flac',) ('data/American/p299/p299_014_mic1.flac',) ('data/Scottish/p234/p234_180_mic2.flac',) ('p300',) ('p299',) ('p300',) ('American',) ('Scottish',)\n",
      "('data/Irish/p298/p298_238_mic1.flac',) ('data/Irish/p298/p298_330_mic1.flac',) ('data/Irish/p245/p245_291_mic1.flac',) ('data/American/p300/p300_144_mic1.flac',) ('p298',) ('p245',) ('p298',) ('Irish',) ('American',)\n",
      "('data/Scottish/p234/p234_214_mic2.flac',) ('data/Scottish/p234/p234_342_mic1.flac',) ('data/Scottish/p284/p284_252_mic2.flac',) ('data/Irish/p283/p283_037_mic1.flac',) ('p234',) ('p284',) ('p234',) ('Scottish',) ('Irish',)\n",
      "('data/Irish/p245/p245_059_mic2.flac',) ('data/Irish/p245/p245_054_mic1.flac',) ('data/Irish/p283/p283_377_mic2.flac',) ('data/Indian/p248/p248_092_mic2.flac',) ('p245',) ('p283',) ('p245',) ('Irish',) ('Indian',)\n",
      "('data/Irish/p295/p295_232_mic1.flac',) ('data/Irish/p295/p295_005_mic1.flac',) ('data/Irish/p245/p245_297_mic1.flac',) ('data/American/p300/p300_066_mic2.flac',) ('p295',) ('p245',) ('p295',) ('Irish',) ('American',)\n",
      "('data/Scottish/p249/p249_027_mic2.flac',) ('data/Scottish/p249/p249_221_mic2.flac',) ('data/Scottish/p284/p284_238_mic1.flac',) ('data/Irish/p245/p245_045_mic1.flac',) ('p249',) ('p284',) ('p249',) ('Scottish',) ('Irish',)\n",
      "('data/Scottish/p234/p234_231_mic1.flac',) ('data/Scottish/p234/p234_083_mic1.flac',) ('data/Scottish/p237/p237_006_mic2.flac',) ('data/Indian/p376/p376_292_mic1.flac',) ('p234',) ('p237',) ('p234',) ('Scottish',) ('Indian',)\n",
      "('data/American/p299/p299_099_mic2.flac',) ('data/American/p299/p299_183_mic2.flac',) ('data/American/p300/p300_223_mic1.flac',) ('data/Indian/p376/p376_176_mic2.flac',) ('p299',) ('p300',) ('p299',) ('American',) ('Indian',)\n",
      "('data/American/p300/p300_185_mic2.flac',) ('data/American/p300/p300_236_mic2.flac',) ('data/American/p299/p299_318_mic2.flac',) ('data/Irish/p298/p298_064_mic1.flac',) ('p300',) ('p299',) ('p300',) ('American',) ('Irish',)\n",
      "('data/Scottish/p237/p237_134_mic1.flac',) ('data/Scottish/p237/p237_089_mic2.flac',) ('data/Scottish/p284/p284_075_mic2.flac',) ('data/Irish/p283/p283_398_mic2.flac',) ('p237',) ('p284',) ('p237',) ('Scottish',) ('Irish',)\n",
      "('data/Irish/p245/p245_182_mic1.flac',) ('data/Irish/p245/p245_200_mic2.flac',) ('data/Irish/p283/p283_174_mic2.flac',) ('data/Indian/p376/p376_209_mic1.flac',) ('p245',) ('p283',) ('p245',) ('Irish',) ('Indian',)\n",
      "('data/Irish/p295/p295_209_mic1.flac',) ('data/Irish/p295/p295_108_mic1.flac',) ('data/Irish/p283/p283_267_mic1.flac',) ('data/Indian/p376/p376_324_mic1.flac',) ('p295',) ('p283',) ('p295',) ('Irish',) ('Indian',)\n",
      "('data/American/p300/p300_301_mic1.flac',) ('data/American/p300/p300_100_mic1.flac',) ('data/American/p301/p301_156_mic1.flac',) ('data/Scottish/p234/p234_105_mic1.flac',) ('p300',) ('p301',) ('p300',) ('American',) ('Scottish',)\n",
      "('data/American/p299/p299_385_mic2.flac',) ('data/American/p299/p299_056_mic2.flac',) ('data/American/p301/p301_170_mic1.flac',) ('data/Indian/p376/p376_130_mic1.flac',) ('p299',) ('p301',) ('p299',) ('American',) ('Indian',)\n",
      "('data/Irish/p295/p295_210_mic2.flac',) ('data/Irish/p295/p295_044_mic1.flac',) ('data/Irish/p298/p298_304_mic2.flac',) ('data/American/p300/p300_138_mic1.flac',) ('p295',) ('p298',) ('p295',) ('Irish',) ('American',)\n",
      "('data/American/p300/p300_154_mic2.flac',) ('data/American/p300/p300_142_mic1.flac',) ('data/American/p299/p299_269_mic2.flac',) ('data/Scottish/p249/p249_265_mic2.flac',) ('p300',) ('p299',) ('p300',) ('American',) ('Scottish',)\n",
      "('data/Indian/p248/p248_009_mic1.flac',) ('data/Indian/p248/p248_104_mic2.flac',) ('data/Indian/p376/p376_201_mic2.flac',) ('data/Scottish/p284/p284_328_mic1.flac',) ('p248',) ('p376',) ('p248',) ('Indian',) ('Scottish',)\n",
      "('data/Irish/p295/p295_408_mic1.flac',) ('data/Irish/p295/p295_160_mic2.flac',) ('data/Irish/p298/p298_030_mic2.flac',) ('data/Indian/p251/p251_125_mic2.flac',) ('p295',) ('p298',) ('p295',) ('Irish',) ('Indian',)\n",
      "('data/American/p299/p299_194_mic2.flac',) ('data/American/p299/p299_031_mic2.flac',) ('data/American/p300/p300_330_mic2.flac',) ('data/Irish/p298/p298_242_mic2.flac',) ('p299',) ('p300',) ('p299',) ('American',) ('Irish',)\n",
      "('data/Irish/p295/p295_306_mic2.flac',) ('data/Irish/p295/p295_111_mic2.flac',) ('data/Irish/p245/p245_293_mic2.flac',) ('data/Scottish/p237/p237_218_mic2.flac',) ('p295',) ('p245',) ('p295',) ('Irish',) ('Scottish',)\n",
      "('data/Scottish/p284/p284_064_mic2.flac',) ('data/Scottish/p284/p284_328_mic1.flac',) ('data/Scottish/p237/p237_262_mic2.flac',) ('data/Indian/p251/p251_293_mic2.flac',) ('p284',) ('p237',) ('p284',) ('Scottish',) ('Indian',)\n",
      "('data/Irish/p245/p245_162_mic1.flac',) ('data/Irish/p245/p245_149_mic2.flac',) ('data/Irish/p283/p283_246_mic1.flac',) ('data/American/p301/p301_384_mic2.flac',) ('p245',) ('p283',) ('p245',) ('Irish',) ('American',)\n",
      "('data/Irish/p245/p245_122_mic1.flac',) ('data/Irish/p245/p245_055_mic1.flac',) ('data/Irish/p283/p283_011_mic2.flac',) ('data/American/p300/p300_198_mic2.flac',) ('p245',) ('p283',) ('p245',) ('Irish',) ('American',)\n",
      "('data/Irish/p245/p245_219_mic2.flac',) ('data/Irish/p245/p245_073_mic1.flac',) ('data/Irish/p295/p295_183_mic1.flac',) ('data/American/p300/p300_177_mic1.flac',) ('p245',) ('p295',) ('p245',) ('Irish',) ('American',)\n",
      "('data/American/p300/p300_206_mic2.flac',) ('data/American/p300/p300_097_mic1.flac',) ('data/American/p299/p299_174_mic2.flac',) ('data/Scottish/p284/p284_290_mic1.flac',) ('p300',) ('p299',) ('p300',) ('American',) ('Scottish',)\n",
      "('data/Irish/p295/p295_390_mic1.flac',) ('data/Irish/p295/p295_293_mic1.flac',) ('data/Irish/p245/p245_109_mic2.flac',) ('data/Scottish/p284/p284_279_mic2.flac',) ('p295',) ('p245',) ('p295',) ('Irish',) ('Scottish',)\n",
      "('data/American/p299/p299_192_mic1.flac',) ('data/American/p299/p299_017_mic1.flac',) ('data/American/p301/p301_407_mic1.flac',) ('data/Scottish/p234/p234_136_mic2.flac',) ('p299',) ('p301',) ('p299',) ('American',) ('Scottish',)\n",
      "('data/Scottish/p284/p284_118_mic2.flac',) ('data/Scottish/p284/p284_296_mic1.flac',) ('data/Scottish/p237/p237_167_mic2.flac',) ('data/Indian/p376/p376_211_mic2.flac',) ('p284',) ('p237',) ('p284',) ('Scottish',) ('Indian',)\n",
      "('data/Indian/p251/p251_209_mic1.flac',) ('data/Indian/p251/p251_253_mic2.flac',) ('data/Indian/p248/p248_004_mic2.flac',) ('data/Scottish/p234/p234_129_mic2.flac',) ('p251',) ('p248',) ('p251',) ('Indian',) ('Scottish',)\n",
      "('data/Irish/p295/p295_067_mic2.flac',) ('data/Irish/p295/p295_287_mic2.flac',) ('data/Irish/p283/p283_374_mic2.flac',) ('data/Scottish/p237/p237_105_mic2.flac',) ('p295',) ('p283',) ('p295',) ('Irish',) ('Scottish',)\n",
      "('data/Irish/p298/p298_301_mic2.flac',) ('data/Irish/p298/p298_398_mic2.flac',) ('data/Irish/p245/p245_231_mic1.flac',) ('data/Scottish/p234/p234_013_mic1.flac',) ('p298',) ('p245',) ('p298',) ('Irish',) ('Scottish',)\n",
      "('data/Scottish/p234/p234_097_mic2.flac',) ('data/Scottish/p234/p234_117_mic2.flac',) ('data/Scottish/p249/p249_277_mic1.flac',) ('data/Irish/p298/p298_220_mic1.flac',) ('p234',) ('p249',) ('p234',) ('Scottish',) ('Irish',)\n",
      "('data/Irish/p295/p295_360_mic1.flac',) ('data/Irish/p295/p295_026_mic2.flac',) ('data/Irish/p245/p245_330_mic1.flac',) ('data/Scottish/p237/p237_182_mic2.flac',) ('p295',) ('p245',) ('p295',) ('Irish',) ('Scottish',)\n",
      "('data/Irish/p298/p298_228_mic1.flac',) ('data/Irish/p298/p298_153_mic2.flac',) ('data/Irish/p295/p295_288_mic1.flac',) ('data/Indian/p376/p376_416_mic1.flac',) ('p298',) ('p295',) ('p298',) ('Irish',) ('Indian',)\n",
      "('data/American/p301/p301_156_mic1.flac',) ('data/American/p301/p301_019_mic2.flac',) ('data/American/p300/p300_272_mic2.flac',) ('data/Irish/p245/p245_212_mic1.flac',) ('p301',) ('p300',) ('p301',) ('American',) ('Irish',)\n",
      "('data/Irish/p298/p298_005_mic2.flac',) ('data/Irish/p298/p298_082_mic2.flac',) ('data/Irish/p295/p295_289_mic2.flac',) ('data/American/p301/p301_160_mic2.flac',) ('p298',) ('p295',) ('p298',) ('Irish',) ('American',)\n",
      "('data/Indian/p251/p251_245_mic1.flac',) ('data/Indian/p251/p251_330_mic2.flac',) ('data/Indian/p376/p376_065_mic2.flac',) ('data/Scottish/p249/p249_285_mic1.flac',) ('p251',) ('p376',) ('p251',) ('Indian',) ('Scottish',)\n",
      "('data/Irish/p283/p283_112_mic1.flac',) ('data/Irish/p283/p283_410_mic1.flac',) ('data/Irish/p295/p295_032_mic1.flac',) ('data/American/p300/p300_363_mic1.flac',) ('p283',) ('p295',) ('p283',) ('Irish',) ('American',)\n",
      "('data/Indian/p376/p376_299_mic2.flac',) ('data/Indian/p376/p376_220_mic2.flac',) ('data/Indian/p248/p248_119_mic2.flac',) ('data/Scottish/p249/p249_340_mic2.flac',) ('p376',) ('p248',) ('p376',) ('Indian',) ('Scottish',)\n",
      "('data/Indian/p376/p376_076_mic2.flac',) ('data/Indian/p376/p376_116_mic2.flac',) ('data/Indian/p251/p251_348_mic1.flac',) ('data/American/p301/p301_146_mic1.flac',) ('p376',) ('p251',) ('p376',) ('Indian',) ('American',)\n",
      "('data/Scottish/p249/p249_199_mic1.flac',) ('data/Scottish/p249/p249_298_mic1.flac',) ('data/Scottish/p234/p234_171_mic2.flac',) ('data/American/p301/p301_111_mic2.flac',) ('p249',) ('p234',) ('p249',) ('Scottish',) ('American',)\n",
      "('data/Indian/p376/p376_393_mic2.flac',) ('data/Indian/p376/p376_300_mic2.flac',) ('data/Indian/p248/p248_227_mic1.flac',) ('data/Irish/p295/p295_298_mic2.flac',) ('p376',) ('p248',) ('p376',) ('Indian',) ('Irish',)\n",
      "('data/American/p301/p301_191_mic1.flac',) ('data/American/p301/p301_284_mic2.flac',) ('data/American/p300/p300_088_mic2.flac',) ('data/Scottish/p237/p237_190_mic2.flac',) ('p301',) ('p300',) ('p301',) ('American',) ('Scottish',)\n",
      "('data/Scottish/p234/p234_214_mic1.flac',) ('data/Scottish/p234/p234_324_mic1.flac',) ('data/Scottish/p237/p237_343_mic1.flac',) ('data/Irish/p245/p245_175_mic1.flac',) ('p234',) ('p237',) ('p234',) ('Scottish',) ('Irish',)\n",
      "('data/Scottish/p284/p284_072_mic1.flac',) ('data/Scottish/p284/p284_270_mic1.flac',) ('data/Scottish/p234/p234_026_mic2.flac',) ('data/Indian/p248/p248_233_mic1.flac',) ('p284',) ('p234',) ('p284',) ('Scottish',) ('Indian',)\n",
      "('data/American/p301/p301_134_mic1.flac',) ('data/American/p301/p301_255_mic1.flac',) ('data/American/p300/p300_080_mic1.flac',) ('data/Scottish/p237/p237_212_mic2.flac',) ('p301',) ('p300',) ('p301',) ('American',) ('Scottish',)\n",
      "('data/Irish/p245/p245_198_mic1.flac',) ('data/Irish/p245/p245_278_mic2.flac',) ('data/Irish/p295/p295_296_mic1.flac',) ('data/American/p300/p300_108_mic2.flac',) ('p245',) ('p295',) ('p245',) ('Irish',) ('American',)\n",
      "('data/Irish/p245/p245_054_mic2.flac',) ('data/Irish/p245/p245_027_mic2.flac',) ('data/Irish/p298/p298_187_mic1.flac',) ('data/American/p300/p300_359_mic2.flac',) ('p245',) ('p298',) ('p245',) ('Irish',) ('American',)\n",
      "('data/Scottish/p234/p234_071_mic1.flac',) ('data/Scottish/p234/p234_115_mic2.flac',) ('data/Scottish/p237/p237_297_mic2.flac',) ('data/Irish/p295/p295_058_mic2.flac',) ('p234',) ('p237',) ('p234',) ('Scottish',) ('Irish',)\n",
      "('data/Irish/p245/p245_334_mic2.flac',) ('data/Irish/p245/p245_208_mic1.flac',) ('data/Irish/p295/p295_032_mic1.flac',) ('data/American/p301/p301_021_mic1.flac',) ('p245',) ('p295',) ('p245',) ('Irish',) ('American',)\n",
      "('data/American/p300/p300_109_mic1.flac',) ('data/American/p300/p300_264_mic1.flac',) ('data/American/p301/p301_024_mic2.flac',) ('data/Scottish/p249/p249_088_mic2.flac',) ('p300',) ('p301',) ('p300',) ('American',) ('Scottish',)\n",
      "('data/Indian/p251/p251_351_mic2.flac',) ('data/Indian/p251/p251_293_mic1.flac',) ('data/Indian/p248/p248_334_mic2.flac',) ('data/Irish/p245/p245_293_mic1.flac',) ('p251',) ('p248',) ('p251',) ('Indian',) ('Irish',)\n",
      "('data/American/p301/p301_054_mic2.flac',) ('data/American/p301/p301_189_mic1.flac',) ('data/American/p300/p300_350_mic1.flac',) ('data/Scottish/p234/p234_188_mic2.flac',) ('p301',) ('p300',) ('p301',) ('American',) ('Scottish',)\n",
      "('data/Scottish/p237/p237_249_mic1.flac',) ('data/Scottish/p237/p237_256_mic2.flac',) ('data/Scottish/p234/p234_042_mic1.flac',) ('data/Indian/p248/p248_113_mic2.flac',) ('p237',) ('p234',) ('p237',) ('Scottish',) ('Indian',)\n",
      "('data/Indian/p376/p376_248_mic1.flac',) ('data/Indian/p376/p376_150_mic1.flac',) ('data/Indian/p248/p248_319_mic1.flac',) ('data/Scottish/p237/p237_285_mic1.flac',) ('p376',) ('p248',) ('p376',) ('Indian',) ('Scottish',)\n",
      "('data/American/p300/p300_309_mic2.flac',) ('data/American/p300/p300_246_mic1.flac',) ('data/American/p301/p301_249_mic2.flac',) ('data/Irish/p283/p283_440_mic1.flac',) ('p300',) ('p301',) ('p300',) ('American',) ('Irish',)\n",
      "('data/Irish/p298/p298_104_mic1.flac',) ('data/Irish/p298/p298_296_mic1.flac',) ('data/Irish/p295/p295_072_mic2.flac',) ('data/Scottish/p234/p234_177_mic2.flac',) ('p298',) ('p295',) ('p298',) ('Irish',) ('Scottish',)\n",
      "('data/Indian/p251/p251_037_mic1.flac',) ('data/Indian/p251/p251_218_mic1.flac',) ('data/Indian/p376/p376_407_mic2.flac',) ('data/American/p299/p299_084_mic1.flac',) ('p251',) ('p376',) ('p251',) ('Indian',) ('American',)\n"
     ]
    },
    {
     "name": "stdout",
     "output_type": "stream",
     "text": [
      "('data/Scottish/p249/p249_063_mic1.flac',) ('data/Scottish/p249/p249_345_mic1.flac',) ('data/Scottish/p234/p234_066_mic1.flac',) ('data/Irish/p295/p295_318_mic1.flac',) ('p249',) ('p234',) ('p249',) ('Scottish',) ('Irish',)\n",
      "('data/Indian/p376/p376_154_mic2.flac',) ('data/Indian/p376/p376_400_mic2.flac',) ('data/Indian/p248/p248_087_mic2.flac',) ('data/American/p301/p301_093_mic1.flac',) ('p376',) ('p248',) ('p376',) ('Indian',) ('American',)\n",
      "('data/Scottish/p249/p249_252_mic1.flac',) ('data/Scottish/p249/p249_179_mic2.flac',) ('data/Scottish/p234/p234_224_mic2.flac',) ('data/Irish/p245/p245_302_mic1.flac',) ('p249',) ('p234',) ('p249',) ('Scottish',) ('Irish',)\n",
      "('data/Scottish/p284/p284_028_mic2.flac',) ('data/Scottish/p284/p284_110_mic2.flac',) ('data/Scottish/p237/p237_050_mic2.flac',) ('data/Irish/p245/p245_177_mic2.flac',) ('p284',) ('p237',) ('p284',) ('Scottish',) ('Irish',)\n",
      "('data/Indian/p248/p248_280_mic2.flac',) ('data/Indian/p248/p248_015_mic2.flac',) ('data/Indian/p376/p376_131_mic2.flac',) ('data/American/p299/p299_243_mic2.flac',) ('p248',) ('p376',) ('p248',) ('Indian',) ('American',)\n",
      "('data/Scottish/p237/p237_213_mic1.flac',) ('data/Scottish/p237/p237_106_mic1.flac',) ('data/Scottish/p234/p234_233_mic2.flac',) ('data/Irish/p295/p295_319_mic1.flac',) ('p237',) ('p234',) ('p237',) ('Scottish',) ('Irish',)\n",
      "('data/Indian/p376/p376_123_mic2.flac',) ('data/Indian/p376/p376_358_mic1.flac',) ('data/Indian/p251/p251_080_mic1.flac',) ('data/Irish/p298/p298_078_mic1.flac',) ('p376',) ('p251',) ('p376',) ('Indian',) ('Irish',)\n",
      "('data/Indian/p251/p251_205_mic1.flac',) ('data/Indian/p251/p251_007_mic1.flac',) ('data/Indian/p248/p248_272_mic2.flac',) ('data/Scottish/p249/p249_354_mic1.flac',) ('p251',) ('p248',) ('p251',) ('Indian',) ('Scottish',)\n",
      "('data/American/p301/p301_096_mic2.flac',) ('data/American/p301/p301_100_mic1.flac',) ('data/American/p299/p299_164_mic1.flac',) ('data/Indian/p248/p248_346_mic2.flac',) ('p301',) ('p299',) ('p301',) ('American',) ('Indian',)\n",
      "('data/Scottish/p234/p234_038_mic2.flac',) ('data/Scottish/p234/p234_017_mic2.flac',) ('data/Scottish/p284/p284_193_mic2.flac',) ('data/Indian/p251/p251_001_mic2.flac',) ('p234',) ('p284',) ('p234',) ('Scottish',) ('Indian',)\n",
      "('data/Indian/p251/p251_244_mic1.flac',) ('data/Indian/p251/p251_121_mic2.flac',) ('data/Indian/p376/p376_389_mic1.flac',) ('data/Scottish/p237/p237_238_mic2.flac',) ('p251',) ('p376',) ('p251',) ('Indian',) ('Scottish',)\n",
      "('data/American/p299/p299_073_mic1.flac',) ('data/American/p299/p299_278_mic1.flac',) ('data/American/p300/p300_195_mic2.flac',) ('data/Scottish/p237/p237_044_mic1.flac',) ('p299',) ('p300',) ('p299',) ('American',) ('Scottish',)\n",
      "('data/American/p300/p300_186_mic1.flac',) ('data/American/p300/p300_116_mic1.flac',) ('data/American/p301/p301_068_mic1.flac',) ('data/Indian/p376/p376_128_mic2.flac',) ('p300',) ('p301',) ('p300',) ('American',) ('Indian',)\n",
      "('data/Indian/p248/p248_033_mic2.flac',) ('data/Indian/p248/p248_339_mic2.flac',) ('data/Indian/p251/p251_113_mic1.flac',) ('data/Scottish/p234/p234_034_mic1.flac',) ('p248',) ('p251',) ('p248',) ('Indian',) ('Scottish',)\n",
      "('data/Scottish/p249/p249_147_mic1.flac',) ('data/Scottish/p249/p249_347_mic2.flac',) ('data/Scottish/p237/p237_094_mic1.flac',) ('data/American/p300/p300_163_mic1.flac',) ('p249',) ('p237',) ('p249',) ('Scottish',) ('American',)\n",
      "('data/American/p299/p299_084_mic2.flac',) ('data/American/p299/p299_159_mic1.flac',) ('data/American/p300/p300_020_mic1.flac',) ('data/Scottish/p284/p284_124_mic2.flac',) ('p299',) ('p300',) ('p299',) ('American',) ('Scottish',)\n",
      "('data/Scottish/p284/p284_009_mic2.flac',) ('data/Scottish/p284/p284_180_mic2.flac',) ('data/Scottish/p249/p249_129_mic1.flac',) ('data/American/p299/p299_161_mic2.flac',) ('p284',) ('p249',) ('p284',) ('Scottish',) ('American',)\n",
      "('data/Scottish/p237/p237_106_mic1.flac',) ('data/Scottish/p237/p237_348_mic1.flac',) ('data/Scottish/p249/p249_210_mic2.flac',) ('data/American/p299/p299_033_mic1.flac',) ('p237',) ('p249',) ('p237',) ('Scottish',) ('American',)\n",
      "('data/American/p299/p299_099_mic2.flac',) ('data/American/p299/p299_345_mic2.flac',) ('data/American/p301/p301_403_mic2.flac',) ('data/Irish/p298/p298_338_mic1.flac',) ('p299',) ('p301',) ('p299',) ('American',) ('Irish',)\n",
      "('data/Irish/p295/p295_147_mic2.flac',) ('data/Irish/p295/p295_063_mic1.flac',) ('data/Irish/p245/p245_102_mic2.flac',) ('data/Scottish/p284/p284_392_mic1.flac',) ('p295',) ('p245',) ('p295',) ('Irish',) ('Scottish',)\n",
      "('data/American/p301/p301_007_mic1.flac',) ('data/American/p301/p301_324_mic2.flac',) ('data/American/p300/p300_187_mic2.flac',) ('data/Scottish/p249/p249_348_mic2.flac',) ('p301',) ('p300',) ('p301',) ('American',) ('Scottish',)\n",
      "('data/Irish/p245/p245_081_mic1.flac',) ('data/Irish/p245/p245_357_mic2.flac',) ('data/Irish/p298/p298_002_mic2.flac',) ('data/American/p299/p299_187_mic2.flac',) ('p245',) ('p298',) ('p245',) ('Irish',) ('American',)\n",
      "('data/Scottish/p237/p237_064_mic1.flac',) ('data/Scottish/p237/p237_322_mic1.flac',) ('data/Scottish/p249/p249_330_mic2.flac',) ('data/Irish/p298/p298_379_mic2.flac',) ('p237',) ('p249',) ('p237',) ('Scottish',) ('Irish',)\n",
      "('data/Indian/p248/p248_309_mic1.flac',) ('data/Indian/p248/p248_340_mic1.flac',) ('data/Indian/p251/p251_069_mic1.flac',) ('data/Scottish/p284/p284_216_mic1.flac',) ('p248',) ('p251',) ('p248',) ('Indian',) ('Scottish',)\n",
      "('data/Indian/p251/p251_110_mic2.flac',) ('data/Indian/p251/p251_184_mic1.flac',) ('data/Indian/p248/p248_264_mic1.flac',) ('data/Scottish/p237/p237_035_mic2.flac',) ('p251',) ('p248',) ('p251',) ('Indian',) ('Scottish',)\n",
      "('data/American/p300/p300_256_mic1.flac',) ('data/American/p300/p300_090_mic1.flac',) ('data/American/p299/p299_298_mic1.flac',) ('data/Irish/p295/p295_400_mic2.flac',) ('p300',) ('p299',) ('p300',) ('American',) ('Irish',)\n",
      "('data/American/p299/p299_380_mic2.flac',) ('data/American/p299/p299_276_mic2.flac',) ('data/American/p300/p300_274_mic2.flac',) ('data/Indian/p376/p376_051_mic2.flac',) ('p299',) ('p300',) ('p299',) ('American',) ('Indian',)\n",
      "('data/Scottish/p284/p284_122_mic1.flac',) ('data/Scottish/p284/p284_117_mic2.flac',) ('data/Scottish/p249/p249_336_mic2.flac',) ('data/Irish/p283/p283_404_mic2.flac',) ('p284',) ('p249',) ('p284',) ('Scottish',) ('Irish',)\n",
      "('data/Indian/p251/p251_135_mic2.flac',) ('data/Indian/p251/p251_195_mic2.flac',) ('data/Indian/p376/p376_237_mic1.flac',) ('data/Scottish/p237/p237_015_mic1.flac',) ('p251',) ('p376',) ('p251',) ('Indian',) ('Scottish',)\n",
      "('data/American/p301/p301_283_mic1.flac',) ('data/American/p301/p301_214_mic2.flac',) ('data/American/p299/p299_075_mic2.flac',) ('data/Indian/p248/p248_343_mic2.flac',) ('p301',) ('p299',) ('p301',) ('American',) ('Indian',)\n",
      "('data/Irish/p245/p245_099_mic2.flac',) ('data/Irish/p245/p245_174_mic2.flac',) ('data/Irish/p283/p283_390_mic2.flac',) ('data/Scottish/p237/p237_294_mic2.flac',) ('p245',) ('p283',) ('p245',) ('Irish',) ('Scottish',)\n",
      "('data/Irish/p283/p283_204_mic1.flac',) ('data/Irish/p283/p283_119_mic1.flac',) ('data/Irish/p298/p298_085_mic1.flac',) ('data/American/p299/p299_305_mic2.flac',) ('p283',) ('p298',) ('p283',) ('Irish',) ('American',)\n",
      "('data/Irish/p245/p245_223_mic2.flac',) ('data/Irish/p245/p245_221_mic2.flac',) ('data/Irish/p283/p283_137_mic2.flac',) ('data/Scottish/p237/p237_240_mic2.flac',) ('p245',) ('p283',) ('p245',) ('Irish',) ('Scottish',)\n",
      "('data/Irish/p245/p245_251_mic1.flac',) ('data/Irish/p245/p245_311_mic2.flac',) ('data/Irish/p295/p295_083_mic2.flac',) ('data/Indian/p251/p251_234_mic1.flac',) ('p245',) ('p295',) ('p245',) ('Irish',) ('Indian',)\n",
      "('data/American/p299/p299_175_mic1.flac',) ('data/American/p299/p299_103_mic2.flac',) ('data/American/p301/p301_298_mic1.flac',) ('data/Indian/p251/p251_188_mic2.flac',) ('p299',) ('p301',) ('p299',) ('American',) ('Indian',)\n",
      "('data/American/p299/p299_251_mic2.flac',) ('data/American/p299/p299_047_mic2.flac',) ('data/American/p300/p300_299_mic1.flac',) ('data/Irish/p295/p295_068_mic1.flac',) ('p299',) ('p300',) ('p299',) ('American',) ('Irish',)\n",
      "('data/Scottish/p249/p249_339_mic1.flac',) ('data/Scottish/p249/p249_002_mic2.flac',) ('data/Scottish/p284/p284_321_mic1.flac',) ('data/Indian/p248/p248_313_mic2.flac',) ('p249',) ('p284',) ('p249',) ('Scottish',) ('Indian',)\n",
      "('data/Irish/p295/p295_184_mic2.flac',) ('data/Irish/p295/p295_214_mic2.flac',) ('data/Irish/p283/p283_077_mic2.flac',) ('data/Scottish/p284/p284_399_mic1.flac',) ('p295',) ('p283',) ('p295',) ('Irish',) ('Scottish',)\n",
      "('data/Irish/p295/p295_321_mic1.flac',) ('data/Irish/p295/p295_218_mic1.flac',) ('data/Irish/p245/p245_102_mic1.flac',) ('data/Scottish/p237/p237_053_mic2.flac',) ('p295',) ('p245',) ('p295',) ('Irish',) ('Scottish',)\n",
      "('data/Irish/p298/p298_001_mic1.flac',) ('data/Irish/p298/p298_138_mic1.flac',) ('data/Irish/p245/p245_156_mic2.flac',) ('data/Scottish/p234/p234_318_mic2.flac',) ('p298',) ('p245',) ('p298',) ('Irish',) ('Scottish',)\n",
      "('data/Scottish/p237/p237_347_mic1.flac',) ('data/Scottish/p237/p237_094_mic1.flac',) ('data/Scottish/p234/p234_033_mic2.flac',) ('data/Irish/p283/p283_437_mic2.flac',) ('p237',) ('p234',) ('p237',) ('Scottish',) ('Irish',)\n",
      "('data/Irish/p298/p298_282_mic2.flac',) ('data/Irish/p298/p298_002_mic1.flac',) ('data/Irish/p283/p283_063_mic1.flac',) ('data/American/p300/p300_136_mic2.flac',) ('p298',) ('p283',) ('p298',) ('Irish',) ('American',)\n",
      "('data/Irish/p245/p245_334_mic1.flac',) ('data/Irish/p245/p245_013_mic1.flac',) ('data/Irish/p295/p295_078_mic1.flac',) ('data/American/p299/p299_204_mic2.flac',) ('p245',) ('p295',) ('p245',) ('Irish',) ('American',)\n",
      "('data/Scottish/p249/p249_172_mic1.flac',) ('data/Scottish/p249/p249_143_mic1.flac',) ('data/Scottish/p284/p284_103_mic2.flac',) ('data/American/p301/p301_164_mic2.flac',) ('p249',) ('p284',) ('p249',) ('Scottish',) ('American',)\n",
      "('data/American/p301/p301_410_mic2.flac',) ('data/American/p301/p301_146_mic1.flac',) ('data/American/p300/p300_069_mic2.flac',) ('data/Indian/p248/p248_200_mic2.flac',) ('p301',) ('p300',) ('p301',) ('American',) ('Indian',)\n",
      "('data/American/p300/p300_156_mic1.flac',) ('data/American/p300/p300_065_mic1.flac',) ('data/American/p299/p299_207_mic2.flac',) ('data/Indian/p251/p251_241_mic2.flac',) ('p300',) ('p299',) ('p300',) ('American',) ('Indian',)\n",
      "('data/Scottish/p234/p234_134_mic2.flac',) ('data/Scottish/p234/p234_124_mic1.flac',) ('data/Scottish/p284/p284_370_mic1.flac',) ('data/Irish/p245/p245_128_mic1.flac',) ('p234',) ('p284',) ('p234',) ('Scottish',) ('Irish',)\n",
      "('data/Indian/p248/p248_239_mic2.flac',) ('data/Indian/p248/p248_162_mic1.flac',) ('data/Indian/p376/p376_182_mic1.flac',) ('data/Scottish/p284/p284_052_mic2.flac',) ('p248',) ('p376',) ('p248',) ('Indian',) ('Scottish',)\n",
      "('data/Indian/p376/p376_022_mic1.flac',) ('data/Indian/p376/p376_060_mic1.flac',) ('data/Indian/p248/p248_025_mic2.flac',) ('data/American/p299/p299_371_mic1.flac',) ('p376',) ('p248',) ('p376',) ('Indian',) ('American',)\n",
      "('data/Indian/p251/p251_185_mic1.flac',) ('data/Indian/p251/p251_115_mic1.flac',) ('data/Indian/p248/p248_224_mic2.flac',) ('data/Scottish/p234/p234_020_mic1.flac',) ('p251',) ('p248',) ('p251',) ('Indian',) ('Scottish',)\n",
      "('data/Scottish/p249/p249_111_mic1.flac',) ('data/Scottish/p249/p249_148_mic1.flac',) ('data/Scottish/p234/p234_241_mic1.flac',) ('data/Indian/p251/p251_219_mic2.flac',) ('p249',) ('p234',) ('p249',) ('Scottish',) ('Indian',)\n",
      "('data/American/p300/p300_089_mic2.flac',) ('data/American/p300/p300_275_mic1.flac',) ('data/American/p299/p299_100_mic1.flac',) ('data/Irish/p245/p245_261_mic1.flac',) ('p300',) ('p299',) ('p300',) ('American',) ('Irish',)\n",
      "('data/Irish/p283/p283_173_mic2.flac',) ('data/Irish/p283/p283_024_mic1.flac',) ('data/Irish/p245/p245_225_mic1.flac',) ('data/Indian/p376/p376_396_mic1.flac',) ('p283',) ('p245',) ('p283',) ('Irish',) ('Indian',)\n",
      "('data/Scottish/p234/p234_237_mic1.flac',) ('data/Scottish/p234/p234_161_mic2.flac',) ('data/Scottish/p284/p284_026_mic2.flac',) ('data/American/p299/p299_351_mic1.flac',) ('p234',) ('p284',) ('p234',) ('Scottish',) ('American',)\n",
      "('data/Scottish/p249/p249_166_mic2.flac',) ('data/Scottish/p249/p249_149_mic1.flac',) ('data/Scottish/p234/p234_080_mic2.flac',) ('data/American/p299/p299_169_mic2.flac',) ('p249',) ('p234',) ('p249',) ('Scottish',) ('American',)\n",
      "('data/American/p301/p301_345_mic1.flac',) ('data/American/p301/p301_287_mic2.flac',) ('data/American/p299/p299_342_mic1.flac',) ('data/Irish/p245/p245_172_mic2.flac',) ('p301',) ('p299',) ('p301',) ('American',) ('Irish',)\n",
      "('data/Scottish/p284/p284_094_mic2.flac',) ('data/Scottish/p284/p284_209_mic2.flac',) ('data/Scottish/p234/p234_246_mic2.flac',) ('data/Indian/p376/p376_324_mic1.flac',) ('p284',) ('p234',) ('p284',) ('Scottish',) ('Indian',)\n",
      "('data/Scottish/p284/p284_141_mic1.flac',) ('data/Scottish/p284/p284_120_mic2.flac',) ('data/Scottish/p237/p237_222_mic1.flac',) ('data/American/p301/p301_100_mic1.flac',) ('p284',) ('p237',) ('p284',) ('Scottish',) ('American',)\n",
      "('data/Irish/p298/p298_228_mic2.flac',) ('data/Irish/p298/p298_283_mic2.flac',) ('data/Irish/p245/p245_083_mic1.flac',) ('data/Indian/p376/p376_252_mic2.flac',) ('p298',) ('p245',) ('p298',) ('Irish',) ('Indian',)\n",
      "('data/Scottish/p284/p284_062_mic1.flac',) ('data/Scottish/p284/p284_352_mic1.flac',) ('data/Scottish/p237/p237_187_mic2.flac',) ('data/American/p300/p300_244_mic1.flac',) ('p284',) ('p237',) ('p284',) ('Scottish',) ('American',)\n",
      "('data/Scottish/p234/p234_172_mic1.flac',) ('data/Scottish/p234/p234_009_mic2.flac',) ('data/Scottish/p237/p237_285_mic1.flac',) ('data/Indian/p376/p376_047_mic2.flac',) ('p234',) ('p237',) ('p234',) ('Scottish',) ('Indian',)\n",
      "('data/American/p300/p300_226_mic2.flac',) ('data/American/p300/p300_006_mic2.flac',) ('data/American/p299/p299_254_mic1.flac',) ('data/Scottish/p284/p284_141_mic1.flac',) ('p300',) ('p299',) ('p300',) ('American',) ('Scottish',)\n",
      "('data/American/p299/p299_060_mic2.flac',) ('data/American/p299/p299_022_mic2.flac',) ('data/American/p300/p300_289_mic1.flac',) ('data/Irish/p283/p283_456_mic1.flac',) ('p299',) ('p300',) ('p299',) ('American',) ('Irish',)\n",
      "('data/American/p300/p300_130_mic2.flac',) ('data/American/p300/p300_133_mic2.flac',) ('data/American/p299/p299_197_mic1.flac',) ('data/Scottish/p237/p237_242_mic2.flac',) ('p300',) ('p299',) ('p300',) ('American',) ('Scottish',)\n",
      "('data/Indian/p376/p376_164_mic1.flac',) ('data/Indian/p376/p376_138_mic1.flac',) ('data/Indian/p248/p248_305_mic2.flac',) ('data/American/p301/p301_088_mic1.flac',) ('p376',) ('p248',) ('p376',) ('Indian',) ('American',)\n",
      "('data/Indian/p251/p251_284_mic1.flac',) ('data/Indian/p251/p251_218_mic2.flac',) ('data/Indian/p376/p376_381_mic2.flac',) ('data/American/p301/p301_402_mic2.flac',) ('p251',) ('p376',) ('p251',) ('Indian',) ('American',)\n",
      "('data/Irish/p283/p283_083_mic2.flac',) ('data/Irish/p283/p283_217_mic1.flac',) ('data/Irish/p295/p295_202_mic1.flac',) ('data/Indian/p251/p251_075_mic2.flac',) ('p283',) ('p295',) ('p283',) ('Irish',) ('Indian',)\n",
      "('data/Irish/p295/p295_267_mic1.flac',) ('data/Irish/p295/p295_283_mic2.flac',) ('data/Irish/p283/p283_034_mic2.flac',) ('data/Scottish/p249/p249_034_mic1.flac',) ('p295',) ('p283',) ('p295',) ('Irish',) ('Scottish',)\n",
      "('data/American/p301/p301_402_mic1.flac',) ('data/American/p301/p301_080_mic1.flac',) ('data/American/p300/p300_274_mic1.flac',) ('data/Scottish/p249/p249_281_mic2.flac',) ('p301',) ('p300',) ('p301',) ('American',) ('Scottish',)\n",
      "('data/Irish/p283/p283_181_mic2.flac',) ('data/Irish/p283/p283_381_mic2.flac',) ('data/Irish/p298/p298_252_mic2.flac',) ('data/American/p301/p301_031_mic2.flac',) ('p283',) ('p298',) ('p283',) ('Irish',) ('American',)\n",
      "('data/American/p301/p301_258_mic2.flac',) ('data/American/p301/p301_038_mic1.flac',) ('data/American/p300/p300_337_mic2.flac',) ('data/Scottish/p249/p249_267_mic2.flac',) ('p301',) ('p300',) ('p301',) ('American',) ('Scottish',)\n",
      "('data/Indian/p251/p251_099_mic2.flac',) ('data/Indian/p251/p251_263_mic2.flac',) ('data/Indian/p248/p248_127_mic1.flac',) ('data/American/p301/p301_129_mic2.flac',) ('p251',) ('p248',) ('p251',) ('Indian',) ('American',)\n",
      "('data/Irish/p245/p245_216_mic1.flac',) ('data/Irish/p245/p245_268_mic1.flac',) ('data/Irish/p283/p283_381_mic1.flac',) ('data/Indian/p251/p251_222_mic1.flac',) ('p245',) ('p283',) ('p245',) ('Irish',) ('Indian',)\n",
      "('data/Scottish/p237/p237_169_mic2.flac',) ('data/Scottish/p237/p237_313_mic2.flac',) ('data/Scottish/p234/p234_317_mic2.flac',) ('data/American/p299/p299_071_mic2.flac',) ('p237',) ('p234',) ('p237',) ('Scottish',) ('American',)\n",
      "('data/Irish/p245/p245_311_mic2.flac',) ('data/Irish/p245/p245_292_mic1.flac',) ('data/Irish/p298/p298_254_mic1.flac',) ('data/Indian/p251/p251_108_mic2.flac',) ('p245',) ('p298',) ('p245',) ('Irish',) ('Indian',)\n",
      "('data/Scottish/p237/p237_151_mic2.flac',) ('data/Scottish/p237/p237_195_mic2.flac',) ('data/Scottish/p249/p249_222_mic1.flac',) ('data/Irish/p245/p245_172_mic2.flac',) ('p237',) ('p249',) ('p237',) ('Scottish',) ('Irish',)\n",
      "('data/Irish/p298/p298_126_mic1.flac',) ('data/Irish/p298/p298_189_mic1.flac',) ('data/Irish/p245/p245_044_mic1.flac',) ('data/Indian/p251/p251_267_mic2.flac',) ('p298',) ('p245',) ('p298',) ('Irish',) ('Indian',)\n",
      "('data/Scottish/p284/p284_332_mic2.flac',) ('data/Scottish/p284/p284_282_mic1.flac',) ('data/Scottish/p237/p237_128_mic2.flac',) ('data/Indian/p376/p376_179_mic2.flac',) ('p284',) ('p237',) ('p284',) ('Scottish',) ('Indian',)\n",
      "('data/Scottish/p249/p249_129_mic1.flac',) ('data/Scottish/p249/p249_256_mic2.flac',) ('data/Scottish/p237/p237_200_mic2.flac',) ('data/Indian/p248/p248_111_mic2.flac',) ('p249',) ('p237',) ('p249',) ('Scottish',) ('Indian',)\n",
      "('data/Irish/p298/p298_189_mic2.flac',) ('data/Irish/p298/p298_367_mic1.flac',) ('data/Irish/p295/p295_396_mic2.flac',) ('data/American/p300/p300_303_mic2.flac',) ('p298',) ('p295',) ('p298',) ('Irish',) ('American',)\n",
      "('data/Indian/p248/p248_111_mic1.flac',) ('data/Indian/p248/p248_188_mic2.flac',) ('data/Indian/p251/p251_048_mic2.flac',) ('data/Irish/p283/p283_142_mic1.flac',) ('p248',) ('p251',) ('p248',) ('Indian',) ('Irish',)\n",
      "('data/Indian/p251/p251_123_mic1.flac',) ('data/Indian/p251/p251_173_mic1.flac',) ('data/Indian/p248/p248_202_mic1.flac',) ('data/Scottish/p284/p284_256_mic2.flac',) ('p251',) ('p248',) ('p251',) ('Indian',) ('Scottish',)\n",
      "('data/Scottish/p249/p249_121_mic2.flac',) ('data/Scottish/p249/p249_288_mic2.flac',) ('data/Scottish/p284/p284_236_mic2.flac',) ('data/American/p300/p300_322_mic2.flac',) ('p249',) ('p284',) ('p249',) ('Scottish',) ('American',)\n",
      "('data/Irish/p295/p295_269_mic1.flac',) ('data/Irish/p295/p295_110_mic2.flac',) ('data/Irish/p245/p245_233_mic1.flac',) ('data/Indian/p251/p251_353_mic2.flac',) ('p295',) ('p245',) ('p295',) ('Irish',) ('Indian',)\n",
      "('data/Indian/p251/p251_357_mic1.flac',) ('data/Indian/p251/p251_201_mic1.flac',) ('data/Indian/p376/p376_134_mic1.flac',) ('data/Irish/p295/p295_254_mic1.flac',) ('p251',) ('p376',) ('p251',) ('Indian',) ('Irish',)\n",
      "('data/Indian/p248/p248_049_mic1.flac',) ('data/Indian/p248/p248_362_mic2.flac',) ('data/Indian/p251/p251_309_mic2.flac',) ('data/Scottish/p237/p237_066_mic2.flac',) ('p248',) ('p251',) ('p248',) ('Indian',) ('Scottish',)\n",
      "('data/Scottish/p284/p284_144_mic2.flac',) ('data/Scottish/p284/p284_169_mic1.flac',) ('data/Scottish/p249/p249_143_mic2.flac',) ('data/American/p301/p301_023_mic2.flac',) ('p284',) ('p249',) ('p284',) ('Scottish',) ('American',)\n",
      "('data/Irish/p245/p245_085_mic2.flac',) ('data/Irish/p245/p245_004_mic2.flac',) ('data/Irish/p283/p283_232_mic2.flac',) ('data/Indian/p376/p376_025_mic2.flac',) ('p245',) ('p283',) ('p245',) ('Irish',) ('Indian',)\n",
      "('data/Indian/p248/p248_325_mic1.flac',) ('data/Indian/p248/p248_266_mic2.flac',) ('data/Indian/p251/p251_212_mic2.flac',) ('data/Irish/p298/p298_070_mic2.flac',) ('p248',) ('p251',) ('p248',) ('Indian',) ('Irish',)\n",
      "('data/American/p301/p301_304_mic2.flac',) ('data/American/p301/p301_299_mic1.flac',) ('data/American/p299/p299_264_mic1.flac',) ('data/Indian/p376/p376_209_mic1.flac',) ('p301',) ('p299',) ('p301',) ('American',) ('Indian',)\n",
      "('data/Indian/p251/p251_042_mic2.flac',) ('data/Indian/p251/p251_342_mic1.flac',) ('data/Indian/p248/p248_304_mic1.flac',) ('data/American/p300/p300_367_mic1.flac',) ('p251',) ('p248',) ('p251',) ('Indian',) ('American',)\n",
      "('data/American/p300/p300_231_mic2.flac',) ('data/American/p300/p300_192_mic2.flac',) ('data/American/p299/p299_197_mic2.flac',) ('data/Irish/p295/p295_131_mic1.flac',) ('p300',) ('p299',) ('p300',) ('American',) ('Irish',)\n",
      "('data/Scottish/p237/p237_299_mic1.flac',) ('data/Scottish/p237/p237_148_mic1.flac',) ('data/Scottish/p234/p234_231_mic2.flac',) ('data/Irish/p283/p283_298_mic2.flac',) ('p237',) ('p234',) ('p237',) ('Scottish',) ('Irish',)\n",
      "('data/Irish/p245/p245_013_mic1.flac',) ('data/Irish/p245/p245_094_mic1.flac',) ('data/Irish/p298/p298_289_mic1.flac',) ('data/American/p299/p299_174_mic2.flac',) ('p245',) ('p298',) ('p245',) ('Irish',) ('American',)\n",
      "('data/Indian/p248/p248_075_mic2.flac',) ('data/Indian/p248/p248_092_mic2.flac',) ('data/Indian/p376/p376_112_mic2.flac',) ('data/Irish/p245/p245_051_mic2.flac',) ('p248',) ('p376',) ('p248',) ('Indian',) ('Irish',)\n",
      "('data/Scottish/p249/p249_040_mic1.flac',) ('data/Scottish/p249/p249_184_mic1.flac',) ('data/Scottish/p234/p234_083_mic2.flac',) ('data/American/p301/p301_170_mic2.flac',) ('p249',) ('p234',) ('p249',) ('Scottish',) ('American',)\n",
      "('data/Indian/p248/p248_322_mic2.flac',) ('data/Indian/p248/p248_198_mic1.flac',) ('data/Indian/p376/p376_338_mic2.flac',) ('data/American/p299/p299_156_mic1.flac',) ('p248',) ('p376',) ('p248',) ('Indian',) ('American',)\n",
      "('data/Indian/p376/p376_263_mic1.flac',) ('data/Indian/p376/p376_298_mic2.flac',) ('data/Indian/p248/p248_022_mic1.flac',) ('data/American/p299/p299_215_mic1.flac',) ('p376',) ('p248',) ('p376',) ('Indian',) ('American',)\n",
      "('data/Scottish/p284/p284_341_mic1.flac',) ('data/Scottish/p284/p284_111_mic1.flac',) ('data/Scottish/p249/p249_213_mic1.flac',) ('data/American/p301/p301_307_mic1.flac',) ('p284',) ('p249',) ('p284',) ('Scottish',) ('American',)\n",
      "('data/American/p300/p300_236_mic1.flac',) ('data/American/p300/p300_125_mic2.flac',) ('data/American/p301/p301_211_mic2.flac',) ('data/Irish/p283/p283_143_mic2.flac',) ('p300',) ('p301',) ('p300',) ('American',) ('Irish',)\n",
      "('data/American/p299/p299_105_mic2.flac',) ('data/American/p299/p299_069_mic2.flac',) ('data/American/p301/p301_326_mic1.flac',) ('data/Indian/p248/p248_178_mic2.flac',) ('p299',) ('p301',) ('p299',) ('American',) ('Indian',)\n",
      "('data/American/p299/p299_391_mic1.flac',) ('data/American/p299/p299_061_mic1.flac',) ('data/American/p300/p300_259_mic1.flac',) ('data/Indian/p251/p251_007_mic2.flac',) ('p299',) ('p300',) ('p299',) ('American',) ('Indian',)\n",
      "('data/Indian/p251/p251_032_mic2.flac',) ('data/Indian/p251/p251_173_mic1.flac',) ('data/Indian/p376/p376_076_mic1.flac',) ('data/American/p300/p300_185_mic1.flac',) ('p251',) ('p376',) ('p251',) ('Indian',) ('American',)\n",
      "('data/Irish/p298/p298_192_mic2.flac',) ('data/Irish/p298/p298_127_mic1.flac',) ('data/Irish/p245/p245_164_mic1.flac',) ('data/American/p299/p299_362_mic2.flac',) ('p298',) ('p245',) ('p298',) ('Irish',) ('American',)\n",
      "('data/American/p300/p300_127_mic2.flac',) ('data/American/p300/p300_200_mic2.flac',) ('data/American/p299/p299_307_mic2.flac',) ('data/Irish/p298/p298_161_mic1.flac',) ('p300',) ('p299',) ('p300',) ('American',) ('Irish',)\n",
      "('data/Scottish/p237/p237_082_mic1.flac',) ('data/Scottish/p237/p237_258_mic2.flac',) ('data/Scottish/p284/p284_081_mic1.flac',) ('data/Indian/p248/p248_139_mic1.flac',) ('p237',) ('p284',) ('p237',) ('Scottish',) ('Indian',)\n",
      "('data/Indian/p376/p376_284_mic2.flac',) ('data/Indian/p376/p376_112_mic1.flac',) ('data/Indian/p248/p248_190_mic2.flac',) ('data/Scottish/p284/p284_068_mic2.flac',) ('p376',) ('p248',) ('p376',) ('Indian',) ('Scottish',)\n",
      "('data/American/p301/p301_131_mic1.flac',) ('data/American/p301/p301_337_mic1.flac',) ('data/American/p299/p299_260_mic2.flac',) ('data/Scottish/p249/p249_152_mic1.flac',) ('p301',) ('p299',) ('p301',) ('American',) ('Scottish',)\n",
      "('data/Irish/p283/p283_020_mic2.flac',) ('data/Irish/p283/p283_409_mic2.flac',) ('data/Irish/p298/p298_311_mic1.flac',) ('data/Indian/p376/p376_350_mic2.flac',) ('p283',) ('p298',) ('p283',) ('Irish',) ('Indian',)\n",
      "('data/Indian/p248/p248_184_mic2.flac',) ('data/Indian/p248/p248_210_mic1.flac',) ('data/Indian/p251/p251_225_mic2.flac',) ('data/Scottish/p284/p284_274_mic2.flac',) ('p248',) ('p251',) ('p248',) ('Indian',) ('Scottish',)\n",
      "('data/Irish/p283/p283_151_mic1.flac',) ('data/Irish/p283/p283_091_mic1.flac',) ('data/Irish/p295/p295_244_mic2.flac',) ('data/American/p301/p301_131_mic1.flac',) ('p283',) ('p295',) ('p283',) ('Irish',) ('American',)\n",
      "('data/Irish/p298/p298_081_mic1.flac',) ('data/Irish/p298/p298_369_mic1.flac',) ('data/Irish/p245/p245_047_mic2.flac',) ('data/Scottish/p249/p249_222_mic1.flac',) ('p298',) ('p245',) ('p298',) ('Irish',) ('Scottish',)\n",
      "('data/Scottish/p249/p249_113_mic1.flac',) ('data/Scottish/p249/p249_050_mic2.flac',) ('data/Scottish/p237/p237_338_mic1.flac',) ('data/American/p300/p300_079_mic1.flac',) ('p249',) ('p237',) ('p249',) ('Scottish',) ('American',)\n",
      "('data/Scottish/p237/p237_067_mic1.flac',) ('data/Scottish/p237/p237_322_mic1.flac',) ('data/Scottish/p249/p249_212_mic2.flac',) ('data/American/p300/p300_301_mic1.flac',) ('p237',) ('p249',) ('p237',) ('Scottish',) ('American',)\n"
     ]
    },
    {
     "name": "stdout",
     "output_type": "stream",
     "text": [
      "('data/American/p300/p300_235_mic2.flac',) ('data/American/p300/p300_222_mic1.flac',) ('data/American/p301/p301_115_mic2.flac',) ('data/Scottish/p284/p284_006_mic1.flac',) ('p300',) ('p301',) ('p300',) ('American',) ('Scottish',)\n",
      "('data/American/p299/p299_158_mic1.flac',) ('data/American/p299/p299_161_mic1.flac',) ('data/American/p300/p300_226_mic2.flac',) ('data/Scottish/p234/p234_245_mic2.flac',) ('p299',) ('p300',) ('p299',) ('American',) ('Scottish',)\n",
      "('data/Indian/p251/p251_228_mic1.flac',) ('data/Indian/p251/p251_190_mic1.flac',) ('data/Indian/p376/p376_155_mic1.flac',) ('data/Scottish/p249/p249_340_mic1.flac',) ('p251',) ('p376',) ('p251',) ('Indian',) ('Scottish',)\n",
      "('data/Irish/p283/p283_428_mic2.flac',) ('data/Irish/p283/p283_076_mic2.flac',) ('data/Irish/p295/p295_306_mic1.flac',) ('data/Scottish/p249/p249_176_mic1.flac',) ('p283',) ('p295',) ('p283',) ('Irish',) ('Scottish',)\n",
      "('data/American/p301/p301_107_mic2.flac',) ('data/American/p301/p301_320_mic2.flac',) ('data/American/p300/p300_356_mic2.flac',) ('data/Scottish/p234/p234_248_mic2.flac',) ('p301',) ('p300',) ('p301',) ('American',) ('Scottish',)\n",
      "('data/Irish/p245/p245_345_mic2.flac',) ('data/Irish/p245/p245_190_mic1.flac',) ('data/Irish/p298/p298_056_mic1.flac',) ('data/American/p300/p300_308_mic2.flac',) ('p245',) ('p298',) ('p245',) ('Irish',) ('American',)\n",
      "('data/Scottish/p237/p237_254_mic2.flac',) ('data/Scottish/p237/p237_147_mic1.flac',) ('data/Scottish/p249/p249_156_mic1.flac',) ('data/Indian/p376/p376_067_mic1.flac',) ('p237',) ('p249',) ('p237',) ('Scottish',) ('Indian',)\n",
      "('data/Irish/p245/p245_085_mic2.flac',) ('data/Irish/p245/p245_111_mic1.flac',) ('data/Irish/p283/p283_121_mic1.flac',) ('data/Indian/p248/p248_252_mic1.flac',) ('p245',) ('p283',) ('p245',) ('Irish',) ('Indian',)\n",
      "('data/Irish/p245/p245_117_mic2.flac',) ('data/Irish/p245/p245_340_mic1.flac',) ('data/Irish/p283/p283_452_mic1.flac',) ('data/Indian/p251/p251_094_mic1.flac',) ('p245',) ('p283',) ('p245',) ('Irish',) ('Indian',)\n",
      "('data/American/p299/p299_190_mic2.flac',) ('data/American/p299/p299_403_mic1.flac',) ('data/American/p301/p301_156_mic2.flac',) ('data/Indian/p251/p251_301_mic1.flac',) ('p299',) ('p301',) ('p299',) ('American',) ('Indian',)\n",
      "('data/Irish/p295/p295_243_mic1.flac',) ('data/Irish/p295/p295_127_mic1.flac',) ('data/Irish/p245/p245_120_mic1.flac',) ('data/American/p301/p301_052_mic1.flac',) ('p295',) ('p245',) ('p295',) ('Irish',) ('American',)\n",
      "('data/Indian/p251/p251_332_mic2.flac',) ('data/Indian/p251/p251_019_mic1.flac',) ('data/Indian/p376/p376_169_mic1.flac',) ('data/Scottish/p237/p237_271_mic1.flac',) ('p251',) ('p376',) ('p251',) ('Indian',) ('Scottish',)\n",
      "('data/American/p299/p299_107_mic2.flac',) ('data/American/p299/p299_087_mic2.flac',) ('data/American/p301/p301_058_mic1.flac',) ('data/Irish/p283/p283_043_mic2.flac',) ('p299',) ('p301',) ('p299',) ('American',) ('Irish',)\n",
      "('data/Irish/p295/p295_373_mic1.flac',) ('data/Irish/p295/p295_217_mic2.flac',) ('data/Irish/p283/p283_433_mic1.flac',) ('data/Indian/p251/p251_296_mic1.flac',) ('p295',) ('p283',) ('p295',) ('Irish',) ('Indian',)\n",
      "('data/American/p299/p299_369_mic1.flac',) ('data/American/p299/p299_260_mic1.flac',) ('data/American/p301/p301_217_mic1.flac',) ('data/Scottish/p234/p234_113_mic2.flac',) ('p299',) ('p301',) ('p299',) ('American',) ('Scottish',)\n",
      "('data/Indian/p376/p376_268_mic2.flac',) ('data/Indian/p376/p376_093_mic2.flac',) ('data/Indian/p251/p251_024_mic1.flac',) ('data/American/p301/p301_012_mic1.flac',) ('p376',) ('p251',) ('p376',) ('Indian',) ('American',)\n",
      "('data/Irish/p283/p283_366_mic2.flac',) ('data/Irish/p283/p283_095_mic1.flac',) ('data/Irish/p298/p298_237_mic2.flac',) ('data/Scottish/p234/p234_281_mic2.flac',) ('p283',) ('p298',) ('p283',) ('Irish',) ('Scottish',)\n",
      "('data/Scottish/p237/p237_329_mic2.flac',) ('data/Scottish/p237/p237_184_mic2.flac',) ('data/Scottish/p284/p284_081_mic1.flac',) ('data/Indian/p248/p248_353_mic1.flac',) ('p237',) ('p284',) ('p237',) ('Scottish',) ('Indian',)\n",
      "('data/American/p299/p299_175_mic1.flac',) ('data/American/p299/p299_135_mic1.flac',) ('data/American/p301/p301_104_mic1.flac',) ('data/Indian/p376/p376_090_mic1.flac',) ('p299',) ('p301',) ('p299',) ('American',) ('Indian',)\n",
      "('data/Scottish/p249/p249_262_mic2.flac',) ('data/Scottish/p249/p249_080_mic2.flac',) ('data/Scottish/p237/p237_228_mic2.flac',) ('data/Indian/p251/p251_264_mic2.flac',) ('p249',) ('p237',) ('p249',) ('Scottish',) ('Indian',)\n",
      "('data/Irish/p245/p245_025_mic2.flac',) ('data/Irish/p245/p245_244_mic2.flac',) ('data/Irish/p283/p283_164_mic2.flac',) ('data/American/p300/p300_221_mic2.flac',) ('p245',) ('p283',) ('p245',) ('Irish',) ('American',)\n",
      "('data/Indian/p248/p248_321_mic2.flac',) ('data/Indian/p248/p248_029_mic2.flac',) ('data/Indian/p376/p376_286_mic1.flac',) ('data/Scottish/p237/p237_228_mic2.flac',) ('p248',) ('p376',) ('p248',) ('Indian',) ('Scottish',)\n",
      "('data/Scottish/p237/p237_222_mic2.flac',) ('data/Scottish/p237/p237_026_mic2.flac',) ('data/Scottish/p284/p284_179_mic2.flac',) ('data/Irish/p245/p245_207_mic2.flac',) ('p237',) ('p284',) ('p237',) ('Scottish',) ('Irish',)\n",
      "('data/American/p299/p299_292_mic1.flac',) ('data/American/p299/p299_333_mic2.flac',) ('data/American/p300/p300_364_mic2.flac',) ('data/Irish/p298/p298_183_mic1.flac',) ('p299',) ('p300',) ('p299',) ('American',) ('Irish',)\n",
      "('data/Irish/p298/p298_357_mic1.flac',) ('data/Irish/p298/p298_102_mic2.flac',) ('data/Irish/p245/p245_130_mic2.flac',) ('data/Indian/p251/p251_120_mic1.flac',) ('p298',) ('p245',) ('p298',) ('Irish',) ('Indian',)\n",
      "('data/Irish/p245/p245_225_mic1.flac',) ('data/Irish/p245/p245_302_mic1.flac',) ('data/Irish/p295/p295_212_mic1.flac',) ('data/Indian/p248/p248_248_mic1.flac',) ('p245',) ('p295',) ('p245',) ('Irish',) ('Indian',)\n",
      "('data/Indian/p376/p376_195_mic1.flac',) ('data/Indian/p376/p376_177_mic1.flac',) ('data/Indian/p251/p251_109_mic1.flac',) ('data/Irish/p245/p245_091_mic2.flac',) ('p376',) ('p251',) ('p376',) ('Indian',) ('Irish',)\n",
      "('data/American/p300/p300_126_mic2.flac',) ('data/American/p300/p300_096_mic2.flac',) ('data/American/p299/p299_241_mic1.flac',) ('data/Indian/p248/p248_228_mic2.flac',) ('p300',) ('p299',) ('p300',) ('American',) ('Indian',)\n",
      "('data/Scottish/p249/p249_179_mic2.flac',) ('data/Scottish/p249/p249_120_mic1.flac',) ('data/Scottish/p234/p234_266_mic1.flac',) ('data/American/p301/p301_280_mic2.flac',) ('p249',) ('p234',) ('p249',) ('Scottish',) ('American',)\n",
      "('data/Scottish/p237/p237_103_mic2.flac',) ('data/Scottish/p237/p237_192_mic1.flac',) ('data/Scottish/p234/p234_075_mic2.flac',) ('data/American/p300/p300_254_mic2.flac',) ('p237',) ('p234',) ('p237',) ('Scottish',) ('American',)\n",
      "('data/American/p300/p300_311_mic1.flac',) ('data/American/p300/p300_169_mic1.flac',) ('data/American/p301/p301_300_mic2.flac',) ('data/Indian/p251/p251_041_mic1.flac',) ('p300',) ('p301',) ('p300',) ('American',) ('Indian',)\n",
      "('data/Scottish/p249/p249_328_mic1.flac',) ('data/Scottish/p249/p249_308_mic1.flac',) ('data/Scottish/p237/p237_111_mic2.flac',) ('data/American/p301/p301_300_mic1.flac',) ('p249',) ('p237',) ('p249',) ('Scottish',) ('American',)\n",
      "('data/Irish/p245/p245_075_mic2.flac',) ('data/Irish/p245/p245_217_mic1.flac',) ('data/Irish/p283/p283_445_mic2.flac',) ('data/Indian/p248/p248_044_mic2.flac',) ('p245',) ('p283',) ('p245',) ('Irish',) ('Indian',)\n",
      "('data/American/p301/p301_223_mic1.flac',) ('data/American/p301/p301_044_mic2.flac',) ('data/American/p300/p300_326_mic1.flac',) ('data/Irish/p298/p298_385_mic1.flac',) ('p301',) ('p300',) ('p301',) ('American',) ('Irish',)\n",
      "('data/Irish/p283/p283_438_mic1.flac',) ('data/Irish/p283/p283_275_mic1.flac',) ('data/Irish/p245/p245_176_mic1.flac',) ('data/Scottish/p237/p237_265_mic1.flac',) ('p283',) ('p245',) ('p283',) ('Irish',) ('Scottish',)\n",
      "('data/American/p300/p300_090_mic2.flac',) ('data/American/p300/p300_340_mic2.flac',) ('data/American/p301/p301_080_mic2.flac',) ('data/Scottish/p249/p249_136_mic2.flac',) ('p300',) ('p301',) ('p300',) ('American',) ('Scottish',)\n",
      "('data/American/p299/p299_314_mic1.flac',) ('data/American/p299/p299_260_mic1.flac',) ('data/American/p301/p301_250_mic1.flac',) ('data/Scottish/p237/p237_193_mic1.flac',) ('p299',) ('p301',) ('p299',) ('American',) ('Scottish',)\n",
      "('data/Irish/p245/p245_098_mic1.flac',) ('data/Irish/p245/p245_076_mic1.flac',) ('data/Irish/p295/p295_323_mic1.flac',) ('data/Scottish/p234/p234_130_mic2.flac',) ('p245',) ('p295',) ('p245',) ('Irish',) ('Scottish',)\n",
      "('data/Scottish/p249/p249_223_mic1.flac',) ('data/Scottish/p249/p249_080_mic2.flac',) ('data/Scottish/p284/p284_197_mic2.flac',) ('data/American/p299/p299_047_mic2.flac',) ('p249',) ('p284',) ('p249',) ('Scottish',) ('American',)\n",
      "('data/American/p301/p301_038_mic2.flac',) ('data/American/p301/p301_188_mic2.flac',) ('data/American/p300/p300_186_mic2.flac',) ('data/Irish/p295/p295_160_mic1.flac',) ('p301',) ('p300',) ('p301',) ('American',) ('Irish',)\n",
      "('data/Irish/p295/p295_239_mic2.flac',) ('data/Irish/p295/p295_032_mic2.flac',) ('data/Irish/p298/p298_026_mic2.flac',) ('data/Indian/p248/p248_317_mic2.flac',) ('p295',) ('p298',) ('p295',) ('Irish',) ('Indian',)\n",
      "('data/Indian/p251/p251_323_mic2.flac',) ('data/Indian/p251/p251_152_mic1.flac',) ('data/Indian/p248/p248_291_mic2.flac',) ('data/American/p301/p301_314_mic2.flac',) ('p251',) ('p248',) ('p251',) ('Indian',) ('American',)\n",
      "('data/American/p300/p300_358_mic2.flac',) ('data/American/p300/p300_206_mic2.flac',) ('data/American/p301/p301_054_mic2.flac',) ('data/Irish/p298/p298_350_mic1.flac',) ('p300',) ('p301',) ('p300',) ('American',) ('Irish',)\n",
      "('data/Irish/p245/p245_077_mic2.flac',) ('data/Irish/p245/p245_240_mic1.flac',) ('data/Irish/p283/p283_205_mic1.flac',) ('data/Scottish/p284/p284_022_mic2.flac',) ('p245',) ('p283',) ('p245',) ('Irish',) ('Scottish',)\n",
      "('data/Indian/p376/p376_257_mic2.flac',) ('data/Indian/p376/p376_362_mic2.flac',) ('data/Indian/p248/p248_038_mic2.flac',) ('data/Irish/p283/p283_266_mic2.flac',) ('p376',) ('p248',) ('p376',) ('Indian',) ('Irish',)\n",
      "('data/Irish/p295/p295_221_mic2.flac',) ('data/Irish/p295/p295_257_mic1.flac',) ('data/Irish/p298/p298_372_mic2.flac',) ('data/Indian/p248/p248_069_mic1.flac',) ('p295',) ('p298',) ('p295',) ('Irish',) ('Indian',)\n",
      "('data/Irish/p298/p298_189_mic1.flac',) ('data/Irish/p298/p298_379_mic1.flac',) ('data/Irish/p283/p283_278_mic2.flac',) ('data/Indian/p376/p376_417_mic1.flac',) ('p298',) ('p283',) ('p298',) ('Irish',) ('Indian',)\n",
      "('data/Irish/p283/p283_371_mic1.flac',) ('data/Irish/p283/p283_404_mic1.flac',) ('data/Irish/p298/p298_319_mic1.flac',) ('data/Scottish/p234/p234_089_mic2.flac',) ('p283',) ('p298',) ('p283',) ('Irish',) ('Scottish',)\n",
      "('data/Indian/p376/p376_062_mic2.flac',) ('data/Indian/p376/p376_105_mic2.flac',) ('data/Indian/p251/p251_330_mic1.flac',) ('data/Scottish/p284/p284_082_mic2.flac',) ('p376',) ('p251',) ('p376',) ('Indian',) ('Scottish',)\n",
      "('data/American/p299/p299_168_mic1.flac',) ('data/American/p299/p299_059_mic1.flac',) ('data/American/p301/p301_279_mic1.flac',) ('data/Scottish/p249/p249_294_mic1.flac',) ('p299',) ('p301',) ('p299',) ('American',) ('Scottish',)\n",
      "('data/Indian/p376/p376_123_mic1.flac',) ('data/Indian/p376/p376_195_mic2.flac',) ('data/Indian/p251/p251_296_mic1.flac',) ('data/American/p300/p300_159_mic2.flac',) ('p376',) ('p251',) ('p376',) ('Indian',) ('American',)\n",
      "('data/Irish/p245/p245_045_mic2.flac',) ('data/Irish/p245/p245_176_mic1.flac',) ('data/Irish/p295/p295_235_mic2.flac',) ('data/American/p300/p300_174_mic1.flac',) ('p245',) ('p295',) ('p245',) ('Irish',) ('American',)\n",
      "('data/Irish/p295/p295_030_mic1.flac',) ('data/Irish/p295/p295_259_mic2.flac',) ('data/Irish/p283/p283_470_mic2.flac',) ('data/Indian/p376/p376_254_mic1.flac',) ('p295',) ('p283',) ('p295',) ('Irish',) ('Indian',)\n",
      "('data/American/p300/p300_096_mic1.flac',) ('data/American/p300/p300_344_mic1.flac',) ('data/American/p301/p301_348_mic1.flac',) ('data/Scottish/p249/p249_072_mic2.flac',) ('p300',) ('p301',) ('p300',) ('American',) ('Scottish',)\n",
      "('data/Indian/p376/p376_110_mic1.flac',) ('data/Indian/p376/p376_345_mic1.flac',) ('data/Indian/p251/p251_056_mic2.flac',) ('data/American/p300/p300_097_mic1.flac',) ('p376',) ('p251',) ('p376',) ('Indian',) ('American',)\n",
      "('data/American/p299/p299_286_mic1.flac',) ('data/American/p299/p299_060_mic2.flac',) ('data/American/p300/p300_109_mic2.flac',) ('data/Indian/p376/p376_229_mic2.flac',) ('p299',) ('p300',) ('p299',) ('American',) ('Indian',)\n",
      "('data/Indian/p376/p376_064_mic2.flac',) ('data/Indian/p376/p376_244_mic2.flac',) ('data/Indian/p248/p248_142_mic2.flac',) ('data/American/p300/p300_390_mic1.flac',) ('p376',) ('p248',) ('p376',) ('Indian',) ('American',)\n",
      "('data/Irish/p295/p295_134_mic2.flac',) ('data/Irish/p295/p295_074_mic1.flac',) ('data/Irish/p245/p245_066_mic2.flac',) ('data/Indian/p376/p376_054_mic2.flac',) ('p295',) ('p245',) ('p295',) ('Irish',) ('Indian',)\n",
      "('data/Irish/p295/p295_207_mic2.flac',) ('data/Irish/p295/p295_375_mic2.flac',) ('data/Irish/p283/p283_081_mic1.flac',) ('data/American/p301/p301_319_mic1.flac',) ('p295',) ('p283',) ('p295',) ('Irish',) ('American',)\n",
      "('data/Irish/p283/p283_091_mic1.flac',) ('data/Irish/p283/p283_197_mic1.flac',) ('data/Irish/p295/p295_280_mic1.flac',) ('data/Scottish/p237/p237_314_mic2.flac',) ('p283',) ('p295',) ('p283',) ('Irish',) ('Scottish',)\n",
      "('data/Irish/p298/p298_316_mic2.flac',) ('data/Irish/p298/p298_132_mic1.flac',) ('data/Irish/p245/p245_202_mic1.flac',) ('data/Indian/p376/p376_409_mic1.flac',) ('p298',) ('p245',) ('p298',) ('Irish',) ('Indian',)\n",
      "('data/Irish/p295/p295_300_mic1.flac',) ('data/Irish/p295/p295_397_mic2.flac',) ('data/Irish/p283/p283_134_mic1.flac',) ('data/Indian/p251/p251_227_mic1.flac',) ('p295',) ('p283',) ('p295',) ('Irish',) ('Indian',)\n",
      "('data/Scottish/p237/p237_036_mic1.flac',) ('data/Scottish/p237/p237_053_mic2.flac',) ('data/Scottish/p249/p249_252_mic2.flac',) ('data/Indian/p376/p376_351_mic2.flac',) ('p237',) ('p249',) ('p237',) ('Scottish',) ('Indian',)\n",
      "('data/Irish/p298/p298_196_mic2.flac',) ('data/Irish/p298/p298_194_mic2.flac',) ('data/Irish/p245/p245_085_mic2.flac',) ('data/Scottish/p249/p249_198_mic2.flac',) ('p298',) ('p245',) ('p298',) ('Irish',) ('Scottish',)\n",
      "('data/American/p300/p300_135_mic1.flac',) ('data/American/p300/p300_239_mic1.flac',) ('data/American/p299/p299_228_mic2.flac',) ('data/Irish/p283/p283_064_mic2.flac',) ('p300',) ('p299',) ('p300',) ('American',) ('Irish',)\n",
      "('data/American/p301/p301_055_mic1.flac',) ('data/American/p301/p301_192_mic1.flac',) ('data/American/p299/p299_325_mic2.flac',) ('data/Irish/p283/p283_146_mic1.flac',) ('p301',) ('p299',) ('p301',) ('American',) ('Irish',)\n",
      "('data/American/p301/p301_369_mic1.flac',) ('data/American/p301/p301_042_mic1.flac',) ('data/American/p300/p300_222_mic2.flac',) ('data/Scottish/p237/p237_292_mic2.flac',) ('p301',) ('p300',) ('p301',) ('American',) ('Scottish',)\n",
      "('data/Indian/p248/p248_042_mic1.flac',) ('data/Indian/p248/p248_065_mic2.flac',) ('data/Indian/p251/p251_006_mic2.flac',) ('data/American/p301/p301_162_mic1.flac',) ('p248',) ('p251',) ('p248',) ('Indian',) ('American',)\n",
      "('data/Scottish/p237/p237_100_mic1.flac',) ('data/Scottish/p237/p237_188_mic1.flac',) ('data/Scottish/p249/p249_135_mic1.flac',) ('data/Indian/p251/p251_187_mic2.flac',) ('p237',) ('p249',) ('p237',) ('Scottish',) ('Indian',)\n",
      "('data/Irish/p245/p245_053_mic2.flac',) ('data/Irish/p245/p245_349_mic1.flac',) ('data/Irish/p298/p298_315_mic1.flac',) ('data/Scottish/p284/p284_300_mic2.flac',) ('p245',) ('p298',) ('p245',) ('Irish',) ('Scottish',)\n",
      "('data/American/p300/p300_185_mic1.flac',) ('data/American/p300/p300_293_mic2.flac',) ('data/American/p301/p301_180_mic1.flac',) ('data/Scottish/p284/p284_403_mic1.flac',) ('p300',) ('p301',) ('p300',) ('American',) ('Scottish',)\n",
      "('data/Scottish/p237/p237_154_mic1.flac',) ('data/Scottish/p237/p237_008_mic1.flac',) ('data/Scottish/p234/p234_289_mic2.flac',) ('data/American/p299/p299_389_mic2.flac',) ('p237',) ('p234',) ('p237',) ('Scottish',) ('American',)\n",
      "('data/Indian/p251/p251_289_mic2.flac',) ('data/Indian/p251/p251_055_mic1.flac',) ('data/Indian/p376/p376_258_mic2.flac',) ('data/American/p301/p301_136_mic2.flac',) ('p251',) ('p376',) ('p251',) ('Indian',) ('American',)\n",
      "('data/Indian/p248/p248_183_mic2.flac',) ('data/Indian/p248/p248_238_mic2.flac',) ('data/Indian/p251/p251_107_mic1.flac',) ('data/Irish/p283/p283_200_mic1.flac',) ('p248',) ('p251',) ('p248',) ('Indian',) ('Irish',)\n",
      "('data/Irish/p245/p245_031_mic1.flac',) ('data/Irish/p245/p245_005_mic2.flac',) ('data/Irish/p298/p298_170_mic1.flac',) ('data/Scottish/p237/p237_030_mic1.flac',) ('p245',) ('p298',) ('p245',) ('Irish',) ('Scottish',)\n",
      "('data/Scottish/p249/p249_308_mic2.flac',) ('data/Scottish/p249/p249_080_mic1.flac',) ('data/Scottish/p234/p234_064_mic2.flac',) ('data/Indian/p376/p376_327_mic2.flac',) ('p249',) ('p234',) ('p249',) ('Scottish',) ('Indian',)\n",
      "('data/Irish/p245/p245_126_mic1.flac',) ('data/Irish/p245/p245_285_mic1.flac',) ('data/Irish/p298/p298_253_mic1.flac',) ('data/American/p299/p299_214_mic2.flac',) ('p245',) ('p298',) ('p245',) ('Irish',) ('American',)\n",
      "('data/Indian/p376/p376_045_mic2.flac',) ('data/Indian/p376/p376_060_mic1.flac',) ('data/Indian/p248/p248_059_mic2.flac',) ('data/American/p299/p299_235_mic2.flac',) ('p376',) ('p248',) ('p376',) ('Indian',) ('American',)\n",
      "('data/Scottish/p237/p237_064_mic2.flac',) ('data/Scottish/p237/p237_338_mic2.flac',) ('data/Scottish/p284/p284_230_mic1.flac',) ('data/American/p301/p301_353_mic1.flac',) ('p237',) ('p284',) ('p237',) ('Scottish',) ('American',)\n",
      "('data/Indian/p248/p248_170_mic2.flac',) ('data/Indian/p248/p248_346_mic2.flac',) ('data/Indian/p251/p251_207_mic2.flac',) ('data/Scottish/p234/p234_318_mic1.flac',) ('p248',) ('p251',) ('p248',) ('Indian',) ('Scottish',)\n",
      "('data/Scottish/p237/p237_073_mic1.flac',) ('data/Scottish/p237/p237_079_mic1.flac',) ('data/Scottish/p284/p284_043_mic1.flac',) ('data/Irish/p245/p245_356_mic2.flac',) ('p237',) ('p284',) ('p237',) ('Scottish',) ('Irish',)\n",
      "('data/Scottish/p249/p249_348_mic1.flac',) ('data/Scottish/p249/p249_287_mic1.flac',) ('data/Scottish/p234/p234_192_mic1.flac',) ('data/American/p299/p299_396_mic1.flac',) ('p249',) ('p234',) ('p249',) ('Scottish',) ('American',)\n",
      "('data/Indian/p248/p248_017_mic1.flac',) ('data/Indian/p248/p248_216_mic1.flac',) ('data/Indian/p251/p251_244_mic2.flac',) ('data/Irish/p298/p298_027_mic1.flac',) ('p248',) ('p251',) ('p248',) ('Indian',) ('Irish',)\n",
      "('data/Scottish/p237/p237_273_mic2.flac',) ('data/Scottish/p237/p237_126_mic1.flac',) ('data/Scottish/p284/p284_404_mic1.flac',) ('data/Irish/p298/p298_364_mic1.flac',) ('p237',) ('p284',) ('p237',) ('Scottish',) ('Irish',)\n",
      "('data/Scottish/p234/p234_138_mic1.flac',) ('data/Scottish/p234/p234_035_mic2.flac',) ('data/Scottish/p284/p284_308_mic2.flac',) ('data/American/p300/p300_003_mic2.flac',) ('p234',) ('p284',) ('p234',) ('Scottish',) ('American',)\n",
      "('data/Irish/p295/p295_267_mic1.flac',) ('data/Irish/p295/p295_371_mic1.flac',) ('data/Irish/p283/p283_213_mic2.flac',) ('data/Scottish/p284/p284_129_mic1.flac',) ('p295',) ('p283',) ('p295',) ('Irish',) ('Scottish',)\n",
      "('data/Irish/p283/p283_110_mic2.flac',) ('data/Irish/p283/p283_353_mic1.flac',) ('data/Irish/p295/p295_229_mic1.flac',) ('data/Indian/p248/p248_193_mic2.flac',) ('p283',) ('p295',) ('p283',) ('Irish',) ('Indian',)\n",
      "('data/Irish/p298/p298_190_mic1.flac',) ('data/Irish/p298/p298_135_mic2.flac',) ('data/Irish/p283/p283_364_mic2.flac',) ('data/Indian/p248/p248_268_mic1.flac',) ('p298',) ('p283',) ('p298',) ('Irish',) ('Indian',)\n",
      "('data/Scottish/p249/p249_323_mic2.flac',) ('data/Scottish/p249/p249_128_mic1.flac',) ('data/Scottish/p284/p284_259_mic2.flac',) ('data/Indian/p376/p376_003_mic1.flac',) ('p249',) ('p284',) ('p249',) ('Scottish',) ('Indian',)\n",
      "('data/Irish/p245/p245_154_mic1.flac',) ('data/Irish/p245/p245_070_mic2.flac',) ('data/Irish/p283/p283_352_mic1.flac',) ('data/Scottish/p249/p249_353_mic1.flac',) ('p245',) ('p283',) ('p245',) ('Irish',) ('Scottish',)\n",
      "('data/Scottish/p237/p237_014_mic1.flac',) ('data/Scottish/p237/p237_056_mic2.flac',) ('data/Scottish/p284/p284_192_mic2.flac',) ('data/American/p300/p300_308_mic1.flac',) ('p237',) ('p284',) ('p237',) ('Scottish',) ('American',)\n",
      "('data/American/p299/p299_050_mic2.flac',) ('data/American/p299/p299_338_mic1.flac',) ('data/American/p300/p300_200_mic1.flac',) ('data/Indian/p248/p248_252_mic2.flac',) ('p299',) ('p300',) ('p299',) ('American',) ('Indian',)\n",
      "('data/Irish/p245/p245_296_mic2.flac',) ('data/Irish/p245/p245_263_mic1.flac',) ('data/Irish/p283/p283_122_mic1.flac',) ('data/American/p299/p299_177_mic2.flac',) ('p245',) ('p283',) ('p245',) ('Irish',) ('American',)\n",
      "('data/Indian/p248/p248_217_mic2.flac',) ('data/Indian/p248/p248_193_mic2.flac',) ('data/Indian/p376/p376_204_mic2.flac',) ('data/American/p299/p299_295_mic2.flac',) ('p248',) ('p376',) ('p248',) ('Indian',) ('American',)\n",
      "('data/Irish/p295/p295_119_mic1.flac',) ('data/Irish/p295/p295_083_mic2.flac',) ('data/Irish/p283/p283_014_mic1.flac',) ('data/American/p300/p300_366_mic2.flac',) ('p295',) ('p283',) ('p295',) ('Irish',) ('American',)\n",
      "('data/Irish/p295/p295_294_mic2.flac',) ('data/Irish/p295/p295_043_mic2.flac',) ('data/Irish/p245/p245_192_mic2.flac',) ('data/Scottish/p234/p234_251_mic1.flac',) ('p295',) ('p245',) ('p295',) ('Irish',) ('Scottish',)\n",
      "('data/Scottish/p234/p234_207_mic1.flac',) ('data/Scottish/p234/p234_175_mic1.flac',) ('data/Scottish/p237/p237_267_mic2.flac',) ('data/American/p301/p301_290_mic1.flac',) ('p234',) ('p237',) ('p234',) ('Scottish',) ('American',)\n",
      "('data/Scottish/p284/p284_311_mic2.flac',) ('data/Scottish/p284/p284_419_mic1.flac',) ('data/Scottish/p249/p249_219_mic1.flac',) ('data/Indian/p376/p376_058_mic1.flac',) ('p284',) ('p249',) ('p284',) ('Scottish',) ('Indian',)\n",
      "('data/Indian/p376/p376_421_mic2.flac',) ('data/Indian/p376/p376_171_mic1.flac',) ('data/Indian/p248/p248_307_mic1.flac',) ('data/Scottish/p237/p237_297_mic2.flac',) ('p376',) ('p248',) ('p376',) ('Indian',) ('Scottish',)\n",
      "('data/Indian/p251/p251_150_mic1.flac',) ('data/Indian/p251/p251_009_mic1.flac',) ('data/Indian/p376/p376_381_mic1.flac',) ('data/Irish/p295/p295_269_mic2.flac',) ('p251',) ('p376',) ('p251',) ('Indian',) ('Irish',)\n",
      "('data/American/p299/p299_188_mic1.flac',) ('data/American/p299/p299_371_mic2.flac',) ('data/American/p300/p300_273_mic1.flac',) ('data/Scottish/p237/p237_171_mic2.flac',) ('p299',) ('p300',) ('p299',) ('American',) ('Scottish',)\n",
      "('data/Indian/p248/p248_042_mic1.flac',) ('data/Indian/p248/p248_255_mic1.flac',) ('data/Indian/p251/p251_263_mic1.flac',) ('data/Scottish/p234/p234_344_mic1.flac',) ('p248',) ('p251',) ('p248',) ('Indian',) ('Scottish',)\n",
      "('data/American/p299/p299_058_mic1.flac',) ('data/American/p299/p299_365_mic2.flac',) ('data/American/p301/p301_037_mic1.flac',) ('data/Indian/p248/p248_258_mic1.flac',) ('p299',) ('p301',) ('p299',) ('American',) ('Indian',)\n",
      "('data/American/p299/p299_177_mic2.flac',) ('data/American/p299/p299_101_mic1.flac',) ('data/American/p300/p300_121_mic1.flac',) ('data/Indian/p251/p251_079_mic2.flac',) ('p299',) ('p300',) ('p299',) ('American',) ('Indian',)\n",
      "('data/Indian/p376/p376_258_mic2.flac',) ('data/Indian/p376/p376_245_mic1.flac',) ('data/Indian/p248/p248_113_mic2.flac',) ('data/Scottish/p237/p237_281_mic1.flac',) ('p376',) ('p248',) ('p376',) ('Indian',) ('Scottish',)\n",
      "('data/Indian/p248/p248_149_mic2.flac',) ('data/Indian/p248/p248_107_mic1.flac',) ('data/Indian/p376/p376_183_mic2.flac',) ('data/American/p299/p299_035_mic1.flac',) ('p248',) ('p376',) ('p248',) ('Indian',) ('American',)\n",
      "('data/Scottish/p234/p234_129_mic2.flac',) ('data/Scottish/p234/p234_128_mic2.flac',) ('data/Scottish/p284/p284_087_mic1.flac',) ('data/American/p299/p299_399_mic1.flac',) ('p234',) ('p284',) ('p234',) ('Scottish',) ('American',)\n",
      "('data/American/p301/p301_113_mic1.flac',) ('data/American/p301/p301_376_mic2.flac',) ('data/American/p300/p300_040_mic2.flac',) ('data/Scottish/p237/p237_331_mic1.flac',) ('p301',) ('p300',) ('p301',) ('American',) ('Scottish',)\n",
      "('data/American/p299/p299_218_mic2.flac',) ('data/American/p299/p299_204_mic1.flac',) ('data/American/p300/p300_197_mic2.flac',) ('data/Irish/p295/p295_315_mic1.flac',) ('p299',) ('p300',) ('p299',) ('American',) ('Irish',)\n",
      "('data/Indian/p248/p248_116_mic2.flac',) ('data/Indian/p248/p248_332_mic2.flac',) ('data/Indian/p376/p376_370_mic1.flac',) ('data/Scottish/p249/p249_226_mic1.flac',) ('p248',) ('p376',) ('p248',) ('Indian',) ('Scottish',)\n",
      "('data/Indian/p251/p251_024_mic1.flac',) ('data/Indian/p251/p251_081_mic1.flac',) ('data/Indian/p376/p376_289_mic1.flac',) ('data/Scottish/p237/p237_069_mic2.flac',) ('p251',) ('p376',) ('p251',) ('Indian',) ('Scottish',)\n",
      "('data/Irish/p295/p295_085_mic1.flac',) ('data/Irish/p295/p295_072_mic2.flac',) ('data/Irish/p283/p283_387_mic2.flac',) ('data/American/p299/p299_205_mic2.flac',) ('p295',) ('p283',) ('p295',) ('Irish',) ('American',)\n",
      "('data/Scottish/p237/p237_008_mic1.flac',) ('data/Scottish/p237/p237_275_mic2.flac',) ('data/Scottish/p284/p284_201_mic1.flac',) ('data/Indian/p376/p376_138_mic1.flac',) ('p237',) ('p284',) ('p237',) ('Scottish',) ('Indian',)\n"
     ]
    },
    {
     "name": "stdout",
     "output_type": "stream",
     "text": [
      "('data/Irish/p283/p283_206_mic1.flac',) ('data/Irish/p283/p283_137_mic1.flac',) ('data/Irish/p245/p245_302_mic1.flac',) ('data/Scottish/p284/p284_310_mic1.flac',) ('p283',) ('p245',) ('p283',) ('Irish',) ('Scottish',)\n",
      "('data/Indian/p251/p251_148_mic1.flac',) ('data/Indian/p251/p251_241_mic2.flac',) ('data/Indian/p248/p248_023_mic2.flac',) ('data/Scottish/p234/p234_348_mic2.flac',) ('p251',) ('p248',) ('p251',) ('Indian',) ('Scottish',)\n",
      "('data/Irish/p298/p298_374_mic1.flac',) ('data/Irish/p298/p298_114_mic2.flac',) ('data/Irish/p283/p283_027_mic2.flac',) ('data/Indian/p248/p248_286_mic2.flac',) ('p298',) ('p283',) ('p298',) ('Irish',) ('Indian',)\n",
      "('data/Scottish/p249/p249_165_mic1.flac',) ('data/Scottish/p249/p249_163_mic1.flac',) ('data/Scottish/p237/p237_185_mic2.flac',) ('data/Indian/p248/p248_170_mic2.flac',) ('p249',) ('p237',) ('p249',) ('Scottish',) ('Indian',)\n",
      "('data/American/p300/p300_339_mic2.flac',) ('data/American/p300/p300_400_mic1.flac',) ('data/American/p301/p301_163_mic2.flac',) ('data/Indian/p248/p248_211_mic2.flac',) ('p300',) ('p301',) ('p300',) ('American',) ('Indian',)\n",
      "('data/Irish/p295/p295_246_mic2.flac',) ('data/Irish/p295/p295_317_mic2.flac',) ('data/Irish/p298/p298_025_mic1.flac',) ('data/American/p301/p301_225_mic1.flac',) ('p295',) ('p298',) ('p295',) ('Irish',) ('American',)\n",
      "('data/Scottish/p284/p284_153_mic2.flac',) ('data/Scottish/p284/p284_046_mic1.flac',) ('data/Scottish/p237/p237_330_mic1.flac',) ('data/Irish/p245/p245_097_mic2.flac',) ('p284',) ('p237',) ('p284',) ('Scottish',) ('Irish',)\n",
      "('data/American/p299/p299_104_mic1.flac',) ('data/American/p299/p299_049_mic2.flac',) ('data/American/p300/p300_231_mic2.flac',) ('data/Irish/p283/p283_442_mic2.flac',) ('p299',) ('p300',) ('p299',) ('American',) ('Irish',)\n",
      "('data/Irish/p298/p298_267_mic2.flac',) ('data/Irish/p298/p298_092_mic1.flac',) ('data/Irish/p283/p283_411_mic1.flac',) ('data/American/p301/p301_082_mic2.flac',) ('p298',) ('p283',) ('p298',) ('Irish',) ('American',)\n",
      "('data/Indian/p251/p251_147_mic1.flac',) ('data/Indian/p251/p251_019_mic2.flac',) ('data/Indian/p248/p248_194_mic2.flac',) ('data/American/p299/p299_233_mic2.flac',) ('p251',) ('p248',) ('p251',) ('Indian',) ('American',)\n",
      "('data/Indian/p251/p251_342_mic1.flac',) ('data/Indian/p251/p251_033_mic2.flac',) ('data/Indian/p376/p376_105_mic1.flac',) ('data/American/p299/p299_205_mic2.flac',) ('p251',) ('p376',) ('p251',) ('Indian',) ('American',)\n",
      "('data/Indian/p248/p248_262_mic1.flac',) ('data/Indian/p248/p248_045_mic1.flac',) ('data/Indian/p251/p251_162_mic1.flac',) ('data/American/p300/p300_286_mic2.flac',) ('p248',) ('p251',) ('p248',) ('Indian',) ('American',)\n",
      "('data/Irish/p295/p295_145_mic2.flac',) ('data/Irish/p295/p295_009_mic2.flac',) ('data/Irish/p298/p298_091_mic1.flac',) ('data/Scottish/p234/p234_189_mic2.flac',) ('p295',) ('p298',) ('p295',) ('Irish',) ('Scottish',)\n",
      "('data/Scottish/p284/p284_277_mic1.flac',) ('data/Scottish/p284/p284_034_mic2.flac',) ('data/Scottish/p249/p249_072_mic1.flac',) ('data/Indian/p251/p251_340_mic1.flac',) ('p284',) ('p249',) ('p284',) ('Scottish',) ('Indian',)\n",
      "('data/Indian/p376/p376_343_mic2.flac',) ('data/Indian/p376/p376_412_mic1.flac',) ('data/Indian/p251/p251_223_mic2.flac',) ('data/American/p300/p300_110_mic1.flac',) ('p376',) ('p251',) ('p376',) ('Indian',) ('American',)\n",
      "('data/American/p300/p300_046_mic1.flac',) ('data/American/p300/p300_288_mic2.flac',) ('data/American/p301/p301_397_mic1.flac',) ('data/Scottish/p284/p284_148_mic2.flac',) ('p300',) ('p301',) ('p300',) ('American',) ('Scottish',)\n",
      "('data/American/p301/p301_032_mic1.flac',) ('data/American/p301/p301_046_mic1.flac',) ('data/American/p300/p300_250_mic2.flac',) ('data/Irish/p295/p295_194_mic2.flac',) ('p301',) ('p300',) ('p301',) ('American',) ('Irish',)\n",
      "('data/Indian/p376/p376_405_mic2.flac',) ('data/Indian/p376/p376_420_mic2.flac',) ('data/Indian/p248/p248_165_mic2.flac',) ('data/Irish/p298/p298_223_mic2.flac',) ('p376',) ('p248',) ('p376',) ('Indian',) ('Irish',)\n",
      "('data/Scottish/p234/p234_091_mic1.flac',) ('data/Scottish/p234/p234_154_mic1.flac',) ('data/Scottish/p249/p249_058_mic1.flac',) ('data/Irish/p245/p245_205_mic1.flac',) ('p234',) ('p249',) ('p234',) ('Scottish',) ('Irish',)\n",
      "('data/Scottish/p249/p249_136_mic1.flac',) ('data/Scottish/p249/p249_157_mic2.flac',) ('data/Scottish/p234/p234_139_mic1.flac',) ('data/Indian/p248/p248_021_mic2.flac',) ('p249',) ('p234',) ('p249',) ('Scottish',) ('Indian',)\n",
      "('data/Irish/p245/p245_088_mic1.flac',) ('data/Irish/p245/p245_250_mic1.flac',) ('data/Irish/p295/p295_356_mic1.flac',) ('data/Indian/p248/p248_203_mic2.flac',) ('p245',) ('p295',) ('p245',) ('Irish',) ('Indian',)\n",
      "('data/American/p299/p299_164_mic1.flac',) ('data/American/p299/p299_277_mic1.flac',) ('data/American/p301/p301_002_mic2.flac',) ('data/Scottish/p284/p284_301_mic2.flac',) ('p299',) ('p301',) ('p299',) ('American',) ('Scottish',)\n",
      "('data/Irish/p295/p295_323_mic1.flac',) ('data/Irish/p295/p295_325_mic1.flac',) ('data/Irish/p298/p298_083_mic1.flac',) ('data/Indian/p248/p248_141_mic2.flac',) ('p295',) ('p298',) ('p295',) ('Irish',) ('Indian',)\n",
      "('data/Irish/p298/p298_200_mic2.flac',) ('data/Irish/p298/p298_004_mic2.flac',) ('data/Irish/p295/p295_346_mic1.flac',) ('data/Indian/p248/p248_260_mic1.flac',) ('p298',) ('p295',) ('p298',) ('Irish',) ('Indian',)\n",
      "('data/American/p301/p301_026_mic2.flac',) ('data/American/p301/p301_313_mic2.flac',) ('data/American/p299/p299_351_mic2.flac',) ('data/Indian/p251/p251_148_mic2.flac',) ('p301',) ('p299',) ('p301',) ('American',) ('Indian',)\n",
      "('data/Scottish/p249/p249_345_mic1.flac',) ('data/Scottish/p249/p249_081_mic1.flac',) ('data/Scottish/p284/p284_417_mic1.flac',) ('data/American/p301/p301_031_mic1.flac',) ('p249',) ('p284',) ('p249',) ('Scottish',) ('American',)\n",
      "('data/Irish/p298/p298_289_mic2.flac',) ('data/Irish/p298/p298_355_mic2.flac',) ('data/Irish/p295/p295_255_mic2.flac',) ('data/Indian/p248/p248_022_mic1.flac',) ('p298',) ('p295',) ('p298',) ('Irish',) ('Indian',)\n",
      "('data/Indian/p376/p376_294_mic1.flac',) ('data/Indian/p376/p376_026_mic1.flac',) ('data/Indian/p248/p248_259_mic2.flac',) ('data/Irish/p283/p283_264_mic2.flac',) ('p376',) ('p248',) ('p376',) ('Indian',) ('Irish',)\n",
      "('data/American/p299/p299_117_mic1.flac',) ('data/American/p299/p299_305_mic2.flac',) ('data/American/p300/p300_248_mic2.flac',) ('data/Scottish/p237/p237_313_mic2.flac',) ('p299',) ('p300',) ('p299',) ('American',) ('Scottish',)\n",
      "('data/Scottish/p249/p249_204_mic1.flac',) ('data/Scottish/p249/p249_340_mic2.flac',) ('data/Scottish/p284/p284_376_mic1.flac',) ('data/Irish/p283/p283_168_mic2.flac',) ('p249',) ('p284',) ('p249',) ('Scottish',) ('Irish',)\n",
      "('data/American/p301/p301_293_mic2.flac',) ('data/American/p301/p301_152_mic1.flac',) ('data/American/p299/p299_317_mic2.flac',) ('data/Indian/p248/p248_097_mic1.flac',) ('p301',) ('p299',) ('p301',) ('American',) ('Indian',)\n",
      "('data/Indian/p248/p248_166_mic1.flac',) ('data/Indian/p248/p248_052_mic2.flac',) ('data/Indian/p376/p376_019_mic2.flac',) ('data/American/p301/p301_108_mic1.flac',) ('p248',) ('p376',) ('p248',) ('Indian',) ('American',)\n",
      "('data/Scottish/p284/p284_343_mic1.flac',) ('data/Scottish/p284/p284_002_mic1.flac',) ('data/Scottish/p237/p237_249_mic1.flac',) ('data/Indian/p376/p376_334_mic1.flac',) ('p284',) ('p237',) ('p284',) ('Scottish',) ('Indian',)\n",
      "('data/Indian/p251/p251_345_mic1.flac',) ('data/Indian/p251/p251_282_mic1.flac',) ('data/Indian/p376/p376_203_mic2.flac',) ('data/Irish/p295/p295_343_mic1.flac',) ('p251',) ('p376',) ('p251',) ('Indian',) ('Irish',)\n",
      "('data/American/p301/p301_199_mic2.flac',) ('data/American/p301/p301_275_mic2.flac',) ('data/American/p300/p300_085_mic1.flac',) ('data/Indian/p251/p251_015_mic2.flac',) ('p301',) ('p300',) ('p301',) ('American',) ('Indian',)\n",
      "('data/American/p301/p301_381_mic1.flac',) ('data/American/p301/p301_232_mic1.flac',) ('data/American/p299/p299_100_mic2.flac',) ('data/Irish/p283/p283_010_mic1.flac',) ('p301',) ('p299',) ('p301',) ('American',) ('Irish',)\n",
      "('data/Indian/p251/p251_006_mic2.flac',) ('data/Indian/p251/p251_259_mic2.flac',) ('data/Indian/p376/p376_005_mic2.flac',) ('data/American/p300/p300_319_mic1.flac',) ('p251',) ('p376',) ('p251',) ('Indian',) ('American',)\n",
      "('data/Indian/p248/p248_241_mic2.flac',) ('data/Indian/p248/p248_011_mic1.flac',) ('data/Indian/p251/p251_028_mic2.flac',) ('data/Irish/p283/p283_067_mic1.flac',) ('p248',) ('p251',) ('p248',) ('Indian',) ('Irish',)\n",
      "('data/Irish/p283/p283_214_mic1.flac',) ('data/Irish/p283/p283_235_mic2.flac',) ('data/Irish/p298/p298_362_mic2.flac',) ('data/American/p299/p299_255_mic1.flac',) ('p283',) ('p298',) ('p283',) ('Irish',) ('American',)\n",
      "('data/Scottish/p234/p234_240_mic2.flac',) ('data/Scottish/p234/p234_278_mic2.flac',) ('data/Scottish/p249/p249_284_mic2.flac',) ('data/Irish/p295/p295_056_mic1.flac',) ('p234',) ('p249',) ('p234',) ('Scottish',) ('Irish',)\n",
      "('data/Scottish/p284/p284_251_mic2.flac',) ('data/Scottish/p284/p284_117_mic2.flac',) ('data/Scottish/p234/p234_098_mic2.flac',) ('data/Irish/p298/p298_220_mic1.flac',) ('p284',) ('p234',) ('p284',) ('Scottish',) ('Irish',)\n",
      "('data/Scottish/p284/p284_027_mic2.flac',) ('data/Scottish/p284/p284_388_mic2.flac',) ('data/Scottish/p237/p237_160_mic2.flac',) ('data/American/p300/p300_117_mic2.flac',) ('p284',) ('p237',) ('p284',) ('Scottish',) ('American',)\n",
      "('data/Scottish/p234/p234_127_mic2.flac',) ('data/Scottish/p234/p234_306_mic2.flac',) ('data/Scottish/p249/p249_298_mic2.flac',) ('data/American/p299/p299_346_mic1.flac',) ('p234',) ('p249',) ('p234',) ('Scottish',) ('American',)\n",
      "('data/American/p300/p300_326_mic1.flac',) ('data/American/p300/p300_100_mic1.flac',) ('data/American/p301/p301_204_mic2.flac',) ('data/Irish/p298/p298_080_mic1.flac',) ('p300',) ('p301',) ('p300',) ('American',) ('Irish',)\n",
      "('data/Scottish/p237/p237_112_mic1.flac',) ('data/Scottish/p237/p237_097_mic2.flac',) ('data/Scottish/p284/p284_097_mic1.flac',) ('data/Indian/p376/p376_392_mic1.flac',) ('p237',) ('p284',) ('p237',) ('Scottish',) ('Indian',)\n",
      "('data/Irish/p245/p245_013_mic2.flac',) ('data/Irish/p245/p245_233_mic2.flac',) ('data/Irish/p295/p295_120_mic2.flac',) ('data/Indian/p248/p248_341_mic2.flac',) ('p245',) ('p295',) ('p245',) ('Irish',) ('Indian',)\n",
      "('data/Irish/p245/p245_256_mic1.flac',) ('data/Irish/p245/p245_042_mic2.flac',) ('data/Irish/p298/p298_041_mic2.flac',) ('data/American/p301/p301_388_mic2.flac',) ('p245',) ('p298',) ('p245',) ('Irish',) ('American',)\n",
      "('data/Irish/p245/p245_302_mic2.flac',) ('data/Irish/p245/p245_192_mic1.flac',) ('data/Irish/p283/p283_117_mic2.flac',) ('data/American/p300/p300_157_mic2.flac',) ('p245',) ('p283',) ('p245',) ('Irish',) ('American',)\n",
      "('data/Irish/p283/p283_134_mic1.flac',) ('data/Irish/p283/p283_095_mic1.flac',) ('data/Irish/p245/p245_142_mic2.flac',) ('data/American/p299/p299_256_mic1.flac',) ('p283',) ('p245',) ('p283',) ('Irish',) ('American',)\n",
      "('data/Scottish/p249/p249_218_mic2.flac',) ('data/Scottish/p249/p249_223_mic2.flac',) ('data/Scottish/p234/p234_153_mic1.flac',) ('data/Irish/p295/p295_312_mic2.flac',) ('p249',) ('p234',) ('p249',) ('Scottish',) ('Irish',)\n",
      "('data/Scottish/p249/p249_144_mic2.flac',) ('data/Scottish/p249/p249_350_mic2.flac',) ('data/Scottish/p284/p284_338_mic1.flac',) ('data/American/p299/p299_382_mic2.flac',) ('p249',) ('p284',) ('p249',) ('Scottish',) ('American',)\n",
      "('data/Irish/p298/p298_295_mic1.flac',) ('data/Irish/p298/p298_364_mic2.flac',) ('data/Irish/p295/p295_284_mic1.flac',) ('data/Indian/p251/p251_056_mic2.flac',) ('p298',) ('p295',) ('p298',) ('Irish',) ('Indian',)\n",
      "('data/Indian/p248/p248_035_mic1.flac',) ('data/Indian/p248/p248_013_mic1.flac',) ('data/Indian/p251/p251_251_mic1.flac',) ('data/American/p301/p301_178_mic2.flac',) ('p248',) ('p251',) ('p248',) ('Indian',) ('American',)\n",
      "('data/Scottish/p234/p234_166_mic2.flac',) ('data/Scottish/p234/p234_077_mic2.flac',) ('data/Scottish/p284/p284_140_mic1.flac',) ('data/Irish/p245/p245_071_mic2.flac',) ('p234',) ('p284',) ('p234',) ('Scottish',) ('Irish',)\n",
      "('data/Indian/p251/p251_302_mic1.flac',) ('data/Indian/p251/p251_141_mic2.flac',) ('data/Indian/p376/p376_152_mic2.flac',) ('data/Scottish/p249/p249_081_mic1.flac',) ('p251',) ('p376',) ('p251',) ('Indian',) ('Scottish',)\n",
      "('data/Scottish/p249/p249_006_mic2.flac',) ('data/Scottish/p249/p249_065_mic1.flac',) ('data/Scottish/p284/p284_167_mic1.flac',) ('data/American/p300/p300_055_mic2.flac',) ('p249',) ('p284',) ('p249',) ('Scottish',) ('American',)\n",
      "('data/Indian/p251/p251_193_mic2.flac',) ('data/Indian/p251/p251_164_mic1.flac',) ('data/Indian/p248/p248_280_mic1.flac',) ('data/Irish/p283/p283_011_mic2.flac',) ('p251',) ('p248',) ('p251',) ('Indian',) ('Irish',)\n",
      "('data/Indian/p251/p251_274_mic2.flac',) ('data/Indian/p251/p251_204_mic2.flac',) ('data/Indian/p376/p376_080_mic2.flac',) ('data/Scottish/p284/p284_385_mic2.flac',) ('p251',) ('p376',) ('p251',) ('Indian',) ('Scottish',)\n",
      "('data/American/p300/p300_399_mic1.flac',) ('data/American/p300/p300_218_mic2.flac',) ('data/American/p301/p301_349_mic2.flac',) ('data/Indian/p251/p251_292_mic1.flac',) ('p300',) ('p301',) ('p300',) ('American',) ('Indian',)\n",
      "('data/Indian/p376/p376_171_mic1.flac',) ('data/Indian/p376/p376_302_mic2.flac',) ('data/Indian/p251/p251_175_mic2.flac',) ('data/American/p299/p299_378_mic2.flac',) ('p376',) ('p251',) ('p376',) ('Indian',) ('American',)\n",
      "('data/American/p299/p299_159_mic2.flac',) ('data/American/p299/p299_257_mic1.flac',) ('data/American/p301/p301_324_mic2.flac',) ('data/Indian/p376/p376_371_mic2.flac',) ('p299',) ('p301',) ('p299',) ('American',) ('Indian',)\n",
      "('data/American/p300/p300_290_mic2.flac',) ('data/American/p300/p300_231_mic1.flac',) ('data/American/p301/p301_051_mic2.flac',) ('data/Indian/p376/p376_145_mic1.flac',) ('p300',) ('p301',) ('p300',) ('American',) ('Indian',)\n",
      "('data/American/p300/p300_063_mic2.flac',) ('data/American/p300/p300_362_mic1.flac',) ('data/American/p299/p299_277_mic1.flac',) ('data/Irish/p245/p245_149_mic1.flac',) ('p300',) ('p299',) ('p300',) ('American',) ('Irish',)\n",
      "('data/Scottish/p234/p234_014_mic1.flac',) ('data/Scottish/p234/p234_351_mic1.flac',) ('data/Scottish/p249/p249_265_mic2.flac',) ('data/American/p299/p299_277_mic1.flac',) ('p234',) ('p249',) ('p234',) ('Scottish',) ('American',)\n",
      "('data/American/p300/p300_120_mic2.flac',) ('data/American/p300/p300_395_mic1.flac',) ('data/American/p299/p299_002_mic2.flac',) ('data/Scottish/p237/p237_341_mic1.flac',) ('p300',) ('p299',) ('p300',) ('American',) ('Scottish',)\n",
      "('data/Indian/p251/p251_254_mic2.flac',) ('data/Indian/p251/p251_064_mic2.flac',) ('data/Indian/p376/p376_148_mic1.flac',) ('data/Scottish/p249/p249_261_mic2.flac',) ('p251',) ('p376',) ('p251',) ('Indian',) ('Scottish',)\n",
      "('data/American/p301/p301_154_mic1.flac',) ('data/American/p301/p301_232_mic1.flac',) ('data/American/p299/p299_140_mic2.flac',) ('data/Indian/p376/p376_221_mic1.flac',) ('p301',) ('p299',) ('p301',) ('American',) ('Indian',)\n",
      "('data/Scottish/p237/p237_157_mic1.flac',) ('data/Scottish/p237/p237_025_mic1.flac',) ('data/Scottish/p249/p249_187_mic1.flac',) ('data/Irish/p295/p295_317_mic1.flac',) ('p237',) ('p249',) ('p237',) ('Scottish',) ('Irish',)\n",
      "('data/Scottish/p284/p284_245_mic2.flac',) ('data/Scottish/p284/p284_205_mic2.flac',) ('data/Scottish/p249/p249_093_mic2.flac',) ('data/Irish/p283/p283_257_mic2.flac',) ('p284',) ('p249',) ('p284',) ('Scottish',) ('Irish',)\n",
      "('data/Indian/p248/p248_177_mic2.flac',) ('data/Indian/p248/p248_348_mic1.flac',) ('data/Indian/p251/p251_138_mic2.flac',) ('data/Irish/p283/p283_238_mic2.flac',) ('p248',) ('p251',) ('p248',) ('Indian',) ('Irish',)\n",
      "('data/Irish/p245/p245_004_mic1.flac',) ('data/Irish/p245/p245_292_mic1.flac',) ('data/Irish/p295/p295_021_mic1.flac',) ('data/Indian/p251/p251_085_mic1.flac',) ('p245',) ('p295',) ('p245',) ('Irish',) ('Indian',)\n",
      "('data/Scottish/p234/p234_007_mic1.flac',) ('data/Scottish/p234/p234_345_mic1.flac',) ('data/Scottish/p284/p284_053_mic2.flac',) ('data/Indian/p248/p248_265_mic1.flac',) ('p234',) ('p284',) ('p234',) ('Scottish',) ('Indian',)\n",
      "('data/Scottish/p234/p234_148_mic1.flac',) ('data/Scottish/p234/p234_076_mic1.flac',) ('data/Scottish/p249/p249_155_mic2.flac',) ('data/American/p300/p300_225_mic1.flac',) ('p234',) ('p249',) ('p234',) ('Scottish',) ('American',)\n",
      "('data/Indian/p251/p251_352_mic2.flac',) ('data/Indian/p251/p251_158_mic1.flac',) ('data/Indian/p376/p376_145_mic1.flac',) ('data/Scottish/p234/p234_193_mic2.flac',) ('p251',) ('p376',) ('p251',) ('Indian',) ('Scottish',)\n",
      "('data/Irish/p295/p295_053_mic1.flac',) ('data/Irish/p295/p295_311_mic1.flac',) ('data/Irish/p245/p245_014_mic1.flac',) ('data/Scottish/p249/p249_130_mic2.flac',) ('p295',) ('p245',) ('p295',) ('Irish',) ('Scottish',)\n",
      "('data/American/p299/p299_390_mic1.flac',) ('data/American/p299/p299_378_mic2.flac',) ('data/American/p300/p300_105_mic2.flac',) ('data/Irish/p298/p298_301_mic2.flac',) ('p299',) ('p300',) ('p299',) ('American',) ('Irish',)\n",
      "('data/American/p301/p301_186_mic1.flac',) ('data/American/p301/p301_179_mic2.flac',) ('data/American/p299/p299_349_mic1.flac',) ('data/Indian/p376/p376_238_mic2.flac',) ('p301',) ('p299',) ('p301',) ('American',) ('Indian',)\n",
      "('data/Scottish/p234/p234_152_mic1.flac',) ('data/Scottish/p234/p234_291_mic2.flac',) ('data/Scottish/p237/p237_226_mic2.flac',) ('data/Irish/p298/p298_271_mic2.flac',) ('p234',) ('p237',) ('p234',) ('Scottish',) ('Irish',)\n",
      "('data/Indian/p248/p248_271_mic1.flac',) ('data/Indian/p248/p248_307_mic2.flac',) ('data/Indian/p251/p251_364_mic2.flac',) ('data/American/p299/p299_163_mic1.flac',) ('p248',) ('p251',) ('p248',) ('Indian',) ('American',)\n",
      "('data/Scottish/p249/p249_125_mic2.flac',) ('data/Scottish/p249/p249_168_mic1.flac',) ('data/Scottish/p237/p237_123_mic1.flac',) ('data/American/p301/p301_378_mic2.flac',) ('p249',) ('p237',) ('p249',) ('Scottish',) ('American',)\n",
      "('data/American/p299/p299_098_mic1.flac',) ('data/American/p299/p299_256_mic1.flac',) ('data/American/p300/p300_071_mic1.flac',) ('data/Indian/p376/p376_002_mic2.flac',) ('p299',) ('p300',) ('p299',) ('American',) ('Indian',)\n",
      "('data/Irish/p283/p283_047_mic1.flac',) ('data/Irish/p283/p283_013_mic1.flac',) ('data/Irish/p245/p245_316_mic1.flac',) ('data/Indian/p251/p251_093_mic2.flac',) ('p283',) ('p245',) ('p283',) ('Irish',) ('Indian',)\n",
      "('data/Scottish/p237/p237_290_mic1.flac',) ('data/Scottish/p237/p237_114_mic2.flac',) ('data/Scottish/p234/p234_057_mic1.flac',) ('data/American/p301/p301_128_mic2.flac',) ('p237',) ('p234',) ('p237',) ('Scottish',) ('American',)\n",
      "('data/Scottish/p234/p234_262_mic2.flac',) ('data/Scottish/p234/p234_183_mic1.flac',) ('data/Scottish/p249/p249_056_mic2.flac',) ('data/Indian/p251/p251_116_mic2.flac',) ('p234',) ('p249',) ('p234',) ('Scottish',) ('Indian',)\n",
      "('data/American/p300/p300_243_mic1.flac',) ('data/American/p300/p300_199_mic2.flac',) ('data/American/p299/p299_289_mic2.flac',) ('data/Indian/p376/p376_135_mic1.flac',) ('p300',) ('p299',) ('p300',) ('American',) ('Indian',)\n",
      "('data/Scottish/p284/p284_061_mic1.flac',) ('data/Scottish/p284/p284_094_mic2.flac',) ('data/Scottish/p249/p249_207_mic1.flac',) ('data/Indian/p251/p251_030_mic1.flac',) ('p284',) ('p249',) ('p284',) ('Scottish',) ('Indian',)\n",
      "('data/Irish/p295/p295_268_mic2.flac',) ('data/Irish/p295/p295_248_mic1.flac',) ('data/Irish/p298/p298_137_mic1.flac',) ('data/Scottish/p249/p249_106_mic2.flac',) ('p295',) ('p298',) ('p295',) ('Irish',) ('Scottish',)\n",
      "('data/Scottish/p249/p249_016_mic2.flac',) ('data/Scottish/p249/p249_296_mic2.flac',) ('data/Scottish/p234/p234_326_mic1.flac',) ('data/American/p299/p299_162_mic2.flac',) ('p249',) ('p234',) ('p249',) ('Scottish',) ('American',)\n",
      "('data/Scottish/p249/p249_353_mic1.flac',) ('data/Scottish/p249/p249_284_mic1.flac',) ('data/Scottish/p284/p284_424_mic1.flac',) ('data/Indian/p248/p248_207_mic2.flac',) ('p249',) ('p284',) ('p249',) ('Scottish',) ('Indian',)\n",
      "('data/Indian/p376/p376_400_mic1.flac',) ('data/Indian/p376/p376_201_mic2.flac',) ('data/Indian/p251/p251_130_mic2.flac',) ('data/Irish/p298/p298_263_mic2.flac',) ('p376',) ('p251',) ('p376',) ('Indian',) ('Irish',)\n",
      "('data/Scottish/p234/p234_126_mic1.flac',) ('data/Scottish/p234/p234_312_mic2.flac',) ('data/Scottish/p237/p237_280_mic2.flac',) ('data/Indian/p376/p376_153_mic2.flac',) ('p234',) ('p237',) ('p234',) ('Scottish',) ('Indian',)\n",
      "('data/Irish/p295/p295_270_mic2.flac',) ('data/Irish/p295/p295_090_mic1.flac',) ('data/Irish/p245/p245_043_mic1.flac',) ('data/Indian/p248/p248_339_mic2.flac',) ('p295',) ('p245',) ('p295',) ('Irish',) ('Indian',)\n",
      "('data/Irish/p245/p245_201_mic1.flac',) ('data/Irish/p245/p245_026_mic1.flac',) ('data/Irish/p283/p283_003_mic1.flac',) ('data/Indian/p376/p376_014_mic1.flac',) ('p245',) ('p283',) ('p245',) ('Irish',) ('Indian',)\n",
      "('data/Indian/p251/p251_094_mic2.flac',) ('data/Indian/p251/p251_101_mic2.flac',) ('data/Indian/p376/p376_103_mic1.flac',) ('data/American/p300/p300_349_mic1.flac',) ('p251',) ('p376',) ('p251',) ('Indian',) ('American',)\n",
      "('data/Indian/p251/p251_026_mic2.flac',) ('data/Indian/p251/p251_039_mic1.flac',) ('data/Indian/p376/p376_118_mic1.flac',) ('data/American/p299/p299_174_mic1.flac',) ('p251',) ('p376',) ('p251',) ('Indian',) ('American',)\n",
      "('data/Irish/p295/p295_045_mic2.flac',) ('data/Irish/p295/p295_082_mic1.flac',) ('data/Irish/p283/p283_290_mic2.flac',) ('data/Scottish/p237/p237_101_mic2.flac',) ('p295',) ('p283',) ('p295',) ('Irish',) ('Scottish',)\n",
      "('data/Indian/p251/p251_057_mic2.flac',) ('data/Indian/p251/p251_041_mic2.flac',) ('data/Indian/p248/p248_145_mic2.flac',) ('data/American/p299/p299_025_mic1.flac',) ('p251',) ('p248',) ('p251',) ('Indian',) ('American',)\n",
      "('data/Indian/p251/p251_318_mic2.flac',) ('data/Indian/p251/p251_320_mic1.flac',) ('data/Indian/p376/p376_191_mic1.flac',) ('data/Scottish/p234/p234_289_mic1.flac',) ('p251',) ('p376',) ('p251',) ('Indian',) ('Scottish',)\n",
      "('data/Irish/p295/p295_012_mic1.flac',) ('data/Irish/p295/p295_166_mic2.flac',) ('data/Irish/p298/p298_024_mic2.flac',) ('data/Scottish/p237/p237_130_mic2.flac',) ('p295',) ('p298',) ('p295',) ('Irish',) ('Scottish',)\n",
      "('data/Indian/p376/p376_341_mic1.flac',) ('data/Indian/p376/p376_026_mic1.flac',) ('data/Indian/p251/p251_163_mic1.flac',) ('data/Scottish/p284/p284_425_mic1.flac',) ('p376',) ('p251',) ('p376',) ('Indian',) ('Scottish',)\n",
      "('data/Scottish/p249/p249_095_mic2.flac',) ('data/Scottish/p249/p249_245_mic1.flac',) ('data/Scottish/p234/p234_054_mic1.flac',) ('data/American/p299/p299_354_mic2.flac',) ('p249',) ('p234',) ('p249',) ('Scottish',) ('American',)\n",
      "('data/Irish/p245/p245_266_mic2.flac',) ('data/Irish/p245/p245_251_mic2.flac',) ('data/Irish/p295/p295_062_mic2.flac',) ('data/Indian/p248/p248_087_mic2.flac',) ('p245',) ('p295',) ('p245',) ('Irish',) ('Indian',)\n",
      "('data/Indian/p251/p251_147_mic2.flac',) ('data/Indian/p251/p251_365_mic1.flac',) ('data/Indian/p248/p248_359_mic2.flac',) ('data/American/p301/p301_357_mic2.flac',) ('p251',) ('p248',) ('p251',) ('Indian',) ('American',)\n",
      "('data/American/p301/p301_129_mic2.flac',) ('data/American/p301/p301_033_mic1.flac',) ('data/American/p300/p300_067_mic2.flac',) ('data/Indian/p248/p248_178_mic2.flac',) ('p301',) ('p300',) ('p301',) ('American',) ('Indian',)\n",
      "('data/Irish/p245/p245_327_mic1.flac',) ('data/Irish/p245/p245_064_mic2.flac',) ('data/Irish/p295/p295_411_mic1.flac',) ('data/Scottish/p237/p237_285_mic1.flac',) ('p245',) ('p295',) ('p245',) ('Irish',) ('Scottish',)\n",
      "('data/American/p301/p301_237_mic2.flac',) ('data/American/p301/p301_400_mic2.flac',) ('data/American/p299/p299_179_mic2.flac',) ('data/Scottish/p284/p284_389_mic2.flac',) ('p301',) ('p299',) ('p301',) ('American',) ('Scottish',)\n",
      "('data/Indian/p376/p376_140_mic2.flac',) ('data/Indian/p376/p376_170_mic2.flac',) ('data/Indian/p248/p248_216_mic1.flac',) ('data/American/p300/p300_018_mic1.flac',) ('p376',) ('p248',) ('p376',) ('Indian',) ('American',)\n",
      "('data/American/p299/p299_319_mic2.flac',) ('data/American/p299/p299_295_mic2.flac',) ('data/American/p300/p300_035_mic2.flac',) ('data/Indian/p251/p251_364_mic2.flac',) ('p299',) ('p300',) ('p299',) ('American',) ('Indian',)\n",
      "('data/Scottish/p284/p284_091_mic1.flac',) ('data/Scottish/p284/p284_064_mic1.flac',) ('data/Scottish/p237/p237_255_mic1.flac',) ('data/American/p300/p300_361_mic2.flac',) ('p284',) ('p237',) ('p284',) ('Scottish',) ('American',)\n",
      "('data/Scottish/p237/p237_241_mic1.flac',) ('data/Scottish/p237/p237_105_mic1.flac',) ('data/Scottish/p234/p234_354_mic2.flac',) ('data/Indian/p248/p248_083_mic1.flac',) ('p237',) ('p234',) ('p237',) ('Scottish',) ('Indian',)\n",
      "('data/Scottish/p237/p237_112_mic1.flac',) ('data/Scottish/p237/p237_256_mic1.flac',) ('data/Scottish/p234/p234_339_mic1.flac',) ('data/Indian/p248/p248_008_mic2.flac',) ('p237',) ('p234',) ('p237',) ('Scottish',) ('Indian',)\n",
      "('data/Indian/p376/p376_237_mic2.flac',) ('data/Indian/p376/p376_335_mic1.flac',) ('data/Indian/p251/p251_335_mic2.flac',) ('data/Irish/p245/p245_333_mic1.flac',) ('p376',) ('p251',) ('p376',) ('Indian',) ('Irish',)\n"
     ]
    },
    {
     "name": "stdout",
     "output_type": "stream",
     "text": [
      "('data/Scottish/p249/p249_113_mic2.flac',) ('data/Scottish/p249/p249_105_mic1.flac',) ('data/Scottish/p234/p234_284_mic1.flac',) ('data/Irish/p298/p298_248_mic1.flac',) ('p249',) ('p234',) ('p249',) ('Scottish',) ('Irish',)\n",
      "('data/American/p299/p299_211_mic1.flac',) ('data/American/p299/p299_108_mic2.flac',) ('data/American/p301/p301_040_mic2.flac',) ('data/Indian/p248/p248_018_mic2.flac',) ('p299',) ('p301',) ('p299',) ('American',) ('Indian',)\n",
      "('data/Indian/p251/p251_321_mic1.flac',) ('data/Indian/p251/p251_219_mic1.flac',) ('data/Indian/p376/p376_111_mic1.flac',) ('data/American/p300/p300_327_mic1.flac',) ('p251',) ('p376',) ('p251',) ('Indian',) ('American',)\n",
      "('data/Scottish/p234/p234_051_mic1.flac',) ('data/Scottish/p234/p234_082_mic2.flac',) ('data/Scottish/p237/p237_063_mic1.flac',) ('data/American/p301/p301_283_mic1.flac',) ('p234',) ('p237',) ('p234',) ('Scottish',) ('American',)\n",
      "('data/Indian/p251/p251_324_mic2.flac',) ('data/Indian/p251/p251_251_mic2.flac',) ('data/Indian/p248/p248_054_mic2.flac',) ('data/Irish/p295/p295_173_mic2.flac',) ('p251',) ('p248',) ('p251',) ('Indian',) ('Irish',)\n",
      "('data/Irish/p283/p283_190_mic1.flac',) ('data/Irish/p283/p283_123_mic1.flac',) ('data/Irish/p295/p295_244_mic2.flac',) ('data/Indian/p376/p376_160_mic1.flac',) ('p283',) ('p295',) ('p283',) ('Irish',) ('Indian',)\n",
      "('data/Irish/p283/p283_140_mic2.flac',) ('data/Irish/p283/p283_368_mic1.flac',) ('data/Irish/p295/p295_049_mic2.flac',) ('data/American/p301/p301_281_mic2.flac',) ('p283',) ('p295',) ('p283',) ('Irish',) ('American',)\n",
      "('data/Scottish/p249/p249_137_mic1.flac',) ('data/Scottish/p249/p249_041_mic2.flac',) ('data/Scottish/p237/p237_285_mic1.flac',) ('data/Indian/p251/p251_373_mic1.flac',) ('p249',) ('p237',) ('p249',) ('Scottish',) ('Indian',)\n",
      "('data/American/p300/p300_235_mic1.flac',) ('data/American/p300/p300_228_mic2.flac',) ('data/American/p301/p301_008_mic2.flac',) ('data/Scottish/p237/p237_274_mic1.flac',) ('p300',) ('p301',) ('p300',) ('American',) ('Scottish',)\n",
      "('data/Irish/p295/p295_128_mic2.flac',) ('data/Irish/p295/p295_082_mic2.flac',) ('data/Irish/p298/p298_039_mic1.flac',) ('data/American/p301/p301_165_mic2.flac',) ('p295',) ('p298',) ('p295',) ('Irish',) ('American',)\n",
      "('data/American/p300/p300_256_mic2.flac',) ('data/American/p300/p300_327_mic2.flac',) ('data/American/p301/p301_376_mic1.flac',) ('data/Irish/p245/p245_357_mic1.flac',) ('p300',) ('p301',) ('p300',) ('American',) ('Irish',)\n",
      "('data/Irish/p298/p298_039_mic1.flac',) ('data/Irish/p298/p298_130_mic2.flac',) ('data/Irish/p295/p295_240_mic1.flac',) ('data/American/p299/p299_096_mic2.flac',) ('p298',) ('p295',) ('p298',) ('Irish',) ('American',)\n",
      "('data/Indian/p248/p248_214_mic2.flac',) ('data/Indian/p248/p248_227_mic2.flac',) ('data/Indian/p376/p376_389_mic2.flac',) ('data/American/p300/p300_355_mic1.flac',) ('p248',) ('p376',) ('p248',) ('Indian',) ('American',)\n",
      "('data/American/p300/p300_248_mic1.flac',) ('data/American/p300/p300_219_mic1.flac',) ('data/American/p299/p299_335_mic2.flac',) ('data/Irish/p245/p245_329_mic2.flac',) ('p300',) ('p299',) ('p300',) ('American',) ('Irish',)\n",
      "('data/Scottish/p284/p284_171_mic1.flac',) ('data/Scottish/p284/p284_073_mic2.flac',) ('data/Scottish/p234/p234_322_mic1.flac',) ('data/American/p300/p300_354_mic1.flac',) ('p284',) ('p234',) ('p284',) ('Scottish',) ('American',)\n",
      "('data/American/p301/p301_039_mic1.flac',) ('data/American/p301/p301_111_mic1.flac',) ('data/American/p300/p300_383_mic1.flac',) ('data/Scottish/p234/p234_040_mic1.flac',) ('p301',) ('p300',) ('p301',) ('American',) ('Scottish',)\n",
      "('data/Irish/p283/p283_338_mic1.flac',) ('data/Irish/p283/p283_239_mic1.flac',) ('data/Irish/p298/p298_159_mic2.flac',) ('data/Indian/p251/p251_051_mic2.flac',) ('p283',) ('p298',) ('p283',) ('Irish',) ('Indian',)\n",
      "('data/American/p300/p300_020_mic2.flac',) ('data/American/p300/p300_020_mic1.flac',) ('data/American/p301/p301_147_mic2.flac',) ('data/Irish/p283/p283_299_mic1.flac',) ('p300',) ('p301',) ('p300',) ('American',) ('Irish',)\n",
      "('data/Scottish/p237/p237_205_mic1.flac',) ('data/Scottish/p237/p237_068_mic2.flac',) ('data/Scottish/p284/p284_094_mic2.flac',) ('data/Irish/p295/p295_124_mic2.flac',) ('p237',) ('p284',) ('p237',) ('Scottish',) ('Irish',)\n",
      "('data/Scottish/p234/p234_099_mic1.flac',) ('data/Scottish/p234/p234_062_mic2.flac',) ('data/Scottish/p249/p249_044_mic1.flac',) ('data/Irish/p245/p245_156_mic2.flac',) ('p234',) ('p249',) ('p234',) ('Scottish',) ('Irish',)\n",
      "('data/Irish/p245/p245_003_mic2.flac',) ('data/Irish/p245/p245_028_mic2.flac',) ('data/Irish/p295/p295_082_mic2.flac',) ('data/American/p299/p299_085_mic2.flac',) ('p245',) ('p295',) ('p245',) ('Irish',) ('American',)\n",
      "('data/American/p300/p300_253_mic1.flac',) ('data/American/p300/p300_336_mic1.flac',) ('data/American/p299/p299_258_mic1.flac',) ('data/Scottish/p237/p237_272_mic1.flac',) ('p300',) ('p299',) ('p300',) ('American',) ('Scottish',)\n",
      "('data/Indian/p251/p251_179_mic1.flac',) ('data/Indian/p251/p251_280_mic1.flac',) ('data/Indian/p248/p248_331_mic2.flac',) ('data/American/p300/p300_382_mic2.flac',) ('p251',) ('p248',) ('p251',) ('Indian',) ('American',)\n",
      "('data/Irish/p245/p245_305_mic1.flac',) ('data/Irish/p245/p245_113_mic2.flac',) ('data/Irish/p283/p283_119_mic1.flac',) ('data/Scottish/p237/p237_313_mic2.flac',) ('p245',) ('p283',) ('p245',) ('Irish',) ('Scottish',)\n",
      "('data/Indian/p248/p248_167_mic2.flac',) ('data/Indian/p248/p248_326_mic1.flac',) ('data/Indian/p376/p376_206_mic1.flac',) ('data/Scottish/p284/p284_001_mic2.flac',) ('p248',) ('p376',) ('p248',) ('Indian',) ('Scottish',)\n",
      "('data/Scottish/p249/p249_097_mic1.flac',) ('data/Scottish/p249/p249_344_mic1.flac',) ('data/Scottish/p234/p234_021_mic2.flac',) ('data/American/p300/p300_292_mic2.flac',) ('p249',) ('p234',) ('p249',) ('Scottish',) ('American',)\n",
      "('data/Indian/p248/p248_195_mic2.flac',) ('data/Indian/p248/p248_152_mic1.flac',) ('data/Indian/p376/p376_069_mic2.flac',) ('data/Scottish/p284/p284_095_mic2.flac',) ('p248',) ('p376',) ('p248',) ('Indian',) ('Scottish',)\n",
      "('data/American/p301/p301_103_mic2.flac',) ('data/American/p301/p301_312_mic1.flac',) ('data/American/p300/p300_017_mic2.flac',) ('data/Indian/p376/p376_345_mic1.flac',) ('p301',) ('p300',) ('p301',) ('American',) ('Indian',)\n",
      "('data/Scottish/p237/p237_301_mic1.flac',) ('data/Scottish/p237/p237_140_mic2.flac',) ('data/Scottish/p284/p284_128_mic1.flac',) ('data/American/p301/p301_047_mic2.flac',) ('p237',) ('p284',) ('p237',) ('Scottish',) ('American',)\n",
      "('data/Indian/p251/p251_014_mic2.flac',) ('data/Indian/p251/p251_016_mic1.flac',) ('data/Indian/p376/p376_024_mic2.flac',) ('data/Scottish/p249/p249_295_mic2.flac',) ('p251',) ('p376',) ('p251',) ('Indian',) ('Scottish',)\n",
      "('data/Scottish/p284/p284_398_mic2.flac',) ('data/Scottish/p284/p284_157_mic1.flac',) ('data/Scottish/p234/p234_207_mic1.flac',) ('data/American/p301/p301_198_mic2.flac',) ('p284',) ('p234',) ('p284',) ('Scottish',) ('American',)\n",
      "('data/American/p299/p299_081_mic2.flac',) ('data/American/p299/p299_272_mic1.flac',) ('data/American/p301/p301_131_mic1.flac',) ('data/Scottish/p284/p284_350_mic1.flac',) ('p299',) ('p301',) ('p299',) ('American',) ('Scottish',)\n",
      "('data/Irish/p298/p298_128_mic2.flac',) ('data/Irish/p298/p298_210_mic1.flac',) ('data/Irish/p283/p283_297_mic2.flac',) ('data/Scottish/p249/p249_031_mic2.flac',) ('p298',) ('p283',) ('p298',) ('Irish',) ('Scottish',)\n",
      "('data/Scottish/p234/p234_271_mic2.flac',) ('data/Scottish/p234/p234_298_mic2.flac',) ('data/Scottish/p284/p284_319_mic1.flac',) ('data/Indian/p376/p376_002_mic2.flac',) ('p234',) ('p284',) ('p234',) ('Scottish',) ('Indian',)\n",
      "('data/Indian/p376/p376_366_mic1.flac',) ('data/Indian/p376/p376_390_mic2.flac',) ('data/Indian/p251/p251_015_mic2.flac',) ('data/Scottish/p249/p249_087_mic1.flac',) ('p376',) ('p251',) ('p376',) ('Indian',) ('Scottish',)\n",
      "('data/Scottish/p237/p237_041_mic1.flac',) ('data/Scottish/p237/p237_279_mic1.flac',) ('data/Scottish/p234/p234_175_mic1.flac',) ('data/American/p300/p300_177_mic1.flac',) ('p237',) ('p234',) ('p237',) ('Scottish',) ('American',)\n",
      "('data/Irish/p295/p295_128_mic2.flac',) ('data/Irish/p295/p295_388_mic2.flac',) ('data/Irish/p283/p283_064_mic2.flac',) ('data/Indian/p248/p248_025_mic2.flac',) ('p295',) ('p283',) ('p295',) ('Irish',) ('Indian',)\n",
      "('data/Scottish/p234/p234_157_mic2.flac',) ('data/Scottish/p234/p234_160_mic1.flac',) ('data/Scottish/p249/p249_328_mic2.flac',) ('data/Irish/p245/p245_307_mic2.flac',) ('p234',) ('p249',) ('p234',) ('Scottish',) ('Irish',)\n",
      "('data/Scottish/p249/p249_199_mic1.flac',) ('data/Scottish/p249/p249_071_mic1.flac',) ('data/Scottish/p234/p234_234_mic2.flac',) ('data/Irish/p283/p283_455_mic2.flac',) ('p249',) ('p234',) ('p249',) ('Scottish',) ('Irish',)\n",
      "('data/Scottish/p237/p237_321_mic2.flac',) ('data/Scottish/p237/p237_188_mic1.flac',) ('data/Scottish/p249/p249_080_mic2.flac',) ('data/American/p301/p301_081_mic2.flac',) ('p237',) ('p249',) ('p237',) ('Scottish',) ('American',)\n",
      "('data/American/p301/p301_366_mic1.flac',) ('data/American/p301/p301_179_mic1.flac',) ('data/American/p299/p299_082_mic1.flac',) ('data/Indian/p251/p251_029_mic1.flac',) ('p301',) ('p299',) ('p301',) ('American',) ('Indian',)\n",
      "('data/Scottish/p237/p237_043_mic2.flac',) ('data/Scottish/p237/p237_331_mic1.flac',) ('data/Scottish/p249/p249_344_mic2.flac',) ('data/Indian/p251/p251_292_mic2.flac',) ('p237',) ('p249',) ('p237',) ('Scottish',) ('Indian',)\n",
      "('data/Scottish/p237/p237_151_mic1.flac',) ('data/Scottish/p237/p237_053_mic1.flac',) ('data/Scottish/p284/p284_372_mic2.flac',) ('data/Indian/p251/p251_193_mic2.flac',) ('p237',) ('p284',) ('p237',) ('Scottish',) ('Indian',)\n",
      "('data/Irish/p298/p298_182_mic2.flac',) ('data/Irish/p298/p298_365_mic1.flac',) ('data/Irish/p295/p295_267_mic2.flac',) ('data/Indian/p376/p376_369_mic2.flac',) ('p298',) ('p295',) ('p298',) ('Irish',) ('Indian',)\n",
      "('data/Indian/p376/p376_410_mic2.flac',) ('data/Indian/p376/p376_408_mic2.flac',) ('data/Indian/p251/p251_205_mic2.flac',) ('data/Irish/p295/p295_423_mic1.flac',) ('p376',) ('p251',) ('p376',) ('Indian',) ('Irish',)\n",
      "('data/Indian/p376/p376_146_mic2.flac',) ('data/Indian/p376/p376_006_mic1.flac',) ('data/Indian/p251/p251_048_mic1.flac',) ('data/Scottish/p249/p249_081_mic2.flac',) ('p376',) ('p251',) ('p376',) ('Indian',) ('Scottish',)\n",
      "('data/Irish/p245/p245_266_mic2.flac',) ('data/Irish/p245/p245_149_mic2.flac',) ('data/Irish/p295/p295_247_mic2.flac',) ('data/Indian/p251/p251_257_mic2.flac',) ('p245',) ('p295',) ('p245',) ('Irish',) ('Indian',)\n",
      "('data/Irish/p295/p295_051_mic2.flac',) ('data/Irish/p295/p295_202_mic2.flac',) ('data/Irish/p298/p298_051_mic1.flac',) ('data/Scottish/p234/p234_255_mic2.flac',) ('p295',) ('p298',) ('p295',) ('Irish',) ('Scottish',)\n",
      "('data/Indian/p248/p248_092_mic1.flac',) ('data/Indian/p248/p248_164_mic2.flac',) ('data/Indian/p376/p376_386_mic2.flac',) ('data/Irish/p298/p298_004_mic1.flac',) ('p248',) ('p376',) ('p248',) ('Indian',) ('Irish',)\n",
      "('data/Indian/p251/p251_286_mic1.flac',) ('data/Indian/p251/p251_251_mic1.flac',) ('data/Indian/p248/p248_118_mic1.flac',) ('data/American/p300/p300_210_mic1.flac',) ('p251',) ('p248',) ('p251',) ('Indian',) ('American',)\n",
      "('data/Irish/p245/p245_184_mic2.flac',) ('data/Irish/p245/p245_200_mic2.flac',) ('data/Irish/p295/p295_269_mic2.flac',) ('data/American/p300/p300_200_mic2.flac',) ('p245',) ('p295',) ('p245',) ('Irish',) ('American',)\n",
      "('data/Indian/p376/p376_110_mic2.flac',) ('data/Indian/p376/p376_098_mic1.flac',) ('data/Indian/p248/p248_361_mic1.flac',) ('data/Scottish/p237/p237_221_mic2.flac',) ('p376',) ('p248',) ('p376',) ('Indian',) ('Scottish',)\n",
      "('data/Indian/p376/p376_348_mic2.flac',) ('data/Indian/p376/p376_346_mic2.flac',) ('data/Indian/p251/p251_226_mic1.flac',) ('data/American/p299/p299_261_mic1.flac',) ('p376',) ('p251',) ('p376',) ('Indian',) ('American',)\n",
      "('data/Scottish/p237/p237_216_mic2.flac',) ('data/Scottish/p237/p237_212_mic2.flac',) ('data/Scottish/p249/p249_262_mic2.flac',) ('data/Irish/p298/p298_128_mic1.flac',) ('p237',) ('p249',) ('p237',) ('Scottish',) ('Irish',)\n",
      "('data/Indian/p376/p376_392_mic1.flac',) ('data/Indian/p376/p376_326_mic2.flac',) ('data/Indian/p251/p251_138_mic1.flac',) ('data/Irish/p245/p245_175_mic1.flac',) ('p376',) ('p251',) ('p376',) ('Indian',) ('Irish',)\n",
      "('data/Irish/p298/p298_110_mic1.flac',) ('data/Irish/p298/p298_036_mic2.flac',) ('data/Irish/p283/p283_160_mic1.flac',) ('data/Scottish/p237/p237_019_mic1.flac',) ('p298',) ('p283',) ('p298',) ('Irish',) ('Scottish',)\n",
      "('data/Scottish/p237/p237_130_mic2.flac',) ('data/Scottish/p237/p237_211_mic2.flac',) ('data/Scottish/p284/p284_137_mic1.flac',) ('data/Irish/p245/p245_278_mic1.flac',) ('p237',) ('p284',) ('p237',) ('Scottish',) ('Irish',)\n",
      "('data/Irish/p295/p295_110_mic2.flac',) ('data/Irish/p295/p295_327_mic1.flac',) ('data/Irish/p245/p245_348_mic2.flac',) ('data/Scottish/p234/p234_259_mic1.flac',) ('p295',) ('p245',) ('p295',) ('Irish',) ('Scottish',)\n",
      "('data/Scottish/p234/p234_237_mic2.flac',) ('data/Scottish/p234/p234_200_mic2.flac',) ('data/Scottish/p237/p237_021_mic2.flac',) ('data/American/p299/p299_282_mic1.flac',) ('p234',) ('p237',) ('p234',) ('Scottish',) ('American',)\n",
      "('data/American/p301/p301_016_mic2.flac',) ('data/American/p301/p301_130_mic2.flac',) ('data/American/p300/p300_291_mic2.flac',) ('data/Irish/p298/p298_073_mic2.flac',) ('p301',) ('p300',) ('p301',) ('American',) ('Irish',)\n",
      "('data/American/p301/p301_364_mic1.flac',) ('data/American/p301/p301_226_mic1.flac',) ('data/American/p299/p299_111_mic1.flac',) ('data/Indian/p251/p251_350_mic1.flac',) ('p301',) ('p299',) ('p301',) ('American',) ('Indian',)\n",
      "('data/Irish/p298/p298_311_mic1.flac',) ('data/Irish/p298/p298_170_mic2.flac',) ('data/Irish/p295/p295_230_mic2.flac',) ('data/Scottish/p249/p249_235_mic2.flac',) ('p298',) ('p295',) ('p298',) ('Irish',) ('Scottish',)\n",
      "('data/American/p299/p299_188_mic2.flac',) ('data/American/p299/p299_167_mic1.flac',) ('data/American/p301/p301_323_mic2.flac',) ('data/Irish/p283/p283_459_mic2.flac',) ('p299',) ('p301',) ('p299',) ('American',) ('Irish',)\n",
      "('data/Scottish/p237/p237_103_mic2.flac',) ('data/Scottish/p237/p237_120_mic2.flac',) ('data/Scottish/p249/p249_181_mic1.flac',) ('data/Irish/p283/p283_109_mic1.flac',) ('p237',) ('p249',) ('p237',) ('Scottish',) ('Irish',)\n",
      "('data/Indian/p248/p248_075_mic2.flac',) ('data/Indian/p248/p248_224_mic2.flac',) ('data/Indian/p251/p251_285_mic2.flac',) ('data/Scottish/p284/p284_230_mic1.flac',) ('p248',) ('p251',) ('p248',) ('Indian',) ('Scottish',)\n",
      "('data/Indian/p376/p376_229_mic1.flac',) ('data/Indian/p376/p376_095_mic2.flac',) ('data/Indian/p248/p248_137_mic1.flac',) ('data/Irish/p298/p298_221_mic2.flac',) ('p376',) ('p248',) ('p376',) ('Indian',) ('Irish',)\n",
      "('data/Irish/p283/p283_368_mic1.flac',) ('data/Irish/p283/p283_423_mic1.flac',) ('data/Irish/p245/p245_090_mic2.flac',) ('data/Scottish/p237/p237_070_mic1.flac',) ('p283',) ('p245',) ('p283',) ('Irish',) ('Scottish',)\n",
      "('data/Indian/p251/p251_147_mic1.flac',) ('data/Indian/p251/p251_121_mic2.flac',) ('data/Indian/p248/p248_288_mic2.flac',) ('data/Irish/p245/p245_267_mic2.flac',) ('p251',) ('p248',) ('p251',) ('Indian',) ('Irish',)\n",
      "('data/Indian/p251/p251_350_mic1.flac',) ('data/Indian/p251/p251_032_mic2.flac',) ('data/Indian/p248/p248_375_mic1.flac',) ('data/American/p301/p301_095_mic1.flac',) ('p251',) ('p248',) ('p251',) ('Indian',) ('American',)\n",
      "('data/Irish/p283/p283_324_mic1.flac',) ('data/Irish/p283/p283_319_mic1.flac',) ('data/Irish/p298/p298_267_mic2.flac',) ('data/Scottish/p284/p284_355_mic2.flac',) ('p283',) ('p298',) ('p283',) ('Irish',) ('Scottish',)\n",
      "('data/Scottish/p249/p249_157_mic1.flac',) ('data/Scottish/p249/p249_076_mic1.flac',) ('data/Scottish/p234/p234_177_mic2.flac',) ('data/Irish/p298/p298_289_mic2.flac',) ('p249',) ('p234',) ('p249',) ('Scottish',) ('Irish',)\n",
      "('data/Scottish/p234/p234_174_mic2.flac',) ('data/Scottish/p234/p234_220_mic1.flac',) ('data/Scottish/p237/p237_202_mic1.flac',) ('data/American/p300/p300_131_mic2.flac',) ('p234',) ('p237',) ('p234',) ('Scottish',) ('American',)\n",
      "('data/Scottish/p234/p234_079_mic2.flac',) ('data/Scottish/p234/p234_331_mic2.flac',) ('data/Scottish/p237/p237_176_mic2.flac',) ('data/American/p301/p301_310_mic1.flac',) ('p234',) ('p237',) ('p234',) ('Scottish',) ('American',)\n",
      "('data/Indian/p376/p376_229_mic1.flac',) ('data/Indian/p376/p376_408_mic2.flac',) ('data/Indian/p248/p248_346_mic1.flac',) ('data/American/p299/p299_336_mic1.flac',) ('p376',) ('p248',) ('p376',) ('Indian',) ('American',)\n",
      "('data/Irish/p245/p245_072_mic2.flac',) ('data/Irish/p245/p245_305_mic1.flac',) ('data/Irish/p295/p295_413_mic2.flac',) ('data/Scottish/p284/p284_164_mic1.flac',) ('p245',) ('p295',) ('p245',) ('Irish',) ('Scottish',)\n",
      "('data/Irish/p298/p298_212_mic1.flac',) ('data/Irish/p298/p298_025_mic2.flac',) ('data/Irish/p245/p245_237_mic2.flac',) ('data/Indian/p248/p248_145_mic2.flac',) ('p298',) ('p245',) ('p298',) ('Irish',) ('Indian',)\n",
      "('data/Indian/p248/p248_184_mic2.flac',) ('data/Indian/p248/p248_372_mic2.flac',) ('data/Indian/p251/p251_066_mic2.flac',) ('data/Scottish/p284/p284_233_mic2.flac',) ('p248',) ('p251',) ('p248',) ('Indian',) ('Scottish',)\n",
      "('data/Scottish/p249/p249_102_mic1.flac',) ('data/Scottish/p249/p249_127_mic2.flac',) ('data/Scottish/p234/p234_234_mic2.flac',) ('data/American/p300/p300_166_mic2.flac',) ('p249',) ('p234',) ('p249',) ('Scottish',) ('American',)\n",
      "('data/Scottish/p237/p237_005_mic1.flac',) ('data/Scottish/p237/p237_154_mic1.flac',) ('data/Scottish/p284/p284_058_mic2.flac',) ('data/American/p301/p301_017_mic1.flac',) ('p237',) ('p284',) ('p237',) ('Scottish',) ('American',)\n",
      "('data/Indian/p376/p376_032_mic1.flac',) ('data/Indian/p376/p376_393_mic1.flac',) ('data/Indian/p251/p251_008_mic1.flac',) ('data/American/p300/p300_348_mic2.flac',) ('p376',) ('p251',) ('p376',) ('Indian',) ('American',)\n",
      "('data/American/p301/p301_129_mic1.flac',) ('data/American/p301/p301_158_mic2.flac',) ('data/American/p299/p299_253_mic1.flac',) ('data/Irish/p245/p245_313_mic2.flac',) ('p301',) ('p299',) ('p301',) ('American',) ('Irish',)\n",
      "('data/Scottish/p237/p237_111_mic2.flac',) ('data/Scottish/p237/p237_047_mic2.flac',) ('data/Scottish/p284/p284_200_mic1.flac',) ('data/Irish/p298/p298_090_mic1.flac',) ('p237',) ('p284',) ('p237',) ('Scottish',) ('Irish',)\n",
      "('data/Scottish/p284/p284_235_mic1.flac',) ('data/Scottish/p284/p284_029_mic2.flac',) ('data/Scottish/p234/p234_194_mic1.flac',) ('data/Irish/p295/p295_186_mic2.flac',) ('p284',) ('p234',) ('p284',) ('Scottish',) ('Irish',)\n",
      "('data/Scottish/p284/p284_256_mic1.flac',) ('data/Scottish/p284/p284_113_mic2.flac',) ('data/Scottish/p249/p249_082_mic1.flac',) ('data/American/p301/p301_249_mic1.flac',) ('p284',) ('p249',) ('p284',) ('Scottish',) ('American',)\n",
      "('data/Indian/p248/p248_350_mic1.flac',) ('data/Indian/p248/p248_283_mic2.flac',) ('data/Indian/p376/p376_399_mic2.flac',) ('data/American/p300/p300_380_mic2.flac',) ('p248',) ('p376',) ('p248',) ('Indian',) ('American',)\n",
      "('data/Irish/p295/p295_008_mic2.flac',) ('data/Irish/p295/p295_138_mic2.flac',) ('data/Irish/p283/p283_208_mic1.flac',) ('data/Indian/p251/p251_189_mic2.flac',) ('p295',) ('p283',) ('p295',) ('Irish',) ('Indian',)\n",
      "('data/Indian/p248/p248_277_mic2.flac',) ('data/Indian/p248/p248_184_mic2.flac',) ('data/Indian/p251/p251_060_mic2.flac',) ('data/Irish/p283/p283_013_mic2.flac',) ('p248',) ('p251',) ('p248',) ('Indian',) ('Irish',)\n",
      "('data/Indian/p376/p376_302_mic2.flac',) ('data/Indian/p376/p376_131_mic1.flac',) ('data/Indian/p248/p248_088_mic1.flac',) ('data/Scottish/p237/p237_263_mic1.flac',) ('p376',) ('p248',) ('p376',) ('Indian',) ('Scottish',)\n",
      "('data/Irish/p295/p295_419_mic2.flac',) ('data/Irish/p295/p295_191_mic1.flac',) ('data/Irish/p245/p245_117_mic1.flac',) ('data/Indian/p251/p251_284_mic1.flac',) ('p295',) ('p245',) ('p295',) ('Irish',) ('Indian',)\n",
      "('data/Indian/p251/p251_019_mic2.flac',) ('data/Indian/p251/p251_095_mic2.flac',) ('data/Indian/p376/p376_042_mic1.flac',) ('data/Irish/p295/p295_248_mic2.flac',) ('p251',) ('p376',) ('p251',) ('Indian',) ('Irish',)\n",
      "('data/Scottish/p234/p234_052_mic1.flac',) ('data/Scottish/p234/p234_137_mic2.flac',) ('data/Scottish/p284/p284_047_mic1.flac',) ('data/Irish/p283/p283_112_mic2.flac',) ('p234',) ('p284',) ('p234',) ('Scottish',) ('Irish',)\n",
      "('data/Indian/p248/p248_172_mic1.flac',) ('data/Indian/p248/p248_233_mic2.flac',) ('data/Indian/p251/p251_226_mic2.flac',) ('data/American/p299/p299_145_mic1.flac',) ('p248',) ('p251',) ('p248',) ('Indian',) ('American',)\n",
      "('data/Scottish/p237/p237_048_mic2.flac',) ('data/Scottish/p237/p237_045_mic1.flac',) ('data/Scottish/p234/p234_073_mic2.flac',) ('data/American/p299/p299_240_mic1.flac',) ('p237',) ('p234',) ('p237',) ('Scottish',) ('American',)\n",
      "('data/Indian/p248/p248_326_mic1.flac',) ('data/Indian/p248/p248_115_mic2.flac',) ('data/Indian/p251/p251_077_mic1.flac',) ('data/Scottish/p284/p284_085_mic1.flac',) ('p248',) ('p251',) ('p248',) ('Indian',) ('Scottish',)\n",
      "('data/Irish/p283/p283_210_mic2.flac',) ('data/Irish/p283/p283_347_mic1.flac',) ('data/Irish/p245/p245_230_mic2.flac',) ('data/American/p300/p300_287_mic1.flac',) ('p283',) ('p245',) ('p283',) ('Irish',) ('American',)\n",
      "('data/Scottish/p237/p237_204_mic1.flac',) ('data/Scottish/p237/p237_237_mic1.flac',) ('data/Scottish/p234/p234_303_mic1.flac',) ('data/Irish/p295/p295_108_mic2.flac',) ('p237',) ('p234',) ('p237',) ('Scottish',) ('Irish',)\n",
      "('data/American/p300/p300_336_mic2.flac',) ('data/American/p300/p300_021_mic2.flac',) ('data/American/p299/p299_279_mic2.flac',) ('data/Indian/p376/p376_001_mic2.flac',) ('p300',) ('p299',) ('p300',) ('American',) ('Indian',)\n",
      "('data/Indian/p376/p376_030_mic1.flac',) ('data/Indian/p376/p376_250_mic1.flac',) ('data/Indian/p248/p248_279_mic1.flac',) ('data/Scottish/p234/p234_103_mic2.flac',) ('p376',) ('p248',) ('p376',) ('Indian',) ('Scottish',)\n",
      "('data/Indian/p376/p376_336_mic1.flac',) ('data/Indian/p376/p376_040_mic2.flac',) ('data/Indian/p248/p248_305_mic1.flac',) ('data/Scottish/p249/p249_101_mic2.flac',) ('p376',) ('p248',) ('p376',) ('Indian',) ('Scottish',)\n",
      "('data/Indian/p251/p251_203_mic1.flac',) ('data/Indian/p251/p251_135_mic2.flac',) ('data/Indian/p248/p248_192_mic1.flac',) ('data/Irish/p298/p298_103_mic1.flac',) ('p251',) ('p248',) ('p251',) ('Indian',) ('Irish',)\n",
      "('data/Indian/p251/p251_319_mic2.flac',) ('data/Indian/p251/p251_135_mic2.flac',) ('data/Indian/p376/p376_173_mic2.flac',) ('data/American/p301/p301_039_mic2.flac',) ('p251',) ('p376',) ('p251',) ('Indian',) ('American',)\n",
      "('data/Scottish/p237/p237_035_mic1.flac',) ('data/Scottish/p237/p237_014_mic2.flac',) ('data/Scottish/p234/p234_304_mic2.flac',) ('data/Indian/p248/p248_043_mic2.flac',) ('p237',) ('p234',) ('p237',) ('Scottish',) ('Indian',)\n",
      "('data/American/p299/p299_282_mic2.flac',) ('data/American/p299/p299_392_mic2.flac',) ('data/American/p301/p301_073_mic2.flac',) ('data/Indian/p251/p251_341_mic1.flac',) ('p299',) ('p301',) ('p299',) ('American',) ('Indian',)\n",
      "('data/Scottish/p284/p284_298_mic2.flac',) ('data/Scottish/p284/p284_387_mic2.flac',) ('data/Scottish/p249/p249_119_mic1.flac',) ('data/American/p300/p300_331_mic2.flac',) ('p284',) ('p249',) ('p284',) ('Scottish',) ('American',)\n",
      "('data/Indian/p248/p248_291_mic2.flac',) ('data/Indian/p248/p248_196_mic1.flac',) ('data/Indian/p251/p251_065_mic2.flac',) ('data/American/p299/p299_356_mic1.flac',) ('p248',) ('p251',) ('p248',) ('Indian',) ('American',)\n",
      "('data/Irish/p283/p283_393_mic1.flac',) ('data/Irish/p283/p283_436_mic1.flac',) ('data/Irish/p245/p245_126_mic1.flac',) ('data/American/p301/p301_358_mic1.flac',) ('p283',) ('p245',) ('p283',) ('Irish',) ('American',)\n",
      "('data/Indian/p251/p251_285_mic2.flac',) ('data/Indian/p251/p251_062_mic2.flac',) ('data/Indian/p376/p376_398_mic1.flac',) ('data/Irish/p245/p245_120_mic1.flac',) ('p251',) ('p376',) ('p251',) ('Indian',) ('Irish',)\n",
      "('data/Scottish/p234/p234_258_mic1.flac',) ('data/Scottish/p234/p234_266_mic2.flac',) ('data/Scottish/p249/p249_057_mic2.flac',) ('data/Indian/p248/p248_251_mic1.flac',) ('p234',) ('p249',) ('p234',) ('Scottish',) ('Indian',)\n",
      "('data/Indian/p376/p376_160_mic2.flac',) ('data/Indian/p376/p376_035_mic2.flac',) ('data/Indian/p251/p251_218_mic1.flac',) ('data/Scottish/p284/p284_158_mic1.flac',) ('p376',) ('p251',) ('p376',) ('Indian',) ('Scottish',)\n"
     ]
    },
    {
     "name": "stdout",
     "output_type": "stream",
     "text": [
      "('data/Irish/p283/p283_113_mic1.flac',) ('data/Irish/p283/p283_193_mic2.flac',) ('data/Irish/p298/p298_395_mic1.flac',) ('data/American/p300/p300_094_mic2.flac',) ('p283',) ('p298',) ('p283',) ('Irish',) ('American',)\n",
      "('data/American/p299/p299_311_mic1.flac',) ('data/American/p299/p299_293_mic1.flac',) ('data/American/p300/p300_389_mic2.flac',) ('data/Indian/p376/p376_233_mic1.flac',) ('p299',) ('p300',) ('p299',) ('American',) ('Indian',)\n",
      "('data/Scottish/p234/p234_176_mic1.flac',) ('data/Scottish/p234/p234_292_mic2.flac',) ('data/Scottish/p249/p249_169_mic2.flac',) ('data/Indian/p248/p248_334_mic1.flac',) ('p234',) ('p249',) ('p234',) ('Scottish',) ('Indian',)\n",
      "('data/Irish/p245/p245_141_mic1.flac',) ('data/Irish/p245/p245_221_mic2.flac',) ('data/Irish/p295/p295_265_mic2.flac',) ('data/American/p301/p301_252_mic2.flac',) ('p245',) ('p295',) ('p245',) ('Irish',) ('American',)\n",
      "('data/Scottish/p234/p234_284_mic1.flac',) ('data/Scottish/p234/p234_018_mic1.flac',) ('data/Scottish/p284/p284_145_mic2.flac',) ('data/Indian/p376/p376_157_mic2.flac',) ('p234',) ('p284',) ('p234',) ('Scottish',) ('Indian',)\n",
      "('data/Indian/p251/p251_177_mic2.flac',) ('data/Indian/p251/p251_313_mic2.flac',) ('data/Indian/p376/p376_035_mic1.flac',) ('data/American/p299/p299_378_mic1.flac',) ('p251',) ('p376',) ('p251',) ('Indian',) ('American',)\n",
      "('data/Irish/p298/p298_223_mic2.flac',) ('data/Irish/p298/p298_358_mic2.flac',) ('data/Irish/p295/p295_164_mic2.flac',) ('data/Scottish/p284/p284_094_mic1.flac',) ('p298',) ('p295',) ('p298',) ('Irish',) ('Scottish',)\n",
      "('data/Indian/p251/p251_122_mic2.flac',) ('data/Indian/p251/p251_299_mic2.flac',) ('data/Indian/p248/p248_028_mic1.flac',) ('data/Scottish/p234/p234_208_mic1.flac',) ('p251',) ('p248',) ('p251',) ('Indian',) ('Scottish',)\n",
      "('data/American/p299/p299_175_mic1.flac',) ('data/American/p299/p299_214_mic1.flac',) ('data/American/p300/p300_346_mic2.flac',) ('data/Scottish/p234/p234_345_mic1.flac',) ('p299',) ('p300',) ('p299',) ('American',) ('Scottish',)\n",
      "('data/Irish/p298/p298_020_mic1.flac',) ('data/Irish/p298/p298_238_mic2.flac',) ('data/Irish/p283/p283_045_mic2.flac',) ('data/American/p300/p300_195_mic1.flac',) ('p298',) ('p283',) ('p298',) ('Irish',) ('American',)\n",
      "('data/Scottish/p234/p234_114_mic2.flac',) ('data/Scottish/p234/p234_071_mic1.flac',) ('data/Scottish/p249/p249_024_mic1.flac',) ('data/Indian/p376/p376_146_mic1.flac',) ('p234',) ('p249',) ('p234',) ('Scottish',) ('Indian',)\n",
      "('data/Scottish/p234/p234_146_mic2.flac',) ('data/Scottish/p234/p234_022_mic2.flac',) ('data/Scottish/p284/p284_109_mic1.flac',) ('data/Irish/p298/p298_115_mic2.flac',) ('p234',) ('p284',) ('p234',) ('Scottish',) ('Irish',)\n",
      "('data/American/p301/p301_365_mic2.flac',) ('data/American/p301/p301_242_mic2.flac',) ('data/American/p299/p299_168_mic1.flac',) ('data/Scottish/p284/p284_022_mic1.flac',) ('p301',) ('p299',) ('p301',) ('American',) ('Scottish',)\n",
      "('data/Indian/p376/p376_306_mic2.flac',) ('data/Indian/p376/p376_091_mic1.flac',) ('data/Indian/p251/p251_308_mic2.flac',) ('data/American/p300/p300_330_mic1.flac',) ('p376',) ('p251',) ('p376',) ('Indian',) ('American',)\n",
      "('data/Indian/p251/p251_338_mic2.flac',) ('data/Indian/p251/p251_352_mic2.flac',) ('data/Indian/p248/p248_293_mic1.flac',) ('data/Scottish/p234/p234_077_mic1.flac',) ('p251',) ('p248',) ('p251',) ('Indian',) ('Scottish',)\n",
      "('data/Scottish/p284/p284_199_mic1.flac',) ('data/Scottish/p284/p284_337_mic1.flac',) ('data/Scottish/p249/p249_255_mic2.flac',) ('data/Irish/p283/p283_215_mic2.flac',) ('p284',) ('p249',) ('p284',) ('Scottish',) ('Irish',)\n",
      "('data/Irish/p295/p295_300_mic2.flac',) ('data/Irish/p295/p295_177_mic1.flac',) ('data/Irish/p298/p298_344_mic2.flac',) ('data/Scottish/p284/p284_285_mic1.flac',) ('p295',) ('p298',) ('p295',) ('Irish',) ('Scottish',)\n",
      "('data/Scottish/p284/p284_355_mic1.flac',) ('data/Scottish/p284/p284_024_mic1.flac',) ('data/Scottish/p237/p237_014_mic2.flac',) ('data/Indian/p248/p248_149_mic2.flac',) ('p284',) ('p237',) ('p284',) ('Scottish',) ('Indian',)\n",
      "('data/Indian/p248/p248_229_mic1.flac',) ('data/Indian/p248/p248_123_mic2.flac',) ('data/Indian/p251/p251_073_mic2.flac',) ('data/Irish/p295/p295_367_mic2.flac',) ('p248',) ('p251',) ('p248',) ('Indian',) ('Irish',)\n",
      "('data/Irish/p283/p283_185_mic2.flac',) ('data/Irish/p283/p283_408_mic1.flac',) ('data/Irish/p295/p295_319_mic1.flac',) ('data/Indian/p376/p376_181_mic1.flac',) ('p283',) ('p295',) ('p283',) ('Irish',) ('Indian',)\n",
      "('data/Scottish/p284/p284_187_mic1.flac',) ('data/Scottish/p284/p284_258_mic1.flac',) ('data/Scottish/p237/p237_075_mic2.flac',) ('data/Irish/p295/p295_336_mic1.flac',) ('p284',) ('p237',) ('p284',) ('Scottish',) ('Irish',)\n",
      "('data/Indian/p376/p376_069_mic2.flac',) ('data/Indian/p376/p376_416_mic1.flac',) ('data/Indian/p248/p248_097_mic1.flac',) ('data/American/p301/p301_359_mic1.flac',) ('p376',) ('p248',) ('p376',) ('Indian',) ('American',)\n",
      "('data/Scottish/p237/p237_045_mic2.flac',) ('data/Scottish/p237/p237_167_mic1.flac',) ('data/Scottish/p284/p284_406_mic1.flac',) ('data/American/p301/p301_184_mic2.flac',) ('p237',) ('p284',) ('p237',) ('Scottish',) ('American',)\n",
      "('data/Indian/p248/p248_037_mic2.flac',) ('data/Indian/p248/p248_222_mic1.flac',) ('data/Indian/p251/p251_107_mic2.flac',) ('data/Irish/p295/p295_200_mic1.flac',) ('p248',) ('p251',) ('p248',) ('Indian',) ('Irish',)\n",
      "('data/American/p299/p299_252_mic1.flac',) ('data/American/p299/p299_182_mic2.flac',) ('data/American/p300/p300_141_mic2.flac',) ('data/Indian/p248/p248_193_mic1.flac',) ('p299',) ('p300',) ('p299',) ('American',) ('Indian',)\n",
      "('data/Scottish/p249/p249_067_mic1.flac',) ('data/Scottish/p249/p249_131_mic1.flac',) ('data/Scottish/p234/p234_197_mic2.flac',) ('data/Irish/p295/p295_067_mic2.flac',) ('p249',) ('p234',) ('p249',) ('Scottish',) ('Irish',)\n",
      "('data/American/p300/p300_289_mic1.flac',) ('data/American/p300/p300_152_mic1.flac',) ('data/American/p299/p299_277_mic1.flac',) ('data/Indian/p248/p248_304_mic2.flac',) ('p300',) ('p299',) ('p300',) ('American',) ('Indian',)\n",
      "('data/American/p301/p301_315_mic1.flac',) ('data/American/p301/p301_156_mic2.flac',) ('data/American/p300/p300_130_mic2.flac',) ('data/Irish/p295/p295_187_mic2.flac',) ('p301',) ('p300',) ('p301',) ('American',) ('Irish',)\n",
      "('data/Irish/p283/p283_230_mic2.flac',) ('data/Irish/p283/p283_431_mic2.flac',) ('data/Irish/p245/p245_121_mic2.flac',) ('data/American/p300/p300_275_mic2.flac',) ('p283',) ('p245',) ('p283',) ('Irish',) ('American',)\n",
      "('data/Scottish/p249/p249_275_mic2.flac',) ('data/Scottish/p249/p249_046_mic1.flac',) ('data/Scottish/p237/p237_327_mic2.flac',) ('data/American/p300/p300_337_mic1.flac',) ('p249',) ('p237',) ('p249',) ('Scottish',) ('American',)\n",
      "('data/Irish/p295/p295_325_mic1.flac',) ('data/Irish/p295/p295_279_mic2.flac',) ('data/Irish/p298/p298_005_mic2.flac',) ('data/Scottish/p249/p249_321_mic1.flac',) ('p295',) ('p298',) ('p295',) ('Irish',) ('Scottish',)\n",
      "('data/Scottish/p234/p234_059_mic1.flac',) ('data/Scottish/p234/p234_259_mic2.flac',) ('data/Scottish/p249/p249_217_mic1.flac',) ('data/Indian/p376/p376_052_mic1.flac',) ('p234',) ('p249',) ('p234',) ('Scottish',) ('Indian',)\n",
      "('data/Scottish/p237/p237_252_mic1.flac',) ('data/Scottish/p237/p237_072_mic2.flac',) ('data/Scottish/p249/p249_083_mic1.flac',) ('data/Irish/p283/p283_165_mic1.flac',) ('p237',) ('p249',) ('p237',) ('Scottish',) ('Irish',)\n",
      "('data/Irish/p283/p283_269_mic2.flac',) ('data/Irish/p283/p283_412_mic2.flac',) ('data/Irish/p245/p245_133_mic1.flac',) ('data/Indian/p376/p376_146_mic2.flac',) ('p283',) ('p245',) ('p283',) ('Irish',) ('Indian',)\n",
      "('data/Scottish/p284/p284_051_mic1.flac',) ('data/Scottish/p284/p284_395_mic2.flac',) ('data/Scottish/p234/p234_077_mic1.flac',) ('data/Irish/p245/p245_274_mic2.flac',) ('p284',) ('p234',) ('p284',) ('Scottish',) ('Irish',)\n",
      "('data/Irish/p298/p298_076_mic2.flac',) ('data/Irish/p298/p298_251_mic2.flac',) ('data/Irish/p283/p283_025_mic1.flac',) ('data/Indian/p251/p251_014_mic1.flac',) ('p298',) ('p283',) ('p298',) ('Irish',) ('Indian',)\n",
      "('data/Scottish/p234/p234_181_mic1.flac',) ('data/Scottish/p234/p234_317_mic1.flac',) ('data/Scottish/p249/p249_300_mic1.flac',) ('data/Irish/p245/p245_330_mic2.flac',) ('p234',) ('p249',) ('p234',) ('Scottish',) ('Irish',)\n",
      "('data/Indian/p248/p248_164_mic2.flac',) ('data/Indian/p248/p248_277_mic1.flac',) ('data/Indian/p376/p376_073_mic1.flac',) ('data/Irish/p298/p298_393_mic2.flac',) ('p248',) ('p376',) ('p248',) ('Indian',) ('Irish',)\n",
      "('data/American/p301/p301_346_mic2.flac',) ('data/American/p301/p301_376_mic1.flac',) ('data/American/p300/p300_118_mic2.flac',) ('data/Indian/p376/p376_243_mic2.flac',) ('p301',) ('p300',) ('p301',) ('American',) ('Indian',)\n",
      "('data/Scottish/p249/p249_082_mic1.flac',) ('data/Scottish/p249/p249_311_mic1.flac',) ('data/Scottish/p234/p234_266_mic1.flac',) ('data/Irish/p283/p283_077_mic2.flac',) ('p249',) ('p234',) ('p249',) ('Scottish',) ('Irish',)\n",
      "('data/Indian/p376/p376_351_mic2.flac',) ('data/Indian/p376/p376_260_mic2.flac',) ('data/Indian/p248/p248_341_mic1.flac',) ('data/American/p299/p299_177_mic1.flac',) ('p376',) ('p248',) ('p376',) ('Indian',) ('American',)\n",
      "('data/Irish/p295/p295_414_mic2.flac',) ('data/Irish/p295/p295_359_mic2.flac',) ('data/Irish/p283/p283_096_mic1.flac',) ('data/American/p300/p300_167_mic2.flac',) ('p295',) ('p283',) ('p295',) ('Irish',) ('American',)\n",
      "('data/American/p301/p301_234_mic2.flac',) ('data/American/p301/p301_245_mic2.flac',) ('data/American/p300/p300_252_mic1.flac',) ('data/Indian/p248/p248_206_mic2.flac',) ('p301',) ('p300',) ('p301',) ('American',) ('Indian',)\n",
      "('data/Irish/p283/p283_025_mic2.flac',) ('data/Irish/p283/p283_194_mic1.flac',) ('data/Irish/p295/p295_048_mic1.flac',) ('data/American/p299/p299_262_mic2.flac',) ('p283',) ('p295',) ('p283',) ('Irish',) ('American',)\n",
      "('data/Indian/p251/p251_090_mic1.flac',) ('data/Indian/p251/p251_030_mic2.flac',) ('data/Indian/p248/p248_347_mic1.flac',) ('data/Scottish/p249/p249_125_mic2.flac',) ('p251',) ('p248',) ('p251',) ('Indian',) ('Scottish',)\n",
      "('data/American/p300/p300_258_mic2.flac',) ('data/American/p300/p300_158_mic1.flac',) ('data/American/p299/p299_117_mic2.flac',) ('data/Indian/p376/p376_020_mic1.flac',) ('p300',) ('p299',) ('p300',) ('American',) ('Indian',)\n",
      "('data/Indian/p251/p251_198_mic1.flac',) ('data/Indian/p251/p251_351_mic2.flac',) ('data/Indian/p248/p248_149_mic2.flac',) ('data/Irish/p245/p245_318_mic1.flac',) ('p251',) ('p248',) ('p251',) ('Indian',) ('Irish',)\n",
      "('data/Scottish/p284/p284_135_mic1.flac',) ('data/Scottish/p284/p284_153_mic2.flac',) ('data/Scottish/p249/p249_340_mic2.flac',) ('data/American/p299/p299_341_mic2.flac',) ('p284',) ('p249',) ('p284',) ('Scottish',) ('American',)\n",
      "('data/Indian/p376/p376_389_mic1.flac',) ('data/Indian/p376/p376_181_mic1.flac',) ('data/Indian/p251/p251_264_mic1.flac',) ('data/Irish/p298/p298_055_mic2.flac',) ('p376',) ('p251',) ('p376',) ('Indian',) ('Irish',)\n",
      "('data/Indian/p251/p251_352_mic1.flac',) ('data/Indian/p251/p251_151_mic1.flac',) ('data/Indian/p248/p248_182_mic1.flac',) ('data/Scottish/p284/p284_372_mic1.flac',) ('p251',) ('p248',) ('p251',) ('Indian',) ('Scottish',)\n",
      "('data/Indian/p248/p248_315_mic2.flac',) ('data/Indian/p248/p248_077_mic1.flac',) ('data/Indian/p376/p376_225_mic1.flac',) ('data/American/p299/p299_233_mic2.flac',) ('p248',) ('p376',) ('p248',) ('Indian',) ('American',)\n",
      "('data/Irish/p298/p298_226_mic1.flac',) ('data/Irish/p298/p298_309_mic1.flac',) ('data/Irish/p283/p283_030_mic2.flac',) ('data/Indian/p376/p376_288_mic1.flac',) ('p298',) ('p283',) ('p298',) ('Irish',) ('Indian',)\n",
      "('data/American/p300/p300_299_mic2.flac',) ('data/American/p300/p300_195_mic1.flac',) ('data/American/p299/p299_069_mic1.flac',) ('data/Indian/p251/p251_042_mic1.flac',) ('p300',) ('p299',) ('p300',) ('American',) ('Indian',)\n",
      "('data/Indian/p376/p376_078_mic1.flac',) ('data/Indian/p376/p376_285_mic2.flac',) ('data/Indian/p251/p251_265_mic2.flac',) ('data/Irish/p295/p295_202_mic2.flac',) ('p376',) ('p251',) ('p376',) ('Indian',) ('Irish',)\n",
      "('data/Scottish/p249/p249_155_mic2.flac',) ('data/Scottish/p249/p249_039_mic1.flac',) ('data/Scottish/p237/p237_065_mic1.flac',) ('data/Irish/p245/p245_238_mic2.flac',) ('p249',) ('p237',) ('p249',) ('Scottish',) ('Irish',)\n",
      "('data/Irish/p295/p295_227_mic2.flac',) ('data/Irish/p295/p295_094_mic2.flac',) ('data/Irish/p298/p298_283_mic1.flac',) ('data/American/p301/p301_096_mic1.flac',) ('p295',) ('p298',) ('p295',) ('Irish',) ('American',)\n",
      "('data/Scottish/p249/p249_166_mic1.flac',) ('data/Scottish/p249/p249_309_mic2.flac',) ('data/Scottish/p234/p234_030_mic2.flac',) ('data/Irish/p295/p295_404_mic2.flac',) ('p249',) ('p234',) ('p249',) ('Scottish',) ('Irish',)\n",
      "('data/American/p299/p299_156_mic2.flac',) ('data/American/p299/p299_259_mic1.flac',) ('data/American/p301/p301_225_mic2.flac',) ('data/Indian/p251/p251_180_mic2.flac',) ('p299',) ('p301',) ('p299',) ('American',) ('Indian',)\n",
      "('data/Indian/p251/p251_003_mic2.flac',) ('data/Indian/p251/p251_186_mic1.flac',) ('data/Indian/p248/p248_195_mic2.flac',) ('data/Irish/p245/p245_049_mic1.flac',) ('p251',) ('p248',) ('p251',) ('Indian',) ('Irish',)\n",
      "('data/Scottish/p237/p237_160_mic2.flac',) ('data/Scottish/p237/p237_214_mic2.flac',) ('data/Scottish/p234/p234_071_mic1.flac',) ('data/Irish/p298/p298_335_mic2.flac',) ('p237',) ('p234',) ('p237',) ('Scottish',) ('Irish',)\n",
      "('data/Scottish/p237/p237_297_mic2.flac',) ('data/Scottish/p237/p237_113_mic1.flac',) ('data/Scottish/p284/p284_158_mic2.flac',) ('data/Indian/p376/p376_160_mic2.flac',) ('p237',) ('p284',) ('p237',) ('Scottish',) ('Indian',)\n",
      "('data/American/p299/p299_331_mic1.flac',) ('data/American/p299/p299_308_mic2.flac',) ('data/American/p300/p300_324_mic2.flac',) ('data/Scottish/p234/p234_079_mic2.flac',) ('p299',) ('p300',) ('p299',) ('American',) ('Scottish',)\n",
      "('data/Indian/p376/p376_091_mic1.flac',) ('data/Indian/p376/p376_315_mic2.flac',) ('data/Indian/p251/p251_128_mic1.flac',) ('data/American/p300/p300_290_mic1.flac',) ('p376',) ('p251',) ('p376',) ('Indian',) ('American',)\n",
      "('data/American/p300/p300_219_mic2.flac',) ('data/American/p300/p300_386_mic1.flac',) ('data/American/p301/p301_381_mic1.flac',) ('data/Indian/p376/p376_114_mic2.flac',) ('p300',) ('p301',) ('p300',) ('American',) ('Indian',)\n",
      "('data/Indian/p376/p376_273_mic2.flac',) ('data/Indian/p376/p376_126_mic1.flac',) ('data/Indian/p248/p248_053_mic2.flac',) ('data/Irish/p283/p283_016_mic2.flac',) ('p376',) ('p248',) ('p376',) ('Indian',) ('Irish',)\n",
      "('data/Irish/p245/p245_175_mic2.flac',) ('data/Irish/p245/p245_246_mic2.flac',) ('data/Irish/p295/p295_322_mic2.flac',) ('data/Indian/p248/p248_307_mic1.flac',) ('p245',) ('p295',) ('p245',) ('Irish',) ('Indian',)\n",
      "('data/American/p301/p301_205_mic1.flac',) ('data/American/p301/p301_135_mic2.flac',) ('data/American/p300/p300_256_mic1.flac',) ('data/Indian/p251/p251_258_mic1.flac',) ('p301',) ('p300',) ('p301',) ('American',) ('Indian',)\n",
      "('data/Scottish/p284/p284_338_mic2.flac',) ('data/Scottish/p284/p284_018_mic1.flac',) ('data/Scottish/p234/p234_214_mic2.flac',) ('data/Irish/p298/p298_112_mic2.flac',) ('p284',) ('p234',) ('p284',) ('Scottish',) ('Irish',)\n",
      "('data/Irish/p245/p245_206_mic1.flac',) ('data/Irish/p245/p245_020_mic1.flac',) ('data/Irish/p298/p298_318_mic2.flac',) ('data/Indian/p248/p248_212_mic1.flac',) ('p245',) ('p298',) ('p245',) ('Irish',) ('Indian',)\n",
      "('data/Scottish/p234/p234_112_mic2.flac',) ('data/Scottish/p234/p234_156_mic2.flac',) ('data/Scottish/p237/p237_154_mic1.flac',) ('data/Indian/p376/p376_150_mic2.flac',) ('p234',) ('p237',) ('p234',) ('Scottish',) ('Indian',)\n",
      "('data/Irish/p295/p295_063_mic1.flac',) ('data/Irish/p295/p295_172_mic2.flac',) ('data/Irish/p283/p283_218_mic2.flac',) ('data/Indian/p376/p376_061_mic1.flac',) ('p295',) ('p283',) ('p295',) ('Irish',) ('Indian',)\n",
      "('data/American/p301/p301_051_mic2.flac',) ('data/American/p301/p301_152_mic1.flac',) ('data/American/p299/p299_370_mic1.flac',) ('data/Irish/p245/p245_088_mic2.flac',) ('p301',) ('p299',) ('p301',) ('American',) ('Irish',)\n",
      "('data/Scottish/p249/p249_052_mic1.flac',) ('data/Scottish/p249/p249_345_mic1.flac',) ('data/Scottish/p284/p284_261_mic2.flac',) ('data/American/p299/p299_340_mic1.flac',) ('p249',) ('p284',) ('p249',) ('Scottish',) ('American',)\n",
      "('data/Scottish/p237/p237_133_mic1.flac',) ('data/Scottish/p237/p237_072_mic2.flac',) ('data/Scottish/p234/p234_165_mic2.flac',) ('data/Indian/p376/p376_135_mic2.flac',) ('p237',) ('p234',) ('p237',) ('Scottish',) ('Indian',)\n",
      "('data/American/p301/p301_390_mic1.flac',) ('data/American/p301/p301_408_mic2.flac',) ('data/American/p300/p300_123_mic2.flac',) ('data/Scottish/p234/p234_247_mic1.flac',) ('p301',) ('p300',) ('p301',) ('American',) ('Scottish',)\n",
      "('data/American/p301/p301_215_mic1.flac',) ('data/American/p301/p301_304_mic1.flac',) ('data/American/p300/p300_042_mic1.flac',) ('data/Irish/p245/p245_165_mic2.flac',) ('p301',) ('p300',) ('p301',) ('American',) ('Irish',)\n",
      "('data/Indian/p248/p248_060_mic2.flac',) ('data/Indian/p248/p248_333_mic1.flac',) ('data/Indian/p376/p376_386_mic1.flac',) ('data/Irish/p298/p298_032_mic2.flac',) ('p248',) ('p376',) ('p248',) ('Indian',) ('Irish',)\n",
      "('data/Scottish/p249/p249_330_mic1.flac',) ('data/Scottish/p249/p249_123_mic2.flac',) ('data/Scottish/p237/p237_018_mic1.flac',) ('data/American/p300/p300_087_mic2.flac',) ('p249',) ('p237',) ('p249',) ('Scottish',) ('American',)\n",
      "('data/Scottish/p284/p284_295_mic2.flac',) ('data/Scottish/p284/p284_020_mic2.flac',) ('data/Scottish/p249/p249_341_mic1.flac',) ('data/American/p300/p300_347_mic1.flac',) ('p284',) ('p249',) ('p284',) ('Scottish',) ('American',)\n",
      "('data/Indian/p251/p251_317_mic1.flac',) ('data/Indian/p251/p251_098_mic2.flac',) ('data/Indian/p248/p248_256_mic2.flac',) ('data/American/p299/p299_238_mic2.flac',) ('p251',) ('p248',) ('p251',) ('Indian',) ('American',)\n",
      "('data/Scottish/p234/p234_171_mic1.flac',) ('data/Scottish/p234/p234_288_mic2.flac',) ('data/Scottish/p237/p237_144_mic1.flac',) ('data/Irish/p283/p283_124_mic1.flac',) ('p234',) ('p237',) ('p234',) ('Scottish',) ('Irish',)\n",
      "('data/American/p299/p299_078_mic2.flac',) ('data/American/p299/p299_360_mic2.flac',) ('data/American/p301/p301_306_mic2.flac',) ('data/Scottish/p234/p234_293_mic1.flac',) ('p299',) ('p301',) ('p299',) ('American',) ('Scottish',)\n",
      "('data/Indian/p376/p376_082_mic2.flac',) ('data/Indian/p376/p376_284_mic2.flac',) ('data/Indian/p251/p251_175_mic1.flac',) ('data/American/p299/p299_197_mic1.flac',) ('p376',) ('p251',) ('p376',) ('Indian',) ('American',)\n",
      "('data/Indian/p248/p248_095_mic2.flac',) ('data/Indian/p248/p248_282_mic1.flac',) ('data/Indian/p251/p251_073_mic1.flac',) ('data/Scottish/p249/p249_302_mic1.flac',) ('p248',) ('p251',) ('p248',) ('Indian',) ('Scottish',)\n",
      "('data/American/p300/p300_024_mic1.flac',) ('data/American/p300/p300_066_mic2.flac',) ('data/American/p299/p299_334_mic1.flac',) ('data/Irish/p283/p283_078_mic1.flac',) ('p300',) ('p299',) ('p300',) ('American',) ('Irish',)\n",
      "('data/Scottish/p284/p284_038_mic2.flac',) ('data/Scottish/p284/p284_366_mic2.flac',) ('data/Scottish/p234/p234_102_mic2.flac',) ('data/American/p301/p301_406_mic1.flac',) ('p284',) ('p234',) ('p284',) ('Scottish',) ('American',)\n",
      "('data/Indian/p251/p251_122_mic1.flac',) ('data/Indian/p251/p251_353_mic1.flac',) ('data/Indian/p376/p376_288_mic1.flac',) ('data/Irish/p283/p283_465_mic1.flac',) ('p251',) ('p376',) ('p251',) ('Indian',) ('Irish',)\n",
      "('data/Irish/p295/p295_148_mic1.flac',) ('data/Irish/p295/p295_220_mic2.flac',) ('data/Irish/p283/p283_340_mic1.flac',) ('data/American/p299/p299_011_mic1.flac',) ('p295',) ('p283',) ('p295',) ('Irish',) ('American',)\n",
      "('data/Scottish/p284/p284_062_mic2.flac',) ('data/Scottish/p284/p284_003_mic2.flac',) ('data/Scottish/p237/p237_244_mic1.flac',) ('data/American/p299/p299_281_mic2.flac',) ('p284',) ('p237',) ('p284',) ('Scottish',) ('American',)\n",
      "('data/Irish/p283/p283_408_mic2.flac',) ('data/Irish/p283/p283_028_mic1.flac',) ('data/Irish/p295/p295_399_mic2.flac',) ('data/Scottish/p284/p284_059_mic1.flac',) ('p283',) ('p295',) ('p283',) ('Irish',) ('Scottish',)\n",
      "('data/American/p300/p300_322_mic1.flac',) ('data/American/p300/p300_150_mic2.flac',) ('data/American/p299/p299_175_mic1.flac',) ('data/Scottish/p234/p234_190_mic1.flac',) ('p300',) ('p299',) ('p300',) ('American',) ('Scottish',)\n",
      "('data/Indian/p248/p248_247_mic2.flac',) ('data/Indian/p248/p248_061_mic2.flac',) ('data/Indian/p376/p376_420_mic2.flac',) ('data/Scottish/p234/p234_226_mic2.flac',) ('p248',) ('p376',) ('p248',) ('Indian',) ('Scottish',)\n",
      "('data/American/p301/p301_037_mic2.flac',) ('data/American/p301/p301_079_mic1.flac',) ('data/American/p300/p300_007_mic1.flac',) ('data/Indian/p248/p248_368_mic1.flac',) ('p301',) ('p300',) ('p301',) ('American',) ('Indian',)\n",
      "('data/Indian/p248/p248_359_mic1.flac',) ('data/Indian/p248/p248_089_mic1.flac',) ('data/Indian/p251/p251_065_mic2.flac',) ('data/Scottish/p237/p237_009_mic1.flac',) ('p248',) ('p251',) ('p248',) ('Indian',) ('Scottish',)\n",
      "('data/Scottish/p234/p234_288_mic2.flac',) ('data/Scottish/p234/p234_202_mic1.flac',) ('data/Scottish/p249/p249_096_mic1.flac',) ('data/Indian/p251/p251_115_mic2.flac',) ('p234',) ('p249',) ('p234',) ('Scottish',) ('Indian',)\n",
      "('data/Indian/p248/p248_154_mic1.flac',) ('data/Indian/p248/p248_131_mic1.flac',) ('data/Indian/p376/p376_386_mic2.flac',) ('data/Irish/p245/p245_124_mic2.flac',) ('p248',) ('p376',) ('p248',) ('Indian',) ('Irish',)\n",
      "('data/Irish/p245/p245_273_mic1.flac',) ('data/Irish/p245/p245_043_mic1.flac',) ('data/Irish/p283/p283_201_mic2.flac',) ('data/Scottish/p249/p249_082_mic1.flac',) ('p245',) ('p283',) ('p245',) ('Irish',) ('Scottish',)\n",
      "('data/Scottish/p249/p249_012_mic1.flac',) ('data/Scottish/p249/p249_051_mic1.flac',) ('data/Scottish/p284/p284_345_mic1.flac',) ('data/Indian/p248/p248_283_mic1.flac',) ('p249',) ('p284',) ('p249',) ('Scottish',) ('Indian',)\n",
      "('data/American/p300/p300_398_mic2.flac',) ('data/American/p300/p300_390_mic2.flac',) ('data/American/p299/p299_377_mic1.flac',) ('data/Irish/p283/p283_266_mic2.flac',) ('p300',) ('p299',) ('p300',) ('American',) ('Irish',)\n",
      "('data/Scottish/p249/p249_278_mic2.flac',) ('data/Scottish/p249/p249_117_mic2.flac',) ('data/Scottish/p237/p237_055_mic1.flac',) ('data/American/p299/p299_124_mic2.flac',) ('p249',) ('p237',) ('p249',) ('Scottish',) ('American',)\n",
      "('data/Indian/p376/p376_365_mic1.flac',) ('data/Indian/p376/p376_091_mic2.flac',) ('data/Indian/p248/p248_062_mic2.flac',) ('data/American/p300/p300_162_mic2.flac',) ('p376',) ('p248',) ('p376',) ('Indian',) ('American',)\n",
      "('data/American/p299/p299_342_mic1.flac',) ('data/American/p299/p299_117_mic1.flac',) ('data/American/p300/p300_186_mic1.flac',) ('data/Irish/p298/p298_206_mic2.flac',) ('p299',) ('p300',) ('p299',) ('American',) ('Irish',)\n",
      "('data/Irish/p298/p298_079_mic2.flac',) ('data/Irish/p298/p298_133_mic1.flac',) ('data/Irish/p295/p295_278_mic1.flac',) ('data/American/p300/p300_274_mic2.flac',) ('p298',) ('p295',) ('p298',) ('Irish',) ('American',)\n",
      "('data/American/p300/p300_073_mic1.flac',) ('data/American/p300/p300_053_mic2.flac',) ('data/American/p301/p301_274_mic1.flac',) ('data/Indian/p251/p251_221_mic1.flac',) ('p300',) ('p301',) ('p300',) ('American',) ('Indian',)\n",
      "('data/American/p300/p300_190_mic1.flac',) ('data/American/p300/p300_128_mic1.flac',) ('data/American/p299/p299_117_mic1.flac',) ('data/Irish/p245/p245_293_mic1.flac',) ('p300',) ('p299',) ('p300',) ('American',) ('Irish',)\n",
      "('data/Indian/p251/p251_155_mic1.flac',) ('data/Indian/p251/p251_319_mic2.flac',) ('data/Indian/p248/p248_291_mic1.flac',) ('data/Irish/p295/p295_254_mic2.flac',) ('p251',) ('p248',) ('p251',) ('Indian',) ('Irish',)\n",
      "('data/American/p299/p299_363_mic2.flac',) ('data/American/p299/p299_134_mic2.flac',) ('data/American/p301/p301_134_mic2.flac',) ('data/Irish/p245/p245_119_mic2.flac',) ('p299',) ('p301',) ('p299',) ('American',) ('Irish',)\n",
      "('data/Indian/p251/p251_352_mic1.flac',) ('data/Indian/p251/p251_176_mic2.flac',) ('data/Indian/p248/p248_256_mic1.flac',) ('data/Irish/p245/p245_243_mic1.flac',) ('p251',) ('p248',) ('p251',) ('Indian',) ('Irish',)\n",
      "('data/Indian/p376/p376_102_mic1.flac',) ('data/Indian/p376/p376_372_mic2.flac',) ('data/Indian/p251/p251_090_mic1.flac',) ('data/American/p301/p301_264_mic1.flac',) ('p376',) ('p251',) ('p376',) ('Indian',) ('American',)\n",
      "('data/Irish/p245/p245_270_mic1.flac',) ('data/Irish/p245/p245_246_mic2.flac',) ('data/Irish/p295/p295_237_mic2.flac',) ('data/American/p299/p299_359_mic2.flac',) ('p245',) ('p295',) ('p245',) ('Irish',) ('American',)\n",
      "('data/Scottish/p284/p284_216_mic2.flac',) ('data/Scottish/p284/p284_180_mic1.flac',) ('data/Scottish/p237/p237_267_mic2.flac',) ('data/Irish/p295/p295_283_mic2.flac',) ('p284',) ('p237',) ('p284',) ('Scottish',) ('Irish',)\n",
      "('data/Irish/p283/p283_188_mic1.flac',) ('data/Irish/p283/p283_306_mic1.flac',) ('data/Irish/p245/p245_214_mic1.flac',) ('data/Scottish/p249/p249_251_mic2.flac',) ('p283',) ('p245',) ('p283',) ('Irish',) ('Scottish',)\n"
     ]
    },
    {
     "name": "stdout",
     "output_type": "stream",
     "text": [
      "('data/Indian/p248/p248_308_mic1.flac',) ('data/Indian/p248/p248_282_mic2.flac',) ('data/Indian/p251/p251_044_mic1.flac',) ('data/Irish/p295/p295_186_mic1.flac',) ('p248',) ('p251',) ('p248',) ('Indian',) ('Irish',)\n",
      "('data/American/p299/p299_104_mic2.flac',) ('data/American/p299/p299_350_mic1.flac',) ('data/American/p300/p300_202_mic2.flac',) ('data/Indian/p251/p251_038_mic2.flac',) ('p299',) ('p300',) ('p299',) ('American',) ('Indian',)\n",
      "('data/American/p301/p301_177_mic2.flac',) ('data/American/p301/p301_087_mic1.flac',) ('data/American/p300/p300_369_mic1.flac',) ('data/Irish/p283/p283_343_mic2.flac',) ('p301',) ('p300',) ('p301',) ('American',) ('Irish',)\n",
      "('data/Irish/p298/p298_026_mic1.flac',) ('data/Irish/p298/p298_258_mic2.flac',) ('data/Irish/p295/p295_192_mic2.flac',) ('data/American/p301/p301_241_mic2.flac',) ('p298',) ('p295',) ('p298',) ('Irish',) ('American',)\n",
      "('data/American/p301/p301_111_mic1.flac',) ('data/American/p301/p301_076_mic2.flac',) ('data/American/p300/p300_098_mic1.flac',) ('data/Irish/p283/p283_219_mic2.flac',) ('p301',) ('p300',) ('p301',) ('American',) ('Irish',)\n",
      "('data/American/p301/p301_115_mic2.flac',) ('data/American/p301/p301_008_mic2.flac',) ('data/American/p299/p299_182_mic2.flac',) ('data/Irish/p245/p245_221_mic1.flac',) ('p301',) ('p299',) ('p301',) ('American',) ('Irish',)\n",
      "('data/Indian/p376/p376_158_mic2.flac',) ('data/Indian/p376/p376_166_mic1.flac',) ('data/Indian/p251/p251_140_mic1.flac',) ('data/Irish/p283/p283_236_mic1.flac',) ('p376',) ('p251',) ('p376',) ('Indian',) ('Irish',)\n",
      "('data/Irish/p245/p245_330_mic1.flac',) ('data/Irish/p245/p245_208_mic2.flac',) ('data/Irish/p295/p295_019_mic1.flac',) ('data/Scottish/p234/p234_159_mic2.flac',) ('p245',) ('p295',) ('p245',) ('Irish',) ('Scottish',)\n",
      "('data/Irish/p295/p295_356_mic1.flac',) ('data/Irish/p295/p295_243_mic2.flac',) ('data/Irish/p283/p283_197_mic1.flac',) ('data/Indian/p251/p251_126_mic2.flac',) ('p295',) ('p283',) ('p295',) ('Irish',) ('Indian',)\n",
      "('data/American/p300/p300_107_mic2.flac',) ('data/American/p300/p300_028_mic1.flac',) ('data/American/p301/p301_178_mic1.flac',) ('data/Irish/p298/p298_196_mic2.flac',) ('p300',) ('p301',) ('p300',) ('American',) ('Irish',)\n",
      "('data/American/p299/p299_387_mic2.flac',) ('data/American/p299/p299_016_mic1.flac',) ('data/American/p300/p300_235_mic2.flac',) ('data/Scottish/p234/p234_318_mic2.flac',) ('p299',) ('p300',) ('p299',) ('American',) ('Scottish',)\n",
      "('data/American/p300/p300_008_mic1.flac',) ('data/American/p300/p300_363_mic2.flac',) ('data/American/p301/p301_333_mic1.flac',) ('data/Irish/p295/p295_327_mic1.flac',) ('p300',) ('p301',) ('p300',) ('American',) ('Irish',)\n",
      "('data/Scottish/p237/p237_338_mic2.flac',) ('data/Scottish/p237/p237_130_mic2.flac',) ('data/Scottish/p249/p249_149_mic1.flac',) ('data/Indian/p251/p251_260_mic2.flac',) ('p237',) ('p249',) ('p237',) ('Scottish',) ('Indian',)\n",
      "('data/Irish/p295/p295_020_mic2.flac',) ('data/Irish/p295/p295_176_mic1.flac',) ('data/Irish/p298/p298_195_mic1.flac',) ('data/American/p301/p301_064_mic2.flac',) ('p295',) ('p298',) ('p295',) ('Irish',) ('American',)\n",
      "('data/Scottish/p249/p249_104_mic1.flac',) ('data/Scottish/p249/p249_205_mic2.flac',) ('data/Scottish/p284/p284_230_mic2.flac',) ('data/American/p299/p299_090_mic2.flac',) ('p249',) ('p284',) ('p249',) ('Scottish',) ('American',)\n",
      "('data/Indian/p376/p376_339_mic1.flac',) ('data/Indian/p376/p376_209_mic2.flac',) ('data/Indian/p248/p248_099_mic1.flac',) ('data/Irish/p295/p295_317_mic2.flac',) ('p376',) ('p248',) ('p376',) ('Indian',) ('Irish',)\n",
      "('data/Indian/p248/p248_040_mic1.flac',) ('data/Indian/p248/p248_150_mic1.flac',) ('data/Indian/p376/p376_231_mic2.flac',) ('data/Scottish/p234/p234_312_mic1.flac',) ('p248',) ('p376',) ('p248',) ('Indian',) ('Scottish',)\n",
      "('data/Irish/p245/p245_112_mic2.flac',) ('data/Irish/p245/p245_325_mic1.flac',) ('data/Irish/p295/p295_231_mic2.flac',) ('data/American/p299/p299_351_mic1.flac',) ('p245',) ('p295',) ('p245',) ('Irish',) ('American',)\n",
      "('data/Irish/p283/p283_386_mic2.flac',) ('data/Irish/p283/p283_422_mic1.flac',) ('data/Irish/p245/p245_310_mic2.flac',) ('data/American/p300/p300_243_mic2.flac',) ('p283',) ('p245',) ('p283',) ('Irish',) ('American',)\n",
      "('data/Irish/p245/p245_300_mic2.flac',) ('data/Irish/p245/p245_269_mic2.flac',) ('data/Irish/p283/p283_331_mic1.flac',) ('data/Indian/p248/p248_122_mic1.flac',) ('p245',) ('p283',) ('p245',) ('Irish',) ('Indian',)\n",
      "('data/American/p299/p299_236_mic1.flac',) ('data/American/p299/p299_345_mic1.flac',) ('data/American/p300/p300_042_mic1.flac',) ('data/Scottish/p237/p237_151_mic1.flac',) ('p299',) ('p300',) ('p299',) ('American',) ('Scottish',)\n",
      "('data/Indian/p376/p376_267_mic2.flac',) ('data/Indian/p376/p376_303_mic2.flac',) ('data/Indian/p251/p251_243_mic1.flac',) ('data/Irish/p283/p283_397_mic2.flac',) ('p376',) ('p251',) ('p376',) ('Indian',) ('Irish',)\n",
      "('data/Scottish/p249/p249_353_mic2.flac',) ('data/Scottish/p249/p249_027_mic2.flac',) ('data/Scottish/p234/p234_279_mic2.flac',) ('data/Irish/p295/p295_332_mic2.flac',) ('p249',) ('p234',) ('p249',) ('Scottish',) ('Irish',)\n",
      "('data/Indian/p251/p251_013_mic1.flac',) ('data/Indian/p251/p251_372_mic1.flac',) ('data/Indian/p376/p376_200_mic1.flac',) ('data/Irish/p283/p283_308_mic2.flac',) ('p251',) ('p376',) ('p251',) ('Indian',) ('Irish',)\n",
      "('data/Irish/p283/p283_312_mic1.flac',) ('data/Irish/p283/p283_230_mic2.flac',) ('data/Irish/p298/p298_057_mic2.flac',) ('data/American/p301/p301_073_mic2.flac',) ('p283',) ('p298',) ('p283',) ('Irish',) ('American',)\n",
      "('data/American/p301/p301_360_mic1.flac',) ('data/American/p301/p301_317_mic1.flac',) ('data/American/p300/p300_284_mic1.flac',) ('data/Scottish/p234/p234_188_mic1.flac',) ('p301',) ('p300',) ('p301',) ('American',) ('Scottish',)\n",
      "('data/American/p300/p300_380_mic2.flac',) ('data/American/p300/p300_346_mic2.flac',) ('data/American/p301/p301_105_mic1.flac',) ('data/Indian/p251/p251_243_mic2.flac',) ('p300',) ('p301',) ('p300',) ('American',) ('Indian',)\n",
      "('data/Indian/p248/p248_328_mic1.flac',) ('data/Indian/p248/p248_320_mic2.flac',) ('data/Indian/p251/p251_298_mic1.flac',) ('data/Scottish/p284/p284_374_mic2.flac',) ('p248',) ('p251',) ('p248',) ('Indian',) ('Scottish',)\n",
      "('data/Indian/p376/p376_408_mic2.flac',) ('data/Indian/p376/p376_314_mic2.flac',) ('data/Indian/p251/p251_063_mic2.flac',) ('data/Scottish/p284/p284_182_mic1.flac',) ('p376',) ('p251',) ('p376',) ('Indian',) ('Scottish',)\n",
      "('data/Irish/p295/p295_237_mic1.flac',) ('data/Irish/p295/p295_290_mic2.flac',) ('data/Irish/p283/p283_276_mic2.flac',) ('data/American/p301/p301_094_mic1.flac',) ('p295',) ('p283',) ('p295',) ('Irish',) ('American',)\n",
      "('data/Irish/p295/p295_333_mic2.flac',) ('data/Irish/p295/p295_313_mic2.flac',) ('data/Irish/p298/p298_276_mic1.flac',) ('data/American/p300/p300_292_mic1.flac',) ('p295',) ('p298',) ('p295',) ('Irish',) ('American',)\n",
      "('data/American/p300/p300_350_mic2.flac',) ('data/American/p300/p300_049_mic2.flac',) ('data/American/p299/p299_065_mic1.flac',) ('data/Scottish/p284/p284_094_mic1.flac',) ('p300',) ('p299',) ('p300',) ('American',) ('Scottish',)\n",
      "('data/American/p301/p301_120_mic1.flac',) ('data/American/p301/p301_365_mic1.flac',) ('data/American/p300/p300_010_mic2.flac',) ('data/Irish/p298/p298_339_mic2.flac',) ('p301',) ('p300',) ('p301',) ('American',) ('Irish',)\n",
      "('data/Scottish/p237/p237_070_mic1.flac',) ('data/Scottish/p237/p237_037_mic1.flac',) ('data/Scottish/p249/p249_319_mic1.flac',) ('data/Irish/p298/p298_191_mic2.flac',) ('p237',) ('p249',) ('p237',) ('Scottish',) ('Irish',)\n",
      "('data/Indian/p251/p251_010_mic2.flac',) ('data/Indian/p251/p251_120_mic2.flac',) ('data/Indian/p248/p248_141_mic1.flac',) ('data/Irish/p298/p298_075_mic2.flac',) ('p251',) ('p248',) ('p251',) ('Indian',) ('Irish',)\n",
      "('data/Irish/p245/p245_318_mic1.flac',) ('data/Irish/p245/p245_298_mic2.flac',) ('data/Irish/p298/p298_377_mic2.flac',) ('data/Scottish/p234/p234_281_mic1.flac',) ('p245',) ('p298',) ('p245',) ('Irish',) ('Scottish',)\n",
      "('data/Indian/p251/p251_029_mic1.flac',) ('data/Indian/p251/p251_139_mic2.flac',) ('data/Indian/p248/p248_139_mic1.flac',) ('data/Scottish/p249/p249_265_mic2.flac',) ('p251',) ('p248',) ('p251',) ('Indian',) ('Scottish',)\n",
      "('data/Irish/p283/p283_361_mic1.flac',) ('data/Irish/p283/p283_303_mic1.flac',) ('data/Irish/p298/p298_342_mic1.flac',) ('data/American/p301/p301_269_mic1.flac',) ('p283',) ('p298',) ('p283',) ('Irish',) ('American',)\n",
      "('data/American/p301/p301_306_mic2.flac',) ('data/American/p301/p301_032_mic2.flac',) ('data/American/p299/p299_055_mic2.flac',) ('data/Irish/p245/p245_187_mic1.flac',) ('p301',) ('p299',) ('p301',) ('American',) ('Irish',)\n",
      "('data/Irish/p245/p245_174_mic1.flac',) ('data/Irish/p245/p245_023_mic1.flac',) ('data/Irish/p298/p298_376_mic2.flac',) ('data/American/p300/p300_191_mic2.flac',) ('p245',) ('p298',) ('p245',) ('Irish',) ('American',)\n",
      "('data/Irish/p298/p298_251_mic2.flac',) ('data/Irish/p298/p298_265_mic2.flac',) ('data/Irish/p245/p245_180_mic2.flac',) ('data/American/p299/p299_168_mic2.flac',) ('p298',) ('p245',) ('p298',) ('Irish',) ('American',)\n",
      "('data/Indian/p251/p251_252_mic1.flac',) ('data/Indian/p251/p251_057_mic1.flac',) ('data/Indian/p376/p376_204_mic1.flac',) ('data/American/p299/p299_150_mic1.flac',) ('p251',) ('p376',) ('p251',) ('Indian',) ('American',)\n",
      "('data/Indian/p248/p248_077_mic1.flac',) ('data/Indian/p248/p248_145_mic1.flac',) ('data/Indian/p251/p251_289_mic1.flac',) ('data/Scottish/p234/p234_287_mic1.flac',) ('p248',) ('p251',) ('p248',) ('Indian',) ('Scottish',)\n",
      "('data/American/p301/p301_029_mic1.flac',) ('data/American/p301/p301_241_mic1.flac',) ('data/American/p299/p299_347_mic1.flac',) ('data/Scottish/p284/p284_107_mic1.flac',) ('p301',) ('p299',) ('p301',) ('American',) ('Scottish',)\n",
      "('data/Scottish/p234/p234_306_mic2.flac',) ('data/Scottish/p234/p234_307_mic2.flac',) ('data/Scottish/p284/p284_111_mic2.flac',) ('data/Irish/p298/p298_056_mic2.flac',) ('p234',) ('p284',) ('p234',) ('Scottish',) ('Irish',)\n",
      "('data/Irish/p295/p295_193_mic2.flac',) ('data/Irish/p295/p295_179_mic1.flac',) ('data/Irish/p245/p245_009_mic2.flac',) ('data/Indian/p251/p251_293_mic1.flac',) ('p295',) ('p245',) ('p295',) ('Irish',) ('Indian',)\n",
      "('data/Irish/p295/p295_016_mic1.flac',) ('data/Irish/p295/p295_166_mic2.flac',) ('data/Irish/p298/p298_076_mic1.flac',) ('data/American/p299/p299_168_mic2.flac',) ('p295',) ('p298',) ('p295',) ('Irish',) ('American',)\n",
      "('data/American/p299/p299_006_mic2.flac',) ('data/American/p299/p299_202_mic1.flac',) ('data/American/p300/p300_069_mic2.flac',) ('data/Scottish/p237/p237_008_mic1.flac',) ('p299',) ('p300',) ('p299',) ('American',) ('Scottish',)\n",
      "('data/Irish/p283/p283_182_mic2.flac',) ('data/Irish/p283/p283_006_mic2.flac',) ('data/Irish/p295/p295_170_mic1.flac',) ('data/Scottish/p234/p234_190_mic1.flac',) ('p283',) ('p295',) ('p283',) ('Irish',) ('Scottish',)\n",
      "('data/Indian/p248/p248_185_mic2.flac',) ('data/Indian/p248/p248_357_mic1.flac',) ('data/Indian/p376/p376_356_mic2.flac',) ('data/Irish/p245/p245_050_mic1.flac',) ('p248',) ('p376',) ('p248',) ('Indian',) ('Irish',)\n",
      "('data/Scottish/p249/p249_011_mic2.flac',) ('data/Scottish/p249/p249_272_mic1.flac',) ('data/Scottish/p237/p237_265_mic2.flac',) ('data/American/p300/p300_143_mic2.flac',) ('p249',) ('p237',) ('p249',) ('Scottish',) ('American',)\n",
      "('data/Indian/p251/p251_360_mic1.flac',) ('data/Indian/p251/p251_065_mic2.flac',) ('data/Indian/p376/p376_179_mic2.flac',) ('data/Irish/p283/p283_171_mic1.flac',) ('p251',) ('p376',) ('p251',) ('Indian',) ('Irish',)\n",
      "('data/American/p299/p299_262_mic2.flac',) ('data/American/p299/p299_061_mic2.flac',) ('data/American/p300/p300_058_mic2.flac',) ('data/Irish/p283/p283_224_mic1.flac',) ('p299',) ('p300',) ('p299',) ('American',) ('Irish',)\n",
      "('data/Scottish/p284/p284_152_mic2.flac',) ('data/Scottish/p284/p284_081_mic2.flac',) ('data/Scottish/p234/p234_264_mic2.flac',) ('data/Irish/p295/p295_317_mic2.flac',) ('p284',) ('p234',) ('p284',) ('Scottish',) ('Irish',)\n",
      "('data/Irish/p295/p295_396_mic2.flac',) ('data/Irish/p295/p295_364_mic2.flac',) ('data/Irish/p245/p245_334_mic2.flac',) ('data/Scottish/p234/p234_355_mic1.flac',) ('p295',) ('p245',) ('p295',) ('Irish',) ('Scottish',)\n",
      "('data/Irish/p283/p283_438_mic1.flac',) ('data/Irish/p283/p283_090_mic2.flac',) ('data/Irish/p245/p245_108_mic1.flac',) ('data/Indian/p248/p248_103_mic2.flac',) ('p283',) ('p245',) ('p283',) ('Irish',) ('Indian',)\n",
      "('data/Scottish/p234/p234_088_mic2.flac',) ('data/Scottish/p234/p234_255_mic2.flac',) ('data/Scottish/p237/p237_234_mic1.flac',) ('data/Indian/p251/p251_137_mic2.flac',) ('p234',) ('p237',) ('p234',) ('Scottish',) ('Indian',)\n",
      "('data/Scottish/p237/p237_172_mic2.flac',) ('data/Scottish/p237/p237_284_mic2.flac',) ('data/Scottish/p284/p284_095_mic1.flac',) ('data/Indian/p248/p248_052_mic1.flac',) ('p237',) ('p284',) ('p237',) ('Scottish',) ('Indian',)\n",
      "('data/Irish/p245/p245_265_mic2.flac',) ('data/Irish/p245/p245_156_mic1.flac',) ('data/Irish/p295/p295_240_mic2.flac',) ('data/American/p301/p301_342_mic2.flac',) ('p245',) ('p295',) ('p245',) ('Irish',) ('American',)\n",
      "('data/American/p300/p300_111_mic1.flac',) ('data/American/p300/p300_368_mic2.flac',) ('data/American/p301/p301_079_mic1.flac',) ('data/Scottish/p249/p249_319_mic1.flac',) ('p300',) ('p301',) ('p300',) ('American',) ('Scottish',)\n",
      "('data/Scottish/p234/p234_172_mic1.flac',) ('data/Scottish/p234/p234_083_mic2.flac',) ('data/Scottish/p249/p249_205_mic1.flac',) ('data/American/p299/p299_249_mic2.flac',) ('p234',) ('p249',) ('p234',) ('Scottish',) ('American',)\n",
      "('data/Irish/p283/p283_401_mic1.flac',) ('data/Irish/p283/p283_380_mic1.flac',) ('data/Irish/p298/p298_078_mic1.flac',) ('data/American/p300/p300_049_mic1.flac',) ('p283',) ('p298',) ('p283',) ('Irish',) ('American',)\n",
      "('data/American/p299/p299_400_mic2.flac',) ('data/American/p299/p299_283_mic2.flac',) ('data/American/p301/p301_121_mic1.flac',) ('data/Irish/p245/p245_051_mic2.flac',) ('p299',) ('p301',) ('p299',) ('American',) ('Irish',)\n",
      "('data/Scottish/p237/p237_294_mic1.flac',) ('data/Scottish/p237/p237_179_mic1.flac',) ('data/Scottish/p284/p284_183_mic1.flac',) ('data/Irish/p298/p298_005_mic2.flac',) ('p237',) ('p284',) ('p237',) ('Scottish',) ('Irish',)\n",
      "('data/American/p299/p299_331_mic1.flac',) ('data/American/p299/p299_189_mic2.flac',) ('data/American/p300/p300_322_mic1.flac',) ('data/Irish/p245/p245_036_mic1.flac',) ('p299',) ('p300',) ('p299',) ('American',) ('Irish',)\n",
      "('data/American/p299/p299_398_mic1.flac',) ('data/American/p299/p299_246_mic1.flac',) ('data/American/p301/p301_347_mic1.flac',) ('data/Indian/p248/p248_215_mic1.flac',) ('p299',) ('p301',) ('p299',) ('American',) ('Indian',)\n",
      "('data/Scottish/p284/p284_283_mic2.flac',) ('data/Scottish/p284/p284_070_mic2.flac',) ('data/Scottish/p237/p237_023_mic2.flac',) ('data/Irish/p283/p283_329_mic1.flac',) ('p284',) ('p237',) ('p284',) ('Scottish',) ('Irish',)\n",
      "('data/Irish/p295/p295_228_mic1.flac',) ('data/Irish/p295/p295_138_mic2.flac',) ('data/Irish/p298/p298_214_mic2.flac',) ('data/Scottish/p237/p237_287_mic1.flac',) ('p295',) ('p298',) ('p295',) ('Irish',) ('Scottish',)\n",
      "('data/American/p300/p300_183_mic2.flac',) ('data/American/p300/p300_095_mic1.flac',) ('data/American/p301/p301_197_mic1.flac',) ('data/Scottish/p234/p234_105_mic2.flac',) ('p300',) ('p301',) ('p300',) ('American',) ('Scottish',)\n",
      "('data/Scottish/p234/p234_304_mic1.flac',) ('data/Scottish/p234/p234_124_mic1.flac',) ('data/Scottish/p237/p237_228_mic1.flac',) ('data/Irish/p245/p245_253_mic2.flac',) ('p234',) ('p237',) ('p234',) ('Scottish',) ('Irish',)\n",
      "('data/Scottish/p284/p284_296_mic2.flac',) ('data/Scottish/p284/p284_031_mic1.flac',) ('data/Scottish/p237/p237_338_mic2.flac',) ('data/Irish/p283/p283_191_mic2.flac',) ('p284',) ('p237',) ('p284',) ('Scottish',) ('Irish',)\n",
      "('data/Irish/p295/p295_092_mic1.flac',) ('data/Irish/p295/p295_355_mic1.flac',) ('data/Irish/p245/p245_358_mic2.flac',) ('data/Indian/p376/p376_399_mic2.flac',) ('p295',) ('p245',) ('p295',) ('Irish',) ('Indian',)\n",
      "('data/Indian/p251/p251_373_mic2.flac',) ('data/Indian/p251/p251_065_mic1.flac',) ('data/Indian/p376/p376_285_mic1.flac',) ('data/Irish/p295/p295_385_mic1.flac',) ('p251',) ('p376',) ('p251',) ('Indian',) ('Irish',)\n",
      "('data/Scottish/p249/p249_035_mic1.flac',) ('data/Scottish/p249/p249_022_mic1.flac',) ('data/Scottish/p234/p234_275_mic2.flac',) ('data/Irish/p298/p298_069_mic1.flac',) ('p249',) ('p234',) ('p249',) ('Scottish',) ('Irish',)\n",
      "('data/Irish/p295/p295_216_mic2.flac',) ('data/Irish/p295/p295_050_mic1.flac',) ('data/Irish/p283/p283_309_mic1.flac',) ('data/Indian/p376/p376_115_mic1.flac',) ('p295',) ('p283',) ('p295',) ('Irish',) ('Indian',)\n",
      "('data/Scottish/p284/p284_415_mic1.flac',) ('data/Scottish/p284/p284_029_mic2.flac',) ('data/Scottish/p249/p249_119_mic2.flac',) ('data/American/p300/p300_024_mic1.flac',) ('p284',) ('p249',) ('p284',) ('Scottish',) ('American',)\n",
      "('data/Irish/p295/p295_100_mic1.flac',) ('data/Irish/p295/p295_034_mic2.flac',) ('data/Irish/p298/p298_310_mic2.flac',) ('data/Scottish/p249/p249_081_mic1.flac',) ('p295',) ('p298',) ('p295',) ('Irish',) ('Scottish',)\n",
      "('data/Irish/p283/p283_259_mic2.flac',) ('data/Irish/p283/p283_312_mic1.flac',) ('data/Irish/p295/p295_114_mic2.flac',) ('data/Indian/p376/p376_047_mic1.flac',) ('p283',) ('p295',) ('p283',) ('Irish',) ('Indian',)\n",
      "('data/Irish/p245/p245_025_mic1.flac',) ('data/Irish/p245/p245_306_mic2.flac',) ('data/Irish/p295/p295_196_mic2.flac',) ('data/American/p299/p299_079_mic1.flac',) ('p245',) ('p295',) ('p245',) ('Irish',) ('American',)\n",
      "('data/Indian/p248/p248_051_mic2.flac',) ('data/Indian/p248/p248_318_mic1.flac',) ('data/Indian/p251/p251_126_mic1.flac',) ('data/Scottish/p249/p249_274_mic1.flac',) ('p248',) ('p251',) ('p248',) ('Indian',) ('Scottish',)\n",
      "('data/Irish/p245/p245_283_mic2.flac',) ('data/Irish/p245/p245_048_mic1.flac',) ('data/Irish/p295/p295_115_mic2.flac',) ('data/Indian/p251/p251_125_mic1.flac',) ('p245',) ('p295',) ('p245',) ('Irish',) ('Indian',)\n",
      "('data/American/p299/p299_088_mic1.flac',) ('data/American/p299/p299_333_mic2.flac',) ('data/American/p300/p300_298_mic2.flac',) ('data/Irish/p295/p295_121_mic1.flac',) ('p299',) ('p300',) ('p299',) ('American',) ('Irish',)\n",
      "('data/Irish/p245/p245_158_mic1.flac',) ('data/Irish/p245/p245_077_mic2.flac',) ('data/Irish/p298/p298_336_mic1.flac',) ('data/Indian/p376/p376_116_mic2.flac',) ('p245',) ('p298',) ('p245',) ('Irish',) ('Indian',)\n",
      "('data/Irish/p295/p295_115_mic1.flac',) ('data/Irish/p295/p295_329_mic2.flac',) ('data/Irish/p283/p283_222_mic1.flac',) ('data/Scottish/p237/p237_187_mic2.flac',) ('p295',) ('p283',) ('p295',) ('Irish',) ('Scottish',)\n",
      "('data/Irish/p245/p245_189_mic1.flac',) ('data/Irish/p245/p245_307_mic1.flac',) ('data/Irish/p283/p283_402_mic1.flac',) ('data/Indian/p376/p376_249_mic2.flac',) ('p245',) ('p283',) ('p245',) ('Irish',) ('Indian',)\n",
      "('data/American/p301/p301_371_mic1.flac',) ('data/American/p301/p301_100_mic2.flac',) ('data/American/p299/p299_179_mic1.flac',) ('data/Scottish/p237/p237_276_mic1.flac',) ('p301',) ('p299',) ('p301',) ('American',) ('Scottish',)\n",
      "('data/Indian/p251/p251_024_mic1.flac',) ('data/Indian/p251/p251_283_mic2.flac',) ('data/Indian/p248/p248_041_mic1.flac',) ('data/Scottish/p234/p234_336_mic2.flac',) ('p251',) ('p248',) ('p251',) ('Indian',) ('Scottish',)\n",
      "('data/Irish/p283/p283_411_mic1.flac',) ('data/Irish/p283/p283_187_mic2.flac',) ('data/Irish/p298/p298_126_mic1.flac',) ('data/Scottish/p237/p237_046_mic2.flac',) ('p283',) ('p298',) ('p283',) ('Irish',) ('Scottish',)\n",
      "('data/Irish/p298/p298_053_mic1.flac',) ('data/Irish/p298/p298_117_mic1.flac',) ('data/Irish/p283/p283_127_mic2.flac',) ('data/American/p299/p299_026_mic2.flac',) ('p298',) ('p283',) ('p298',) ('Irish',) ('American',)\n",
      "('data/Scottish/p234/p234_193_mic1.flac',) ('data/Scottish/p234/p234_013_mic1.flac',) ('data/Scottish/p284/p284_323_mic2.flac',) ('data/Irish/p245/p245_346_mic2.flac',) ('p234',) ('p284',) ('p234',) ('Scottish',) ('Irish',)\n",
      "('data/Irish/p295/p295_399_mic1.flac',) ('data/Irish/p295/p295_368_mic2.flac',) ('data/Irish/p245/p245_108_mic1.flac',) ('data/Scottish/p284/p284_130_mic1.flac',) ('p295',) ('p245',) ('p295',) ('Irish',) ('Scottish',)\n",
      "('data/Irish/p283/p283_085_mic1.flac',) ('data/Irish/p283/p283_061_mic1.flac',) ('data/Irish/p295/p295_343_mic1.flac',) ('data/American/p301/p301_297_mic2.flac',) ('p283',) ('p295',) ('p283',) ('Irish',) ('American',)\n",
      "('data/Indian/p248/p248_055_mic1.flac',) ('data/Indian/p248/p248_353_mic1.flac',) ('data/Indian/p376/p376_330_mic2.flac',) ('data/Irish/p298/p298_379_mic1.flac',) ('p248',) ('p376',) ('p248',) ('Indian',) ('Irish',)\n",
      "('data/Scottish/p249/p249_029_mic2.flac',) ('data/Scottish/p249/p249_200_mic1.flac',) ('data/Scottish/p234/p234_326_mic2.flac',) ('data/American/p300/p300_099_mic2.flac',) ('p249',) ('p234',) ('p249',) ('Scottish',) ('American',)\n",
      "('data/Scottish/p234/p234_177_mic2.flac',) ('data/Scottish/p234/p234_335_mic2.flac',) ('data/Scottish/p237/p237_320_mic2.flac',) ('data/American/p300/p300_031_mic2.flac',) ('p234',) ('p237',) ('p234',) ('Scottish',) ('American',)\n",
      "('data/Indian/p376/p376_298_mic1.flac',) ('data/Indian/p376/p376_045_mic1.flac',) ('data/Indian/p248/p248_148_mic1.flac',) ('data/Scottish/p237/p237_175_mic2.flac',) ('p376',) ('p248',) ('p376',) ('Indian',) ('Scottish',)\n",
      "('data/Indian/p376/p376_310_mic1.flac',) ('data/Indian/p376/p376_306_mic1.flac',) ('data/Indian/p251/p251_116_mic2.flac',) ('data/Irish/p283/p283_102_mic1.flac',) ('p376',) ('p251',) ('p376',) ('Indian',) ('Irish',)\n",
      "('data/Irish/p295/p295_217_mic2.flac',) ('data/Irish/p295/p295_176_mic1.flac',) ('data/Irish/p245/p245_266_mic2.flac',) ('data/Indian/p376/p376_191_mic2.flac',) ('p295',) ('p245',) ('p295',) ('Irish',) ('Indian',)\n",
      "('data/American/p300/p300_257_mic2.flac',) ('data/American/p300/p300_029_mic2.flac',) ('data/American/p299/p299_206_mic2.flac',) ('data/Scottish/p237/p237_252_mic1.flac',) ('p300',) ('p299',) ('p300',) ('American',) ('Scottish',)\n",
      "('data/Irish/p298/p298_054_mic1.flac',) ('data/Irish/p298/p298_329_mic1.flac',) ('data/Irish/p283/p283_382_mic2.flac',) ('data/Indian/p251/p251_148_mic2.flac',) ('p298',) ('p283',) ('p298',) ('Irish',) ('Indian',)\n",
      "('data/Scottish/p284/p284_112_mic1.flac',) ('data/Scottish/p284/p284_221_mic2.flac',) ('data/Scottish/p234/p234_016_mic2.flac',) ('data/American/p301/p301_369_mic1.flac',) ('p284',) ('p234',) ('p284',) ('Scottish',) ('American',)\n",
      "('data/American/p299/p299_247_mic2.flac',) ('data/American/p299/p299_116_mic2.flac',) ('data/American/p301/p301_021_mic1.flac',) ('data/Scottish/p237/p237_318_mic2.flac',) ('p299',) ('p301',) ('p299',) ('American',) ('Scottish',)\n",
      "('data/Irish/p245/p245_180_mic2.flac',) ('data/Irish/p245/p245_340_mic1.flac',) ('data/Irish/p283/p283_379_mic1.flac',) ('data/Scottish/p249/p249_272_mic1.flac',) ('p245',) ('p283',) ('p245',) ('Irish',) ('Scottish',)\n",
      "('data/Indian/p248/p248_111_mic1.flac',) ('data/Indian/p248/p248_146_mic2.flac',) ('data/Indian/p376/p376_268_mic2.flac',) ('data/American/p300/p300_166_mic2.flac',) ('p248',) ('p376',) ('p248',) ('Indian',) ('American',)\n",
      "('data/Scottish/p284/p284_408_mic1.flac',) ('data/Scottish/p284/p284_334_mic1.flac',) ('data/Scottish/p237/p237_327_mic2.flac',) ('data/Irish/p283/p283_165_mic2.flac',) ('p284',) ('p237',) ('p284',) ('Scottish',) ('Irish',)\n",
      "('data/American/p299/p299_296_mic2.flac',) ('data/American/p299/p299_260_mic2.flac',) ('data/American/p300/p300_036_mic1.flac',) ('data/Scottish/p284/p284_198_mic1.flac',) ('p299',) ('p300',) ('p299',) ('American',) ('Scottish',)\n",
      "('data/Scottish/p234/p234_071_mic1.flac',) ('data/Scottish/p234/p234_227_mic1.flac',) ('data/Scottish/p284/p284_023_mic1.flac',) ('data/American/p299/p299_204_mic1.flac',) ('p234',) ('p284',) ('p234',) ('Scottish',) ('American',)\n",
      "('data/Irish/p298/p298_253_mic2.flac',) ('data/Irish/p298/p298_027_mic2.flac',) ('data/Irish/p283/p283_424_mic1.flac',) ('data/Indian/p251/p251_211_mic1.flac',) ('p298',) ('p283',) ('p298',) ('Irish',) ('Indian',)\n",
      "('data/Scottish/p237/p237_262_mic2.flac',) ('data/Scottish/p237/p237_144_mic2.flac',) ('data/Scottish/p249/p249_336_mic1.flac',) ('data/Indian/p251/p251_293_mic1.flac',) ('p237',) ('p249',) ('p237',) ('Scottish',) ('Indian',)\n",
      "('data/American/p299/p299_323_mic2.flac',) ('data/American/p299/p299_218_mic1.flac',) ('data/American/p301/p301_124_mic1.flac',) ('data/Irish/p283/p283_246_mic1.flac',) ('p299',) ('p301',) ('p299',) ('American',) ('Irish',)\n",
      "('data/Irish/p295/p295_239_mic2.flac',) ('data/Irish/p295/p295_204_mic2.flac',) ('data/Irish/p283/p283_085_mic2.flac',) ('data/Scottish/p249/p249_155_mic1.flac',) ('p295',) ('p283',) ('p295',) ('Irish',) ('Scottish',)\n",
      "('data/Scottish/p234/p234_315_mic2.flac',) ('data/Scottish/p234/p234_168_mic2.flac',) ('data/Scottish/p249/p249_344_mic1.flac',) ('data/Indian/p251/p251_042_mic2.flac',) ('p234',) ('p249',) ('p234',) ('Scottish',) ('Indian',)\n",
      "('data/Irish/p283/p283_156_mic1.flac',) ('data/Irish/p283/p283_350_mic1.flac',) ('data/Irish/p295/p295_083_mic2.flac',) ('data/Scottish/p237/p237_327_mic1.flac',) ('p283',) ('p295',) ('p283',) ('Irish',) ('Scottish',)\n",
      "('data/Indian/p251/p251_049_mic1.flac',) ('data/Indian/p251/p251_027_mic2.flac',) ('data/Indian/p248/p248_204_mic2.flac',) ('data/Irish/p295/p295_371_mic2.flac',) ('p251',) ('p248',) ('p251',) ('Indian',) ('Irish',)\n"
     ]
    },
    {
     "name": "stdout",
     "output_type": "stream",
     "text": [
      "('data/American/p300/p300_055_mic2.flac',) ('data/American/p300/p300_240_mic2.flac',) ('data/American/p299/p299_121_mic2.flac',) ('data/Irish/p298/p298_225_mic1.flac',) ('p300',) ('p299',) ('p300',) ('American',) ('Irish',)\n",
      "('data/Irish/p295/p295_088_mic1.flac',) ('data/Irish/p295/p295_312_mic2.flac',) ('data/Irish/p283/p283_412_mic1.flac',) ('data/Scottish/p249/p249_231_mic1.flac',) ('p295',) ('p283',) ('p295',) ('Irish',) ('Scottish',)\n",
      "('data/Scottish/p234/p234_173_mic1.flac',) ('data/Scottish/p234/p234_267_mic1.flac',) ('data/Scottish/p284/p284_304_mic2.flac',) ('data/American/p300/p300_006_mic2.flac',) ('p234',) ('p284',) ('p234',) ('Scottish',) ('American',)\n",
      "('data/Irish/p283/p283_374_mic1.flac',) ('data/Irish/p283/p283_248_mic2.flac',) ('data/Irish/p295/p295_156_mic1.flac',) ('data/American/p299/p299_205_mic2.flac',) ('p283',) ('p295',) ('p283',) ('Irish',) ('American',)\n",
      "('data/Irish/p298/p298_168_mic2.flac',) ('data/Irish/p298/p298_350_mic2.flac',) ('data/Irish/p245/p245_143_mic2.flac',) ('data/Scottish/p234/p234_034_mic1.flac',) ('p298',) ('p245',) ('p298',) ('Irish',) ('Scottish',)\n",
      "('data/Scottish/p234/p234_305_mic2.flac',) ('data/Scottish/p234/p234_192_mic1.flac',) ('data/Scottish/p249/p249_348_mic1.flac',) ('data/Irish/p298/p298_132_mic1.flac',) ('p234',) ('p249',) ('p234',) ('Scottish',) ('Irish',)\n",
      "('data/Irish/p295/p295_215_mic1.flac',) ('data/Irish/p295/p295_038_mic2.flac',) ('data/Irish/p298/p298_289_mic2.flac',) ('data/American/p301/p301_332_mic1.flac',) ('p295',) ('p298',) ('p295',) ('Irish',) ('American',)\n",
      "('data/Indian/p248/p248_294_mic1.flac',) ('data/Indian/p248/p248_006_mic1.flac',) ('data/Indian/p376/p376_270_mic1.flac',) ('data/Irish/p245/p245_274_mic1.flac',) ('p248',) ('p376',) ('p248',) ('Indian',) ('Irish',)\n",
      "('data/Irish/p283/p283_357_mic1.flac',) ('data/Irish/p283/p283_194_mic2.flac',) ('data/Irish/p298/p298_012_mic1.flac',) ('data/Indian/p251/p251_051_mic2.flac',) ('p283',) ('p298',) ('p283',) ('Irish',) ('Indian',)\n",
      "('data/Scottish/p284/p284_002_mic2.flac',) ('data/Scottish/p284/p284_425_mic1.flac',) ('data/Scottish/p249/p249_032_mic1.flac',) ('data/Irish/p245/p245_184_mic2.flac',) ('p284',) ('p249',) ('p284',) ('Scottish',) ('Irish',)\n",
      "('data/American/p299/p299_318_mic1.flac',) ('data/American/p299/p299_136_mic1.flac',) ('data/American/p300/p300_216_mic1.flac',) ('data/Irish/p298/p298_175_mic1.flac',) ('p299',) ('p300',) ('p299',) ('American',) ('Irish',)\n",
      "('data/American/p301/p301_052_mic1.flac',) ('data/American/p301/p301_235_mic1.flac',) ('data/American/p300/p300_149_mic2.flac',) ('data/Irish/p298/p298_257_mic2.flac',) ('p301',) ('p300',) ('p301',) ('American',) ('Irish',)\n",
      "('data/American/p300/p300_123_mic1.flac',) ('data/American/p300/p300_122_mic1.flac',) ('data/American/p299/p299_290_mic1.flac',) ('data/Scottish/p234/p234_230_mic2.flac',) ('p300',) ('p299',) ('p300',) ('American',) ('Scottish',)\n",
      "('data/Indian/p376/p376_384_mic1.flac',) ('data/Indian/p376/p376_091_mic1.flac',) ('data/Indian/p251/p251_155_mic2.flac',) ('data/Scottish/p237/p237_180_mic1.flac',) ('p376',) ('p251',) ('p376',) ('Indian',) ('Scottish',)\n",
      "('data/Irish/p295/p295_362_mic1.flac',) ('data/Irish/p295/p295_345_mic2.flac',) ('data/Irish/p298/p298_151_mic2.flac',) ('data/American/p299/p299_233_mic2.flac',) ('p295',) ('p298',) ('p295',) ('Irish',) ('American',)\n",
      "('data/American/p301/p301_330_mic1.flac',) ('data/American/p301/p301_128_mic1.flac',) ('data/American/p299/p299_022_mic1.flac',) ('data/Indian/p248/p248_223_mic2.flac',) ('p301',) ('p299',) ('p301',) ('American',) ('Indian',)\n",
      "('data/American/p300/p300_097_mic2.flac',) ('data/American/p300/p300_290_mic2.flac',) ('data/American/p301/p301_053_mic1.flac',) ('data/Indian/p251/p251_024_mic2.flac',) ('p300',) ('p301',) ('p300',) ('American',) ('Indian',)\n",
      "('data/American/p299/p299_061_mic2.flac',) ('data/American/p299/p299_204_mic1.flac',) ('data/American/p300/p300_083_mic1.flac',) ('data/Scottish/p249/p249_297_mic1.flac',) ('p299',) ('p300',) ('p299',) ('American',) ('Scottish',)\n",
      "('data/Irish/p245/p245_139_mic2.flac',) ('data/Irish/p245/p245_214_mic2.flac',) ('data/Irish/p298/p298_045_mic1.flac',) ('data/American/p301/p301_260_mic2.flac',) ('p245',) ('p298',) ('p245',) ('Irish',) ('American',)\n",
      "('data/Scottish/p249/p249_038_mic1.flac',) ('data/Scottish/p249/p249_252_mic1.flac',) ('data/Scottish/p284/p284_151_mic2.flac',) ('data/Irish/p283/p283_022_mic1.flac',) ('p249',) ('p284',) ('p249',) ('Scottish',) ('Irish',)\n",
      "('data/American/p299/p299_130_mic1.flac',) ('data/American/p299/p299_234_mic1.flac',) ('data/American/p301/p301_114_mic1.flac',) ('data/Irish/p298/p298_019_mic1.flac',) ('p299',) ('p301',) ('p299',) ('American',) ('Irish',)\n",
      "('data/Irish/p295/p295_347_mic1.flac',) ('data/Irish/p295/p295_128_mic2.flac',) ('data/Irish/p283/p283_293_mic2.flac',) ('data/Indian/p376/p376_097_mic1.flac',) ('p295',) ('p283',) ('p295',) ('Irish',) ('Indian',)\n",
      "('data/Irish/p295/p295_189_mic1.flac',) ('data/Irish/p295/p295_044_mic1.flac',) ('data/Irish/p283/p283_327_mic2.flac',) ('data/American/p300/p300_145_mic1.flac',) ('p295',) ('p283',) ('p295',) ('Irish',) ('American',)\n",
      "('data/Irish/p298/p298_003_mic2.flac',) ('data/Irish/p298/p298_353_mic1.flac',) ('data/Irish/p283/p283_438_mic1.flac',) ('data/Indian/p251/p251_331_mic1.flac',) ('p298',) ('p283',) ('p298',) ('Irish',) ('Indian',)\n",
      "('data/American/p301/p301_295_mic1.flac',) ('data/American/p301/p301_175_mic1.flac',) ('data/American/p299/p299_374_mic1.flac',) ('data/Indian/p248/p248_344_mic2.flac',) ('p301',) ('p299',) ('p301',) ('American',) ('Indian',)\n",
      "('data/Irish/p245/p245_284_mic2.flac',) ('data/Irish/p245/p245_001_mic2.flac',) ('data/Irish/p295/p295_009_mic2.flac',) ('data/Scottish/p234/p234_303_mic1.flac',) ('p245',) ('p295',) ('p245',) ('Irish',) ('Scottish',)\n",
      "('data/Irish/p295/p295_261_mic1.flac',) ('data/Irish/p295/p295_232_mic2.flac',) ('data/Irish/p298/p298_228_mic1.flac',) ('data/American/p300/p300_049_mic2.flac',) ('p295',) ('p298',) ('p295',) ('Irish',) ('American',)\n",
      "('data/Scottish/p234/p234_005_mic2.flac',) ('data/Scottish/p234/p234_048_mic2.flac',) ('data/Scottish/p237/p237_080_mic2.flac',) ('data/Indian/p251/p251_004_mic1.flac',) ('p234',) ('p237',) ('p234',) ('Scottish',) ('Indian',)\n",
      "('data/American/p299/p299_353_mic2.flac',) ('data/American/p299/p299_097_mic2.flac',) ('data/American/p301/p301_298_mic1.flac',) ('data/Indian/p248/p248_370_mic1.flac',) ('p299',) ('p301',) ('p299',) ('American',) ('Indian',)\n",
      "('data/American/p300/p300_326_mic1.flac',) ('data/American/p300/p300_122_mic2.flac',) ('data/American/p301/p301_009_mic2.flac',) ('data/Scottish/p234/p234_035_mic1.flac',) ('p300',) ('p301',) ('p300',) ('American',) ('Scottish',)\n",
      "('data/Irish/p295/p295_348_mic1.flac',) ('data/Irish/p295/p295_220_mic2.flac',) ('data/Irish/p245/p245_178_mic1.flac',) ('data/Indian/p248/p248_173_mic1.flac',) ('p295',) ('p245',) ('p295',) ('Irish',) ('Indian',)\n",
      "('data/American/p299/p299_366_mic2.flac',) ('data/American/p299/p299_170_mic1.flac',) ('data/American/p301/p301_315_mic1.flac',) ('data/Indian/p376/p376_272_mic1.flac',) ('p299',) ('p301',) ('p299',) ('American',) ('Indian',)\n",
      "('data/Scottish/p237/p237_094_mic2.flac',) ('data/Scottish/p237/p237_187_mic2.flac',) ('data/Scottish/p234/p234_308_mic1.flac',) ('data/Irish/p295/p295_357_mic1.flac',) ('p237',) ('p234',) ('p237',) ('Scottish',) ('Irish',)\n",
      "('data/American/p300/p300_220_mic1.flac',) ('data/American/p300/p300_249_mic2.flac',) ('data/American/p299/p299_067_mic1.flac',) ('data/Scottish/p234/p234_291_mic1.flac',) ('p300',) ('p299',) ('p300',) ('American',) ('Scottish',)\n",
      "('data/American/p300/p300_162_mic1.flac',) ('data/American/p300/p300_191_mic1.flac',) ('data/American/p299/p299_254_mic1.flac',) ('data/Irish/p283/p283_208_mic1.flac',) ('p300',) ('p299',) ('p300',) ('American',) ('Irish',)\n",
      "('data/Irish/p245/p245_137_mic1.flac',) ('data/Irish/p245/p245_355_mic2.flac',) ('data/Irish/p283/p283_151_mic1.flac',) ('data/Indian/p376/p376_268_mic2.flac',) ('p245',) ('p283',) ('p245',) ('Irish',) ('Indian',)\n",
      "('data/Indian/p251/p251_208_mic2.flac',) ('data/Indian/p251/p251_281_mic1.flac',) ('data/Indian/p376/p376_193_mic1.flac',) ('data/American/p301/p301_280_mic1.flac',) ('p251',) ('p376',) ('p251',) ('Indian',) ('American',)\n",
      "('data/Irish/p245/p245_190_mic1.flac',) ('data/Irish/p245/p245_048_mic2.flac',) ('data/Irish/p295/p295_046_mic1.flac',) ('data/American/p300/p300_343_mic1.flac',) ('p245',) ('p295',) ('p245',) ('Irish',) ('American',)\n",
      "('data/Irish/p245/p245_061_mic1.flac',) ('data/Irish/p245/p245_349_mic2.flac',) ('data/Irish/p295/p295_140_mic2.flac',) ('data/American/p301/p301_375_mic2.flac',) ('p245',) ('p295',) ('p245',) ('Irish',) ('American',)\n",
      "('data/Indian/p251/p251_341_mic1.flac',) ('data/Indian/p251/p251_253_mic1.flac',) ('data/Indian/p376/p376_232_mic2.flac',) ('data/Scottish/p237/p237_154_mic1.flac',) ('p251',) ('p376',) ('p251',) ('Indian',) ('Scottish',)\n",
      "('data/American/p301/p301_355_mic2.flac',) ('data/American/p301/p301_219_mic1.flac',) ('data/American/p299/p299_024_mic1.flac',) ('data/Scottish/p234/p234_072_mic2.flac',) ('p301',) ('p299',) ('p301',) ('American',) ('Scottish',)\n",
      "('data/American/p300/p300_374_mic2.flac',) ('data/American/p300/p300_241_mic1.flac',) ('data/American/p301/p301_290_mic2.flac',) ('data/Indian/p376/p376_147_mic2.flac',) ('p300',) ('p301',) ('p300',) ('American',) ('Indian',)\n",
      "('data/Scottish/p284/p284_316_mic2.flac',) ('data/Scottish/p284/p284_378_mic1.flac',) ('data/Scottish/p249/p249_097_mic1.flac',) ('data/Irish/p283/p283_426_mic1.flac',) ('p284',) ('p249',) ('p284',) ('Scottish',) ('Irish',)\n",
      "('data/Scottish/p234/p234_026_mic2.flac',) ('data/Scottish/p234/p234_169_mic1.flac',) ('data/Scottish/p284/p284_133_mic2.flac',) ('data/Indian/p251/p251_317_mic2.flac',) ('p234',) ('p284',) ('p234',) ('Scottish',) ('Indian',)\n",
      "('data/Scottish/p237/p237_056_mic2.flac',) ('data/Scottish/p237/p237_268_mic2.flac',) ('data/Scottish/p249/p249_055_mic1.flac',) ('data/American/p301/p301_329_mic1.flac',) ('p237',) ('p249',) ('p237',) ('Scottish',) ('American',)\n",
      "('data/Irish/p245/p245_120_mic1.flac',) ('data/Irish/p245/p245_004_mic1.flac',) ('data/Irish/p298/p298_396_mic2.flac',) ('data/Scottish/p284/p284_249_mic2.flac',) ('p245',) ('p298',) ('p245',) ('Irish',) ('Scottish',)\n",
      "('data/American/p301/p301_275_mic2.flac',) ('data/American/p301/p301_386_mic2.flac',) ('data/American/p299/p299_236_mic1.flac',) ('data/Indian/p248/p248_147_mic2.flac',) ('p301',) ('p299',) ('p301',) ('American',) ('Indian',)\n",
      "('data/Scottish/p249/p249_353_mic1.flac',) ('data/Scottish/p249/p249_344_mic2.flac',) ('data/Scottish/p284/p284_156_mic2.flac',) ('data/Irish/p295/p295_222_mic2.flac',) ('p249',) ('p284',) ('p249',) ('Scottish',) ('Irish',)\n",
      "('data/American/p299/p299_112_mic2.flac',) ('data/American/p299/p299_218_mic2.flac',) ('data/American/p301/p301_073_mic2.flac',) ('data/Indian/p251/p251_013_mic2.flac',) ('p299',) ('p301',) ('p299',) ('American',) ('Indian',)\n",
      "('data/Scottish/p234/p234_185_mic1.flac',) ('data/Scottish/p234/p234_352_mic1.flac',) ('data/Scottish/p284/p284_066_mic2.flac',) ('data/Indian/p376/p376_135_mic1.flac',) ('p234',) ('p284',) ('p234',) ('Scottish',) ('Indian',)\n",
      "('data/Irish/p298/p298_052_mic1.flac',) ('data/Irish/p298/p298_116_mic1.flac',) ('data/Irish/p245/p245_200_mic2.flac',) ('data/Scottish/p234/p234_231_mic1.flac',) ('p298',) ('p245',) ('p298',) ('Irish',) ('Scottish',)\n",
      "('data/Irish/p298/p298_050_mic1.flac',) ('data/Irish/p298/p298_190_mic1.flac',) ('data/Irish/p295/p295_397_mic1.flac',) ('data/American/p299/p299_369_mic1.flac',) ('p298',) ('p295',) ('p298',) ('Irish',) ('American',)\n",
      "('data/Irish/p245/p245_334_mic1.flac',) ('data/Irish/p245/p245_167_mic2.flac',) ('data/Irish/p295/p295_328_mic1.flac',) ('data/American/p299/p299_064_mic1.flac',) ('p245',) ('p295',) ('p245',) ('Irish',) ('American',)\n",
      "('data/Scottish/p284/p284_023_mic1.flac',) ('data/Scottish/p284/p284_148_mic2.flac',) ('data/Scottish/p234/p234_187_mic1.flac',) ('data/Irish/p295/p295_357_mic1.flac',) ('p284',) ('p234',) ('p284',) ('Scottish',) ('Irish',)\n",
      "('data/American/p299/p299_187_mic1.flac',) ('data/American/p299/p299_016_mic2.flac',) ('data/American/p300/p300_237_mic1.flac',) ('data/Indian/p248/p248_314_mic2.flac',) ('p299',) ('p300',) ('p299',) ('American',) ('Indian',)\n",
      "('data/American/p299/p299_376_mic1.flac',) ('data/American/p299/p299_310_mic2.flac',) ('data/American/p301/p301_112_mic1.flac',) ('data/Indian/p248/p248_360_mic1.flac',) ('p299',) ('p301',) ('p299',) ('American',) ('Indian',)\n",
      "('data/Indian/p376/p376_273_mic1.flac',) ('data/Indian/p376/p376_214_mic2.flac',) ('data/Indian/p251/p251_206_mic2.flac',) ('data/American/p301/p301_243_mic1.flac',) ('p376',) ('p251',) ('p376',) ('Indian',) ('American',)\n",
      "('data/Scottish/p237/p237_254_mic2.flac',) ('data/Scottish/p237/p237_208_mic2.flac',) ('data/Scottish/p234/p234_313_mic2.flac',) ('data/Indian/p248/p248_032_mic2.flac',) ('p237',) ('p234',) ('p237',) ('Scottish',) ('Indian',)\n",
      "('data/American/p300/p300_371_mic2.flac',) ('data/American/p300/p300_080_mic2.flac',) ('data/American/p301/p301_086_mic2.flac',) ('data/Indian/p251/p251_138_mic1.flac',) ('p300',) ('p301',) ('p300',) ('American',) ('Indian',)\n",
      "('data/Irish/p245/p245_183_mic2.flac',) ('data/Irish/p245/p245_090_mic2.flac',) ('data/Irish/p283/p283_466_mic1.flac',) ('data/American/p301/p301_009_mic1.flac',) ('p245',) ('p283',) ('p245',) ('Irish',) ('American',)\n",
      "('data/Indian/p376/p376_255_mic1.flac',) ('data/Indian/p376/p376_148_mic1.flac',) ('data/Indian/p248/p248_251_mic2.flac',) ('data/Irish/p283/p283_102_mic2.flac',) ('p376',) ('p248',) ('p376',) ('Indian',) ('Irish',)\n",
      "('data/Indian/p251/p251_264_mic2.flac',) ('data/Indian/p251/p251_093_mic1.flac',) ('data/Indian/p248/p248_284_mic2.flac',) ('data/American/p299/p299_083_mic1.flac',) ('p251',) ('p248',) ('p251',) ('Indian',) ('American',)\n",
      "('data/Indian/p248/p248_241_mic2.flac',) ('data/Indian/p248/p248_281_mic1.flac',) ('data/Indian/p251/p251_206_mic2.flac',) ('data/Irish/p245/p245_020_mic2.flac',) ('p248',) ('p251',) ('p248',) ('Indian',) ('Irish',)\n",
      "('data/Scottish/p237/p237_025_mic1.flac',) ('data/Scottish/p237/p237_040_mic1.flac',) ('data/Scottish/p249/p249_050_mic1.flac',) ('data/Irish/p245/p245_345_mic1.flac',) ('p237',) ('p249',) ('p237',) ('Scottish',) ('Irish',)\n",
      "('data/Irish/p298/p298_169_mic1.flac',) ('data/Irish/p298/p298_249_mic1.flac',) ('data/Irish/p283/p283_468_mic1.flac',) ('data/Scottish/p249/p249_067_mic1.flac',) ('p298',) ('p283',) ('p298',) ('Irish',) ('Scottish',)\n",
      "('data/Irish/p295/p295_187_mic1.flac',) ('data/Irish/p295/p295_402_mic1.flac',) ('data/Irish/p298/p298_130_mic2.flac',) ('data/Scottish/p249/p249_110_mic2.flac',) ('p295',) ('p298',) ('p295',) ('Irish',) ('Scottish',)\n",
      "('data/Irish/p283/p283_186_mic2.flac',) ('data/Irish/p283/p283_322_mic2.flac',) ('data/Irish/p245/p245_265_mic1.flac',) ('data/American/p299/p299_086_mic1.flac',) ('p283',) ('p245',) ('p283',) ('Irish',) ('American',)\n",
      "('data/Indian/p376/p376_028_mic1.flac',) ('data/Indian/p376/p376_322_mic2.flac',) ('data/Indian/p248/p248_179_mic1.flac',) ('data/Scottish/p284/p284_172_mic1.flac',) ('p376',) ('p248',) ('p376',) ('Indian',) ('Scottish',)\n",
      "('data/Irish/p295/p295_157_mic1.flac',) ('data/Irish/p295/p295_138_mic2.flac',) ('data/Irish/p283/p283_456_mic1.flac',) ('data/American/p300/p300_057_mic2.flac',) ('p295',) ('p283',) ('p295',) ('Irish',) ('American',)\n",
      "('data/Irish/p295/p295_352_mic2.flac',) ('data/Irish/p295/p295_153_mic1.flac',) ('data/Irish/p283/p283_267_mic1.flac',) ('data/Indian/p376/p376_309_mic1.flac',) ('p295',) ('p283',) ('p295',) ('Irish',) ('Indian',)\n",
      "('data/Indian/p248/p248_209_mic2.flac',) ('data/Indian/p248/p248_107_mic1.flac',) ('data/Indian/p251/p251_047_mic2.flac',) ('data/American/p301/p301_261_mic2.flac',) ('p248',) ('p251',) ('p248',) ('Indian',) ('American',)\n",
      "('data/American/p299/p299_126_mic1.flac',) ('data/American/p299/p299_371_mic1.flac',) ('data/American/p300/p300_075_mic2.flac',) ('data/Irish/p245/p245_227_mic1.flac',) ('p299',) ('p300',) ('p299',) ('American',) ('Irish',)\n",
      "('data/Indian/p248/p248_311_mic1.flac',) ('data/Indian/p248/p248_215_mic2.flac',) ('data/Indian/p251/p251_181_mic1.flac',) ('data/American/p299/p299_096_mic2.flac',) ('p248',) ('p251',) ('p248',) ('Indian',) ('American',)\n",
      "('data/Indian/p251/p251_292_mic1.flac',) ('data/Indian/p251/p251_184_mic1.flac',) ('data/Indian/p376/p376_281_mic1.flac',) ('data/Irish/p295/p295_032_mic2.flac',) ('p251',) ('p376',) ('p251',) ('Indian',) ('Irish',)\n",
      "('data/Indian/p248/p248_226_mic2.flac',) ('data/Indian/p248/p248_032_mic2.flac',) ('data/Indian/p376/p376_160_mic2.flac',) ('data/Irish/p283/p283_384_mic2.flac',) ('p248',) ('p376',) ('p248',) ('Indian',) ('Irish',)\n",
      "('data/American/p300/p300_218_mic1.flac',) ('data/American/p300/p300_313_mic2.flac',) ('data/American/p299/p299_092_mic2.flac',) ('data/Indian/p248/p248_138_mic1.flac',) ('p300',) ('p299',) ('p300',) ('American',) ('Indian',)\n",
      "('data/American/p300/p300_186_mic2.flac',) ('data/American/p300/p300_130_mic1.flac',) ('data/American/p299/p299_216_mic2.flac',) ('data/Scottish/p237/p237_078_mic1.flac',) ('p300',) ('p299',) ('p300',) ('American',) ('Scottish',)\n",
      "('data/Irish/p283/p283_142_mic1.flac',) ('data/Irish/p283/p283_041_mic2.flac',) ('data/Irish/p298/p298_095_mic1.flac',) ('data/Indian/p248/p248_087_mic2.flac',) ('p283',) ('p298',) ('p283',) ('Irish',) ('Indian',)\n",
      "('data/Scottish/p237/p237_282_mic1.flac',) ('data/Scottish/p237/p237_230_mic2.flac',) ('data/Scottish/p234/p234_021_mic2.flac',) ('data/Irish/p295/p295_384_mic2.flac',) ('p237',) ('p234',) ('p237',) ('Scottish',) ('Irish',)\n",
      "('data/Scottish/p249/p249_312_mic1.flac',) ('data/Scottish/p249/p249_026_mic2.flac',) ('data/Scottish/p234/p234_339_mic1.flac',) ('data/American/p301/p301_071_mic2.flac',) ('p249',) ('p234',) ('p249',) ('Scottish',) ('American',)\n",
      "('data/Indian/p248/p248_216_mic1.flac',) ('data/Indian/p248/p248_137_mic2.flac',) ('data/Indian/p251/p251_087_mic2.flac',) ('data/Scottish/p249/p249_336_mic2.flac',) ('p248',) ('p251',) ('p248',) ('Indian',) ('Scottish',)\n",
      "('data/Scottish/p284/p284_239_mic2.flac',) ('data/Scottish/p284/p284_355_mic1.flac',) ('data/Scottish/p234/p234_324_mic2.flac',) ('data/American/p301/p301_285_mic1.flac',) ('p284',) ('p234',) ('p284',) ('Scottish',) ('American',)\n",
      "('data/American/p300/p300_293_mic2.flac',) ('data/American/p300/p300_207_mic2.flac',) ('data/American/p299/p299_314_mic2.flac',) ('data/Indian/p376/p376_392_mic2.flac',) ('p300',) ('p299',) ('p300',) ('American',) ('Indian',)\n",
      "('data/Irish/p295/p295_274_mic2.flac',) ('data/Irish/p295/p295_410_mic2.flac',) ('data/Irish/p298/p298_375_mic1.flac',) ('data/Indian/p376/p376_412_mic2.flac',) ('p295',) ('p298',) ('p295',) ('Irish',) ('Indian',)\n",
      "('data/American/p300/p300_290_mic2.flac',) ('data/American/p300/p300_078_mic2.flac',) ('data/American/p301/p301_393_mic1.flac',) ('data/Irish/p298/p298_085_mic2.flac',) ('p300',) ('p301',) ('p300',) ('American',) ('Irish',)\n",
      "('data/Irish/p283/p283_269_mic2.flac',) ('data/Irish/p283/p283_037_mic1.flac',) ('data/Irish/p295/p295_193_mic2.flac',) ('data/Indian/p376/p376_156_mic2.flac',) ('p283',) ('p295',) ('p283',) ('Irish',) ('Indian',)\n",
      "('data/American/p301/p301_289_mic1.flac',) ('data/American/p301/p301_173_mic1.flac',) ('data/American/p299/p299_104_mic2.flac',) ('data/Irish/p245/p245_303_mic2.flac',) ('p301',) ('p299',) ('p301',) ('American',) ('Irish',)\n",
      "('data/Indian/p251/p251_191_mic1.flac',) ('data/Indian/p251/p251_082_mic2.flac',) ('data/Indian/p248/p248_061_mic2.flac',) ('data/Scottish/p284/p284_006_mic2.flac',) ('p251',) ('p248',) ('p251',) ('Indian',) ('Scottish',)\n",
      "('data/Indian/p376/p376_066_mic2.flac',) ('data/Indian/p376/p376_396_mic2.flac',) ('data/Indian/p251/p251_159_mic2.flac',) ('data/Irish/p298/p298_245_mic1.flac',) ('p376',) ('p251',) ('p376',) ('Indian',) ('Irish',)\n",
      "('data/Indian/p376/p376_266_mic1.flac',) ('data/Indian/p376/p376_303_mic2.flac',) ('data/Indian/p248/p248_339_mic2.flac',) ('data/American/p301/p301_388_mic1.flac',) ('p376',) ('p248',) ('p376',) ('Indian',) ('American',)\n",
      "('data/Indian/p251/p251_351_mic1.flac',) ('data/Indian/p251/p251_098_mic1.flac',) ('data/Indian/p248/p248_267_mic2.flac',) ('data/American/p300/p300_144_mic2.flac',) ('p251',) ('p248',) ('p251',) ('Indian',) ('American',)\n",
      "('data/American/p300/p300_306_mic1.flac',) ('data/American/p300/p300_129_mic1.flac',) ('data/American/p299/p299_390_mic2.flac',) ('data/Indian/p248/p248_041_mic1.flac',) ('p300',) ('p299',) ('p300',) ('American',) ('Indian',)\n",
      "('data/Indian/p248/p248_294_mic2.flac',) ('data/Indian/p248/p248_134_mic1.flac',) ('data/Indian/p376/p376_272_mic1.flac',) ('data/Scottish/p284/p284_164_mic1.flac',) ('p248',) ('p376',) ('p248',) ('Indian',) ('Scottish',)\n",
      "('data/Scottish/p237/p237_089_mic1.flac',) ('data/Scottish/p237/p237_011_mic1.flac',) ('data/Scottish/p284/p284_264_mic2.flac',) ('data/American/p300/p300_101_mic2.flac',) ('p237',) ('p284',) ('p237',) ('Scottish',) ('American',)\n",
      "('data/Irish/p283/p283_451_mic2.flac',) ('data/Irish/p283/p283_044_mic2.flac',) ('data/Irish/p295/p295_177_mic1.flac',) ('data/American/p300/p300_067_mic1.flac',) ('p283',) ('p295',) ('p283',) ('Irish',) ('American',)\n",
      "('data/Scottish/p237/p237_044_mic1.flac',) ('data/Scottish/p237/p237_156_mic2.flac',) ('data/Scottish/p249/p249_171_mic2.flac',) ('data/Irish/p295/p295_383_mic2.flac',) ('p237',) ('p249',) ('p237',) ('Scottish',) ('Irish',)\n",
      "('data/Scottish/p234/p234_026_mic2.flac',) ('data/Scottish/p234/p234_208_mic2.flac',) ('data/Scottish/p249/p249_284_mic1.flac',) ('data/Indian/p248/p248_094_mic2.flac',) ('p234',) ('p249',) ('p234',) ('Scottish',) ('Indian',)\n",
      "('data/American/p299/p299_030_mic1.flac',) ('data/American/p299/p299_252_mic1.flac',) ('data/American/p301/p301_099_mic1.flac',) ('data/Scottish/p234/p234_245_mic1.flac',) ('p299',) ('p301',) ('p299',) ('American',) ('Scottish',)\n",
      "('data/Scottish/p249/p249_224_mic1.flac',) ('data/Scottish/p249/p249_285_mic2.flac',) ('data/Scottish/p234/p234_183_mic2.flac',) ('data/American/p301/p301_305_mic1.flac',) ('p249',) ('p234',) ('p249',) ('Scottish',) ('American',)\n",
      "('data/Irish/p245/p245_318_mic2.flac',) ('data/Irish/p245/p245_222_mic2.flac',) ('data/Irish/p283/p283_444_mic2.flac',) ('data/American/p301/p301_142_mic1.flac',) ('p245',) ('p283',) ('p245',) ('Irish',) ('American',)\n",
      "('data/Indian/p251/p251_069_mic2.flac',) ('data/Indian/p251/p251_027_mic1.flac',) ('data/Indian/p376/p376_252_mic1.flac',) ('data/American/p299/p299_254_mic1.flac',) ('p251',) ('p376',) ('p251',) ('Indian',) ('American',)\n",
      "('data/Scottish/p249/p249_108_mic1.flac',) ('data/Scottish/p249/p249_354_mic1.flac',) ('data/Scottish/p237/p237_003_mic1.flac',) ('data/American/p301/p301_177_mic1.flac',) ('p249',) ('p237',) ('p249',) ('Scottish',) ('American',)\n",
      "('data/Irish/p283/p283_301_mic1.flac',) ('data/Irish/p283/p283_070_mic1.flac',) ('data/Irish/p295/p295_049_mic1.flac',) ('data/Indian/p248/p248_131_mic1.flac',) ('p283',) ('p295',) ('p283',) ('Irish',) ('Indian',)\n",
      "('data/Indian/p248/p248_333_mic1.flac',) ('data/Indian/p248/p248_114_mic1.flac',) ('data/Indian/p251/p251_350_mic1.flac',) ('data/American/p301/p301_360_mic1.flac',) ('p248',) ('p251',) ('p248',) ('Indian',) ('American',)\n",
      "('data/Indian/p376/p376_092_mic1.flac',) ('data/Indian/p376/p376_036_mic1.flac',) ('data/Indian/p251/p251_359_mic1.flac',) ('data/Scottish/p237/p237_214_mic2.flac',) ('p376',) ('p251',) ('p376',) ('Indian',) ('Scottish',)\n",
      "('data/Indian/p376/p376_250_mic1.flac',) ('data/Indian/p376/p376_346_mic1.flac',) ('data/Indian/p251/p251_130_mic1.flac',) ('data/Scottish/p237/p237_301_mic1.flac',) ('p376',) ('p251',) ('p376',) ('Indian',) ('Scottish',)\n",
      "('data/Irish/p245/p245_311_mic2.flac',) ('data/Irish/p245/p245_334_mic1.flac',) ('data/Irish/p283/p283_113_mic2.flac',) ('data/American/p301/p301_198_mic2.flac',) ('p245',) ('p283',) ('p245',) ('Irish',) ('American',)\n",
      "('data/Irish/p295/p295_344_mic1.flac',) ('data/Irish/p295/p295_293_mic2.flac',) ('data/Irish/p245/p245_357_mic2.flac',) ('data/American/p300/p300_055_mic1.flac',) ('p295',) ('p245',) ('p295',) ('Irish',) ('American',)\n",
      "('data/Scottish/p249/p249_161_mic2.flac',) ('data/Scottish/p249/p249_339_mic2.flac',) ('data/Scottish/p237/p237_330_mic2.flac',) ('data/Irish/p283/p283_273_mic1.flac',) ('p249',) ('p237',) ('p249',) ('Scottish',) ('Irish',)\n",
      "('data/Indian/p376/p376_178_mic2.flac',) ('data/Indian/p376/p376_214_mic2.flac',) ('data/Indian/p248/p248_319_mic1.flac',) ('data/Irish/p283/p283_030_mic2.flac',) ('p376',) ('p248',) ('p376',) ('Indian',) ('Irish',)\n",
      "('data/Indian/p248/p248_073_mic1.flac',) ('data/Indian/p248/p248_049_mic1.flac',) ('data/Indian/p251/p251_265_mic1.flac',) ('data/Scottish/p284/p284_272_mic1.flac',) ('p248',) ('p251',) ('p248',) ('Indian',) ('Scottish',)\n",
      "('data/Irish/p283/p283_379_mic2.flac',) ('data/Irish/p283/p283_093_mic1.flac',) ('data/Irish/p245/p245_217_mic2.flac',) ('data/Scottish/p284/p284_237_mic1.flac',) ('p283',) ('p245',) ('p283',) ('Irish',) ('Scottish',)\n",
      "('data/Scottish/p237/p237_172_mic2.flac',) ('data/Scottish/p237/p237_198_mic2.flac',) ('data/Scottish/p284/p284_408_mic2.flac',) ('data/Indian/p248/p248_153_mic1.flac',) ('p237',) ('p284',) ('p237',) ('Scottish',) ('Indian',)\n",
      "('data/American/p299/p299_143_mic2.flac',) ('data/American/p299/p299_004_mic2.flac',) ('data/American/p301/p301_183_mic2.flac',) ('data/Scottish/p284/p284_269_mic2.flac',) ('p299',) ('p301',) ('p299',) ('American',) ('Scottish',)\n",
      "('data/American/p301/p301_338_mic2.flac',) ('data/American/p301/p301_348_mic1.flac',) ('data/American/p300/p300_256_mic2.flac',) ('data/Irish/p245/p245_326_mic1.flac',) ('p301',) ('p300',) ('p301',) ('American',) ('Irish',)\n"
     ]
    },
    {
     "name": "stdout",
     "output_type": "stream",
     "text": [
      "('data/Irish/p245/p245_341_mic1.flac',) ('data/Irish/p245/p245_286_mic1.flac',) ('data/Irish/p283/p283_299_mic1.flac',) ('data/Indian/p376/p376_336_mic1.flac',) ('p245',) ('p283',) ('p245',) ('Irish',) ('Indian',)\n",
      "('data/Irish/p283/p283_302_mic1.flac',) ('data/Irish/p283/p283_218_mic1.flac',) ('data/Irish/p245/p245_121_mic2.flac',) ('data/American/p299/p299_044_mic2.flac',) ('p283',) ('p245',) ('p283',) ('Irish',) ('American',)\n",
      "('data/American/p301/p301_271_mic2.flac',) ('data/American/p301/p301_397_mic1.flac',) ('data/American/p299/p299_345_mic2.flac',) ('data/Irish/p283/p283_196_mic2.flac',) ('p301',) ('p299',) ('p301',) ('American',) ('Irish',)\n",
      "('data/American/p300/p300_257_mic1.flac',) ('data/American/p300/p300_217_mic2.flac',) ('data/American/p301/p301_100_mic2.flac',) ('data/Irish/p245/p245_005_mic1.flac',) ('p300',) ('p301',) ('p300',) ('American',) ('Irish',)\n",
      "('data/Indian/p251/p251_143_mic1.flac',) ('data/Indian/p251/p251_224_mic1.flac',) ('data/Indian/p248/p248_133_mic2.flac',) ('data/Irish/p283/p283_024_mic1.flac',) ('p251',) ('p248',) ('p251',) ('Indian',) ('Irish',)\n",
      "('data/Irish/p245/p245_157_mic2.flac',) ('data/Irish/p245/p245_160_mic2.flac',) ('data/Irish/p298/p298_056_mic2.flac',) ('data/American/p300/p300_238_mic2.flac',) ('p245',) ('p298',) ('p245',) ('Irish',) ('American',)\n",
      "('data/Scottish/p234/p234_275_mic2.flac',) ('data/Scottish/p234/p234_225_mic2.flac',) ('data/Scottish/p284/p284_124_mic1.flac',) ('data/Indian/p376/p376_405_mic2.flac',) ('p234',) ('p284',) ('p234',) ('Scottish',) ('Indian',)\n",
      "('data/Irish/p295/p295_235_mic1.flac',) ('data/Irish/p295/p295_060_mic1.flac',) ('data/Irish/p245/p245_076_mic1.flac',) ('data/American/p301/p301_008_mic2.flac',) ('p295',) ('p245',) ('p295',) ('Irish',) ('American',)\n",
      "('data/Scottish/p284/p284_030_mic1.flac',) ('data/Scottish/p284/p284_003_mic2.flac',) ('data/Scottish/p237/p237_175_mic2.flac',) ('data/Indian/p251/p251_121_mic2.flac',) ('p284',) ('p237',) ('p284',) ('Scottish',) ('Indian',)\n",
      "('data/American/p299/p299_051_mic2.flac',) ('data/American/p299/p299_271_mic1.flac',) ('data/American/p301/p301_361_mic2.flac',) ('data/Indian/p248/p248_205_mic2.flac',) ('p299',) ('p301',) ('p299',) ('American',) ('Indian',)\n",
      "('data/Scottish/p234/p234_361_mic2.flac',) ('data/Scottish/p234/p234_151_mic1.flac',) ('data/Scottish/p249/p249_157_mic2.flac',) ('data/Irish/p295/p295_323_mic2.flac',) ('p234',) ('p249',) ('p234',) ('Scottish',) ('Irish',)\n",
      "('data/Indian/p251/p251_107_mic2.flac',) ('data/Indian/p251/p251_282_mic1.flac',) ('data/Indian/p376/p376_141_mic1.flac',) ('data/Irish/p245/p245_321_mic1.flac',) ('p251',) ('p376',) ('p251',) ('Indian',) ('Irish',)\n",
      "('data/American/p300/p300_306_mic2.flac',) ('data/American/p300/p300_068_mic1.flac',) ('data/American/p299/p299_316_mic2.flac',) ('data/Scottish/p237/p237_093_mic1.flac',) ('p300',) ('p299',) ('p300',) ('American',) ('Scottish',)\n",
      "('data/Scottish/p234/p234_212_mic1.flac',) ('data/Scottish/p234/p234_108_mic1.flac',) ('data/Scottish/p237/p237_035_mic1.flac',) ('data/Indian/p248/p248_319_mic2.flac',) ('p234',) ('p237',) ('p234',) ('Scottish',) ('Indian',)\n",
      "('data/Irish/p245/p245_342_mic2.flac',) ('data/Irish/p245/p245_039_mic2.flac',) ('data/Irish/p283/p283_086_mic2.flac',) ('data/Indian/p376/p376_398_mic2.flac',) ('p245',) ('p283',) ('p245',) ('Irish',) ('Indian',)\n",
      "('data/Indian/p251/p251_080_mic2.flac',) ('data/Indian/p251/p251_178_mic1.flac',) ('data/Indian/p248/p248_111_mic1.flac',) ('data/Scottish/p234/p234_346_mic1.flac',) ('p251',) ('p248',) ('p251',) ('Indian',) ('Scottish',)\n",
      "('data/Scottish/p284/p284_392_mic1.flac',) ('data/Scottish/p284/p284_236_mic1.flac',) ('data/Scottish/p234/p234_085_mic1.flac',) ('data/Irish/p283/p283_014_mic1.flac',) ('p284',) ('p234',) ('p284',) ('Scottish',) ('Irish',)\n",
      "('data/Indian/p376/p376_112_mic2.flac',) ('data/Indian/p376/p376_202_mic1.flac',) ('data/Indian/p248/p248_091_mic1.flac',) ('data/American/p301/p301_395_mic2.flac',) ('p376',) ('p248',) ('p376',) ('Indian',) ('American',)\n",
      "('data/American/p300/p300_028_mic1.flac',) ('data/American/p300/p300_282_mic1.flac',) ('data/American/p299/p299_098_mic2.flac',) ('data/Irish/p295/p295_143_mic1.flac',) ('p300',) ('p299',) ('p300',) ('American',) ('Irish',)\n",
      "('data/American/p300/p300_239_mic2.flac',) ('data/American/p300/p300_295_mic2.flac',) ('data/American/p301/p301_050_mic1.flac',) ('data/Scottish/p284/p284_335_mic1.flac',) ('p300',) ('p301',) ('p300',) ('American',) ('Scottish',)\n",
      "('data/Irish/p298/p298_338_mic2.flac',) ('data/Irish/p298/p298_254_mic2.flac',) ('data/Irish/p295/p295_140_mic2.flac',) ('data/American/p300/p300_199_mic1.flac',) ('p298',) ('p295',) ('p298',) ('Irish',) ('American',)\n",
      "('data/American/p299/p299_211_mic1.flac',) ('data/American/p299/p299_226_mic1.flac',) ('data/American/p301/p301_377_mic2.flac',) ('data/Irish/p283/p283_114_mic2.flac',) ('p299',) ('p301',) ('p299',) ('American',) ('Irish',)\n",
      "('data/Scottish/p249/p249_306_mic2.flac',) ('data/Scottish/p249/p249_020_mic1.flac',) ('data/Scottish/p284/p284_025_mic1.flac',) ('data/Indian/p251/p251_020_mic2.flac',) ('p249',) ('p284',) ('p249',) ('Scottish',) ('Indian',)\n",
      "('data/Irish/p295/p295_191_mic1.flac',) ('data/Irish/p295/p295_305_mic2.flac',) ('data/Irish/p283/p283_403_mic2.flac',) ('data/Scottish/p234/p234_077_mic2.flac',) ('p295',) ('p283',) ('p295',) ('Irish',) ('Scottish',)\n",
      "('data/American/p299/p299_185_mic1.flac',) ('data/American/p299/p299_224_mic1.flac',) ('data/American/p301/p301_387_mic2.flac',) ('data/Scottish/p249/p249_146_mic1.flac',) ('p299',) ('p301',) ('p299',) ('American',) ('Scottish',)\n",
      "('data/Irish/p283/p283_157_mic2.flac',) ('data/Irish/p283/p283_015_mic2.flac',) ('data/Irish/p295/p295_077_mic1.flac',) ('data/Scottish/p284/p284_252_mic2.flac',) ('p283',) ('p295',) ('p283',) ('Irish',) ('Scottish',)\n",
      "('data/Scottish/p234/p234_177_mic1.flac',) ('data/Scottish/p234/p234_080_mic1.flac',) ('data/Scottish/p284/p284_007_mic1.flac',) ('data/American/p299/p299_064_mic2.flac',) ('p234',) ('p284',) ('p234',) ('Scottish',) ('American',)\n",
      "('data/American/p299/p299_148_mic2.flac',) ('data/American/p299/p299_374_mic2.flac',) ('data/American/p300/p300_248_mic1.flac',) ('data/Irish/p295/p295_185_mic1.flac',) ('p299',) ('p300',) ('p299',) ('American',) ('Irish',)\n",
      "('data/Scottish/p284/p284_320_mic2.flac',) ('data/Scottish/p284/p284_206_mic2.flac',) ('data/Scottish/p234/p234_311_mic2.flac',) ('data/Indian/p251/p251_182_mic1.flac',) ('p284',) ('p234',) ('p284',) ('Scottish',) ('Indian',)\n",
      "('data/Indian/p251/p251_251_mic2.flac',) ('data/Indian/p251/p251_340_mic1.flac',) ('data/Indian/p376/p376_056_mic2.flac',) ('data/American/p300/p300_307_mic1.flac',) ('p251',) ('p376',) ('p251',) ('Indian',) ('American',)\n",
      "('data/Irish/p295/p295_248_mic2.flac',) ('data/Irish/p295/p295_289_mic2.flac',) ('data/Irish/p298/p298_147_mic2.flac',) ('data/Indian/p376/p376_126_mic1.flac',) ('p295',) ('p298',) ('p295',) ('Irish',) ('Indian',)\n",
      "('data/Scottish/p237/p237_241_mic1.flac',) ('data/Scottish/p237/p237_177_mic1.flac',) ('data/Scottish/p234/p234_257_mic2.flac',) ('data/American/p299/p299_105_mic2.flac',) ('p237',) ('p234',) ('p237',) ('Scottish',) ('American',)\n",
      "('data/Indian/p248/p248_328_mic2.flac',) ('data/Indian/p248/p248_256_mic1.flac',) ('data/Indian/p376/p376_038_mic1.flac',) ('data/Scottish/p249/p249_022_mic2.flac',) ('p248',) ('p376',) ('p248',) ('Indian',) ('Scottish',)\n",
      "('data/Indian/p248/p248_052_mic2.flac',) ('data/Indian/p248/p248_001_mic1.flac',) ('data/Indian/p251/p251_348_mic1.flac',) ('data/American/p300/p300_359_mic1.flac',) ('p248',) ('p251',) ('p248',) ('Indian',) ('American',)\n",
      "('data/Scottish/p284/p284_126_mic2.flac',) ('data/Scottish/p284/p284_293_mic1.flac',) ('data/Scottish/p234/p234_260_mic2.flac',) ('data/Indian/p376/p376_256_mic1.flac',) ('p284',) ('p234',) ('p284',) ('Scottish',) ('Indian',)\n",
      "('data/Indian/p248/p248_049_mic1.flac',) ('data/Indian/p248/p248_135_mic2.flac',) ('data/Indian/p251/p251_291_mic1.flac',) ('data/American/p301/p301_355_mic1.flac',) ('p248',) ('p251',) ('p248',) ('Indian',) ('American',)\n",
      "('data/Irish/p295/p295_241_mic2.flac',) ('data/Irish/p295/p295_344_mic2.flac',) ('data/Irish/p245/p245_174_mic1.flac',) ('data/Indian/p251/p251_300_mic1.flac',) ('p295',) ('p245',) ('p295',) ('Irish',) ('Indian',)\n",
      "('data/Scottish/p237/p237_015_mic2.flac',) ('data/Scottish/p237/p237_322_mic2.flac',) ('data/Scottish/p249/p249_196_mic1.flac',) ('data/American/p300/p300_382_mic2.flac',) ('p237',) ('p249',) ('p237',) ('Scottish',) ('American',)\n",
      "('data/American/p299/p299_252_mic2.flac',) ('data/American/p299/p299_074_mic1.flac',) ('data/American/p301/p301_174_mic1.flac',) ('data/Indian/p376/p376_177_mic1.flac',) ('p299',) ('p301',) ('p299',) ('American',) ('Indian',)\n",
      "('data/Scottish/p284/p284_056_mic2.flac',) ('data/Scottish/p284/p284_164_mic2.flac',) ('data/Scottish/p237/p237_153_mic2.flac',) ('data/Irish/p245/p245_063_mic2.flac',) ('p284',) ('p237',) ('p284',) ('Scottish',) ('Irish',)\n",
      "('data/Irish/p245/p245_210_mic1.flac',) ('data/Irish/p245/p245_215_mic2.flac',) ('data/Irish/p283/p283_174_mic1.flac',) ('data/American/p299/p299_265_mic2.flac',) ('p245',) ('p283',) ('p245',) ('Irish',) ('American',)\n",
      "('data/Scottish/p237/p237_178_mic1.flac',) ('data/Scottish/p237/p237_060_mic2.flac',) ('data/Scottish/p234/p234_231_mic2.flac',) ('data/Irish/p295/p295_369_mic1.flac',) ('p237',) ('p234',) ('p237',) ('Scottish',) ('Irish',)\n",
      "('data/Irish/p298/p298_320_mic1.flac',) ('data/Irish/p298/p298_067_mic2.flac',) ('data/Irish/p283/p283_058_mic1.flac',) ('data/American/p301/p301_160_mic2.flac',) ('p298',) ('p283',) ('p298',) ('Irish',) ('American',)\n",
      "('data/American/p301/p301_192_mic2.flac',) ('data/American/p301/p301_385_mic1.flac',) ('data/American/p300/p300_095_mic1.flac',) ('data/Irish/p245/p245_042_mic2.flac',) ('p301',) ('p300',) ('p301',) ('American',) ('Irish',)\n",
      "('data/Indian/p376/p376_084_mic2.flac',) ('data/Indian/p376/p376_091_mic1.flac',) ('data/Indian/p248/p248_370_mic1.flac',) ('data/Irish/p298/p298_178_mic2.flac',) ('p376',) ('p248',) ('p376',) ('Indian',) ('Irish',)\n",
      "('data/Irish/p245/p245_102_mic2.flac',) ('data/Irish/p245/p245_174_mic2.flac',) ('data/Irish/p295/p295_351_mic1.flac',) ('data/Indian/p376/p376_333_mic1.flac',) ('p245',) ('p295',) ('p245',) ('Irish',) ('Indian',)\n",
      "('data/Indian/p376/p376_128_mic1.flac',) ('data/Indian/p376/p376_316_mic1.flac',) ('data/Indian/p248/p248_122_mic1.flac',) ('data/American/p299/p299_306_mic1.flac',) ('p376',) ('p248',) ('p376',) ('Indian',) ('American',)\n",
      "('data/Irish/p298/p298_274_mic1.flac',) ('data/Irish/p298/p298_219_mic2.flac',) ('data/Irish/p295/p295_157_mic1.flac',) ('data/Scottish/p237/p237_018_mic1.flac',) ('p298',) ('p295',) ('p298',) ('Irish',) ('Scottish',)\n",
      "('data/American/p300/p300_301_mic2.flac',) ('data/American/p300/p300_254_mic1.flac',) ('data/American/p299/p299_215_mic1.flac',) ('data/Scottish/p249/p249_246_mic1.flac',) ('p300',) ('p299',) ('p300',) ('American',) ('Scottish',)\n",
      "('data/Scottish/p237/p237_267_mic1.flac',) ('data/Scottish/p237/p237_174_mic2.flac',) ('data/Scottish/p249/p249_247_mic1.flac',) ('data/Irish/p295/p295_039_mic1.flac',) ('p237',) ('p249',) ('p237',) ('Scottish',) ('Irish',)\n",
      "('data/American/p299/p299_232_mic1.flac',) ('data/American/p299/p299_314_mic2.flac',) ('data/American/p301/p301_164_mic2.flac',) ('data/Irish/p283/p283_285_mic2.flac',) ('p299',) ('p301',) ('p299',) ('American',) ('Irish',)\n",
      "('data/American/p301/p301_278_mic2.flac',) ('data/American/p301/p301_265_mic2.flac',) ('data/American/p300/p300_380_mic1.flac',) ('data/Scottish/p237/p237_175_mic2.flac',) ('p301',) ('p300',) ('p301',) ('American',) ('Scottish',)\n",
      "('data/Irish/p245/p245_141_mic2.flac',) ('data/Irish/p245/p245_123_mic2.flac',) ('data/Irish/p283/p283_471_mic1.flac',) ('data/Scottish/p284/p284_274_mic1.flac',) ('p245',) ('p283',) ('p245',) ('Irish',) ('Scottish',)\n",
      "('data/American/p299/p299_189_mic1.flac',) ('data/American/p299/p299_062_mic2.flac',) ('data/American/p300/p300_019_mic2.flac',) ('data/Scottish/p237/p237_297_mic2.flac',) ('p299',) ('p300',) ('p299',) ('American',) ('Scottish',)\n",
      "('data/Scottish/p284/p284_097_mic1.flac',) ('data/Scottish/p284/p284_334_mic2.flac',) ('data/Scottish/p237/p237_005_mic2.flac',) ('data/Indian/p248/p248_034_mic1.flac',) ('p284',) ('p237',) ('p284',) ('Scottish',) ('Indian',)\n",
      "('data/Irish/p298/p298_269_mic2.flac',) ('data/Irish/p298/p298_248_mic1.flac',) ('data/Irish/p295/p295_202_mic2.flac',) ('data/American/p301/p301_025_mic2.flac',) ('p298',) ('p295',) ('p298',) ('Irish',) ('American',)\n",
      "('data/Indian/p251/p251_220_mic2.flac',) ('data/Indian/p251/p251_179_mic2.flac',) ('data/Indian/p248/p248_269_mic2.flac',) ('data/Irish/p298/p298_201_mic2.flac',) ('p251',) ('p248',) ('p251',) ('Indian',) ('Irish',)\n",
      "('data/Irish/p283/p283_086_mic1.flac',) ('data/Irish/p283/p283_353_mic1.flac',) ('data/Irish/p295/p295_039_mic2.flac',) ('data/Indian/p248/p248_171_mic1.flac',) ('p283',) ('p295',) ('p283',) ('Irish',) ('Indian',)\n",
      "('data/Scottish/p284/p284_414_mic2.flac',) ('data/Scottish/p284/p284_261_mic2.flac',) ('data/Scottish/p237/p237_184_mic1.flac',) ('data/Irish/p283/p283_131_mic1.flac',) ('p284',) ('p237',) ('p284',) ('Scottish',) ('Irish',)\n",
      "('data/American/p299/p299_158_mic1.flac',) ('data/American/p299/p299_220_mic1.flac',) ('data/American/p300/p300_336_mic2.flac',) ('data/Irish/p245/p245_295_mic1.flac',) ('p299',) ('p300',) ('p299',) ('American',) ('Irish',)\n",
      "('data/Irish/p295/p295_409_mic2.flac',) ('data/Irish/p295/p295_045_mic2.flac',) ('data/Irish/p245/p245_223_mic2.flac',) ('data/Scottish/p237/p237_143_mic1.flac',) ('p295',) ('p245',) ('p295',) ('Irish',) ('Scottish',)\n",
      "('data/American/p300/p300_359_mic2.flac',) ('data/American/p300/p300_102_mic2.flac',) ('data/American/p299/p299_087_mic1.flac',) ('data/Scottish/p237/p237_139_mic2.flac',) ('p300',) ('p299',) ('p300',) ('American',) ('Scottish',)\n",
      "('data/Scottish/p249/p249_069_mic1.flac',) ('data/Scottish/p249/p249_231_mic2.flac',) ('data/Scottish/p284/p284_295_mic1.flac',) ('data/Irish/p245/p245_215_mic2.flac',) ('p249',) ('p284',) ('p249',) ('Scottish',) ('Irish',)\n",
      "('data/Scottish/p237/p237_134_mic1.flac',) ('data/Scottish/p237/p237_340_mic2.flac',) ('data/Scottish/p249/p249_281_mic1.flac',) ('data/American/p299/p299_297_mic2.flac',) ('p237',) ('p249',) ('p237',) ('Scottish',) ('American',)\n",
      "('data/Indian/p376/p376_038_mic1.flac',) ('data/Indian/p376/p376_362_mic2.flac',) ('data/Indian/p251/p251_267_mic1.flac',) ('data/Irish/p295/p295_308_mic1.flac',) ('p376',) ('p251',) ('p376',) ('Indian',) ('Irish',)\n",
      "('data/Indian/p248/p248_116_mic2.flac',) ('data/Indian/p248/p248_267_mic2.flac',) ('data/Indian/p251/p251_328_mic1.flac',) ('data/Irish/p295/p295_387_mic1.flac',) ('p248',) ('p251',) ('p248',) ('Indian',) ('Irish',)\n",
      "('data/Scottish/p284/p284_147_mic1.flac',) ('data/Scottish/p284/p284_216_mic2.flac',) ('data/Scottish/p249/p249_176_mic1.flac',) ('data/American/p300/p300_116_mic1.flac',) ('p284',) ('p249',) ('p284',) ('Scottish',) ('American',)\n",
      "('data/Irish/p295/p295_261_mic2.flac',) ('data/Irish/p295/p295_041_mic1.flac',) ('data/Irish/p298/p298_017_mic1.flac',) ('data/American/p301/p301_089_mic1.flac',) ('p295',) ('p298',) ('p295',) ('Irish',) ('American',)\n",
      "('data/American/p300/p300_075_mic1.flac',) ('data/American/p300/p300_378_mic2.flac',) ('data/American/p299/p299_162_mic1.flac',) ('data/Irish/p298/p298_015_mic2.flac',) ('p300',) ('p299',) ('p300',) ('American',) ('Irish',)\n",
      "('data/Indian/p376/p376_104_mic1.flac',) ('data/Indian/p376/p376_033_mic2.flac',) ('data/Indian/p248/p248_365_mic1.flac',) ('data/American/p300/p300_357_mic1.flac',) ('p376',) ('p248',) ('p376',) ('Indian',) ('American',)\n",
      "('data/Indian/p248/p248_071_mic2.flac',) ('data/Indian/p248/p248_226_mic2.flac',) ('data/Indian/p376/p376_325_mic2.flac',) ('data/American/p301/p301_364_mic2.flac',) ('p248',) ('p376',) ('p248',) ('Indian',) ('American',)\n",
      "('data/Scottish/p234/p234_224_mic1.flac',) ('data/Scottish/p234/p234_086_mic1.flac',) ('data/Scottish/p249/p249_136_mic1.flac',) ('data/American/p300/p300_234_mic2.flac',) ('p234',) ('p249',) ('p234',) ('Scottish',) ('American',)\n",
      "('data/American/p300/p300_259_mic1.flac',) ('data/American/p300/p300_378_mic2.flac',) ('data/American/p301/p301_258_mic2.flac',) ('data/Indian/p248/p248_088_mic2.flac',) ('p300',) ('p301',) ('p300',) ('American',) ('Indian',)\n",
      "('data/Indian/p251/p251_321_mic2.flac',) ('data/Indian/p251/p251_212_mic2.flac',) ('data/Indian/p248/p248_027_mic2.flac',) ('data/American/p300/p300_323_mic2.flac',) ('p251',) ('p248',) ('p251',) ('Indian',) ('American',)\n",
      "('data/Irish/p298/p298_387_mic2.flac',) ('data/Irish/p298/p298_340_mic2.flac',) ('data/Irish/p283/p283_161_mic1.flac',) ('data/Indian/p251/p251_091_mic1.flac',) ('p298',) ('p283',) ('p298',) ('Irish',) ('Indian',)\n",
      "('data/Scottish/p284/p284_146_mic2.flac',) ('data/Scottish/p284/p284_046_mic2.flac',) ('data/Scottish/p237/p237_309_mic2.flac',) ('data/American/p299/p299_122_mic1.flac',) ('p284',) ('p237',) ('p284',) ('Scottish',) ('American',)\n",
      "('data/Indian/p248/p248_355_mic2.flac',) ('data/Indian/p248/p248_007_mic2.flac',) ('data/Indian/p376/p376_400_mic1.flac',) ('data/American/p301/p301_064_mic1.flac',) ('p248',) ('p376',) ('p248',) ('Indian',) ('American',)\n",
      "('data/American/p299/p299_242_mic2.flac',) ('data/American/p299/p299_322_mic2.flac',) ('data/American/p300/p300_275_mic1.flac',) ('data/Indian/p376/p376_101_mic2.flac',) ('p299',) ('p300',) ('p299',) ('American',) ('Indian',)\n",
      "('data/Irish/p298/p298_045_mic2.flac',) ('data/Irish/p298/p298_135_mic2.flac',) ('data/Irish/p283/p283_049_mic2.flac',) ('data/American/p299/p299_229_mic1.flac',) ('p298',) ('p283',) ('p298',) ('Irish',) ('American',)\n",
      "('data/Scottish/p284/p284_258_mic2.flac',) ('data/Scottish/p284/p284_279_mic1.flac',) ('data/Scottish/p237/p237_344_mic2.flac',) ('data/Irish/p283/p283_441_mic2.flac',) ('p284',) ('p237',) ('p284',) ('Scottish',) ('Irish',)\n",
      "('data/Scottish/p284/p284_081_mic1.flac',) ('data/Scottish/p284/p284_415_mic1.flac',) ('data/Scottish/p237/p237_242_mic2.flac',) ('data/Indian/p376/p376_383_mic1.flac',) ('p284',) ('p237',) ('p284',) ('Scottish',) ('Indian',)\n",
      "('data/Indian/p376/p376_279_mic1.flac',) ('data/Indian/p376/p376_313_mic1.flac',) ('data/Indian/p251/p251_054_mic2.flac',) ('data/American/p301/p301_386_mic2.flac',) ('p376',) ('p251',) ('p376',) ('Indian',) ('American',)\n",
      "('data/Irish/p283/p283_217_mic1.flac',) ('data/Irish/p283/p283_275_mic2.flac',) ('data/Irish/p295/p295_291_mic2.flac',) ('data/Indian/p251/p251_274_mic1.flac',) ('p283',) ('p295',) ('p283',) ('Irish',) ('Indian',)\n",
      "('data/Scottish/p234/p234_296_mic2.flac',) ('data/Scottish/p234/p234_244_mic2.flac',) ('data/Scottish/p249/p249_023_mic1.flac',) ('data/Indian/p248/p248_029_mic2.flac',) ('p234',) ('p249',) ('p234',) ('Scottish',) ('Indian',)\n",
      "('data/Irish/p298/p298_217_mic1.flac',) ('data/Irish/p298/p298_357_mic1.flac',) ('data/Irish/p245/p245_284_mic2.flac',) ('data/Scottish/p237/p237_064_mic1.flac',) ('p298',) ('p245',) ('p298',) ('Irish',) ('Scottish',)\n",
      "('data/Indian/p376/p376_221_mic2.flac',) ('data/Indian/p376/p376_194_mic1.flac',) ('data/Indian/p251/p251_250_mic2.flac',) ('data/Scottish/p237/p237_181_mic1.flac',) ('p376',) ('p251',) ('p376',) ('Indian',) ('Scottish',)\n",
      "('data/Scottish/p249/p249_277_mic2.flac',) ('data/Scottish/p249/p249_146_mic1.flac',) ('data/Scottish/p234/p234_355_mic1.flac',) ('data/American/p300/p300_051_mic1.flac',) ('p249',) ('p234',) ('p249',) ('Scottish',) ('American',)\n",
      "('data/Irish/p283/p283_005_mic1.flac',) ('data/Irish/p283/p283_253_mic2.flac',) ('data/Irish/p298/p298_223_mic2.flac',) ('data/American/p300/p300_150_mic2.flac',) ('p283',) ('p298',) ('p283',) ('Irish',) ('American',)\n",
      "('data/Irish/p245/p245_274_mic2.flac',) ('data/Irish/p245/p245_186_mic1.flac',) ('data/Irish/p283/p283_009_mic2.flac',) ('data/Indian/p251/p251_088_mic1.flac',) ('p245',) ('p283',) ('p245',) ('Irish',) ('Indian',)\n",
      "('data/Scottish/p234/p234_116_mic2.flac',) ('data/Scottish/p234/p234_340_mic2.flac',) ('data/Scottish/p249/p249_094_mic1.flac',) ('data/Irish/p298/p298_330_mic2.flac',) ('p234',) ('p249',) ('p234',) ('Scottish',) ('Irish',)\n",
      "('data/Indian/p376/p376_375_mic1.flac',) ('data/Indian/p376/p376_121_mic1.flac',) ('data/Indian/p251/p251_177_mic2.flac',) ('data/American/p300/p300_284_mic1.flac',) ('p376',) ('p251',) ('p376',) ('Indian',) ('American',)\n",
      "('data/Scottish/p284/p284_050_mic1.flac',) ('data/Scottish/p284/p284_250_mic1.flac',) ('data/Scottish/p237/p237_043_mic2.flac',) ('data/Irish/p245/p245_276_mic1.flac',) ('p284',) ('p237',) ('p284',) ('Scottish',) ('Irish',)\n",
      "('data/American/p299/p299_303_mic1.flac',) ('data/American/p299/p299_362_mic1.flac',) ('data/American/p300/p300_223_mic2.flac',) ('data/Indian/p251/p251_187_mic2.flac',) ('p299',) ('p300',) ('p299',) ('American',) ('Indian',)\n",
      "('data/Indian/p248/p248_155_mic1.flac',) ('data/Indian/p248/p248_150_mic1.flac',) ('data/Indian/p251/p251_090_mic2.flac',) ('data/Scottish/p284/p284_091_mic1.flac',) ('p248',) ('p251',) ('p248',) ('Indian',) ('Scottish',)\n",
      "('data/Indian/p248/p248_330_mic1.flac',) ('data/Indian/p248/p248_190_mic1.flac',) ('data/Indian/p251/p251_279_mic2.flac',) ('data/American/p299/p299_132_mic2.flac',) ('p248',) ('p251',) ('p248',) ('Indian',) ('American',)\n",
      "('data/American/p299/p299_317_mic1.flac',) ('data/American/p299/p299_196_mic1.flac',) ('data/American/p301/p301_341_mic2.flac',) ('data/Irish/p245/p245_063_mic2.flac',) ('p299',) ('p301',) ('p299',) ('American',) ('Irish',)\n",
      "('data/Irish/p245/p245_138_mic2.flac',) ('data/Irish/p245/p245_140_mic1.flac',) ('data/Irish/p283/p283_160_mic1.flac',) ('data/American/p301/p301_169_mic1.flac',) ('p245',) ('p283',) ('p245',) ('Irish',) ('American',)\n",
      "('data/Irish/p245/p245_032_mic2.flac',) ('data/Irish/p245/p245_188_mic1.flac',) ('data/Irish/p283/p283_153_mic1.flac',) ('data/Scottish/p284/p284_137_mic1.flac',) ('p245',) ('p283',) ('p245',) ('Irish',) ('Scottish',)\n",
      "('data/Scottish/p249/p249_131_mic2.flac',) ('data/Scottish/p249/p249_083_mic2.flac',) ('data/Scottish/p234/p234_194_mic2.flac',) ('data/Indian/p251/p251_059_mic2.flac',) ('p249',) ('p234',) ('p249',) ('Scottish',) ('Indian',)\n",
      "('data/Indian/p376/p376_409_mic1.flac',) ('data/Indian/p376/p376_195_mic2.flac',) ('data/Indian/p248/p248_171_mic2.flac',) ('data/American/p301/p301_248_mic2.flac',) ('p376',) ('p248',) ('p376',) ('Indian',) ('American',)\n",
      "('data/Indian/p248/p248_075_mic1.flac',) ('data/Indian/p248/p248_233_mic1.flac',) ('data/Indian/p251/p251_122_mic1.flac',) ('data/American/p300/p300_252_mic2.flac',) ('p248',) ('p251',) ('p248',) ('Indian',) ('American',)\n",
      "('data/Scottish/p237/p237_013_mic2.flac',) ('data/Scottish/p237/p237_100_mic2.flac',) ('data/Scottish/p249/p249_020_mic1.flac',) ('data/Indian/p376/p376_237_mic1.flac',) ('p237',) ('p249',) ('p237',) ('Scottish',) ('Indian',)\n",
      "('data/Scottish/p249/p249_203_mic2.flac',) ('data/Scottish/p249/p249_114_mic1.flac',) ('data/Scottish/p284/p284_202_mic1.flac',) ('data/American/p301/p301_401_mic1.flac',) ('p249',) ('p284',) ('p249',) ('Scottish',) ('American',)\n",
      "('data/Indian/p376/p376_250_mic1.flac',) ('data/Indian/p376/p376_371_mic1.flac',) ('data/Indian/p251/p251_032_mic2.flac',) ('data/Scottish/p234/p234_357_mic1.flac',) ('p376',) ('p251',) ('p376',) ('Indian',) ('Scottish',)\n",
      "('data/American/p300/p300_234_mic2.flac',) ('data/American/p300/p300_082_mic2.flac',) ('data/American/p299/p299_387_mic1.flac',) ('data/Irish/p283/p283_460_mic2.flac',) ('p300',) ('p299',) ('p300',) ('American',) ('Irish',)\n",
      "('data/Indian/p248/p248_216_mic2.flac',) ('data/Indian/p248/p248_303_mic1.flac',) ('data/Indian/p376/p376_227_mic1.flac',) ('data/Irish/p295/p295_343_mic2.flac',) ('p248',) ('p376',) ('p248',) ('Indian',) ('Irish',)\n",
      "('data/American/p300/p300_395_mic1.flac',) ('data/American/p300/p300_068_mic2.flac',) ('data/American/p299/p299_278_mic1.flac',) ('data/Irish/p245/p245_119_mic2.flac',) ('p300',) ('p299',) ('p300',) ('American',) ('Irish',)\n",
      "('data/Irish/p298/p298_129_mic2.flac',) ('data/Irish/p298/p298_240_mic2.flac',) ('data/Irish/p283/p283_386_mic1.flac',) ('data/Scottish/p237/p237_227_mic1.flac',) ('p298',) ('p283',) ('p298',) ('Irish',) ('Scottish',)\n",
      "('data/American/p300/p300_351_mic2.flac',) ('data/American/p300/p300_163_mic1.flac',) ('data/American/p301/p301_303_mic2.flac',) ('data/Irish/p298/p298_238_mic1.flac',) ('p300',) ('p301',) ('p300',) ('American',) ('Irish',)\n",
      "('data/American/p301/p301_044_mic1.flac',) ('data/American/p301/p301_069_mic1.flac',) ('data/American/p300/p300_226_mic1.flac',) ('data/Scottish/p249/p249_293_mic2.flac',) ('p301',) ('p300',) ('p301',) ('American',) ('Scottish',)\n"
     ]
    },
    {
     "name": "stdout",
     "output_type": "stream",
     "text": [
      "('data/American/p301/p301_188_mic1.flac',) ('data/American/p301/p301_188_mic2.flac',) ('data/American/p300/p300_141_mic2.flac',) ('data/Scottish/p249/p249_332_mic2.flac',) ('p301',) ('p300',) ('p301',) ('American',) ('Scottish',)\n",
      "('data/Indian/p248/p248_285_mic2.flac',) ('data/Indian/p248/p248_085_mic1.flac',) ('data/Indian/p376/p376_214_mic2.flac',) ('data/Irish/p283/p283_247_mic1.flac',) ('p248',) ('p376',) ('p248',) ('Indian',) ('Irish',)\n",
      "('data/American/p301/p301_079_mic2.flac',) ('data/American/p301/p301_291_mic1.flac',) ('data/American/p299/p299_256_mic1.flac',) ('data/Indian/p376/p376_203_mic1.flac',) ('p301',) ('p299',) ('p301',) ('American',) ('Indian',)\n",
      "('data/Irish/p283/p283_103_mic1.flac',) ('data/Irish/p283/p283_099_mic1.flac',) ('data/Irish/p245/p245_041_mic1.flac',) ('data/Indian/p248/p248_006_mic1.flac',) ('p283',) ('p245',) ('p283',) ('Irish',) ('Indian',)\n",
      "('data/Indian/p376/p376_071_mic2.flac',) ('data/Indian/p376/p376_141_mic2.flac',) ('data/Indian/p248/p248_003_mic2.flac',) ('data/American/p299/p299_161_mic2.flac',) ('p376',) ('p248',) ('p376',) ('Indian',) ('American',)\n",
      "('data/Irish/p295/p295_238_mic2.flac',) ('data/Irish/p295/p295_028_mic2.flac',) ('data/Irish/p298/p298_372_mic1.flac',) ('data/Indian/p376/p376_254_mic1.flac',) ('p295',) ('p298',) ('p295',) ('Irish',) ('Indian',)\n",
      "('data/American/p299/p299_338_mic1.flac',) ('data/American/p299/p299_117_mic1.flac',) ('data/American/p300/p300_070_mic1.flac',) ('data/Scottish/p249/p249_034_mic2.flac',) ('p299',) ('p300',) ('p299',) ('American',) ('Scottish',)\n",
      "('data/Indian/p248/p248_285_mic1.flac',) ('data/Indian/p248/p248_134_mic1.flac',) ('data/Indian/p376/p376_264_mic2.flac',) ('data/Scottish/p234/p234_201_mic2.flac',) ('p248',) ('p376',) ('p248',) ('Indian',) ('Scottish',)\n",
      "('data/Scottish/p284/p284_168_mic2.flac',) ('data/Scottish/p284/p284_350_mic1.flac',) ('data/Scottish/p237/p237_333_mic1.flac',) ('data/American/p301/p301_379_mic2.flac',) ('p284',) ('p237',) ('p284',) ('Scottish',) ('American',)\n",
      "('data/Indian/p251/p251_319_mic2.flac',) ('data/Indian/p251/p251_175_mic1.flac',) ('data/Indian/p376/p376_030_mic2.flac',) ('data/Irish/p283/p283_087_mic2.flac',) ('p251',) ('p376',) ('p251',) ('Indian',) ('Irish',)\n",
      "('data/Irish/p295/p295_081_mic2.flac',) ('data/Irish/p295/p295_163_mic2.flac',) ('data/Irish/p283/p283_009_mic2.flac',) ('data/American/p299/p299_173_mic1.flac',) ('p295',) ('p283',) ('p295',) ('Irish',) ('American',)\n",
      "('data/Irish/p283/p283_407_mic2.flac',) ('data/Irish/p283/p283_080_mic2.flac',) ('data/Irish/p245/p245_315_mic1.flac',) ('data/Scottish/p284/p284_301_mic1.flac',) ('p283',) ('p245',) ('p283',) ('Irish',) ('Scottish',)\n",
      "('data/Irish/p283/p283_436_mic2.flac',) ('data/Irish/p283/p283_323_mic1.flac',) ('data/Irish/p245/p245_280_mic2.flac',) ('data/Indian/p376/p376_413_mic2.flac',) ('p283',) ('p245',) ('p283',) ('Irish',) ('Indian',)\n",
      "('data/Irish/p283/p283_031_mic2.flac',) ('data/Irish/p283/p283_028_mic1.flac',) ('data/Irish/p295/p295_031_mic2.flac',) ('data/Scottish/p249/p249_059_mic1.flac',) ('p283',) ('p295',) ('p283',) ('Irish',) ('Scottish',)\n",
      "('data/American/p299/p299_206_mic2.flac',) ('data/American/p299/p299_392_mic2.flac',) ('data/American/p301/p301_230_mic2.flac',) ('data/Indian/p248/p248_063_mic1.flac',) ('p299',) ('p301',) ('p299',) ('American',) ('Indian',)\n",
      "('data/American/p300/p300_002_mic2.flac',) ('data/American/p300/p300_029_mic2.flac',) ('data/American/p299/p299_128_mic2.flac',) ('data/Irish/p295/p295_115_mic1.flac',) ('p300',) ('p299',) ('p300',) ('American',) ('Irish',)\n",
      "('data/Indian/p376/p376_264_mic2.flac',) ('data/Indian/p376/p376_036_mic1.flac',) ('data/Indian/p251/p251_313_mic1.flac',) ('data/Scottish/p237/p237_135_mic1.flac',) ('p376',) ('p251',) ('p376',) ('Indian',) ('Scottish',)\n",
      "('data/American/p300/p300_348_mic2.flac',) ('data/American/p300/p300_256_mic2.flac',) ('data/American/p301/p301_168_mic2.flac',) ('data/Scottish/p284/p284_387_mic1.flac',) ('p300',) ('p301',) ('p300',) ('American',) ('Scottish',)\n",
      "('data/American/p301/p301_178_mic1.flac',) ('data/American/p301/p301_148_mic2.flac',) ('data/American/p299/p299_261_mic2.flac',) ('data/Irish/p245/p245_273_mic2.flac',) ('p301',) ('p299',) ('p301',) ('American',) ('Irish',)\n",
      "('data/American/p301/p301_297_mic1.flac',) ('data/American/p301/p301_269_mic1.flac',) ('data/American/p299/p299_165_mic2.flac',) ('data/Scottish/p284/p284_381_mic2.flac',) ('p301',) ('p299',) ('p301',) ('American',) ('Scottish',)\n",
      "('data/Scottish/p249/p249_246_mic2.flac',) ('data/Scottish/p249/p249_336_mic2.flac',) ('data/Scottish/p284/p284_229_mic2.flac',) ('data/Irish/p245/p245_212_mic2.flac',) ('p249',) ('p284',) ('p249',) ('Scottish',) ('Irish',)\n",
      "('data/Indian/p376/p376_261_mic2.flac',) ('data/Indian/p376/p376_193_mic1.flac',) ('data/Indian/p248/p248_132_mic1.flac',) ('data/Irish/p245/p245_206_mic2.flac',) ('p376',) ('p248',) ('p376',) ('Indian',) ('Irish',)\n",
      "('data/American/p299/p299_138_mic1.flac',) ('data/American/p299/p299_174_mic1.flac',) ('data/American/p300/p300_006_mic2.flac',) ('data/Indian/p251/p251_184_mic2.flac',) ('p299',) ('p300',) ('p299',) ('American',) ('Indian',)\n",
      "('data/Indian/p376/p376_295_mic1.flac',) ('data/Indian/p376/p376_107_mic1.flac',) ('data/Indian/p248/p248_021_mic1.flac',) ('data/American/p300/p300_075_mic1.flac',) ('p376',) ('p248',) ('p376',) ('Indian',) ('American',)\n",
      "('data/American/p300/p300_369_mic1.flac',) ('data/American/p300/p300_231_mic2.flac',) ('data/American/p299/p299_033_mic2.flac',) ('data/Scottish/p284/p284_194_mic1.flac',) ('p300',) ('p299',) ('p300',) ('American',) ('Scottish',)\n",
      "('data/Irish/p295/p295_253_mic2.flac',) ('data/Irish/p295/p295_363_mic1.flac',) ('data/Irish/p298/p298_185_mic1.flac',) ('data/American/p301/p301_007_mic1.flac',) ('p295',) ('p298',) ('p295',) ('Irish',) ('American',)\n",
      "('data/American/p300/p300_063_mic1.flac',) ('data/American/p300/p300_114_mic2.flac',) ('data/American/p299/p299_392_mic2.flac',) ('data/Scottish/p237/p237_118_mic1.flac',) ('p300',) ('p299',) ('p300',) ('American',) ('Scottish',)\n",
      "('data/American/p299/p299_311_mic1.flac',) ('data/American/p299/p299_327_mic2.flac',) ('data/American/p301/p301_115_mic2.flac',) ('data/Irish/p298/p298_223_mic2.flac',) ('p299',) ('p301',) ('p299',) ('American',) ('Irish',)\n",
      "('data/Indian/p251/p251_164_mic2.flac',) ('data/Indian/p251/p251_128_mic2.flac',) ('data/Indian/p248/p248_289_mic1.flac',) ('data/Scottish/p234/p234_328_mic1.flac',) ('p251',) ('p248',) ('p251',) ('Indian',) ('Scottish',)\n",
      "('data/Irish/p283/p283_288_mic2.flac',) ('data/Irish/p283/p283_006_mic2.flac',) ('data/Irish/p295/p295_248_mic1.flac',) ('data/Scottish/p249/p249_315_mic2.flac',) ('p283',) ('p295',) ('p283',) ('Irish',) ('Scottish',)\n",
      "('data/Irish/p283/p283_025_mic1.flac',) ('data/Irish/p283/p283_165_mic2.flac',) ('data/Irish/p245/p245_016_mic2.flac',) ('data/Scottish/p234/p234_031_mic1.flac',) ('p283',) ('p245',) ('p283',) ('Irish',) ('Scottish',)\n",
      "('data/Indian/p248/p248_364_mic1.flac',) ('data/Indian/p248/p248_192_mic2.flac',) ('data/Indian/p251/p251_306_mic2.flac',) ('data/Irish/p245/p245_007_mic1.flac',) ('p248',) ('p251',) ('p248',) ('Indian',) ('Irish',)\n",
      "('data/Scottish/p249/p249_262_mic1.flac',) ('data/Scottish/p249/p249_170_mic2.flac',) ('data/Scottish/p234/p234_005_mic2.flac',) ('data/Irish/p283/p283_348_mic1.flac',) ('p249',) ('p234',) ('p249',) ('Scottish',) ('Irish',)\n",
      "('data/Irish/p245/p245_164_mic1.flac',) ('data/Irish/p245/p245_063_mic2.flac',) ('data/Irish/p283/p283_267_mic1.flac',) ('data/Indian/p248/p248_033_mic1.flac',) ('p245',) ('p283',) ('p245',) ('Irish',) ('Indian',)\n",
      "('data/American/p300/p300_085_mic1.flac',) ('data/American/p300/p300_048_mic1.flac',) ('data/American/p299/p299_133_mic1.flac',) ('data/Scottish/p234/p234_263_mic2.flac',) ('p300',) ('p299',) ('p300',) ('American',) ('Scottish',)\n",
      "('data/Indian/p251/p251_141_mic2.flac',) ('data/Indian/p251/p251_279_mic1.flac',) ('data/Indian/p248/p248_302_mic2.flac',) ('data/American/p301/p301_055_mic2.flac',) ('p251',) ('p248',) ('p251',) ('Indian',) ('American',)\n",
      "('data/American/p299/p299_251_mic2.flac',) ('data/American/p299/p299_388_mic2.flac',) ('data/American/p301/p301_352_mic1.flac',) ('data/Scottish/p249/p249_121_mic2.flac',) ('p299',) ('p301',) ('p299',) ('American',) ('Scottish',)\n",
      "('data/Scottish/p249/p249_200_mic2.flac',) ('data/Scottish/p249/p249_326_mic2.flac',) ('data/Scottish/p284/p284_046_mic1.flac',) ('data/American/p299/p299_294_mic2.flac',) ('p249',) ('p284',) ('p249',) ('Scottish',) ('American',)\n",
      "('data/American/p300/p300_379_mic2.flac',) ('data/American/p300/p300_133_mic2.flac',) ('data/American/p301/p301_353_mic2.flac',) ('data/Irish/p295/p295_084_mic1.flac',) ('p300',) ('p301',) ('p300',) ('American',) ('Irish',)\n",
      "('data/American/p299/p299_171_mic1.flac',) ('data/American/p299/p299_148_mic2.flac',) ('data/American/p301/p301_125_mic2.flac',) ('data/Irish/p283/p283_217_mic1.flac',) ('p299',) ('p301',) ('p299',) ('American',) ('Irish',)\n",
      "('data/Indian/p251/p251_200_mic2.flac',) ('data/Indian/p251/p251_272_mic1.flac',) ('data/Indian/p376/p376_145_mic2.flac',) ('data/American/p300/p300_293_mic1.flac',) ('p251',) ('p376',) ('p251',) ('Indian',) ('American',)\n",
      "('data/Irish/p283/p283_203_mic1.flac',) ('data/Irish/p283/p283_013_mic1.flac',) ('data/Irish/p295/p295_269_mic1.flac',) ('data/Scottish/p237/p237_253_mic2.flac',) ('p283',) ('p295',) ('p283',) ('Irish',) ('Scottish',)\n",
      "('data/Irish/p245/p245_122_mic2.flac',) ('data/Irish/p245/p245_063_mic2.flac',) ('data/Irish/p283/p283_099_mic1.flac',) ('data/Scottish/p249/p249_041_mic2.flac',) ('p245',) ('p283',) ('p245',) ('Irish',) ('Scottish',)\n",
      "('data/American/p300/p300_267_mic2.flac',) ('data/American/p300/p300_193_mic1.flac',) ('data/American/p299/p299_129_mic2.flac',) ('data/Irish/p283/p283_024_mic2.flac',) ('p300',) ('p299',) ('p300',) ('American',) ('Irish',)\n",
      "('data/American/p300/p300_291_mic1.flac',) ('data/American/p300/p300_187_mic1.flac',) ('data/American/p299/p299_208_mic2.flac',) ('data/Irish/p298/p298_016_mic1.flac',) ('p300',) ('p299',) ('p300',) ('American',) ('Irish',)\n",
      "('data/Indian/p248/p248_370_mic1.flac',) ('data/Indian/p248/p248_369_mic2.flac',) ('data/Indian/p251/p251_058_mic1.flac',) ('data/American/p300/p300_333_mic2.flac',) ('p248',) ('p251',) ('p248',) ('Indian',) ('American',)\n",
      "('data/Irish/p295/p295_283_mic2.flac',) ('data/Irish/p295/p295_240_mic1.flac',) ('data/Irish/p245/p245_233_mic1.flac',) ('data/American/p300/p300_032_mic2.flac',) ('p295',) ('p245',) ('p295',) ('Irish',) ('American',)\n",
      "('data/Scottish/p237/p237_233_mic1.flac',) ('data/Scottish/p237/p237_048_mic2.flac',) ('data/Scottish/p284/p284_175_mic2.flac',) ('data/American/p300/p300_225_mic2.flac',) ('p237',) ('p284',) ('p237',) ('Scottish',) ('American',)\n",
      "('data/American/p300/p300_119_mic1.flac',) ('data/American/p300/p300_360_mic2.flac',) ('data/American/p299/p299_184_mic1.flac',) ('data/Irish/p283/p283_379_mic1.flac',) ('p300',) ('p299',) ('p300',) ('American',) ('Irish',)\n",
      "('data/Irish/p245/p245_184_mic2.flac',) ('data/Irish/p245/p245_222_mic1.flac',) ('data/Irish/p283/p283_248_mic2.flac',) ('data/Scottish/p249/p249_312_mic1.flac',) ('p245',) ('p283',) ('p245',) ('Irish',) ('Scottish',)\n",
      "('data/American/p301/p301_269_mic2.flac',) ('data/American/p301/p301_086_mic2.flac',) ('data/American/p300/p300_088_mic2.flac',) ('data/Indian/p248/p248_210_mic1.flac',) ('p301',) ('p300',) ('p301',) ('American',) ('Indian',)\n",
      "('data/American/p299/p299_033_mic1.flac',) ('data/American/p299/p299_147_mic1.flac',) ('data/American/p300/p300_055_mic2.flac',) ('data/Scottish/p234/p234_088_mic2.flac',) ('p299',) ('p300',) ('p299',) ('American',) ('Scottish',)\n",
      "('data/Scottish/p237/p237_073_mic2.flac',) ('data/Scottish/p237/p237_079_mic1.flac',) ('data/Scottish/p284/p284_388_mic2.flac',) ('data/Indian/p248/p248_276_mic2.flac',) ('p237',) ('p284',) ('p237',) ('Scottish',) ('Indian',)\n",
      "('data/Irish/p245/p245_009_mic1.flac',) ('data/Irish/p245/p245_292_mic1.flac',) ('data/Irish/p298/p298_164_mic1.flac',) ('data/Indian/p248/p248_178_mic1.flac',) ('p245',) ('p298',) ('p245',) ('Irish',) ('Indian',)\n",
      "('data/Indian/p376/p376_016_mic1.flac',) ('data/Indian/p376/p376_077_mic2.flac',) ('data/Indian/p248/p248_327_mic2.flac',) ('data/American/p299/p299_070_mic1.flac',) ('p376',) ('p248',) ('p376',) ('Indian',) ('American',)\n",
      "('data/Scottish/p249/p249_273_mic2.flac',) ('data/Scottish/p249/p249_273_mic1.flac',) ('data/Scottish/p237/p237_124_mic2.flac',) ('data/Indian/p248/p248_053_mic2.flac',) ('p249',) ('p237',) ('p249',) ('Scottish',) ('Indian',)\n",
      "('data/Scottish/p284/p284_070_mic1.flac',) ('data/Scottish/p284/p284_008_mic1.flac',) ('data/Scottish/p234/p234_333_mic2.flac',) ('data/Irish/p298/p298_213_mic2.flac',) ('p284',) ('p234',) ('p284',) ('Scottish',) ('Irish',)\n",
      "('data/Irish/p245/p245_217_mic2.flac',) ('data/Irish/p245/p245_104_mic1.flac',) ('data/Irish/p295/p295_139_mic2.flac',) ('data/Indian/p376/p376_271_mic1.flac',) ('p245',) ('p295',) ('p245',) ('Irish',) ('Indian',)\n",
      "('data/Irish/p283/p283_271_mic1.flac',) ('data/Irish/p283/p283_173_mic2.flac',) ('data/Irish/p295/p295_071_mic1.flac',) ('data/American/p300/p300_267_mic1.flac',) ('p283',) ('p295',) ('p283',) ('Irish',) ('American',)\n",
      "('data/Irish/p283/p283_428_mic2.flac',) ('data/Irish/p283/p283_153_mic1.flac',) ('data/Irish/p298/p298_270_mic2.flac',) ('data/Scottish/p284/p284_360_mic1.flac',) ('p283',) ('p298',) ('p283',) ('Irish',) ('Scottish',)\n",
      "('data/Scottish/p284/p284_232_mic2.flac',) ('data/Scottish/p284/p284_085_mic2.flac',) ('data/Scottish/p237/p237_156_mic1.flac',) ('data/Irish/p283/p283_088_mic1.flac',) ('p284',) ('p237',) ('p284',) ('Scottish',) ('Irish',)\n",
      "('data/Irish/p245/p245_068_mic2.flac',) ('data/Irish/p245/p245_302_mic1.flac',) ('data/Irish/p298/p298_315_mic2.flac',) ('data/Indian/p251/p251_250_mic2.flac',) ('p245',) ('p298',) ('p245',) ('Irish',) ('Indian',)\n",
      "('data/Scottish/p284/p284_026_mic1.flac',) ('data/Scottish/p284/p284_278_mic1.flac',) ('data/Scottish/p234/p234_142_mic1.flac',) ('data/American/p299/p299_259_mic2.flac',) ('p284',) ('p234',) ('p284',) ('Scottish',) ('American',)\n",
      "('data/Indian/p251/p251_084_mic1.flac',) ('data/Indian/p251/p251_260_mic2.flac',) ('data/Indian/p376/p376_301_mic2.flac',) ('data/Irish/p245/p245_081_mic1.flac',) ('p251',) ('p376',) ('p251',) ('Indian',) ('Irish',)\n",
      "('data/Scottish/p234/p234_021_mic2.flac',) ('data/Scottish/p234/p234_274_mic2.flac',) ('data/Scottish/p249/p249_177_mic1.flac',) ('data/American/p301/p301_210_mic2.flac',) ('p234',) ('p249',) ('p234',) ('Scottish',) ('American',)\n",
      "('data/Irish/p298/p298_035_mic2.flac',) ('data/Irish/p298/p298_204_mic1.flac',) ('data/Irish/p245/p245_225_mic1.flac',) ('data/American/p299/p299_353_mic2.flac',) ('p298',) ('p245',) ('p298',) ('Irish',) ('American',)\n",
      "('data/Scottish/p237/p237_294_mic1.flac',) ('data/Scottish/p237/p237_239_mic1.flac',) ('data/Scottish/p284/p284_204_mic1.flac',) ('data/Indian/p248/p248_044_mic2.flac',) ('p237',) ('p284',) ('p237',) ('Scottish',) ('Indian',)\n",
      "('data/Scottish/p249/p249_109_mic1.flac',) ('data/Scottish/p249/p249_253_mic1.flac',) ('data/Scottish/p284/p284_358_mic2.flac',) ('data/Indian/p251/p251_248_mic1.flac',) ('p249',) ('p284',) ('p249',) ('Scottish',) ('Indian',)\n",
      "('data/Indian/p248/p248_220_mic1.flac',) ('data/Indian/p248/p248_027_mic1.flac',) ('data/Indian/p251/p251_330_mic1.flac',) ('data/American/p299/p299_301_mic2.flac',) ('p248',) ('p251',) ('p248',) ('Indian',) ('American',)\n",
      "('data/Irish/p245/p245_122_mic1.flac',) ('data/Irish/p245/p245_235_mic2.flac',) ('data/Irish/p298/p298_201_mic1.flac',) ('data/Scottish/p249/p249_245_mic2.flac',) ('p245',) ('p298',) ('p245',) ('Irish',) ('Scottish',)\n",
      "('data/Scottish/p234/p234_114_mic1.flac',) ('data/Scottish/p234/p234_049_mic1.flac',) ('data/Scottish/p237/p237_218_mic2.flac',) ('data/Indian/p251/p251_315_mic2.flac',) ('p234',) ('p237',) ('p234',) ('Scottish',) ('Indian',)\n",
      "('data/Indian/p248/p248_319_mic1.flac',) ('data/Indian/p248/p248_218_mic1.flac',) ('data/Indian/p376/p376_051_mic2.flac',) ('data/Scottish/p249/p249_257_mic1.flac',) ('p248',) ('p376',) ('p248',) ('Indian',) ('Scottish',)\n",
      "('data/American/p299/p299_009_mic2.flac',) ('data/American/p299/p299_370_mic2.flac',) ('data/American/p301/p301_229_mic2.flac',) ('data/Indian/p251/p251_330_mic2.flac',) ('p299',) ('p301',) ('p299',) ('American',) ('Indian',)\n",
      "('data/Indian/p248/p248_253_mic1.flac',) ('data/Indian/p248/p248_271_mic1.flac',) ('data/Indian/p376/p376_243_mic2.flac',) ('data/Scottish/p249/p249_108_mic2.flac',) ('p248',) ('p376',) ('p248',) ('Indian',) ('Scottish',)\n",
      "('data/Indian/p248/p248_227_mic1.flac',) ('data/Indian/p248/p248_348_mic2.flac',) ('data/Indian/p376/p376_013_mic1.flac',) ('data/American/p301/p301_253_mic2.flac',) ('p248',) ('p376',) ('p248',) ('Indian',) ('American',)\n",
      "('data/Scottish/p284/p284_135_mic1.flac',) ('data/Scottish/p284/p284_254_mic2.flac',) ('data/Scottish/p249/p249_074_mic1.flac',) ('data/American/p300/p300_130_mic1.flac',) ('p284',) ('p249',) ('p284',) ('Scottish',) ('American',)\n",
      "('data/Irish/p283/p283_336_mic1.flac',) ('data/Irish/p283/p283_351_mic2.flac',) ('data/Irish/p245/p245_227_mic2.flac',) ('data/American/p300/p300_107_mic2.flac',) ('p283',) ('p245',) ('p283',) ('Irish',) ('American',)\n",
      "('data/Scottish/p284/p284_177_mic2.flac',) ('data/Scottish/p284/p284_068_mic1.flac',) ('data/Scottish/p249/p249_209_mic2.flac',) ('data/Indian/p376/p376_197_mic2.flac',) ('p284',) ('p249',) ('p284',) ('Scottish',) ('Indian',)\n",
      "('data/Indian/p248/p248_087_mic1.flac',) ('data/Indian/p248/p248_065_mic2.flac',) ('data/Indian/p376/p376_403_mic2.flac',) ('data/Irish/p283/p283_383_mic1.flac',) ('p248',) ('p376',) ('p248',) ('Indian',) ('Irish',)\n",
      "('data/Irish/p245/p245_268_mic2.flac',) ('data/Irish/p245/p245_343_mic1.flac',) ('data/Irish/p298/p298_092_mic1.flac',) ('data/American/p300/p300_017_mic1.flac',) ('p245',) ('p298',) ('p245',) ('Irish',) ('American',)\n",
      "('data/Indian/p251/p251_339_mic1.flac',) ('data/Indian/p251/p251_078_mic2.flac',) ('data/Indian/p376/p376_412_mic1.flac',) ('data/Irish/p283/p283_440_mic1.flac',) ('p251',) ('p376',) ('p251',) ('Indian',) ('Irish',)\n",
      "('data/American/p301/p301_033_mic2.flac',) ('data/American/p301/p301_217_mic2.flac',) ('data/American/p300/p300_157_mic1.flac',) ('data/Scottish/p249/p249_081_mic2.flac',) ('p301',) ('p300',) ('p301',) ('American',) ('Scottish',)\n",
      "('data/Scottish/p234/p234_037_mic1.flac',) ('data/Scottish/p234/p234_058_mic1.flac',) ('data/Scottish/p249/p249_343_mic1.flac',) ('data/American/p299/p299_118_mic2.flac',) ('p234',) ('p249',) ('p234',) ('Scottish',) ('American',)\n",
      "('data/Scottish/p237/p237_044_mic1.flac',) ('data/Scottish/p237/p237_337_mic1.flac',) ('data/Scottish/p234/p234_017_mic2.flac',) ('data/American/p301/p301_004_mic1.flac',) ('p237',) ('p234',) ('p237',) ('Scottish',) ('American',)\n",
      "('data/Indian/p251/p251_291_mic2.flac',) ('data/Indian/p251/p251_317_mic1.flac',) ('data/Indian/p376/p376_344_mic1.flac',) ('data/American/p299/p299_203_mic2.flac',) ('p251',) ('p376',) ('p251',) ('Indian',) ('American',)\n",
      "('data/Irish/p283/p283_164_mic2.flac',) ('data/Irish/p283/p283_331_mic2.flac',) ('data/Irish/p298/p298_122_mic2.flac',) ('data/Indian/p248/p248_127_mic2.flac',) ('p283',) ('p298',) ('p283',) ('Irish',) ('Indian',)\n",
      "('data/American/p300/p300_221_mic2.flac',) ('data/American/p300/p300_359_mic2.flac',) ('data/American/p299/p299_216_mic1.flac',) ('data/Indian/p251/p251_302_mic1.flac',) ('p300',) ('p299',) ('p300',) ('American',) ('Indian',)\n",
      "('data/American/p299/p299_224_mic2.flac',) ('data/American/p299/p299_148_mic2.flac',) ('data/American/p301/p301_122_mic2.flac',) ('data/Indian/p248/p248_059_mic1.flac',) ('p299',) ('p301',) ('p299',) ('American',) ('Indian',)\n",
      "('data/Indian/p248/p248_163_mic2.flac',) ('data/Indian/p248/p248_352_mic2.flac',) ('data/Indian/p251/p251_323_mic2.flac',) ('data/American/p300/p300_301_mic1.flac',) ('p248',) ('p251',) ('p248',) ('Indian',) ('American',)\n",
      "('data/American/p300/p300_238_mic2.flac',) ('data/American/p300/p300_270_mic2.flac',) ('data/American/p301/p301_198_mic2.flac',) ('data/Indian/p376/p376_198_mic2.flac',) ('p300',) ('p301',) ('p300',) ('American',) ('Indian',)\n",
      "('data/Scottish/p284/p284_167_mic1.flac',) ('data/Scottish/p284/p284_276_mic1.flac',) ('data/Scottish/p249/p249_061_mic2.flac',) ('data/Irish/p295/p295_235_mic1.flac',) ('p284',) ('p249',) ('p284',) ('Scottish',) ('Irish',)\n",
      "('data/American/p301/p301_050_mic2.flac',) ('data/American/p301/p301_145_mic1.flac',) ('data/American/p300/p300_130_mic1.flac',) ('data/Indian/p248/p248_013_mic1.flac',) ('p301',) ('p300',) ('p301',) ('American',) ('Indian',)\n",
      "('data/Indian/p248/p248_326_mic2.flac',) ('data/Indian/p248/p248_256_mic1.flac',) ('data/Indian/p251/p251_085_mic2.flac',) ('data/Scottish/p237/p237_292_mic2.flac',) ('p248',) ('p251',) ('p248',) ('Indian',) ('Scottish',)\n",
      "('data/American/p300/p300_307_mic1.flac',) ('data/American/p300/p300_199_mic2.flac',) ('data/American/p301/p301_005_mic2.flac',) ('data/Scottish/p237/p237_184_mic2.flac',) ('p300',) ('p301',) ('p300',) ('American',) ('Scottish',)\n",
      "('data/Scottish/p249/p249_214_mic1.flac',) ('data/Scottish/p249/p249_308_mic1.flac',) ('data/Scottish/p234/p234_261_mic1.flac',) ('data/American/p299/p299_267_mic1.flac',) ('p249',) ('p234',) ('p249',) ('Scottish',) ('American',)\n",
      "('data/Irish/p295/p295_183_mic1.flac',) ('data/Irish/p295/p295_410_mic1.flac',) ('data/Irish/p298/p298_218_mic1.flac',) ('data/Indian/p376/p376_178_mic1.flac',) ('p295',) ('p298',) ('p295',) ('Irish',) ('Indian',)\n",
      "('data/American/p301/p301_110_mic2.flac',) ('data/American/p301/p301_263_mic2.flac',) ('data/American/p299/p299_295_mic2.flac',) ('data/Irish/p298/p298_262_mic2.flac',) ('p301',) ('p299',) ('p301',) ('American',) ('Irish',)\n",
      "('data/Indian/p251/p251_147_mic1.flac',) ('data/Indian/p251/p251_362_mic1.flac',) ('data/Indian/p248/p248_186_mic1.flac',) ('data/American/p301/p301_172_mic2.flac',) ('p251',) ('p248',) ('p251',) ('Indian',) ('American',)\n",
      "('data/Indian/p248/p248_297_mic2.flac',) ('data/Indian/p248/p248_271_mic1.flac',) ('data/Indian/p376/p376_004_mic2.flac',) ('data/Scottish/p284/p284_255_mic2.flac',) ('p248',) ('p376',) ('p248',) ('Indian',) ('Scottish',)\n",
      "('data/Irish/p295/p295_316_mic2.flac',) ('data/Irish/p295/p295_253_mic2.flac',) ('data/Irish/p245/p245_240_mic2.flac',) ('data/American/p300/p300_320_mic1.flac',) ('p295',) ('p245',) ('p295',) ('Irish',) ('American',)\n",
      "('data/Irish/p283/p283_178_mic2.flac',) ('data/Irish/p283/p283_204_mic1.flac',) ('data/Irish/p295/p295_346_mic2.flac',) ('data/Scottish/p249/p249_062_mic1.flac',) ('p283',) ('p295',) ('p283',) ('Irish',) ('Scottish',)\n",
      "('data/American/p299/p299_085_mic1.flac',) ('data/American/p299/p299_314_mic1.flac',) ('data/American/p301/p301_221_mic1.flac',) ('data/Irish/p295/p295_232_mic2.flac',) ('p299',) ('p301',) ('p299',) ('American',) ('Irish',)\n",
      "('data/Indian/p376/p376_013_mic1.flac',) ('data/Indian/p376/p376_173_mic2.flac',) ('data/Indian/p251/p251_016_mic1.flac',) ('data/Irish/p295/p295_141_mic2.flac',) ('p376',) ('p251',) ('p376',) ('Indian',) ('Irish',)\n",
      "('data/Scottish/p237/p237_063_mic1.flac',) ('data/Scottish/p237/p237_219_mic1.flac',) ('data/Scottish/p234/p234_009_mic1.flac',) ('data/Irish/p295/p295_392_mic1.flac',) ('p237',) ('p234',) ('p237',) ('Scottish',) ('Irish',)\n",
      "('data/Indian/p251/p251_134_mic2.flac',) ('data/Indian/p251/p251_022_mic2.flac',) ('data/Indian/p376/p376_270_mic1.flac',) ('data/Irish/p245/p245_030_mic2.flac',) ('p251',) ('p376',) ('p251',) ('Indian',) ('Irish',)\n",
      "('data/Irish/p295/p295_393_mic2.flac',) ('data/Irish/p295/p295_381_mic1.flac',) ('data/Irish/p283/p283_004_mic2.flac',) ('data/American/p301/p301_247_mic1.flac',) ('p295',) ('p283',) ('p295',) ('Irish',) ('American',)\n",
      "('data/American/p299/p299_336_mic1.flac',) ('data/American/p299/p299_250_mic2.flac',) ('data/American/p301/p301_297_mic1.flac',) ('data/Indian/p251/p251_282_mic2.flac',) ('p299',) ('p301',) ('p299',) ('American',) ('Indian',)\n",
      "('data/American/p300/p300_298_mic2.flac',) ('data/American/p300/p300_161_mic2.flac',) ('data/American/p299/p299_148_mic2.flac',) ('data/Irish/p298/p298_005_mic2.flac',) ('p300',) ('p299',) ('p300',) ('American',) ('Irish',)\n",
      "('data/Indian/p251/p251_320_mic1.flac',) ('data/Indian/p251/p251_125_mic2.flac',) ('data/Indian/p376/p376_366_mic2.flac',) ('data/Scottish/p234/p234_162_mic1.flac',) ('p251',) ('p376',) ('p251',) ('Indian',) ('Scottish',)\n",
      "('data/Indian/p251/p251_140_mic1.flac',) ('data/Indian/p251/p251_005_mic1.flac',) ('data/Indian/p376/p376_296_mic1.flac',) ('data/Irish/p245/p245_093_mic2.flac',) ('p251',) ('p376',) ('p251',) ('Indian',) ('Irish',)\n",
      "('data/Irish/p283/p283_308_mic2.flac',) ('data/Irish/p283/p283_361_mic1.flac',) ('data/Irish/p295/p295_357_mic1.flac',) ('data/Scottish/p237/p237_330_mic2.flac',) ('p283',) ('p295',) ('p283',) ('Irish',) ('Scottish',)\n",
      "('data/American/p301/p301_243_mic2.flac',) ('data/American/p301/p301_051_mic2.flac',) ('data/American/p299/p299_201_mic1.flac',) ('data/Indian/p248/p248_306_mic1.flac',) ('p301',) ('p299',) ('p301',) ('American',) ('Indian',)\n",
      "('data/Irish/p295/p295_408_mic1.flac',) ('data/Irish/p295/p295_406_mic2.flac',) ('data/Irish/p245/p245_283_mic2.flac',) ('data/Scottish/p237/p237_206_mic2.flac',) ('p295',) ('p245',) ('p295',) ('Irish',) ('Scottish',)\n",
      "('data/Indian/p248/p248_241_mic2.flac',) ('data/Indian/p248/p248_221_mic1.flac',) ('data/Indian/p376/p376_325_mic2.flac',) ('data/Irish/p295/p295_419_mic1.flac',) ('p248',) ('p376',) ('p248',) ('Indian',) ('Irish',)\n"
     ]
    },
    {
     "name": "stdout",
     "output_type": "stream",
     "text": [
      "('data/Scottish/p234/p234_205_mic1.flac',) ('data/Scottish/p234/p234_018_mic1.flac',) ('data/Scottish/p237/p237_093_mic1.flac',) ('data/Irish/p245/p245_266_mic1.flac',) ('p234',) ('p237',) ('p234',) ('Scottish',) ('Irish',)\n",
      "('data/American/p300/p300_097_mic1.flac',) ('data/American/p300/p300_277_mic1.flac',) ('data/American/p301/p301_055_mic1.flac',) ('data/Indian/p248/p248_275_mic2.flac',) ('p300',) ('p301',) ('p300',) ('American',) ('Indian',)\n",
      "('data/American/p301/p301_058_mic2.flac',) ('data/American/p301/p301_042_mic1.flac',) ('data/American/p299/p299_171_mic1.flac',) ('data/Indian/p248/p248_023_mic2.flac',) ('p301',) ('p299',) ('p301',) ('American',) ('Indian',)\n",
      "('data/Irish/p245/p245_342_mic1.flac',) ('data/Irish/p245/p245_314_mic2.flac',) ('data/Irish/p295/p295_236_mic2.flac',) ('data/Indian/p376/p376_030_mic2.flac',) ('p245',) ('p295',) ('p245',) ('Irish',) ('Indian',)\n",
      "('data/Indian/p251/p251_168_mic1.flac',) ('data/Indian/p251/p251_282_mic1.flac',) ('data/Indian/p376/p376_253_mic1.flac',) ('data/Scottish/p237/p237_220_mic2.flac',) ('p251',) ('p376',) ('p251',) ('Indian',) ('Scottish',)\n",
      "('data/American/p299/p299_195_mic2.flac',) ('data/American/p299/p299_321_mic1.flac',) ('data/American/p301/p301_160_mic2.flac',) ('data/Scottish/p284/p284_337_mic1.flac',) ('p299',) ('p301',) ('p299',) ('American',) ('Scottish',)\n",
      "('data/Irish/p245/p245_008_mic1.flac',) ('data/Irish/p245/p245_112_mic2.flac',) ('data/Irish/p295/p295_346_mic2.flac',) ('data/Indian/p248/p248_205_mic2.flac',) ('p245',) ('p295',) ('p245',) ('Irish',) ('Indian',)\n",
      "('data/Irish/p283/p283_370_mic2.flac',) ('data/Irish/p283/p283_333_mic1.flac',) ('data/Irish/p298/p298_307_mic1.flac',) ('data/Indian/p248/p248_316_mic1.flac',) ('p283',) ('p298',) ('p283',) ('Irish',) ('Indian',)\n",
      "('data/Scottish/p234/p234_164_mic2.flac',) ('data/Scottish/p234/p234_263_mic2.flac',) ('data/Scottish/p249/p249_247_mic2.flac',) ('data/American/p299/p299_265_mic2.flac',) ('p234',) ('p249',) ('p234',) ('Scottish',) ('American',)\n",
      "('data/American/p300/p300_290_mic1.flac',) ('data/American/p300/p300_330_mic2.flac',) ('data/American/p299/p299_272_mic2.flac',) ('data/Irish/p245/p245_348_mic2.flac',) ('p300',) ('p299',) ('p300',) ('American',) ('Irish',)\n",
      "('data/Irish/p295/p295_299_mic2.flac',) ('data/Irish/p295/p295_168_mic1.flac',) ('data/Irish/p298/p298_163_mic2.flac',) ('data/Scottish/p237/p237_264_mic1.flac',) ('p295',) ('p298',) ('p295',) ('Irish',) ('Scottish',)\n",
      "('data/Irish/p298/p298_069_mic1.flac',) ('data/Irish/p298/p298_359_mic1.flac',) ('data/Irish/p295/p295_003_mic2.flac',) ('data/Indian/p376/p376_251_mic1.flac',) ('p298',) ('p295',) ('p298',) ('Irish',) ('Indian',)\n",
      "('data/Indian/p248/p248_242_mic1.flac',) ('data/Indian/p248/p248_095_mic2.flac',) ('data/Indian/p376/p376_033_mic1.flac',) ('data/Scottish/p249/p249_246_mic2.flac',) ('p248',) ('p376',) ('p248',) ('Indian',) ('Scottish',)\n",
      "('data/Indian/p376/p376_400_mic2.flac',) ('data/Indian/p376/p376_218_mic1.flac',) ('data/Indian/p248/p248_175_mic2.flac',) ('data/Irish/p245/p245_256_mic2.flac',) ('p376',) ('p248',) ('p376',) ('Indian',) ('Irish',)\n",
      "('data/American/p300/p300_306_mic2.flac',) ('data/American/p300/p300_382_mic1.flac',) ('data/American/p301/p301_135_mic2.flac',) ('data/Scottish/p284/p284_346_mic1.flac',) ('p300',) ('p301',) ('p300',) ('American',) ('Scottish',)\n",
      "('data/American/p299/p299_401_mic2.flac',) ('data/American/p299/p299_125_mic2.flac',) ('data/American/p301/p301_154_mic1.flac',) ('data/Indian/p251/p251_100_mic2.flac',) ('p299',) ('p301',) ('p299',) ('American',) ('Indian',)\n",
      "('data/Scottish/p249/p249_021_mic2.flac',) ('data/Scottish/p249/p249_345_mic1.flac',) ('data/Scottish/p284/p284_217_mic2.flac',) ('data/Irish/p295/p295_091_mic2.flac',) ('p249',) ('p284',) ('p249',) ('Scottish',) ('Irish',)\n",
      "('data/American/p300/p300_044_mic2.flac',) ('data/American/p300/p300_297_mic2.flac',) ('data/American/p301/p301_296_mic2.flac',) ('data/Scottish/p237/p237_327_mic2.flac',) ('p300',) ('p301',) ('p300',) ('American',) ('Scottish',)\n",
      "('data/Irish/p283/p283_147_mic2.flac',) ('data/Irish/p283/p283_315_mic2.flac',) ('data/Irish/p245/p245_345_mic1.flac',) ('data/American/p301/p301_108_mic1.flac',) ('p283',) ('p245',) ('p283',) ('Irish',) ('American',)\n",
      "('data/American/p299/p299_343_mic1.flac',) ('data/American/p299/p299_037_mic2.flac',) ('data/American/p300/p300_356_mic2.flac',) ('data/Scottish/p234/p234_149_mic1.flac',) ('p299',) ('p300',) ('p299',) ('American',) ('Scottish',)\n",
      "('data/American/p301/p301_356_mic1.flac',) ('data/American/p301/p301_132_mic2.flac',) ('data/American/p299/p299_113_mic2.flac',) ('data/Irish/p298/p298_113_mic1.flac',) ('p301',) ('p299',) ('p301',) ('American',) ('Irish',)\n",
      "('data/Irish/p245/p245_144_mic2.flac',) ('data/Irish/p245/p245_327_mic2.flac',) ('data/Irish/p298/p298_360_mic1.flac',) ('data/Indian/p251/p251_105_mic2.flac',) ('p245',) ('p298',) ('p245',) ('Irish',) ('Indian',)\n",
      "('data/American/p301/p301_155_mic1.flac',) ('data/American/p301/p301_216_mic2.flac',) ('data/American/p300/p300_138_mic1.flac',) ('data/Irish/p298/p298_145_mic1.flac',) ('p301',) ('p300',) ('p301',) ('American',) ('Irish',)\n",
      "('data/Scottish/p249/p249_087_mic1.flac',) ('data/Scottish/p249/p249_270_mic2.flac',) ('data/Scottish/p237/p237_018_mic1.flac',) ('data/American/p300/p300_014_mic1.flac',) ('p249',) ('p237',) ('p249',) ('Scottish',) ('American',)\n",
      "('data/American/p300/p300_329_mic2.flac',) ('data/American/p300/p300_002_mic1.flac',) ('data/American/p299/p299_045_mic2.flac',) ('data/Indian/p248/p248_123_mic2.flac',) ('p300',) ('p299',) ('p300',) ('American',) ('Indian',)\n",
      "('data/Scottish/p284/p284_103_mic2.flac',) ('data/Scottish/p284/p284_172_mic1.flac',) ('data/Scottish/p237/p237_185_mic1.flac',) ('data/Irish/p245/p245_303_mic2.flac',) ('p284',) ('p237',) ('p284',) ('Scottish',) ('Irish',)\n",
      "('data/Scottish/p234/p234_067_mic2.flac',) ('data/Scottish/p234/p234_096_mic2.flac',) ('data/Scottish/p284/p284_024_mic1.flac',) ('data/Irish/p298/p298_257_mic1.flac',) ('p234',) ('p284',) ('p234',) ('Scottish',) ('Irish',)\n",
      "('data/Indian/p376/p376_034_mic1.flac',) ('data/Indian/p376/p376_256_mic1.flac',) ('data/Indian/p248/p248_167_mic1.flac',) ('data/Scottish/p284/p284_185_mic2.flac',) ('p376',) ('p248',) ('p376',) ('Indian',) ('Scottish',)\n",
      "('data/Irish/p283/p283_055_mic1.flac',) ('data/Irish/p283/p283_034_mic1.flac',) ('data/Irish/p298/p298_384_mic1.flac',) ('data/American/p300/p300_248_mic1.flac',) ('p283',) ('p298',) ('p283',) ('Irish',) ('American',)\n",
      "('data/Scottish/p237/p237_040_mic1.flac',) ('data/Scottish/p237/p237_120_mic1.flac',) ('data/Scottish/p249/p249_057_mic1.flac',) ('data/American/p301/p301_118_mic1.flac',) ('p237',) ('p249',) ('p237',) ('Scottish',) ('American',)\n",
      "('data/American/p300/p300_334_mic1.flac',) ('data/American/p300/p300_059_mic1.flac',) ('data/American/p299/p299_167_mic2.flac',) ('data/Indian/p376/p376_327_mic1.flac',) ('p300',) ('p299',) ('p300',) ('American',) ('Indian',)\n",
      "('data/Irish/p283/p283_393_mic1.flac',) ('data/Irish/p283/p283_385_mic1.flac',) ('data/Irish/p295/p295_075_mic2.flac',) ('data/Scottish/p284/p284_010_mic2.flac',) ('p283',) ('p295',) ('p283',) ('Irish',) ('Scottish',)\n",
      "('data/American/p301/p301_383_mic2.flac',) ('data/American/p301/p301_135_mic1.flac',) ('data/American/p300/p300_377_mic2.flac',) ('data/Indian/p248/p248_187_mic1.flac',) ('p301',) ('p300',) ('p301',) ('American',) ('Indian',)\n",
      "('data/Irish/p283/p283_417_mic1.flac',) ('data/Irish/p283/p283_301_mic2.flac',) ('data/Irish/p295/p295_272_mic1.flac',) ('data/American/p300/p300_096_mic2.flac',) ('p283',) ('p295',) ('p283',) ('Irish',) ('American',)\n",
      "('data/American/p300/p300_294_mic2.flac',) ('data/American/p300/p300_215_mic1.flac',) ('data/American/p299/p299_014_mic2.flac',) ('data/Indian/p251/p251_365_mic2.flac',) ('p300',) ('p299',) ('p300',) ('American',) ('Indian',)\n",
      "('data/Scottish/p249/p249_066_mic2.flac',) ('data/Scottish/p249/p249_235_mic1.flac',) ('data/Scottish/p237/p237_219_mic1.flac',) ('data/Indian/p376/p376_271_mic2.flac',) ('p249',) ('p237',) ('p249',) ('Scottish',) ('Indian',)\n",
      "('data/Indian/p376/p376_003_mic1.flac',) ('data/Indian/p376/p376_333_mic2.flac',) ('data/Indian/p248/p248_289_mic2.flac',) ('data/Irish/p298/p298_215_mic2.flac',) ('p376',) ('p248',) ('p376',) ('Indian',) ('Irish',)\n",
      "('data/Scottish/p249/p249_105_mic1.flac',) ('data/Scottish/p249/p249_079_mic1.flac',) ('data/Scottish/p234/p234_335_mic2.flac',) ('data/Irish/p298/p298_084_mic1.flac',) ('p249',) ('p234',) ('p249',) ('Scottish',) ('Irish',)\n",
      "('data/Indian/p376/p376_017_mic2.flac',) ('data/Indian/p376/p376_323_mic2.flac',) ('data/Indian/p248/p248_272_mic2.flac',) ('data/Irish/p283/p283_026_mic2.flac',) ('p376',) ('p248',) ('p376',) ('Indian',) ('Irish',)\n",
      "('data/Irish/p283/p283_370_mic1.flac',) ('data/Irish/p283/p283_395_mic2.flac',) ('data/Irish/p298/p298_077_mic1.flac',) ('data/Indian/p251/p251_090_mic2.flac',) ('p283',) ('p298',) ('p283',) ('Irish',) ('Indian',)\n",
      "('data/Irish/p283/p283_427_mic1.flac',) ('data/Irish/p283/p283_260_mic1.flac',) ('data/Irish/p245/p245_142_mic1.flac',) ('data/Indian/p251/p251_299_mic2.flac',) ('p283',) ('p245',) ('p283',) ('Irish',) ('Indian',)\n",
      "('data/Scottish/p284/p284_018_mic1.flac',) ('data/Scottish/p284/p284_291_mic1.flac',) ('data/Scottish/p249/p249_220_mic2.flac',) ('data/Irish/p245/p245_340_mic1.flac',) ('p284',) ('p249',) ('p284',) ('Scottish',) ('Irish',)\n",
      "('data/Irish/p245/p245_029_mic1.flac',) ('data/Irish/p245/p245_139_mic2.flac',) ('data/Irish/p283/p283_380_mic2.flac',) ('data/Scottish/p284/p284_363_mic2.flac',) ('p245',) ('p283',) ('p245',) ('Irish',) ('Scottish',)\n",
      "('data/American/p301/p301_252_mic2.flac',) ('data/American/p301/p301_264_mic1.flac',) ('data/American/p299/p299_279_mic1.flac',) ('data/Scottish/p284/p284_058_mic2.flac',) ('p301',) ('p299',) ('p301',) ('American',) ('Scottish',)\n",
      "('data/Irish/p295/p295_076_mic2.flac',) ('data/Irish/p295/p295_105_mic2.flac',) ('data/Irish/p283/p283_440_mic2.flac',) ('data/Scottish/p249/p249_197_mic1.flac',) ('p295',) ('p283',) ('p295',) ('Irish',) ('Scottish',)\n",
      "('data/Irish/p298/p298_075_mic2.flac',) ('data/Irish/p298/p298_340_mic1.flac',) ('data/Irish/p245/p245_038_mic1.flac',) ('data/American/p301/p301_265_mic2.flac',) ('p298',) ('p245',) ('p298',) ('Irish',) ('American',)\n",
      "('data/Scottish/p284/p284_224_mic2.flac',) ('data/Scottish/p284/p284_284_mic1.flac',) ('data/Scottish/p234/p234_347_mic1.flac',) ('data/Irish/p245/p245_321_mic2.flac',) ('p284',) ('p234',) ('p284',) ('Scottish',) ('Irish',)\n",
      "('data/Irish/p283/p283_459_mic1.flac',) ('data/Irish/p283/p283_141_mic1.flac',) ('data/Irish/p295/p295_421_mic1.flac',) ('data/Scottish/p234/p234_012_mic2.flac',) ('p283',) ('p295',) ('p283',) ('Irish',) ('Scottish',)\n",
      "('data/Scottish/p237/p237_276_mic1.flac',) ('data/Scottish/p237/p237_044_mic2.flac',) ('data/Scottish/p249/p249_025_mic1.flac',) ('data/Indian/p248/p248_076_mic2.flac',) ('p237',) ('p249',) ('p237',) ('Scottish',) ('Indian',)\n",
      "('data/Irish/p283/p283_033_mic2.flac',) ('data/Irish/p283/p283_092_mic1.flac',) ('data/Irish/p245/p245_173_mic1.flac',) ('data/American/p299/p299_374_mic2.flac',) ('p283',) ('p245',) ('p283',) ('Irish',) ('American',)\n"
     ]
    },
    {
     "ename": "KeyboardInterrupt",
     "evalue": "",
     "output_type": "error",
     "traceback": [
      "\u001b[0;31m---------------------------------------------------------------------------\u001b[0m",
      "\u001b[0;31mKeyboardInterrupt\u001b[0m                         Traceback (most recent call last)",
      "\u001b[0;32m<ipython-input-20-a8ccc025626c>\u001b[0m in \u001b[0;36m<module>\u001b[0;34m\u001b[0m\n\u001b[0;32m----> 1\u001b[0;31m \u001b[0;32mfor\u001b[0m \u001b[0mbatch_idx\u001b[0m\u001b[0;34m,\u001b[0m \u001b[0;34m(\u001b[0m\u001b[0manchor_utter_path\u001b[0m\u001b[0;34m,\u001b[0m \u001b[0mpositive_utter_path\u001b[0m\u001b[0;34m,\u001b[0m \u001b[0mnegative_utter_path\u001b[0m\u001b[0;34m,\u001b[0m \u001b[0maccent_negative_path\u001b[0m\u001b[0;34m,\u001b[0m \u001b[0mspeaker_positive_id\u001b[0m\u001b[0;34m,\u001b[0m \u001b[0mspeaker_negative_id\u001b[0m\u001b[0;34m,\u001b[0m \u001b[0mspeaker_anchor_id\u001b[0m\u001b[0;34m,\u001b[0m \u001b[0mpositive_accent\u001b[0m\u001b[0;34m,\u001b[0m \u001b[0mnegative_accent\u001b[0m\u001b[0;34m)\u001b[0m \u001b[0;32min\u001b[0m \u001b[0menumerate\u001b[0m\u001b[0;34m(\u001b[0m\u001b[0mdata_loader\u001b[0m\u001b[0;34m)\u001b[0m\u001b[0;34m:\u001b[0m\u001b[0;34m\u001b[0m\u001b[0;34m\u001b[0m\u001b[0m\n\u001b[0m\u001b[1;32m      2\u001b[0m     \u001b[0mprint\u001b[0m\u001b[0;34m(\u001b[0m\u001b[0manchor_utter_path\u001b[0m\u001b[0;34m,\u001b[0m \u001b[0mpositive_utter_path\u001b[0m\u001b[0;34m,\u001b[0m \u001b[0mnegative_utter_path\u001b[0m\u001b[0;34m,\u001b[0m \u001b[0maccent_negative_path\u001b[0m\u001b[0;34m,\u001b[0m \u001b[0mspeaker_positive_id\u001b[0m\u001b[0;34m,\u001b[0m \u001b[0mspeaker_negative_id\u001b[0m\u001b[0;34m,\u001b[0m \u001b[0mspeaker_anchor_id\u001b[0m\u001b[0;34m,\u001b[0m \u001b[0mpositive_accent\u001b[0m\u001b[0;34m,\u001b[0m \u001b[0mnegative_accent\u001b[0m\u001b[0;34m)\u001b[0m\u001b[0;34m\u001b[0m\u001b[0;34m\u001b[0m\u001b[0m\n",
      "\u001b[0;32m~/anaconda3/lib/python3.6/site-packages/torch/utils/data/dataloader.py\u001b[0m in \u001b[0;36m__next__\u001b[0;34m(self)\u001b[0m\n\u001b[1;32m    343\u001b[0m \u001b[0;34m\u001b[0m\u001b[0m\n\u001b[1;32m    344\u001b[0m     \u001b[0;32mdef\u001b[0m \u001b[0m__next__\u001b[0m\u001b[0;34m(\u001b[0m\u001b[0mself\u001b[0m\u001b[0;34m)\u001b[0m\u001b[0;34m:\u001b[0m\u001b[0;34m\u001b[0m\u001b[0;34m\u001b[0m\u001b[0m\n\u001b[0;32m--> 345\u001b[0;31m         \u001b[0mdata\u001b[0m \u001b[0;34m=\u001b[0m \u001b[0mself\u001b[0m\u001b[0;34m.\u001b[0m\u001b[0m_next_data\u001b[0m\u001b[0;34m(\u001b[0m\u001b[0;34m)\u001b[0m\u001b[0;34m\u001b[0m\u001b[0;34m\u001b[0m\u001b[0m\n\u001b[0m\u001b[1;32m    346\u001b[0m         \u001b[0mself\u001b[0m\u001b[0;34m.\u001b[0m\u001b[0m_num_yielded\u001b[0m \u001b[0;34m+=\u001b[0m \u001b[0;36m1\u001b[0m\u001b[0;34m\u001b[0m\u001b[0;34m\u001b[0m\u001b[0m\n\u001b[1;32m    347\u001b[0m         \u001b[0;32mif\u001b[0m \u001b[0mself\u001b[0m\u001b[0;34m.\u001b[0m\u001b[0m_dataset_kind\u001b[0m \u001b[0;34m==\u001b[0m \u001b[0m_DatasetKind\u001b[0m\u001b[0;34m.\u001b[0m\u001b[0mIterable\u001b[0m \u001b[0;32mand\u001b[0m\u001b[0;31m \u001b[0m\u001b[0;31m\\\u001b[0m\u001b[0;34m\u001b[0m\u001b[0;34m\u001b[0m\u001b[0m\n",
      "\u001b[0;32m~/anaconda3/lib/python3.6/site-packages/torch/utils/data/dataloader.py\u001b[0m in \u001b[0;36m_next_data\u001b[0;34m(self)\u001b[0m\n\u001b[1;32m    383\u001b[0m     \u001b[0;32mdef\u001b[0m \u001b[0m_next_data\u001b[0m\u001b[0;34m(\u001b[0m\u001b[0mself\u001b[0m\u001b[0;34m)\u001b[0m\u001b[0;34m:\u001b[0m\u001b[0;34m\u001b[0m\u001b[0;34m\u001b[0m\u001b[0m\n\u001b[1;32m    384\u001b[0m         \u001b[0mindex\u001b[0m \u001b[0;34m=\u001b[0m \u001b[0mself\u001b[0m\u001b[0;34m.\u001b[0m\u001b[0m_next_index\u001b[0m\u001b[0;34m(\u001b[0m\u001b[0;34m)\u001b[0m  \u001b[0;31m# may raise StopIteration\u001b[0m\u001b[0;34m\u001b[0m\u001b[0;34m\u001b[0m\u001b[0m\n\u001b[0;32m--> 385\u001b[0;31m         \u001b[0mdata\u001b[0m \u001b[0;34m=\u001b[0m \u001b[0mself\u001b[0m\u001b[0;34m.\u001b[0m\u001b[0m_dataset_fetcher\u001b[0m\u001b[0;34m.\u001b[0m\u001b[0mfetch\u001b[0m\u001b[0;34m(\u001b[0m\u001b[0mindex\u001b[0m\u001b[0;34m)\u001b[0m  \u001b[0;31m# may raise StopIteration\u001b[0m\u001b[0;34m\u001b[0m\u001b[0;34m\u001b[0m\u001b[0m\n\u001b[0m\u001b[1;32m    386\u001b[0m         \u001b[0;32mif\u001b[0m \u001b[0mself\u001b[0m\u001b[0;34m.\u001b[0m\u001b[0m_pin_memory\u001b[0m\u001b[0;34m:\u001b[0m\u001b[0;34m\u001b[0m\u001b[0;34m\u001b[0m\u001b[0m\n\u001b[1;32m    387\u001b[0m             \u001b[0mdata\u001b[0m \u001b[0;34m=\u001b[0m \u001b[0m_utils\u001b[0m\u001b[0;34m.\u001b[0m\u001b[0mpin_memory\u001b[0m\u001b[0;34m.\u001b[0m\u001b[0mpin_memory\u001b[0m\u001b[0;34m(\u001b[0m\u001b[0mdata\u001b[0m\u001b[0;34m)\u001b[0m\u001b[0;34m\u001b[0m\u001b[0;34m\u001b[0m\u001b[0m\n",
      "\u001b[0;32m~/anaconda3/lib/python3.6/site-packages/torch/utils/data/_utils/fetch.py\u001b[0m in \u001b[0;36mfetch\u001b[0;34m(self, possibly_batched_index)\u001b[0m\n\u001b[1;32m     42\u001b[0m     \u001b[0;32mdef\u001b[0m \u001b[0mfetch\u001b[0m\u001b[0;34m(\u001b[0m\u001b[0mself\u001b[0m\u001b[0;34m,\u001b[0m \u001b[0mpossibly_batched_index\u001b[0m\u001b[0;34m)\u001b[0m\u001b[0;34m:\u001b[0m\u001b[0;34m\u001b[0m\u001b[0;34m\u001b[0m\u001b[0m\n\u001b[1;32m     43\u001b[0m         \u001b[0;32mif\u001b[0m \u001b[0mself\u001b[0m\u001b[0;34m.\u001b[0m\u001b[0mauto_collation\u001b[0m\u001b[0;34m:\u001b[0m\u001b[0;34m\u001b[0m\u001b[0;34m\u001b[0m\u001b[0m\n\u001b[0;32m---> 44\u001b[0;31m             \u001b[0mdata\u001b[0m \u001b[0;34m=\u001b[0m \u001b[0;34m[\u001b[0m\u001b[0mself\u001b[0m\u001b[0;34m.\u001b[0m\u001b[0mdataset\u001b[0m\u001b[0;34m[\u001b[0m\u001b[0midx\u001b[0m\u001b[0;34m]\u001b[0m \u001b[0;32mfor\u001b[0m \u001b[0midx\u001b[0m \u001b[0;32min\u001b[0m \u001b[0mpossibly_batched_index\u001b[0m\u001b[0;34m]\u001b[0m\u001b[0;34m\u001b[0m\u001b[0;34m\u001b[0m\u001b[0m\n\u001b[0m\u001b[1;32m     45\u001b[0m         \u001b[0;32melse\u001b[0m\u001b[0;34m:\u001b[0m\u001b[0;34m\u001b[0m\u001b[0;34m\u001b[0m\u001b[0m\n\u001b[1;32m     46\u001b[0m             \u001b[0mdata\u001b[0m \u001b[0;34m=\u001b[0m \u001b[0mself\u001b[0m\u001b[0;34m.\u001b[0m\u001b[0mdataset\u001b[0m\u001b[0;34m[\u001b[0m\u001b[0mpossibly_batched_index\u001b[0m\u001b[0;34m]\u001b[0m\u001b[0;34m\u001b[0m\u001b[0;34m\u001b[0m\u001b[0m\n",
      "\u001b[0;32m~/anaconda3/lib/python3.6/site-packages/torch/utils/data/_utils/fetch.py\u001b[0m in \u001b[0;36m<listcomp>\u001b[0;34m(.0)\u001b[0m\n\u001b[1;32m     42\u001b[0m     \u001b[0;32mdef\u001b[0m \u001b[0mfetch\u001b[0m\u001b[0;34m(\u001b[0m\u001b[0mself\u001b[0m\u001b[0;34m,\u001b[0m \u001b[0mpossibly_batched_index\u001b[0m\u001b[0;34m)\u001b[0m\u001b[0;34m:\u001b[0m\u001b[0;34m\u001b[0m\u001b[0;34m\u001b[0m\u001b[0m\n\u001b[1;32m     43\u001b[0m         \u001b[0;32mif\u001b[0m \u001b[0mself\u001b[0m\u001b[0;34m.\u001b[0m\u001b[0mauto_collation\u001b[0m\u001b[0;34m:\u001b[0m\u001b[0;34m\u001b[0m\u001b[0;34m\u001b[0m\u001b[0m\n\u001b[0;32m---> 44\u001b[0;31m             \u001b[0mdata\u001b[0m \u001b[0;34m=\u001b[0m \u001b[0;34m[\u001b[0m\u001b[0mself\u001b[0m\u001b[0;34m.\u001b[0m\u001b[0mdataset\u001b[0m\u001b[0;34m[\u001b[0m\u001b[0midx\u001b[0m\u001b[0;34m]\u001b[0m \u001b[0;32mfor\u001b[0m \u001b[0midx\u001b[0m \u001b[0;32min\u001b[0m \u001b[0mpossibly_batched_index\u001b[0m\u001b[0;34m]\u001b[0m\u001b[0;34m\u001b[0m\u001b[0;34m\u001b[0m\u001b[0m\n\u001b[0m\u001b[1;32m     45\u001b[0m         \u001b[0;32melse\u001b[0m\u001b[0;34m:\u001b[0m\u001b[0;34m\u001b[0m\u001b[0;34m\u001b[0m\u001b[0m\n\u001b[1;32m     46\u001b[0m             \u001b[0mdata\u001b[0m \u001b[0;34m=\u001b[0m \u001b[0mself\u001b[0m\u001b[0;34m.\u001b[0m\u001b[0mdataset\u001b[0m\u001b[0;34m[\u001b[0m\u001b[0mpossibly_batched_index\u001b[0m\u001b[0;34m]\u001b[0m\u001b[0;34m\u001b[0m\u001b[0;34m\u001b[0m\u001b[0m\n",
      "\u001b[0;32m~/Desktop/projects/Voice-Cloning/data_load.py\u001b[0m in \u001b[0;36m__getitem__\u001b[0;34m(self, idx)\u001b[0m\n\u001b[1;32m    121\u001b[0m         \u001b[0mnegative_speaker_accent\u001b[0m \u001b[0;34m=\u001b[0m \u001b[0mrandom\u001b[0m\u001b[0;34m.\u001b[0m\u001b[0msample\u001b[0m\u001b[0;34m(\u001b[0m\u001b[0maccent_negative_speakers\u001b[0m\u001b[0;34m,\u001b[0m \u001b[0;36m1\u001b[0m\u001b[0;34m)\u001b[0m\u001b[0;34m[\u001b[0m\u001b[0;36m0\u001b[0m\u001b[0;34m]\u001b[0m\u001b[0;34m\u001b[0m\u001b[0;34m\u001b[0m\u001b[0m\n\u001b[1;32m    122\u001b[0m \u001b[0;34m\u001b[0m\u001b[0m\n\u001b[0;32m--> 123\u001b[0;31m         \u001b[0maccent_negative_utter\u001b[0m \u001b[0;34m=\u001b[0m \u001b[0mrandom\u001b[0m\u001b[0;34m.\u001b[0m\u001b[0msample\u001b[0m\u001b[0;34m(\u001b[0m\u001b[0mos\u001b[0m\u001b[0;34m.\u001b[0m\u001b[0mlistdir\u001b[0m\u001b[0;34m(\u001b[0m\u001b[0;34m'data/'\u001b[0m\u001b[0;34m+\u001b[0m\u001b[0mnegative_accent\u001b[0m\u001b[0;34m+\u001b[0m\u001b[0;34m'/'\u001b[0m\u001b[0;34m+\u001b[0m\u001b[0mnegative_speaker_accent\u001b[0m\u001b[0;34m)\u001b[0m\u001b[0;34m,\u001b[0m \u001b[0;36m1\u001b[0m\u001b[0;34m)\u001b[0m\u001b[0;34m[\u001b[0m\u001b[0;36m0\u001b[0m\u001b[0;34m]\u001b[0m\u001b[0;34m\u001b[0m\u001b[0;34m\u001b[0m\u001b[0m\n\u001b[0m\u001b[1;32m    124\u001b[0m \u001b[0;34m\u001b[0m\u001b[0m\n\u001b[1;32m    125\u001b[0m         \u001b[0mnegative_speaker\u001b[0m \u001b[0;34m=\u001b[0m \u001b[0mrandom\u001b[0m\u001b[0;34m.\u001b[0m\u001b[0msample\u001b[0m\u001b[0;34m(\u001b[0m\u001b[0maccent_positive_speakers\u001b[0m\u001b[0;34m,\u001b[0m \u001b[0;36m1\u001b[0m\u001b[0;34m)\u001b[0m\u001b[0;34m[\u001b[0m\u001b[0;36m0\u001b[0m\u001b[0;34m]\u001b[0m\u001b[0;34m\u001b[0m\u001b[0;34m\u001b[0m\u001b[0m\n",
      "\u001b[0;31mKeyboardInterrupt\u001b[0m: "
     ]
    }
   ],
   "source": [
    "for batch_idx, (anchor_utter_path, positive_utter_path, negative_utter_path, accent_negative_path, speaker_positive_id, speaker_negative_id, speaker_anchor_id, positive_accent, negative_accent) in enumerate(data_loader):\n",
    "    print(anchor_utter_path, positive_utter_path, negative_utter_path, accent_negative_path, speaker_positive_id, speaker_negative_id, speaker_anchor_id, positive_accent, negative_accent)"
   ]
  },
  {
   "cell_type": "code",
   "execution_count": 13,
   "metadata": {},
   "outputs": [
    {
     "data": {
      "text/plain": [
       "('p284', ('p237',), ('p284',), ('Scottish',), ('American',))"
      ]
     },
     "execution_count": 13,
     "metadata": {},
     "output_type": "execute_result"
    }
   ],
   "source": [
    "speaker_positive_id[0], speaker_negative_id, speaker_anchor_id, positive_accent, negative_accent"
   ]
  },
  {
   "cell_type": "code",
   "execution_count": 14,
   "metadata": {},
   "outputs": [
    {
     "data": {
      "text/plain": [
       "(('data/Scottish/p284/p284_096_mic1.flac',),\n",
       " ('data/Scottish/p284/p284_161_mic2.flac',),\n",
       " ('data/Scottish/p237/p237_232_mic2.flac',),\n",
       " ('data/American/p300/p300_322_mic1.flac',))"
      ]
     },
     "execution_count": 14,
     "metadata": {},
     "output_type": "execute_result"
    }
   ],
   "source": [
    "anchor_utter_path, positive_utter_path, negative_utter_path, accent_negative_path"
   ]
  },
  {
   "cell_type": "code",
   "execution_count": 21,
   "metadata": {},
   "outputs": [],
   "source": [
    "class PairwiseDistance(Function):\n",
    "    def __init__(self, p):\n",
    "        super(PairwiseDistance, self).__init__()\n",
    "        self.norm = p\n",
    "\n",
    "    def forward(self, x1, x2):\n",
    "        \n",
    "        #print(\"above assert: \",x1, x2)\n",
    "        assert x1.size() == x2.size()\n",
    "        eps = 1e-4 / x1.size(1)\n",
    "        diff = torch.abs(x1 - x2)\n",
    "        out = torch.pow(diff, self.norm).sum(dim=1)\n",
    "        return torch.pow(out + eps, 1. / self.norm)\n",
    "\n",
    "class TripletLoss(Function):\n",
    "    \"\"\"\n",
    "    Triplet loss function.\n",
    "    \"\"\"\n",
    "    def __init__(self, margin=0.2):\n",
    "        super(TripletLoss, self).__init__()\n",
    "        self.margin = margin\n",
    "        self.pdist = PairwiseDistance(2)  # norm 2\n",
    "\n",
    "    def forward(self, anchor, positive, negative):\n",
    "        d_p = self.pdist.forward(torch.from_numpy(anchor), positive)\n",
    "        d_n = self.pdist.forward(torch.from_numpy(anchor), torch.from_numpy(negative))\n",
    "\n",
    "        dist_hinge = torch.clamp(self.margin + d_p - d_n, min=0.0)\n",
    "        loss = torch.mean(dist_hinge)\n",
    "        return loss"
   ]
  },
  {
   "cell_type": "code",
   "execution_count": 22,
   "metadata": {},
   "outputs": [],
   "source": [
    "class AutoEncoder(nn.Module):\n",
    "    def __init__(self):\n",
    "        super(AutoEncoder, self).__init__()\n",
    "        self.inp1 = nn.Linear(in_features=256, out_features=100)\n",
    "        self.inp2 = nn.Linear(in_features=100, out_features=100)\n",
    "        self.b_n = nn.BatchNorm1d(128)\n",
    "        \n",
    "        self.drop_out = nn.Dropout(0.25)\n",
    "        self.l1 = nn.Linear(200, 128)\n",
    "        self.l2 = nn.Linear(128,128)\n",
    "        self.out_acc = nn.Linear(128, 100)\n",
    "        self.out_speak = nn.Linear(128,256)\n",
    "        \n",
    "    def forward(self, speaker_emb, acc_emb):\n",
    "        x1 = F.relu(self.inp1(speaker_emb))\n",
    "        \n",
    "        x2 = F.relu(self.inp2(x1))\n",
    "        #print(x1.shape, x2.shape, speaker_emb.shape, acc_emb.shape)\n",
    "        out = torch.cat((x1, x2), axis=1)\n",
    "        out = self.l1(out)\n",
    "        out = F.relu(out)\n",
    "        out = F.relu(self.l2(out))\n",
    "        \n",
    "        mf_acc = self.out_acc(out)\n",
    "        mf_sp = self.out_speak(out)\n",
    "        return F.relu(mf_sp), F.relu(mf_acc)"
   ]
  },
  {
   "cell_type": "code",
   "execution_count": 27,
   "metadata": {},
   "outputs": [],
   "source": [
    "def train():\n",
    "    device = hp.device\n",
    "    dataset = TripletSpeakerDataset()\n",
    "    data_loader = torch.utils.data.DataLoader(dataset, drop_last=True)\n",
    "    ae = AutoEncoder().to('cuda')\n",
    "    writer = SummaryWriter('triplet_loss_logs')\n",
    "    optimizer = optim.Adam(ae.parameters())\n",
    "    optimizer.zero_grad()\n",
    "    #ae.load_state_dict(torch.load(''))\n",
    "    trip_loss = TripletLoss()\n",
    "    total_loss = 0\n",
    "    for epoch in range(20):\n",
    "        for batch_id, (anchor_utter_path, positive_utter_path, negative_utter_path, accent_negative_path, speaker_positive_id, speaker_negative_id, speaker_anchor_id, positive_accent, negative_accent) in tqdm(enumerate(data_loader), total = len(data_loader)):\n",
    "            anchor_utter_path, positive_utter_path, negative_utter_path = anchor_utter_path[0], positive_utter_path[0], negative_utter_path[0]\n",
    "            accent_negative_path, speaker_positive_id, speaker_negative_id = accent_negative_path[0], speaker_positive_id[0], speaker_negative_id[0]\n",
    "            speaker_anchor_id, positive_accent, negative_accent = speaker_anchor_id[0], positive_accent[0], negative_accent[0]\n",
    "            \n",
    "            try:\n",
    "                pre_positive_speaker_embs, pre_positive_accent_embs = get_both_embs(positive_utter_path)\n",
    "                pre_positive_speaker_embs, pre_positive_accent_embs = Variable(torch.from_numpy(pre_positive_speaker_embs)).to('cuda'), Variable(torch.from_numpy(pre_positive_accent_embs)).to('cuda')\n",
    "                anchor_utter_path\n",
    "                anchor_speaker_embs, anchor_accent_embs = get_both_embs(anchor_utter_path)\n",
    "                negative_speaker_embs, _ = get_both_embs(negative_utter_path)\n",
    "                _, negative_accent_embs = get_both_embs(accent_negative_path)\n",
    "            except ValueError:\n",
    "                print(\"ValueError\")\n",
    "                continue\n",
    "            except:\n",
    "                continue\n",
    "            positive_speaker_embs, positive_accent_embs = ae.forward(pre_positive_speaker_embs, pre_positive_accent_embs)\n",
    "            positive_speaker_embs, positive_accent_embs = positive_speaker_embs.to('cpu'), positive_accent_embs.to('cpu')\n",
    "            optimizer.zero_grad()\n",
    "            #print(anchor_accent_embs.shape)\n",
    "            accent_trip_loss = trip_loss.forward(anchor_accent_embs, positive_accent_embs, negative_accent_embs)\n",
    "            speaker_trip_loss = trip_loss.forward(anchor_speaker_embs, positive_speaker_embs, negative_speaker_embs)\n",
    "            criterion = accent_trip_loss + speaker_trip_loss\n",
    "            total_loss += criterion\n",
    "            \n",
    "            \n",
    "            \n",
    "            criterion.backward()\n",
    "            optimizer.step()\n",
    "            writer.add_scalar('Loss', criterion, epoch*len(data_loader)+1)\n",
    "            \n",
    "            if (batch_id + 1) % 5 == 0:\n",
    "                mesg = \"{}\\tEpoch:{},Iteration:{}\\tLoss:{}\\t\\n\".format(time.ctime(), epoch+1,\n",
    "                        batch_id+1, criterion)\n",
    "                print(mesg)\n",
    "                if hp.train.log_file is not None:\n",
    "                    with open(hp.train.log_file,'a') as f:\n",
    "                        f.write(mesg)\n",
    "            if hp.train.checkpoint_dir is not None and (epoch + 1) % hp.train.checkpoint_interval == 0:\n",
    "                embedder_net.eval()\n",
    "                ckpt_model_filename = \"ckpt_epoch_\" + str(epoch+1) + \"_batch_id_\" + str(batch_id+1) + \".pth\"\n",
    "                ckpt_model_path = os.path.join(\"new_checkpoints/\", ckpt_model_filename)\n",
    "                torch.save(embedder_net.state_dict(), ckpt_model_path)\n",
    "                embedder_net.to(device).train()\n",
    "        embedder_net.eval()\n",
    "        save_model_filename = \"final_epoch_\" + str(epoch + 1) + \"_batch_id_\" + str(batch_id + 1) + \".model\"\n",
    "        save_model_path = os.path.join(hp.train.checkpoint_dir, save_model_filename)\n",
    "        torch.save(embedder_net.state_dict(), save_model_path)\n",
    "\n",
    "        print(\"\\nDone, trained model saved at\", save_model_path)"
   ]
  },
  {
   "cell_type": "code",
   "execution_count": null,
   "metadata": {
    "scrolled": true
   },
   "outputs": [
    {
     "name": "stderr",
     "output_type": "stream",
     "text": [
      "\n",
      "\n",
      "\n",
      "  0%|          | 0/10956 [00:00<?, ?it/s]\u001b[A\u001b[A\u001b[A"
     ]
    },
    {
     "name": "stdout",
     "output_type": "stream",
     "text": [
      "(1, 40, 180)\n",
      "(1, 40, 180)\n",
      "(1, 40, 180)\n"
     ]
    },
    {
     "name": "stderr",
     "output_type": "stream",
     "text": [
      "\n",
      "\n",
      "\n",
      "  0%|          | 1/10956 [00:01<4:15:07,  1.40s/it]\u001b[A\u001b[A\u001b[A"
     ]
    },
    {
     "name": "stdout",
     "output_type": "stream",
     "text": [
      "(1, 40, 180)\n",
      "(1, 40, 180)\n",
      "(1, 40, 180)\n",
      "(1, 40, 180)\n"
     ]
    },
    {
     "name": "stderr",
     "output_type": "stream",
     "text": [
      "\n",
      "\n",
      "\n",
      "  0%|          | 2/10956 [00:02<4:04:57,  1.34s/it]\u001b[A\u001b[A\u001b[A"
     ]
    },
    {
     "name": "stdout",
     "output_type": "stream",
     "text": [
      "(1, 40, 180)\n",
      "(1, 40, 180)\n",
      "(1, 40, 180)\n",
      "(1, 40, 180)\n"
     ]
    },
    {
     "name": "stderr",
     "output_type": "stream",
     "text": [
      "\n",
      "\n",
      "\n",
      "  0%|          | 3/10956 [00:03<3:44:46,  1.23s/it]\u001b[A\u001b[A\u001b[A"
     ]
    },
    {
     "name": "stdout",
     "output_type": "stream",
     "text": [
      "(1, 40, 180)\n",
      "(1, 40, 180)\n",
      "(1, 40, 180)\n",
      "(1, 40, 180)\n"
     ]
    },
    {
     "name": "stderr",
     "output_type": "stream",
     "text": [
      "\n",
      "\n",
      "\n",
      "  0%|          | 4/10956 [00:04<3:46:00,  1.24s/it]\u001b[A\u001b[A\u001b[A"
     ]
    },
    {
     "name": "stdout",
     "output_type": "stream",
     "text": [
      "(1, 40, 180)\n",
      "(1, 40, 180)\n",
      "(1, 40, 180)\n",
      "(1, 40, 180)\n"
     ]
    },
    {
     "name": "stderr",
     "output_type": "stream",
     "text": [
      "\n",
      "\n",
      "\n",
      "  0%|          | 5/10956 [00:06<3:54:38,  1.29s/it]\u001b[A\u001b[A\u001b[A"
     ]
    },
    {
     "name": "stdout",
     "output_type": "stream",
     "text": [
      "(1, 40, 180)\n",
      "Sun Mar 15 21:37:12 2020\tEpoch:1,Iteration:5\tLoss:0.7256287336349487\t\n",
      "\n",
      "(1, 40, 180)\n",
      "(1, 40, 180)\n",
      "(1, 40, 180)\n"
     ]
    },
    {
     "name": "stderr",
     "output_type": "stream",
     "text": [
      "\n",
      "\n",
      "\n",
      "  0%|          | 6/10956 [00:07<3:44:00,  1.23s/it]\u001b[A\u001b[A\u001b[A"
     ]
    },
    {
     "name": "stdout",
     "output_type": "stream",
     "text": [
      "(1, 40, 180)\n",
      "(1, 40, 180)\n",
      "(1, 40, 180)\n",
      "(1, 40, 180)\n"
     ]
    },
    {
     "name": "stderr",
     "output_type": "stream",
     "text": [
      "\n",
      "\n",
      "\n",
      "  0%|          | 7/10956 [00:08<3:32:16,  1.16s/it]\u001b[A\u001b[A\u001b[A"
     ]
    },
    {
     "name": "stdout",
     "output_type": "stream",
     "text": [
      "(1, 40, 180)\n",
      "(1, 40, 180)\n",
      "(1, 40, 180)\n",
      "(1, 40, 180)\n",
      "(1, 40, 180)\n"
     ]
    },
    {
     "name": "stderr",
     "output_type": "stream",
     "text": [
      "\n",
      "\n",
      "\n",
      "  0%|          | 8/10956 [00:09<3:32:23,  1.16s/it]\u001b[A\u001b[A\u001b[A"
     ]
    },
    {
     "name": "stdout",
     "output_type": "stream",
     "text": [
      "(1, 40, 180)\n",
      "(1, 40, 180)\n",
      "(1, 40, 180)\n",
      "(1, 40, 180)\n"
     ]
    },
    {
     "name": "stderr",
     "output_type": "stream",
     "text": [
      "\n",
      "\n",
      "\n",
      "  0%|          | 9/10956 [00:10<3:28:58,  1.15s/it]\u001b[A\u001b[A\u001b[A"
     ]
    },
    {
     "name": "stdout",
     "output_type": "stream",
     "text": [
      "(1, 40, 180)\n"
     ]
    },
    {
     "name": "stderr",
     "output_type": "stream",
     "text": [
      "\n",
      "\n",
      "\n",
      "  0%|          | 10/10956 [00:11<3:18:36,  1.09s/it]\u001b[A\u001b[A\u001b[A"
     ]
    },
    {
     "name": "stdout",
     "output_type": "stream",
     "text": [
      "(1, 40, 180)\n",
      "Not long enough\n",
      "(1, 40, 180)\n",
      "(1, 40, 180)\n",
      "(1, 40, 180)\n"
     ]
    },
    {
     "name": "stderr",
     "output_type": "stream",
     "text": [
      "\n",
      "\n",
      "\n",
      "  0%|          | 11/10956 [00:12<3:28:05,  1.14s/it]\u001b[A\u001b[A\u001b[A"
     ]
    },
    {
     "name": "stdout",
     "output_type": "stream",
     "text": [
      "(1, 40, 180)\n",
      "(1, 40, 180)\n",
      "(1, 40, 180)\n",
      "(1, 40, 180)\n"
     ]
    },
    {
     "name": "stderr",
     "output_type": "stream",
     "text": [
      "\n",
      "\n",
      "\n",
      "  0%|          | 12/10956 [00:14<3:30:38,  1.15s/it]\u001b[A\u001b[A\u001b[A"
     ]
    },
    {
     "name": "stdout",
     "output_type": "stream",
     "text": [
      "(1, 40, 180)\n",
      "(1, 40, 180)\n",
      "(1, 40, 180)\n",
      "(1, 40, 180)\n"
     ]
    },
    {
     "name": "stderr",
     "output_type": "stream",
     "text": [
      "\n",
      "\n",
      "\n",
      "  0%|          | 13/10956 [00:14<3:12:26,  1.06s/it]\u001b[A\u001b[A\u001b[A"
     ]
    },
    {
     "name": "stdout",
     "output_type": "stream",
     "text": [
      "(1, 40, 180)\n",
      "(1, 40, 180)\n",
      "(1, 40, 180)\n",
      "(1, 40, 180)\n"
     ]
    },
    {
     "name": "stderr",
     "output_type": "stream",
     "text": [
      "\n",
      "\n",
      "\n",
      "  0%|          | 14/10956 [00:15<3:17:16,  1.08s/it]\u001b[A\u001b[A\u001b[A"
     ]
    },
    {
     "name": "stdout",
     "output_type": "stream",
     "text": [
      "(1, 40, 180)\n",
      "(1, 40, 180)\n",
      "(1, 40, 180)\n",
      "(1, 40, 180)\n"
     ]
    },
    {
     "name": "stderr",
     "output_type": "stream",
     "text": [
      "\n",
      "\n",
      "\n",
      "  0%|          | 15/10956 [00:16<3:12:17,  1.05s/it]\u001b[A\u001b[A\u001b[A"
     ]
    },
    {
     "name": "stdout",
     "output_type": "stream",
     "text": [
      "(1, 40, 180)\n",
      "Sun Mar 15 21:37:23 2020\tEpoch:1,Iteration:15\tLoss:0.4123883843421936\t\n",
      "\n",
      "(1, 40, 180)\n",
      "(1, 40, 180)\n",
      "(1, 40, 180)\n"
     ]
    },
    {
     "name": "stderr",
     "output_type": "stream",
     "text": [
      "\n",
      "\n",
      "\n",
      "  0%|          | 16/10956 [00:17<3:01:11,  1.01it/s]\u001b[A\u001b[A\u001b[A"
     ]
    },
    {
     "name": "stdout",
     "output_type": "stream",
     "text": [
      "(1, 40, 180)\n",
      "(1, 40, 180)\n",
      "(1, 40, 180)\n",
      "(1, 40, 180)\n"
     ]
    },
    {
     "name": "stderr",
     "output_type": "stream",
     "text": [
      "\n",
      "\n",
      "\n",
      "  0%|          | 17/10956 [00:18<3:01:27,  1.00it/s]\u001b[A\u001b[A\u001b[A"
     ]
    },
    {
     "name": "stdout",
     "output_type": "stream",
     "text": [
      "(1, 40, 180)\n",
      "(1, 40, 180)\n",
      "(1, 40, 180)\n",
      "(1, 40, 180)\n"
     ]
    },
    {
     "name": "stderr",
     "output_type": "stream",
     "text": [
      "\n",
      "\n",
      "\n",
      "  0%|          | 18/10956 [00:19<3:10:04,  1.04s/it]\u001b[A\u001b[A\u001b[A"
     ]
    },
    {
     "name": "stdout",
     "output_type": "stream",
     "text": [
      "(1, 40, 180)\n",
      "(1, 40, 180)\n"
     ]
    },
    {
     "name": "stderr",
     "output_type": "stream",
     "text": [
      "\n",
      "\n",
      "\n",
      "  0%|          | 19/10956 [00:20<2:31:15,  1.21it/s]\u001b[A\u001b[A\u001b[A"
     ]
    },
    {
     "name": "stdout",
     "output_type": "stream",
     "text": [
      "Not long enough\n",
      "(1, 40, 180)\n",
      "(1, 40, 180)\n",
      "(1, 40, 180)\n"
     ]
    },
    {
     "name": "stderr",
     "output_type": "stream",
     "text": [
      "\n",
      "\n",
      "\n",
      "  0%|          | 20/10956 [00:21<2:59:33,  1.02it/s]\u001b[A\u001b[A\u001b[A"
     ]
    },
    {
     "name": "stdout",
     "output_type": "stream",
     "text": [
      "(1, 40, 180)\n",
      "Sun Mar 15 21:37:28 2020\tEpoch:1,Iteration:20\tLoss:0.55159991979599\t\n",
      "\n",
      "(1, 40, 180)\n",
      "(1, 40, 180)\n",
      "(1, 40, 180)\n",
      "(1, 40, 180)\n"
     ]
    },
    {
     "name": "stderr",
     "output_type": "stream",
     "text": [
      "\n",
      "\n",
      "\n",
      "  0%|          | 21/10956 [00:22<2:49:30,  1.08it/s]\u001b[A\u001b[A\u001b[A"
     ]
    },
    {
     "name": "stdout",
     "output_type": "stream",
     "text": [
      "(1, 40, 180)\n",
      "(1, 40, 180)\n",
      "(1, 40, 180)\n"
     ]
    },
    {
     "name": "stderr",
     "output_type": "stream",
     "text": [
      "\n",
      "\n",
      "\n",
      "  0%|          | 22/10956 [00:23<3:05:57,  1.02s/it]\u001b[A\u001b[A\u001b[A"
     ]
    },
    {
     "name": "stdout",
     "output_type": "stream",
     "text": [
      "(1, 40, 180)\n",
      "(1, 40, 180)\n",
      "(1, 40, 180)\n",
      "(1, 40, 180)\n"
     ]
    },
    {
     "name": "stderr",
     "output_type": "stream",
     "text": [
      "\n",
      "\n",
      "\n",
      "  0%|          | 23/10956 [00:24<3:15:30,  1.07s/it]\u001b[A\u001b[A\u001b[A"
     ]
    },
    {
     "name": "stdout",
     "output_type": "stream",
     "text": [
      "(1, 40, 180)\n",
      "(1, 40, 180)\n",
      "(1, 40, 180)\n",
      "(1, 40, 180)\n"
     ]
    },
    {
     "name": "stderr",
     "output_type": "stream",
     "text": [
      "\n",
      "\n",
      "\n",
      "  0%|          | 24/10956 [00:26<3:24:43,  1.12s/it]\u001b[A\u001b[A\u001b[A"
     ]
    },
    {
     "name": "stdout",
     "output_type": "stream",
     "text": [
      "(1, 40, 180)\n",
      "(1, 40, 180)\n",
      "(1, 40, 180)\n",
      "(1, 40, 180)\n"
     ]
    },
    {
     "name": "stderr",
     "output_type": "stream",
     "text": [
      "\n",
      "\n",
      "\n",
      "  0%|          | 25/10956 [00:26<3:07:43,  1.03s/it]\u001b[A\u001b[A\u001b[A"
     ]
    },
    {
     "name": "stdout",
     "output_type": "stream",
     "text": [
      "(1, 40, 180)\n",
      "Sun Mar 15 21:37:33 2020\tEpoch:1,Iteration:25\tLoss:9.561954498291016\t\n",
      "\n",
      "(1, 40, 180)\n",
      "(1, 40, 180)\n",
      "(1, 40, 180)\n"
     ]
    },
    {
     "name": "stderr",
     "output_type": "stream",
     "text": [
      "\n",
      "\n",
      "\n",
      "  0%|          | 26/10956 [00:28<3:10:29,  1.05s/it]\u001b[A\u001b[A\u001b[A"
     ]
    },
    {
     "name": "stdout",
     "output_type": "stream",
     "text": [
      "(1, 40, 180)\n",
      "(1, 40, 180)\n",
      "(1, 40, 180)\n",
      "(1, 40, 180)\n"
     ]
    },
    {
     "name": "stderr",
     "output_type": "stream",
     "text": [
      "\n",
      "\n",
      "\n",
      "  0%|          | 27/10956 [00:29<3:19:11,  1.09s/it]\u001b[A\u001b[A\u001b[A"
     ]
    },
    {
     "name": "stdout",
     "output_type": "stream",
     "text": [
      "(1, 40, 180)\n",
      "(1, 40, 180)\n",
      "(1, 40, 180)\n",
      "(1, 40, 180)\n"
     ]
    },
    {
     "name": "stderr",
     "output_type": "stream",
     "text": [
      "\n",
      "\n",
      "\n",
      "  0%|          | 28/10956 [00:30<3:53:20,  1.28s/it]\u001b[A\u001b[A\u001b[A"
     ]
    },
    {
     "name": "stdout",
     "output_type": "stream",
     "text": [
      "(1, 40, 180)\n",
      "(1, 40, 180)\n",
      "(1, 40, 180)\n",
      "(1, 40, 180)\n"
     ]
    },
    {
     "name": "stderr",
     "output_type": "stream",
     "text": [
      "\n",
      "\n",
      "\n",
      "  0%|          | 29/10956 [00:32<4:19:22,  1.42s/it]\u001b[A\u001b[A\u001b[A"
     ]
    },
    {
     "name": "stdout",
     "output_type": "stream",
     "text": [
      "(1, 40, 180)\n",
      "(1, 40, 180)\n",
      "(1, 40, 180)\n",
      "(1, 40, 180)\n"
     ]
    },
    {
     "name": "stderr",
     "output_type": "stream",
     "text": [
      "\n",
      "\n",
      "\n",
      "  0%|          | 30/10956 [00:34<4:17:22,  1.41s/it]\u001b[A\u001b[A\u001b[A"
     ]
    },
    {
     "name": "stdout",
     "output_type": "stream",
     "text": [
      "(1, 40, 180)\n",
      "Sun Mar 15 21:37:40 2020\tEpoch:1,Iteration:30\tLoss:4.947268486022949\t\n",
      "\n",
      "(1, 40, 180)\n",
      "(1, 40, 180)\n",
      "(1, 40, 180)\n"
     ]
    },
    {
     "name": "stderr",
     "output_type": "stream",
     "text": [
      "\n",
      "\n",
      "\n",
      "  0%|          | 31/10956 [00:35<3:57:41,  1.31s/it]\u001b[A\u001b[A\u001b[A"
     ]
    },
    {
     "name": "stdout",
     "output_type": "stream",
     "text": [
      "(1, 40, 180)\n",
      "(1, 40, 180)\n",
      "(1, 40, 180)\n",
      "(1, 40, 180)\n"
     ]
    },
    {
     "name": "stderr",
     "output_type": "stream",
     "text": [
      "\n",
      "\n",
      "\n",
      "  0%|          | 32/10956 [00:36<3:53:38,  1.28s/it]\u001b[A\u001b[A\u001b[A"
     ]
    },
    {
     "name": "stdout",
     "output_type": "stream",
     "text": [
      "(1, 40, 180)\n",
      "(1, 40, 180)\n",
      "(1, 40, 180)\n",
      "(1, 40, 180)\n"
     ]
    },
    {
     "name": "stderr",
     "output_type": "stream",
     "text": [
      "\n",
      "\n",
      "\n",
      "  0%|          | 33/10956 [00:37<3:49:01,  1.26s/it]\u001b[A\u001b[A\u001b[A"
     ]
    },
    {
     "name": "stdout",
     "output_type": "stream",
     "text": [
      "(1, 40, 180)\n",
      "(1, 40, 180)\n",
      "(1, 40, 180)\n",
      "(1, 40, 180)\n"
     ]
    },
    {
     "name": "stderr",
     "output_type": "stream",
     "text": [
      "\n",
      "\n",
      "\n",
      "  0%|          | 34/10956 [00:38<3:48:02,  1.25s/it]\u001b[A\u001b[A\u001b[A"
     ]
    },
    {
     "name": "stdout",
     "output_type": "stream",
     "text": [
      "(1, 40, 180)\n",
      "(1, 40, 180)\n",
      "(1, 40, 180)\n",
      "(1, 40, 180)\n"
     ]
    },
    {
     "name": "stderr",
     "output_type": "stream",
     "text": [
      "\n",
      "\n",
      "\n",
      "  0%|          | 35/10956 [00:40<4:01:49,  1.33s/it]\u001b[A\u001b[A\u001b[A"
     ]
    },
    {
     "name": "stdout",
     "output_type": "stream",
     "text": [
      "(1, 40, 180)\n",
      "Sun Mar 15 21:37:46 2020\tEpoch:1,Iteration:35\tLoss:8.652231216430664\t\n",
      "\n",
      "(1, 40, 180)\n",
      "(1, 40, 180)\n",
      "(1, 40, 180)\n"
     ]
    },
    {
     "name": "stderr",
     "output_type": "stream",
     "text": [
      "\n",
      "\n",
      "\n",
      "  0%|          | 36/10956 [00:41<3:41:24,  1.22s/it]\u001b[A\u001b[A\u001b[A"
     ]
    },
    {
     "name": "stdout",
     "output_type": "stream",
     "text": [
      "(1, 40, 180)\n",
      "(1, 40, 180)\n",
      "(1, 40, 180)\n",
      "(1, 40, 180)\n"
     ]
    },
    {
     "name": "stderr",
     "output_type": "stream",
     "text": [
      "\n",
      "\n",
      "\n",
      "  0%|          | 37/10956 [00:42<3:39:43,  1.21s/it]\u001b[A\u001b[A\u001b[A"
     ]
    },
    {
     "name": "stdout",
     "output_type": "stream",
     "text": [
      "(1, 40, 180)\n",
      "(1, 40, 180)\n",
      "(1, 40, 180)\n",
      "(1, 40, 180)\n"
     ]
    },
    {
     "name": "stderr",
     "output_type": "stream",
     "text": [
      "\n",
      "\n",
      "\n",
      "  0%|          | 38/10956 [00:43<3:29:16,  1.15s/it]\u001b[A\u001b[A\u001b[A"
     ]
    },
    {
     "name": "stdout",
     "output_type": "stream",
     "text": [
      "(1, 40, 180)\n",
      "(1, 40, 180)\n",
      "(1, 40, 180)\n",
      "(1, 40, 180)\n",
      "(1, 40, 180)\n"
     ]
    },
    {
     "name": "stderr",
     "output_type": "stream",
     "text": [
      "\n",
      "\n",
      "\n",
      "  0%|          | 39/10956 [00:44<3:29:47,  1.15s/it]\u001b[A\u001b[A\u001b[A"
     ]
    },
    {
     "name": "stdout",
     "output_type": "stream",
     "text": [
      "(1, 40, 180)\n",
      "(1, 40, 180)\n",
      "(1, 40, 180)\n"
     ]
    },
    {
     "name": "stderr",
     "output_type": "stream",
     "text": [
      "\n",
      "\n",
      "\n",
      "  0%|          | 40/10956 [00:45<3:28:25,  1.15s/it]\u001b[A\u001b[A\u001b[A"
     ]
    },
    {
     "name": "stdout",
     "output_type": "stream",
     "text": [
      "(1, 40, 180)\n",
      "Sun Mar 15 21:37:52 2020\tEpoch:1,Iteration:40\tLoss:0.1148993968963623\t\n",
      "\n",
      "(1, 40, 180)\n",
      "(1, 40, 180)\n",
      "(1, 40, 180)\n"
     ]
    },
    {
     "name": "stderr",
     "output_type": "stream",
     "text": [
      "\n",
      "\n",
      "\n",
      "  0%|          | 41/10956 [00:46<3:17:30,  1.09s/it]\u001b[A\u001b[A\u001b[A"
     ]
    },
    {
     "name": "stdout",
     "output_type": "stream",
     "text": [
      "(1, 40, 180)\n",
      "(1, 40, 180)\n",
      "(1, 40, 180)\n",
      "(1, 40, 180)\n"
     ]
    },
    {
     "name": "stderr",
     "output_type": "stream",
     "text": [
      "\n",
      "\n",
      "\n",
      "  0%|          | 42/10956 [00:47<3:10:53,  1.05s/it]\u001b[A\u001b[A\u001b[A"
     ]
    },
    {
     "name": "stdout",
     "output_type": "stream",
     "text": [
      "(1, 40, 180)\n",
      "(1, 40, 180)\n",
      "(1, 40, 180)\n",
      "(1, 40, 180)\n"
     ]
    },
    {
     "name": "stderr",
     "output_type": "stream",
     "text": [
      "\n",
      "\n",
      "\n",
      "  0%|          | 43/10956 [00:48<3:25:22,  1.13s/it]\u001b[A\u001b[A\u001b[A"
     ]
    },
    {
     "name": "stdout",
     "output_type": "stream",
     "text": [
      "(1, 40, 180)\n",
      "(1, 40, 180)\n",
      "(1, 40, 180)\n",
      "(1, 40, 180)\n"
     ]
    },
    {
     "name": "stderr",
     "output_type": "stream",
     "text": [
      "\n",
      "\n",
      "\n",
      "  0%|          | 44/10956 [00:50<3:40:49,  1.21s/it]\u001b[A\u001b[A\u001b[A"
     ]
    },
    {
     "name": "stdout",
     "output_type": "stream",
     "text": [
      "(1, 40, 180)\n",
      "(1, 40, 180)\n",
      "(1, 40, 180)\n",
      "(1, 40, 180)\n"
     ]
    },
    {
     "name": "stderr",
     "output_type": "stream",
     "text": [
      "\n",
      "\n",
      "\n",
      "  0%|          | 45/10956 [00:51<3:56:49,  1.30s/it]\u001b[A\u001b[A\u001b[A"
     ]
    },
    {
     "name": "stdout",
     "output_type": "stream",
     "text": [
      "(1, 40, 180)\n",
      "Sun Mar 15 21:37:58 2020\tEpoch:1,Iteration:45\tLoss:0.5149548053741455\t\n",
      "\n",
      "(1, 40, 180)\n",
      "(1, 40, 180)\n",
      "(1, 40, 180)\n"
     ]
    },
    {
     "name": "stderr",
     "output_type": "stream",
     "text": [
      "\n",
      "\n",
      "\n",
      "  0%|          | 46/10956 [00:53<4:05:43,  1.35s/it]\u001b[A\u001b[A\u001b[A"
     ]
    },
    {
     "name": "stdout",
     "output_type": "stream",
     "text": [
      "(1, 40, 180)\n",
      "(1, 40, 180)\n",
      "(1, 40, 180)\n",
      "(1, 40, 180)\n"
     ]
    },
    {
     "name": "stderr",
     "output_type": "stream",
     "text": [
      "\n",
      "\n",
      "\n",
      "  0%|          | 47/10956 [00:54<3:55:30,  1.30s/it]\u001b[A\u001b[A\u001b[A"
     ]
    },
    {
     "name": "stdout",
     "output_type": "stream",
     "text": [
      "(1, 40, 180)\n",
      "(1, 40, 180)\n",
      "(1, 40, 180)\n",
      "(1, 40, 180)\n"
     ]
    },
    {
     "name": "stderr",
     "output_type": "stream",
     "text": [
      "\n",
      "\n",
      "\n",
      "  0%|          | 48/10956 [00:55<3:46:22,  1.25s/it]\u001b[A\u001b[A\u001b[A"
     ]
    },
    {
     "name": "stdout",
     "output_type": "stream",
     "text": [
      "(1, 40, 180)\n",
      "(1, 40, 180)\n",
      "(1, 40, 180)\n",
      "(1, 40, 180)\n"
     ]
    },
    {
     "name": "stderr",
     "output_type": "stream",
     "text": [
      "\n",
      "\n",
      "\n",
      "  0%|          | 49/10956 [00:57<3:52:11,  1.28s/it]\u001b[A\u001b[A\u001b[A"
     ]
    },
    {
     "name": "stdout",
     "output_type": "stream",
     "text": [
      "(1, 40, 180)\n",
      "(1, 40, 180)\n",
      "(1, 40, 180)\n",
      "(1, 40, 180)\n"
     ]
    },
    {
     "name": "stderr",
     "output_type": "stream",
     "text": [
      "\n",
      "\n",
      "\n",
      "  0%|          | 50/10956 [00:57<3:35:02,  1.18s/it]\u001b[A\u001b[A\u001b[A"
     ]
    },
    {
     "name": "stdout",
     "output_type": "stream",
     "text": [
      "(1, 40, 180)\n",
      "Sun Mar 15 21:38:04 2020\tEpoch:1,Iteration:50\tLoss:0.9581316113471985\t\n",
      "\n",
      "(1, 40, 180)\n",
      "(1, 40, 180)\n",
      "(1, 40, 180)\n"
     ]
    },
    {
     "name": "stderr",
     "output_type": "stream",
     "text": [
      "\n",
      "\n",
      "\n",
      "  0%|          | 51/10956 [00:59<3:43:29,  1.23s/it]\u001b[A\u001b[A\u001b[A"
     ]
    },
    {
     "name": "stdout",
     "output_type": "stream",
     "text": [
      "(1, 40, 180)\n",
      "(1, 40, 180)\n",
      "(1, 40, 180)\n"
     ]
    },
    {
     "name": "stderr",
     "output_type": "stream",
     "text": [
      "\n",
      "\n",
      "\n",
      "  0%|          | 52/10956 [01:00<3:20:20,  1.10s/it]\u001b[A\u001b[A\u001b[A"
     ]
    },
    {
     "name": "stdout",
     "output_type": "stream",
     "text": [
      "(1, 40, 180)\n",
      "(1, 40, 180)\n",
      "(1, 40, 180)\n",
      "(1, 40, 180)\n"
     ]
    },
    {
     "name": "stderr",
     "output_type": "stream",
     "text": [
      "\n",
      "\n",
      "\n",
      "  0%|          | 53/10956 [01:01<3:10:25,  1.05s/it]\u001b[A\u001b[A\u001b[A"
     ]
    },
    {
     "name": "stdout",
     "output_type": "stream",
     "text": [
      "(1, 40, 180)\n",
      "(1, 40, 180)\n",
      "(1, 40, 180)\n",
      "(1, 40, 180)\n",
      "(1, 40, 180)\n"
     ]
    },
    {
     "name": "stderr",
     "output_type": "stream",
     "text": [
      "\n",
      "\n",
      "\n",
      "  0%|          | 54/10956 [01:02<3:22:24,  1.11s/it]\u001b[A\u001b[A\u001b[A"
     ]
    },
    {
     "name": "stdout",
     "output_type": "stream",
     "text": [
      "(1, 40, 180)\n",
      "(1, 40, 180)\n",
      "(1, 40, 180)\n",
      "(1, 40, 180)\n"
     ]
    },
    {
     "name": "stderr",
     "output_type": "stream",
     "text": [
      "\n",
      "\n",
      "\n",
      "  1%|          | 55/10956 [01:03<3:20:18,  1.10s/it]\u001b[A\u001b[A\u001b[A"
     ]
    },
    {
     "name": "stdout",
     "output_type": "stream",
     "text": [
      "(1, 40, 180)\n",
      "Sun Mar 15 21:38:09 2020\tEpoch:1,Iteration:55\tLoss:2.512282371520996\t\n",
      "\n",
      "(1, 40, 180)\n",
      "(1, 40, 180)\n",
      "(1, 40, 180)\n"
     ]
    },
    {
     "name": "stderr",
     "output_type": "stream",
     "text": [
      "\n",
      "\n",
      "\n",
      "  1%|          | 56/10956 [01:04<3:31:16,  1.16s/it]\u001b[A\u001b[A\u001b[A"
     ]
    },
    {
     "name": "stdout",
     "output_type": "stream",
     "text": [
      "(1, 40, 180)\n",
      "(1, 40, 180)\n",
      "(1, 40, 180)\n",
      "(1, 40, 180)\n"
     ]
    },
    {
     "name": "stderr",
     "output_type": "stream",
     "text": [
      "\n",
      "\n",
      "\n",
      "  1%|          | 57/10956 [01:06<3:40:21,  1.21s/it]\u001b[A\u001b[A\u001b[A"
     ]
    },
    {
     "name": "stdout",
     "output_type": "stream",
     "text": [
      "(1, 40, 180)\n",
      "(1, 40, 180)\n",
      "(1, 40, 180)\n",
      "(1, 40, 180)\n",
      "(1, 40, 180)\n"
     ]
    },
    {
     "name": "stderr",
     "output_type": "stream",
     "text": [
      "\n",
      "\n",
      "\n",
      "  1%|          | 58/10956 [01:07<3:35:08,  1.18s/it]\u001b[A\u001b[A\u001b[A\n",
      "\n",
      "\n",
      "  1%|          | 59/10956 [01:07<2:56:23,  1.03it/s]\u001b[A\u001b[A\u001b[A"
     ]
    },
    {
     "name": "stdout",
     "output_type": "stream",
     "text": [
      "(1, 40, 180)\n",
      "Not long enough\n",
      "(1, 40, 180)\n",
      "(1, 40, 180)\n",
      "(1, 40, 180)\n"
     ]
    },
    {
     "name": "stderr",
     "output_type": "stream",
     "text": [
      "\n",
      "\n",
      "\n",
      "  1%|          | 60/10956 [01:08<3:14:36,  1.07s/it]\u001b[A\u001b[A\u001b[A"
     ]
    },
    {
     "name": "stdout",
     "output_type": "stream",
     "text": [
      "(1, 40, 180)\n",
      "Sun Mar 15 21:38:15 2020\tEpoch:1,Iteration:60\tLoss:3.1411194801330566\t\n",
      "\n",
      "(1, 40, 180)\n",
      "(1, 40, 180)\n",
      "(1, 40, 180)\n"
     ]
    },
    {
     "name": "stderr",
     "output_type": "stream",
     "text": [
      "\n",
      "\n",
      "\n",
      "  1%|          | 61/10956 [01:09<3:06:20,  1.03s/it]\u001b[A\u001b[A\u001b[A"
     ]
    },
    {
     "name": "stdout",
     "output_type": "stream",
     "text": [
      "(1, 40, 180)\n",
      "(1, 40, 180)\n",
      "(1, 40, 180)\n",
      "(1, 40, 180)\n"
     ]
    },
    {
     "name": "stderr",
     "output_type": "stream",
     "text": [
      "\n",
      "\n",
      "\n",
      "  1%|          | 62/10956 [01:11<3:20:15,  1.10s/it]\u001b[A\u001b[A\u001b[A"
     ]
    },
    {
     "name": "stdout",
     "output_type": "stream",
     "text": [
      "(1, 40, 180)\n",
      "(1, 40, 180)\n",
      "(1, 40, 180)\n",
      "(1, 40, 180)\n"
     ]
    },
    {
     "name": "stderr",
     "output_type": "stream",
     "text": [
      "\n",
      "\n",
      "\n",
      "  1%|          | 63/10956 [01:12<3:10:28,  1.05s/it]\u001b[A\u001b[A\u001b[A"
     ]
    },
    {
     "name": "stdout",
     "output_type": "stream",
     "text": [
      "(1, 40, 180)\n",
      "(1, 40, 180)\n",
      "(1, 40, 180)\n",
      "(1, 40, 180)\n"
     ]
    },
    {
     "name": "stderr",
     "output_type": "stream",
     "text": [
      "\n",
      "\n",
      "\n",
      "  1%|          | 64/10956 [01:13<3:20:21,  1.10s/it]\u001b[A\u001b[A\u001b[A"
     ]
    },
    {
     "name": "stdout",
     "output_type": "stream",
     "text": [
      "(1, 40, 180)\n",
      "(1, 40, 180)\n",
      "(1, 40, 180)\n",
      "(1, 40, 180)\n"
     ]
    },
    {
     "name": "stderr",
     "output_type": "stream",
     "text": [
      "\n",
      "\n",
      "\n",
      "  1%|          | 65/10956 [01:14<3:29:51,  1.16s/it]\u001b[A\u001b[A\u001b[A"
     ]
    },
    {
     "name": "stdout",
     "output_type": "stream",
     "text": [
      "(1, 40, 180)\n",
      "Sun Mar 15 21:38:21 2020\tEpoch:1,Iteration:65\tLoss:0.279246985912323\t\n",
      "\n",
      "(1, 40, 180)\n",
      "(1, 40, 180)\n",
      "(1, 40, 180)\n"
     ]
    },
    {
     "name": "stderr",
     "output_type": "stream",
     "text": [
      "\n",
      "\n",
      "\n",
      "  1%|          | 66/10956 [01:15<3:36:39,  1.19s/it]\u001b[A\u001b[A\u001b[A"
     ]
    },
    {
     "name": "stdout",
     "output_type": "stream",
     "text": [
      "(1, 40, 180)\n",
      "(1, 40, 180)\n",
      "(1, 40, 180)\n",
      "(1, 40, 180)\n"
     ]
    },
    {
     "name": "stderr",
     "output_type": "stream",
     "text": [
      "\n",
      "\n",
      "\n",
      "  1%|          | 67/10956 [01:17<3:45:19,  1.24s/it]\u001b[A\u001b[A\u001b[A"
     ]
    },
    {
     "name": "stdout",
     "output_type": "stream",
     "text": [
      "(1, 40, 180)\n",
      "(1, 40, 180)\n",
      "(1, 40, 180)\n",
      "(1, 40, 180)\n",
      "(1, 40, 180)\n"
     ]
    },
    {
     "name": "stderr",
     "output_type": "stream",
     "text": [
      "\n",
      "\n",
      "\n",
      "  1%|          | 68/10956 [01:18<3:27:54,  1.15s/it]\u001b[A\u001b[A\u001b[A"
     ]
    },
    {
     "name": "stdout",
     "output_type": "stream",
     "text": [
      "(1, 40, 180)\n",
      "(1, 40, 180)\n",
      "(1, 40, 180)\n"
     ]
    },
    {
     "name": "stderr",
     "output_type": "stream",
     "text": [
      "\n",
      "\n",
      "\n",
      "  1%|          | 69/10956 [01:19<3:25:36,  1.13s/it]\u001b[A\u001b[A\u001b[A"
     ]
    },
    {
     "name": "stdout",
     "output_type": "stream",
     "text": [
      "(1, 40, 180)\n",
      "(1, 40, 180)\n",
      "(1, 40, 180)\n",
      "(1, 40, 180)\n"
     ]
    },
    {
     "name": "stderr",
     "output_type": "stream",
     "text": [
      "\n",
      "\n",
      "\n",
      "  1%|          | 70/10956 [01:20<3:21:49,  1.11s/it]\u001b[A\u001b[A\u001b[A"
     ]
    },
    {
     "name": "stdout",
     "output_type": "stream",
     "text": [
      "(1, 40, 180)\n",
      "Sun Mar 15 21:38:26 2020\tEpoch:1,Iteration:70\tLoss:7.719089508056641\t\n",
      "\n",
      "(1, 40, 180)\n",
      "(1, 40, 180)\n",
      "(1, 40, 180)\n"
     ]
    },
    {
     "name": "stderr",
     "output_type": "stream",
     "text": [
      "\n",
      "\n",
      "\n",
      "  1%|          | 71/10956 [01:21<3:35:17,  1.19s/it]\u001b[A\u001b[A\u001b[A"
     ]
    },
    {
     "name": "stdout",
     "output_type": "stream",
     "text": [
      "(1, 40, 180)\n",
      "(1, 40, 180)\n",
      "(1, 40, 180)\n",
      "(1, 40, 180)\n"
     ]
    },
    {
     "name": "stderr",
     "output_type": "stream",
     "text": [
      "\n",
      "\n",
      "\n",
      "  1%|          | 72/10956 [01:22<3:23:17,  1.12s/it]\u001b[A\u001b[A\u001b[A"
     ]
    },
    {
     "name": "stdout",
     "output_type": "stream",
     "text": [
      "(1, 40, 180)\n",
      "(1, 40, 180)\n",
      "(1, 40, 180)\n",
      "(1, 40, 180)\n"
     ]
    },
    {
     "name": "stderr",
     "output_type": "stream",
     "text": [
      "\n",
      "\n",
      "\n",
      "  1%|          | 73/10956 [01:23<3:22:00,  1.11s/it]\u001b[A\u001b[A\u001b[A"
     ]
    },
    {
     "name": "stdout",
     "output_type": "stream",
     "text": [
      "(1, 40, 180)\n",
      "(1, 40, 180)\n",
      "(1, 40, 180)\n",
      "(1, 40, 180)\n"
     ]
    },
    {
     "name": "stderr",
     "output_type": "stream",
     "text": [
      "\n",
      "\n",
      "\n",
      "  1%|          | 74/10956 [01:24<3:29:59,  1.16s/it]\u001b[A\u001b[A\u001b[A"
     ]
    },
    {
     "name": "stdout",
     "output_type": "stream",
     "text": [
      "(1, 40, 180)\n",
      "(1, 40, 180)\n",
      "(1, 40, 180)\n",
      "(1, 40, 180)\n"
     ]
    },
    {
     "name": "stderr",
     "output_type": "stream",
     "text": [
      "\n",
      "\n",
      "\n",
      "  1%|          | 75/10956 [01:26<3:35:32,  1.19s/it]\u001b[A\u001b[A\u001b[A"
     ]
    },
    {
     "name": "stdout",
     "output_type": "stream",
     "text": [
      "(1, 40, 180)\n",
      "Sun Mar 15 21:38:32 2020\tEpoch:1,Iteration:75\tLoss:8.080278396606445\t\n",
      "\n",
      "(1, 40, 180)\n",
      "(1, 40, 180)\n",
      "(1, 40, 180)\n"
     ]
    },
    {
     "name": "stderr",
     "output_type": "stream",
     "text": [
      "\n",
      "\n",
      "\n",
      "  1%|          | 76/10956 [01:27<3:33:24,  1.18s/it]\u001b[A\u001b[A\u001b[A"
     ]
    },
    {
     "name": "stdout",
     "output_type": "stream",
     "text": [
      "(1, 40, 180)\n",
      "(1, 40, 180)\n",
      "(1, 40, 180)\n",
      "(1, 40, 180)\n"
     ]
    },
    {
     "name": "stderr",
     "output_type": "stream",
     "text": [
      "\n",
      "\n",
      "\n",
      "  1%|          | 77/10956 [01:28<3:32:39,  1.17s/it]\u001b[A\u001b[A\u001b[A"
     ]
    },
    {
     "name": "stdout",
     "output_type": "stream",
     "text": [
      "(1, 40, 180)\n",
      "(1, 40, 180)\n",
      "(1, 40, 180)\n",
      "(1, 40, 180)\n"
     ]
    },
    {
     "name": "stderr",
     "output_type": "stream",
     "text": [
      "\n",
      "\n",
      "\n",
      "  1%|          | 78/10956 [01:29<3:22:32,  1.12s/it]\u001b[A\u001b[A\u001b[A"
     ]
    },
    {
     "name": "stdout",
     "output_type": "stream",
     "text": [
      "(1, 40, 180)\n",
      "(1, 40, 180)\n",
      "(1, 40, 180)\n",
      "(1, 40, 180)\n"
     ]
    },
    {
     "name": "stderr",
     "output_type": "stream",
     "text": [
      "\n",
      "\n",
      "\n",
      "  1%|          | 79/10956 [01:30<3:22:49,  1.12s/it]\u001b[A\u001b[A\u001b[A"
     ]
    },
    {
     "name": "stdout",
     "output_type": "stream",
     "text": [
      "(1, 40, 180)\n",
      "(1, 40, 180)\n",
      "(1, 40, 180)\n",
      "(1, 40, 180)\n"
     ]
    },
    {
     "name": "stderr",
     "output_type": "stream",
     "text": [
      "\n",
      "\n",
      "\n",
      "  1%|          | 80/10956 [01:31<3:21:33,  1.11s/it]\u001b[A\u001b[A\u001b[A"
     ]
    },
    {
     "name": "stdout",
     "output_type": "stream",
     "text": [
      "(1, 40, 180)\n",
      "Sun Mar 15 21:38:38 2020\tEpoch:1,Iteration:80\tLoss:8.47005558013916\t\n",
      "\n",
      "(1, 40, 180)\n",
      "(1, 40, 180)\n",
      "(1, 40, 180)\n"
     ]
    },
    {
     "name": "stderr",
     "output_type": "stream",
     "text": [
      "\n",
      "\n",
      "\n",
      "  1%|          | 81/10956 [01:32<3:26:34,  1.14s/it]\u001b[A\u001b[A\u001b[A"
     ]
    },
    {
     "name": "stdout",
     "output_type": "stream",
     "text": [
      "(1, 40, 180)\n",
      "(1, 40, 180)\n",
      "(1, 40, 180)\n",
      "(1, 40, 180)\n"
     ]
    },
    {
     "name": "stderr",
     "output_type": "stream",
     "text": [
      "\n",
      "\n",
      "\n",
      "  1%|          | 82/10956 [01:34<3:22:48,  1.12s/it]\u001b[A\u001b[A\u001b[A"
     ]
    },
    {
     "name": "stdout",
     "output_type": "stream",
     "text": [
      "(1, 40, 180)\n",
      "(1, 40, 180)\n",
      "(1, 40, 180)\n",
      "(1, 40, 180)\n"
     ]
    },
    {
     "name": "stderr",
     "output_type": "stream",
     "text": [
      "\n",
      "\n",
      "\n",
      "  1%|          | 83/10956 [01:35<3:22:09,  1.12s/it]\u001b[A\u001b[A\u001b[A"
     ]
    },
    {
     "name": "stdout",
     "output_type": "stream",
     "text": [
      "(1, 40, 180)\n",
      "(1, 40, 180)\n",
      "(1, 40, 180)\n",
      "(1, 40, 180)\n"
     ]
    },
    {
     "name": "stderr",
     "output_type": "stream",
     "text": [
      "\n",
      "\n",
      "\n",
      "  1%|          | 84/10956 [01:36<3:14:17,  1.07s/it]\u001b[A\u001b[A\u001b[A"
     ]
    },
    {
     "name": "stdout",
     "output_type": "stream",
     "text": [
      "(1, 40, 180)\n"
     ]
    }
   ],
   "source": [
    "train()"
   ]
  },
  {
   "cell_type": "code",
   "execution_count": null,
   "metadata": {},
   "outputs": [],
   "source": [
    "torch.transpose"
   ]
  },
  {
   "cell_type": "code",
   "execution_count": 64,
   "metadata": {},
   "outputs": [
    {
     "data": {
      "text/plain": [
       "10956"
      ]
     },
     "execution_count": 64,
     "metadata": {},
     "output_type": "execute_result"
    }
   ],
   "source": [
    "len(data_loader)"
   ]
  },
  {
   "cell_type": "code",
   "execution_count": 49,
   "metadata": {},
   "outputs": [
    {
     "data": {
      "text/plain": [
       "(4, 3, 2)"
      ]
     },
     "execution_count": 49,
     "metadata": {},
     "output_type": "execute_result"
    }
   ],
   "source": [
    "arr = np.array([[[1,2],[2,4],[4,5]],[[1,2],[2,4],[4,5]],[[1,2],[2,4],[4,5]],[[1,2],[2,4],[4,5]]])\n",
    "arr.shape"
   ]
  },
  {
   "cell_type": "code",
   "execution_count": 59,
   "metadata": {},
   "outputs": [
    {
     "data": {
      "text/plain": [
       "array([[[1, 2, 4],\n",
       "        [2, 4, 5]],\n",
       "\n",
       "       [[1, 2, 4],\n",
       "        [2, 4, 5]],\n",
       "\n",
       "       [[1, 2, 4],\n",
       "        [2, 4, 5]],\n",
       "\n",
       "       [[1, 2, 4],\n",
       "        [2, 4, 5]]])"
      ]
     },
     "execution_count": 59,
     "metadata": {},
     "output_type": "execute_result"
    }
   ],
   "source": [
    "np.transpose(arr, axes=(0,2,1))"
   ]
  },
  {
   "cell_type": "code",
   "execution_count": 60,
   "metadata": {},
   "outputs": [
    {
     "ename": "TypeError",
     "evalue": "numpy() takes no arguments (1 given)",
     "output_type": "error",
     "traceback": [
      "\u001b[0;31m---------------------------------------------------------------------------\u001b[0m",
      "\u001b[0;31mTypeError\u001b[0m                                 Traceback (most recent call last)",
      "\u001b[0;32m<ipython-input-60-1e210bb9b9a9>\u001b[0m in \u001b[0;36m<module>\u001b[0;34m\u001b[0m\n\u001b[0;32m----> 1\u001b[0;31m \u001b[0mtorch\u001b[0m\u001b[0;34m.\u001b[0m\u001b[0mtranspose\u001b[0m\u001b[0;34m(\u001b[0m\u001b[0mtorch\u001b[0m\u001b[0;34m.\u001b[0m\u001b[0mTensor\u001b[0m\u001b[0;34m(\u001b[0m\u001b[0marr\u001b[0m\u001b[0;34m)\u001b[0m\u001b[0;34m,\u001b[0m \u001b[0mdim0\u001b[0m\u001b[0;34m=\u001b[0m\u001b[0;36m1\u001b[0m\u001b[0;34m,\u001b[0m \u001b[0mdim1\u001b[0m\u001b[0;34m=\u001b[0m\u001b[0;36m2\u001b[0m\u001b[0;34m)\u001b[0m\u001b[0;34m.\u001b[0m\u001b[0mdetach\u001b[0m\u001b[0;34m(\u001b[0m\u001b[0;34m)\u001b[0m\u001b[0;34m.\u001b[0m\u001b[0mnumpy\u001b[0m\u001b[0;34m(\u001b[0m\u001b[0mint\u001b[0m\u001b[0;34m)\u001b[0m\u001b[0;34m\u001b[0m\u001b[0;34m\u001b[0m\u001b[0m\n\u001b[0m",
      "\u001b[0;31mTypeError\u001b[0m: numpy() takes no arguments (1 given)"
     ]
    }
   ],
   "source": [
    "torch.transpose(torch.Tensor(arr), dim0=1, dim1=2).detach().numpy()"
   ]
  },
  {
   "cell_type": "code",
   "execution_count": null,
   "metadata": {},
   "outputs": [],
   "source": []
  },
  {
   "cell_type": "code",
   "execution_count": 28,
   "metadata": {},
   "outputs": [
    {
     "name": "stdout",
     "output_type": "stream",
     "text": [
      "start text independent utterance feature extraction\n",
      "WARNING:tensorflow:From /home/dexter/anaconda3/lib/python3.6/site-packages/keras/backend/tensorflow_backend.py:422: The name tf.global_variables is deprecated. Please use tf.compat.v1.global_variables instead.\n",
      "\n"
     ]
    }
   ],
   "source": [
    "positive_speaker_embs, positive_accent_embs = get_both_embs(positive_utter_path)"
   ]
  },
  {
   "cell_type": "code",
   "execution_count": 34,
   "metadata": {},
   "outputs": [
    {
     "data": {
      "text/plain": [
       "torch.Size([1, 256])"
      ]
     },
     "execution_count": 34,
     "metadata": {},
     "output_type": "execute_result"
    }
   ],
   "source": [
    "positive_speaker_embs.shape"
   ]
  },
  {
   "cell_type": "code",
   "execution_count": 32,
   "metadata": {},
   "outputs": [
    {
     "data": {
      "text/plain": [
       "(1, 100)"
      ]
     },
     "execution_count": 32,
     "metadata": {},
     "output_type": "execute_result"
    }
   ],
   "source": [
    "positive_accent_embs.shape"
   ]
  },
  {
   "cell_type": "code",
   "execution_count": 35,
   "metadata": {},
   "outputs": [
    {
     "name": "stdout",
     "output_type": "stream",
     "text": [
      "start text independent utterance feature extraction\n"
     ]
    }
   ],
   "source": [
    "negative_speaker_embs, _ = get_both_embs(negative_utter_path)"
   ]
  },
  {
   "cell_type": "code",
   "execution_count": null,
   "metadata": {},
   "outputs": [],
   "source": []
  },
  {
   "cell_type": "code",
   "execution_count": null,
   "metadata": {},
   "outputs": [],
   "source": [
    "import numpy as np\n",
    "from sklearn.manifold import TSNE"
   ]
  },
  {
   "cell_type": "code",
   "execution_count": null,
   "metadata": {},
   "outputs": [],
   "source": [
    "from mpl_toolkits.mplot3d import Axes3D"
   ]
  },
  {
   "cell_type": "code",
   "execution_count": null,
   "metadata": {},
   "outputs": [],
   "source": [
    "tsne = TSNE(verbose=1)"
   ]
  },
  {
   "cell_type": "code",
   "execution_count": null,
   "metadata": {
    "scrolled": true
   },
   "outputs": [],
   "source": [
    "res = tsne.fit_transform(utters, y = speakers)"
   ]
  },
  {
   "cell_type": "code",
   "execution_count": null,
   "metadata": {},
   "outputs": [],
   "source": [
    "for ele in utts:\n",
    "    print(ele)"
   ]
  },
  {
   "cell_type": "code",
   "execution_count": null,
   "metadata": {},
   "outputs": [],
   "source": [
    "np_utts = np.asarray(utts, dtype='float32')"
   ]
  },
  {
   "cell_type": "code",
   "execution_count": null,
   "metadata": {},
   "outputs": [],
   "source": []
  },
  {
   "cell_type": "code",
   "execution_count": null,
   "metadata": {},
   "outputs": [],
   "source": [
    "utts = np.load('utterances.npy', allow_pickle=True)\n",
    "speakers = np.load('speakers.npy', allow_pickle=True)"
   ]
  },
  {
   "cell_type": "code",
   "execution_count": null,
   "metadata": {
    "scrolled": true
   },
   "outputs": [],
   "source": [
    "embedder_net(j[:,0,...].to('cuda'))"
   ]
  },
  {
   "cell_type": "code",
   "execution_count": null,
   "metadata": {},
   "outputs": [],
   "source": []
  },
  {
   "cell_type": "code",
   "execution_count": null,
   "metadata": {},
   "outputs": [],
   "source": [
    "from __future__ import print_function\n",
    "import time\n",
    "import numpy as np\n",
    "import pandas as pd\n",
    "from sklearn.datasets import fetch_mldata\n",
    "from sklearn.decomposition import PCA\n",
    "from sklearn.manifold import TSNE\n",
    "%matplotlib inline\n",
    "import matplotlib.pyplot as plt\n",
    "from mpl_toolkits.mplot3d import Axes3D\n",
    "import seaborn as sns"
   ]
  },
  {
   "cell_type": "code",
   "execution_count": null,
   "metadata": {},
   "outputs": [],
   "source": [
    "y = np.asarray(speakers)\n",
    "X = np.squeeze(np.asarray(utters),1)\n",
    "print(X.shape, y.shape)"
   ]
  },
  {
   "cell_type": "code",
   "execution_count": null,
   "metadata": {},
   "outputs": [],
   "source": [
    "feat_cols = [ 'pixel'+str(i) for i in range(X.shape[1]) ]\n",
    "df = pd.DataFrame(X,columns=feat_cols)\n",
    "df['y'] = y\n",
    "df['label'] = df['y'].apply(lambda i: str(i))\n",
    "X, y = None, None\n",
    "print('Size of the dataframe: {}'.format(df.shape))"
   ]
  },
  {
   "cell_type": "code",
   "execution_count": null,
   "metadata": {},
   "outputs": [],
   "source": [
    "# For reproducability of the results\n",
    "np.random.seed(42)\n",
    "rndperm = np.random.permutation(df.shape[0])"
   ]
  },
  {
   "cell_type": "code",
   "execution_count": null,
   "metadata": {},
   "outputs": [],
   "source": [
    "N = 10000\n",
    "df_subset = df.loc[rndperm[:N],:].copy()\n",
    "data_subset = df_subset[feat_cols].values\n",
    "pca = PCA(n_components=3)\n",
    "pca_result = pca.fit_transform(data_subset)\n",
    "df_subset['pca-one'] = pca_result[:,0]\n",
    "df_subset['pca-two'] = pca_result[:,1] \n",
    "df_subset['pca-three'] = pca_result[:,2]\n",
    "print('Explained variation per principal component: {}'.format(pca.explained_variance_ratio_))"
   ]
  },
  {
   "cell_type": "code",
   "execution_count": null,
   "metadata": {},
   "outputs": [],
   "source": [
    "np.squeeze(utters, axis=1).shape"
   ]
  },
  {
   "cell_type": "code",
   "execution_count": null,
   "metadata": {},
   "outputs": [],
   "source": [
    "time_start = time.time()\n",
    "tsne = TSNE(n_components=2, verbose=1, perplexity=40, n_iter=10000)\n",
    "tsne_results = tsne.fit_transform(pd.DataFrame(np.squeeze(np.asarray(utters),1)))\n",
    "print('t-SNE done! Time elapsed: {} seconds'.format(time.time()-time_start))"
   ]
  },
  {
   "cell_type": "code",
   "execution_count": null,
   "metadata": {
    "scrolled": false
   },
   "outputs": [],
   "source": [
    "df_subset['tsne-2d-one'] = tsne_results[:,0]\n",
    "df_subset['tsne-2d-two'] = tsne_results[:,1]\n",
    "plt.figure(figsize=(16,10))\n",
    "sns.scatterplot(\n",
    "    x=\"tsne-2d-one\", y=\"tsne-2d-two\",\n",
    "    hue=\"y\",\n",
    "    palette=sns.color_palette(\"hls\", 168),\n",
    "    data=df_subset,\n",
    "    legend=\"brief\",\n",
    "    alpha=0.3\n",
    ")"
   ]
  },
  {
   "cell_type": "code",
   "execution_count": null,
   "metadata": {},
   "outputs": [],
   "source": [
    "y"
   ]
  },
  {
   "cell_type": "code",
   "execution_count": null,
   "metadata": {},
   "outputs": [],
   "source": [
    "plt.scatter(tsne_results[:,0], tsne_results[:,1])"
   ]
  },
  {
   "cell_type": "code",
   "execution_count": null,
   "metadata": {},
   "outputs": [],
   "source": [
    "sns.lmplot(x='_wef_',\n",
    "          y='__ewwf',\n",
    "          data = tsne_results,\n",
    "          fit_reg=False,\n",
    "          legend=True,\n",
    "          hue='speakers')"
   ]
  },
  {
   "cell_type": "code",
   "execution_count": null,
   "metadata": {},
   "outputs": [],
   "source": [
    "np.unique(y).shape"
   ]
  },
  {
   "cell_type": "code",
   "execution_count": null,
   "metadata": {},
   "outputs": [],
   "source": []
  }
 ],
 "metadata": {
  "kernelspec": {
   "display_name": "Python 3",
   "language": "python",
   "name": "python3"
  },
  "language_info": {
   "codemirror_mode": {
    "name": "ipython",
    "version": 3
   },
   "file_extension": ".py",
   "mimetype": "text/x-python",
   "name": "python",
   "nbconvert_exporter": "python",
   "pygments_lexer": "ipython3",
   "version": "3.6.9"
  }
 },
 "nbformat": 4,
 "nbformat_minor": 2
}
